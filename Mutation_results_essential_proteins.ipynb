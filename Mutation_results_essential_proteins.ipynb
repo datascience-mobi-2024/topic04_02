{
 "cells": [
  {
   "cell_type": "markdown",
   "metadata": {},
   "source": [
    "# Mutational analysis"
   ]
  },
  {
   "cell_type": "markdown",
   "metadata": {},
   "source": [
    "### Mutations based on essential proteins"
   ]
  },
  {
   "cell_type": "code",
   "execution_count": 1,
   "metadata": {},
   "outputs": [
    {
     "data": {
      "text/plain": [
       "\" import pandas as pd\\nimport os\\nimport pickle\\nfrom ThERMOS import ThERMOS\\ndata_path = './data/essential_proteins_final.csv'\\ness_prot_AFdb = (\\n    pd.read_csv(data_path)['AlphaFoldDB']\\n    .dropna()\\n    .str.replace(';', '')\\n    .apply(lambda x: f'AF-{x}-F1.pdb')\\n)\\n\\ness_prot_AFdb = ess_prot_AFdb.tolis()\\npath_pdb = './data/pdbs'\\npath_pqr = './data/pqrs'\\noutput_path = './data/test'\\n\\nMutator_dict = {}\\nno_pdb = []\\nfor entry in ess_prot_AFdb:\\n    if os.path.exists(os.path.join(path_pdb, entry)):\\n        Mutator_dict[entry] = ThERMOS(path_pdb, entry, path_pqr, Deep_mut = True)   #Default values chosen (10 000 random mutants, 100 rational iterations, Mutation acceptance at -0.005, seed = 0)\\n    else:\\n        no_pdb.append(entry)\\n    with(open('./data/Essential_proteins_mutated.pkl', 'rb')) as f: #saves new version after every protein, in run stops unexpectedly\\n        pickle.dump(Mutator_dict) \""
      ]
     },
     "execution_count": 1,
     "metadata": {},
     "output_type": "execute_result"
    }
   ],
   "source": [
    "#Executing this cell will take a long time\n",
    "#The finished Essential_proteins_mutated file can be found in the data dump, described on the github\n",
    "\n",
    "\n",
    "\"\"\" import pandas as pd\n",
    "import os\n",
    "import pickle\n",
    "from ThERMOS import ThERMOS\n",
    "data_path = './data/essential_proteins_final.csv'\n",
    "ess_prot_AFdb = (\n",
    "    pd.read_csv(data_path)['AlphaFoldDB']\n",
    "    .dropna()\n",
    "    .str.replace(';', '')\n",
    "    .apply(lambda x: f'AF-{x}-F1.pdb')\n",
    ")\n",
    "\n",
    "ess_prot_AFdb = ess_prot_AFdb.tolis()\n",
    "path_pdb = './data/pdbs'\n",
    "path_pqr = './data/pqrs'\n",
    "output_path = './data/test'\n",
    "\n",
    "Mutator_dict = {}\n",
    "no_pdb = []\n",
    "for entry in ess_prot_AFdb:\n",
    "    if os.path.exists(os.path.join(path_pdb, entry)):\n",
    "        Mutator_dict[entry] = ThERMOS(path_pdb, entry, path_pqr, Deep_mut = True)   #Default values chosen (10 000 random mutants, 100 rational iterations, Mutation acceptance at -0.005, seed = 0)\n",
    "    else:\n",
    "        no_pdb.append(entry)\n",
    "    with(open('./data/Essential_proteins_mutated.pkl', 'rb')) as f: #saves new version after every protein, in run stops unexpectedly\n",
    "        pickle.dump(Mutator_dict) \"\"\""
   ]
  },
  {
   "cell_type": "markdown",
   "metadata": {},
   "source": [
    "### Import mutation analysis results and clean up dataframe"
   ]
  },
  {
   "cell_type": "code",
<<<<<<< HEAD
   "execution_count": 24,
=======
   "execution_count": 6,
>>>>>>> 88cdd52 (test)
   "metadata": {},
   "outputs": [],
   "source": [
    "import pickle\n",
    "import pandas as pd\n",
    "import re\n",
    "import os\n",
    "\n",
    "if os.path.exists('./data/Essential_proteins_prediction_merged.csv'):\n",
    "    mutated_proteins: pd.DataFrame = pd.read_csv(os.path.join('./data', \"Essential_proteins_prediction_merged.csv\"), dtype=str)\n",
    "\n",
    "else:\n",
    "    with(open('./data/Essential_proteins_mutated.pkl', 'rb')) as f:\n",
    "        Mutated_proteins = pickle.load(f)\n",
    "\n",
    "    Mutated_df = pd.DataFrame(columns = ['Protein', 'WT_prediction', 'Mut_prediction', 'WT_diff', 'Mut_diff', 'WT_sequence', 'Mut_sequence', 'Mutations'])\n",
    "    for key in Mutated_proteins:\n",
    "        wt_prediction = Mutated_proteins[key][0][0][0][0]\n",
    "        mut_prediction = Mutated_proteins[key][0][1][0][0]\n",
    "        WT_diff = Mutated_proteins[key][2][0]\n",
    "        Mut_diff = Mutated_proteins[key][2][1]\n",
    "        wt_seq = ''.join(Mutated_proteins[key][1][0])\n",
    "        mut_seq = ''.join(Mutated_proteins[key][1][1])\n",
    "        mutations_list = []\n",
    "        for i in range(len(wt_seq)):\n",
    "            if wt_seq[i] != mut_seq[i]:\n",
    "                mutations_list.append(f'{wt_seq[i]}{i+1}{mut_seq[i]}')\n",
    "        new_row = [key.split('-')[1], wt_prediction, mut_prediction, WT_diff, Mut_diff, wt_seq, mut_seq, mutations_list]\n",
    "        #print(new_row)\n",
    "        Mutated_df.loc[len(Mutated_df)] = new_row\n",
    "        \n",
    "        \n",
    "    #Import Essential proteins original dataframe\n",
    "    Ess_prot = pd.read_csv('./data/essential_proteins_final.csv')\n",
    "    Ess_prot['AlphaFoldDB'] = Ess_prot['AlphaFoldDB'].str.replace(';', '', regex=False)\n",
    "\n",
    "\n",
    "    #Merge the two dataframes\n",
    "    Ess_prot_merged = pd.merge(Ess_prot, Mutated_df, left_on='AlphaFoldDB', right_on='Protein', how='left')\n",
    "\n",
    "    #clean up df\n",
    "    Ess_prot_merged['resi_change'] = Ess_prot_merged['Mutations'].apply(lambda x: '+'.join(re.findall(r'\\d+', str(x))) if x != [] else None)\n",
    "    Ess_prot_merged.drop(columns=['Protein', 'Sequence', 'WT_diff', 'Mut_diff'], inplace=True, errors='ignore')\n",
    "\n",
    "    #Add Tm Increase\n",
    "    Ess_prot_merged['Temp_diff'] = Ess_prot_merged['Mut_prediction'] - Ess_prot_merged['WT_prediction']\n",
    "    Ess_prot_merged['Mut_number'] = Ess_prot_merged['Mutations'].apply(lambda x: len(x) if isinstance(x, list) else 0)\n",
    "    Ess_prot_merged['rel_Mut_number'] = Ess_prot_merged.apply(lambda row: row['Mut_number'] / len(row['WT_sequence']) if row['Mut_number'] != 0 else 0, axis=1)\n",
    "    Ess_prot_merged['WT_diff'] = Ess_prot_merged['WT_prediction'] - Ess_prot_merged['meltPoint_x']\n",
    "\n",
    "    Ess_prot_merged['meltPoint_x'] = Ess_prot_merged['meltPoint_x'].astype('float64')\n",
    "    Ess_prot_merged['WT_prediction'] = Ess_prot_merged['WT_prediction'].astype('float64')\n",
    "    Ess_prot_merged['Mut_prediction'] = Ess_prot_merged['Mut_prediction'].astype('float64')\n",
    "    Ess_prot_merged['error_WTpred'] = Ess_prot_merged['WT_prediction'] - Ess_prot_merged['meltPoint_x']\n",
    "        \n",
    "    #save new df to csv\n",
    "    Ess_prot_merged.to_csv('./data/Essential_proteins_prediction_merged.csv', index=False)\n",
    "\n",
    "\n",
    "mutated_proteins = Ess_prot_merged"
   ]
  },
  {
   "cell_type": "markdown",
   "metadata": {},
   "source": [
    "### Calculate significance"
   ]
  },
  {
   "cell_type": "markdown",
   "metadata": {},
   "source": [
    "##### Check if data has a normal distributions"
   ]
  },
  {
   "cell_type": "code",
<<<<<<< HEAD
   "execution_count": 31,
=======
   "execution_count": 3,
>>>>>>> 88cdd52 (test)
   "metadata": {},
   "outputs": [
    {
     "name": "stdout",
     "output_type": "stream",
     "text": [
      "Escherichia_coli\n",
      "    Percentage of mutated protein from Escherichia_coli with > 10 °C above wt: 42.86%\n",
      "    Measured melt point\n",
      "      NormaltestResult(statistic=8.913806967846739, pvalue=0.011598221820882432)\n",
      "    Predicted wt\n",
      "      NormaltestResult(statistic=35.70432703053355, pvalue=1.765647058678735e-08)\n",
      "    Predicted mutant\n",
      "      NormaltestResult(statistic=27.768694815212715, pvalue=9.33478965082448e-07)\n",
      "\n",
      "Bacillus_subtilis\n",
      "    Percentage of mutated protein from Bacillus_subtilis with > 10 °C above wt: 50.77%\n",
      "    Measured melt point\n",
      "      NormaltestResult(statistic=2.1229310771268572, pvalue=0.34594843785726864)\n",
      "    Predicted wt\n",
      "      NormaltestResult(statistic=48.011250198651396, pvalue=3.7539586515863176e-11)\n",
      "    Predicted mutant\n",
      "      NormaltestResult(statistic=61.61792779067247, pvalue=4.1671294046110076e-14)\n",
      "\n",
      "Thermus_thermophilus\n",
      "    Percentage of mutated protein from Thermus_thermophilus with > 10 °C above wt: 0.00%\n",
      "    Not enough data to test for normal distribution\n",
      "\n",
      "Picrophilus_torridus\n",
      "    Percentage of mutated protein from Picrophilus_torridus with > 10 °C above wt: 0.00%\n",
      "    Not enough data to test for normal distribution\n",
      "\n"
     ]
    }
   ],
   "source": [
    "import pandas as pd\n",
    "import matplotlib.pyplot as plt\n",
    "from scipy import stats\n",
    "\n",
    "Organisms = ['Escherichia coli (strain K12)', 'Bacillus subtilis (strain 168)', 'Thermus thermophilus (strain ATCC BAA-163 / DSM 7039 / HB27)', 'Picrophilus torridus (strain ATCC 700027 / DSM 9790 / JCM 10055 / NBRC 100828 / KAW 2/3)']\n",
    "\n",
    "Ess_prot_merged_drop = Ess_prot_merged.dropna(subset=['Temp_diff'])\n",
    "Ess_prot_merged_drop = Ess_prot_merged_drop[Ess_prot_merged_drop['Temp_diff'] != 0]\n",
    "\n",
    "\n",
    "# Filter rows where 'Temp_diff' is 10°C or above\n",
    "for entry in Organisms:\n",
    "    Org = '_'.join(entry.split(' ')[0:2])\n",
    "    print(f'{Org}')\n",
    "    Ess_prot_merged_organism = Ess_prot_merged_drop.copy()\n",
    "    Ess_prot_merged_organism = Ess_prot_merged_organism[Ess_prot_merged_organism['Organism'] == entry]\n",
    "    temp_above_10 = Ess_prot_merged_organism[Ess_prot_merged_organism['Temp_diff'] >= 10]\n",
    "    percentage_above_10 = (len(temp_above_10) / len(Ess_prot_merged_organism)) * 100\n",
    "    print(f\"    Percentage of mutated protein from {Org} with > 10 °C above wt: {percentage_above_10:.2f}%\")\n",
    "    \n",
    "    \n",
    "    #test for normal distribution\n",
    "    if len(Ess_prot_merged_organism) < 8:\n",
    "        print(f'    Not enough data to test for normal distribution\\n')\n",
    "    else:\n",
    "        print(f'    Measured melt point\\n      {stats.normaltest(Ess_prot_merged_organism['meltPoint_x'])}')\n",
    "        print(f'    Predicted wt\\n      {stats.normaltest(Ess_prot_merged_organism['WT_prediction'])}')\n",
    "        print(f'    Predicted mutant\\n      {stats.normaltest(Ess_prot_merged_organism['Mut_prediction'])}\\n')\n",
    "\n",
    "\n"
   ]
  },
  {
   "cell_type": "markdown",
   "metadata": {},
   "source": [
    "##### Analyse significance and calculate p-Values\n",
    "Calculating temperature dependent error of the regression for predicted melting points of mutated proteins. The respective function was taken from pca & regression jupyter notebook. The error of the WT prediction was calculated as its difference from the actual meltPoint value."
   ]
  },
  {
   "cell_type": "code",
   "execution_count": 32,
   "metadata": {},
   "outputs": [
    {
     "name": "stderr",
     "output_type": "stream",
     "text": [
      "C:\\Users\\marik\\AppData\\Local\\Temp\\ipykernel_23220\\4204138647.py:10: SettingWithCopyWarning: \n",
      "A value is trying to be set on a copy of a slice from a DataFrame.\n",
      "Try using .loc[row_indexer,col_indexer] = value instead\n",
      "\n",
      "See the caveats in the documentation: https://pandas.pydata.org/pandas-docs/stable/user_guide/indexing.html#returning-a-view-versus-a-copy\n",
      "  mutated_proteins['error_Mutpred'] = mutated_proteins['Mut_prediction'].apply(lambda x: error_func(x))\n"
     ]
    }
   ],
   "source": [
    "a = 7.456947114103443e-08\n",
    "b = -3.19495740695305e-05\n",
    "c = 0.0056160605705701215\n",
    "d = -0.5174164345246695\n",
    "e = 26.292297400105916\n",
    "f = -697.0084579985947\n",
    "g = 7524.223396560092\n",
    "def error_func(temperature):\n",
    "    return a*temperature**6 + b*temperature**5 + c*temperature**4 + d*temperature**3 + e*temperature**2 + f*temperature + g\n",
    "mutated_proteins['error_Mutpred'] = mutated_proteins['Mut_prediction'].apply(lambda x: error_func(x))\n",
    "mutated_proteins = mutated_proteins.dropna(subset=['Mut_prediction'])\n",
    "mutated_proteins['error_WTpred'] = mutated_proteins['WT_prediction'] - mutated_proteins['meltPoint_x']"
   ]
  },
  {
   "cell_type": "markdown",
   "metadata": {},
   "source": [
    "Computing wilcoxon signed rank test with integrating regression errors: This is done by bootstrapping each data point by adding a random error from a normal distribution of errors."
   ]
  },
  {
   "cell_type": "code",
   "execution_count": 28,
   "metadata": {},
   "outputs": [
    {
     "name": "stderr",
     "output_type": "stream",
     "text": [
      "C:\\Users\\marik\\AppData\\Local\\Temp\\ipykernel_23220\\2058024606.py:23: DeprecationWarning: DataFrameGroupBy.apply operated on the grouping columns. This behavior is deprecated, and in a future version of pandas the grouping columns will be excluded from the operation. Either pass `include_groups=False` to exclude the groupings or explicitly select the grouping columns after groupby to silence this warning.\n",
      "  pval_mut_WT = mutated_proteins.groupby('Organism').apply(\n",
      "C:\\Users\\marik\\AppData\\Local\\Temp\\ipykernel_23220\\2058024606.py:27: DeprecationWarning: DataFrameGroupBy.apply operated on the grouping columns. This behavior is deprecated, and in a future version of pandas the grouping columns will be excluded from the operation. Either pass `include_groups=False` to exclude the groupings or explicitly select the grouping columns after groupby to silence this warning.\n",
      "  pval_melt_WT = mutated_proteins.groupby('Organism').apply(\n"
     ]
    }
   ],
   "source": [
    "import numpy as np\n",
    "from scipy.stats import wilcoxon\n",
    "\n",
    "def wilcoxon_bootstrap(WT_pred, Mut_pred, error_WT, error_mut, num_bootstrap_samples):\n",
    "    w_statistics = []\n",
    "    p_values = []\n",
    "\n",
    "    for _ in range(num_bootstrap_samples):\n",
    "        # Generate a bootstrap samples with error noise generated from the regression errors\n",
    "        bootstrap_sample_WT = WT_pred + np.random.normal(0, error_WT)\n",
    "        bootstrap_sample_mut = Mut_pred + np.random.normal(0, error_mut)\n",
    "        \n",
    "        # Perform wilcoxon signed rank test on the bootstrap samples\n",
    "        w_statistic, p_value = wilcoxon(bootstrap_sample_WT, bootstrap_sample_mut)\n",
    "        w_statistics.append(w_statistic)\n",
    "        p_values.append(p_value)\n",
    "\n",
    "    mean_w_statistic = np.mean(w_statistics)\n",
    "    mean_p_value = np.mean(p_values)\n",
    "    return mean_w_statistic, mean_p_value\n",
    "\n",
    "\n",
    "pval_mut_WT = mutated_proteins.groupby('Organism').apply(\n",
    "     lambda x: wilcoxon_bootstrap(x['WT_prediction'], x['Mut_prediction'], abs(x['error_WTpred']), abs(x['error_Mutpred']), 1000)\n",
    ")\n",
    "\n",
    "pval_melt_WT = mutated_proteins.groupby('Organism').apply(\n",
    "    lambda x: wilcoxon(x['WT_prediction'], x['meltPoint_x'])\n",
    ")"
   ]
  },
  {
   "cell_type": "code",
   "execution_count": 38,
   "metadata": {},
   "outputs": [
    {
     "name": "stdout",
     "output_type": "stream",
     "text": [
      "meltPoint_WT for B. subtilis: 0.0000 (****)\n",
      "meltPoint_WT for E. coli: 0.0000 (****)\n",
      "meltPoint_WT for P. torridus: 1.0000 (ns)\n",
      "meltPoint_WT for T. thermophilus: 0.2500 (ns)\n",
      "WT_Mut for B. subtilis: 0.0000 (****)\n",
      "WT_Mut for E. coli: 0.0010 (***)\n",
      "WT_Mut for P. torridus: 0.7488 (ns)\n",
      "WT_Mut for T. thermophilus: 0.6166 (ns)\n"
     ]
    },
    {
     "name": "stderr",
     "output_type": "stream",
     "text": [
      "C:\\Users\\marik\\AppData\\Local\\Temp\\ipykernel_23220\\3918218294.py:3: FutureWarning: Series.__getitem__ treating keys as positions is deprecated. In a future version, integer keys will always be treated as labels (consistent with DataFrame behavior). To access a value by position, use `ser.iloc[pos]`\n",
      "  'B. subtilis': pval_melt_WT[0][1],\n",
      "C:\\Users\\marik\\AppData\\Local\\Temp\\ipykernel_23220\\3918218294.py:4: FutureWarning: Series.__getitem__ treating keys as positions is deprecated. In a future version, integer keys will always be treated as labels (consistent with DataFrame behavior). To access a value by position, use `ser.iloc[pos]`\n",
      "  'E. coli': pval_melt_WT[1][1],\n",
      "C:\\Users\\marik\\AppData\\Local\\Temp\\ipykernel_23220\\3918218294.py:5: FutureWarning: Series.__getitem__ treating keys as positions is deprecated. In a future version, integer keys will always be treated as labels (consistent with DataFrame behavior). To access a value by position, use `ser.iloc[pos]`\n",
      "  'P. torridus': pval_melt_WT[2][1],\n",
      "C:\\Users\\marik\\AppData\\Local\\Temp\\ipykernel_23220\\3918218294.py:6: FutureWarning: Series.__getitem__ treating keys as positions is deprecated. In a future version, integer keys will always be treated as labels (consistent with DataFrame behavior). To access a value by position, use `ser.iloc[pos]`\n",
      "  'T. thermophilus': pval_melt_WT[3][1]\n",
      "C:\\Users\\marik\\AppData\\Local\\Temp\\ipykernel_23220\\3918218294.py:9: FutureWarning: Series.__getitem__ treating keys as positions is deprecated. In a future version, integer keys will always be treated as labels (consistent with DataFrame behavior). To access a value by position, use `ser.iloc[pos]`\n",
      "  'B. subtilis': pval_mut_WT[0][1],\n",
      "C:\\Users\\marik\\AppData\\Local\\Temp\\ipykernel_23220\\3918218294.py:10: FutureWarning: Series.__getitem__ treating keys as positions is deprecated. In a future version, integer keys will always be treated as labels (consistent with DataFrame behavior). To access a value by position, use `ser.iloc[pos]`\n",
      "  'E. coli': pval_mut_WT[1][1],\n",
      "C:\\Users\\marik\\AppData\\Local\\Temp\\ipykernel_23220\\3918218294.py:11: FutureWarning: Series.__getitem__ treating keys as positions is deprecated. In a future version, integer keys will always be treated as labels (consistent with DataFrame behavior). To access a value by position, use `ser.iloc[pos]`\n",
      "  'P. torridus': pval_mut_WT[2][1],\n",
      "C:\\Users\\marik\\AppData\\Local\\Temp\\ipykernel_23220\\3918218294.py:12: FutureWarning: Series.__getitem__ treating keys as positions is deprecated. In a future version, integer keys will always be treated as labels (consistent with DataFrame behavior). To access a value by position, use `ser.iloc[pos]`\n",
      "  'T. thermophilus': pval_mut_WT[3][1]\n"
     ]
    }
   ],
   "source": [
    "p_values = {\n",
    "    'meltPoint_WT': {\n",
    "        'B. subtilis': pval_melt_WT[0][1],\n",
    "        'E. coli': pval_melt_WT[1][1],\n",
    "        'P. torridus': pval_melt_WT[2][1],\n",
    "        'T. thermophilus': pval_melt_WT[3][1] \n",
    "    },\n",
    "    'WT_Mut': {\n",
    "        'B. subtilis': pval_mut_WT[0][1],\n",
    "        'E. coli': pval_mut_WT[1][1],\n",
    "        'P. torridus': pval_mut_WT[2][1],\n",
    "        'T. thermophilus': pval_mut_WT[3][1]\n",
    "    }\n",
    "}\n",
    "\n",
    "def p_to_asterisks(p):\n",
    "    if p < 0.0001:\n",
    "        return '****'\n",
    "    elif p < 0.001:\n",
    "        return '***'\n",
    "    elif p < 0.01:\n",
    "        return '**'\n",
    "    elif p < 0.05:\n",
    "        return '*'\n",
    "    else:\n",
    "        return 'ns'\n",
    "    \n",
    "for key in p_values:\n",
    "    for key2 in p_values[key]:\n",
    "        print(f'{key} for {key2}: {p_values[key][key2]:.4f} ({p_to_asterisks(p_values[key][key2])})')"
   ]
  },
  {
   "cell_type": "code",
   "execution_count": 39,
   "metadata": {},
   "outputs": [
    {
     "name": "stdout",
     "output_type": "stream",
     "text": [
      "{'meltPoint_WT': {'B. subtilis': 2.0208647473238323e-12, 'E. coli': 1.6696867533028126e-07, 'P. torridus': 1.0, 'T. thermophilus': 0.25}, 'WT_Mut': {'B. subtilis': 3.698793202779254e-06, 'E. coli': 0.0009591097896860447, 'P. torridus': 0.7488, 'T. thermophilus': 0.616575}}\n"
     ]
    }
   ],
   "source": [
    "print(p_values)"
   ]
  },
  {
   "cell_type": "markdown",
   "metadata": {},
   "source": [
    "### Visualize mutation results"
   ]
  },
  {
   "cell_type": "code",
   "execution_count": 65,
   "metadata": {},
   "outputs": [
    {
     "name": "stdout",
     "output_type": "stream",
     "text": [
      "Mutated proteins: 115\n",
      "Proteins with melting point improvement: 103\n"
     ]
    }
   ],
   "source": [
    "Ess_prot_merged = Ess_prot_merged.dropna(subset=['meltPoint_x', 'WT_prediction', 'Mut_prediction']).reset_index(drop=True)\n",
    "print(f'Mutated proteins: {len(Ess_prot_merged)}')\n",
    "print(f'Proteins with melting point improvement: {len(Ess_prot_merged[Ess_prot_merged[\"Temp_diff\"] > 0])}')"
   ]
  },
  {
   "cell_type": "code",
   "execution_count": 55,
   "metadata": {},
   "outputs": [
    {
     "data": {
      "image/png": "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",
      "text/plain": [
       "<Figure size 625x400 with 1 Axes>"
      ]
     },
     "metadata": {},
     "output_type": "display_data"
    }
   ],
   "source": [
    "import seaborn as sns\n",
    "import matplotlib.pyplot as plt\n",
    "import matplotlib.lines as mlines\n",
    "import os\n",
    "import pandas as pd\n",
    "\n",
    "plt.figure(figsize=(6.25, 4))\n",
    "\n",
    "long_df = pd.melt(Ess_prot_merged, id_vars=['Organism'], value_vars=['meltPoint_x','WT_prediction', 'Mut_prediction'], var_name='Prediction_Type', value_name='Temp_Value')\n",
    "\n",
    "sns.boxplot(data=long_df, x='Organism', y='Temp_Value', hue='Prediction_Type', palette = 'deep', showmeans = True, meanprops={\"marker\":\".\",\"markerfacecolor\":\"gray\", \"markeredgecolor\":\"gray\", \"markersize\":\"1\", \"color\":\"gray\"}, meanline=True)\n",
    "new_label = ['B. subtilis', 'E. coli', 'P. torridus', 'T. thermophilus']\n",
    "plt.ylabel('Protein melt point [°C]', size=10)\n",
    "plt.xticks(ticks=range(len(new_label)), labels=new_label, rotation=0, size=10)\n",
    "plt.xlabel('Organism', size=12)\n",
    "legend = plt.legend(title='', fontsize=10)\n",
    "new_legend_label = ['WT measured melt point', 'WT predicted melt point', 'mutant predicted melt point']\n",
    "for text, label in zip(legend.texts, new_legend_label):\n",
    "    text.set_text(label)\n",
    "\n",
    "\n",
    "\n",
    "#annotate p-values\n",
    "hue_order = long_df['Prediction_Type'].unique()\n",
    "n_hues = len(hue_order)\n",
    "width = 0.8\n",
    "spacing = width / n_hues\n",
    "\n",
    "\n",
    "ax = plt.gca()\n",
    "y_min, y_max = ax.get_ylim()\n",
    "y_max +=5\n",
    "plt.ylim(y_min, y_max)\n",
    "\n",
    "sample_size = long_df.groupby(['Organism', 'Prediction_Type'])['Temp_Value'].size().unstack()\n",
    "# Annotate with sample size\n",
    "ax = plt.gca()\n",
    "for i, row in sample_size.iterrows():  # Iterate through each organism\n",
    "    for col, value in row.items():  # Iterate through prediction type within organism\n",
    "        if not pd.isna(value):  # Check for missing values\n",
    "            x_pos = i  # X position based on organism index\n",
    "            #y_pos = ax.get_position().y1  # Get bottom of the plot for annotation placement\n",
    "            y_pos = y_max - 20\n",
    "            ax.text(x_pos, y_pos+20, f\"n={int(value)}\", ha='center', va='bottom', fontsize=8)\n",
    "\n",
    "for i, org in enumerate(new_label):\n",
    "    for j, hue in enumerate(hue_order):\n",
    "        key = f'{hue_order[j-1].split('_')[0]}_{hue.split('_')[0]}'\n",
    "        if key in p_values.keys():\n",
    "            p = p_values[key][org]\n",
    "            p_asterisks = p_to_asterisks(p)\n",
    "            x = i + j * spacing - width / 2 \n",
    "            y = y_max - 4\n",
    "            line = mlines.Line2D([x-spacing/2.5,x+spacing/2.5],[y,y], color='black', linestyle='-', linewidth=1)\n",
    "            line_v1 = mlines.Line2D([x-spacing/2.5,x-spacing/2.5], [y-2, y], color='black', linestyle='-', linewidth=1)\n",
    "            line_v2 = mlines.Line2D([x+spacing/2.5,x+spacing/2.5], [y-2, y], color='black', linestyle='-', linewidth=1)\n",
    "\n",
    "\n",
    "            plt.gca().add_line(line)    \n",
    "            plt.gca().add_line(line_v1)\n",
    "            plt.gca().add_line(line_v2)\n",
    "            plt.text(x, y, p_asterisks, ha='center', va='bottom', fontsize=10)\n",
    "\n",
    "os.chdir('./data')\n",
    "plt.savefig('essential_proteins_boxplot.svg', format='svg')\n",
    "os.chdir('../')\n",
    "plt.show()"
   ]
  },
  {
   "cell_type": "markdown",
   "metadata": {},
   "source": [
    "#### Example for ThERMless\n",
    "The protein P094501_gltR was manually selected, due to its high mutational load.\n",
    "ThERMless reduces mutations until a certain threshhold is reached (in this case 90 % of original melt point difference)\n",
    "\n",
    "3D structures of the wild type, original mutant, mutant with reverted catalytical amino acids and reduced mutant were predicted using the AlphaFold 3 server and analysed in PyMol"
   ]
  },
  {
   "cell_type": "code",
   "execution_count": null,
   "metadata": {},
   "outputs": [],
   "source": [
    "from ThERMOS import ThERMless\n",
    "from SPARC import SPARC\n",
    "\n",
    "protein_to_analyse = 'P94501_gltR'\n",
    "selected_row = Ess_prot_merged[Ess_prot_merged['Protein_ID'] == protein_to_analyse]\n",
    "wt = selected_row['WT_sequence'].iloc[0]\n",
    "mut = selected_row['Mut_sequence'].iloc[0]\n",
    "wt_temp = selected_row['WT_prediction'].iloc[0]\n",
    "mut_temp = selected_row['Mut_prediction'].iloc[0]\n",
    "\n",
    "red_mut = ThERMless(mut_temp, wt_temp, wt, mut, name = protein_to_analyse, cutoff= 0.9)\n",
    "\n",
    "#Analyse results of mutation_decreaser\n",
    "red_seq = red_mut[0]\n",
    "reduced_mut = []\n",
    "for i in range(len(red_seq)):\n",
    "    if red_seq[i] != mut[i]:\n",
    "        reduced_mut.append(i+1)\n",
    "print(f'Mutations reverted: {reduced_mut}')\n",
    "print(f'Number of reverted mutations {len(reduced_mut)}')\n",
    "print(f'New amino acid sequence {red_seq}')\n",
    "\n",
    "red_mut_list = []\n",
    "for i in range(len(wt)):\n",
    "    if wt[i] != red_seq[i]:\n",
    "        red_mut_list.append(i+1)\n",
    "        \n",
    "print(f'Mutation position formatted for resi selection in pymol{'+'.join([str(x) for x in red_mut_list])}')\n",
    "\n",
    "\n",
    "#Calculate new temperature\n",
    "wt_pred = 45.76974259982553 # predicted wild type melt point\n",
    "mut_pred = 84.11407590083442 # predicted original mutant melt point\n",
    "mP = 44.6681154920215 # measured melt point\n",
    "#mutant with reverted acive center amino acids, new mutant after reducing the number of mutations and reverting active center amino acids\n",
    "mut_az = 'MNIQLLQVFLTAAREGSISKAALTLNYAQSNVTNKIQQLENDLETKLFYRHSRGIALTPPGELLVAYSEKILHTIEEARAARGESSARSGPLRLGARETAAAVWLPQLLAHYNNLYPNVDLNLVTGPTEQEIEAVLHYELNGAFIPGPLEHPDLVEEKVLDEEMVLVRPAPHPVLPPLEDVRARRKLVFRKGCNYRARLNHLLREEGLLPLKLMEFGLLEALLGCVNARLGNNLLPRNNNASHEKEARNRYHRNYDKYYFVARMFVRRKDRLVRPARWAFLRHMRDHFRVKRPARW'\n",
    "new_mut = 'MNIQLLQVFLTAAREGSISKAALTLNYAQSNVTNKIQQLENDLETKLFYRHSRGIALTPPGELLVAYSEKILHTIEEARAAMGESSAPSGPLRLGAMETAAAVWLPQLLAHYNNLYPNVDLNLVTGPTEQEIEAVLHYELNGAFIPGPLEHPDLVEEKVLDEEMVLVTPAPHPVLPPLEDVQAQTKLVFRKGCNYRARLNHLLQEEGLLPLKLMEFGLLEALLGCVNAGLGNNLLPRNNNASHEKEARNRYHTNYDKYYFVATMFVRRKDTLVTPALWAFLTHMRDHFQVKRPARW'\n",
    "\n",
    "az_temp = SPARC(mut_az, 'az', './data', './data/s4pred')[0][0]\n",
    "new_temp = SPARC(new_mut, 'new', './data', './data/s4pred')[0][0]\n",
    "\n",
    "print(f'Temperature mut_az:  {az_temp}')\n",
    "print(f'Temperature new_mut: {new_temp}')"
   ]
  }
 ],
 "metadata": {
  "kernelspec": {
   "display_name": "Python 3",
   "language": "python",
   "name": "python3"
  },
  "language_info": {
   "codemirror_mode": {
    "name": "ipython",
    "version": 3
   },
   "file_extension": ".py",
   "mimetype": "text/x-python",
   "name": "python",
   "nbconvert_exporter": "python",
   "pygments_lexer": "ipython3",
   "version": "3.12.4"
  }
 },
 "nbformat": 4,
 "nbformat_minor": 2
}
