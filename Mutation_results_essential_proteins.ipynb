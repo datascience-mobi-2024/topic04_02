{
 "cells": [
  {
   "cell_type": "markdown",
   "metadata": {},
   "source": [
    "# Mutational analysis"
   ]
  },
  {
   "cell_type": "markdown",
   "metadata": {},
   "source": [
    "### Creating mutations based on essential proteins\n",
    "(Obtained from different notebook)"
   ]
  },
  {
   "cell_type": "markdown",
   "metadata": {},
   "source": [
    "### Import mutation analysis results and clean up dataframe"
   ]
  },
  {
   "cell_type": "code",
   "execution_count": 2,
   "metadata": {},
   "outputs": [],
   "source": [
    "import pickle\n",
    "import pandas as pd\n",
    "import re\n",
    "\n",
    "with(open('./data/Essential_proteins_mutated.pkl', 'rb')) as f:\n",
    "    Mutated_proteins = pickle.load(f)\n",
    "\n",
    "Mutated_df = pd.DataFrame(columns = ['Protein', 'WT_prediction', 'Mut_prediction', 'WT_diff', 'Mut_diff', 'WT_sequence', 'Mut_sequence', 'Mutations'])\n",
    "for key in Mutated_proteins:\n",
    "    wt_prediction = Mutated_proteins[key][0][0][0][0]\n",
    "    mut_prediction = Mutated_proteins[key][0][1][0][0]\n",
    "    WT_diff = Mutated_proteins[key][2][0]\n",
    "    Mut_diff = Mutated_proteins[key][2][1]\n",
    "    wt_seq = ''.join(Mutated_proteins[key][1][0])\n",
    "    mut_seq = ''.join(Mutated_proteins[key][1][1])\n",
    "    mutations_list = []\n",
    "    for i in range(len(wt_seq)):\n",
    "        if wt_seq[i] != mut_seq[i]:\n",
    "            mutations_list.append(f'{wt_seq[i]}{i+1}{mut_seq[i]}')\n",
    "    new_row = [key.split('-')[1], wt_prediction, mut_prediction, WT_diff, Mut_diff, wt_seq, mut_seq, mutations_list]\n",
    "    #print(new_row)\n",
    "    Mutated_df.loc[len(Mutated_df)] = new_row\n",
    "    \n",
    "    \n",
    "#Import Essential proteins original dataframe\n",
    "Ess_prot = pd.read_csv('./data/essential_proteins_final.csv')\n",
    "Ess_prot['AlphaFoldDB'] = Ess_prot['AlphaFoldDB'].str.replace(';', '', regex=False)\n",
    "\n",
    "\n",
    "#Merge the two dataframes\n",
    "Ess_prot_merged = pd.merge(Ess_prot, Mutated_df, left_on='AlphaFoldDB', right_on='Protein', how='left')\n",
    "\n",
    "#clean up df\n",
    "Ess_prot_merged['resi_change'] = Ess_prot_merged['Mutations'].apply(lambda x: '+'.join(re.findall(r'\\d+', str(x))) if x != [] else None)\n",
    "Ess_prot_merged.drop(columns=['Protein', 'Sequence', 'WT_diff', 'Mut_diff'], inplace=True, errors='ignore')\n",
    "\n",
    "#Add Tm Increase\n",
    "Ess_prot_merged['Temp_diff'] = Ess_prot_merged['Mut_prediction'] - Ess_prot_merged['WT_prediction']\n",
    "Ess_prot_merged['Mut_number'] = Ess_prot_merged['Mutations'].apply(lambda x: len(x) if isinstance(x, list) else 0)\n",
    "Ess_prot_merged['rel_Mut_number'] = Ess_prot_merged.apply(lambda row: row['Mut_number'] / len(row['WT_sequence']) if row['Mut_number'] != 0 else 0, axis=1)\n",
    "Ess_prot_merged['WT_diff'] = Ess_prot_merged['WT_prediction'] - Ess_prot_merged['meltPoint_x']\n",
    "\n",
    "Ess_prot_merged['meltPoint_x'] = Ess_prot_merged['meltPoint_x'].astype('float64')\n",
    "Ess_prot_merged['WT_prediction'] = Ess_prot_merged['WT_prediction'].astype('float64')\n",
    "Ess_prot_merged['Mut_prediction'] = Ess_prot_merged['Mut_prediction'].astype('float64')\n",
    "Ess_prot_merged['error_WTpred'] = Ess_prot_merged['WT_prediction'] - Ess_prot_merged['meltPoint_x']\n",
    "\n",
    "#save new df to csv\n",
    "#Ess_prot_merged.to_csv('./data/Essential_proteins_prediction_merged.csv', index=False)\n",
    "\n",
    "#If Ess_prot_merged is already saved, load it\n",
    "#mutated_proteins: pd.DataFrame = pd.read_csv(os.path.join(path, \"Essential_proteins_prediction_merged.csv\"), dtype=str)\n",
    "\n",
    "mutated_proteins = Ess_prot_merged\n"
   ]
  },
  {
   "cell_type": "markdown",
   "metadata": {},
   "source": [
    "### Calculate significance"
   ]
  },
  {
   "cell_type": "markdown",
   "metadata": {},
   "source": [
    "##### Check if data has a normal distributions"
   ]
  },
  {
   "cell_type": "code",
   "execution_count": 3,
   "metadata": {},
   "outputs": [
    {
     "name": "stdout",
     "output_type": "stream",
     "text": [
      "Escherichia_coli\n",
      "    Percentage of mutated protein from Escherichia_coli with > 10 °C above wt: 42.86%\n",
      "    Measured melt point\n",
      "      NormaltestResult(statistic=8.913806967846739, pvalue=0.011598221820882432)\n",
      "    Predicted wt\n",
      "      NormaltestResult(statistic=35.70432703053355, pvalue=1.765647058678735e-08)\n",
      "    Predicted mutant\n",
      "      NormaltestResult(statistic=27.768694815212715, pvalue=9.33478965082448e-07)\n",
      "\n",
      "Bacillus_subtilis\n",
      "    Percentage of mutated protein from Bacillus_subtilis with > 10 °C above wt: 50.77%\n",
      "    Measured melt point\n",
      "      NormaltestResult(statistic=2.1229310771268572, pvalue=0.34594843785726864)\n",
      "    Predicted wt\n",
      "      NormaltestResult(statistic=48.011250198651396, pvalue=3.7539586515863176e-11)\n",
      "    Predicted mutant\n",
      "      NormaltestResult(statistic=61.61792779067247, pvalue=4.1671294046110076e-14)\n",
      "\n",
      "Thermus_thermophilus\n",
      "    Percentage of mutated protein from Thermus_thermophilus with > 10 °C above wt: 0.00%\n",
      "    Not enough data to test for normal distribution\n",
      "\n",
      "Picrophilus_torridus\n",
      "    Percentage of mutated protein from Picrophilus_torridus with > 10 °C above wt: 0.00%\n",
      "    Not enough data to test for normal distribution\n",
      "\n"
     ]
    }
   ],
   "source": [
    "import pandas as pd\n",
    "import matplotlib.pyplot as plt\n",
    "from scipy import stats\n",
    "\n",
    "Organisms = ['Escherichia coli (strain K12)', 'Bacillus subtilis (strain 168)', 'Thermus thermophilus (strain ATCC BAA-163 / DSM 7039 / HB27)', 'Picrophilus torridus (strain ATCC 700027 / DSM 9790 / JCM 10055 / NBRC 100828 / KAW 2/3)']\n",
    "\n",
    "Ess_prot_merged_drop = Ess_prot_merged.dropna(subset=['Temp_diff'])\n",
    "Ess_prot_merged_drop = Ess_prot_merged_drop[Ess_prot_merged_drop['Temp_diff'] != 0]\n",
    "\n",
    "\n",
    "# Filter rows where 'Temp_diff' is 10°C or above\n",
    "for entry in Organisms:\n",
    "    Org = '_'.join(entry.split(' ')[0:2])\n",
    "    print(f'{Org}')\n",
    "    Ess_prot_merged_organism = Ess_prot_merged_drop.copy()\n",
    "    Ess_prot_merged_organism = Ess_prot_merged_organism[Ess_prot_merged_organism['Organism'] == entry]\n",
    "    temp_above_10 = Ess_prot_merged_organism[Ess_prot_merged_organism['Temp_diff'] >= 10]\n",
    "    percentage_above_10 = (len(temp_above_10) / len(Ess_prot_merged_organism)) * 100\n",
    "    print(f\"    Percentage of mutated protein from {Org} with > 10 °C above wt: {percentage_above_10:.2f}%\")\n",
    "    \n",
    "    \n",
    "    #test for normal distribution\n",
    "    if len(Ess_prot_merged_organism) < 8:\n",
    "        print(f'    Not enough data to test for normal distribution\\n')\n",
    "    else:\n",
    "        print(f'    Measured melt point\\n      {stats.normaltest(Ess_prot_merged_organism['meltPoint_x'])}')\n",
    "        print(f'    Predicted wt\\n      {stats.normaltest(Ess_prot_merged_organism['WT_prediction'])}')\n",
    "        print(f'    Predicted mutant\\n      {stats.normaltest(Ess_prot_merged_organism['Mut_prediction'])}\\n')\n",
    "    \n",
    "\n",
    "\n",
    "\n"
   ]
  },
  {
   "cell_type": "markdown",
   "metadata": {},
   "source": [
    "##### Analyse significance and calculate p-Values\n",
    "Calculating temperature dependent error of the regression for predicted melting points of mutated proteins. The respective function was taken from pca & regression jupyter notebook. The error of the WT prediction was calculated as its difference from the actual meltPoint value."
   ]
  },
  {
   "cell_type": "code",
   "execution_count": 4,
   "metadata": {},
   "outputs": [
    {
     "name": "stderr",
     "output_type": "stream",
     "text": [
      "C:\\Users\\marik\\AppData\\Local\\Temp\\ipykernel_6160\\4204138647.py:12: SettingWithCopyWarning: \n",
      "A value is trying to be set on a copy of a slice from a DataFrame.\n",
      "Try using .loc[row_indexer,col_indexer] = value instead\n",
      "\n",
      "See the caveats in the documentation: https://pandas.pydata.org/pandas-docs/stable/user_guide/indexing.html#returning-a-view-versus-a-copy\n",
      "  mutated_proteins['error_WTpred'] = mutated_proteins['WT_prediction'] - mutated_proteins['meltPoint_x']\n"
     ]
    }
   ],
   "source": [
    "a = 7.456947114103443e-08\n",
    "b = -3.19495740695305e-05\n",
    "c = 0.0056160605705701215\n",
    "d = -0.5174164345246695\n",
    "e = 26.292297400105916\n",
    "f = -697.0084579985947\n",
    "g = 7524.223396560092\n",
    "def error_func(temperature):\n",
    "    return a*temperature**6 + b*temperature**5 + c*temperature**4 + d*temperature**3 + e*temperature**2 + f*temperature + g\n",
    "mutated_proteins['error_Mutpred'] = mutated_proteins['Mut_prediction'].apply(lambda x: error_func(x))\n",
    "mutated_proteins = mutated_proteins.dropna(subset=['Mut_prediction'])\n",
    "mutated_proteins['error_WTpred'] = mutated_proteins['WT_prediction'] - mutated_proteins['meltPoint_x']"
   ]
  },
  {
   "cell_type": "markdown",
   "metadata": {},
   "source": [
    "Computing wilcoxon signed rank test with integrating regression errors: This is done by bootstrapping each data point by adding a random error from a normal distribution of errors."
   ]
  },
  {
   "cell_type": "code",
   "execution_count": 5,
   "metadata": {},
   "outputs": [
    {
     "name": "stdout",
     "output_type": "stream",
     "text": [
      "Organism\n",
      "Bacillus subtilis (strain 168)                                                              (421.527, 1.1252205690810886e-05)\n",
      "Escherichia coli (strain K12)                                                                 (97.049, 0.0008875869309122209)\n",
      "Picrophilus torridus (strain ATCC 700027 / DSM 9790 / JCM 10055 / NBRC 100828 / KAW 2/3)                       (0.492, 0.746)\n",
      "Thermus thermophilus (strain ATCC BAA-163 / DSM 7039 / HB27)                                                   (1.436, 0.609)\n",
      "dtype: object\n"
     ]
    },
    {
     "name": "stderr",
     "output_type": "stream",
     "text": [
      "C:\\Users\\marik\\AppData\\Local\\Temp\\ipykernel_6160\\823956449.py:31: DeprecationWarning: DataFrameGroupBy.apply operated on the grouping columns. This behavior is deprecated, and in a future version of pandas the grouping columns will be excluded from the operation. Either pass `include_groups=False` to exclude the groupings or explicitly select the grouping columns after groupby to silence this warning.\n",
      "  print(mutated_proteins.groupby('Organism').apply(\n"
     ]
    }
   ],
   "source": [
    "def wilcoxon_bootstrap(WT_pred, Mut_pred, error_WT, error_mut, num_bootstrap_samples):\n",
    "    import numpy as np\n",
    "    from scipy.stats import wilcoxon\n",
    "\n",
    "    w_statistics = []\n",
    "    p_values = []\n",
    "\n",
    "    for _ in range(num_bootstrap_samples):\n",
    "        # Generate a bootstrap samples with error noise generated from the regression errors\n",
    "        bootstrap_sample_WT = WT_pred + np.random.normal(0, error_WT)\n",
    "        bootstrap_sample_mut = Mut_pred + np.random.normal(0, error_mut)\n",
    "        \n",
    "        # Perform wilcoxon signed rank test on the bootstrap samples\n",
    "        w_statistic, p_value = wilcoxon(bootstrap_sample_WT, bootstrap_sample_mut)\n",
    "        w_statistics.append(w_statistic)\n",
    "        p_values.append(p_value)\n",
    "\n",
    "    mean_w_statistic = np.mean(w_statistics)\n",
    "    mean_p_value = np.mean(p_values)\n",
    "    return mean_w_statistic, mean_p_value\n",
    "\n",
    "\n",
    "\"\"\" results = []\n",
    "mutated_proteins.groupby('Organism').apply(\n",
    "    lambda x: results.append({\n",
    "        'Organism': x['Protein_ID'],\n",
    "        'Mean_W_Statistic': wilcoxon_bootstrap(x['WT_prediction'], x['Mut_prediction'], abs(x['error_WTpred']), abs(x['error_Mutpred']), 1000)[0],\n",
    "        'Mean_P_Value': wilcoxon_bootstrap(x['WT_prediction'], x['Mut_prediction'], abs(x['error_WTpred']), abs(x['error_Mutpred']), 1000)[1]\n",
    "    }))    \"\"\"\n",
    "\n",
    "print(mutated_proteins.groupby('Organism').apply(\n",
    "    lambda x: wilcoxon_bootstrap(x['WT_prediction'], x['Mut_prediction'], abs(x['error_WTpred']), abs(x['error_Mutpred']), 1000)\n",
    "))\n",
    "\n"
   ]
  },
  {
   "cell_type": "code",
   "execution_count": 6,
   "metadata": {},
   "outputs": [],
   "source": [
    "p_values = {\n",
    "    'meltPoint_WT': {\n",
    "        'B. subtilis': 424.462,\n",
    "        'E. coli': 96.847,\n",
    "        'P. torridus': 0.496,\n",
    "        'T. thermophilus': 1.491\n",
    "    },\n",
    "    'WT_Mut': {\n",
    "        'B. subtilis': 3.5420199026067336e-06,\n",
    "        'E. coli': 0.0009180441055214033,\n",
    "        'P. torridus': 0.748,\n",
    "        'T. thermophilus': 0.62725\n",
    "    }\n",
    "}\n",
    "\n",
    "def p_to_asterisks(p):\n",
    "    if p < 0.0001:\n",
    "        return '****'\n",
    "    elif p < 0.001:\n",
    "        return '***'\n",
    "    elif p < 0.01:\n",
    "        return '**'\n",
    "    elif p < 0.05:\n",
    "        return '*'\n",
    "    else:\n",
    "        return 'ns'"
   ]
  },
  {
   "cell_type": "markdown",
   "metadata": {},
   "source": [
    "### Visualize mutation results"
   ]
  },
  {
   "cell_type": "code",
   "execution_count": 17,
   "metadata": {},
   "outputs": [
    {
     "data": {
      "image/png": "[encoded data removed]",
      "text/plain": [
       "<Figure size 625x400 with 1 Axes>"
      ]
     },
     "metadata": {},
     "output_type": "display_data"
    }
   ],
   "source": [
    "import seaborn as sns\n",
    "import matplotlib.pyplot as plt\n",
    "import matplotlib.lines as mlines\n",
    "import os\n",
    "import pandas as pd\n",
    "\n",
    "plt.figure(figsize=(6.25, 4))\n",
    "\n",
    "long_df = pd.melt(Ess_prot_merged, id_vars=['Organism'], value_vars=['meltPoint_x','WT_prediction', 'Mut_prediction'], var_name='Prediction_Type', value_name='Temp_Value')\n",
    "\n",
    "sns.boxplot(data=long_df, x='Organism', y='Temp_Value', hue='Prediction_Type', palette = 'deep', showmeans = True, meanprops={\"marker\":\".\",\"markerfacecolor\":\"gray\", \"markeredgecolor\":\"gray\", \"markersize\":\"1\", \"color\":\"gray\"}, meanline=True)\n",
    "new_label = ['B. subtilis', 'E. coli', 'P. torridus', 'T. thermophilus']\n",
    "plt.ylabel('Protein melt point [°C]', size=10)\n",
    "plt.xticks(ticks=range(len(new_label)), labels=new_label, rotation=0, size=10)\n",
    "plt.xlabel('Organism', size=12)\n",
    "legend = plt.legend(title='', fontsize=10)\n",
    "new_legend_label = ['WT measured melt point', 'WT predicted melt point', 'mutant predicted melt point']\n",
    "for text, label in zip(legend.texts, new_legend_label):\n",
    "    text.set_text(label)\n",
    "\n",
    "\n",
    "\n",
    "#annotate p-values\n",
    "hue_order = long_df['Prediction_Type'].unique()\n",
    "n_hues = len(hue_order)\n",
    "width = 0.8\n",
    "spacing = width / n_hues\n",
    "\n",
    "\n",
    "ax = plt.gca()\n",
    "y_min, y_max = ax.get_ylim()\n",
    "y_max +=5\n",
    "plt.ylim(y_min, y_max)\n",
    "\n",
    "for i, org in enumerate(new_label):\n",
    "    for j, hue in enumerate(hue_order):\n",
    "        key = f'{hue_order[j-1].split('_')[0]}_{hue.split('_')[0]}'\n",
    "        if key in p_values.keys():\n",
    "            p = p_values[key][org]\n",
    "            p_asterisks = p_to_asterisks(p)\n",
    "            x = i + j * spacing - width / 2 \n",
    "            y = y_max - 4\n",
    "            line = mlines.Line2D([x-spacing/2.5,x+spacing/2.5],[y,y], color='black', linestyle='-', linewidth=1)\n",
    "            line_v1 = mlines.Line2D([x-spacing/2.5,x-spacing/2.5], [y-2, y], color='black', linestyle='-', linewidth=1)\n",
    "            line_v2 = mlines.Line2D([x+spacing/2.5,x+spacing/2.5], [y-2, y], color='black', linestyle='-', linewidth=1)\n",
    "\n",
    "            plt.gca().add_line(line)    \n",
    "            plt.gca().add_line(line_v1)\n",
    "            plt.gca().add_line(line_v2)\n",
    "            plt.text(x, y, p_asterisks, ha='center', va='bottom', fontsize=10)\n",
    "\n",
    "os.chdir('./data')\n",
    "plt.savefig('essential_proteins_boxplot.svg', format='svg')\n",
    "os.chdir('../')\n",
    "plt.show()"
   ]
  },
  {
   "cell_type": "markdown",
   "metadata": {},
   "source": [
    "#### Example for ThERMless\n",
    "The protein P094501_gltR was manually selected, due to its high mutational load.\n",
    "ThERMless reduces mutations until a certain threshhold is reached (in this case 90 % of original melt point difference)\n",
    "\n",
    "3D structures of the wild type, original mutant, mutant with reverted catalytical amino acids and reduced mutant were predicted using the AlphaFold 3 server and analysed in PyMol"
   ]
  },
  {
   "cell_type": "code",
   "execution_count": null,
   "metadata": {},
   "outputs": [],
   "source": [
    "from ThERMOS import ThERMless\n",
    "from SPARC import SPARC\n",
    "\n",
    "protein_to_analyse = 'P94501_gltR'\n",
    "selected_row = Ess_prot_merged[Ess_prot_merged['Protein_ID'] == protein_to_analyse]\n",
    "wt = selected_row['WT_sequence'].iloc[0]\n",
    "mut = selected_row['Mut_sequence'].iloc[0]\n",
    "wt_temp = selected_row['WT_prediction'].iloc[0]\n",
    "mut_temp = selected_row['Mut_prediction'].iloc[0]\n",
    "\n",
    "red_mut = ThERMless(mut_temp, wt_temp, wt, mut, name = protein_to_analyse, cutoff= 0.9)\n",
    "\n",
    "#Analyse results of mutation_decreaser\n",
    "red_seq = red_mut[0]\n",
    "reduced_mut = []\n",
    "for i in range(len(red_seq)):\n",
    "    if red_seq[i] != mut[i]:\n",
    "        reduced_mut.append(i+1)\n",
    "print(f'Mutations reverted: {reduced_mut}')\n",
    "print(f'Number of reverted mutations {len(reduced_mut)}')\n",
    "print(f'New amino acid sequence {red_seq}')\n",
    "\n",
    "red_mut_list = []\n",
    "for i in range(len(wt)):\n",
    "    if wt[i] != red_seq[i]:\n",
    "        red_mut_list.append(i+1)\n",
    "        \n",
    "print(f'Mutation position formatted for resi selection in pymol{'+'.join([str(x) for x in red_mut_list])}')\n",
    "\n",
    "\n",
    "#Calculate new temperature\n",
    "wt_pred = 45.76974259982553 # predicted wild type melt point\n",
    "mut_pred = 84.11407590083442 # predicted original mutant melt point\n",
    "mP = 44.6681154920215 # measured melt point\n",
    "#mutant with reverted acive center amino acids, new mutant after reducing the number of mutations and reverting active center amino acids\n",
    "mut_az = 'MNIQLLQVFLTAAREGSISKAALTLNYAQSNVTNKIQQLENDLETKLFYRHSRGIALTPPGELLVAYSEKILHTIEEARAARGESSARSGPLRLGARETAAAVWLPQLLAHYNNLYPNVDLNLVTGPTEQEIEAVLHYELNGAFIPGPLEHPDLVEEKVLDEEMVLVRPAPHPVLPPLEDVRARRKLVFRKGCNYRARLNHLLREEGLLPLKLMEFGLLEALLGCVNARLGNNLLPRNNNASHEKEARNRYHRNYDKYYFVARMFVRRKDRLVRPARWAFLRHMRDHFRVKRPARW'\n",
    "new_mut = 'MNIQLLQVFLTAAREGSISKAALTLNYAQSNVTNKIQQLENDLETKLFYRHSRGIALTPPGELLVAYSEKILHTIEEARAAMGESSAPSGPLRLGAMETAAAVWLPQLLAHYNNLYPNVDLNLVTGPTEQEIEAVLHYELNGAFIPGPLEHPDLVEEKVLDEEMVLVTPAPHPVLPPLEDVQAQTKLVFRKGCNYRARLNHLLQEEGLLPLKLMEFGLLEALLGCVNAGLGNNLLPRNNNASHEKEARNRYHTNYDKYYFVATMFVRRKDTLVTPALWAFLTHMRDHFQVKRPARW'\n",
    "\n",
    "az_temp = SPARC(mut_az, 'az', './data', './data/s4pred')[0][0]\n",
    "new_temp = SPARC(new_mut, 'new', './data', './data/s4pred')[0][0]\n",
    "\n",
    "print(f'Temperature mut_az:  {az_temp}')\n",
    "print(f'Temperature new_mut: {new_temp}')"
   ]
  }
 ],
 "metadata": {
  "kernelspec": {
   "display_name": "Python 3",
   "language": "python",
   "name": "python3"
  },
  "language_info": {
   "codemirror_mode": {
    "name": "ipython",
    "version": 3
   },
   "file_extension": ".py",
   "mimetype": "text/x-python",
   "name": "python",
   "nbconvert_exporter": "python",
   "pygments_lexer": "ipython3",
   "version": "3.12.4"
  }
 },
 "nbformat": 4,
 "nbformat_minor": 2
}
