{
 "cells": [
  {
   "cell_type": "code",
   "execution_count": 45,
   "metadata": {},
   "outputs": [],
   "source": [
    "import numpy as np\n",
    "import pandas as pd\n",
    "import os\n",
    "import seaborn as sns\n",
    "import matplotlib.pyplot as plt\n",
    "import statsmodels.api as sm\n",
    "import re\n",
    "import pandas as pd\n",
    "import numpy as np\n",
    "from sklearn.model_selection import train_test_split\n",
    "from sklearn.ensemble import GradientBoostingRegressor\n",
    "from sklearn.decomposition import PCA\n",
    "from sklearn.metrics import mean_squared_error, r2_score\n",
    "from sklearn.preprocessing import StandardScaler\n",
    "import joblib"
   ]
  },
  {
   "cell_type": "code",
   "execution_count": 46,
   "metadata": {},
   "outputs": [
    {
     "name": "stderr",
     "output_type": "stream",
     "text": [
      "C:\\Users\\tobia\\AppData\\Local\\Temp\\ipykernel_14696\\867054028.py:3: DtypeWarning: Columns (6,19,20,21,23,24,25,26) have mixed types. Specify dtype option on import or set low_memory=False.\n",
      "  prokaryotes = pd.read_csv(os.path.join(path, 'prokaryotes_348columns.csv'))\n"
     ]
    }
   ],
   "source": [
    "#Data preprocessing\n",
    "path = './data'\n",
    "prokaryotes = pd.read_csv(os.path.join(path, 'prokaryotes_348columns.csv'))\n",
    "droplist = [0,1,2,3,4,5,6,8,9,10,12,13,14,15,16,17,18,19,20,21,22,23,24,25,26,27,28,29,30,31,32,35,36,37,40,41,42,45,282,283,284,285,286,287,288,289,290,291,292,293,294,300,301,302,303,304,305,306,327]\n",
    "prokaryotes = prokaryotes.drop(prokaryotes.columns[droplist], axis=1)\n",
    "prokaryotes.replace([np.inf, -np.inf], np.nan, inplace=True)\n",
    "prokaryotes = prokaryotes.fillna(0)\n",
    "prokaryotes = prokaryotes.reset_index(drop=True)"
   ]
  },
  {
   "cell_type": "code",
   "execution_count": 47,
   "metadata": {},
   "outputs": [
    {
     "data": {
      "text/plain": [
       "244"
      ]
     },
     "execution_count": 47,
     "metadata": {},
     "output_type": "execute_result"
    }
   ],
   "source": [
    "prokaryotes.columns.get_loc('HydrophobicAA')"
   ]
  },
  {
   "cell_type": "code",
   "execution_count": 48,
   "metadata": {},
   "outputs": [
    {
     "name": "stdout",
     "output_type": "stream",
     "text": [
      "PCA Data - MSE: 63.61111552991793, R2: 0.7417690842579411\n"
     ]
    }
   ],
   "source": [
    "# Splitting data into X (features) and y (target)\n",
    "X = prokaryotes.drop('meltPoint', axis=1)\n",
    "y = prokaryotes['meltPoint']\n",
    "scaler = StandardScaler()\n",
    "X_scaled = scaler.fit_transform(X)\n",
    "pca = PCA(n_components=25)\n",
    "X_pca = pca.fit_transform(X_scaled)\n",
    "X_train_pca, X_test_pca, y_train_pca, y_test_pca = train_test_split(X_pca, y, test_size=0.2, random_state=1)\n",
    "gbr = GradientBoostingRegressor()\n",
    "gbr.fit(X_train_pca, y_train_pca)\n",
    "y_pred_pca = gbr.predict(X_test_pca)\n",
    "mse_pca = mean_squared_error(y_test_pca, y_pred_pca)\n",
    "r2_pca = r2_score(y_test_pca, y_pred_pca)\n",
    "print(f\"PCA Data - MSE: {mse_pca}, R2: {r2_pca}\")"
   ]
  },
  {
   "cell_type": "code",
   "execution_count": 49,
   "metadata": {},
   "outputs": [
    {
     "data": {
      "text/plain": [
       "'C:\\\\Users\\\\tobia\\\\OneDrive\\\\Documents\\\\Uni\\\\FS 4\\\\Bioinfo Projekt\\\\topic04_02'"
      ]
     },
     "execution_count": 49,
     "metadata": {},
     "output_type": "execute_result"
    }
   ],
   "source": [
    "os.getcwd()"
   ]
  },
  {
   "cell_type": "code",
   "execution_count": 50,
   "metadata": {},
   "outputs": [
    {
     "data": {
      "text/plain": [
       "['./data/prokaryotes1.joblib']"
      ]
     },
     "execution_count": 50,
     "metadata": {},
     "output_type": "execute_result"
    }
   ],
   "source": [
    "joblib.dump(gbr, './data/gbr_model1.joblib')\n",
    "joblib.dump(scaler, './data/scaler1.joblib')\n",
    "joblib.dump(pca, './data/pca1.joblib')\n",
    "joblib.dump(prokaryotes, './data/prokaryotes1.joblib')"
   ]
  },
  {
   "cell_type": "code",
   "execution_count": 51,
   "metadata": {},
   "outputs": [],
   "source": [
    "def fasparse(faspath):\n",
    "    helixl = []\n",
    "    sheetl = []\n",
    "    data = np.loadtxt(faspath, dtype={'names': ('index', 'col1', 'col2', 'val1', 'val2', 'val3'),'formats': ('i4', 'S1', 'S1', 'f4', 'f4', 'f4')})\n",
    "    indiceshelix = data['index'][data['col2'] == b'H']\n",
    "    indicessheet = data['index'][data['col2'] == b'E']\n",
    "    helix = np.split(indiceshelix, np.where(np.diff(indiceshelix) != 1)[0]+1)\n",
    "    sheet = np.split(indicessheet, np.where(np.diff(indicessheet) != 1)[0]+1)\n",
    "    return [helix, sheet]"
   ]
  },
  {
   "cell_type": "code",
   "execution_count": 52,
   "metadata": {},
   "outputs": [],
   "source": [
    "# SPARC: \"Sequence-based Protein Attribute-deRived Melt Point Calculator\"\n",
    "def SPARC(data:str, name, datapath, directoryS4):\n",
    "    \"\"\"\n",
    "    data: string, protein sequence\n",
    "    name: arbitrary name for the protein\n",
    "    datapath: string, path to data directory\n",
    "    directoryS4: string, complete path to directory of S4pred\n",
    "    \"\"\"\n",
    "    import joblib\n",
    "    import numpy as np\n",
    "    import pandas as pd\n",
    "    import os\n",
    "    from sklearn.preprocessing import StandardScaler\n",
    "    from sklearn.decomposition import PCA\n",
    "    from sklearn.ensemble import  GradientBoostingRegressor\n",
    "    from sklearn.metrics import mean_squared_error, r2_score\n",
    "    model1 = joblib.load('./data/gbr_model1.joblib')\n",
    "    scaler1 = joblib.load('./data/scaler1.joblib')\n",
    "    pca1 = joblib.load('./data/pca1.joblib')\n",
    "    prokaryotes1 = joblib.load('./data/prokaryotes1.joblib')\n",
    "    data = data.upper()\n",
    "    features = pd.Series(np.zeros(prokaryotes1.shape[1]-1))\n",
    "    features.index = prokaryotes1.drop(columns='meltPoint').columns\n",
    "    with open(os.path.join(datapath,f'{name}.fasta'), \"w\") as fasta_file:\n",
    "        fasta_file.write(f\">{name}\\n{data}\\n\")\n",
    "    os.chdir(directoryS4)\n",
    "    fastapath = os.path.join(datapath,f'{name}.fasta')\n",
    "    faspath = os.path.join(datapath,f'{name}.fas')\n",
    "    os.system(f'python3 run_model.py \"{fastapath}\" > \"{faspath}\"')\n",
    "    os.chdir('../../')\n",
    "    Protlen = len(data)\n",
    "    features.iloc[0] = Protlen  #length\n",
    "    HelixSparc = fasparse(faspath)[0]   #parse s4pred output for helices\n",
    "    SheetSparc = fasparse(faspath)[1]   #parse s4pred output for sheets\n",
    "    features.iloc[1] = len(HelixSparc)  #counts\n",
    "    features.iloc[2] = len(SheetSparc)\n",
    "    helixind = np.concatenate(HelixSparc)-1         \n",
    "    helixseq = np.array(list(data))[list(helixind)]\n",
    "    sheetind = np.concatenate(SheetSparc)-1\n",
    "    sheetseq = np.array(list(data))[list(sheetind)]\n",
    "    features.iloc[3] = len(helixind) / Protlen #percs\n",
    "    features.iloc[4] = len(sheetind) / Protlen\n",
    "    features.iloc[5] = np.mean(np.array([len(arr) for arr in HelixSparc])) #avg lengths\n",
    "    features.iloc[6] = np.mean(np.array([len(arr) for arr in SheetSparc]))\n",
    "    features.iloc[7] = features.iloc[3] + features.iloc[4]      #combined percentage of helices and sheets in protein\n",
    "    aapairs = features.index[8:87]\n",
    "    for aa in aapairs:\n",
    "        features[aa] = (data.count(aa[0]) + data.count(aa[1])) / Protlen\n",
    "    for acid in ['A', 'V', 'I', 'L', 'M', 'F', 'W','N', 'Q', 'S', 'T', 'Y','D', 'E','R', 'H', 'K', 'C', 'P', 'G' ]:\n",
    "        if len(helixseq) != 0:\n",
    "            features[f'{acid}helix'] = helixseq.tolist().count(acid) / len(helixseq)\n",
    "        if len(sheetseq) != 0:\n",
    "            features[f'{acid}sheet'] = sheetseq.tolist().count(acid) / len(sheetseq)\n",
    "        features[acid] = data.count(acid) / Protlen\n",
    "    motifs = [motif[:2] for motif in np.array(features.iloc[107:243].index)]\n",
    "    for motif in motifs:\n",
    "        features[f'{motif}motif'] = data.count(motif) / Protlen\n",
    "    features['EALRmotif'] = data.count('EALR') / Protlen\n",
    "    features['LEALmotif'] = data.count('LEAL') / Protlen\n",
    "    features['HydrophobicAA'] = features['A'] + features['V'] + features['I'] + features['L'] + features['M'] + features['F'] + features['W']\n",
    "    features['ChargedAA'] = features['R'] + features['H'] + features['K'] + features['D'] + features['E']\n",
    "    features['PolarAA'] = features['N'] + features['Q'] + features['S'] + features['T'] + features['Y']\n",
    "    featuresdf = pd.DataFrame(features).T\n",
    "    features_scaled = scaler1.transform(featuresdf)\n",
    "    features_pca = pca1.transform(features_scaled)\n",
    "    prediction = model1.predict(features_pca)\n",
    "    os.remove(fastapath)\n",
    "    os.remove(faspath)\n",
    "    \n",
    "    return [prediction,features,features_scaled,features_pca]"
   ]
  },
  {
   "cell_type": "code",
   "execution_count": 53,
   "metadata": {},
   "outputs": [],
   "source": [
    "features2 = pd.Series(np. zeros(prokaryotes.shape[1]-1))"
   ]
  },
  {
   "cell_type": "code",
   "execution_count": 54,
   "metadata": {},
   "outputs": [
    {
     "data": {
      "text/plain": [
       "'C:\\\\Users\\\\tobia\\\\OneDrive\\\\Documents\\\\Uni\\\\FS 4\\\\Bioinfo Projekt\\\\topic04_02'"
      ]
     },
     "execution_count": 54,
     "metadata": {},
     "output_type": "execute_result"
    }
   ],
   "source": [
    "os.getcwd()"
   ]
  },
  {
   "cell_type": "code",
   "execution_count": 55,
   "metadata": {},
   "outputs": [
    {
     "name": "stdout",
     "output_type": "stream",
     "text": [
      "[60.08464018]\n"
     ]
    }
   ],
   "source": [
    "prt420 = 'MKMTSRKLSDILKQRLQHENRSFLFDREKDTLRVEDQTTKKGITLDLPPIIAKWELKKDEAIDEIVYYVSEAMTAMEGKAQEMTGKETRIYPVIRSTSFPDKSSEDIPLIYDDHTAETRIYYALDLGKTYRLIDQRMLEKENWTKERIRETAAFNLRSLPTVVKEDTVAGNYFYFFRANDGYDASRILNEAILNEYKQHAEGELAISVPHQDVLILADIRNESGYDILGQMSMSFFAGGTVPITALSFLYNEGKLEPVFILAKSRPKKD'\n",
    "sparctest = 'ARVCNMPREQDERVRCYNMKLPRWQASDPOILLINCVRTQWTILLPCVFGDQVY'\n",
    "wt = 'MQVLAKENIKLNQTVSSKEEAIKLAGQTLIDNGYVTEDYISKMFEREETSSTFMGNFIAIPHGTEEAKSEVLHSGISIIQIPEGVEYGEGNTAKVVFGIAGKNNEHLDILSNIAIICSEEENIERLISAKSEEDLIAIFNEVN'\n",
    "mut = 'MPVLAKENNKLNPTVSSKEEANKLAGPTLNDNGYVTEDYNSKMFEREETSSTFMGNFNANPHGTEEAKSEVLHSGNSNNPNPEGVEYGEGNTAKVVFGNAGKNNEHLDNLSNNANNCSEEENNERLNSAKSEEDLNANFNEVN'\n",
    "O = SPARC(mut,'sparctest',r'C:/Users/tobia/OneDrive/Documents/Uni/FS 4/Bioinfo Projekt/topic04_02/data/fastas',r'C:/Users/tobia/OneDrive/Documents/Uni/FS 4/Bioinfo Projekt/topic04_02/data/s4pred')\n",
    "print(O[0])\n",
    "#60.59035857"
   ]
  },
  {
   "cell_type": "code",
   "execution_count": 56,
   "metadata": {},
   "outputs": [],
   "source": [
    "datapathtobi = r'C:/Users/tobia/OneDrive/Documents/Uni/FS 4/Bioinfo Projekt/topic04_02/data/fastas'\n",
    "directoryS4tobi = r'C:/Users/tobia/OneDrive/Documents/Uni/FS 4/Bioinfo Projekt/topic04_02/data/s4pred'"
   ]
  },
  {
   "cell_type": "code",
   "execution_count": 57,
   "metadata": {},
   "outputs": [],
   "source": [
    "prokaryotesold = pd.read_csv(os.path.join(path, 'prokaryotes_unique_prot.csv'))\n",
    "#actual mp: 71.45\n",
    "wt = 'MQVLAKENIKLNQTVSSKEEAIKLAGQTLIDNGYVTEDYISKMFEREETSSTFMGNFIAIPHGTEEAKSEVLHSGISIIQIPEGVEYGEGNTAKVVFGIAGKNNEHLDILSNIAIICSEEENIERLISAKSEEDLIAIFNEVN'\n",
    "mut = 'MPVLAKENNKLNPTVSSKEEANKLAGPTLNDNGYVTEDYNSKMFEREETSSTFMGNFNANPHGTEEAKSEVLHSGNSNNPNPEGVEYGEGNTAKVVFGNAGKNNEHLDNLSNNANNCSEEENNERLNSAKSEEDLNANFNEVN'\n",
    "prt3417 = 'MDIDIVKDPDDVKFISNVIRSAWHSINIEGQFIDTVRSMIYHGGFVIIAKENNEIIGMSFSYPGYRNGKTYLYSHMTGVIEDKKRSGIGYMLKMKQRELALNYGYDLIAWTFDPYMALNAYFNIEKLGCLSRTYIDNFYGIMDDGLNNGLPTDRLVCEWYIKDFKKPDYNEYNIINKKSRLGSYEITEGIEYNYENPAISIPYDFQEIKKNSMEIAMDWKLRLRPAFKKLFGLGYAITHFDKKTSSYIFQKVDLEKNIF'\n",
    "#wtpred = SPARC(wt,'wtmarik',  datapathtobi, directoryS4tobi)\n",
    "#mutpred = SPARC(mut,'mutmarik',  datapathtobi, directoryS4tobi)\n"
   ]
  },
  {
   "cell_type": "code",
   "execution_count": 58,
   "metadata": {},
   "outputs": [],
   "source": [
    "#test 1\n",
    "#print(wtpred[0])\n",
    "#print(mutpred[0])\n",
    "#print(f'Measured 56.69 ')\n",
    "#print(wtpred[1].index)"
   ]
  },
  {
   "cell_type": "code",
   "execution_count": 59,
   "metadata": {},
   "outputs": [],
   "source": [
    "prt2342 = 'MGSINLRIDDELKARSYAALEKMGVTPSEALRLMLEYIADNERLPFKQTLLSDEDAELVEIVKERLRNPKPVRVTLDEL'\n",
    "#prt2342pred = SPARC(prt2342,'prt2342',  datapathtobi, directoryS4tobi)[0]"
   ]
  },
  {
   "cell_type": "code",
   "execution_count": 60,
   "metadata": {},
   "outputs": [],
   "source": [
    "# test 2\n",
    "marik2wt = 'MNDFEKNVQSKRNDAVDSAVGFVVSFGFFAFLFVMATVIHLVGS'\n",
    "marik2mut = 'MNDYEKNVRSKRNDAVDSAVGYVVSYGYYAYLYVMATVIHLVGS'\n",
    "#marik2wtpred = SPARC(marik2wt,'marik2wt',  datapathtobi, directoryS4tobi)\n",
    "#marik2mutpred = SPARC(marik2mut,'marik2mut',  datapathtobi, directoryS4tobi)"
   ]
  },
  {
   "cell_type": "code",
   "execution_count": 61,
   "metadata": {},
   "outputs": [],
   "source": [
    "#test3\n",
    "marik3wt = 'MRGIKIIAIIIICMFIITSMDVVIPSDNKMVNENNYNVKEDNKTIVSCIPQRYMSLVNSTLKNDNINYNYTGNIINVYNNSVSLSFFNKLNKYFGINYFIDNSSFEPYYMPALSTSGYLPSQIRYAYNINPVYNESIYGNGTTIVIVDAYGDPSINYDVSAFDNLTGLPAVNLTVLYPEGTVYQENSGWATETALDVEWAHAIAPGASIKLVVSPGSGTSLIDAVAYSIYHHLGNIISLSWGEPESEMGNSELKILNNIYKDAALNNITVVAASGDNGSYDTTSHLAVNFPASDPYVLGVGGVNLYFKNGEPVETAWGGIANGVSFGSGGGYSSYFKRPYYQDPEDYNNTHRGVPDVSMVAGRSTPVLIIVNGNAEAVGGTSVATPIWAGIIALMDQYMNRSMGFINPVLYQISNTKLYTNAFTQITSGTNGFYNAHAGWNPVTGLGTPIVSNLLNDTMIIESGYGSDLIFNNTYYSNNISATINITENKSVEIFNGSTYYYIGFYSNNGYAYFGIKYNGTYGYEYIIKNNNTLFKMERPAGDKSSYNLSVQIKKDNIYMYSGNRLIFNFTGIISFAGSSRAVIGTMQENNQINFVNIPQGEFSKINIFHNNTRINDNHYIDLRFSSLNNNYSTINITKKNSNFYSGYNLVPAKNTSKKQYFIEYNIIFDRNLIKIYTNTGIPDYYELNGKKSVSGYFVIDHGGYYNASALINGTLITRSIYIPDFREASLNVSYSPDYYNARINLTVDNYFHYKFTGRHINIYELNGTNYFVLKSNGYKTEYYNTTGNRLIMHRSYVYIKVFTFQANTTVKFDNITAYYNNGPWHYIKVLPQSGSIEIIKNGFYNISVRLIPGKNYTTQVLIKNTSRYYLYLYVYNKYLDYALSNAVIYVNGTVAGYTNGSGVSILYLKGDHYITVSDDEYINASFSIDMVNNADQSIGMIPSFQITPTILFQITHYVPFLFYFVYMSWSPYSLKEVSYYKVEYSTSPFMSNPKTLNISSSDTSAFLSGIVPGKTYYVSVYAYTPSGAFVSTPEIKIVYNPLYIILNVIIVLGIIFYIYIFVRFLMRRKNRYDEF'\n",
    "marik3mut = 'MRGIKIIAIIIICMFIIRNMDVVIPNDHKMVHEHHYHVKEDHKRIVNCIPPRYMNLVYNRLKHDHIHYHYRGHIIHVYHHNVNLNFFHKLHKYFGIHYFIDHNNFEPYYMPALNRNGYLPNPIRYAYHIHPVYHENIYGHGRRIVIVDAYGDPNIHYDVNAFDHLRGLPAVHLRVLYPEGRVYPEHNGWARERALDVEWAHAIAPGANIKLVVNPGNGRNLIDAVAYNIYHHLGHIINLNWGEPENEMGHNELKILYHIYKDAALHHIRVVAANGDHGNYDRRNHLAVHFPANDPYVLGVGGVHLYFKHGEPVERAWGGIAHGVNFGNGGGYNNYFKRPYYPDPEDYHHRHRGVPDVNMVAGRNRPVLIIVHGHAEAVGGRNVARPIWAGIIALMDPYMHRNMGFIHPVLYPINHRKLYRHAFRPIRNGRYGFYHAHAGWHPVRGLGRPIVNHLLHDAMIIENGYGNDLIFHHAYYNHHINAAIYIREHKNVEIFHGNAYYYIGFYNHHGYAYFGIKYHGRYGYEYIIKHHHRLFKMERPAGDKNNYHLNVPIKKDHIYMYNGHRLIFHFAGIINFAGNNRAVIGAMPEHHPIHFVHIPPGEFNKIHIFHHHRRIHDHHYIDLRFNNLYHHYNAIHIRKKHNHFYNGYHLVPAKHANKKPYFIEYHIIFDRHLIKIYRHRGIPDYYELHGKKNVNGYFVIDHGGYYHANALIHGALIARNIYIPDFREANLHVNYNPDYYHARIHLRVDYYFHYKFRGRHIHIYELHGRHYFVLKNHGYKAEYYHAAGHRLIMHRNYVYIKVFRFPAHRRVKFDHIRAYYYHGPWHYIKVLPPNGNIEIIKHGFYHINVRLIPGKHYAAPVLIKHANRYYLYLYVYHKYLDYALNHAVIYVHGAVAGYRHGNGVNILYLKGDHYIAVNDDEYIHANFNIDMVHHADPNIGMIPNFPIRPRILFPIRHYVPFLFYFVYMNWNPYNLKEVNYYKVEYNANPFMNHPKALHINNNDANAFLNGIVPGKRYYVNVYAYAPNGAFVNRPEIKIVYHPLYIILHVIIVLGIIFYIYIFVRFLMRRKHRYDEF'\n",
    "#marik3wtpred = SPARC(marik3wt,'marik3wt',  datapathtobi, directoryS4tobi)\n",
    "#marik3mutpred = SPARC(marik3mut,'marik3mut',  datapathtobi, directoryS4tobi)\n",
    "#print(marik3wtpred[0])\n",
    "#print(marik3mutpred[0])\n",
    "#print('88')"
   ]
  },
  {
   "cell_type": "code",
   "execution_count": null,
   "metadata": {},
   "outputs": [],
   "source": []
  },
  {
   "cell_type": "code",
   "execution_count": 62,
   "metadata": {},
   "outputs": [],
   "source": [
    "#print(marik2wtpred[0])\n",
    "#print(marik2mutpred[0])\n",
    "#print('measured ')"
   ]
  },
  {
   "cell_type": "code",
   "execution_count": 63,
   "metadata": {},
   "outputs": [
    {
     "data": {
      "text/plain": [
       "array([-0.8897958 , -0.78510912, -0.54423844, -0.42160796,  0.62696357,\n",
       "       -0.59195046,  0.53789312, -0.04810325, -1.14440606, -1.00328279,\n",
       "       -1.36906742, -1.16302731, -1.46079595, -0.83122292, -1.11515981,\n",
       "       -1.64420541, -1.42742638,  1.84759227,  2.280204  ,  1.96645223,\n",
       "        1.03226578,  2.22280077,  2.13899307, -1.52237643, -1.63814272,\n",
       "        0.86768769, -1.81059576, -1.74095821, -1.06990564, -0.63682996,\n",
       "        0.90229518, -0.25828087, -1.42638601, -1.95401087, -0.3691861 ,\n",
       "       -0.47809431, -1.81428931, -0.51659077,  0.91256939, -0.14497806,\n",
       "       -1.74297894, -1.37470751, -0.87445396,  0.8017756 , -0.57553207,\n",
       "       -2.00093267, -1.81433229,  1.06973836,  1.89675716,  1.38218094,\n",
       "       -0.17926481,  0.6602474 , -0.31292601, -0.92242599, -1.35870081,\n",
       "       -0.38464912, -0.14278391, -0.47781641,  1.03165039,  0.00751225,\n",
       "        1.237317  ,  0.91762851,  1.16019031, -1.10185321, -1.67608355,\n",
       "       -0.01417478,  0.14945553, -0.0838315 ,  2.30300642, -1.96711008,\n",
       "       -1.76871112, -0.52221325, -2.53437466, -1.26922701, -1.38857266,\n",
       "        0.85683179,  1.50092709,  2.38887899, -1.56510534, -1.29344608,\n",
       "       -1.7621606 , -2.04577327, -1.25916568, -0.14353515, -1.33290628,\n",
       "       -1.55033335, -0.95571987, -0.53893056, -0.65468991,  2.28615569,\n",
       "       -1.30551187, -0.46179079, -0.21232576, -1.20284747,  1.80069238,\n",
       "       -0.44679498,  1.36524172,  0.0115822 , -0.69383892, -1.4795201 ,\n",
       "        3.10003153, -1.72152773, -0.04086103,  0.17260531, -0.20535746,\n",
       "       -1.60986963, -0.09149558,  4.80622629, -1.21430441, -0.89819596,\n",
       "       -0.82862103, -0.80636571, -1.04282597, -0.94050479,  4.98620545,\n",
       "       -0.81497801, -1.02059116,  1.22274488,  0.64863026,  0.82646589,\n",
       "       -0.74361207,  0.41459109, -0.87460727, -0.87761617,  4.2794282 ,\n",
       "       -0.99223521,  1.73050611, -0.91671038,  0.41814968, -0.56378176,\n",
       "        0.57008362,  2.85554329, -1.26674652, -0.87463489, -1.18583319,\n",
       "       -0.84223792, -1.19052315, -1.03891512, -1.02781901, -1.20925644,\n",
       "       -0.79396153,  3.01624133, -0.64546886, -0.61567551, -0.87464442,\n",
       "       -0.82813445, -0.78692768,  1.47849739, -0.67134858, -0.65842222,\n",
       "       -0.39608895,  2.28553886,  1.83069452, -0.9017748 ,  1.33569237,\n",
       "        1.67427799, -0.8658872 , -0.45630017, -0.57811465, -0.34002694,\n",
       "       -0.56573028, -0.60135086, -0.6749868 ,  4.45578797, -0.51735604,\n",
       "       -0.67178645, -0.7006399 , -0.45745236, -0.67746393, -0.57818836,\n",
       "        0.61456591, -0.98199062, -0.69905764,  2.79130948,  1.37918164,\n",
       "       -0.86645361,  4.45065278, -0.55013635,  2.92462859,  0.67612027,\n",
       "       -0.84894358, -0.64968874, -0.61111535,  1.31047318, -0.75172847,\n",
       "       -0.81151136,  3.01100674, -0.69862531, -0.80021983, -0.87086466,\n",
       "       -0.53436672, -0.58780446, -0.68281611, -0.62007187,  1.55404305,\n",
       "       -1.03438047,  0.25320954, -0.66203076, -0.8329066 , -0.794639  ,\n",
       "       -0.81580829, -0.33978806, -0.81796526,  0.95923304,  1.73437602,\n",
       "       -0.78629592,  0.96760435,  5.30975198,  2.05629917,  1.7250849 ,\n",
       "       -0.91309243, -0.87373149,  0.10460591, -0.76122971, -0.71073577,\n",
       "        0.57813362, -0.7522024 , -0.71368133, -0.87176514, -0.58364731,\n",
       "       -0.48317394,  2.78337752, -0.48811657,  1.92076454, -0.68244653,\n",
       "       -0.87623133, -0.52052432, -0.43699726, -0.37350665, -0.92820363,\n",
       "       -0.97486937, -0.60596711,  0.66119992, -0.66599653, -0.55184644,\n",
       "       -0.88484926,  0.33108377, -1.21094818,  1.51071163,  0.39644101,\n",
       "       -0.91118737, -0.72767533, -1.03542724, -0.47217647,  0.19395325,\n",
       "        0.93930922, -0.20265022, -0.22522747, -0.73734303, -1.31441595,\n",
       "       -0.65806757,  1.80971362, -1.1047373 ,  0.09858167, -0.78711199,\n",
       "       -0.35827242, -0.36591065,  0.62396286, -0.64629439, -0.69394644,\n",
       "       -0.5152781 ,  0.61648771, -0.80135499,  0.56485016,  2.71985038,\n",
       "        0.41355545, -1.18875364,  0.18924763,  1.39753244, -1.11472099,\n",
       "       -0.77119689,  2.46528538, -0.53478963,  0.15074603, -0.60751292,\n",
       "       -0.87793695,  0.12616533,  0.85294109,  0.93710092, -0.50889416,\n",
       "       -1.08498064,  2.42975855,  0.4623142 ,  0.55757398, -0.23810585,\n",
       "        0.776365  , -1.03462235, -0.83517477])"
      ]
     },
     "execution_count": 63,
     "metadata": {},
     "output_type": "execute_result"
    }
   ],
   "source": [
    "X_scaled[0]"
   ]
  },
  {
   "cell_type": "code",
   "execution_count": 64,
   "metadata": {},
   "outputs": [],
   "source": [
    "prt3417 = 'MDIDIVKDPDDVKFISNVIRSAWHSINIEGQFIDTVRSMIYHGGFVIIAKENNEIIGMSFSYPGYRNGKTYLYSHMTGVIEDKKRSGIGYMLKMKQRELALNYGYDLIAWTFDPYMALNAYFNIEKLGCLSRTYIDNFYGIMDDGLNNGLPTDRLVCEWYIKDFKKPDYNEYNIINKKSRLGSYEITEGIEYNYENPAISIPYDFQEIKKNSMEIAMDWKLRLRPAFKKLFGLGYAITHFDKKTSSYIFQKVDLEKNIF'\n",
    "#U = prt3417pred = SPARC(prt3417,'prt3417',  datapathtobi, directoryS4tobi)"
   ]
  },
  {
   "cell_type": "code",
   "execution_count": 65,
   "metadata": {},
   "outputs": [
    {
     "name": "stderr",
     "output_type": "stream",
     "text": [
      "C:\\Users\\tobia\\AppData\\Local\\Temp\\ipykernel_14696\\502938694.py:1: DtypeWarning: Columns (6,19,20,21,23,24,25,26) have mixed types. Specify dtype option on import or set low_memory=False.\n",
      "  ichkannnichtmehr = pd.read_csv('./data/prokaryotes_348columns.csv')\n"
     ]
    }
   ],
   "source": [
    "ichkannnichtmehr = pd.read_csv('./data/prokaryotes_348columns.csv')"
   ]
  },
  {
   "cell_type": "code",
   "execution_count": 66,
   "metadata": {},
   "outputs": [
    {
     "data": {
      "text/plain": [
       "' Ufeatures = U[1]\\nUfeatures_scaled = U[2]\\nUfeatures_pca = U[3]\\nuzt = X_scaled[28,:]\\nprint(U[0]) '"
      ]
     },
     "execution_count": 66,
     "metadata": {},
     "output_type": "execute_result"
    }
   ],
   "source": [
    "\"\"\" Ufeatures = U[1]\n",
    "Ufeatures_scaled = U[2]\n",
    "Ufeatures_pca = U[3]\n",
    "uzt = X_scaled[28,:]\n",
    "print(U[0]) \"\"\""
   ]
  },
  {
   "cell_type": "code",
   "execution_count": 67,
   "metadata": {},
   "outputs": [
    {
     "data": {
      "text/plain": [
       "'C:\\\\Users\\\\tobia\\\\OneDrive\\\\Documents\\\\Uni\\\\FS 4\\\\Bioinfo Projekt\\\\topic04_02\\\\data'"
      ]
     },
     "execution_count": 67,
     "metadata": {},
     "output_type": "execute_result"
    }
   ],
   "source": [
    "os.path.abspath('./data')"
   ]
  },
  {
   "cell_type": "code",
   "execution_count": null,
   "metadata": {},
   "outputs": [],
   "source": []
  },
  {
   "cell_type": "code",
   "execution_count": 68,
   "metadata": {},
   "outputs": [],
   "source": [
    "class Protein:\n",
    "    def __init__(self, seq:str, dpath = os.path.abspath('./data/fastas'), S4path = os.path.abspath('./data/s4pred')):\n",
    "        self.sequence = seq.upper()\n",
    "        result = SPARC(self.sequence, 'placeholder', dpath, S4path)\n",
    "        self.SPARC = result[0]\n",
    "        self.features = result[1]\n",
    "        self.features_scaled = result[2]\n",
    "        self.features_pca = result[3]\n",
    "        for i in self.features.index:\n",
    "            setattr(self, i, self.features[i])\n",
    "    def __str__(self):\n",
    "        return f\"Protein with predicted melting point of {str(self.SPARC).strip('[]')} °C\""
   ]
  },
  {
   "cell_type": "code",
   "execution_count": 69,
   "metadata": {},
   "outputs": [
    {
     "data": {
      "text/plain": [
       "'C:\\\\Users\\\\tobia\\\\OneDrive\\\\Documents\\\\Uni\\\\FS 4\\\\Bioinfo Projekt\\\\topic04_02'"
      ]
     },
     "execution_count": 69,
     "metadata": {},
     "output_type": "execute_result"
    }
   ],
   "source": [
    "os.getcwd()"
   ]
  },
  {
   "cell_type": "code",
   "execution_count": 70,
   "metadata": {},
   "outputs": [
    {
     "data": {
      "text/plain": [
       "'QQRRRRRRRRRRRRRRRRRRRRERWQEWQRQWERQWERQWER'"
      ]
     },
     "execution_count": 70,
     "metadata": {},
     "output_type": "execute_result"
    }
   ],
   "source": [
    "qwer = Protein(seq = 'QqRRRRRRRRRRRRRRRRRRRRERWQEWQRQWERQWERQWER')\n",
    "qwer.sequence"
   ]
  },
  {
   "cell_type": "code",
   "execution_count": 71,
   "metadata": {},
   "outputs": [
    {
     "data": {
      "text/plain": [
       "'67.18465366'"
      ]
     },
     "execution_count": 71,
     "metadata": {},
     "output_type": "execute_result"
    }
   ],
   "source": [
    "str(qwer.SPARC).strip('[]')"
   ]
  },
  {
   "cell_type": "code",
   "execution_count": 77,
   "metadata": {},
   "outputs": [
    {
     "data": {
      "text/plain": [
       "0.11904761904761904"
      ]
     },
     "execution_count": 77,
     "metadata": {},
     "output_type": "execute_result"
    }
   ],
   "source": [
    "qwer.HydrophobicAA"
   ]
  },
  {
   "cell_type": "code",
   "execution_count": 73,
   "metadata": {},
   "outputs": [
    {
     "name": "stdout",
     "output_type": "stream",
     "text": [
      "Protein with predicted melting point of 67.18465366 °C\n"
     ]
    }
   ],
   "source": [
    "print(qwer)"
   ]
  },
  {
   "cell_type": "markdown",
   "metadata": {},
   "source": [
    "SPARC including tertiary strucure, only applicable for proteins with PDB file"
   ]
  },
  {
   "cell_type": "code",
   "execution_count": 107,
   "metadata": {},
   "outputs": [
    {
     "name": "stderr",
     "output_type": "stream",
     "text": [
      "C:\\Users\\tobia\\AppData\\Local\\Temp\\ipykernel_14696\\836525835.py:3: DtypeWarning: Columns (6,19,20,21,23,24,25,26) have mixed types. Specify dtype option on import or set low_memory=False.\n",
      "  prokaryotespdb = pd.read_csv(os.path.join(path, 'prokaryotes_348columns.csv'))\n"
     ]
    }
   ],
   "source": [
    "#Data preprocessing\n",
    "path = './data'\n",
    "prokaryotespdb = pd.read_csv(os.path.join(path, 'prokaryotes_348columns.csv'))\n",
    "droplistpdb = [0,1,2,3,4,5,6,8,9,10,12,13,14,15,16,17,18,19,20,21,22,23,24,25,26,27,28,29,30,31,32,35,36,37,40,41,42,45,306,327]\n",
    "prokaryotespdb = prokaryotespdb.drop(prokaryotespdb.columns[droplistpdb], axis=1)\n",
    "prokaryotespdb.replace([np.inf, -np.inf], np.nan, inplace=True)\n",
    "prokaryotespdb = prokaryotespdb.fillna(0)\n",
    "prokaryotespdb = prokaryotespdb.reset_index(drop=True)"
   ]
  },
  {
   "cell_type": "code",
   "execution_count": 86,
   "metadata": {},
   "outputs": [
    {
     "data": {
      "text/plain": [
       "297"
      ]
     },
     "execution_count": 86,
     "metadata": {},
     "output_type": "execute_result"
    }
   ],
   "source": [
    "prokaryotespdb.columns.get_loc('PolarAA')"
   ]
  },
  {
   "cell_type": "code",
   "execution_count": 106,
   "metadata": {},
   "outputs": [
    {
     "data": {
      "text/plain": [
       "'sheetseq'"
      ]
     },
     "execution_count": 106,
     "metadata": {},
     "output_type": "execute_result"
    }
   ],
   "source": [
    "prokaryotespdb.columns[327]"
   ]
  },
  {
   "cell_type": "code",
   "execution_count": 103,
   "metadata": {},
   "outputs": [
    {
     "data": {
      "text/plain": [
       "306"
      ]
     },
     "execution_count": 103,
     "metadata": {},
     "output_type": "execute_result"
    }
   ],
   "source": [
    "prokaryotespdb.columns.get_loc('helixseq')"
   ]
  },
  {
   "cell_type": "code",
   "execution_count": 98,
   "metadata": {},
   "outputs": [],
   "source": [
    "def PDBSPARC(seq, pdbpath, datapath = os.path.join(os.getcwd(),'data/fastas'), s4path = os.path.join(os.getcwd(),'data/s4pred')):\n",
    "    pass"
   ]
  },
  {
   "cell_type": "code",
   "execution_count": 101,
   "metadata": {},
   "outputs": [],
   "source": [
    "tzui = prokaryotespdb.corr(numeric_only=True)['meltPoint'].sort_values(ascending=False)"
   ]
  },
  {
   "cell_type": "code",
   "execution_count": null,
   "metadata": {},
   "outputs": [],
   "source": [
    "os.chdir('../../')"
   ]
  },
  {
   "cell_type": "code",
   "execution_count": null,
   "metadata": {},
   "outputs": [
    {
     "data": {
      "text/plain": [
       "'C:\\\\Users\\\\tobia\\\\OneDrive\\\\Documents\\\\Uni\\\\FS 4\\\\Bioinfo Projekt\\\\topic04_02'"
      ]
     },
     "execution_count": 41,
     "metadata": {},
     "output_type": "execute_result"
    }
   ],
   "source": [
    "os.getcwd()"
   ]
  },
  {
   "cell_type": "code",
   "execution_count": 108,
   "metadata": {},
   "outputs": [
    {
     "ename": "ImportError",
     "evalue": "cannot import name 'remove_nan' from 'helper_function' (C:\\Users\\tobia\\OneDrive\\Documents\\Uni\\FS 4\\Bioinfo Projekt\\topic04_02\\helper_function.py)",
     "output_type": "error",
     "traceback": [
      "\u001b[1;31m---------------------------------------------------------------------------\u001b[0m",
      "\u001b[1;31mImportError\u001b[0m                               Traceback (most recent call last)",
      "Cell \u001b[1;32mIn[108], line 2\u001b[0m\n\u001b[0;32m      1\u001b[0m \u001b[38;5;28;01mfrom\u001b[39;00m \u001b[38;5;21;01mfunction\u001b[39;00m \u001b[38;5;28;01mimport\u001b[39;00m functional_aa\n\u001b[1;32m----> 2\u001b[0m \u001b[43mfunctional_aa\u001b[49m\u001b[43m(\u001b[49m\u001b[43minput_path\u001b[49m\u001b[38;5;241;43m=\u001b[39;49m\u001b[38;5;124;43m'\u001b[39;49m\u001b[38;5;124;43m./data/pdbs\u001b[39;49m\u001b[38;5;124;43m'\u001b[39;49m\u001b[43m,\u001b[49m\u001b[43mpdb_file\u001b[49m\u001b[38;5;241;43m=\u001b[39;49m\u001b[38;5;124;43m'\u001b[39;49m\u001b[38;5;124;43mAF-P39847-F1.pdb\u001b[39;49m\u001b[38;5;124;43m'\u001b[39;49m\u001b[43m,\u001b[49m\u001b[43moutput_path\u001b[49m\u001b[38;5;241;43m=\u001b[39;49m\u001b[38;5;124;43m'\u001b[39;49m\u001b[38;5;124;43m./data/pdbs\u001b[39;49m\u001b[38;5;124;43m'\u001b[39;49m\u001b[43m)\u001b[49m\n",
      "File \u001b[1;32m~\\OneDrive\\Documents\\Uni\\FS 4\\Bioinfo Projekt\\topic04_02\\function.py:351\u001b[0m, in \u001b[0;36mfunctional_aa\u001b[1;34m(input_path, pdb_file, output_path, df)\u001b[0m\n\u001b[0;32m    349\u001b[0m \u001b[38;5;28;01mfrom\u001b[39;00m \u001b[38;5;21;01mfunction\u001b[39;00m \u001b[38;5;28;01mimport\u001b[39;00m VdW_interaction\n\u001b[0;32m    350\u001b[0m \u001b[38;5;28;01mfrom\u001b[39;00m \u001b[38;5;21;01mfunction\u001b[39;00m \u001b[38;5;28;01mimport\u001b[39;00m pdb2pqr\n\u001b[1;32m--> 351\u001b[0m \u001b[38;5;28;01mfrom\u001b[39;00m \u001b[38;5;21;01mhelper_function\u001b[39;00m \u001b[38;5;28;01mimport\u001b[39;00m remove_nan\n\u001b[0;32m    352\u001b[0m \u001b[38;5;28;01mimport\u001b[39;00m \u001b[38;5;21;01mos\u001b[39;00m\n\u001b[0;32m    353\u001b[0m \u001b[38;5;28;01mimport\u001b[39;00m \u001b[38;5;21;01mnumpy\u001b[39;00m \u001b[38;5;28;01mas\u001b[39;00m \u001b[38;5;21;01mnp\u001b[39;00m\n",
      "\u001b[1;31mImportError\u001b[0m: cannot import name 'remove_nan' from 'helper_function' (C:\\Users\\tobia\\OneDrive\\Documents\\Uni\\FS 4\\Bioinfo Projekt\\topic04_02\\helper_function.py)"
     ]
    }
   ],
   "source": [
    "from function import functional_aa\n",
    "functional_aa(input_path='./data/pdbs',pdb_file='AF-P39847-F1.pdb',output_path='./data/pdbs')"
   ]
  }
 ],
 "metadata": {
  "kernelspec": {
   "display_name": "Python 3",
   "language": "python",
   "name": "python3"
  },
  "language_info": {
   "codemirror_mode": {
    "name": "ipython",
    "version": 3
   },
   "file_extension": ".py",
   "mimetype": "text/x-python",
   "name": "python",
   "nbconvert_exporter": "python",
   "pygments_lexer": "ipython3",
   "version": "3.12.4"
  }
 },
 "nbformat": 4,
 "nbformat_minor": 2
}
