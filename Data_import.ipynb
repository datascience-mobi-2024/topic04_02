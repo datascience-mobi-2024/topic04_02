{
 "cells": [
  {
   "cell_type": "code",
   "execution_count": 1,
   "metadata": {},
   "outputs": [],
   "source": [
    "# import packages\n",
    "import numpy as np\n",
    "import pandas as pd\n",
    "import os\n",
    "import seaborn as sns\n",
    "import Bio"
   ]
  },
  {
   "cell_type": "code",
   "execution_count": 2,
   "metadata": {},
   "outputs": [],
   "source": [
    "# import data from computer\n",
    "path: str = './data/' #folder where files are stored\n",
    "species: pd.DataFrame = pd.read_csv(os.path.join(path, \"cross-species.csv\"), dtype=str)   # imports file from the folder as species, based on name\n",
    "identifiers: pd.DataFrame = pd.read_csv(os.path.join(path, \"identifiers.tsv\"), sep='\\t', dtype=str) # imports 3rd file from the folder, based on name\n",
    "\n",
    "#import fasta file with biopython (Bio)\n",
    "from Bio import SeqIO\n",
    "fasta_id = []\n",
    "fasta_seq = []\n",
    "with open(os.path.join(path, \"identifiers.fasta\"), 'r') as handle:\n",
    "    for record in SeqIO.parse(handle, \"fasta\"): \n",
    "        fasta_id.append(record.id) \n",
    "        fasta_seq.append(str(record.seq))\n",
    "# Create df prot_seq which includes proper ID and sequences\n",
    "fasta_id_df = pd.DataFrame([item.split('|') for item in fasta_id], columns=['0', 'From','ID']) # creates a df by splitting fasta_id list into 3 columns\n",
    "fasta_id_EntryName:list = fasta_id_df['ID'] # creates a list with the Entry Names from the split df\n",
    "prot_seq = pd.DataFrame(list(zip(fasta_id_EntryName, fasta_seq)), columns = [\"ID\", \"Sequence\"]) # creates a df by combining the Entry Names and the Sequences\n",
    "\n",
    "# merge dataframes based on Entry Name (df.identifiers) and ID (df.prot_seq), if they are similar add the sequence to identifiers, if not add NaN\n",
    "identifiers_seq = identifiers.merge(prot_seq, how='left', left_on='Entry Name', right_on='ID')[identifiers.columns.tolist() + ['Sequence']] # merges identifiers and prot_seq on Entry Name and ID\n",
    "#species.head()\n",
    "\n",
    "\n"
   ]
  },
  {
   "cell_type": "code",
   "execution_count": 64,
   "metadata": {},
   "outputs": [],
   "source": [
    "names = []\n",
    "for i in species_ecoli.loc[:,'Protein_ID']:\n",
    "    names = np.append(names, i[:6])\n",
    "names = pd.DataFrame(names, columns=[\"Protein_code\"])\n",
    "\n",
    "species_ecoli = species.loc[(species['run_name'] == \"Escherichia coli cells\"),:]\n",
    "species_ecoli = species_ecoli.reset_index(drop=True)\n",
    "species_ecoli = pd.concat([species_ecoli, names], axis=1)"
   ]
  },
  {
   "cell_type": "code",
   "execution_count": 68,
   "metadata": {},
   "outputs": [],
   "source": [
    "data_ecoli = species_ecoli.merge(identifiers_seq, how='left', left_on='Protein_code', right_on='Entry')[species_ecoli.columns.tolist() + ['Sequence', 'Protein names', 'Length']]"
   ]
  },
  {
   "cell_type": "code",
   "execution_count": null,
   "metadata": {},
   "outputs": [],
   "source": []
  }
 ],
 "metadata": {
  "kernelspec": {
   "display_name": "Python 3",
   "language": "python",
   "name": "python3"
  },
  "language_info": {
   "codemirror_mode": {
    "name": "ipython",
    "version": 3
   },
   "file_extension": ".py",
   "mimetype": "text/x-python",
   "name": "python",
   "nbconvert_exporter": "python",
   "pygments_lexer": "ipython3",
   "version": "3.12.3"
  }
 },
 "nbformat": 4,
 "nbformat_minor": 2
}
