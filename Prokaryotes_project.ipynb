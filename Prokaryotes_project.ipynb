{
 "cells": [
  {
   "cell_type": "code",
   "execution_count": null,
   "metadata": {},
   "outputs": [],
   "source": [
    "# import packages\n",
    "import numpy as np\n",
    "import pandas as pd\n",
    "import os\n",
    "import seaborn as sns\n",
    "import matplotlib.pyplot as plt\n",
    "import Bio\n",
    "import statsmodels.api as sm\n"
   ]
  },
  {
   "cell_type": "markdown",
   "metadata": {},
   "source": [
    "Import datasets and define variables"
   ]
  },
  {
   "cell_type": "code",
   "execution_count": null,
   "metadata": {},
   "outputs": [],
   "source": [
    "# import data from computer\n",
    "path: str = './data/' #folder where files are stored\n",
    "species: pd.DataFrame = pd.read_csv(os.path.join(path, \"cross-species.csv\"), dtype=str)   # imports file from the folder as species, based on name\n",
    "identifiers: pd.DataFrame = pd.read_csv(os.path.join(path, \"identifiers.tsv\"), sep='\\t', dtype=str) # imports 3rd file from the folder, based on name\n",
    "\n",
    "#import fasta file with biopython (Bio)\n",
    "from Bio import SeqIO\n",
    "fasta_id = []\n",
    "fasta_seq = []\n",
    "with open(os.path.join(path, \"identifiers.fasta\"), 'r') as handle:\n",
    "    for record in SeqIO.parse(handle, \"fasta\"): \n",
    "        fasta_id.append(record.id) \n",
    "        fasta_seq.append(str(record.seq))\n",
    "# Create df prot_seq which includes proper ID and sequences\n",
    "fasta_id_df = pd.DataFrame([item.split('|') for item in fasta_id], columns=['0', 'From','ID']) # creates a df by splitting fasta_id list into 3 columns\n",
    "fasta_id_EntryName:list = fasta_id_df['ID'] # creates a list with the Entry Names from the split df\n",
    "prot_seq = pd.DataFrame(list(zip(fasta_id_EntryName, fasta_seq)), columns = [\"ID\", \"Sequence\"]) # creates a df by combining the Entry Names and the Sequences\n",
    "\n",
    "\n",
    "\n",
    "#Define datatype for each column\n",
    "species['fold_change'] = species['fold_change'].astype('float64') # changes fold_change column to float64\n",
    "species['temperature'] = species['temperature'].astype('float64') # changes temperature column to int64\n",
    "identifiers['Length'] = identifiers['Length'].astype('float64') # changes Length column to int64\n",
    "\n",
    "#Update index\n",
    "species = species.reset_index(drop=True) # resets index of species df\n",
    "identifiers = identifiers.reset_index(drop=True) # resets index of identifiers df\n",
    "\n",
    "\n"
   ]
  },
  {
   "cell_type": "markdown",
   "metadata": {},
   "source": [
    "Add protein sequence from protein_seq dataset to identifiers to create identifiers_seq, based on 'ID' and 'Entry Name' respectively\n",
    "\n",
    "Create joint data set from identifiers_seq and species_seq based on gene_name and Gene Names1 respectively"
   ]
  },
  {
   "cell_type": "code",
   "execution_count": null,
   "metadata": {},
   "outputs": [],
   "source": [
    "# merge dataframes based on Entry Name (df.identifiers) andID (df.prot_seq), if they are similar add the sequence to identifiers, if not add NaN\n",
    "identifiers_seq = identifiers.merge(prot_seq, how='left', left_on='Entry Name', right_on='ID')[identifiers.columns.tolist() + ['Sequence']] # merges identifiers and prot_seq on Entry Name and ID\n",
    "identifiers_seq.head()\n",
    "\n",
    "#merge species and identifiers_seq based on gene_name and Gene Names1\n",
    "identifiers_seq[['Gene Names1', 'Gene Names2']] = identifiers_seq['Gene Names'].str.split(expand = True, n=1) # splits the Gene Names column into 2 columns\n",
    "species_seq = pd.merge(left = species, right = identifiers_seq, how='outer', left_on='gene_name', right_on='Gene Names1') # merges species and identifiers_seq on gene_name and Gene Names1\n",
    "#species_seq.head()"
   ]
  },
  {
   "cell_type": "markdown",
   "metadata": {},
   "source": [
    "Drop all entries from species dataset which don't have a sequence.\n",
    "Delete unnessesary columns ('Gene Names1', 'Gene Names2')"
   ]
  },
  {
   "cell_type": "code",
   "execution_count": null,
   "metadata": {},
   "outputs": [],
   "source": [
    "species_seq.dropna(subset = ['Sequence'], inplace=True) # drops rows with NaN in the Sequence column\n",
    "\n",
    "for col in ['Gene Names1', 'Gene Names2']:\n",
    "    if col in species_seq.columns:\n",
    "        species_seq.drop(columns = ['Gene Names1', 'Gene Names2'], inplace=True) # drops Gene Names1 and Gene Names2 columns\n",
    "#species_seq.head()\n"
   ]
  },
  {
   "cell_type": "markdown",
   "metadata": {},
   "source": [
    "Extract list of unique run_names from species and manually seperate in prokaryotes and eukaryotes. Create split datasets for eukaryotes and prokaryotes based on species_seq"
   ]
  },
  {
   "cell_type": "code",
   "execution_count": null,
   "metadata": {},
   "outputs": [],
   "source": [
    "# Get a list of unique entries in the 'run_name' column\n",
    "#print(species['run_name'].unique())\n",
    "\n",
    "# Based on uniqe run names all entries split into eukaryotes and prokaryotes (manually)\n",
    "prokaryotes_list:list = ['Bacillus subtilis_168_lysate_R1', 'Escherichia coli lysate',\n",
    " 'Geobacillus stearothermophilus NCA26 lysate',\n",
    " 'Thermus thermophilus HB27 lysate', 'Thermus thermophilus HB27 cells',\n",
    " 'Escherichia coli cells', 'Picrophilus torridus DSM9790 lysate']\n",
    "\n",
    "#creates new dataframes that only contain prokaryotes or eukaryotes based\n",
    "prokaryotes_all = species_seq[species_seq['run_name'].isin(prokaryotes_list)]\n",
    "\n",
    "##reset index\n",
    "prokaryotes_all = prokaryotes_all.reset_index(drop=True) # resets index of species df"
   ]
  },
  {
   "cell_type": "markdown",
   "metadata": {},
   "source": [
    "Create a list of each unique protein for each organism"
   ]
  },
  {
   "cell_type": "code",
   "execution_count": null,
   "metadata": {},
   "outputs": [],
   "source": [
    "# prokaryotes\n",
    "prokaryotes = prokaryotes_all.drop_duplicates(subset=['run_name', 'Protein_ID'], keep='first') #create new dataframe with only unique proteins\n",
    "prokaryotes = prokaryotes.reset_index(drop=True) #reset index\n",
    "\n",
    "# define meltpoint as float64\n",
    "prokaryotes['meltPoint'] = prokaryotes['meltPoint'].astype('float64') # changes meltpoint column to float64\n",
    "prokaryotes['temperature'] = prokaryotes['temperature'].astype('float64')"
   ]
  },
  {
   "cell_type": "markdown",
   "metadata": {},
   "source": [
    "Calculate relative abundance of hydrophobic aminoacids for each protein and append to dataframe"
   ]
  },
  {
   "cell_type": "code",
   "execution_count": null,
   "metadata": {},
   "outputs": [],
   "source": [
    "from function import rel_aa_comp\n",
    "from Aminoacid_lists import AA_hydrophobic, AA_polar_neutral, AA_acidic, AA_basic\n",
    "prokaryotes['hydrophobic'] = prokaryotes['Sequence'].apply(lambda x: rel_aa_comp(x, AA_hydrophobic)) # calculates relative amino acid composition of hydrophobic amino acids\n",
    "prokaryotes['polar_neutral'] = prokaryotes['Sequence'].apply(lambda x: rel_aa_comp(x, AA_polar_neutral)) # calculates relative amino acid composition of polar neutral amino acids\n",
    "prokaryotes['acidic'] = prokaryotes['Sequence'].apply(lambda x: rel_aa_comp(x, AA_acidic)) # calculates relative amino acid composition of acidic amino acids\n",
    "prokaryotes['basic'] = prokaryotes['Sequence'].apply(lambda x: rel_aa_comp(x, AA_basic)) # calculates relative amino acid composition of basic amino acids\n",
    "\n"
   ]
  },
  {
   "cell_type": "markdown",
   "metadata": {},
   "source": [
    "Group dataframes based on run name"
   ]
  },
  {
   "cell_type": "code",
   "execution_count": null,
   "metadata": {},
   "outputs": [],
   "source": [
    "prokaryotes_all_group = prokaryotes_all.groupby('run_name')\n",
    "prokaryotes_group = prokaryotes.groupby('run_name')"
   ]
  },
  {
   "cell_type": "markdown",
   "metadata": {},
   "source": [
    "\n",
    "\n",
    "\n",
    "Some plots to test data"
   ]
  },
  {
   "cell_type": "code",
   "execution_count": null,
   "metadata": {},
   "outputs": [],
   "source": [
    "sns.scatterplot(data = prokaryotes, x = 'meltPoint', y = 'hydrophobic', label = 'hydrophobic', s= 10, alpha = 0.6)\n",
    "sns.scatterplot(data=prokaryotes, x='meltPoint', y='polar_neutral', label = 'polar neutral', s= 10, alpha = 0.6)\n",
    "sns.scatterplot(data= prokaryotes, x='meltPoint', y='acidic', label = 'acidic', s= 10, alpha = 0.6)\n",
    "sns.scatterplot(data=prokaryotes, x='meltPoint', y='basic', label = 'basic', s= 10, alpha = 0.6)\n",
    "plt.xticks(np.arange(30, 100, 5))\n",
    "plt.ylabel('relative abundance of aminoacid properties')\n",
    "plt.grid(True, which='both', linestyle='--', linewidth=0.5)\n",
    "plt.show()\n",
    "\n"
   ]
  },
  {
   "cell_type": "markdown",
   "metadata": {},
   "source": [
    "Calculate average hydrophic content for each organism and plot vs living temperature of organism"
   ]
  },
  {
   "cell_type": "code",
   "execution_count": null,
   "metadata": {},
   "outputs": [],
   "source": [
    "prokaryotes_average = prokaryotes_group.mean(['temperature', 'hydrophobic', 'acidic', 'polar_neutral', 'basic'])\n",
    "prokaryotes_average = prokaryotes_average.reset_index()\n",
    "\n",
    "#plot hydrophobic agaisnt temp\n",
    "sns.scatterplot(data = prokaryotes_average, x = 'temperature', y = 'hydrophobic', hue = 'run_name', s= 50, alpha = 0.9)\n",
    "plt.legend(loc= 'lower right', bbox_to_anchor=(1.8, -0.01))  \n",
    "plt.grid(True, which='both', linestyle='--', linewidth=0.5)\n",
    "plt.show()\n",
    "\n",
    "#Plot polar_neutral against temp\n",
    "sns.scatterplot(data = prokaryotes_average, x = 'temperature', y ='polar_neutral', hue = 'run_name', s= 50, alpha = 0.9)\n",
    "plt.legend(loc= 'lower right', bbox_to_anchor=(1.8, -0.01))  \n",
    "plt.grid(True, which='both', linestyle='--', linewidth=0.5)\n",
    "plt.show()\n",
    "\n",
    "#Plot acidic against temp\n",
    "sns.scatterplot(data = prokaryotes_average, x = 'temperature', y ='polar_neutral', hue = 'run_name', s= 80, alpha = 0.9)\n",
    "plt.legend(loc= 'lower right', bbox_to_anchor=(1.8, -0.01))  \n",
    "plt.grid(True, which='both', linestyle='--', linewidth=0.5)\n",
    "plt.show()\n",
    "\n",
    "#Plot basic against temp\n",
    "sns.scatterplot(data = prokaryotes_average, x = 'temperature', y ='polar_neutral', hue = 'run_name', s= 80, alpha = 0.9)\n",
    "plt.legend(loc= 'lower right', bbox_to_anchor=(1.8, -0.01))  \n",
    "plt.grid(True, which='both', linestyle='--', linewidth=0.5)\n",
    "plt.show()"
   ]
  },
  {
   "cell_type": "markdown",
   "metadata": {},
   "source": [
    "Test for lysine and aspartic acid as indicator for stable and unstable proteins, respectively"
   ]
  },
  {
   "cell_type": "code",
   "execution_count": null,
   "metadata": {},
   "outputs": [],
   "source": [
    "prokaryotes['Asp'] = prokaryotes['Sequence'].apply(lambda x: rel_aa_comp(x, ['D'])) # calculates relative Asp abundance\n",
    "prokaryotes['Lys'] = prokaryotes['Sequence'].apply(lambda x: rel_aa_comp(x, ['K'])) # calculates relative Glu abundance\n",
    "\n",
    "#plot individual proteins\n",
    "sns.scatterplot(data=prokaryotes, x='meltPoint', y='Asp', label = 'Asp', s= 10, alpha = 1)\n",
    "sns.scatterplot(data=prokaryotes, x='meltPoint', y='Lys', label = 'Lys', s= 10, alpha = 1)\n",
    "plt.xticks(np.arange(30, 100, 5))\n",
    "plt.ylabel('relative abundance of aminoacid properties')\n",
    "plt.grid(True, which='both', linestyle='--', linewidth=0.5)\n",
    "plt.show()\n",
    "\n",
    "#avg protein of each organism\n",
    "prokaryotes_average = prokaryotes_group.mean(['temperature', 'hydrophobic', 'acidic', 'polar_neutral', 'basic', 'Asp', 'Lys'])\n",
    "prokaryotes_average = prokaryotes_average.reset_index()\n",
    "\n",
    "\n",
    "#plot avg Asp contant of each organism agaisnt OGT\n",
    "sns.scatterplot(data = prokaryotes_average, x = 'temperature', y = 'Asp', hue = 'run_name', s= 50, alpha = 0.9)\n",
    "plt.legend(loc= 'lower right', bbox_to_anchor=(1.8, -0.01))  \n",
    "plt.grid(True, which='both', linestyle='--', linewidth=0.5)\n",
    "plt.show()\n",
    "\n",
    "#plot avg Lys contant of each organism agaisnt OGT\n",
    "sns.scatterplot(data = prokaryotes_average, x = 'temperature', y = 'Lys', hue = 'run_name', s= 50, alpha = 0.9)\n",
    "plt.legend(loc= 'lower right', bbox_to_anchor=(1.8, -0.01))  \n",
    "plt.grid(True, which='both', linestyle='--', linewidth=0.5)\n",
    "plt.show()\n"
   ]
  },
  {
   "cell_type": "code",
   "execution_count": null,
   "metadata": {},
   "outputs": [],
   "source": [
    "unique_prot = prokaryotes['Protein_ID'].unique()\n",
    "print(len(unique_prot))\n",
    "count = 0\n",
    "multiple_prot = []\n",
    "for n in range(len(unique_prot)):\n",
    "    if prokaryotes['Protein_ID'].value_counts()[n] > 1:\n",
    "        multiple_prot.append(unique_prot[n])"
   ]
  },
  {
   "cell_type": "code",
   "execution_count": 20,
   "metadata": {},
   "outputs": [
    {
     "name": "stdout",
     "output_type": "stream",
     "text": [
      "['Q9RA48_ORF', 'Q6L362_PTO0004', 'Q6L361_PTO0005', 'Q6L360_PTO0006', 'Q6L359_PTO0007', 'Q6L358_PTO0008', 'Q6L357_PTO0009', 'Q6L352_PTO0014', 'Q6L349_PTO0017', 'Q6L346_PTO0020', 'Q6L341_PTO0025', 'Q6L338_PTO0028', 'Q6L337_PTO0029', 'Q6L336_PTO0030', 'Q6L333_PTO0033', 'Q6L332_PTO0034', 'Q6L323_PTO0043', 'Q6L322_PTO0044', 'Q6L319_PTO0047', 'Q6L316_PTO0050', 'Q6L315_PTO0051', 'Q6L314_PTO0052', 'Q6L313_PTO0053', 'Q6L310_PTO0056', 'Q6L308_PTO0058', 'Q6L307_PTO0059', 'Q6L306_PTO0060', 'Q6L303_PTO0063', 'Q6L2Z7_PTO0069', 'Q6L2Z6_PTO0070', 'Q6L2Z0_PTO0076', 'Q6L2Y8_PTO0078', 'Q6L2Y6_PTO0080', 'Q6L2Y1_PTO0085', 'Q6L2X9_PTO0087', 'Q6L2X8_PTO0088', 'Q6L2X6_PTO0090', 'Q6L2X5_PTO0091', 'Q6L2X4_PTO0092', 'Q6L2W8_PTO0098', 'Q6L2W5_PTO0101', 'Q6L2W0_PTO0106', 'Q6L2V9_PTO0107', 'Q6L2V7_PTO0109', 'Q6L2V6_PTO0111', 'Q6L2V5_PTO0112', 'Q6L2V4_PTO0113', 'Q6L2V3_PTO0114', 'Q6L2V2_PTO0115', 'Q6L2U9_PTO0118', 'Q6L2U8_PTO0119', 'Q6L2U7_PTO0120', 'Q6L2U6_PTO0121', 'Q6L2U5_PTO0122', 'Q6L2U4_PTO0123', 'Q6L2U3_PTO0124', 'Q6L2U2_PTO0125', 'Q6L2T9_PTO0128', 'Q6L2T8_PTO0129', 'Q6L2T7_PTO0130', 'Q6L2T5_PTO0132', 'Q6L2S8_PTO0139', 'Q6L2S7_PTO0140', 'Q6L2S6_PTO0141', 'Q6L2S5_PTO0142', 'Q6L2S2_PTO0145', 'Q6L2S1_PTO0146', 'Q6L2S0_PTO0147', 'Q6L2R9_PTO0148', 'Q6L2R8_PTO0149', 'Q6L2R7_PTO0150', 'Q6L2R6_PTO0151', 'Q6L2R4_PTO0153', 'Q6L2R3_PTO0154', 'Q6L2Q9_PTO0158', 'Q6L2Q2_PTO0165', 'Q6L2P9_PTO0168', 'Q6L2P8_PTO0169', 'Q6L2P7_PTO0170', 'Q6L2P6_PTO0171', 'Q6L2P5_PTO0172', 'Q6L2P4_PTO0173', 'Q6L2P3_PTO0174', 'Q6L2P1_PTO0176', 'Q6L2N9_PTO0178', 'Q6L2N8_PTO0179', 'Q6L2N6_PTO0181', 'Q6L2N4_PTO0183', 'Q6L2N3_PTO0184', 'Q6L2N2_PTO0185', 'Q6L2N1_PTO0186', 'Q6L2N0_PTO0187', 'Q6L2M5_PTO0192', 'Q6L2M1_PTO0196', 'Q6L2L9_PTO0198', 'Q6L2L8_PTO0199', 'Q6L2L7_PTO0200', 'Q6L2L6_PTO0201', 'Q6L2L3_PTO0204', 'Q6L2K8_PTO0209', 'Q6L2K7_PTO0210', 'Q6L2K5_PTO0212', 'Q6L2K3_PTO0214', 'Q6L2K2_PTO0215', 'Q6L2K0_PTO0217', 'Q6L2J8_PTO0219', 'Q6L2J7_PTO0220', 'Q6L2J6_PTO0221', 'Q6L2J5_PTO0222', 'Q6L2J4_PTO0223', 'Q6L2J3_PTO0224', 'Q6L2J2_PTO0225', 'Q6L2J0_PTO0227', 'Q6L2I8_PTO0229', 'Q6L2I7_PTO0230', 'Q6L2I5_PTO0232', 'Q6L2I3_PTO0234', 'Q6L2H9_PTO0238', 'Q6L2H6_PTO0241', 'Q6L2H5_PTO0242', 'Q6L2H2_PTO0245', 'Q6L2H1_PTO0246', 'Q6L2H0_PTO0247', 'Q6L2G7_PTO0250', 'Q6L2G6_PTO0251', 'Q6L2G5_PTO0252', 'Q6L2G3_PTO0254', 'Q6L2G2_PTO0255', 'Q6L2F8_PTO0259', 'Q6L2F6_PTO0261', 'Q6L2F4_PTO0263', 'Q6L2F3_PTO0264', 'Q6L2F2_PTO0265', 'Q6L2F1_PTO0266', 'Q6L2F0_PTO0267', 'Q6L2E8_PTO0269', 'Q6L2E7_PTO0270', 'Q6L2E6_PTO0271', 'Q6L2E2_PTO0275', 'Q6L2E0_PTO0277', 'Q6L2D6_PTO0281', 'Q6L2D5_PTO0282', 'Q6L2D4_PTO0283', 'Q6L2D3_PTO0284', 'Q6L2D2_PTO0285', 'Q6L2D1_PTO0286', 'Q6L2D0_PTO0287', 'Q6L2C9_PTO0288', 'Q6L2C8_PTO0289', 'Q6L2C5_PTO0292', 'Q6L2B8_PTO0299', 'Q6L2B0_PTO0307', 'Q6L2A9_PTO0308', 'Q6L2A7_PTO0310', 'Q6L2A6_PTO0311', 'Q6L2A5_PTO0312', 'Q6L2A3_PTO0314', 'Q6L298_PTO0319', 'Q6L296_PTO0321', 'Q6L289_PTO0328', 'Q6L288_PTO0329', 'Q6L285_PTO0332', 'Q6L283_PTO0334', 'Q6L281_PTO0336', 'Q6L270_PTO0347', 'Q6L269_PTO0348', 'Q6L268_PTO0349', 'Q6L257_PTO0360', 'Q6L254_PTO0363', 'Q6L251_PTO0366', 'Q6L248_PTO0369', 'Q6L247_PTO0370', 'Q6L246_PTO0371', 'Q6L245_PTO0372', 'Q6L244_PTO0373', 'Q6L243_PTO0374', 'Q6L242_PTO0375', 'Q6L240_PTO0377', 'Q6L239_PTO0378', 'Q6L238_PTO0379', 'Q6L236_PTO0381', 'Q6L235_PTO0382', 'Q6L234_PTO0383', 'Q6L233_PTO0384', 'Q6L232_PTO0385', 'Q6L231_PTO0386', 'Q6L230_PTO0387', 'Q6L220_PTO0397', 'Q6L219_PTO0398', 'Q6L217_PTO0400', 'Q6L216_PTO0401', 'Q6L215_PTO0402', 'Q6L214_PTO0403', 'Q6L213_PTO0404', 'Q6L212_PTO0405', 'Q6L209_PTO0408', 'Q6L208_PTO0409', 'Q6L205_PTO0412', 'Q6L203_PTO0414', 'Q6L1Z9_PTO0418', 'Q6L1Z8_PTO0419', 'Q6L1Z6_PTO0421', 'Q6L1Z5_PTO0422', 'Q6L1Z2_PTO0425', 'Q6L1Z1_PTO0426', 'Q6L1Z0_PTO0427', 'Q6L1Y9_PTO0428', 'Q6L1Y8_PTO0429', 'Q6L1Y6_PTO0431', 'Q6L1Y4_PTO0433', 'Q6L1Y1_PTO0436', 'Q6L1X5_PTO0442', 'Q6L1X4_PTO0443', 'Q6L1X1_PTO0446', 'Q6L1W9_PTO0448', 'Q6L1W7_PTO0450', 'Q6L1W6_PTO0451', 'Q6L1W5_PTO0452', 'Q6L1W2_PTO0455', 'Q6L1W1_PTO0456', 'Q6L1V6_PTO0461', 'Q6L1V5_PTO0462', 'Q6L1V3_PTO0464', 'Q6L1V2_PTO0465', 'Q6L1V0_PTO0467', 'Q6L1U9_PTO0468', 'Q6L1U6_PTO0471', 'Q6L1U5_PTO0472', 'Q6L1U4_PTO0473', 'Q6L1U3_PTO0474', 'Q6L1U2_PTO0475', 'Q6L1U0_PTO0477', 'Q6L1T9_PTO0478', 'Q6L1T8_PTO0479', 'Q6L1T7_PTO0480', 'Q6L1T3_PTO0484', 'Q6L1T1_PTO0486', 'Q6L1T0_PTO0487', 'Q6L1S6_PTO0491', 'Q6L1S2_PTO0495', 'Q6L1S0_PTO0497', 'Q6L1R8_PTO0499', 'Q6L1R7_PTO0500', 'Q6L1R4_PTO0503', 'Q6L1Q8_PTO0509', 'Q6L1Q7_PTO0510', 'Q6L1Q6_PTO0511', 'Q6L1Q3_PTO0514', 'Q6L1P8_PTO0519', 'Q6L1P4_PTO0523', 'Q6L1P2_PTO0525', 'Q6L1P1_PTO0526', 'Q6L1P0_PTO0527', 'Q6L1N9_PTO0528', 'Q6L1N8_PTO0529', 'Q6L1N6_PTO0531', 'Q6L1N4_PTO0533', 'Q6L1N1_PTO0536', 'Q6L1M9_PTO0538', 'Q6L1M8_PTO0539', 'Q6L1M7_PTO0540', 'Q6L1M6_PTO0541', 'Q6L1M3_PTO0544', 'Q6L1M1_PTO0546', 'Q6L1M0_PTO0547', 'Q6L1L9_PTO0548', 'Q6L1L8_PTO0549', 'Q6L1L6_PTO0551', 'Q6L1L3_PTO0554', 'Q6L1L2_PTO0555', 'Q6L1K8_PTO0559', 'Q6L1K5_PTO0562', 'Q6L1K4_PTO0563', 'Q6L1K1_PTO0566', 'Q6L1K0_PTO0567', 'Q6L1J3_PTO0574', 'Q6L1J2_PTO0575', 'Q6L1J1_PTO0576', 'Q6L1I5_PTO0582', 'Q6L1I2_PTO0585', 'Q6L1I1_PTO0586', 'Q6L1H9_PTO0588', 'Q6L1H8_PTO0589', 'Q6L1H7_PTO0590', 'Q6L1H5_PTO0592', 'Q6L1H1_PTO0596', 'Q6L1G9_PTO0598', 'Q6L1G7_PTO0600', 'Q6L1G4_PTO0603', 'Q6L1G3_PTO0604', 'Q6L1F9_PTO0608', 'Q6L1F7_PTO0610', 'Q6L1F3_PTO0614', 'Q6L1F2_PTO0615', 'Q6L1F1_PTO0616', 'Q6L1E9_PTO0618', 'Q6L1E8_PTO0619', 'Q6L1E7_PTO0620', 'Q6L1E6_PTO0621', 'Q6L1E4_PTO0623', 'Q6L1E1_PTO0626', 'Q6L1E0_PTO0627', 'Q6L1D8_PTO0629', 'Q6L1D6_PTO0631', 'Q6L1D5_PTO0632', 'Q6L1D4_PTO0633', 'Q6L1D3_PTO0634', 'Q6L1D2_PTO0635', 'Q6L1D1_PTO0636', 'Q6L1D0_PTO0637', 'Q6L1B9_PTO0648', 'Q6L1A2_PTO0665', 'Q6L199_PTO0668', 'Q6L197_PTO0670', 'Q6L196_PTO0671', 'Q6L194_PTO0673', 'Q6L191_PTO0676', 'Q6L190_PTO0677', 'Q6L189_PTO0678', 'Q6L188_PTO0679', 'Q6L186_PTO0681', 'Q6L185_PTO0682', 'Q6L184_PTO0683', 'Q6L182_PTO0685', 'Q6L180_PTO0687', 'Q6L179_PTO0688', 'Q6L177_PTO0690', 'Q6L176_PTO0691', 'Q6L175_PTO0692', 'Q6L173_PTO0694', 'Q6L172_PTO0695', 'Q6L171_PTO0696', 'Q6L168_PTO0699', 'Q6L167_PTO0700', 'Q6L165_PTO0702', 'Q6L164_PTO0703', 'Q6L163_PTO0704', 'Q6L160_PTO0707', 'Q6L159_PTO0708', 'Q6L156_PTO0711', 'Q6L151_PTO0716', 'Q6L146_PTO0721', 'Q6L145_PTO0722', 'Q6L143_PTO0724', 'Q6L142_PTO0725', 'Q6L140_PTO0727', 'Q6L139_PTO0728', 'Q6L138_PTO0729', 'Q6L133_PTO0734', 'Q6L132_PTO0735', 'Q6L131_PTO0736', 'Q6L130_PTO0737', 'Q6L129_PTO0738', 'Q6L128_PTO0739', 'Q6L127_PTO0740', 'Q6L124_PTO0743', 'Q6L122_PTO0745', 'Q6L119_PTO0748', 'Q6L116_PTO0751', 'Q6L115_PTO0752', 'Q6L114_PTO0753', 'Q6L112_PTO0755', 'Q6L111_PTO0756', 'Q6L110_PTO0757', 'Q6L107_PTO0760', 'Q6L104_PTO0763', 'Q6L103_PTO0764', 'Q6L0Z9_PTO0768', 'Q6L0Z8_PTO0769', 'Q6L0Z7_PTO0770', 'Q6L0Z5_PTO0772', 'Q6L0Y9_PTO0778', 'Q6L0Y6_PTO0781', 'Q6L0Y5_PTO0782', 'Q6L0Y4_PTO0783', 'Q6L0Y2_PTO0785', 'Q6L0Y1_PTO0786', 'Q6L0X6_PTO0791', 'Q6L0X5_PTO0792', 'Q6L0X4_PTO0793', 'Q6L0W9_PTO0798', 'Q6L0W7_PTO0800', 'Q6L0W6_PTO0801', 'Q6L0W2_PTO0805', 'Q6L0V8_PTO0809', 'Q6L0V7_PTO0810', 'Q6L0V4_PTO0813', 'Q6L0V3_PTO0814', 'Q6L0V1_PTO0816', 'Q6L0V0_PTO0817', 'Q6L0U9_PTO0818', 'Q6L0U8_PTO0819', 'Q6L0U6_PTO0821', 'Q6L0U5_PTO0822', 'Q6L0U4_PTO0823', 'Q6L0T7_PTO0830', 'Q6L0T6_PTO0831', 'Q6L0T3_PTO0834', 'Q6L0T2_PTO0835', 'Q6L0T0_PTO0837', 'Q6L0S5_PTO0842', 'Q6L0S2_PTO0845', 'Q6L0S1_PTO0846', 'Q6L0S0_PTO0847', 'Q6L0R9_PTO0848', 'Q6L0R6_PTO0851', 'Q6L0R5_PTO0852', 'Q6L0Q9_PTO0858', 'Q6L0Q8_PTO0859', 'Q6L0Q7_PTO0860', 'Q6L0Q6_PTO0861', 'Q6L0Q5_PTO0862', 'Q6L0Q4_PTO0863', 'Q6L0P9_PTO0868', 'Q6L0P6_PTO0871', 'Q6L0P3_PTO0874', 'Q6L0P0_PTO0877', 'Q6L0N8_PTO0879', 'Q6L0N7_PTO0880', 'Q6L0N6_PTO0881', 'Q6L0N5_PTO0882', 'Q6L0N3_PTO0884', 'Q6L0N1_PTO0886', 'Q6L0N0_PTO0887', 'Q6L0M9_PTO0888', 'Q6L0M8_PTO0889', 'Q6L0M7_PTO0890', 'Q6L0M6_PTO0891', 'Q6L0M5_PTO0892', 'Q6L0M4_PTO0893', 'Q6L0M3_PTO0894', 'Q6L0M1_PTO0896', 'Q6L0M0_PTO0897', 'Q6L0L8_PTO0899', 'Q6L0L6_PTO0901', 'Q6L0L2_PTO0905', 'Q6L0L1_PTO0906', 'Q6L0L0_PTO0907', 'Q6L0K9_PTO0908', 'Q6L0K8_PTO0909', 'Q6L0K7_PTO0910', 'Q6L0J8_PTO0919', 'Q6L0J0_PTO0927', 'Q6L0I4_PTO0933', 'Q6L0I3_PTO0934', 'Q6L0I2_PTO0935', 'Q6L0H9_PTO0938', 'Q6L0H8_PTO0939', 'Q6L0H6_PTO0941', 'Q6L0H5_PTO0942', 'Q6L0H4_PTO0943', 'Q6L0H3_PTO0944', 'Q6L0H2_PTO0945', 'Q6L0H1_PTO0946', 'Q6L0H0_PTO0947', 'Q6L0G8_PTO0949', 'Q6L0G7_PTO0950', 'Q6L0G5_PTO0952', 'Q6L0G4_PTO0953', 'Q6L0G3_PTO0954', 'Q6L0G2_PTO0955', 'Q6L0G1_PTO0956', 'Q6L0G0_PTO0957', 'Q6L0F9_PTO0958', 'Q6L0F7_PTO0960', 'Q6L0F6_PTO0961', 'Q6L0F5_PTO0962', 'Q6L0F4_PTO0963', 'Q6L0F0_PTO0967', 'Q6L0E7_PTO0970', 'Q6L0E4_PTO0973', 'Q6L0E2_PTO0975', 'Q6L0D7_PTO0980', 'Q6L0D6_PTO0981', 'Q6L0D4_PTO0983', 'Q6L0C9_PTO0988', 'Q6L0C7_PTO0990', 'Q6L0C5_PTO0992', 'Q6L0C4_PTO0993', 'Q6L0C2_PTO0995', 'Q6L0C1_PTO0996', 'Q6L0C0_PTO0997', 'Q6L0B9_PTO0998', 'Q6L0B8_PTO0999', 'Q6L0B7_PTO1000', 'Q6L0B6_PTO1001', 'Q6L0B4_PTO1003', 'Q6L0B3_PTO1004', 'Q6L0B1_PTO1006', 'Q6L0B0_PTO1007', 'Q6L0A6_PTO1011', 'Q6L0A5_PTO1012', 'Q6L0A4_PTO1013', 'Q6L0A1_PTO1016', 'Q6L099_PTO1018', 'Q6L097_PTO1020', 'Q6L096_PTO1021', 'Q6L095_PTO1022', 'Q6L094_PTO1023', 'Q6L093_PTO1024', 'Q6L092_PTO1025', 'Q6L091_PTO1026', 'Q6L090_PTO1027', 'Q6L089_PTO1028', 'Q6L088_PTO1029', 'Q6L087_PTO1030', 'Q6L085_PTO1032', 'Q6L084_PTO1033', 'Q6L083_PTO1034', 'Q6L081_PTO1036', 'Q6L079_PTO1038', 'Q6L078_PTO1039', 'Q6L077_PTO1040', 'Q6L076_PTO1041', 'Q6L072_PTO1045', 'Q6L071_PTO1046', 'Q6L070_PTO1047', 'Q6L069_PTO1048', 'Q6L066_PTO1051', 'Q6L064_PTO1053', 'Q6L063_PTO1054', 'Q6L062_PTO1055', 'Q6L061_PTO1056', 'Q6L058_PTO1059', 'Q6L057_PTO1060', 'Q6L056_PTO1061', 'Q6L053_PTO1064', 'Q6L052_PTO1065', 'Q6L051_PTO1066', 'Q6L050_PTO1067', 'Q6L048_PTO1069', 'Q6L044_PTO1073', 'Q6L040_PTO1077', 'Q6L039_PTO1078', 'Q6L038_PTO1079', 'Q6L034_PTO1083', 'Q6L033_PTO1084', 'Q6L032_PTO1085', 'Q6L031_PTO1086', 'Q6L030_PTO1087', 'Q6L025_PTO1092', 'Q6L024_PTO1093', 'Q6L023_PTO1094', 'Q6L021_PTO1096', 'Q6L018_PTO1099', 'Q6L017_PTO1100', 'Q6L015_PTO1102', 'Q6L014_PTO1103', 'Q6L011_PTO1106', 'Q6L010_PTO1107', 'Q6L009_PTO1108', 'Q6L008_PTO1109', 'Q6L006_PTO1111', 'Q6L005_PTO1112', 'Q6L004_PTO1113', 'Q6L003_PTO1114', 'Q6L002_PTO1115', 'Q6L001_PTO1116', 'Q6KZZ9_PTO1118', 'Q6KZZ8_PTO1119', 'Q6KZZ7_PTO1120', 'Q6KZZ6_PTO1121', 'Q6KZZ5_PTO1122', 'Q6KZZ3_PTO1124', 'Q6KZY9_PTO1128', 'Q6KZY7_PTO1130', 'Q6KZY5_PTO1132', 'Q6KZY4_PTO1133', 'Q6KZY3_PTO1134', 'Q6KZX9_PTO1138', 'Q6KZX6_PTO1141', 'Q6KZX5_PTO1142', 'Q6KZX4_PTO1143', 'Q6KZX0_PTO1147', 'Q6KZW9_PTO1148', 'Q6KZW8_PTO1149', 'Q6KZW7_PTO1150', 'Q6KZW6_PTO1151', 'Q6KZW5_PTO1152', 'Q6KZW3_PTO1154', 'Q6KZW1_PTO1156', 'Q6KZV9_PTO1158', 'Q6KZV8_PTO1159', 'Q6KZV7_PTO1160', 'Q6KZV6_PTO1161', 'Q6KZV4_PTO1163', 'Q6KZV1_PTO1166', 'Q6KZU7_PTO1170', 'Q6KZU6_PTO1171', 'Q6KZU3_PTO1174', 'Q6KZU2_PTO1175', 'Q6KZU1_PTO1176', 'Q6KZU0_PTO1177', 'Q6KZT9_PTO1178', 'Q6KZT6_PTO1181', 'Q6KZT5_PTO1182', 'Q6KZT2_PTO1185', 'Q6KZT1_PTO1186', 'Q6KZT0_PTO1187', 'Q6KZS9_PTO1188', 'Q6KZS8_PTO1189', 'Q6KZS6_PTO1191', 'Q6KZS3_PTO1194', 'Q6KZS2_PTO1195', 'Q6KZS0_PTO1197', 'Q6KZR9_PTO1198', 'Q6KZR8_PTO1199', 'Q6KZR6_PTO1201', 'Q6KZR5_PTO1202', 'Q6KZQ8_PTO1209', 'Q6KZQ7_PTO1210', 'Q6KZQ6_PTO1211', 'Q6KZQ4_PTO1213', 'Q6KZQ2_PTO1215', 'Q6KZQ1_PTO1216', 'Q6KZQ0_PTO1217', 'Q6KZP9_PTO1218', 'Q6KZP3_PTO1224', 'Q6KZP2_PTO1225', 'Q6KZP1_PTO1226', 'Q6KZP0_PTO1227', 'Q6KZN9_PTO1228', 'Q6KZN7_PTO1230', 'Q6KZN6_PTO1231', 'Q6KZN4_PTO1233', 'Q6KZN2_PTO1235', 'Q6KZN1_PTO1236', 'Q6KZN0_PTO1237', 'Q6KZM9_PTO1238', 'Q6KZM8_PTO1239', 'Q6KZM7_PTO1240', 'Q6KZM6_PTO1241', 'Q6KZM5_PTO1242', 'Q6KZM4_PTO1243', 'Q6KZM2_PTO1245', 'Q6KZL9_PTO1248', 'Q6KZL8_PTO1249', 'Q6KZK9_PTO1258', 'Q6KZK8_PTO1259', 'Q6KZK6_PTO1261', 'Q6KZK5_PTO1262', 'Q6KZK2_PTO1265', 'Q6KZK1_PTO1266', 'Q6KZJ7_PTO1270', 'Q6KZJ5_PTO1272', 'Q6KZJ2_PTO1275', 'Q6KZJ1_PTO1276', 'Q6KZJ0_PTO1277', 'Q6KZI8_PTO1279', 'Q6KZI0_PTO1287', 'Q6KZH8_PTO1289', 'Q6KZH7_PTO1290', 'Q6KZH6_PTO1291', 'Q6KZH5_PTO1292', 'Q6KZH3_PTO1294', 'Q6KZH2_PTO1295', 'Q6KZH1_PTO1296', 'Q6KZH0_PTO1297', 'Q6KZG3_PTO1304', 'Q6KZG2_PTO1305', 'Q6KZF6_PTO1311', 'Q6KZF2_PTO1315', 'Q6KZF0_PTO1317', 'Q6KZE9_PTO1318', 'Q6KZE7_PTO1320', 'Q6KZE6_PTO1321', 'Q6KZE5_PTO1322', 'Q6KZE4_PTO1323', 'Q6KZE3_PTO1324', 'Q6KZE2_PTO1325', 'Q6KZD9_PTO1328', 'Q6KZD8_PTO1329', 'Q6KZD7_PTO1330', 'Q6KZD4_PTO1333', 'Q6KZD2_PTO1335', 'Q6KZC8_PTO1339', 'Q6KZC6_PTO1341', 'Q6KZC4_PTO1343', 'Q6KZC0_PTO1347', 'Q6KZB9_PTO1348', 'Q6KZB5_PTO1352', 'Q6KZB1_PTO1356', 'Q6KZB0_PTO1357', 'Q6KZA7_PTO1360', 'Q6KZA6_PTO1361', 'Q6KZA4_PTO1363', 'Q6KZA2_PTO1365', 'Q6KZA0_PTO1367', 'Q6KZ98_PTO1369', 'Q6KZ97_PTO1370', 'Q6KZ96_PTO1371', 'Q6KZ95_PTO1372', 'Q6KZ94_PTO1373', 'Q6KZ93_PTO1374', 'Q6KZ88_PTO1379', 'Q6KZ86_PTO1381', 'Q6KZ84_PTO1383', 'Q6KZ83_PTO1384', 'Q6KZ82_PTO1385', 'Q6KZ78_PTO1389', 'Q6KZ71_PTO1396', 'Q6KZ68_PTO1399', 'Q6KZ66_PTO1401', 'Q6KZ65_PTO1402', 'Q6KZ64_PTO1403', 'Q6KZ63_PTO1404', 'Q6KZ62_PTO1405', 'Q6KZ58_PTO1409', 'Q6KZ57_PTO1410', 'Q6KZ56_PTO1411', 'Q6KZ55_PTO1412', 'Q6KZ53_PTO1414', 'Q6KZ52_PTO1415', 'Q6KZ50_PTO1417', 'Q6KZ49_PTO1418', 'Q6KZ48_PTO1419', 'Q6KZ47_PTO1420', 'Q6KZ45_PTO1422', 'Q6KZ44_PTO1423', 'Q6KZ42_PTO1425', 'Q6KZ40_PTO1427', 'Q6KZ39_PTO1428', 'Q6KZ37_PTO1430', 'Q6KZ36_PTO1431', 'Q6KZ35_PTO1432', 'Q6KZ34_PTO1433', 'Q6KZ33_PTO1434', 'Q6KZ32_PTO1435', 'Q6KZ29_PTO1438', 'Q6KZ28_PTO1439', 'Q6KZ22_PTO1445', 'Q6KZ21_PTO1446', 'Q6KZ20_PTO1447', 'Q6KZ18_PTO1449', 'Q6KZ17_PTO1450', 'Q6KZ16_PTO1451', 'Q6KZ15_PTO1452', 'Q6KZ14_PTO1453', 'Q6KZ13_PTO1454', 'Q6KZ09_PTO1458', 'Q6KZ08_PTO1459', 'Q6KZ07_PTO1460', 'Q6KYZ7_PTO1470', 'Q6KYY8_PTO1479', 'Q6KYY6_PTO1481', 'Q6KYY3_PTO1484', 'Q6KYY2_PTO1485', 'Q6KYY1_PTO1486', 'Q6KYY0_PTO1487', 'Q6KYX9_PTO1488', 'Q6KYX8_PTO1489', 'Q6KYX5_PTO1492', 'Q6KYX4_PTO1493', 'Q6KYX2_PTO1495', 'Q6KYX0_PTO1497', 'Q6KYW9_PTO1498', 'Q6KYW8_PTO1499', 'Q6KYW5_PTO1502', 'Q6KYW4_PTO1503', 'Q6KYW3_PTO1504', 'Q6KYW2_PTO1505', 'Q6KYW1_PTO1506', 'Q6KYW0_PTO1507', 'Q6KYV9_PTO1508', 'Q6KYU8_PTO1519', 'Q6KYU7_PTO1520', 'Q6KYU6_PTO1521', 'Q6KYU5_PTO1522', 'Q6KYU4_PTO1523', 'Q6KYU0_PTO1527', 'Q72LQ6_TT_C0002', 'Q72LQ5_TT_C0003', 'Q72LQ4_TT_C0004', 'Q72LQ3_TT_C0005', 'Q72LQ1_TT_C0007', 'Q72LQ0_TT_C0008', 'Q72LP8_TT_C0010', 'Q72LP7_TT_C0011', 'Q72LP6_TT_C0012', 'Q72LP3_TT_C0015', 'Q72LN8_TT_C0020', 'Q72LN7_TT_C0021', 'Q72LN5_TT_C0023', 'Q72LN2_TT_C0026', 'Q72LN1_TT_C0027', 'Q72LN0_TT_C0028', 'Q72LM9_TT_C0029', 'Q72LM8_TT_C0030', 'Q72LM7_TT_C0031', 'Q72LM6_TT_C0032', 'Q72LM5_TT_C0033', 'Q72LM2_TT_C0036', 'Q72LM1_TT_C0037', 'Q72LL9_TT_C0040', 'Q72LL5_TT_C0044', 'Q72LL4_TT_C0045', 'Q72LL2_TT_C0047', 'Q72LL1_TT_C0048', 'Q72LK8_TT_C0051', 'Q72LK7_TT_C0052', 'Q72LK6_TT_C0053', 'Q72LK5_TT_C0054', 'Q72LK4_TT_C0055', 'Q72LK2_TT_C0057', 'Q72LJ6_TT_C0063', 'Q72LJ4_TT_C0065', 'Q72LJ0_TT_C0069', 'Q72LI8_TT_C0071', 'Q72LI7_TT_C0072', 'Q72LI5_TT_C0074', 'Q72LI0_TT_C0079', 'Q72LH7_TT_C0082', 'Q72LH3_TT_C0086', 'Q72LH2_TT_C0087', 'Q72LG9_TT_C0090', 'Q72LG8_TT_C0091', 'Q9F0S8_TT_C0093', 'Q72LG5_TT_C0094', 'Q72LG3_TT_C0096', 'Q72LG2_TT_C0097', 'Q72LF5_TT_C0104', 'Q72LF2_TT_C0107', 'Q72LF1_TT_C0108', 'Q72LF0_TT_C0109', 'Q72LE8_TT_C0111', 'Q72LE4_TT_C0115', 'Q72LE2_TT_C0117', 'Q72LD8_TT_C0121', 'Q72LD7_TT_C0122', 'Q72LD5_TT_C0124', 'Q72LD3_TT_C0126', 'Q72LD0_TT_C0129', 'Q72LC9_TT_C0130', 'Q72LC6_TT_C0133', 'Q72LC5_TT_C0134', 'Q72LC4_TT_C0135', 'Q72LC3_TT_C0136', 'Q72LB9_TT_C0140', 'Q72LB7_TT_C0142', 'Q72LB6_TT_C0143', 'Q72LB5_TT_C0144', 'Q72LB4_TT_C0145', 'Q72LB2_TT_C0147', 'Q72LA7_TT_C0152', 'Q72LA4_TT_C0155', 'Q72LA2_TT_C0157', 'Q72LA1_TT_C0158', 'Q72LA0_TT_C0159', 'Q72L99_TT_C0160', 'Q72L97_TT_C0162', 'Q72L94_TT_C0165', 'Q72L88_TT_C0172', 'Q72L84_TT_C0176', 'Q72L82_TT_C0178', 'Q72L80_TT_C0180', 'Q72L79_TT_C0181', 'Q72L78_TT_C0182', 'Q72L72_TT_C0191', 'Q72L71_TT_C0192', 'Q72L70_TT_C0193', 'Q72L69_TT_C0194', 'Q72L67_TT_C0196', 'Q72L63_TT_C0200', 'Q72L61_TT_C0202', 'Q72L60_TT_C0203', 'Q72L57_TT_C0206', 'Q72L56_TT_C0207', 'Q72L54_TT_C0209', 'Q72L52_TT_C0211', 'Q72L50_TT_C0213', 'Q72L49_TT_C0214', 'Q72L46_TT_C0217', 'Q72L42_TT_C0221', 'Q72L41_TT_C0222', 'Q72L40_TT_C0223', 'Q72L39_TT_C0224', 'Q72L38_TT_C0225', 'Q72L37_TT_C0226', 'Q72L36_TT_C0227', 'Q72L35_TT_C0228', 'Q72L34_TT_C0229', 'Q72L33_TT_C0230', 'Q72L30_TT_C0233', 'Q72L29_TT_C0234', 'Q72L28_TT_C0235', 'Q72L27_TT_C0236', 'Q72L25_TT_C0238', 'Q72L19_TT_C0245', 'Q72L18_TT_C0246', 'Q72L13_TT_C0252', 'Q72L12_TT_C0253', 'Q72L10_TT_C0255', 'Q72L09_TT_C0256', 'Q72L06_TT_C0259', 'Q72L02_TT_C0263', 'Q72KZ6_TT_C0269', 'Q72KZ5_TT_C0270', 'Q72KZ4_TT_C0271', 'Q72KZ1_TT_C0274', 'Q72KZ0_TT_C0275', 'Q72KY9_TT_C0276', 'Q72KY6_TT_C0279', 'Q72KY5_TT_C0280', 'Q72KY4_TT_C0281', 'Q72KY3_TT_C0282', 'Q72KY1_TT_C0284', 'Q72KY0_TT_C0285', 'Q72KX9_TT_C0286', 'Q72KX7_TT_C0288', 'Q72KX6_TT_C0289', 'Q72K78_TT_C0293', 'Q72K77_TT_C0294', 'Q72K76_TT_C0295', 'Q72K73_TT_C0298', 'Q72K72_TT_C0299', 'Q72KL1_TT_C0300', 'Q72KL0_TT_C0301', 'Q72KK9_TT_C0302', 'Q72KK7_TT_C0304', 'Q72KK6_TT_C0305', 'Q72KL5_TT_C0306', 'Q72KL4_TT_C0307', 'Q72KM2_TT_C0311', 'Q72KM1_TT_C0312', 'Q72KM0_TT_C0313', 'Q72KP7_TT_C0318', 'Q72KP5_TT_C0320', 'Q72KP4_TT_C0321', 'Q72KP3_TT_C0322', 'Q72KP2_TT_C0323', 'Q72KX4_TT_C0326', 'Q72KX3_TT_C0327', 'Q72KX2_TT_C0328', 'Q72KX1_TT_C0329', 'Q72KX0_TT_C0330', 'Q72KW9_TT_C0331', 'Q72KW8_TT_C0332', 'Q72KQ5_TT_C0333', 'Q72KQ0_TT_C0338', 'Q72KP8_TT_C0340', 'Q72KF3_TT_C0342', 'Q72KF2_TT_C0343', 'Q72KG5_TT_C0348', 'Q72KG2_TT_C0351', 'Q72KF9_TT_C0354', 'Q72KF6_TT_C0357', 'Q72KH2_TT_C0363', 'Q72KH0_TT_C0365', 'Q72KG8_TT_C0367', 'Q72KG7_TT_C0368', 'Q72KG6_TT_C0369', 'Q72KN7_TT_C0371', 'Q72KN6_TT_C0372', 'Q72KN5_TT_C0373', 'Q72KN3_TT_C0374', 'Q72KN2_TT_C0375', 'Q72KN1_TT_C0376', 'Q72KN4_TT_C0377', 'Q72KN0_TT_C0378', 'Q72KM9_TT_C0379', 'Q72KM8_TT_C0380', 'Q72KM6_TT_C0382', 'Q72KM5_TT_C0383', 'Q72KM3_TT_C0384', 'Q72KM4_TT_C0385', 'Q72KV5_TT_C0386', 'Q72KV4_TT_C0387', 'Q72KV3_TT_C0388', 'Q72KV1_TT_C0390', 'Q72KU7_TT_C0394', 'Q72KU5_TT_C0396', 'Q72KW7_TT_C0397', 'Q72KW6_TT_C0398', 'Q72KW3_TT_C0401', 'Q72KW2_TT_C0402', 'Q72KW1_TT_C0403', 'Q72KW0_TT_C0404', 'Q72KV9_TT_C0405', 'Q72KV8_TT_C0406', 'Q72KV7_TT_C0408', 'Q72KS0_TT_C0410', 'Q72KT1_TT_C0411', 'Q72KT0_TT_C0412', 'Q72KS9_TT_C0413', 'Q72KS8_TT_C0414', 'Q72KS7_TT_C0415', 'Q72KS6_TT_C0416', 'Q72KS5_TT_C0417', 'Q72KS2_TT_C0420', 'Q72KS1_TT_C0421', 'Q72KR9_TT_C0422', 'Q72KU4_TT_C0423', 'Q72KU2_TT_C0425', 'Q72KT6_TT_C0431', 'Q72KT3_TT_C0434', 'Q72KT2_TT_C0435', 'Q72KJ6_TT_C0438', 'Q72KJ5_TT_C0439', 'Q72KJ3_TT_C0441', 'Q72KK5_TT_C0443', 'Q72KK1_TT_C0447', 'Q72KK0_TT_C0448', 'Q72KJ9_TT_C0449', 'Q72KR4_TT_C0454', 'Q72KR3_TT_C0455', 'Q72KR2_TT_C0456', 'Q72KR1_TT_C0457', 'Q72KR0_TT_C0458', 'Q72KQ7_TT_C0461', 'Q72KQ6_TT_C0462', 'Q72K64_TT_C0463', 'Q72K62_TT_C0465', 'Q72K60_TT_C0467', 'P62041_TT_C0469', 'Q72K54_TT_C0473', 'Q72KI4_TT_C0476', 'Q72KI2_TT_C0478', 'Q72KI1_TT_C0479', 'Q72KI0_TT_C0480', 'Q72KH9_TT_C0481', 'Q72KJ1_TT_C0484', 'Q72KI9_TT_C0486', 'Q72KI8_TT_C0487', 'Q72KI6_TT_C0489', 'Q72K71_TT_C0492', 'Q72K67_TT_C0495', 'Q72K65_TT_C0497', 'Q72KE7_TT_C0498', 'Q72KE6_TT_C0499', 'Q72KE4_TT_C0502', 'Q72KE3_TT_C0503', 'Q72KE1_TT_C0505', 'Q72KD6_TT_C0510', 'Q72KD4_TT_C0512', 'Q72KD3_TT_C0513', 'Q72KC9_TT_C0517', 'Q72KC8_TT_C0518', 'Q72KC4_TT_C0523', 'Q72KC3_TT_C0524', 'Q72KC1_TT_C0526', 'Q72KC0_TT_C0527', 'Q72KB8_TT_C0529', 'Q72KB6_TT_C0531', 'Q72KB3_TT_C0534', 'Q72KB2_TT_C0535', 'Q72KB1_TT_C0536', 'Q72KA8_TT_C0539', 'Q72KA7_TT_C0540', 'Q72KA6_TT_C0541', 'Q72KA5_TT_C0542', 'Q72KA4_TT_C0543', 'Q72KA3_TT_C0544', 'Q72KA2_TT_C0545', 'Q72KA0_TT_C0547', 'Q72K98_TT_C0549', 'Q72K95_TT_C0552', 'Q72K92_TT_C0555', 'Q72K91_TT_C0556', 'Q72K88_TT_C0559', 'Q72K50_TT_C0568', 'Q72K42_TT_C0576', 'Q72K32_TT_C0586', 'Q72K26_TT_C0592', 'Q72K25_TT_C0593', 'Q72K24_TT_C0594', 'Q72K23_TT_C0595', 'Q72K22_TT_C0596', 'Q72K21_TT_C0597', 'Q72K17_TT_C0601', 'Q72K16_TT_C0602', 'Q72K15_TT_C0603', 'Q72K08_TT_C0610', 'Q72K07_TT_C0611', 'Q72K05_TT_C0613', 'Q72K04_TT_C0614', 'Q72K03_TT_C0615', 'Q72K01_TT_C0617', 'Q72JZ9_TT_C0619', 'Q72JZ7_TT_C0621', 'Q72JZ6_TT_C0622', 'Q72JZ5_TT_C0623', 'Q72JZ4_TT_C0624', 'Q72JZ3_TT_C0625', 'Q72JZ1_TT_C0627', 'Q72JY9_TT_C0629', 'Q72JY8_TT_C0630', 'Q72JY6_TT_C0632', 'Q72JY5_TT_C0633', 'Q72JY4_TT_C0634', 'Q72JY3_TT_C0635', 'Q72JY2_TT_C0636', 'Q72JY1_TT_C0637', 'Q72JY0_TT_C0638', 'Q72JX9_TT_C0639', 'Q72JX7_TT_C0641', 'Q72JX5_TT_C0643', 'Q72JX4_TT_C0644', 'Q72JX3_TT_C0645', 'Q72JX1_TT_C0647', 'Q72JX0_TT_C0648', 'Q72JW7_TT_C0651', 'Q72JW6_TT_C0652', 'Q72JV5_TT_C0663', 'Q72JV4_TT_C0664', 'Q72JV3_TT_C0665', 'Q72JV1_TT_C0667', 'Q72JV0_TT_C0668', 'Q72JU3_TT_C0675', 'Q72JU2_TT_C0676', 'Q72JU1_TT_C0677', 'Q72JT7_TT_C0681', 'Q72JT1_TT_C0687', 'Q72JS9_TT_C0689', 'Q72JS6_TT_C0692', 'Q72JS2_TT_C0696', 'Q72JS0_TT_C0698', 'Q72JR5_TT_C0703', 'Q72JR3_TT_C0705', 'Q72JQ4_TT_C0714', 'Q72JQ3_TT_C0715', 'Q72JP2_TT_C0726', 'Q72JP0_TT_C0728', 'Q72JN7_TT_C0733', 'Q72JN6_TT_C0734', 'Q72JN5_TT_C0735', 'Q72JN4_TT_C0736', 'Q72JN3_TT_C0737', 'Q72JM9_TT_C0743', 'Q72JM8_TT_C0744', 'Q72JM7_TT_C0745', 'Q72JM5_TT_C0747', 'Q72JM3_TT_C0749', 'Q72JM0_TT_C0752', 'Q72JL5_TT_C0757', 'Q72JL4_TT_C0758', 'Q72JL3_TT_C0759', 'Q72JL1_TT_C0761', 'Q72JK9_TT_C0763', 'Q72JK8_TT_C0764', 'Q72JK7_TT_C0765', 'Q72JK6_TT_C0766', 'Q72JK5_TT_C0767', 'Q72JK3_TT_C0769', 'Q72JK2_TT_C0770', 'Q72JK0_TT_C0772', 'Q72JJ4_TT_C0778', 'Q72JJ3_TT_C0779', 'Q72JJ2_TT_C0780', 'Q72JJ1_TT_C0781', 'Q72JJ0_TT_C0782', 'Q72JI9_TT_C0783', 'Q72JI7_TT_C0785', 'Q72JI4_TT_C0788', 'Q72JI3_TT_C0789', 'Q72JI0_TT_C0792', 'Q72JH9_TT_C0793', 'Q72JH8_TT_C0794', 'Q72JH7_TT_C0795', 'Q72JH6_TT_C0796', 'Q72JH5_TT_C0797', 'Q72JH4_TT_C0798', 'Q72JH3_TT_C0799', 'Q72JH2_TT_C0800', 'Q72JH0_TT_C0802', 'Q72JG8_TT_C0804', 'Q72JG6_TT_C0806', 'Q72JG5_TT_C0807', 'Q72JG4_TT_C0808', 'Q72JG0_TT_C0812', 'Q72JF8_TT_C0814', 'Q72JF7_TT_C0815', 'Q72JF6_TT_C0816', 'Q72JF5_TT_C0817', 'Q72JF3_TT_C0819', 'Q72JF2_TT_C0820', 'Q72JE8_TT_C0824', 'Q72JE7_TT_C0825', 'Q72JE5_TT_C0827', 'Q72JE2_TT_C0830', 'Q72JE0_TT_C0832', 'Q72JD9_TT_C0833', 'Q72JD8_TT_C0834', 'Q72JD3_TT_C0843', 'Q72JD1_TT_C0847', 'Q72JC7_TT_C0851', 'Q72JC6_TT_C0852', 'Q72JC5_TT_C0853', 'Q72JB9_TT_C0859', 'Q72JB8_TT_C0860', 'Q72JB1_TT_C0868', 'Q72JB0_TT_C0869', 'Q72JA9_TT_C0870', 'Q72JA7_TT_C0872', 'Q72JA6_TT_C0873', 'Q72JA1_TT_C0878', 'Q72J99_TT_C0880', 'Q72J97_TT_C0882', 'Q72J96_TT_C0883', 'Q72J94_TT_C0885', 'Q72J93_TT_C0886', 'Q72J90_TT_C0889', 'Q72J88_TT_C0891', 'Q72J87_TT_C0892', 'Q72J86_TT_C0893', 'Q72J85_TT_C0894', 'Q72J82_TT_C0897', 'Q72J81_TT_C0898', 'Q72J79_TT_C0900', 'Q72J78_TT_C0901', 'Q72J76_TT_C0903', 'Q72J75_TT_C0904', 'Q72J68_TT_C0911', 'Q72J67_TT_C0912', 'Q72J66_TT_C0913', 'Q72J65_TT_C0914', 'Q72J64_TT_C0915', 'Q72J63_TT_C0916', 'Q72J62_TT_C0917', 'Q72J60_TT_C0919', 'Q72J59_TT_C0920', 'Q72J58_TT_C0921', 'Q72J57_TT_C0922', 'Q72J55_TT_C0924', 'Q72J54_TT_C0925', 'Q72J50_TT_C0929', 'Q72J49_TT_C0930', 'Q72J46_TT_C0933', 'Q72J45_TT_C0934', 'Q72J44_TT_C0935', 'Q72J43_TT_C0938', 'Q72J42_TT_C0939', 'Q72J40_TT_C0941', 'Q72J36_TT_C0945', 'Q72J34_TT_C0947', 'Q72J33_TT_C0948', 'Q72J31_TT_C0950', 'Q72J30_TT_C0951', 'Q72J29_TT_C0952', 'Q72J28_TT_C0953', 'Q72J25_TT_C0956', 'Q72J23_TT_C0958', 'Q72J20_TT_C0961', 'Q72J19_TT_C0962', 'Q72J17_TT_C0964', 'Q72J16_TT_C0965', 'Q72J15_TT_C0966', 'Q72J10_TT_C0971', 'Q72J07_TT_C0974', 'Q72J06_TT_C0975', 'Q72J05_TT_C0976', 'Q72J04_TT_C0977', 'Q72J03_TT_C0978', 'Q72J00_TT_C0981', 'Q72IZ8_TT_C0983', 'Q72IZ7_TT_C0984', 'Q72IZ6_TT_C0985', 'Q72IZ5_TT_C0986', 'Q72IZ4_TT_C0987', 'Q72IZ3_TT_C0988', 'Q72IZ0_TT_C0991', 'Q72IY9_TT_C0992', 'Q72IY8_TT_C0993', 'Q72IY7_TT_C0994', 'Q72IY6_TT_C0995', 'Q72IY5_TT_C0996', 'Q72IY4_TT_C0997', 'Q72IY3_TT_C0998', 'Q72IY2_TT_C0999', 'Q72IY1_TT_C1000', 'Q72IY0_TT_C1001', 'Q72IX9_TT_C1002', 'Q72IX8_TT_C1003', 'Q72IX7_TT_C1004', 'Q72IX6_TT_C1005', 'Q72IX5_TT_C1006', 'Q72IX4_TT_C1007', 'Q72IX1_TT_C1010', 'Q72IW0_TT_C1021', 'Q72IV8_TT_C1023', 'Q72IV2_TT_C1029', 'Q72IU9_TT_C1032', 'Q72IU7_TT_C1035', 'Q72IU1_TT_C1041', 'Q72IU0_TT_C1042', 'Q72IT9_TT_C1043', 'Q72IT7_TT_C1045', 'Q72IT5_TT_C1047', 'Q72IT4_TT_C1048', 'Q72IT2_TT_C1050', 'Q72IT1_TT_C1051', 'Q72IS9_TT_C1053', 'Q72IS8_TT_C1054', 'Q72IS4_TT_C1058', 'Q72IS2_TT_C1060', 'Q72IS1_TT_C1061', 'Q72IR9_TT_C1063', 'Q72IR8_TT_C1064', 'Q72IR7_TT_C1065', 'Q72IR6_TT_C1066', 'Q72IR5_TT_C1067', 'Q72IR4_TT_C1068', 'Q72IR3_TT_C1069', 'Q72IR2_TT_C1070', 'Q72IR0_TT_C1072', 'Q72IQ8_TT_C1074', 'Q72IQ1_TT_C1081', 'Q72IQ0_TT_C1082', 'Q72IP9_TT_C1083', 'Q72IP7_TT_C1085', 'Q72IP6_TT_C1086', 'Q72IP4_TT_C1088', 'Q72IP3_TT_C1089', 'Q72IP2_TT_C1090', 'Q72IP1_TT_C1091', 'Q72IP0_TT_C1092', 'Q72IN9_TT_C1093', 'Q72IN8_TT_C1094', 'Q72IN7_TT_C1095', 'Q72IN6_TT_C1096', 'Q72IN5_TT_C1097', 'Q72IN4_TT_C1098', 'Q72IN3_TT_C1099', 'Q72IM8_TT_C1104', 'Q72IM5_TT_C1107', 'Q72IM4_TT_C1108', 'Q72IM3_TT_C1109', 'Q72IM1_TT_C1111', 'Q72IM0_TT_C1112', 'Q72IL9_TT_C1113', 'Q72IL8_TT_C1114', 'Q72IL7_TT_C1115', 'Q72IL6_TT_C1116', 'Q72IL5_TT_C1117', 'Q72IL4_TT_C1118', 'Q72IL3_TT_C1119', 'Q72IL2_TT_C1120', 'Q72IL1_TT_C1121', 'Q72IL0_TT_C1122', 'Q72IK3_TT_C1129', 'Q72IK2_TT_C1130', 'Q72IK0_TT_C1132', 'Q72IJ9_TT_C1133', 'Q72IJ8_TT_C1134', 'Q72IJ6_TT_C1136', 'Q72IJ4_TT_C1138', 'Q72IJ3_TT_C1139', 'Q72II8_TT_C1144', 'Q72II7_TT_C1145', 'Q72II6_TT_C1146', 'Q72II5_TT_C1147', 'Q72II3_TT_C1149', 'Q72II2_TT_C1150', 'Q72IH8_TT_C1154', 'Q72IH4_TT_C1158', 'Q72IH1_TT_C1161', 'Q72IH0_TT_C1162', 'Q72IG9_TT_C1163', 'Q72IG8_TT_C1164', 'Q72IG7_TT_C1165', 'Q72IG4_TT_C1168', 'Q72IG3_TT_C1169', 'Q72IG1_TT_C1171', 'Q72IF5_TT_C1177', 'Q72IF3_TT_C1179', 'Q72IF1_TT_C1181', 'Q72IE8_TT_C1184', 'Q72IE7_TT_C1185', 'Q72IE4_TT_C1188', 'Q72IE3_TT_C1189', 'Q72IE2_TT_C1190', 'Q72IE0_TT_C1192', 'Q72ID4_TT_C1198', 'Q72ID3_TT_C1199', 'Q72ID2_TT_C1200', 'Q72ID0_TT_C1202', 'Q72IC8_TT_C1204', 'Q72IC7_TT_C1205', 'Q72IB9_TT_C1213', 'Q72IB8_TT_C1214', 'Q72IB5_TT_C1217', 'Q72IB3_TT_C1219', 'Q72IB2_TT_C1220', 'Q72IA5_TT_C1227', 'Q72IA3_TT_C1229', 'Q72IA2_TT_C1230', 'Q72IA1_TT_C1231', 'Q72IA0_TT_C1232', 'Q72I99_TT_C1233', 'Q72I98_TT_C1234', 'Q72I97_TT_C1235', 'Q72I94_TT_C1238', 'Q72I92_TT_C1240', 'Q72I91_TT_C1241', 'Q72I90_TT_C1242', 'Q72I88_TT_C1244', 'Q72I87_TT_C1245', 'Q72I86_TT_C1246', 'Q72I83_TT_C1249', 'Q72I82_TT_C1250', 'Q72I81_TT_C1251', 'Q72I80_TT_C1252', 'Q72I79_TT_C1253', 'Q72I76_TT_C1256', 'Q72I75_TT_C1257', 'Q72I74_TT_C1258', 'Q72I73_TT_C1259', 'Q72I72_TT_C1260', 'Q72I71_TT_C1261', 'Q72I70_TT_C1262', 'Q72I68_TT_C1264', 'Q72I61_TT_C1271', 'Q72I59_TT_C1273', 'Q72I57_TT_C1275', 'Q72I56_TT_C1276', 'Q72I54_TT_C1278', 'Q72I51_TT_C1281', 'Q72I49_TT_C1283', 'Q72I44_TT_C1288', 'Q72I43_TT_C1289', 'Q72I42_TT_C1290', 'Q72I41_TT_C1291', 'Q72I40_TT_C1292', 'Q72I38_TT_C1294', 'Q72I37_TT_C1295', 'Q72I34_TT_C1298', 'Q72HZ8_TT_C1334', 'Q72HZ6_TT_C1336', 'Q72HZ4_TT_C1338', 'Q72HZ3_TT_C1339', 'Q72HZ2_TT_C1340', 'Q72HZ1_TT_C1341', 'Q72HZ0_TT_C1342', 'Q72HY9_TT_C1343', 'Q72HY6_TT_C1346', 'Q72HY4_TT_C1348', 'Q72HY1_TT_C1351', 'Q72HX9_TT_C1353', 'Q72HX8_TT_C1354', 'Q72HX7_TT_C1355', 'Q72HX6_TT_C1356', 'Q72HX5_TT_C1357', 'Q72HX3_TT_C1359', 'Q72HX2_TT_C1360', 'Q72HW8_TT_C1364', 'Q72HW7_TT_C1365', 'Q72HW6_TT_C1366', 'Q72HW3_TT_C1369', 'Q72HW2_TT_C1370', 'Q72HW1_TT_C1371', 'Q72HW0_TT_C1372', 'Q72HV9_TT_C1373', 'Q72HV7_TT_C1375', 'Q72HV6_TT_C1376', 'Q72HV5_TT_C1377', 'Q72HV3_TT_C1379', 'Q72HV2_TT_C1382', 'Q72HV1_TT_C1383', 'Q72HU9_TT_C1385', 'Q72HU8_TT_C1386', 'Q72HU7_TT_C1387', 'Q72HU4_TT_C1390', 'Q72HU3_TT_C1391', 'Q72HU2_TT_C1392', 'Q72HT9_TT_C1397', 'Q72HT8_TT_C1398', 'Q72HT7_TT_C1399', 'Q72HT5_TT_C1401', 'Q72HT4_TT_C1402', 'Q72HT2_TT_C1404', 'Q72HT1_TT_C1405', 'Q72HS9_TT_C1407', 'Q72HS6_TT_C1410', 'Q72HS4_TT_C1412', 'Q72HS3_TT_C1413', 'Q72HS2_TT_C1414', 'Q72HR9_TT_C1417', 'Q72HR6_TT_C1420', 'Q72HR1_TT_C1425', 'Q72HQ9_TT_C1427', 'Q72HQ8_TT_C1428', 'Q72HQ7_TT_C1429', 'Q72HQ6_TT_C1430', 'Q72HQ2_TT_C1434', 'Q72HQ1_TT_C1435', 'Q72HP7_TT_C1439', 'Q72HP6_TT_C1440', 'Q72HP4_TT_C1442', 'Q72HP2_TT_C1444', 'Q72HP0_TT_C1446', 'Q72HN9_TT_C1447', 'Q72HN8_TT_C1448', 'Q72HN7_TT_C1449', 'Q72HN5_TT_C1451', 'Q72HN4_TT_C1452', 'Q72HN0_TT_C1456', 'Q72HM9_TT_C1457', 'Q72HM8_TT_C1458', 'Q72HM7_TT_C1459', 'Q72HM4_TT_C1462', 'Q72HM0_TT_C1467', 'Q72HL8_TT_C1469', 'Q72HL7_TT_C1470', 'Q72HL6_TT_C1471', 'Q72HL5_TT_C1472', 'Q72HL4_TT_C1473', 'Q72HL3_TT_C1474', 'Q72HK9_TT_C1478', 'Q72HK6_TT_C1481', 'Q72HK5_TT_C1482', 'Q72HK3_TT_C1484', 'Q72HK2_TT_C1485', 'Q72HK1_TT_C1486', 'Q72HK0_TT_C1487', 'Q72HJ9_TT_C1488', 'Q72HJ8_TT_C1489', 'Q72HJ7_TT_C1490', 'Q72HJ5_TT_C1492', 'Q72HJ3_TT_C1494', 'Q72HJ1_TT_C1496', 'Q72HI9_TT_C1498', 'Q72HI8_TT_C1499', 'Q72HI6_TT_C1501', 'Q72HI5_TT_C1502', 'Q72HI3_TT_C1504', 'Q72HI0_TT_C1507', 'Q72HH9_TT_C1508', 'Q72HH8_TT_C1509', 'Q72HH7_TT_C1510', 'Q72HH6_TT_C1511', 'Q72HH4_TT_C1513', 'Q72HH3_TT_C1514', 'Q72HG9_TT_C1518', 'Q72HG8_TT_C1519', 'Q72HG5_TT_C1522', 'Q72HG4_TT_C1523', 'Q72HG2_TT_C1525', 'Q72HG1_TT_C1526', 'Q72HG0_TT_C1527', 'Q72HF9_TT_C1528', 'Q72HF8_TT_C1529', 'Q72HF7_TT_C1530', 'Q72HF5_TT_C1532', 'Q72HF3_TT_C1534', 'Q72HF1_TT_C1536', 'Q72HF0_TT_C1537', 'Q72HE8_TT_C1539', 'Q72HE7_TT_C1540', 'Q72HE6_TT_C1543', 'Q72HE1_TT_C1552', 'Q72HD8_TT_C1555', 'Q72HD7_TT_C1556', 'Q72HD6_TT_C1557', 'Q72HD5_TT_C1558', 'Q72HD4_TT_C1559', 'Q72HD3_TT_C1560', 'Q72HC8_TT_C1567', 'Q72HC7_TT_C1568', 'Q72HC5_TT_C1570', 'Q72HC4_TT_C1571', 'Q72HC2_TT_C1573', 'Q72HC0_TT_C1575', 'Q72HB6_TT_C1579', 'Q72HB5_TT_C1580', 'Q72HB4_TT_C1581', 'Q72HB3_TT_C1582', 'Q72HB0_TT_C1585', 'Q72HA8_TT_C1587', 'Q72HA6_TT_C1589', 'Q72HA4_TT_C1591', 'Q72HA3_TT_C1592', 'Q72H99_TT_C1596', 'Q72H96_TT_C1599', 'Q72H94_TT_C1601', 'Q72H86_TT_C1609', 'Q72H84_TT_C1611', 'Q72H83_TT_C1612', 'Q72H82_TT_C1613', 'Q72H80_TT_C1615', 'Q72H79_TT_C1616', 'Q72H77_TT_C1618', 'Q72H71_TT_C1624', 'Q72H68_TT_C1627', 'Q72H65_TT_C1630', 'Q72H64_TT_C1631', 'Q72H62_TT_C1633', 'Q72H61_TT_C1634', 'Q72H59_TT_C1636', 'Q72H58_TT_C1637', 'Q72H56_TT_C1639', 'Q72H54_TT_C1641', 'Q72H53_TT_C1642', 'Q72H51_TT_C1644', 'Q72H50_TT_C1645', 'Q72H49_TT_C1646', 'Q72H46_TT_C1649', 'Q72H45_TT_C1650', 'Q72H44_TT_C1651', 'Q72H43_TT_C1652', 'Q72H42_TT_C1653', 'Q72H39_TT_C1656', 'Q72H38_TT_C1657', 'Q72H34_TT_C1661', 'Q72H31_TT_C1664', 'Q72H30_TT_C1665', 'Q72H27_TT_C1668', 'Q72H25_TT_C1670', 'Q72H24_TT_C1671', 'Q72H23_TT_C1672', 'Q72H21_TT_C1674', 'Q72H16_TT_C1679', 'Q72H07_TT_C1688', 'Q72H06_TT_C1689', 'Q72H05_TT_C1690', 'Q72H04_TT_C1691', 'Q72H03_TT_C1692', 'Q72H02_TT_C1693', 'Q72H01_TT_C1694', 'Q72H00_TT_C1695', 'Q72GZ8_TT_C1697', 'Q72GZ7_TT_C1698', 'Q72GZ6_TT_C1699', 'Q72GZ5_TT_C1700', 'Q72GZ3_TT_C1703', 'Q72GZ2_TT_C1704', 'Q72GZ1_TT_C1705', 'Q72GY8_TT_C1708', 'Q72GY5_TT_C1711', 'Q72GY4_TT_C1712', 'Q72GY3_TT_C1715', 'Q72GY1_TT_C1717', 'Q72GY0_TT_C1718', 'Q72GX9_TT_C1719', 'Q72GX8_TT_C1720', 'Q72GX6_TT_C1722', 'Q72GX2_TT_C1726', 'Q72GX0_TT_C1728', 'Q72GW8_TT_C1730', 'Q72GW7_TT_C1731', 'Q72GW5_TT_C1733', 'Q72GV7_TT_C1741', 'Q72GV4_TT_C1744', 'Q72GV3_TT_C1745', 'Q72GU9_TT_C1749', 'Q72GU5_TT_C1753', 'Q72GU4_TT_C1754', 'Q72GU3_TT_C1755', 'Q72GU2_TT_C1756', 'Q72GU1_TT_C1757', 'Q72GT9_TT_C1759', 'Q72GT8_TT_C1760', 'Q72GT6_TT_C1762', 'Q72GT5_TT_C1763', 'Q72GT2_TT_C1766', 'Q72GT0_TT_C1768', 'Q72GS8_TT_C1770', 'Q72GS7_TT_C1771', 'Q72GS6_TT_C1772', 'Q72GS3_TT_C1775', 'Q72GS0_TT_C1778', 'Q72GR9_TT_C1779', 'Q72GR8_TT_C1780', 'Q72GR5_TT_C1783', 'Q72GR3_TT_C1785', 'Q72GR2_TT_C1786', 'Q72GR1_TT_C1787', 'Q72GQ9_TT_C1789', 'Q72GQ8_TT_C1790', 'Q72GQ6_TT_C1792', 'Q72GQ4_TT_C1794', 'Q72GQ3_TT_C1795', 'Q72GQ2_TT_C1796', 'Q72GQ1_TT_C1797', 'Q72GP9_TT_C1799', 'Q72GP7_TT_C1801', 'Q72GP6_TT_C1802', 'Q72GP5_TT_C1803', 'Q72GP4_TT_C1804', 'Q72GP3_TT_C1805', 'Q72GP2_TT_C1806', 'Q72GP0_TT_C1808', 'Q72GN9_TT_C1809', 'Q72GN7_TT_C1811', 'Q72GN5_TT_C1813', 'Q72GN1_TT_C1817', 'Q72GN0_TT_C1818', 'Q72GM9_TT_C1819', 'Q72GM6_TT_C1822', 'Q72GM5_TT_C1823', 'Q72GM4_TT_C1824', 'Q72GM2_TT_C1826', 'Q72GM1_TT_C1827', 'Q72GM0_TT_C1828', 'Q72GL9_TT_C1829', 'Q72GL7_TT_C1831', 'Q72GL5_TT_C1833', 'Q72GL4_TT_C1834', 'Q72GL3_TT_C1835', 'Q72GL1_TT_C1837', 'Q72GL0_TT_C1838', 'Q72GK9_TT_C1839', 'Q72GK8_TT_C1840', 'Q72GK7_TT_C1841', 'Q72GK6_TT_C1842', 'Q72GK5_TT_C1843', 'Q72GK4_TT_C1844', 'Q72GK3_TT_C1845', 'Q72GK2_TT_C1846', 'Q72GK0_TT_C1848', 'Q72GJ5_TT_C1853', 'Q72GJ3_TT_C1855', 'Q72GJ2_TT_C1856', 'Q72GJ1_TT_C1857', 'Q72GJ0_TT_C1858', 'Q72GI9_TT_C1859', 'Q72GI7_TT_C1861', 'Q72GI6_TT_C1862', 'Q72GI5_TT_C1863', 'Q72GH9_TT_C1869', 'Q72GH6_TT_C1872', 'Q72GH3_TT_C1875', 'Q72GH2_TT_C1876', 'Q72GH1_TT_C1877', 'Q72GH0_TT_C1878', 'Q72GG9_TT_C1879', 'Q72GG8_TT_C1880', 'Q72GG4_TT_C1884', 'Q72GG3_TT_C1885', 'Q72GG2_TT_C1886', 'Q72GF8_TT_C1890', 'Q72GF7_TT_C1891', 'Q72GF3_TT_C1895', 'Q72GF2_TT_C1896', 'Q72GF1_TT_C1897', 'Q72GE8_TT_C1900', 'Q72GE7_TT_C1901', 'Q72GE6_TT_C1902', 'Q72GE3_TT_C1905', 'Q72GE0_TT_C1908', 'Q72GD9_TT_C1909', 'Q72GD7_TT_C1911', 'Q72GD4_TT_C1914', 'Q72GD3_TT_C1915', 'Q72GD2_TT_C1916', 'Q72GC5_TT_C1923', 'Q72GC4_TT_C1924', 'Q72GC1_TT_C1927', 'Q72GC0_TT_C1928', 'Q72GB8_TT_C1930', 'Q72GB6_TT_C1932', 'Q72GB2_TT_C1936', 'Q72GB0_TT_C1938', 'Q72GA9_TT_C1939', 'Q72GA8_TT_C1940', 'Q72GA5_TT_C1943', 'Q72GA4_TT_C1944', 'Q72GA3_TT_C1945', 'Q72GA1_TT_C1947', 'Q72G99_TT_C1949', 'Q72G96_TT_C1952', 'Q72G93_TT_C1955', 'Q72G90_TT_C1958', 'Q72G89_TT_C1959', 'Q72G88_TT_C1960', 'Q72G83_TT_C1965', 'Q72G82_TT_C1966', 'Q72G79_TT_C1969', 'Q72G78_TT_C1970', 'Q72G76_TT_C1972', 'Q72G74_TT_C1974', 'Q72G73_TT_C1975', 'Q72G71_TT_C1977', 'Q72G70_TT_C1978', 'Q72G69_TT_C1979', 'Q72G67_TT_C1981', 'Q72G64_TT_C1984', 'Q72G62_TT_C1986', 'Q746Q0_TT_P0002', 'Q746P9_TT_P0003', 'Q746P6_TT_P0006', 'Q746P5_TT_P0007', 'Q746P4_TT_P0009', 'Q746P3_TT_P0010', 'Q746P2_TT_P0011', 'Q746P1_TT_P0012', 'Q746P0_TT_P0013', 'Q746N7_TT_P0016', 'Q746N6_TT_P0017', 'Q746N3_TT_P0020', 'Q746N1_TT_P0022', 'Q746M9_TT_P0024', 'Q746M6_TT_P0027', 'Q746L9_TT_P0034', 'Q746L8_TT_P0035', 'Q746L7_TT_P0036', 'Q746L6_TT_P0037', 'Q746L5_TT_P0038', 'Q746L4_TT_P0039', 'Q746L0_TT_P0043', 'Q746K9_TT_P0044', 'Q746K5_TT_P0048', 'Q746K4_TT_P0049', 'Q746K1_TT_P0052', 'Q746J9_TT_P0054', 'Q746J7_TT_P0056', 'Q746J6_TT_P0059', 'Q746J5_TT_P0060', 'Q746J3_TT_P0062', 'Q746I9_TT_P0066', 'Q746I4_TT_P0071', 'Q746I3_TT_P0072', 'Q746I0_TT_P0075', 'Q746H9_TT_P0076', 'Q746H8_TT_P0077', 'Q746H7_TT_P0078', 'Q746H3_TT_P0082', 'Q746H0_TT_P0085', 'Q746G5_TT_P0090', 'Q746F9_TT_P0096', 'Q746F3_TT_P0102', 'Q746F2_TT_P0103', 'Q746F1_TT_P0104', 'Q746F0_TT_P0105', 'Q746E9_TT_P0106', 'Q746E8_TT_P0107', 'Q746E7_TT_P0108', 'Q746E6_TT_P0109', 'Q746E5_TT_P0110', 'Q746E4_TT_P0111', 'Q746E3_TT_P0112', 'Q746E2_TT_P0113', 'Q746E1_TT_P0114', 'Q746E0_TT_P0115', 'Q746D9_TT_P0116', 'Q746D8_TT_P0117', 'Q746D7_TT_P0118', 'Q746D6_TT_P0119', 'Q746D5_TT_P0120', 'Q746D3_TT_P0122', 'Q746D0_TT_P0125', 'Q746C9_TT_P0126', 'Q746C8_TT_P0127', 'Q746C7_TT_P0128', 'Q746C3_TT_P0132', 'Q746C1_TT_P0134', 'Q746C0_TT_P0135', 'Q746B2_TT_P0143', 'Q746A9_TT_P0146', 'Q746A8_TT_P0147', 'Q746A1_TT_P0154', 'Q746A0_TT_P0155', 'Q745Z3_TT_P0162', 'Q745Z1_TT_P0164', 'Q745Z0_TT_P0165', 'Q745Y8_TT_P0167', 'Q745Y4_TT_P0171', 'Q745Y1_TT_P0174', 'Q745Y0_TT_P0175', 'Q745X5_TT_P0180', 'Q745X1_TT_P0184', 'Q745W6_TT_P0189', 'Q745W4_TT_P0191', 'Q745W3_TT_P0192', 'Q745V7_TT_P0198', 'Q745V6_TT_P0199', 'Q745V5_TT_P0200', 'Q745V4_TT_P0201', 'Q745V3_TT_P0204', 'Q745V2_TT_P0205', 'Q745V0_TT_P0207', 'Q745U7_TT_P0210', 'Q745U6_TT_P0211', 'Q745T9_TT_P0218', 'Q745T8_TT_P0219', 'Q745T7_TT_P0220', 'Q745T6_TT_P0221', 'Q745T5_TT_P0222', 'Q745T2_TT_P0225', 'Q745T0_TT_P0227', 'Q745S8_TT_P0229', 'P17585_aadK', 'P67662_aaeR', 'P31119_aas', 'P94552_abf2', 'P94531_abfA', 'P39758_abh', 'P08874_abrB', 'O34847_accA', 'P0ABD5_accA', 'A0A0K2H6M6_accA', 'Q72HS8_accA', 'P49786_accB', 'P0ABD8_accB', 'P24182_accC', 'P49787_accC1', 'C0SP93_accD', 'P0A9Q5_accD', 'A0A0K2H6U1_accD', 'Q72HS7_accD', 'P45867_acdA', 'P0A9G6_aceA', 'P08997_aceB', 'P0AFG8_aceE', 'P06959_aceF', 'P11071_aceK', 'P37877_ackA', 'P0A6A3_ackA', 'A0A0K2H6Q6_ackA', 'P25516_acnA', 'P36683_acnB', 'O31404_acoA', 'O34591_acoB', 'O31550_acoC', 'O34324_acoL', 'P80643_acpA', 'P0A6A8_acpP', 'A0A0K2H573_acpP', 'Q72LL3_acpP', 'P96618_acpS', 'P24224_acpS', 'Q72IV9_acpS', 'P0AE06_acrA', 'P31224_acrB', 'P0ACS9_acrR', 'P27550_acs', 'P39062_acsA', 'Q72J95_acsA', 'P32705_actP', 'P39065_acuA', 'P39066_acuB', 'Q72KI3_acuB', 'Q72LF6_acuB', 'P39067_acuC', 'P26646_acuI', 'O35031_acyP', 'Q72L64_acyP', 'Q6L2I0_acyP', 'P06134_ada', 'P22333_add', 'P23478_addA', 'A0A0K2HAB3_addA', 'P23477_addB', 'P31441_ade', 'P39761_adeC', 'P31466_adeP', 'P71073_adeR', 'C0SPA5_adhA', 'P0A9Q7_adhE', 'P39451_adhP', 'O06008_adhR', 'P28629_adiA', 'P16304_adk', 'P69441_adk', 'A0A0K2H8Z4_adk', 'Q72I25_adk', 'Q6L1A3_adkA', 'P50466_aer', 'P0ACK2_agaR', 'P42904_agaV', 'P19926_agp', 'P80239_ahpC', 'P0AE08_ahpC', 'P42974_ahpF', 'P35340_ahpF', 'P27250_ahr', 'P33224_aidB', 'Q746I1_aidB', 'P0A959_alaA', 'P77434_alaC', 'O34526_alaS', 'P00957_alaS', 'A0A0K2H622_alaS', 'P61707_alaS', 'Q6L1Z4_alaS', 'P71011_albA', 'Q6KZR7_albA', 'P71009_albC', 'Q08352_ald', 'P25553_aldA', 'P37685_aldB', 'P94358_aldY', 'P04395_alkA', 'P05050_alkB', 'P77731_allA', 'O32137_allB', 'P77671_allB', 'P77425_allC', 'P77555_allD', 'P75713_allE', 'P0ACN4_allR', 'P0A6B4_alr', 'P10725_alr1', 'P39265_alsB', 'P32720_alsC', 'P32719_alsE', 'P32718_alsK', 'Q45068_alsT', 'P54983_amhX', 'P63883_amiC', 'P75820_amiD', 'P0AE12_amn', 'P00811_ampC', 'P13016_ampD', 'P0AE14_ampE', 'P39762_ampS', 'P26612_amyA', 'P00691_amyE', 'C0SPA0_amyX', 'P77570_anmK', 'P26900_ansA', 'P0A962_ansA', 'P26899_ansB', 'P00805_ansB', 'P62672_apaG', 'P05637_apaH', 'P0AB85_apbE', 'Q72GG0_apgM', 'Q6KZJ6_apgM', 'P0AE22_aphA', 'P42061_appA', 'P07102_appA', 'Q72LG1_appA', 'P42062_appB', 'Q72LG0_appB', 'P42063_appC', 'Q72LF9_appC', 'P42064_appD', 'Q72LF8_appD', 'P42065_appF', 'Q72LF7_appF', 'P04189_aprE', 'O34443_apt', 'P69503_apt', 'A0A0K2H712_apt', 'P94523_araA', 'P08202_araA', 'P94524_araB', 'P08204_araB', 'P94525_araD', 'P02924_araF', 'P0AE26_araH', 'P94526_araL', 'P94528_araN', 'P0A9Q1_arcA', 'P0AEC3_arcB', 'P0A6C8_argB', 'Q72HA9_argB', 'P23715_argC', 'A0A0K2HAV9_argC', 'P96136_argC', 'P11446_argC', 'P36839_argD', 'P18335_argD', 'Q72K94_argD', 'P23908_argE', 'P18186_argF', 'P96134_argF', 'Q6L135_argF', 'O34347_argG', 'P0A6E4_argG', 'A0A0K2H6P2_argG', 'P61526_argG', 'O34858_argH', 'P11447_argH', 'A0A0K2H7K5_argH', 'Q72GZ4_argH', 'P04391_argI', 'P36843_argJ', 'A0A0K2HAL3_argJ', 'P96137_argJ', 'P0A8S1_argP', 'P17893_argR', 'P0A6D0_argR', 'A0A0K2HBL0_argR', 'Q762J7_argR', 'P46906_argS', 'P11875_argS', 'A0A0K2H8C9_argS', 'Q72GE2_argS', 'P09551_argT', 'P75993_ariR', 'P77690_arnB', 'P20691_aroA', 'P39912_aroA', 'P0A6D3_aroA', 'A0A0K2HCS5_aroA', 'Q72LH1_aroA', 'Q6L1G5_aroA', 'P31102_aroB', 'P07639_aroB', 'A0A0K2HBW4_aroB', 'Q72IW1_aroB', 'Q6L1G8_aroB', 'P31104_aroC', 'P12008_aroC', 'A0A0K2HCR6_aroC', 'Q72IW3_aroC', 'Q6L2E5_aroC', 'P35146_aroD', 'P05194_aroD', 'P54374_aroE', 'P15770_aroE', 'A0A0K2H5Z1_aroE', 'Q72JT0_aroE', 'P0AB91_aroG', 'P19080_aroH', 'P00887_aroH', 'Q84FH6_aroH', 'P37944_aroK', 'P0A6D7_aroK', 'A0A0K2HD85_aroK', 'Q72IW2_aroK', 'Q6L1G6_aroK', 'P0A6E1_aroL', 'P0AE28_aroM', 'Q72IZ2_aroQ', 'P0AB96_arsC', 'A0A0K2H8Y4_arsC', 'P30859_artI', 'P30860_artJ', 'P54537_artM', 'P54535_artP', 'P0AAF6_artP', 'P54536_artQ', 'P0AE34_artQ', 'P24242_ascG', 'Q04797_asd', 'P0A9Q9_asd', 'A0A0K2H4Y7_asd', 'Q72L83_asd', 'P61488_ask', 'P28249_asmA', 'P00963_asnA', 'P54420_asnB', 'P22106_asnB', 'A0A0K2HBZ8_asnC', 'Q72K70_asnC', 'P0ACI6_asnC', 'P39772_asnS', 'P0A8M0_asnS', 'Q72KF7_asnS', 'P0AC38_aspA', 'P53001_aspB', 'P00509_aspC', 'O32038_aspS', 'P21889_aspS', 'A0A0K2H638_aspS', 'Q72KH6_aspS', 'Q6KZQ3_aspS', 'P0AE37_astA', 'P76216_astB', 'P77581_astC', 'P76217_astD', 'P76215_astE', 'Q06065_atoC', 'P37808_atpA', 'P0ABB0_atpA', 'A0A0K2H890_atpA', 'Q72J72_atpA', 'Q6L1S7_atpA', 'P37813_atpB', 'P0AB98_atpB', 'A0A0K2H894_atpB', 'Q72J73_atpB', 'Q6L1S8_atpB', 'P37812_atpC', 'A0A0K2H898_atpC', 'Q72J70_atpC', 'P0A6E6_atpC', 'P37809_atpD', 'P0ABB4_atpD', 'A0A0K2H8I8_atpD', 'Q72J74_atpD', 'Q6L1S9_atpD', 'P37815_atpE', 'P68699_atpE', 'Q72J69_atpE', 'Q6L1S4_atpE', 'P37814_atpF', 'P0ABA0_atpF', 'A0A0K2H8A2_atpF', 'Q72J71_atpF', 'P37810_atpG', 'P0ABA6_atpG', 'A0A0K2H889_atpG', 'P37811_atpH', 'P0ABA4_atpH', 'A0A0K2H990_atpH', 'Q72JY7_attH', 'P09053_avtA', 'O07923_azlD', 'P41407_azoR', 'A0A0K2H8G3_azoR', 'O35022_azoR1', 'O32224_azoR2', 'O07529_azr', 'P39639_bacB', 'P39640_bacC', 'P39641_bacD', 'P39644_bacG', 'P69228_baeR', 'P30847_baeS', 'P0A940_bamA', 'P77774_bamB', 'P0A903_bamC', 'P0AC02_bamD', 'P0A937_bamE', 'P0AEC5_barA', 'O06988_bbmA', 'O34951_bceR', 'O35044_bceS', 'P0AE52_bcp', 'P28246_bcr', 'P37652_bcsB', 'P37659_bcsG', 'P37651_bcsZ', 'P68571_bdbB', 'O32218_bdbD', 'O34788_bdhA', 'P66948_bepA', 'P17445_betB', 'P0ABC9_betT', 'P37940_bfmBAA', 'P37941_bfmBAB', 'P37942_bfmBB', 'P54533_bfmBC', 'P0ABD3_bfr', 'P42973_bglA', 'Q46829_bglA', 'P42403_bglC', 'P40740_bglH', 'P40739_bglP', 'Q9RA61_bglT', 'P33363_bglX', 'P12995_bioA', 'P53557_bioB', 'A0A0K2HE32_bioB', 'Q72L21_bioB', 'P53558_bioD', 'P0A6E9_bioD2', 'P53556_bioF', 'P13001_bioH', 'P53554_bioI', 'P53555_bioK', 'P53559_bioW', 'P0CI75_birA', 'P06709_birA', 'Q72GT7_birA', 'P20099_bisC', 'P0A901_blc', 'P39842_bltR', 'P75989_bluR', 'O06967_bmrA', 'P39075_bmrR', 'Q72G91_bmrU', 'P0ABE2_bolA', 'P77330_borD', 'P16397_bpr', 'Q72L89_bpsA', 'O34545_braB', 'P94499_brnQ', 'P52035_bsaA', 'P94403_bsdA', 'P94405_bsdC', 'P42982_bshA', 'P42981_bshB1', 'O31857_bshB2', 'A0A0K2H5G9_bshC', 'Q72ID1_bshC', 'P39297_bsmA', 'P0AAY1_bssR', 'P06129_btuB', 'P06610_btuE', 'P37028_btuF', 'P0A9H5_btuR', 'P54532_buk', 'A0A0K2HBB6_buk', 'O32219_cadA', 'P0A9H3_cadA', 'P94388_cah', 'P61517_can', 'P36838_carA', 'P0A6F1_carA', 'A0A0K2H5D8_carA', 'Q72GZ0_carA', 'Q6L0L7_carA', 'P18185_carB', 'P00968_carB', 'A0A0K2H5D5_carB', 'A0A0K2HAW4_carB', 'P96495_carB', 'Q746F4_cas2b', 'Q746C2_cas5d', 'A0A0K2HCU9_cbiA', 'Q746N4_cbiB', 'A0A0K2HCV3_cbiD', 'P61989_cbiD', 'Q3V8B2_cbiD', 'Q746N9_cbiG', 'Q746N8_cbiX', 'P36659_cbpA', 'P42977_cca', 'P06961_cca', 'A0A0K2HC80_cca', 'Q6L1N2_cca', 'P24469_cccA', 'O34594_cccB', 'P45709_ccdB', 'P45710_ccdC', 'P0ABM1_ccmC', 'P69490_ccmE', 'Q72IU3_ccmE', 'P33927_ccmF', 'Q72IU4_ccmF', 'Q72IU5_ccmG', 'Q72IU6_ccmH', 'P0ABM9_ccmH', 'P25144_ccpA', 'P37517_ccpB', 'O34994_ccpN', 'Q45589_cdaA', 'O34659_cdaR', 'P19079_cdd', 'P0ABF6_cdd', 'P06282_cdh', 'P0AE60_cedA', 'P0A9H7_cfa', 'P42093_cgeE', 'P31801_chaA', 'P0AE63_chaB', 'P69795_chbB', 'P37794_chbG', 'P29072_cheA', 'P07363_cheA', 'Q05522_cheB', 'P07330_cheB', 'A0A0K2H519_cheB', 'P31105_cheR', 'P37599_cheV', 'P39802_cheW', 'P0A964_cheW', 'P24072_cheY', 'P0AE67_cheY', 'P0A9H9_cheZ', 'P13656_chiA', 'P75734_chiQ', 'Q72KZ7_chlI', 'P0AGE6_chrR', 'P46323_cinA', 'A0A0K2H5T6_cinA', 'Q72HL9_cinA', 'P17315_cirA', 'P39119_citA', 'P09339_citB', 'O34427_citS', 'O34534_citT', 'P39120_citZ', 'Q72LC8_clR', 'P0ABH9_clpA', 'Q72L86_clpA', 'P63284_clpB', 'A0A0K2HBJ1_clpB', 'Q72IK9_clpB', 'P37571_clpC', 'O31673_clpE', 'P80244_clpP', 'P0A6G7_clpP', 'A0A0K2H7H1_clpP', 'Q72L15_clpP', 'P39070_clpQ', 'P0A8Q6_clpS', 'P50866_clpX', 'P0A6H1_clpX', 'A0A0K2H788_clpX', 'Q72L14_clpX', 'P39778_clpY', 'P0A6H8_clsA', 'P0AA84_clsB', 'P38493_cmk', 'P0A6I0_cmk', 'A0A0K2HCP8_cmk', 'Q72LH0_cmk', 'Q6L1A1_cmk', 'P76290_cmoA', 'P76291_cmoB', 'P36566_cmoM', 'P69826_cmtA', 'P64467_cnu', 'Q72LN4_coA', 'P54556_coaA', 'P0A6I3_coaA', 'O35033_coaBC', 'P0ABQ0_coaBC', 'O34797_coaD', 'P0A6I6_coaD', 'A0A0K2H5H6_coaD', 'Q72K87_coaD', 'O34932_coaE', 'P0A6I9_coaE', 'A0A0K2H6I6_coaE', 'Q72K90_coaE', 'A0A0K2H8T4_coaX', 'Q72IX3_coaX', 'O07595_cobB', 'P75960_cobB', 'A0A0K2H4B6_cobB', 'A0A0K2HCH6_cobB', 'Q72IV5_cobB', 'A0A0K2HDR6_cobQ', 'Q746N0_cobQ', 'Q6L0V5_cobQ', 'Q746P8_cobS', 'P36561_cobS', 'P36562_cobT', 'A0A0K2HCS6_cobT', 'Q746P7_cobT', 'P0AE76_cobU', 'P25524_codA', 'P39779_codY', 'A0A0K2H551_codY', 'P75974_cohE', 'P14204_comA', 'Q72IF2_comA', 'Q72IQ9_comB', 'P32393_comEB', 'Q9EYM4_comEC', 'P33690_comQ', 'P75952_comR', 'O32437_comZ', 'Q8KPZ1_comZ', 'O32220_copA', 'Q59385_copA', 'O32221_copZ', 'P0ABI4_corA', 'P0AE78_corC', 'P14016_cotE', 'O31622_cotO', 'P0AEW4_cpdA', 'P08331_cpdB', 'P45955_cpoB', 'P0AE82_cpxA', 'P0AE85_cpxP', 'P0AE88_cpxR', 'P0ACP1_cra', 'P0AE91_creA', 'P08368_creB', 'P0DM85_crfC', 'O06976_crh', 'P24251_crl', 'P75975_croE', 'P0ACJ8_crp', 'P69783_crr', 'P37584_csaA', 'Q7X215_csaB', 'Q46925_csdA', 'P0AGF2_csdE', 'P52107_csgC', 'P0AEA2_csgG', 'P96614_cshA', 'A0A0K2H973_cshA', 'P54475_cshB', 'A0A0K2H6S3_cshB', 'Q6L144_csl4', 'P0A9X9_cspA', 'P32081_cspB', 'P39158_cspC', 'P0A9Y6_cspC', 'P51777_cspD', 'P0A968_cspD', 'P0A972_cspE', 'O31590_cspR', 'P33911_csrA', 'P69913_csrA', 'P13518_csrD', 'O32192_cssR', 'O32193_cssS', 'P94532_cstA', 'P15078_cstA', 'P12946_ctaA', 'Q72H22_ctaB', 'P24009_ctaB2', 'P24011_ctaC', 'P24010_ctaD', 'P24012_ctaE', 'P14194_ctc', 'O34666_ctpA', 'P37568_ctsR', 'P36649_cueO', 'P0A9G4_cueR', 'P76113_curA', 'P77485_cusS', 'P69488_cutA', 'P67826_cutC', 'P08550_cvpA', 'P76007_cvrA', 'P40767_cwlO', 'P27838_cyaY', 'P0ABE5_cybB', 'P0AAE0_cycA', 'P0ABJ9_cydA', 'P0ABK2_cydB', 'P23886_cydC', 'P29018_cydD', 'P27111_cynR', 'P0ABJ1_cyoA', 'P0ABI8_cyoB', 'P0ABJ3_cyoC', 'O08469_cypA', 'O08336_cypB', 'O08394_cypD', 'P16676_cysA', 'P0A9F3_cysB', 'O34577_cysC', 'P21156_cysD', 'Q06750_cysE', 'P0A9D4_cysE', 'P0AEA8_cysG', 'P94498_cysH', 'P17854_cysH', 'O32213_cysI', 'P17846_cysI', 'A0A0K2H5C2_cysI', 'O32214_cysJ', 'P38038_cysJ', 'P37887_cysK', 'P0ABK5_cysK', 'P39647_cysL', 'P16703_cysM', 'P23845_cysN', 'P16700_cysP', 'P22255_cysQ', 'Q06752_cysS', 'P21888_cysS', 'A0A0K2H8W0_cysS', 'Q72KB0_cysS', 'Q6L2Y2_cysS', 'P0A6J3_cysZ', 'P0ACN7_cytR', 'O07084_czcD', 'O07085_czcO', 'O31844_czrA', 'Q72JU0_czrB', 'P08750_dacA', 'P0AEB2_dacA', 'P24228_dacB', 'P08506_dacC', 'P0A6J5_dadA', 'P29012_dadX', 'O31502_dagK', 'P11557_damX', 'Q04796_dapA', 'P0A6L2_dapA', 'A0A0K2H590_dapA', 'Q72K27_dapA', 'P42976_dapB', 'P04036_dapB', 'A0A0K2HBZ4_dapB', 'P0A9D8_dapD', 'P0AED7_dapE', 'O32114_dapF', 'P0A6K1_dapF', 'A0A0K2H783_dapF', 'Q04795_dapG', 'O34981_dapH', 'A0A0K2H5Y3_dapH', 'O07597_dat', 'P0AFR2_dauA', 'Q6KZW2_dbh', 'P42305_dbpA', 'P28248_dcd', 'Q72GI4_dcd', 'P37529_dck', 'P24171_dcp', 'P0AEE1_dcrB', 'P96603_dctA', 'P0A830_dctA', 'P37195_dctR', 'P0ABN5_dcuA', 'P0ABP3_dcuC', 'P0AD01_dcuR', 'P0AEC8_dcuS', 'P76316_dcyD', 'P96612_ddl', 'A0A0K2H967_ddl', 'Q72IA9_ddl', 'P0A6J8_ddlA', 'P07862_ddlB', 'P76128_ddpA', 'P0ABP6_dedA', 'P09549_dedD', 'P0A6K3_def', 'A0A0K2H6K4_def', 'Q72H33_def', 'P94462_defA', 'Q45495_defB', 'P0C0V0_degP', 'P39099_degQ', 'P68731_degR', 'P13799_degS', 'P0AEE3_degS', 'P13800_degU', 'P32436_degV', 'Q72K33_degV', 'Q72KB5_degV', 'P07650_deoA', 'A0A0K2HBL1_deoA', 'P0A6K6_deoB', 'A0A0K2HBK3_deoB', 'Q72H36_deoB', 'P39121_deoC', 'P0A6L0_deoC', 'A0A0K2H5W6_deoC', 'Q72JE9_deoC', 'O34925_deoD', 'P0ABP8_deoD', 'A0A0K2HD96_deoD', 'P0ACK5_deoR', 'P50743_der', 'P0A6P5_der', 'Q72IV6_der', 'O34757_desK', 'O34723_desR', 'P37530_dgk', 'P0ABN1_dgkA', 'Q6BF16_dgoA', 'P31460_dgoR', 'P15723_dgt', 'P76015_dhaK', 'P76014_dhaL', 'P37349_dhaM', 'P76016_dhaR', 'O34660_dhaS', 'P39071_dhbA', 'P45743_dhbB', 'P45744_dhbC', 'P40871_dhbE', 'P66817_diaA', 'P06966_dicA', 'Q02886_dinB', 'P54394_dinG', 'P0ABR1_dinI', 'Q47150_dinJ', 'P37573_disA', 'P71021_divIVA', 'Q46857_dkgA', 'P30863_dkgB', 'P0ABS1_dksA', 'P06149_dld', 'P37672_dlgD', 'P42628_dlsT', 'P39581_dltA', 'P39580_dltB', 'P39578_dltD', 'P39577_dltE', 'P76251_dmlA', 'P18775_dmsA', 'P18776_dmsB', 'P69853_dmsD', 'P05648_dnaA', 'P03004_dnaA', 'A0A0K2H8M4_dnaA', 'Q72H87_dnaA', 'P0ACB0_dnaB', 'Q72IM6_dnaB', 'P37469_dnaC', 'P0AEF0_dnaC', 'O34623_dnaE', 'P10443_dnaE', 'A0A0K2H6L3_dnaE', 'P05096_dnaG', 'P0ABS5_dnaG', 'A0A0K2H5U9_dnaG', 'Q72J83_dnaG', 'Q6L1F0_dnaG', 'P06567_dnaI', 'P17631_dnaJ', 'P08622_dnaJ', 'A0A0K2H5X0_dnaJ', 'Q72IK7_dnaJ', 'Q72GN6_dnaJ', 'Q6L0S6_dnaJ', 'P17820_dnaK', 'P0A6Y8_dnaK', 'A0A0K2H5X1_dnaK', 'Q72IK5_dnaK', 'Q6L0S7_dnaK', 'P05649_dnaN', 'P0A988_dnaN', 'P03007_dnaQ', 'P09122_dnaX', 'P06710_dnaX', 'P0AA89_dosC', 'P76129_dosP', 'P26902_dppA', 'P23847_dppA', 'P26903_dppB', 'Q72I62_dppB', 'Q72J09_dppB', 'P26904_dppC', 'P0AEG1_dppC', 'Q72J08_dppC', 'P26905_dppD', 'P0AAG0_dppD', 'P26906_dppE', 'P37313_dppF', 'Q8VRK4_dprA', 'P80879_dps', 'P0ABT2_dps', 'P46353_drm', 'P0AEG4_dsbA', 'Q72K56_dsbA', 'P0A6M2_dsbB', 'P0AEG6_dsbC', 'P36655_dsbD', 'P0AA86_dsbE', 'P77202_dsbG', 'P54555_dsdA', 'P00926_dsdA', 'A0A0K2HD62_dsdA', 'P0A6M4_dtd', 'Q72K35_dtd', 'Q6L1F5_dtdA', 'P77304_dtpA', 'P36837_dtpB', 'P37567_dus1', 'O31546_dus2', 'P32695_dusA', 'P33371_dusC', 'P06968_dut', 'O31753_dxr', 'P45568_dxr', 'A0A0K2H511_dxr', 'Q72KE2_dxr', 'P54523_dxs', 'P77488_dxs', 'A0A0K2HC86_dxs', 'Q72H81_dxs', 'Q6KZL5_dys', 'P0AC73_ebgC', 'P06846_ebgR', 'Q72HZ7_ebsC', 'Q72JG9_ecJ', 'P70970_ecfAB', 'P0ADB4_ecnA', 'P23827_eco', 'P55339_ecsA', 'P55340_ecsB', 'P55341_ecsC', 'P0A955_eda', 'P0ADF6_edd', 'Q6KZV3_ef1b', 'P31545_efeB', 'P39596_efeM', 'P0AB24_efeO', 'P49778_efp', 'P0A6N4_efp', 'A0A0K2HBJ2_efp', 'Q72JL2_efp', 'P94527_egsA', 'Q6L2G4_eif1a', 'Q6L0E6_eif2b', 'Q6L150_eif5a', 'Q6L2L0_eif6', 'P0AEH3_elaA', 'P0AEH5_elaB', 'P0ABU5_elbB', 'P0AB01_elyC', 'P27303_emrA', 'Q6L1P9_endA', 'A0A0K2HBU8_engA', 'P38424_engB', 'P0A6P7_engB', 'A0A0K2H6K6_engB', 'P37869_eno', 'P0A6P9_eno', 'A0A0K2H7G9_eno', 'Q72H85_eno', 'Q6KZN3_eno', 'P15047_entA', 'P0ADI4_entB', 'P0AEJ2_entC', 'P10378_entE', 'P11454_entF', 'P37690_envC', 'P0AEJ4_envZ', 'P0A9B6_epd', 'P0A8N7_epmA', 'P39280_epmB', 'P37661_eptB', 'P0CB39_eptC', 'P42182_era', 'P06616_era', 'A0A0K2H658_era', 'Q72GH4_era', 'P39176_erfK', 'P0ACC3_erpA', 'O32232_est', 'P94551_etfA', 'P94550_etfB', 'P0A9W3_ettA', 'P0AEJ6_eutB', 'P19636_eutC', 'P77445_eutE', 'P76541_eutL', 'P0ABF4_eutM', 'P76555_eutQ', 'P0ACZ4_evgA', 'P0ABU7_exbB', 'P0ABV2_exbD', 'Q72KP1_exbD', 'Q9JMQ1_exuR', 'P0ACL2_exuR', 'P0AA78_exuT', 'O34894_ezrA', 'A0A0K2H6Q8_ezrA', 'P0A6Q3_fabA', 'P0A953_fabB', 'P71019_fabD', 'P0AAI9_fabD', 'O34340_fabF', 'P0AAI5_fabF', 'P51831_fabG', 'P0AEK2_fabG', 'A0A0K2H5U1_fabG', 'A0A0K2H6L2_fabG', 'P0A6R0_fabH', 'A0A0K2HAM5_fabH', 'Q72LL0_fabH', 'O34746_fabHA', 'O07600_fabHB', 'P54616_fabI', 'P0AEK4_fabI', 'P71079_fabL', 'Q72H17_fabL', 'P0ACU5_fabR', 'P94584_fabZ', 'P0A6Q6_fabZ', 'A0A0K2H850_fabZ', 'Q72HM3_fabZ', 'O32177_fadA', 'P21151_fadA', 'P94549_fadB', 'P21177_fadB', 'P69451_fadD', 'O32176_fadE', 'Q47146_fadE', 'P45866_fadF', 'O34717_fadH', 'P42593_fadH', 'P76503_fadI', 'P77399_fadJ', 'P10384_fadL', 'P77712_fadM', 'O32178_fadN', 'P0A8V6_fadR', 'O34835_fapR', 'A0A0K2H5H5_fapR', 'P13243_fbaA', 'P0AB71_fbaA', 'P0A991_fbaB', 'Q45597_fbp', 'P0A993_fbp', 'Q72K02_fbp', 'P32177_fdhD', 'Q746B7_fdhD', 'Q6L080_fdhD', 'P13024_fdhE', 'P24183_fdnG', 'P0AAJ3_fdnH', 'P32176_fdoG', 'P0AAJ5_fdoH', 'P0AEL0_fdoI', 'P0A9R4_fdx', 'P80668_feaB', 'P13036_fecA', 'P15028_fecB', 'Q72KV0_fecD', 'Q72KU9_fecE', 'Q6L2I9_fen', 'P05825_fepA', 'P0AEL6_fepB', 'P50727_fer', 'P77279_fetA', 'P77307_fetB', 'P40409_feuA', 'P37105_ffh', 'P0AGD7_ffh', 'A0A0K2H568_ffh', 'Q72JU4_ffh', 'Q72GY9_fhs', 'Q6KZM3_fhs', 'P06971_fhuA', 'P07821_fhuC', 'P37580_fhuD', 'P07822_fhuD', 'P39405_fhuF', 'P20605_fic', 'P69380_fieF', 'Q72HG7_fimA', 'P31697_fimC', 'P0A6R3_fis', 'P60566_fixA', 'P0A9L3_fklB', 'P45523_fkpA', 'P61949_fldA', 'P0ABW9_flgB', 'P24501_flgC', 'P75937_flgE', 'P75938_flgF', 'P23446_flgG', 'P0ABX5_flgG', 'A0A0K2H5D1_flgG', 'P0A6S0_flgH', 'P0A6S3_flgI', 'P39810_flgK', 'P33235_flgK', 'P96501_flgL', 'P29744_flgL', 'P39809_flgM', 'P0AEM4_flgM', 'P35620_flhA', 'P76298_flhA', 'P76299_flhB', 'P76297_flhE', 'P39752_flhO', 'P39753_flhP', 'P0AEM6_fliA', 'P04949_fliC', 'P24216_fliD', 'P23447_fliF', 'P25798_fliF', 'P23448_fliG', 'P0ABZ1_fliG', 'P23449_fliH', 'P31068_fliH', 'P23445_fliI', 'P52612_fliI', 'A0A0K2H5D6_fliI', 'P23452_fliL', 'P0ABX8_fliL', 'P23453_fliM', 'P06974_fliM', 'P15070_fliN', 'P35528_fliP', 'P0AC05_fliP', 'P96503_fliW', 'P24073_fliY', 'P0AEM9_fliY', 'P15286_flk', 'Q6KZQ5_flpA', 'P39180_flu', 'P94463_fmt', 'P23882_fmt', 'A0A0K2H5A7_fmt', 'Q72H32_fmt', 'P50740_fni', 'Q746I8_fni', 'Q6L1S1_fni', 'P0A9E5_fnr', 'P0AC23_focA', 'P0ABQ4_folA', 'P28823_folB', 'P0AC16_folB', 'Q05865_folC', 'P08192_folC', 'P54382_folD', 'P24186_folD', 'A0A0K2HBA4_folD', 'Q72JL7_folD', 'Q6L046_folD', 'P19465_folE', 'P0A6T5_folE', 'A0A0K2HBW1_folE', 'Q72HH0_folE', 'P29252_folK', 'P26281_folK', 'P0AFS3_folM', 'P0AC13_folP', 'P0AC19_folX', 'P28861_fpr', 'Q797E6_fra', 'P00363_frdA', 'P0AC47_frdB', 'P0A8Q0_frdC', 'P0A8Q3_frdD', 'P0AEN1_fre', 'O32157_frlB', 'P0AC00_frlB', 'O32153_frlD', 'P45544_frlR', 'P25437_frmA', 'P51025_frmB', 'P0AAP3_frmR', 'P81101_frr', 'P0A805_frr', 'A0A0K2H5B6_frr', 'Q72KE0_frr', 'P04335_frsA', 'P71012_fruA', 'P20966_fruA', 'P69811_fruB', 'O31714_fruK', 'P0AEW9_fruK', 'P78055_fsaA', 'P32669_fsaB', 'P0A998_ftnA', 'P0A9A2_ftnB', 'P28264_ftsA', 'P0ABH0_ftsA', 'A0A0K2H5F1_ftsA', 'Q72JP5_ftsA', 'O34814_ftsE', 'Q72J51_ftsE', 'P0A9R7_ftsE', 'P37476_ftsH', 'P0AAI3_ftsH', 'A0A0K2H923_ftsH', 'Q72IK4_ftsH', 'Q72LM3_ftsH', 'Q72JE4_ftsI', 'Q72JQ5_ftsI', 'P46889_ftsK', 'Q72K53_ftsK', 'Q07867_ftsL', 'P29131_ftsN', 'P26648_ftsP', 'O34876_ftsX', 'P0AC30_ftsX', 'Q72JR4_ftsX', 'P51835_ftsY', 'P10121_ftsY', 'A0A0K2H657_ftsY', 'Q6KYV1_ftsY', 'P17865_ftsZ', 'P0A9A6_ftsZ', 'A0A0K2H5F4_ftsZ', 'Q72JP4_ftsZ', 'P0AB87_fucA', 'P69922_fucI', 'P0A9S1_fucO', 'P0ACK8_fucR', 'P0AEN8_fucU', 'P0AC33_fumA', 'P14407_fumB', 'P07343_fumC', 'P05042_fumC', 'A0A0K2H9A3_fumC', 'O66271_fumC', 'P54574_fur', 'P0A9A9_fur', 'P80868_fusA', 'P0A6M8_fusA', 'A0A0K2H8X0_fusA', 'Q72I01_fusA', 'Q6L200_fusA', 'P37147_fxsA', 'P94428_gabD', 'P25526_gabD', 'P46349_gabP', 'P94427_gabT', 'P22256_gabT', 'Q6L1T2_gad', 'P69908_gadA', 'P69910_gadB', 'P63235_gadC', 'P63204_gadE', 'P63201_gadW', 'P55180_galE', 'P09147_galE', 'P0AAB6_galF', 'P39574_galK', 'P0A6T3_galK', 'A0A0K2HC08_galK', 'P39840_galM', 'P0A9C3_galM', 'P03024_galR', 'P25748_galS', 'P39575_galT', 'P09148_galT', 'A0A0K2HC18_galT', 'P0AEP3_galU', 'O31458_gamA', 'P39816_gamP', 'O07012_ganA', 'O07013_ganB', 'Q6L125_gap', 'P09124_gapA', 'P0A9B2_gapA', 'O34425_gapB', 'P42240_garD', 'P39829_garD', 'P23524_garK', 'P23522_garL', 'P0ABQ2_garR', 'O06491_gatA', 'P69828_gatA', 'A0A0K2H9M8_gatA', 'Q72L58_gatA', 'O30509_gatB', 'P37188_gatB', 'A0A0K2H9E8_gatB', 'Q72H75_gatB', 'O06492_gatC', 'P69831_gatC', 'A0A0K2H9D6_gatC', 'P0A9S3_gatD', 'Q6KZ69_gatE', 'P0C8J6_gatY', 'P0C8J8_gatZ', 'P71017_gbsB', 'P71015_gbsR', 'P15877_gcd', 'Q6KZ25_gck', 'P0AEP7_gcl', 'P0A9F6_gcvA', 'O32174_gcvH', 'P0A6T9_gcvH', 'Q72LB0_gcvH', 'Q6L1E3_gcvH', 'P33195_gcvP', 'P54376_gcvPA', 'A0A0K2HB78_gcvPA', 'Q72LA9_gcvPA', 'P54377_gcvPB', 'A0A0K2HBH7_gcvPB', 'P62030_gcvPB', 'P0A9I3_gcvR', 'P54378_gcvT', 'P27248_gcvT', 'A0A0K2HC58_gcvT', 'Q72LB1_gcvT', 'Q6L1C8_gdh1', 'Q6L047_gdh2', 'P00370_gdhA', 'Q8GR86_gdhA-1', 'Q8GR85_gdhA-2', 'P37484_gdpP', 'P39620_gerQ', 'P0A932_gfcE', 'Q72JT8_gfh1', 'P46918_ggaB', 'P54422_ggt', 'P18956_ggt', 'P75913_ghrA', 'P37666_ghrB', 'P37330_glcB', 'P0ACL5_glcC', 'P94535_glcD', 'P0AEP9_glcD', 'P52073_glcE', 'Q72LD1_glcE', 'P94534_glcF', 'Q72LD2_glcF', 'P0AEQ1_glcG', 'P54495_glcK', 'O31691_glcT', 'P0A9S5_gldA', 'P37747_glf', 'P0A6U8_glgA', 'A0A0K2H727_glgA', 'Q72G68_glgA', 'P07762_glgB', 'Q6L2Z9_glgB', 'P0A6V1_glgC', 'Q72G72_glgC', 'Q6L2Z8_glgE', 'P0AC86_glgP', 'P26649_glgS', 'P15067_glgX', 'P0A6V8_glk', 'O34824_glmM', 'P31120_glmM', 'A0A0K2H9Z3_glmM', 'Q72JS7_glmM', 'P0CI73_glmS', 'P17169_glmS', 'A0A0K2H927_glmS', 'Q72HF4_glmS', 'P14192_glmU', 'P0ACC7_glmU', 'A0A0K2H8R3_glmU', 'Q72LP1_glmU', 'P12425_glnA', 'P0A9C5_glnA', 'P0A9Z1_glnB', 'P27249_glnD', 'P30870_glnE', 'P0AFB8_glnG', 'O34563_glnH', 'P0AEQ3_glnH', 'P40758_glnK', 'P40759_glnL', 'P0AFB5_glnL', 'P0AEQ6_glnP', 'P10346_glnQ', 'Q72HK4_glnQ', 'P00962_glnS', 'P0AC81_gloA', 'P0AC84_gloB', 'P75849_gloC', 'P18158_glpD', 'P13035_glpD', 'P0A6V5_glpE', 'P18156_glpF', 'P0AER0_glpF', 'P18157_glpK', 'P0A6F3_glpK', 'A0A0K2H5L4_glpK', 'P30300_glpP', 'P37965_glpQ', 'P09394_glpQ', 'P0ACL0_glpR', 'P37948_glpT', 'P08194_glpT', 'Q03224_glpX', 'P0A9C9_glpX', 'A0A0K2H8L2_glpX', 'P52101_glrK', 'P0AFU4_glrR', 'P77454_glsA1', 'P0A6W0_glsA2', 'P39812_gltA', 'P0ABH7_gltA', 'O34399_gltB', 'P09831_gltB', 'P20668_gltC', 'P09832_gltD', 'P37902_gltI', 'P0AER3_gltJ', 'P0AER5_gltK', 'P0AAG3_gltL', 'P21345_gltP', 'P94501_gltR', 'O07605_gltT', 'P22250_gltX', 'P04805_gltX', 'Q72LI9_gltX', 'Q6L0N9_gltX', 'P54493_gluP', 'P54716_glvA', 'P54717_glvR', 'P42100_glxK', 'P77364_glxK', 'P77161_glxR', 'P39148_glyA', 'P0A825_glyA', 'A0A0K2H8J7_glyA', 'Q72IH2_glyA', 'Q6L1F6_glyA', 'P54380_glyQ', 'P00960_glyQ', 'A0A0K2H8G0_glyQS', 'Q72L85_glyQS', 'P54381_glyS', 'P00961_glyS', 'P63224_gmhA', 'P63229_gmhB', 'O34328_gmk', 'P60546_gmk', 'A0A0K2H5B2_gmk', 'Q72ID5_gmk', 'O05505_gmuB', 'O05507_gmuC', 'O05508_gmuD', 'O05510_gmuE', 'O05511_gmuF', 'P00350_gnd', 'P80859_gndA', 'P0AC92_gnsA', 'P77695_gnsB', 'P12011_gntK', 'P46859_gntK', 'P12012_gntP', 'P0AC94_gntP', 'P0ACP5_gntR', 'Q72IB7_gntR', 'P39835_gntT', 'P12013_gntZ', 'P06715_gor', 'P32662_gph', 'P62707_gpmA', 'P0A7A2_gpmB', 'P39773_gpmI', 'P37689_gpmI', 'A0A0K2H8E2_gpmI', 'P25552_gppA', 'Q46851_gpr', 'P46919_gpsA', 'P0A6S7_gpsA', 'A0A0K2HC38_gpsA', 'P61747_gpsA', 'P0CI74_gpsB', 'A0A0K2HDC5_gpsB', 'P0A9M5_gpt', 'P68066_grcA', 'P80240_greA', 'P0A6W5_greA', 'A0A0K2H611_greA', 'Q72L08_greA', 'P30128_greB', 'A0A0K2HA69_groEL', 'P28598_groL', 'P0A6F5_groL', 'P61490_groL', 'P15874_grpE', 'P09372_grpE', 'A0A0K2H6U2_grpE', 'Q72IK6_grpE', 'Q6L0S8_grpE', 'P68688_grxA', 'P0AC59_grxB', 'P0AC62_grxC', 'P0AC69_grxD', 'P71084_gsaB', 'P0A6W9_gshA', 'P04425_gshB', 'P75796_gsiA', 'P26907_gsiB', 'P75797_gsiB', 'P75798_gsiC', 'P75799_gsiD', 'P0AEW6_gsk', 'P25148_gspA', 'P0AES0_gss', 'P0A9D2_gstA', 'P0ACA7_gstB', 'Q05852_gtaB', 'P29727_guaA', 'P04079_guaA', 'A0A0K2H9A9_guaA', 'Q72IE5_guaA', 'Q6KZC5_guaAA', 'Q6L1Q1_guaAB', 'P21879_guaB', 'P0ADG7_guaB', 'A0A0K2H8M0_guaB', 'Q72LJ5_guaB', 'Q6L1U7_guaB', 'O05269_guaC', 'P60560_guaC', 'P76641_guaD', 'P50735_gudB', 'P42238_gudD', 'P0AES2_gudD', 'Q06004_gutB', 'P17115_gutQ', 'P39143_gutR', 'P05653_gyrA', 'P0AES4_gyrA', 'A0A0K2H8M7_gyrA', 'Q72IZ1_gyrA', 'P05652_gyrB', 'P0AES6_gyrB', 'A0A0K2H9K2_gyrB', 'A0A0K2HCZ1_gyrB', 'Q72IB0_gyrB', 'Q93HR1_gyrB', 'Q9ZNE0_hacA', 'Q9ZND9_hacB', 'P02968_hag', 'P31658_hchA', 'P0AES9_hdeA', 'P0AET2_hdeB', 'P0AET5_hdeD', 'P0AET8_hdhA', 'Q6KZ87_hel308', 'O32215_helD', 'P15038_helD', 'P16618_hemA', 'Q6L0J9_hemA', 'O07621_hemAT', 'P30950_hemB', 'P0ACB2_hemB', 'P16616_hemC', 'P06983_hemC', 'A0A0K2H6K1_hemC', 'Q72H57_hemC', 'Q6L2G8_hemC', 'P21248_hemD', 'P09126_hemD', 'Q72II9_hemD', 'P32395_hemE', 'P29680_hemE', 'A0A0K2HA88_hemE', 'Q72L31_hemE', 'Q6KZ54_hemE', 'P36553_hemF', 'P0ACB4_hemG', 'P32396_hemH', 'P23871_hemH', 'A0A0K2HA87_hemH', 'Q72L32_hemH', 'Q6L0G9_hemH', 'P30949_hemL', 'P23893_hemL', 'A0A0K2H6A2_hemL', 'A0A0K2HA89_hemL', 'Q72K83_hemL', 'Q6L2G9_hemL', 'P32131_hemN', 'P09127_hemX', 'P32397_hemY', 'P0ACB7_hemY', 'P31112_hepS', 'P31114_hepT', 'Q72I60_hesB', 'P46118_hexR', 'P0ABC3_hflC', 'P25746_hflD', 'P0ABC7_hflK', 'P94478_hflX', 'P25519_hflX', 'Q72L65_hflX', 'O31796_hfq', 'P0A6X3_hfq', 'A0A0K2H4V0_hfq', 'P0ACE3_hha', 'Q72IW9_hicd', 'P64578_higB', 'P0ACE7_hinT', 'P23874_hipA', 'P23873_hipB', 'P10371_hisA', 'P62356_hisA', 'P06987_hisB', 'P61661_hisB', 'P17731_hisC', 'P06986_hisC', 'A0A0K2HBX9_hisC', 'Q72LJ9_hisC', 'P06988_hisD', 'A0A0K2H7S5_hisD', 'P62460_hisD', 'Q6KZD1_hisD', 'P60664_hisF', 'P62453_hisF', 'P60757_hisG', 'P62381_hisG', 'P60595_hisH', 'A0A0K2H8G2_hisH', 'P61781_hisH']\n"
     ]
    }
   ],
   "source": [
    "print(multiple_prot)"
   ]
  }
 ],
 "metadata": {
  "kernelspec": {
   "display_name": "Python 3",
   "language": "python",
   "name": "python3"
  },
  "language_info": {
   "codemirror_mode": {
    "name": "ipython",
    "version": 3
   },
   "file_extension": ".py",
   "mimetype": "text/x-python",
   "name": "python",
   "nbconvert_exporter": "python",
   "pygments_lexer": "ipython3",
   "version": "3.12.3"
  }
 },
 "nbformat": 4,
 "nbformat_minor": 2
}
