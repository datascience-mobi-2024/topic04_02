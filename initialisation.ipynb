{
 "cells": [
  {
   "cell_type": "markdown",
   "metadata": {},
   "source": [
    "### This notebook creates required directories and also includes the download of all dependencies of SPARC and ThERMOS/ThERMless and example PDBs/all PDBs"
   ]
  },
  {
   "cell_type": "markdown",
   "metadata": {},
   "source": [
    "#### Directory creation"
   ]
  },
  {
   "cell_type": "code",
   "execution_count": 4,
   "metadata": {},
   "outputs": [
    {
     "name": "stdout",
     "output_type": "stream",
     "text": [
      "data directory already exists\n",
      "fastas directory already exists\n",
      "pdbs directory already exists\n"
     ]
    }
   ],
   "source": [
    "import os\n",
    "import subprocess\n",
    "if not os.path.exists('./data'): \n",
    "    os.makedirs('./data')\n",
    "else: \n",
    "    print('data directory already exists')\n",
    "if not os.path.exists('./data/fastas'): \n",
    "    os.makedirs('./data/fastas')\n",
    "else:\n",
    "    print('fastas directory already exists')\n",
    "if not os.path.exists('./data/pdbs'): \n",
    "    os.makedirs('./data/pdbs')\n",
    "else:\n",
    "    print('pdbs directory already exists')"
   ]
  },
  {
   "cell_type": "markdown",
   "metadata": {},
   "source": [
    "#### Download of dependencies and final dataframe with all features for 6558 proteins \"prokaryotes_348columns\""
   ]
  },
  {
   "cell_type": "code",
   "execution_count": 3,
   "metadata": {},
   "outputs": [
    {
     "name": "stdout",
     "output_type": "stream",
     "text": [
      "c:\\Users\\tobia\\OneDrive\\Documents\\Uni\\FS 4\\Bioinfo Projekt\\topic04_02\\data\\gbr_model1.joblib already exists\n",
      "c:\\Users\\tobia\\OneDrive\\Documents\\Uni\\FS 4\\Bioinfo Projekt\\topic04_02\\data\\pca1.joblib already exists\n",
      "c:\\Users\\tobia\\OneDrive\\Documents\\Uni\\FS 4\\Bioinfo Projekt\\topic04_02\\data\\prokaryotes_348columns.csv already exists\n",
      "c:\\Users\\tobia\\OneDrive\\Documents\\Uni\\FS 4\\Bioinfo Projekt\\topic04_02\\data\\prokaryotes1.joblib already exists\n",
      "c:\\Users\\tobia\\OneDrive\\Documents\\Uni\\FS 4\\Bioinfo Projekt\\topic04_02\\data\\scaler1.joblib already exists\n"
     ]
    }
   ],
   "source": [
    "urls = {\"https://drive.google.com/uc?export=download&id=1N1Z-oy5obzkASoe2L94sWxZs5x-SEp_Y\": os.path.abspath(\"./data/gbr_model1.joblib\"),\n",
    "        \"https://drive.google.com/uc?export=download&id=1sy-kBCufGMH0kEcSyFEcPHkkWoscMy1u\": os.path.abspath(\"./data/pca1.joblib\"),\n",
    "        \"https://drive.google.com/uc?export=download&id=16nsXGQsxao55S9xFoCvYjF-jxBbM5KRf\": os.path.abspath(\"./data/prokaryotes_348columns.csv\"),\n",
    "        \"https://drive.google.com/uc?export=download&id=1MmKTMPqI8ZiWHanYxFKip58jzqyAMLlJ\": os.path.abspath(\"./data/prokaryotes1.joblib\"),\n",
    "        \"https://drive.google.com/uc?export=download&id=15-5v0Ajhokl53_2om08yGevDegcYgGN9\":os.path.abspath(\"./data/scaler1.joblib\")}\n",
    "for url, output_path in urls.items():\n",
    "    if not os.path.exists(output_path):\n",
    "        print(f\"Downloading {output_path}\")\n",
    "        command = [\n",
    "        \"curl\", #download from url\n",
    "        \"-L\",   #follow redirects\n",
    "        \"-o\", output_path,\n",
    "        url\n",
    "        ]\n",
    "        subprocess.run(command, check=True)\n",
    "    else:\n",
    "        print(f\"{output_path} already exists\")"
   ]
  },
  {
   "cell_type": "markdown",
   "metadata": {},
   "source": [
    "#### Download of two example PDBs"
   ]
  },
  {
   "cell_type": "code",
   "execution_count": 12,
   "metadata": {},
   "outputs": [
    {
     "name": "stdout",
     "output_type": "stream",
     "text": [
      "c:\\Users\\tobia\\OneDrive\\Documents\\Uni\\FS 4\\Bioinfo Projekt\\topic04_02\\data\\gbr_model1.joblib already exists\n",
      "c:\\Users\\tobia\\OneDrive\\Documents\\Uni\\FS 4\\Bioinfo Projekt\\topic04_02\\data\\pca1.joblib already exists\n",
      "c:\\Users\\tobia\\OneDrive\\Documents\\Uni\\FS 4\\Bioinfo Projekt\\topic04_02\\data\\prokaryotes_348columns.csv already exists\n",
      "c:\\Users\\tobia\\OneDrive\\Documents\\Uni\\FS 4\\Bioinfo Projekt\\topic04_02\\data\\prokaryotes1.joblib already exists\n",
      "c:\\Users\\tobia\\OneDrive\\Documents\\Uni\\FS 4\\Bioinfo Projekt\\topic04_02\\data\\scaler1.joblib already exists\n"
     ]
    }
   ],
   "source": [
    "pdburls = {'https://drive.google.com/uc?export=download&id=1Vt4tsez5u2PheQXRh8NFUYX3evqkj8KP':os.path.abspath('./data/pdbs/AF-P94501-F1.pdb'),\n",
    "            'https://drive.google.com/uc?export=download&id=14Y7dra6qzjAQS7KGN0rdncpcNYspRQdh': os.path.abspath('./data/pdbs/AF-P09030-F2.pdb'),}\n",
    "for url, output_path in urls.items():\n",
    "    if not os.path.exists(output_path):\n",
    "        print(f\"Downloading {output_path}\")\n",
    "        command = [\n",
    "        \"curl\", #download from url\n",
    "        \"-L\",   #follow redirects\n",
    "        \"-o\", output_path,\n",
    "        url\n",
    "        ]\n",
    "        subprocess.run(command, check=True)\n",
    "    else:\n",
    "        print(f\"{output_path} already exists\")"
   ]
  }
 ],
 "metadata": {
  "kernelspec": {
   "display_name": "Python 3",
   "language": "python",
   "name": "python3"
  },
  "language_info": {
   "codemirror_mode": {
    "name": "ipython",
    "version": 3
   },
   "file_extension": ".py",
   "mimetype": "text/x-python",
   "name": "python",
   "nbconvert_exporter": "python",
   "pygments_lexer": "ipython3",
   "version": "3.11.4"
  }
 },
 "nbformat": 4,
 "nbformat_minor": 2
}
