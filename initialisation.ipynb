{
 "cells": [
  {
   "cell_type": "code",
   "execution_count": 1,
   "metadata": {},
   "outputs": [],
   "source": [
    "import os\n",
    "import subprocess\n",
    "if not os.path.exists('./data'): os.makedirs('./data')\n",
    "else: print('data folder already exists')\n",
    "urls = {\"https://drive.google.com/uc?export=download&id=1N1Z-oy5obzkASoe2L94sWxZs5x-SEp_Y\": os.path.abspath(\"./data//test/gbr_model1.joblib\"), \"https://drive.google.com/uc?export=download&id=1sy-kBCufGMH0kEcSyFEcPHkkWoscMy1u\": os.path.abspath(\"./data/test/pca1.joblib\"),\"https://drive.google.com/uc?export=download&id=16nsXGQsxao55S9xFoCvYjF-jxBbM5KRf\": os.path.abspath(\"./data/test/prokaryotes_348columns.csv\"),\"https://drive.google.com/uc?export=download&id=1MmKTMPqI8ZiWHanYxFKip58jzqyAMLlJ\": os.path.abspath(\"./data/test/prokaryotes1.joblib\"),\"https://drive.google.com/uc?export=download&id=15-5v0Ajhokl53_2om08yGevDegcYgGN9\":os.path.abspath(\"./data/test/scaler1.joblib\")}\n",
    "count = 0\n",
    "for url, output_path in urls.items():\n",
    "    count += 1\n",
    "    command = [\n",
    "        \"curl\", # curl command to download files\n",
    "        \"-L\",  # follow redirects\n",
    "        \"-o\", output_path,\n",
    "        url\n",
    "    ]\n",
    "    subprocess.run(command, check=True)\n",
    "    print(f\"Download {count}/{len(urls)} complete.\")"
   ]
  }
 ],
 "metadata": {
  "kernelspec": {
   "display_name": "Python 3",
   "language": "python",
   "name": "python3"
  },
  "language_info": {
   "codemirror_mode": {
    "name": "ipython",
    "version": 3
   },
   "file_extension": ".py",
   "mimetype": "text/x-python",
   "name": "python",
   "nbconvert_exporter": "python",
   "pygments_lexer": "ipython3",
   "version": "3.11.4"
  }
 },
 "nbformat": 4,
 "nbformat_minor": 2
}
