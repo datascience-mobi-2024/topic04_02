{
 "cells": [
  {
   "cell_type": "markdown",
   "metadata": {},
   "source": [
    "#### This notebook shows the usage of our protein class and its methods using the two example proteins (available after running initialisation notebook)"
   ]
  },
  {
   "cell_type": "code",
   "execution_count": 1,
   "metadata": {},
   "outputs": [],
   "source": [
    "from proteinclass import Protein\n",
    "import pandas as pd\n",
    "import numpy as np"
   ]
  },
  {
   "cell_type": "code",
   "execution_count": 2,
   "metadata": {},
   "outputs": [
    {
     "name": "stderr",
     "output_type": "stream",
     "text": [
      "C:\\Users\\tobia\\AppData\\Local\\Temp\\ipykernel_2644\\157024576.py:2: DtypeWarning: Columns (6,19,20,21,23,24,25,26) have mixed types. Specify dtype option on import or set low_memory=False.\n",
      "  df = pd.read_csv('./data/prokaryotes_348columns.csv')\n"
     ]
    }
   ],
   "source": [
    "#Loading the dataframe to get protein sequences\n",
    "df = pd.read_csv('./data/prokaryotes_348columns.csv')\n",
    "sequences = df['Sequence']\n",
    "sequences.index = df['AlphaFoldDB'].str[:-1]\n",
    "# Example Protein 1 Exodeoxyribonuclease III (P09030)\n",
    "seq1 = sequences['P09030']\n",
    "# Example Protein 2 HTH-type transcriptional regulator GltR (P94501)\n",
    "seq2 = sequences['P94501']"
   ]
  },
  {
   "cell_type": "code",
   "execution_count": 10,
   "metadata": {},
   "outputs": [],
   "source": [
    "# Creating Protein objects\n",
    "Nuclease = Protein(seq1)\n",
    "GltR = Protein(seq2)\n",
    "# all features were calculated in the __init__ method and stored as attributes"
   ]
  },
  {
   "cell_type": "code",
   "execution_count": 16,
   "metadata": {},
   "outputs": [
    {
     "name": "stdout",
     "output_type": "stream",
     "text": [
      "46.72407615299462\n",
      "45.76974259982553\n",
      "9.0\n",
      "0.28040540540540543\n",
      "0.08860759493670886\n",
      "0.11148648648648649\n",
      "0.006756756756756757\n"
     ]
    }
   ],
   "source": [
    "# predicted melt points\n",
    "print(Nuclease.SPARC)\n",
    "print(GltR.SPARC)\n",
    "# other features\n",
    "print(Nuclease.Helix2count) # Number of helices\n",
    "print(GltR.PolarAA)\n",
    "print(Nuclease.Rhelix)      # Relative helix arginine content\n",
    "print(GltR.ER)              # Relative glutamic acid + arginine content\n",
    "print(GltR.EAmotif)         # Relative amount of EA dipeptides"
   ]
  },
  {
   "cell_type": "code",
   "execution_count": null,
   "metadata": {},
   "outputs": [],
   "source": [
    "# using "
   ]
  }
 ],
 "metadata": {
  "kernelspec": {
   "display_name": "Python 3",
   "language": "python",
   "name": "python3"
  },
  "language_info": {
   "codemirror_mode": {
    "name": "ipython",
    "version": 3
   },
   "file_extension": ".py",
   "mimetype": "text/x-python",
   "name": "python",
   "nbconvert_exporter": "python",
   "pygments_lexer": "ipython3",
   "version": "3.12.4"
  }
 },
 "nbformat": 4,
 "nbformat_minor": 2
}
