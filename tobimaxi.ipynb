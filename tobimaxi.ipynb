{
 "cells": [
  {
   "cell_type": "code",
   "execution_count": 351,
   "metadata": {},
   "outputs": [],
   "source": [
    "import numpy as np\n",
    "import pandas as pd\n",
    "import os\n",
    "import seaborn as sns\n",
    "import matplotlib.pyplot as plt\n",
    "import Bio\n",
    "import statsmodels.api as sm\n",
    "import re\n",
    "import ast"
   ]
  },
  {
   "cell_type": "code",
   "execution_count": 352,
   "metadata": {},
   "outputs": [],
   "source": [
    "path: str = './data/'\n",
    "prokaryotes: pd.DataFrame = pd.read_csv(os.path.join(path, \"prokaryotes_sec_structure.csv\"))"
   ]
  },
  {
   "cell_type": "code",
   "execution_count": 353,
   "metadata": {},
   "outputs": [],
   "source": [
    "prokaryotes = prokaryotes.dropna(subset=['meltPoint'])"
   ]
  },
  {
   "cell_type": "code",
   "execution_count": 354,
   "metadata": {},
   "outputs": [],
   "source": [
    "secs = ['Helix1','Turn1','Sheet1','Helix2','Sheet2']\n",
    "if isinstance(prokaryotes.iloc[0,28],str):\n",
    "    for s in secs:\n",
    "        prokaryotes[s] = prokaryotes[s].apply(lambda x: ast.literal_eval(x) if pd.isnull(x)==False else x)"
   ]
  },
  {
   "cell_type": "markdown",
   "metadata": {},
   "source": [
    "Adding columns for total number of helices, sheets and coils"
   ]
  },
  {
   "cell_type": "code",
   "execution_count": 355,
   "metadata": {},
   "outputs": [],
   "source": [
    "for s in secs:\n",
    "    prokaryotes[f'{s}count'] = prokaryotes[s].apply(lambda x: len(x) if isinstance(x, list) else np.nan)"
   ]
  },
  {
   "cell_type": "markdown",
   "metadata": {},
   "source": [
    "Adding columns for relative Helix and Sheet abundance"
   ]
  },
  {
   "cell_type": "code",
   "execution_count": 356,
   "metadata": {},
   "outputs": [],
   "source": [
    "a = np.array(prokaryotes['Length'])\n",
    "for s in secs:\n",
    "    prokaryotes[f'{s}perc'] = prokaryotes[s].apply(lambda x: pd.Series(x).map(len).sum() if isinstance(x, list) else np.nan)\n",
    "    prokaryotes[f'{s}perc'] = np.array(prokaryotes[f'{s}perc'])/a"
   ]
  },
  {
   "cell_type": "markdown",
   "metadata": {},
   "source": [
    "Adding columns for average Helix and Sheet length"
   ]
  },
  {
   "cell_type": "code",
   "execution_count": 357,
   "metadata": {},
   "outputs": [],
   "source": [
    "for s in secs:\n",
    "    prokaryotes[f'{s}avg'] = prokaryotes[s].apply(lambda x: np.array([len(lst) for lst in np.array(x,dtype=object)]).mean() if isinstance(x, list) and len(x)>0 else np.nan)"
   ]
  },
  {
   "cell_type": "markdown",
   "metadata": {},
   "source": [
    "Adding column for relative fraction of secondary structures (Helix and Beta sheet combined)"
   ]
  },
  {
   "cell_type": "code",
   "execution_count": 358,
   "metadata": {},
   "outputs": [],
   "source": [
    "prokaryotes['secstr1'] = np.array(prokaryotes['Helix1perc']) + np.array(prokaryotes['Sheet1perc'])\n",
    "prokaryotes['secstr2'] = np.array(prokaryotes['Helix2perc']) + np.array(prokaryotes['Sheet2perc'])"
   ]
  },
  {
   "cell_type": "code",
   "execution_count": 320,
   "metadata": {},
   "outputs": [
    {
     "name": "stdout",
     "output_type": "stream",
     "text": [
      "<class 'numpy.float64'>\n"
     ]
    }
   ],
   "source": [
    "print(type(prokaryotes['meltPoint'][0]))"
   ]
  },
  {
   "cell_type": "code",
   "execution_count": 360,
   "metadata": {},
   "outputs": [],
   "source": [
    "lower_threshold = prokaryotes['meltPoint'].quantile(0.1)\n",
    "upper_threshold = prokaryotes['meltPoint'].quantile(0.9)\n",
    "quantiles_prokaryotes = prokaryotes[(prokaryotes['meltPoint'] <= lower_threshold) | (prokaryotes['meltPoint'] >= upper_threshold)].reset_index()"
   ]
  },
  {
   "cell_type": "code",
   "execution_count": 97,
   "metadata": {},
   "outputs": [
    {
     "data": {
      "text/plain": [
       "Length        -0.076928\n",
       "temperature    0.828756\n",
       "fold_change    0.084312\n",
       "meltPoint      1.000000\n",
       "auc            0.907914\n",
       "Helix1count    0.307083\n",
       "Turn1count     0.026546\n",
       "Sheet1count    0.210829\n",
       "Helix2count   -0.080430\n",
       "Sheet2count    0.053873\n",
       "Helix1perc     0.105795\n",
       "Turn1perc     -0.151912\n",
       "Sheet1perc     0.111733\n",
       "Helix2perc    -0.111735\n",
       "Sheet2perc     0.130885\n",
       "Helix1avg     -0.154751\n",
       "Turn1avg       0.020562\n",
       "Sheet1avg     -0.020224\n",
       "Helix2avg     -0.095630\n",
       "Sheet2avg     -0.017054\n",
       "secstr1        0.238029\n",
       "secstr2       -0.070365\n",
       "Name: meltPoint, dtype: float64"
      ]
     },
     "execution_count": 97,
     "metadata": {},
     "output_type": "execute_result"
    }
   ],
   "source": [
    "quantiles_prokaryotes_temp_NaN.corr(method='spearman',numeric_only=True)['meltPoint']"
   ]
  },
  {
   "cell_type": "code",
   "execution_count": 361,
   "metadata": {},
   "outputs": [],
   "source": [
    "aacids = ['A', 'V', 'I', 'L', 'M', 'F', 'W','N', 'Q', 'S', 'T', 'Y','D', 'E','R', 'H', 'K', 'C', 'P', 'G' ]\n",
    "from function import rel_aa_comp\n",
    "aagl = []\n",
    "for n in aacids:\n",
    "    for m in aacids:\n",
    "        if n != m and [m,n] not in aagl:\n",
    "            aagl.append([n,m])"
   ]
  },
  {
   "cell_type": "code",
   "execution_count": 370,
   "metadata": {},
   "outputs": [],
   "source": [
    "for g in aagl:\n",
    "    prokaryotes[f'{g[0]}{g[1]}'] = prokaryotes['Sequence'].apply(lambda x: rel_aa_comp(x,[g[0],g[1]]))\n",
    "    if abs(prokaryotes[f'{g[0]}{g[1]}'].corr(prokaryotes['meltPoint'])) < 0.4:\n",
    "        prokaryotes = prokaryotes.drop(columns = [f'{g[0]}{g[1]}']).reset_index(drop=True)"
   ]
  },
  {
   "cell_type": "code",
   "execution_count": 372,
   "metadata": {},
   "outputs": [],
   "source": [
    "correlation = prokaryotes.corr(method='spearman',numeric_only=True)['meltPoint']"
   ]
  },
  {
   "cell_type": "markdown",
   "metadata": {},
   "source": [
    "Calculating amino acid percentage in (helices and sheets)"
   ]
  },
  {
   "cell_type": "code",
   "execution_count": 168,
   "metadata": {},
   "outputs": [
    {
     "name": "stdout",
     "output_type": "stream",
     "text": [
      "<class 'str'>\n"
     ]
    }
   ],
   "source": [
    "import itertools\n",
    "test = [[1,2,3],[4,5,6],[7,8,9]]\n",
    "tests = str(list(itertools.chain.from_iterable(test)))\n",
    "print(type(tests))"
   ]
  },
  {
   "cell_type": "code",
   "execution_count": 381,
   "metadata": {},
   "outputs": [
    {
     "data": {
      "text/plain": [
       "[18,\n",
       " 19,\n",
       " 20,\n",
       " 21,\n",
       " 22,\n",
       " 23,\n",
       " 24,\n",
       " 25,\n",
       " 26,\n",
       " 27,\n",
       " 28,\n",
       " 29,\n",
       " 30,\n",
       " 31,\n",
       " 37,\n",
       " 38,\n",
       " 39,\n",
       " 40,\n",
       " 41,\n",
       " 42,\n",
       " 43,\n",
       " 44,\n",
       " 65,\n",
       " 66,\n",
       " 67,\n",
       " 68,\n",
       " 69,\n",
       " 70,\n",
       " 71,\n",
       " 72,\n",
       " 106,\n",
       " 120,\n",
       " 121,\n",
       " 122,\n",
       " 123,\n",
       " 124,\n",
       " 125,\n",
       " 126,\n",
       " 127,\n",
       " 128,\n",
       " 132,\n",
       " 133,\n",
       " 134,\n",
       " 135,\n",
       " 136,\n",
       " 137,\n",
       " 138,\n",
       " 139,\n",
       " 140]"
      ]
     },
     "execution_count": 381,
     "metadata": {},
     "output_type": "execute_result"
    }
   ],
   "source": [
    "a = np.array(prokaryotes['Helix2'][0],dtype=object)\n",
    "A = list(np.concatenate(a))\n",
    "A"
   ]
  },
  {
   "cell_type": "code",
   "execution_count": 386,
   "metadata": {},
   "outputs": [
    {
     "name": "stdout",
     "output_type": "stream",
     "text": [
      "             indices                                            letters  \\\n",
      "0  [4, 5, 6, 11, 12]  [a, s, d, f, g, h, j, k, i, o, u, z, t, r, e, ...   \n",
      "1          [0, 1, 2]  [a, s, d, f, g, h, j, k, i, o, u, z, t, r, e, ...   \n",
      "2   [10, 13, 14, 15]  [a, s, d, f, g, h, j, k, i, o, u, z, t, r, e, ...   \n",
      "\n",
      "  selected_letters  \n",
      "0  [g, h, j, z, t]  \n",
      "1        [a, s, d]  \n",
      "2     [u, r, e, w]  \n"
     ]
    }
   ],
   "source": [
    "data = {\n",
    "    'indices': [[4, 5, 6, 11, 12], [0, 1, 2], [10, 13, 14, 15]],\n",
    "    'letters': [['a', 's', 'd', 'f', 'g', 'h', 'j', 'k', 'i', 'o', 'u', 'z', 't', 'r', 'e', 'w', 'q']] * 3\n",
    "}\n",
    "df = pd.DataFrame(data)\n",
    "\n",
    "# Create the new column by selecting elements from 'letters' based on 'indices'\n",
    "df['selected_letters'] = df.apply(lambda row: [row['letters'][i] for i in row['indices']], axis=1)\n",
    "\n",
    "# Display the result\n",
    "print(df)"
   ]
  },
  {
   "cell_type": "code",
   "execution_count": 389,
   "metadata": {},
   "outputs": [],
   "source": [
    "prokaryotes['helixind'] = prokaryotes['Helix2'].apply(lambda x: list(np.concatenate(np.array(x,dtype=object))) if len(x) > 0 else [])\n",
    "prokaryotes['helixseq'] = prokaryotes.apply(lambda row: [row['Sequence'][i] for i in row['helixind'] if i < len(row['Sequence'])], axis=1)"
   ]
  },
  {
   "cell_type": "code",
   "execution_count": 189,
   "metadata": {},
   "outputs": [
    {
     "name": "stderr",
     "output_type": "stream",
     "text": [
      "C:\\Users\\tobia\\AppData\\Local\\Temp\\ipykernel_23884\\390532804.py:9: PerformanceWarning: DataFrame is highly fragmented.  This is usually the result of calling `frame.insert` many times, which has poor performance.  Consider joining all columns at once using pd.concat(axis=1) instead. To get a de-fragmented frame, use `newframe = frame.copy()`\n",
      "  prokaryotes.loc[y,f'{a}helixcomp'] = rel_aa_comp(helixseq,a)\n",
      "C:\\Users\\tobia\\AppData\\Local\\Temp\\ipykernel_23884\\390532804.py:9: PerformanceWarning: DataFrame is highly fragmented.  This is usually the result of calling `frame.insert` many times, which has poor performance.  Consider joining all columns at once using pd.concat(axis=1) instead. To get a de-fragmented frame, use `newframe = frame.copy()`\n",
      "  prokaryotes.loc[y,f'{a}helixcomp'] = rel_aa_comp(helixseq,a)\n",
      "C:\\Users\\tobia\\AppData\\Local\\Temp\\ipykernel_23884\\390532804.py:9: PerformanceWarning: DataFrame is highly fragmented.  This is usually the result of calling `frame.insert` many times, which has poor performance.  Consider joining all columns at once using pd.concat(axis=1) instead. To get a de-fragmented frame, use `newframe = frame.copy()`\n",
      "  prokaryotes.loc[y,f'{a}helixcomp'] = rel_aa_comp(helixseq,a)\n",
      "C:\\Users\\tobia\\AppData\\Local\\Temp\\ipykernel_23884\\390532804.py:9: PerformanceWarning: DataFrame is highly fragmented.  This is usually the result of calling `frame.insert` many times, which has poor performance.  Consider joining all columns at once using pd.concat(axis=1) instead. To get a de-fragmented frame, use `newframe = frame.copy()`\n",
      "  prokaryotes.loc[y,f'{a}helixcomp'] = rel_aa_comp(helixseq,a)\n",
      "C:\\Users\\tobia\\AppData\\Local\\Temp\\ipykernel_23884\\390532804.py:9: PerformanceWarning: DataFrame is highly fragmented.  This is usually the result of calling `frame.insert` many times, which has poor performance.  Consider joining all columns at once using pd.concat(axis=1) instead. To get a de-fragmented frame, use `newframe = frame.copy()`\n",
      "  prokaryotes.loc[y,f'{a}helixcomp'] = rel_aa_comp(helixseq,a)\n",
      "C:\\Users\\tobia\\AppData\\Local\\Temp\\ipykernel_23884\\390532804.py:9: PerformanceWarning: DataFrame is highly fragmented.  This is usually the result of calling `frame.insert` many times, which has poor performance.  Consider joining all columns at once using pd.concat(axis=1) instead. To get a de-fragmented frame, use `newframe = frame.copy()`\n",
      "  prokaryotes.loc[y,f'{a}helixcomp'] = rel_aa_comp(helixseq,a)\n",
      "C:\\Users\\tobia\\AppData\\Local\\Temp\\ipykernel_23884\\390532804.py:9: PerformanceWarning: DataFrame is highly fragmented.  This is usually the result of calling `frame.insert` many times, which has poor performance.  Consider joining all columns at once using pd.concat(axis=1) instead. To get a de-fragmented frame, use `newframe = frame.copy()`\n",
      "  prokaryotes.loc[y,f'{a}helixcomp'] = rel_aa_comp(helixseq,a)\n",
      "C:\\Users\\tobia\\AppData\\Local\\Temp\\ipykernel_23884\\390532804.py:9: PerformanceWarning: DataFrame is highly fragmented.  This is usually the result of calling `frame.insert` many times, which has poor performance.  Consider joining all columns at once using pd.concat(axis=1) instead. To get a de-fragmented frame, use `newframe = frame.copy()`\n",
      "  prokaryotes.loc[y,f'{a}helixcomp'] = rel_aa_comp(helixseq,a)\n"
     ]
    }
   ],
   "source": [
    "for a in aacids:\n",
    "    for y in range(len(prokaryotes)):\n",
    "        helixind = list(itertools.chain.from_iterable(prokaryotes.loc[y,'Helix2']))\n",
    "        helixseq = ''\n",
    "        for u in helixind:\n",
    "            if u < len(prokaryotes.loc[y,'Sequence']):\n",
    "                helixseq += prokaryotes.loc[y,'Sequence'][u]\n",
    "        if len(prokaryotes.loc[y,'Helix2']) != 0:\n",
    "            prokaryotes.loc[y,f'{a}helixcomp'] = rel_aa_comp(helixseq,a)"
   ]
  },
  {
   "cell_type": "code",
   "execution_count": 212,
   "metadata": {},
   "outputs": [],
   "source": [
    "b = prokaryotes.corr(method='pearson',numeric_only=True)['meltPoint']"
   ]
  },
  {
   "cell_type": "code",
   "execution_count": 195,
   "metadata": {},
   "outputs": [],
   "source": [
    "def p_val(corr, n, alpha):\n",
    "    import math\n",
    "    import scipy.stats as stats\n",
    "    if math.sqrt((1-(corr**2))/(n-2)) != 0 and n-2 != 0:\n",
    "        t = (corr)/(math.sqrt((1-(corr**2))/(n-2)))\n",
    "        p = 1 - stats.t.cdf(t, n-2)\n",
    "        return [p, p < alpha]"
   ]
  },
  {
   "cell_type": "code",
   "execution_count": 213,
   "metadata": {},
   "outputs": [],
   "source": [
    "cp = b.apply(lambda x: p_val(x, 12500, 0.05))"
   ]
  },
  {
   "cell_type": "code",
   "execution_count": 223,
   "metadata": {},
   "outputs": [
    {
     "name": "stderr",
     "output_type": "stream",
     "text": [
      "C:\\Users\\tobia\\AppData\\Local\\Temp\\ipykernel_23884\\2212755987.py:3: FutureWarning: Series.__getitem__ treating keys as positions is deprecated. In a future version, integer keys will always be treated as labels (consistent with DataFrame behavior). To access a value by position, use `ser.iloc[pos]`\n",
      "  if cp[j] is not None and cp[j][1] == True and b[j] > 0.4:\n"
     ]
    }
   ],
   "source": [
    "WICHTIG = []\n",
    "for j in range(len(b)):\n",
    "    if cp[j] is not None and cp[j][1] == True and b[j] > 0.4:\n",
    "        WICHTIG.append(b.index[j])\n",
    "        "
   ]
  },
  {
   "cell_type": "code",
   "execution_count": 222,
   "metadata": {},
   "outputs": [
    {
     "data": {
      "text/plain": [
       "['temperature',\n",
       " 'fold_change',\n",
       " 'AL',\n",
       " 'AR',\n",
       " 'AP',\n",
       " 'VL',\n",
       " 'VR',\n",
       " 'VP',\n",
       " 'LF',\n",
       " 'LW',\n",
       " 'LY',\n",
       " 'LE',\n",
       " 'LR',\n",
       " 'LC',\n",
       " 'LP',\n",
       " 'LG',\n",
       " 'MR',\n",
       " 'FR',\n",
       " 'WR',\n",
       " 'WP',\n",
       " 'YR',\n",
       " 'YP',\n",
       " 'YG',\n",
       " 'ER',\n",
       " 'EP',\n",
       " 'EG',\n",
       " 'RH',\n",
       " 'RC',\n",
       " 'RP',\n",
       " 'RG',\n",
       " 'PG',\n",
       " 'Rhelixcomp']"
      ]
     },
     "execution_count": 222,
     "metadata": {},
     "output_type": "execute_result"
    }
   ],
   "source": [
    "WICHTIG"
   ]
  }
 ],
 "metadata": {
  "kernelspec": {
   "display_name": "Python 3",
   "language": "python",
   "name": "python3"
  },
  "language_info": {
   "codemirror_mode": {
    "name": "ipython",
    "version": 3
   },
   "file_extension": ".py",
   "mimetype": "text/x-python",
   "name": "python",
   "nbconvert_exporter": "python",
   "pygments_lexer": "ipython3",
   "version": "3.11.4"
  }
 },
 "nbformat": 4,
 "nbformat_minor": 2
}
