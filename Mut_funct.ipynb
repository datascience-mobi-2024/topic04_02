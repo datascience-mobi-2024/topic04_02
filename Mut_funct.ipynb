{
 "cells": [
  {
   "cell_type": "markdown",
   "metadata": {},
   "source": [
    "Working jupyter to create function to create a list of aminoacids likely to be used for mutation"
   ]
  },
  {
   "cell_type": "code",
   "execution_count": 20,
   "metadata": {},
   "outputs": [
    {
     "name": "stdout",
     "output_type": "stream",
     "text": [
      "Pqr file already exists\n",
      "Salt_bridge finished\n",
      "H_bond finished\n",
      "VdW_interaction finished\n"
     ]
    },
    {
     "name": "stderr",
     "output_type": "stream",
     "text": [
      "c:\\Users\\marik\\OneDrive - bwedu\\Uni HD\\FS 4\\Bioinfo\\topic04_02\\helper_function.py:71: RuntimeWarning: invalid value encountered in cast\n",
      "  distance[:,0] = distance[:,0].astype('int')\n",
      "c:\\Users\\marik\\OneDrive - bwedu\\Uni HD\\FS 4\\Bioinfo\\topic04_02\\helper_function.py:89: RuntimeWarning: invalid value encountered in arccos\n",
      "  theta = np.arccos((d_DH[n,1,1]**2 + d_HA[n,1:]**2 - d_DA[1:,1:][n,:]**2)/(2*d_DH[n,1,1]*d_HA[1:,1:][n,:]))\n",
      "c:\\Users\\marik\\OneDrive - bwedu\\Uni HD\\FS 4\\Bioinfo\\topic04_02\\helper_function.py:106: RuntimeWarning: invalid value encountered in cast\n",
      "  array[:,0] = array[:,0].astype('int')\n"
     ]
    }
   ],
   "source": [
    "path_pdb = './data/pdbs'\n",
    "path_pqr=  './data/pqrs'\n",
    "pdb_file = 'AF-C0H3V2-F1.pdb'\n",
    "pqr_file = 'P39846.pqr'\n",
    "output_path = './data/test'\n",
    "name = pqr_file.split('.')[0]\n",
    "from function import functional_aa\n",
    "from function import free_aa\n",
    "from helper_function import pdb2AA\n",
    "\n",
    "functional_aas = functional_aa(path_pdb, pdb_file, output_path, df =False)\n",
    "\n",
    "free_aas = free_aa(path_pdb, pdb_file, functional_aas)\n",
    "AA = pdb2AA(path_pdb, pdb_file)"
   ]
  },
  {
   "cell_type": "code",
   "execution_count": 6,
   "metadata": {},
   "outputs": [
    {
     "name": "stdout",
     "output_type": "stream",
     "text": [
      "MQVLAKENIKLNQTVSSKEEAIKLAGQTLIDNGYVTEDYISKMFEREETSSTFMGNFIAIPHGTEEAKSEVLHSGISIIQIPEGVEYGEGNTAKVVFGIAGKNNEHLDILSNIAIICSEEENIERLISAKSEEDLIAIFNEVN\n"
     ]
    }
   ],
   "source": [
    "print(AAA2A(list(free_aas[:,1])))"
   ]
  },
  {
   "cell_type": "code",
   "execution_count": 5,
   "metadata": {},
   "outputs": [
    {
     "name": "stdout",
     "output_type": "stream",
     "text": [
      "['MET', 'GLN', 'VAL', 'LEU', 'ALA', 'LYS', 'GLU', 'ASN', 'ILE', 'LYS', 'LEU', 'ASN', 'GLN', 'THR', 'VAL', 'SER', 'SER', 'LYS', 'GLU', 'GLU', 'ALA', 'ILE', 'LYS', 'LEU', 'ALA', 'GLY', 'GLN', 'THR', 'LEU', 'ILE', 'ASP', 'ASN', 'GLY', 'TYR', 'VAL', 'THR', 'GLU', 'ASP', 'TYR', 'ILE', 'SER', 'LYS', 'MET', 'PHE', 'GLU', 'ARG', 'GLU', 'GLU', 'THR', 'SER', 'SER', 'THR', 'PHE', 'MET', 'GLY', 'ASN', 'PHE', 'ILE', 'ALA', 'ILE', 'PRO', 'HIS', 'GLY', 'THR', 'GLU', 'GLU', 'ALA', 'LYS', 'SER', 'GLU', 'VAL', 'LEU', 'HIS', 'SER', 'GLY', 'ILE', 'SER', 'ILE', 'ILE', 'GLN', 'ILE', 'PRO', 'GLU', 'GLY', 'VAL', 'GLU', 'TYR', 'GLY', 'GLU', 'GLY', 'ASN', 'THR', 'ALA', 'LYS', 'VAL', 'VAL', 'PHE', 'GLY', 'ILE', 'ALA', 'GLY', 'LYS', 'ASN', 'ASN', 'GLU', 'HIS', 'LEU', 'ASP', 'ILE', 'LEU', 'SER', 'ASN', 'ILE', 'ALA', 'ILE', 'ILE', 'CYS', 'SER', 'GLU', 'GLU', 'GLU', 'ASN', 'ILE', 'GLU', 'ARG', 'LEU', 'ILE', 'SER', 'ALA', 'LYS', 'SER', 'GLU', 'GLU', 'ASP', 'LEU', 'ILE', 'ALA', 'ILE', 'PHE', 'ASN', 'GLU', 'VAL', 'ASN']\n"
     ]
    }
   ],
   "source": [
    "print(list(free_aas[:,1]))"
   ]
  },
  {
   "cell_type": "code",
   "execution_count": 10,
   "metadata": {},
   "outputs": [],
   "source": [
    "def fasparse(faspath):\n",
    "    import numpy as np\n",
    "    helixl = []\n",
    "    sheetl = []\n",
    "    data = np.loadtxt(faspath, dtype={'names': ('index', 'col1', 'col2', 'val1', 'val2', 'val3'),'formats': ('i4', 'S1', 'S1', 'f4', 'f4', 'f4')})\n",
    "    indiceshelix = data['index'][data['col2'] == b'H']\n",
    "    indicessheet = data['index'][data['col2'] == b'E']\n",
    "    helix = np.split(indiceshelix, np.where(np.diff(indiceshelix) != 1)[0]+1)\n",
    "    sheet = np.split(indicessheet, np.where(np.diff(indicessheet) != 1)[0]+1)\n",
    "    return [helix, sheet]"
   ]
  },
  {
   "cell_type": "code",
   "execution_count": 15,
   "metadata": {},
   "outputs": [],
   "source": [
    "import os\n",
    "def AA2s4pred (directory_S4pred, output_path, AA_seq, prot):\n",
    "    import os\n",
    "    os.getcwd()\n",
    "    # call s4pred and create fas file\n",
    "    fastapath = os.path.join(output_path,f'{prot}.fasta')\n",
    "    faspath = os.path.join(output_path,f'{prot}.fas')\n",
    "    \n",
    "    if os.path.isfile(fastapath):\n",
    "        print(f'fasta file already exists {fastapath}')\n",
    "    else:\n",
    "        with open(os.path.join(output_path,f'{prot}.fasta'), \"w\") as fasta_file:\n",
    "            fasta_file.write(f\">{prot}\\n{AA_seq}\\n\")\n",
    "        print(f'fasta file created {fastapath}')\n",
    "    if os.path.isfile(faspath):\n",
    "        print('fas file already exists')\n",
    "    else:\n",
    "        os.chdir(directory_S4pred)\n",
    "        os.system(f'python3 run_model.py \"{fastapath}\" > \"{faspath}\"')\n",
    "        os.chdir('../../')\n",
    "     \n",
    "    #read fas file and   \n",
    "    sec_pred = fasparse(faspath)    \n",
    "\n",
    "    return sec_pred"
   ]
  },
  {
   "cell_type": "code",
   "execution_count": 8,
   "metadata": {},
   "outputs": [],
   "source": [
    "def prot_mut(pdb_path, pdb_file, pqr_output_path, deep_mut=None, iterations=int, seed=None):\n",
    "    \n",
    "    import os\n",
    "    from helper_function import pdb2AA\n",
    "    from function import functional_aa\n",
    "    from function import free_aa\n",
    "    \n",
    "    \n",
    "    # top 20 features that correlate with melt point (positive and negative), based on prokaryotes323 columns, cutoff at +/- 0.32\n",
    "    ideal_pos_value = 0.2\n",
    "    ideal_neg_value = 0\n",
    "    pos_corr = {'YR': 0.492442, \n",
    "                'RP': 0.480594, \n",
    "                'RG': 0.442533, \n",
    "                'R': 0.432905, \n",
    "                'WR': 0.392523, \n",
    "                'YP': 0.390709, \n",
    "                'LR': 0.386596, \n",
    "                'FR': 0.376553, \n",
    "                'VR': 0.370241, \n",
    "                'ER': 0.369174, \n",
    "                'RC': 0.357052, \n",
    "                #'Rhelix': 0.349204, \n",
    "                'MR': 0.343496, \n",
    "                'P': 0.340082, \n",
    "                'PG': 0.338434, \n",
    "                #'EAmotif': 0.332202, \n",
    "                'LP': 0.330337, \n",
    "                'EP': 0.328569, \n",
    "                'RH': 0.326193, \n",
    "                'AR': 0.324355, \n",
    "                #'ARmotif': 0.3241, \n",
    "                'NR': 0.323378}\n",
    "    \n",
    "    neg_corr = {'QT': -0.52935, \n",
    "                'MQ': -0.507329, \n",
    "                'QS': -0.502697, \n",
    "                'QC': -0.493738, \n",
    "                'Q': -0.469765, \n",
    "                'QD': -0.466556, \n",
    "                'QH': -0.455041, \n",
    "                'NQ': -0.435562, \n",
    "                'IQ': -0.429683, \n",
    "                'FQ': -0.42363, \n",
    "                'WQ': -0.420057, \n",
    "                'QK': -0.41872, \n",
    "                #'PolarAA': -0.406035, \n",
    "                'ST': -0.396185, \n",
    "                #'Qhelix': -0.37895, \n",
    "                'TC': -0.364763, \n",
    "                'MT': -0.359458, \n",
    "                'TH': -0.346921, \n",
    "                'TD': -0.34469, \n",
    "                'SH': -0.327684, \n",
    "                'SC': -0.321686, \n",
    "                'T': -0.321208}\n",
    "    sorted_freq_pos = ['R', 'P', 'L', 'Y', 'E', 'G', 'A', 'V', 'M', 'F', 'W', 'N', 'H', 'C']\n",
    "    sorted_freq_neg = ['K', 'N', 'W', 'F', 'I', 'D', 'M', 'C', 'H', 'S', 'T', 'Q']\n",
    "    pos_corr_list = list(pos_corr.keys())\n",
    "    neg_corr_list = list(neg_corr.keys())\n",
    "\n",
    "    #https://journals.plos.org/ploscompbiol/article?id=10.1371/journal.pcbi.1003674\n",
    "    conserv_subst = {\n",
    "        'A': ['D', 'E', 'G', 'S', 'T'],\n",
    "        'C': ['G', 'R', 'S', 'W', 'Y'],\n",
    "        'D': ['A', 'E', 'G', 'H', 'N', 'V', 'Y'],\n",
    "        'E': ['A', 'D', 'G', 'K', 'Q', 'V'],\n",
    "        'F': ['I', 'L', 'Y'],\n",
    "        'G': ['A', 'C', 'D', 'E', 'R'],\n",
    "        'H': ['D', 'L', 'N', 'P', 'Q', 'R', 'Y'],\n",
    "        'I': ['F', 'L', 'M', 'N', 'V'],\n",
    "        'K': ['E', 'M', 'N', 'Q', 'R', 'T'],\n",
    "        'L': ['F', 'H', 'I', 'M', 'P', 'Q', 'R', 'V', 'W'],\n",
    "        'M': ['I', 'K', 'L', 'R', 'T', 'V'],\n",
    "        'N': ['D', 'H', 'I', 'K', 'S', 'T', 'Y'],\n",
    "        'P': ['H', 'L', 'Q', 'R', 'S'],\n",
    "        'Q': ['E', 'H', 'K', 'L', 'P', 'R'],\n",
    "        'R': ['C', 'G', 'H', 'K', 'L', 'M', 'P', 'Q', 'T', 'W'],\n",
    "        'S': ['A', 'C', 'N', 'P', 'T', 'W', 'Y'],\n",
    "        'T': ['A', 'K', 'M', 'N', 'R', 'S'],\n",
    "        'V': ['D', 'E', 'I', 'L', 'M'],\n",
    "        'W': ['C', 'L', 'R', 'S'],\n",
    "        'Y': ['C', 'D', 'F', 'H', 'N'],\n",
    "        }\n",
    "\n",
    "    non_conservative_substitutions = {\n",
    "        'A': ['P', 'V'],\n",
    "        'C': ['F'],\n",
    "        'F': ['C', 'S', 'V'],\n",
    "        'G': ['S', 'V', 'W'],\n",
    "        'I': ['K', 'R', 'S', 'T'],\n",
    "        'K': ['I'],\n",
    "        'L': ['S'],\n",
    "        'P': ['A', 'T'],\n",
    "        'Q': ['E', 'K'],\n",
    "        'R': ['I', 'S'],\n",
    "        'S': ['F', 'G', 'I', 'L', 'R'],\n",
    "        'T': ['I', 'P'],\n",
    "        'V': ['A', 'F', 'G'],\n",
    "        'W': ['G'],\n",
    "        }\n",
    "\n",
    "    #extract aminoacid list\n",
    "    aa_list = pdb2AA(pdb_path, pdb_file)\n",
    "    aa_locked = functional_aa(pdb_path, pdb_file, pqr_output_path)\n",
    "    aa_free = free_aa(pdb_path, pdb_file, aa_locked)\n",
    "    \n",
    "    # calculate ratio of WT protein for pos_corr and neg_corr and sort them in descending order\n",
    "    from function import rel_aa_comp\n",
    "    from function_mut import diff_weighted\n",
    "    WT_dev_sum, WT_dev = diff_weighted(pos_corr, neg_corr, aa_list, ideal_pos_value, ideal_neg_value)\n",
    "     \n",
    "     \n",
    "    #mutation\n",
    "    #first_entry = list(WT_dev.items())[0]\n",
    "     \n",
    "            \n",
    "    return WT_dev_sum, WT_dev"
   ]
  },
  {
   "cell_type": "code",
   "execution_count": 21,
   "metadata": {},
   "outputs": [
    {
     "name": "stdout",
     "output_type": "stream",
     "text": [
      "Pqr file already exists\n",
      "Salt_bridge finished\n",
      "H_bond finished\n",
      "VdW_interaction finished\n"
     ]
    },
    {
     "name": "stderr",
     "output_type": "stream",
     "text": [
      "c:\\Users\\marik\\OneDrive - bwedu\\Uni HD\\FS 4\\Bioinfo\\topic04_02\\helper_function.py:71: RuntimeWarning: invalid value encountered in cast\n",
      "  distance[:,0] = distance[:,0].astype('int')\n",
      "c:\\Users\\marik\\OneDrive - bwedu\\Uni HD\\FS 4\\Bioinfo\\topic04_02\\helper_function.py:89: RuntimeWarning: invalid value encountered in arccos\n",
      "  theta = np.arccos((d_DH[n,1,1]**2 + d_HA[n,1:]**2 - d_DA[1:,1:][n,:]**2)/(2*d_DH[n,1,1]*d_HA[1:,1:][n,:]))\n",
      "c:\\Users\\marik\\OneDrive - bwedu\\Uni HD\\FS 4\\Bioinfo\\topic04_02\\helper_function.py:106: RuntimeWarning: invalid value encountered in cast\n",
      "  array[:,0] = array[:,0].astype('int')\n"
     ]
    }
   ],
   "source": [
    "sum, dev = prot_mut(path_pdb, pdb_file, path_pqr, deep_mut=None, iterations=100, seed=None)"
   ]
  },
  {
   "cell_type": "code",
   "execution_count": 29,
   "metadata": {},
   "outputs": [
    {
     "name": "stdout",
     "output_type": "stream",
     "text": [
      "[('IQ', 0.16083916083916083), ('ST', 0.13286713286713286), ('QS', 0.11188811188811189), ('NQ', 0.1048951048951049), ('SH', 0.1048951048951049), ('EP', 0.09512536083916083), ('QK', 0.09090909090909091), ('SC', 0.09090909090909091), ('ER', 0.08700436083916083), ('QT', 0.07692307692307693), ('TD', 0.07692307692307693), ('R', 0.07259498601398602), ('MT', 0.06993006993006994), ('TH', 0.06993006993006994), ('RP', 0.06814677202797204), ('WR', 0.06451858601398602), ('YR', 0.06352336503496503), ('FQ', 0.06293706293706294), ('QD', 0.055944055944055944), ('TC', 0.055944055944055944), ('P', 0.05403038601398602), ('RC', 0.05043137902097902), ('MQ', 0.04895104895104895), ('QH', 0.04895104895104895), ('T', 0.04895104895104895), ('YP', 0.04317676503496503), ('QC', 0.03496503496503497), ('MR', 0.033734165034965034), ('RH', 0.03027356503496504), ('Q', 0.027972027972027972), ('WQ', 0.027972027972027972), ('FR', 0.026359551048951053), ('NR', 0.026233490909090912), ('AR', 0.01904508391608392), ('PG', 0.016229283916083914), ('LP', 0.010855676923076929), ('RG', 0.004590516083916085), ('VR', 0.004118130069930059), ('LR', 0.00039612307692307724)]\n",
      "4\n"
     ]
    }
   ],
   "source": [
    "print(dev)\n",
    "test = {'R':4, 'RV':5}\n",
    "if 'R' in test.keys():\n",
    "    print(test['R'])"
   ]
  },
  {
   "cell_type": "code",
   "execution_count": 24,
   "metadata": {},
   "outputs": [
    {
     "ename": "SyntaxError",
     "evalue": "invalid syntax (2920631105.py, line 19)",
     "output_type": "error",
     "traceback": [
      "\u001b[1;36m  Cell \u001b[1;32mIn[24], line 19\u001b[1;36m\u001b[0m\n\u001b[1;33m    elif:\u001b[0m\n\u001b[1;37m        ^\u001b[0m\n\u001b[1;31mSyntaxError\u001b[0m\u001b[1;31m:\u001b[0m invalid syntax\n"
     ]
    }
   ],
   "source": [
    "def mutator(free_AA, deviation,pos_corr_list, sorted_freq_pos, neg_corr_list, sorted_freq_neg, conserv_subst):\n",
    "    first_entry = deviation[0][0]\n",
    "    mut_list = []\n",
    "    \n",
    "    # determine possible substitutions if the first entry is a single amino acid\n",
    "    if len(first_entry) == 1:\n",
    "        \n",
    "        if first_entry in pos_corr_list: #checks if amount of aminoacid should be increaed\n",
    "            for i, aminoacid in enumerate(free_AA):\n",
    "                    # Find valid substitutions for the current amino acid\n",
    "                    AA_subst = conserv_subst[aminoacid]\n",
    "                    # Check if the current amino acid is in the positive correlation list\n",
    "                    if 'R' in AA_subst:\n",
    "                        mut_list.append(aminoacid + i + 'R')\n",
    "                        free_AA[i] = 'R'\n",
    "                    elif 'P' in AA_subst:\n",
    "                        mut_list.append(aminoacid + i + 'P')\n",
    "                        free_AA[i] = 'P'\n",
    "        \n",
    "        elif first_entry in neg_corr_list: #checks if amount of aminoacid should be decreased\n",
    "            for i, aminoacid in enumerate(free_AA):\n",
    "                if aminoacid == first_entry:\n",
    "                    AA_subst = conserv_subst[aminoacid]\n",
    "                    #tries to substitute the aminoacid to the aminoacids that correlate most\n",
    "                    if 'R' in AA_subst:\n",
    "                        mut_list.append(aminoacid + i + 'R')\n",
    "                        free_AA[i] = 'R'\n",
    "                    elif 'P' in AA_subst:\n",
    "                        mut_list.append(aminoacid + i + 'P')\n",
    "                        free_AA[i] = 'P'\n",
    "                    #mutates the aminoacid to one that does not negatively correlate (maybe should be taken out if too many mutations)\n",
    "                    elif aminoacid in sorted_freq_pos:\n",
    "                        for n in range(len(sorted_freq_pos)):\n",
    "                            if sorted_freq_pos[n] in AA_subst:\n",
    "                                mut_list.append(aminoacid + i + sorted_freq_pos[n])\n",
    "                                free_AA[i] = sorted_freq_pos[n]\n",
    "                                break\n",
    "        else:\n",
    "            print('No valid substitution found')\n",
    "            return None\n",
    "\n",
    "\n",
    "    # determine possible substitutions if the first entry is a pair of amino acids\n",
    "    else:\n",
    "        for i, aminoacid in enumerate(free_AA):\n",
    "            AA_subst_01 = conserv_subst[first_entry[0]]\n",
    "            AA_subst_02 = conserv_subst[first_entry[1]]\n",
    "            \n",
    "        \n",
    "        \n",
    "        \n",
    "                \n",
    "                \n",
    "            \n",
    "            \n",
    "            \n",
    "            \n",
    "\n",
    "    \n",
    "    \n",
    "    for i, amino_acid in enumerate(free_AA):\n",
    "        # Find valid substitutions for the current amino acid\n",
    "        valid_subst = [sub for sub in conserv_subst[amino_acid] if sub in pos_corr_list[i]]\n",
    "        if not valid_subst:\n",
    "            valid_subst = [sub for sub in conserv_subst[amino_acid] if sub in neg_corr_list[::-1][i]]\n",
    "            \n"
   ]
  },
  {
   "cell_type": "code",
   "execution_count": null,
   "metadata": {},
   "outputs": [],
   "source": [
    "def substitute_amino_acids(amino_acid_string, substitutions, desired_types, preference_scores):\n",
    "  \"\"\"\n",
    "  Performs amino acid substitutions aiming for desired types with preference for higher scores.\n",
    "\n",
    "  Args:\n",
    "      amino_acid_string (str): String containing the amino acids to be substituted (e.g., 'WY').\n",
    "      substitutions (dict): Dictionary containing possible substitutions for each amino acid.\n",
    "      desired_types (list): List of desired amino acid combinations (e.g., ['CL', 'CD', 'RF']).\n",
    "      preference_scores (dict): Dictionary containing integer scores for each amino acid.\n",
    "\n",
    "  Returns:\n",
    "      str: The substituted amino acid string or None if no suitable substitution is found.\n",
    "  \"\"\"\n",
    "\n",
    "  # Check if string length matches desired type length\n",
    "  if len(amino_acid_string) != len(desired_types[0]):\n",
    "      return None  # String length mismatch\n",
    "\n",
    "  substituted_string = \"\"\n",
    "  for i, amino_acid in enumerate(amino_acid_string):\n",
    "      # Find valid substitutions for the current amino acid\n",
    "      valid_substitutions = [sub for sub in substitutions[amino_acid] if sub in desired_types[i]]\n",
    "      \n",
    "      # Check if any valid substitutions exist\n",
    "      if not valid_substitutions:\n",
    "          return None  # No valid substitutions found\n",
    "\n",
    "      # Choose the substitution with the highest preference score (break ties randomly)\n",
    "      best_sub = random.choice([sub for sub in valid_substitutions if preference_scores[sub] == max(preference_scores[sub_choice] for sub_choice in valid_substitutions)])\n",
    "\n",
    "      substituted_string += best_sub\n",
    "\n",
    "  return substituted_string"
   ]
  },
  {
   "cell_type": "code",
   "execution_count": 9,
   "metadata": {},
   "outputs": [
    {
     "name": "stdout",
     "output_type": "stream",
     "text": [
      "{'R': 14, 'P': 6, 'L': 2, 'Y': 2, 'E': 2, 'G': 2, 'V': 1, 'A': 1, 'W': 0, 'F': 0, 'N': 0, 'I': -1, 'M': -1, 'K': -1, 'C': -2, 'D': -2, 'H': -2, 'S': -4, 'T': -7, 'Q': -12}\n",
      "Counter({'R': 14, 'P': 6, 'L': 2, 'Y': 2, 'E': 2, 'G': 2, 'A': 1, 'V': 1, 'M': 1, 'F': 1, 'W': 1, 'N': 1, 'H': 1, 'C': 1})\n",
      "Counter({'Q': 12, 'T': 7, 'S': 4, 'H': 3, 'C': 3, 'M': 2, 'D': 2, 'I': 1, 'F': 1, 'W': 1, 'N': 1, 'K': 1})\n",
      "['A', 'R', 'V', 'L', 'P', 'M', 'F', 'W', 'N', 'Y', 'E', 'H', 'C', 'G']\n",
      "['I', 'Q', 'M', 'T', 'F', 'W', 'N', 'S', 'D', 'H', 'K', 'C']\n"
     ]
    }
   ],
   "source": [
    "from collections import Counter\n",
    "\n",
    "pos_corr = {\n",
    "    'AR': 0.324355, \n",
    "    'VR': 0.370241, \n",
    "    'LR': 0.386596, \n",
    "    'LP': 0.330337, \n",
    "    'MR': 0.343496, \n",
    "    'FR': 0.376553, \n",
    "    'WR': 0.392523, \n",
    "    'NR': 0.323378, \n",
    "    'YR': 0.492442, \n",
    "    'YP': 0.390709, \n",
    "    'ER': 0.369174,\n",
    "    'EP': 0.328569,\n",
    "    'RH': 0.326193,\n",
    "    'RC': 0.357052,\n",
    "    'RP': 0.480594,\n",
    "    'RG': 0.442533,\n",
    "    'PG': 0.338434,\n",
    "    #'Rhelix': 0.349204,\n",
    "    'R': 0.432905,\n",
    "    'P': 0.340082,\n",
    "    #'ARmotif': 0.3241,\n",
    "    #'EAmotif': 0.332202\n",
    "    }\n",
    "neg_corr = {\n",
    "    'IQ': -0.429683,\n",
    "    'MQ': -0.507329,\n",
    "    'MT': -0.359458,\n",
    "    'FQ': -0.42363,\n",
    "    'WQ': -0.420057,\n",
    "    'NQ': -0.435562,\n",
    "    'QS': -0.502697,\n",
    "    'QT': -0.52935,\n",
    "    'QD': -0.466556,\n",
    "    'QH': -0.455041,\n",
    "    'QK': -0.41872,\n",
    "    'QC': -0.493738,\n",
    "    'ST': -0.396185,\n",
    "    'SH': -0.327684,\n",
    "    'SC': -0.321686,\n",
    "    'TD': -0.34469,\n",
    "    'TH': -0.346921,\n",
    "    'TC': -0.364763,\n",
    "    #'Qhelix': -0.37895,\n",
    "    'Q': -0.469765,\n",
    "    'T': -0.321208,\n",
    "    #'PolarAA': -0.406035\n",
    "}\n",
    "pos_all = ''.join(pos_corr.keys())\n",
    "pos_counts = Counter(pos_all)\n",
    "\n",
    "neg_all = ''.join(neg_corr.keys())\n",
    "neg_counts = Counter(neg_all)\n",
    "combined_dict = {key: pos_counts.get(key, 0) - neg_counts.get(key, 0) for key in set(pos_counts) | set(neg_counts)}\n",
    "combined_dict = dict(sorted(combined_dict.items(), key=lambda item: item[1], reverse=True))\n",
    "print(combined_dict)\n",
    "print(pos_counts)\n",
    "print(neg_counts)\n",
    "print(list(pos_counts.keys()))\n",
    "print(list(neg_counts.keys()))    "
   ]
  },
  {
   "cell_type": "markdown",
   "metadata": {},
   "source": [
    "Get list of pos/neg correlating features for Meltpoint"
   ]
  },
  {
   "cell_type": "code",
   "execution_count": 19,
   "metadata": {},
   "outputs": [
    {
     "name": "stderr",
     "output_type": "stream",
     "text": [
      "C:\\Users\\marik\\AppData\\Local\\Temp\\ipykernel_27712\\768696474.py:3: DtypeWarning: Columns (8,21,22,23,25,26,27,28) have mixed types. Specify dtype option on import or set low_memory=False.\n",
      "  pro_df: pd.DataFrame = pd.read_csv(os.path.join('./data', 'prokaryotes_323columns.csv'))\n"
     ]
    }
   ],
   "source": [
    "import pandas as pd\n",
    "import os\n",
    "pro_df: pd.DataFrame = pd.read_csv(os.path.join('./data', 'prokaryotes_323columns.csv'))\n",
    "pro_df = pro_df.drop(columns = ['Unnamed: 0', 'Unnamed: 0.1'])"
   ]
  },
  {
   "cell_type": "code",
   "execution_count": 20,
   "metadata": {},
   "outputs": [],
   "source": [
    "pro_corr = pro_df.corr(numeric_only=True)['meltPoint']\n",
    "pos_corr = pro_corr[pro_corr > 0.32]\n",
    "neg_corr = pro_corr[pro_corr < -0.32]"
   ]
  },
  {
   "cell_type": "code",
   "execution_count": 21,
   "metadata": {},
   "outputs": [
    {
     "name": "stdout",
     "output_type": "stream",
     "text": [
      "['IQ', 'MQ', 'MT', 'FQ', 'WQ', 'NQ', 'QS', 'QT', 'QD', 'QH', 'QK', 'QC', 'ST', 'SH', 'SC', 'TD', 'TH', 'TC', 'Qhelix', 'Q', 'T', 'PolarAA']\n"
     ]
    }
   ],
   "source": [
    "pos_corr = list(pro_corr.index)\n",
    "neg_corr = list(neg_corr.index)\n",
    "print(neg_corr)"
   ]
  },
  {
   "cell_type": "markdown",
   "metadata": {},
   "source": [
    "Needs to be mutated"
   ]
  },
  {
   "cell_type": "code",
   "execution_count": 24,
   "metadata": {},
   "outputs": [
    {
     "name": "stdout",
     "output_type": "stream",
     "text": [
      "IQ        -0.429683\n",
      "MQ        -0.507329\n",
      "MT        -0.359458\n",
      "FQ        -0.423630\n",
      "WQ        -0.420057\n",
      "NQ        -0.435562\n",
      "QS        -0.502697\n",
      "QT        -0.529350\n",
      "QD        -0.466556\n",
      "QH        -0.455041\n",
      "QK        -0.418720\n",
      "QC        -0.493738\n",
      "ST        -0.396185\n",
      "SH        -0.327684\n",
      "SC        -0.321686\n",
      "TD        -0.344690\n",
      "TH        -0.346921\n",
      "TC        -0.364763\n",
      "Qhelix    -0.378950\n",
      "Q         -0.469765\n",
      "T         -0.321208\n",
      "PolarAA   -0.406035\n",
      "Name: meltPoint, dtype: float64\n"
     ]
    }
   ],
   "source": [
    "print(pro_corr[pro_corr < -0.32])"
   ]
  }
 ],
 "metadata": {
  "kernelspec": {
   "display_name": "Python 3",
   "language": "python",
   "name": "python3"
  },
  "language_info": {
   "codemirror_mode": {
    "name": "ipython",
    "version": 3
   },
   "file_extension": ".py",
   "mimetype": "text/x-python",
   "name": "python",
   "nbconvert_exporter": "python",
   "pygments_lexer": "ipython3",
   "version": "3.12.4"
  }
 },
 "nbformat": 4,
 "nbformat_minor": 2
}
