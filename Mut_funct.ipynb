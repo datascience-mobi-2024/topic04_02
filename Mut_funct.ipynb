{
 "cells": [
  {
   "cell_type": "markdown",
   "metadata": {},
   "source": [
    "Working jupyter to create function to create a list of aminoacids likely to be used for mutation"
   ]
  },
  {
   "cell_type": "code",
   "execution_count": 13,
   "metadata": {},
   "outputs": [],
   "source": [
    "# import packages\n",
    "import numpy as np\n",
    "import pandas as pd\n",
    "import os\n",
    "import seaborn as sns\n",
    "import matplotlib.pyplot as plt\n"
   ]
  },
  {
   "cell_type": "code",
   "execution_count": 1,
   "metadata": {},
   "outputs": [],
   "source": [
    "def pdb2df(input_path, pdb_file, output_path, df=None):\n",
    "    from function import pdb2pqr\n",
    "    import os\n",
    "    import numpy as np\n",
    "    import pandas as pd\n",
    "    if os.path.isfile(os.path.join(output_path, f'{(pdb_file.split(\".\")[0]).split(\"-\")[1]}.pqr')):\n",
    "        print('PQR file already exists')\n",
    "    pdb2pqr(input_path, output_path, pdb_file)\n",
    "    \n",
    "    Atom_col = ['atom_num','atom_name', 'aa_name', 'aa_num', 'x', 'y', 'z', 'charge', 'radius']\n",
    "    Atom_array = np.empty((0, 9))\n",
    "    name = f'{(pdb_file.split('.')[0]).split('-')[1]}.pqr'\n",
    "\n",
    "    with open(os.path.join(output_path, str(name))) as f:\n",
    "        for line in f:\n",
    "            line = line.replace('-', '  -')\n",
    "            if line.startswith('ATOM'):\n",
    "                line_array = np.array([[int(line.split()[1]), str(line.split()[2]), str(line.split()[3]), int(line.split()[4]), float(line.split()[5]), float(line.split()[6]), float(line.split()[7]), float(line.split()[8]), float(line.split()[9])]]) \n",
    "                Atom_array = np.append(Atom_array, line_array, axis = 0)\n",
    "    \n",
    "    \n",
    "    if df is not None:\n",
    "        Atom_df = pd.DataFrame(Atom_array, columns=Atom_col)\n",
    "        return Atom_df\n",
    "    else:\n",
    "        return Atom_array\n",
    "                \n"
   ]
  },
  {
   "cell_type": "code",
   "execution_count": null,
   "metadata": {},
   "outputs": [],
   "source": [
    "input_path = './data/pdbs'\n",
    "pdb_file = 'AF-C0H3V8-F1.pdb'\n",
    "output_path = './data/test'\n",
    "\n",
    "test = pdb2df(input_path, pdb_file, output_path)"
   ]
  },
  {
   "cell_type": "code",
   "execution_count": 4,
   "metadata": {},
   "outputs": [],
   "source": [
    "def aa_mut_select(input_path, pdb_file, output_path, df=None, remove_nan=True):\n",
    "    from function import salt_bridge\n",
    "    from function import H_bond_calc\n",
    "    from function import VdW_interaction\n",
    "    import os\n",
    "    pqr_file = f'{(pdb_file.split('.')[0]).split('-')[1]}.pqr'\n",
    "    #if df is not None:\n",
    "    #    print('1')\n",
    "    #    Prot_df = pdb2df(input_path, pdb_file, output_path, df=True)\n",
    "    #    print('Prot_df finished')\n",
    "    #else:\n",
    "    #    print('2')\n",
    "    #    Prot_df = pdb2df(input_path, pdb_file, output_path)\n",
    "    #    print('Prot_arr finished')\n",
    "    if remove_nan == True:\n",
    "        Salt_bridge = salt_bridge(input_path, pdb_file, remove_nan = True)\n",
    "        print('Salt_bridge nan finished')\n",
    "        H_bond = H_bond_calc(output_path, pqr_file, remove_nan = True)\n",
    "        print('H_bond nan finished')\n",
    "    else:\n",
    "        Salt_bridge = salt_bridge(input_path, pdb_file)\n",
    "        print('Salt_bridge finished')\n",
    "        H_bond = H_bond_calc(output_path, pqr_file)\n",
    "        print('H_bond finished')\n",
    "    VdW_clust, VdW_vol = VdW_interaction(input_path, pdb_file)\n",
    "    print('VdW_interaction finished')\n",
    "    \n",
    "    return Salt_bridge, H_bond, VdW_clust, VdW_vol,   #, Prot_df\n",
    "    \n",
    "    \n",
    "    "
   ]
  },
  {
   "cell_type": "code",
   "execution_count": 5,
   "metadata": {},
   "outputs": [
    {
     "name": "stdout",
     "output_type": "stream",
     "text": [
      "Salt_bridge nan finished\n",
      "H_bond nan finished\n"
     ]
    },
    {
     "ename": "UnboundLocalError",
     "evalue": "cannot access local variable 'VdW_vol' where it is not associated with a value",
     "output_type": "error",
     "traceback": [
      "\u001b[1;31m---------------------------------------------------------------------------\u001b[0m",
      "\u001b[1;31mUnboundLocalError\u001b[0m                         Traceback (most recent call last)",
      "Cell \u001b[1;32mIn[5], line 5\u001b[0m\n\u001b[0;32m      2\u001b[0m pdb_file \u001b[38;5;241m=\u001b[39m \u001b[38;5;124m'\u001b[39m\u001b[38;5;124mAF-C0SP86-F1.pdb\u001b[39m\u001b[38;5;124m'\u001b[39m\n\u001b[0;32m      3\u001b[0m output_path \u001b[38;5;241m=\u001b[39m \u001b[38;5;124m'\u001b[39m\u001b[38;5;124m./data/test\u001b[39m\u001b[38;5;124m'\u001b[39m\n\u001b[1;32m----> 5\u001b[0m S,H,V1,V2 \u001b[38;5;241m=\u001b[39m \u001b[43maa_mut_select\u001b[49m\u001b[43m(\u001b[49m\u001b[43minput_path\u001b[49m\u001b[43m,\u001b[49m\u001b[43m \u001b[49m\u001b[43mpdb_file\u001b[49m\u001b[43m,\u001b[49m\u001b[43m \u001b[49m\u001b[43moutput_path\u001b[49m\u001b[43m,\u001b[49m\u001b[43m \u001b[49m\u001b[43mremove_nan\u001b[49m\u001b[43m \u001b[49m\u001b[38;5;241;43m=\u001b[39;49m\u001b[43m \u001b[49m\u001b[38;5;28;43;01mTrue\u001b[39;49;00m\u001b[43m)\u001b[49m\n",
      "Cell \u001b[1;32mIn[4], line 28\u001b[0m, in \u001b[0;36maa_mut_select\u001b[1;34m(input_path, pdb_file, output_path, df, remove_nan)\u001b[0m\n\u001b[0;32m     25\u001b[0m     VdW_clust, VdW_vol \u001b[38;5;241m=\u001b[39m VdW_interaction(input_path, pdb_file)\n\u001b[0;32m     26\u001b[0m     \u001b[38;5;28mprint\u001b[39m(\u001b[38;5;124m'\u001b[39m\u001b[38;5;124mVdW_interaction finished\u001b[39m\u001b[38;5;124m'\u001b[39m)\n\u001b[1;32m---> 28\u001b[0m \u001b[38;5;28;01mreturn\u001b[39;00m Salt_bridge, H_bond, \u001b[43mVdW_vol\u001b[49m,\n",
      "\u001b[1;31mUnboundLocalError\u001b[0m: cannot access local variable 'VdW_vol' where it is not associated with a value"
     ]
    }
   ],
   "source": [
    "input_path = './data/pdbs'\n",
    "pdb_file = 'AF-C0SP86-F1.pdb'\n",
    "output_path = './data/test'\n",
    "\n",
    "S,H,V1,V2 = aa_mut_select(input_path, pdb_file, output_path, remove_nan = True)\n"
   ]
  },
  {
   "cell_type": "code",
   "execution_count": 11,
   "metadata": {},
   "outputs": [
    {
     "name": "stdout",
     "output_type": "stream",
     "text": [
      "2\n",
      "<class 'bool'>\n"
     ]
    },
    {
     "data": {
      "text/plain": [
       "\" rows_with_nan = np.insert(np.array([np.all(np.isnan(arr[1:, 1:]), axis=1)]),0, None) #find rows with all nan values\\ncols_with_nan = np.insert(np.array([np.all(np.isnan(arr[1:, 1:]), axis=0)]),0, None) #find columns with all nan values\\narr = arr[~rows_with_nan, :] #delete rows with all nan values\\narr = arr[:, ~cols_with_nan] #delete columns with all nan values\\narr[:,0] = arr[:,0].astype('int') \""
      ]
     },
     "execution_count": 11,
     "metadata": {},
     "output_type": "execute_result"
    }
   ],
   "source": [
    "from scipy.sparse import lil_matrix\n",
    "test = False\n",
    "if test == True:\n",
    "    print('1')\n",
    "elif test == False:\n",
    "    print('2')\n",
    "else:\n",
    "    print('3')\n",
    "print(type(test))\n",
    "\"\"\" rows_with_nan = np.insert(np.array([np.all(np.isnan(arr[1:, 1:]), axis=1)]),0, None) #find rows with all nan values\n",
    "cols_with_nan = np.insert(np.array([np.all(np.isnan(arr[1:, 1:]), axis=0)]),0, None) #find columns with all nan values\n",
    "arr = arr[~rows_with_nan, :] #delete rows with all nan values\n",
    "arr = arr[:, ~cols_with_nan] #delete columns with all nan values\n",
    "arr[:,0] = arr[:,0].astype('int') \"\"\"\n",
    "\n"
   ]
  },
  {
   "cell_type": "code",
   "execution_count": 14,
   "metadata": {},
   "outputs": [
    {
     "name": "stdout",
     "output_type": "stream",
     "text": [
      "no\n"
     ]
    }
   ],
   "source": [
    "input = 2\n",
    "if input == 1:\n",
    "    print(input)\n",
    "    print('yes')\n",
    "else:\n",
    "    print('no')"
   ]
  }
 ],
 "metadata": {
  "kernelspec": {
   "display_name": "Python 3",
   "language": "python",
   "name": "python3"
  },
  "language_info": {
   "codemirror_mode": {
    "name": "ipython",
    "version": 3
   },
   "file_extension": ".py",
   "mimetype": "text/x-python",
   "name": "python",
   "nbconvert_exporter": "python",
   "pygments_lexer": "ipython3",
   "version": "3.12.4"
  }
 },
 "nbformat": 4,
 "nbformat_minor": 2
}
