{
 "cells": [
  {
   "cell_type": "markdown",
   "metadata": {},
   "source": [
    "Working jupyter to create function to create a list of aminoacids likely to be used for mutation"
   ]
  },
  {
   "cell_type": "code",
   "execution_count": 13,
   "metadata": {},
   "outputs": [],
   "source": [
    "# import packages\n",
    "import numpy as np\n",
    "import pandas as pd\n",
    "import os\n",
    "import seaborn as sns\n",
    "import matplotlib.pyplot as plt\n"
   ]
  },
  {
   "cell_type": "code",
   "execution_count": 99,
   "metadata": {},
   "outputs": [],
   "source": [
    "def pdb2df(input_path, pdb_file, output_path):\n",
    "    from function2 import pdb2pqr\n",
    "    import os\n",
    "    import numpy as np\n",
    "    if os.path.isfile(os.path.join(output_path, f'{(pdb_file.split(\".\")[0]).split(\"-\")[1]}.pqr')):\n",
    "        print('PQR file already exists')\n",
    "    pdb2pqr(input_path, output_path, pdb_file)\n",
    "    \n",
    "    Atom_array = np.empty((0, 9))\n",
    "    name = f'{(pdb_file.split('.')[0]).split('-')[1]}.pqr'\n",
    "\n",
    "    with open(os.path.join(output_path, str(name))) as f:\n",
    "        for line in f:\n",
    "            line = line.replace('-', '  -')\n",
    "            if line.startswith('ATOM'):\n",
    "                line_array = np.array([[int(line.split()[1]), str(line.split()[2]), str(line.split()[3]), int(line.split()[4]), float(line.split()[5]), float(line.split()[6]), float(line.split()[7]), float(line.split()[8]), float(line.split()[9])]]) \n",
    "                Atom_array = np.append(Atom_array, line_array, axis = 0)\n",
    "    return Atom_array\n",
    "                \n"
   ]
  },
  {
   "cell_type": "code",
   "execution_count": 98,
   "metadata": {},
   "outputs": [],
   "source": [
    "input_path = './data/pdbs'\n",
    "pdb_file = 'AF-C0H3V8-F1.pdb'\n",
    "output_path = './data/test'\n",
    "\n",
    "test = pdb2df(input_path, pdb_file, output_path)"
   ]
  },
  {
   "cell_type": "code",
   "execution_count": 122,
   "metadata": {},
   "outputs": [],
   "source": [
    "def aa_mut_select(input_path, pdb_file, output_path, nanweg=True):\n",
    "    from function import salt_bridge\n",
    "    from function import H_bond_calc\n",
    "    from function import VdW_interaction\n",
    "    from helper_function import remove_nan\n",
    "    import os\n",
    "    prot_name = pdb_file.split('-')[1]\n",
    "    pqr_file = f'{(pdb_file.split('.')[0]).split('-')[1]}.pqr'\n",
    "\n",
    "\n",
    "    Salt_bridge = salt_bridge(input_path, pdb_file)\n",
    "    print('Salt_bridge finished')\n",
    "    H_bond = H_bond_calc(output_path, pqr_file)\n",
    "    print('H_bond finished')\n",
    "    VdW_clust, VdW_vol = VdW_interaction(input_path, pdb_file)\n",
    "    print('VdW_interaction finished')\n",
    "    \n",
    "    if nanweg == True:\n",
    "        Salt_bridge = remove_nan(Salt_bridge[prot_name])\n",
    "        H_bond = remove_nan(H_bond[prot_name][:,:,0])\n",
    "        print('Nan removed')\n",
    "    elif nanweg == False:\n",
    "        print('No NaN removal')\n",
    "    else:\n",
    "        print('Error')    \n",
    "    VdW_clust = VdW_clust\n",
    "    VdW_vol = VdW_vol\n",
    "    \n",
    "    \n",
    "    #create lists with all aminoacid that are part of a feature\n",
    "    atom_S =list(Salt_bridge[0,1:])\n",
    "    atom_HA = list(H_bond[0,1:])\n",
    "    atom_HD = list(H_bond[1:,0])\n",
    "    # creates an atom_dict that contains the atom number and the feature it is part of\n",
    "    atom_dict = {}\n",
    "    for lst, identifier in [(atom_S, \"Salt_bridge\"), (atom_HA, \"Hbond_acc\"), (atom_HD, \"Hbond_don\")]:\n",
    "        for atom_number in lst:\n",
    "            if atom_number in atom_dict:\n",
    "                atom_dict[atom_number] = [atom_dict[atom_number], identifier]\n",
    "            else:\n",
    "                atom_dict[atom_number] = identifier\n",
    "    return atom_dict\n"
   ]
  },
  {
   "cell_type": "code",
   "execution_count": 123,
   "metadata": {},
   "outputs": [
    {
     "name": "stderr",
     "output_type": "stream",
     "text": [
      "c:\\Users\\marik\\OneDrive - bwedu\\Uni HD\\FS 4\\Bioinfo\\topic04_02\\helper_function.py:61: RuntimeWarning: invalid value encountered in cast\n",
      "  distance[:,0] = distance[:,0].astype('int')\n"
     ]
    },
    {
     "name": "stdout",
     "output_type": "stream",
     "text": [
      "Salt_bridge finished\n"
     ]
    },
    {
     "name": "stderr",
     "output_type": "stream",
     "text": [
      "c:\\Users\\marik\\OneDrive - bwedu\\Uni HD\\FS 4\\Bioinfo\\topic04_02\\helper_function.py:79: RuntimeWarning: invalid value encountered in arccos\n",
      "  theta = np.arccos((d_DH[n,1,1]**2 + d_HA[n,1:]**2 - d_DA[1:,1:][n,:]**2)/(2*d_DH[n,1,1]*d_HA[1:,1:][n,:]))\n"
     ]
    },
    {
     "name": "stdout",
     "output_type": "stream",
     "text": [
      "H_bond finished\n",
      "VdW_interaction finished\n",
      "Nan removed\n"
     ]
    },
    {
     "name": "stderr",
     "output_type": "stream",
     "text": [
      "c:\\Users\\marik\\OneDrive - bwedu\\Uni HD\\FS 4\\Bioinfo\\topic04_02\\helper_function.py:96: RuntimeWarning: invalid value encountered in cast\n",
      "  array[:,0] = array[:,0].astype('int')\n"
     ]
    }
   ],
   "source": [
    "path_pdb = './data/pdbs'\n",
    "path_pqr=  './data/pqrs'\n",
    "pdb_file = 'AF-C0SP86-F1.pdb'\n",
    "pqr_file = 'P39846.pqr'\n",
    "output_path = './data/test'\n",
    "name = pqr_file.split('.')[0]\n",
    "\n",
    "\n",
    "atom_dict = aa_mut_select(path_pdb, pdb_file, output_path,nanweg=True)"
   ]
  },
  {
   "cell_type": "code",
   "execution_count": 124,
   "metadata": {},
   "outputs": [
    {
     "name": "stdout",
     "output_type": "stream",
     "text": [
      "{181.0: 'Salt_bridge', 473.0: 'Salt_bridge', 596.0: 'Salt_bridge', 1137.0: 'Salt_bridge', 1277.0: 'Salt_bridge', 1375.0: 'Salt_bridge', 1376.0: 'Salt_bridge', 1597.0: 'Salt_bridge', 1666.0: 'Salt_bridge', 1698.0: 'Salt_bridge', 1753.0: 'Salt_bridge', 1754.0: 'Salt_bridge', 2250.0: 'Salt_bridge', 2533.0: 'Salt_bridge', 2982.0: 'Salt_bridge', 3474.0: 'Salt_bridge', 3491.0: 'Salt_bridge', 3611.0: 'Salt_bridge', 3893.0: 'Salt_bridge', 3894.0: 'Salt_bridge', 4124.0: 'Salt_bridge', 4233.0: 'Salt_bridge', 4335.0: 'Salt_bridge', 4336.0: 'Salt_bridge', 4511.0: 'Salt_bridge', 4578.0: 'Salt_bridge', 4637.0: 'Salt_bridge', 4713.0: 'Salt_bridge', 4736.0: 'Salt_bridge', 5020.0: 'Salt_bridge', 5118.0: 'Salt_bridge', 5332.0: 'Salt_bridge', 5546.0: 'Salt_bridge', 5618.0: 'Salt_bridge', 5630.0: 'Salt_bridge', 5712.0: 'Salt_bridge', 5713.0: 'Salt_bridge', 5748.0: 'Salt_bridge', 6070.0: 'Salt_bridge', 6071.0: 'Salt_bridge', 6205.0: 'Salt_bridge', 6206.0: 'Salt_bridge', 6286.0: 'Salt_bridge', 6330.0: 'Salt_bridge', 6331.0: 'Salt_bridge', 6632.0: 'Salt_bridge', 6633.0: 'Salt_bridge', 6740.0: 'Salt_bridge', 6741.0: 'Salt_bridge', 6926.0: 'Salt_bridge', 7188.0: 'Salt_bridge', 7252.0: 'Salt_bridge', 7253.0: 'Salt_bridge', 7273.0: 'Salt_bridge', 7387.0: 'Salt_bridge', 7422.0: 'Salt_bridge', 7423.0: 'Salt_bridge', 856.0: 'Hbond_acc', 2534.0: 'Hbond_acc', 3119.0: 'Hbond_acc', 3299.0: 'Hbond_acc', 3300.0: 'Hbond_acc', 4372.0: 'Hbond_acc', 4412.0: 'Hbond_acc', 5601.0: 'Hbond_acc', 6475.0: 'Hbond_acc', 6557.0: 'Hbond_acc', 6693.0: 'Hbond_acc', 6694.0: 'Hbond_acc', 6969.0: 'Hbond_acc', 7872.0: 'Hbond_acc', 7951.0: 'Hbond_acc', 8477.0: 'Hbond_acc', 8974.0: 'Hbond_acc', 9147.0: 'Hbond_acc', 9148.0: 'Hbond_acc', 11040.0: 'Hbond_acc', 11041.0: 'Hbond_acc', 11072.0: 'Hbond_acc', 11325.0: 'Hbond_acc', 11326.0: 'Hbond_acc', 11708.0: 'Hbond_acc', 11709.0: 'Hbond_acc', 11722.0: 'Hbond_acc', 11927.0: 'Hbond_acc', 12954.0: 'Hbond_acc', 13661.0: 'Hbond_acc', 13864.0: 'Hbond_acc', 13865.0: 'Hbond_acc', 14120.0: 'Hbond_acc', 14511.0: 'Hbond_acc', 14730.0: 'Hbond_acc', 907.0: 'Hbond_don', 2513.0: 'Hbond_don', 3135.0: 'Hbond_don', 3279.0: 'Hbond_don', 4388.0: 'Hbond_don', 4389.0: 'Hbond_don', 5612.0: 'Hbond_don', 6486.0: 'Hbond_don', 6570.0: 'Hbond_don', 6707.0: 'Hbond_don', 6984.0: 'Hbond_don', 8000.0: 'Hbond_don', 8354.0: 'Hbond_don', 8435.0: ['Hbond_don', 'Hbond_don'], 8931.0: 'Hbond_don', 9053.0: 'Hbond_don', 9847.0: 'Hbond_don', 10050.0: 'Hbond_don', 10502.0: 'Hbond_don', 11088.0: 'Hbond_don', 11983.0: 'Hbond_don', 11984.0: 'Hbond_don', 13148.0: 'Hbond_don', 13149.0: 'Hbond_don', 13727.0: 'Hbond_don', 14156.0: 'Hbond_don', 14360.0: 'Hbond_don', 14403.0: 'Hbond_don', 14630.0: 'Hbond_don', 14707.0: 'Hbond_don'}\n"
     ]
    }
   ],
   "source": [
    "print(atom_dict)"
   ]
  }
 ],
 "metadata": {
  "kernelspec": {
   "display_name": "Python 3",
   "language": "python",
   "name": "python3"
  },
  "language_info": {
   "codemirror_mode": {
    "name": "ipython",
    "version": 3
   },
   "file_extension": ".py",
   "mimetype": "text/x-python",
   "name": "python",
   "nbconvert_exporter": "python",
   "pygments_lexer": "ipython3",
   "version": "3.12.4"
  }
 },
 "nbformat": 4,
 "nbformat_minor": 2
}
