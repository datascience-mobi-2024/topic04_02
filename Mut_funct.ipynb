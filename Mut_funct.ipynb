{
 "cells": [
  {
   "cell_type": "markdown",
   "metadata": {},
   "source": [
    "Working jupyter to create function to create a list of aminoacids likely to be used for mutation"
   ]
  },
  {
   "cell_type": "code",
   "execution_count": 13,
   "metadata": {},
   "outputs": [],
   "source": [
    "# import packages\n",
    "import numpy as np\n",
    "import pandas as pd\n",
    "import os\n",
    "import seaborn as sns\n",
    "import matplotlib.pyplot as plt\n"
   ]
  },
  {
   "cell_type": "markdown",
   "metadata": {},
   "source": [
    "Function finished"
   ]
  },
  {
   "cell_type": "code",
   "execution_count": 12,
   "metadata": {},
   "outputs": [],
   "source": [
    "def aa_mut_select(input_path, pdb_file, output_path, df=False):\n",
    "    from function import salt_bridge\n",
    "    from function import H_bond_calc\n",
    "    from function import VdW_interaction\n",
    "    from function import pdb2pqr\n",
    "    from helper_function import remove_nan\n",
    "    import os\n",
    "    import numpy as np\n",
    "    import pandas as pd\n",
    "    prot_name = pdb_file.split('-')[1]\n",
    "    pqr_file = f'{(pdb_file.split('.')[0]).split('-')[1]}.pqr'\n",
    "    \n",
    "    #create pqr file\n",
    "    if os.path.isfile(os.path.join(output_path, f'{(pdb_file.split(\".\")[0]).split(\"-\")[1]}.pqr')):\n",
    "        print('Pqr file already exists')\n",
    "    else:    \n",
    "        pdb2pqr(input_path, output_path, pdb_file)\n",
    "    \n",
    "\n",
    "    # get atom features\n",
    "    Salt_bridge = salt_bridge(input_path, pdb_file)\n",
    "    print('Salt_bridge finished')\n",
    "    H_bond = H_bond_calc(output_path, pqr_file)\n",
    "    print('H_bond finished')\n",
    "    VdW_clust, VdW_vol = VdW_interaction(input_path, pdb_file, by_atom = True)\n",
    "    print('VdW_interaction finished')\n",
    "    \n",
    "    # extract the values for the proteins from the dictionary and delete atoms that dont have a feature (if applicable)\n",
    "    Salt_bridge = remove_nan(Salt_bridge[prot_name])\n",
    "    H_bond = remove_nan(H_bond[prot_name][:,:,0])\n",
    "\n",
    "    VdW_clust = VdW_clust[prot_name]\n",
    " \n",
    "\n",
    "    \n",
    "    \n",
    "    #create lists with all aminoacid that are part of a feature\n",
    "    atom_S =list(Salt_bridge[0,1:])\n",
    "    atom_HA = list(H_bond[0,1:])\n",
    "    atom_HD = list(H_bond[1:,0])\n",
    "\n",
    "    \n",
    "    \n",
    "    # creates an atom_dict that contains the atom number and the feature it is part of\n",
    "    atom_dict = {}\n",
    "    for lst, identifier in [(atom_S, \"Salt_bridge\"), (atom_HA, \"Hbond_acc\"), (atom_HD, \"Hbond_don\")]:\n",
    "        for atom_number in lst:\n",
    "            if atom_number in atom_dict:\n",
    "                atom_dict[atom_number] = [atom_dict[atom_number], identifier]\n",
    "            else:\n",
    "                atom_dict[atom_number] = identifier\n",
    "    for k,v in VdW_clust.items():\n",
    "        if k in atom_dict:\n",
    "            atom_dict[k] = [atom_dict[k], v]\n",
    "        else: atom_dict[k] = v\n",
    "    atom_sorted = {k: atom_dict[k] for k in sorted(atom_dict)}\n",
    "\n",
    "\n",
    "    # create a dataframe with the atom number and the feature it is part of\n",
    "    prot_df = pd.DataFrame(columns = ['Protein','Aminoacid','Aminoacid_number', 'Atom_number', 'Feature'])\n",
    "    Protein_array = np.empty((0, 5))\n",
    "    with open (os.path.join(output_path, pqr_file)) as f:\n",
    "        prot_df_list = []\n",
    "        for line in f:\n",
    "            line = line.replace('-', '  -')\n",
    "            if line.startswith('ATOM'):\n",
    "                atom_number = int(line.split()[1])\n",
    "                feature = atom_sorted.get(atom_number)\n",
    "                if atom_number in atom_sorted.keys():\n",
    "                    atom_line = np.array([[str(prot_name),str(line.split()[3]), float(line.split()[4]), float(line.split()[1]), str(feature)]])\n",
    "                    Protein_array = np.append(Protein_array, atom_line, axis=0)\n",
    "    \n",
    "    if df:\n",
    "        Prot_df = pd.DataFrame(Protein_array, columns = ['Protein','Aminoacid','Aminoacid_number', 'Atom_number', 'Feature'])\n",
    "         return Prot_df\n",
    "    else:\n",
    "        return Protein_array\n"
   ]
  },
  {
   "cell_type": "code",
   "execution_count": 13,
   "metadata": {},
   "outputs": [
    {
     "name": "stdout",
     "output_type": "stream",
     "text": [
      "Pqr file already exists\n",
      "Salt_bridge finished\n",
      "H_bond finished\n"
     ]
    },
    {
     "name": "stderr",
     "output_type": "stream",
     "text": [
      "c:\\Users\\marik\\OneDrive - bwedu\\Uni HD\\FS 4\\Bioinfo\\topic04_02\\helper_function.py:71: RuntimeWarning: invalid value encountered in cast\n",
      "  distance[:,0] = distance[:,0].astype('int')\n",
      "c:\\Users\\marik\\OneDrive - bwedu\\Uni HD\\FS 4\\Bioinfo\\topic04_02\\helper_function.py:89: RuntimeWarning: invalid value encountered in arccos\n",
      "  theta = np.arccos((d_DH[n,1,1]**2 + d_HA[n,1:]**2 - d_DA[1:,1:][n,:]**2)/(2*d_DH[n,1,1]*d_HA[1:,1:][n,:]))\n"
     ]
    },
    {
     "name": "stdout",
     "output_type": "stream",
     "text": [
      "VdW_interaction finished\n"
     ]
    },
    {
     "name": "stderr",
     "output_type": "stream",
     "text": [
      "c:\\Users\\marik\\OneDrive - bwedu\\Uni HD\\FS 4\\Bioinfo\\topic04_02\\helper_function.py:106: RuntimeWarning: invalid value encountered in cast\n",
      "  array[:,0] = array[:,0].astype('int')\n"
     ]
    }
   ],
   "source": [
    "path_pdb = './data/pdbs'\n",
    "path_pqr=  './data/pqrs'\n",
    "pdb_file = 'AF-C0SP86-F1.pdb'\n",
    "pqr_file = 'P39846.pqr'\n",
    "output_path = './data/test'\n",
    "name = pqr_file.split('.')[0]\n",
    "\n",
    "\n",
    "prot_df = aa_mut_select(path_pdb, pdb_file, output_path)"
   ]
  },
  {
   "cell_type": "code",
   "execution_count": 14,
   "metadata": {},
   "outputs": [
    {
     "name": "stdout",
     "output_type": "stream",
     "text": [
      "    Protein Aminoacid Aminoacid_number Atom_number    Feature\n",
      "0    C0SP86       SER              2.0        29.0  Cluster 0\n",
      "1    C0SP86       TRP              3.0        31.0  Cluster 0\n",
      "2    C0SP86       TRP              3.0        33.0  Cluster 0\n",
      "3    C0SP86       HIS              5.0        86.0  Cluster 1\n",
      "4    C0SP86       HIS              5.0        88.0  Cluster 1\n",
      "..      ...       ...              ...         ...        ...\n",
      "648  C0SP86       ARG            920.0     14403.0  Hbond_don\n",
      "649  C0SP86       GLU            926.0     14511.0  Hbond_acc\n",
      "650  C0SP86       LYS            935.0     14630.0  Hbond_don\n",
      "651  C0SP86       ARG            940.0     14707.0  Hbond_don\n",
      "652  C0SP86       GLU            941.0     14730.0  Hbond_acc\n",
      "\n",
      "[653 rows x 5 columns]\n"
     ]
    }
   ],
   "source": [
    "print(prot_df)\n",
    "\n",
    "\n"
   ]
  }
 ],
 "metadata": {
  "kernelspec": {
   "display_name": "Python 3",
   "language": "python",
   "name": "python3"
  },
  "language_info": {
   "codemirror_mode": {
    "name": "ipython",
    "version": 3
   },
   "file_extension": ".py",
   "mimetype": "text/x-python",
   "name": "python",
   "nbconvert_exporter": "python",
   "pygments_lexer": "ipython3",
   "version": "3.12.4"
  }
 },
 "nbformat": 4,
 "nbformat_minor": 2
}
