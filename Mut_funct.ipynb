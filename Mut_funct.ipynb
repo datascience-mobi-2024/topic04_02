{
 "cells": [
  {
   "cell_type": "markdown",
   "metadata": {},
   "source": [
    "Working jupyter to create function to create a list of aminoacids likely to be used for mutation"
   ]
  },
  {
   "cell_type": "code",
   "execution_count": 13,
   "metadata": {},
   "outputs": [],
   "source": [
    "# import packages\n",
    "import numpy as np\n",
    "import pandas as pd\n",
    "import os\n",
    "import seaborn as sns\n",
    "import matplotlib.pyplot as plt\n"
   ]
  },
  {
   "cell_type": "markdown",
   "metadata": {},
   "source": [
    "Function finished"
   ]
  },
  {
   "cell_type": "code",
   "execution_count": 79,
   "metadata": {},
   "outputs": [],
   "source": [
    "def functional_aa(input_path, pdb_file, output_path, df=False):\n",
    "    \"\"\"\n",
    "    This function selects atoms involved in various interactions (salt bridges, hydrogen bonds, \n",
    "    and van der Waals interactions) from a protein structure.\n",
    "\n",
    "    Args:\n",
    "        input_path (str): Path to the directory containing the protein structure file.\n",
    "        pdb_file (str): Filename of the protein structure file in PDB format.\n",
    "        output_path (str): Path to the directory where the output PQR file will be saved.\n",
    "        df (bool, optional): If True, returns a pandas DataFrame containing the information. \n",
    "                                Defaults to False (returns a NumPy array).\n",
    "\n",
    "    Returns:\n",
    "        np.ndarray | pd.DataFrame: A NumPy array containing the selected atom information \n",
    "                                   or a pandas DataFrame if `df` is True.\n",
    "    \"\"\"\n",
    "    \n",
    "    #import necessary functions\n",
    "    from function import salt_bridge\n",
    "    from function import H_bond_calc\n",
    "    from function import VdW_interaction\n",
    "    from function import pdb2pqr\n",
    "    from helper_function import remove_nan\n",
    "    import os\n",
    "    import numpy as np\n",
    "    import pandas as pd\n",
    "    \n",
    "    # get protein name and pqr file name\n",
    "    prot_name = pdb_file.split('-')[1]\n",
    "    \n",
    "    #create pqr file\n",
    "    pqr_file = f'{(pdb_file.split('.')[0]).split('-')[1]}.pqr'\n",
    "\n",
    "    if os.path.isfile(os.path.join(output_path, f'{(pdb_file.split(\".\")[0]).split(\"-\")[1]}.pqr')):\n",
    "        print('Pqr file already exists')\n",
    "    else:    \n",
    "        pdb2pqr(input_path, output_path, pdb_file)\n",
    "    \n",
    "\n",
    "    # Calculate atom features\n",
    "    Salt_bridge = salt_bridge(input_path, pdb_file)\n",
    "    print('Salt_bridge finished')\n",
    "    H_bond = H_bond_calc(output_path, pqr_file)\n",
    "    print('H_bond finished')\n",
    "    VdW_clust, VdW_vol = VdW_interaction(input_path, pdb_file, by_atom = True)\n",
    "    print('VdW_interaction finished')\n",
    "    \n",
    "    # extract the values for the proteins from the dictionary and delete atoms that dont have a feature (if applicable)\n",
    "    Salt_bridge = remove_nan(Salt_bridge[prot_name])\n",
    "    H_bond = remove_nan(H_bond[prot_name][:,:,0])\n",
    "\n",
    "    VdW_clust = VdW_clust[prot_name]\n",
    " \n",
    "\n",
    "    \n",
    "    \n",
    "    #create lists with all aminoacid that are part of a feature\n",
    "    atom_S =list(Salt_bridge[0,1:])\n",
    "    atom_HA = list(H_bond[0,1:])\n",
    "    atom_HD = list(H_bond[1:,0])\n",
    "\n",
    "    \n",
    "    \n",
    "    # creates an atom_dict that contains the atom number and the feature it is part of\n",
    "    atom_dict = {}\n",
    "    for lst, identifier in [(atom_S, \"Salt_bridge\"), (atom_HA, \"Hbond_acc\"), (atom_HD, \"Hbond_don\")]:\n",
    "        for atom_number in lst:\n",
    "            if atom_number in atom_dict:\n",
    "                atom_dict[atom_number] = [atom_dict[atom_number], identifier]\n",
    "            else:\n",
    "                atom_dict[atom_number] = identifier\n",
    "    # Add van der Waals interaction information to the dictionary\n",
    "    for k,v in VdW_clust.items():\n",
    "        if k in atom_dict:\n",
    "            atom_dict[k] = [atom_dict[k], v]\n",
    "        else: atom_dict[k] = v\n",
    "    atom_sorted = {k: atom_dict[k] for k in sorted(atom_dict)}\n",
    "\n",
    "\n",
    "    # create a dataframe with the atom number and the feature it is part of\n",
    "    prot_df = pd.DataFrame(columns = ['Protein','Aminoacid','Aminoacid_number', 'Atom_number', 'Feature'])\n",
    "    Protein_array = np.empty((0, 5))\n",
    "    with open (os.path.join(output_path, pqr_file)) as f:\n",
    "        prot_df_list = []\n",
    "        for line in f:\n",
    "            line = line.replace('-', '  -')\n",
    "            if line.startswith('ATOM'):\n",
    "                atom_number = int(line.split()[1])\n",
    "                feature = atom_sorted.get(atom_number)\n",
    "                if atom_number in atom_sorted.keys():\n",
    "                    atom_line = np.array([[str(prot_name),str(line.split()[3]), float(line.split()[4]),float(line.split()[1]), str(feature)]])\n",
    "                    Protein_array = np.append(Protein_array, atom_line, axis=0)\n",
    "    # return the dataframe if df is True\n",
    "    if df:\n",
    "        Prot_df = pd.DataFrame(Protein_array, columns = ['Protein','Aminoacid','Aminoacid_number', 'Atom_number', 'Feature'])\n",
    "        return Prot_df\n",
    "    else:\n",
    "        return Protein_array\n"
   ]
  },
  {
   "cell_type": "code",
   "execution_count": null,
   "metadata": {},
   "outputs": [],
   "source": [
    "path_pdb = './data/pdbs'\n",
    "path_pqr=  './data/pqrs'\n",
    "pdb_file = 'AF-C0SP86-F1.pdb'\n",
    "pqr_file = 'P39846.pqr'\n",
    "output_path = './data/test'\n",
    "name = pqr_file.split('.')[0]\n",
    "\n",
    "\n",
    "prot_arr = aa_feature_select(path_pdb, pdb_file, output_path, df =False)"
   ]
  },
  {
   "cell_type": "markdown",
   "metadata": {},
   "source": [
    "Function to muatate aminoacids to increase correlation"
   ]
  },
  {
   "cell_type": "code",
   "execution_count": 121,
   "metadata": {},
   "outputs": [],
   "source": [
    "def free_aa (path, file, prot_arr):\n",
    "    \"\"\"\n",
    "    Identifies and collects free amino acids from a PDB or PQR file.\n",
    "\n",
    "    This function takes a path to a PQR file, the filename of the PQR file, and a NumPy array containing protein information as input.\n",
    "    It iterates through the PQR file and identifies residues that are not classified as functional based on the `functional_aa` list\n",
    "    and have not been encountered yet. These residues are considered free amino acids and are accumulated in a NumPy array.\n",
    "\n",
    "    Args:\n",
    "        path (str): Path to the directory containing the PQR file.\n",
    "        pqr_file (str): Filename of the PQR file.\n",
    "        prot_arr (np.ndarray): NumPy array containing protein information (assumed to have residue types in the 2nd column).\n",
    "\n",
    "    Returns:\n",
    "        np.ndarray: A NumPy array containing information about free amino acids (protein name, residue name, residue number).\n",
    "    \"\"\"\n",
    "       \n",
    "    # created wiith correlation of df prokaryotes_323columns\n",
    "    # cut off of > 0.32 and < -0.32\n",
    "    pos_corr = ['AR', 'VR', 'LR', 'LP', 'MR', 'FR', 'WR', 'NR', 'YR', \n",
    "                'YP', 'ER', 'EP', 'RH', 'RC', 'RP', 'RG', 'PG', 'Rhelix', \n",
    "                'R', 'P', 'ARmotif', 'EAmotif'] \n",
    "    neg_corr = ['IQ', 'MQ', 'MT', 'FQ', 'WQ', 'NQ', 'QS', 'QT', 'QD', \n",
    "                'QH', 'QK', 'QC', 'ST', 'SH', 'SC', 'TD', 'TH', 'TC', \n",
    "                'Qhelix', 'Q', 'T', 'PolarAA']\n",
    "    \n",
    "    functional_aa = sorted(set(prot_arr[:,2]))\n",
    "    free_aa = np.empty((0, 3))\n",
    "    prot_name = file.split('.')[0]\n",
    "    with open(os.path.join(path, str(file))) as f:\n",
    "        for line in f:\n",
    "            line = line.replace('-', '  -')\n",
    "            if line.startswith('ATOM'):\n",
    "                aa_number = line.split()[4]\n",
    "                if aa_number not in functional_aa and aa_number not in free_aa[:,2]:\n",
    "                    aa_line = np.array([[str(prot_name), line.split()[3], line.split()[4]]])\n",
    "                    free_aa = np.append(free_aa, aa_line, axis=0)\n",
    "    return free_aa"
   ]
  },
  {
   "cell_type": "markdown",
   "metadata": {},
   "source": [
    "Get list of pos/neg correlating features for Meltpoint"
   ]
  },
  {
   "cell_type": "code",
   "execution_count": 6,
   "metadata": {},
   "outputs": [
    {
     "name": "stderr",
     "output_type": "stream",
     "text": [
      "C:\\Users\\marik\\AppData\\Local\\Temp\\ipykernel_5112\\768696474.py:3: DtypeWarning: Columns (8,21,22,23,25,26,27,28) have mixed types. Specify dtype option on import or set low_memory=False.\n",
      "  pro_df: pd.DataFrame = pd.read_csv(os.path.join('./data', 'prokaryotes_323columns.csv'))\n"
     ]
    }
   ],
   "source": [
    "import pandas as pd\n",
    "import os\n",
    "pro_df: pd.DataFrame = pd.read_csv(os.path.join('./data', 'prokaryotes_323columns.csv'))\n",
    "pro_df = pro_df.drop(columns = ['Unnamed: 0', 'Unnamed: 0.1'])"
   ]
  },
  {
   "cell_type": "code",
   "execution_count": 16,
   "metadata": {},
   "outputs": [
    {
     "data": {
      "text/plain": [
       "'1.26.4'"
      ]
     },
     "execution_count": 16,
     "metadata": {},
     "output_type": "execute_result"
    }
   ],
   "source": [
    "import numpy\n",
    "numpy.version.version\n"
   ]
  },
  {
   "cell_type": "code",
   "execution_count": 39,
   "metadata": {},
   "outputs": [],
   "source": [
    "pro_corr = pro_df.corr(numeric_only=True)['meltPoint']\n",
    "pos_corr = pro_corr[pro_corr > 0.32]\n",
    "neg_corr = pro_corr[pro_corr < -0.32]"
   ]
  },
  {
   "cell_type": "code",
   "execution_count": 40,
   "metadata": {},
   "outputs": [
    {
     "name": "stdout",
     "output_type": "stream",
     "text": [
      "['IQ', 'MQ', 'MT', 'FQ', 'WQ', 'NQ', 'QS', 'QT', 'QD', 'QH', 'QK', 'QC', 'ST', 'SH', 'SC', 'TD', 'TH', 'TC', 'Qhelix', 'Q', 'T', 'PolarAA']\n"
     ]
    }
   ],
   "source": [
    "pos_corr = list(pro_corr.index)\n",
    "#print(pos_corr[3:])\n",
    "neg_corr = list(neg_corr.index)\n",
    "print(neg_corr)"
   ]
  },
  {
   "cell_type": "markdown",
   "metadata": {},
   "source": [
    "Needs to be mutated"
   ]
  },
  {
   "cell_type": "code",
   "execution_count": 14,
   "metadata": {},
   "outputs": [
    {
     "name": "stdout",
     "output_type": "stream",
     "text": [
      "IQ        -0.429683\n",
      "MQ        -0.507329\n",
      "MT        -0.359458\n",
      "FQ        -0.423630\n",
      "WQ        -0.420057\n",
      "NQ        -0.435562\n",
      "QS        -0.502697\n",
      "QT        -0.529350\n",
      "QD        -0.466556\n",
      "QH        -0.455041\n",
      "QK        -0.418720\n",
      "QC        -0.493738\n",
      "ST        -0.396185\n",
      "SH        -0.327684\n",
      "SC        -0.321686\n",
      "TD        -0.344690\n",
      "TH        -0.346921\n",
      "TC        -0.364763\n",
      "Qhelix    -0.378950\n",
      "Q         -0.469765\n",
      "T         -0.321208\n",
      "PolarAA   -0.406035\n",
      "Name: meltPoint, dtype: float64\n"
     ]
    }
   ],
   "source": [
    "print(pro_corr[pro_corr < -0.32])"
   ]
  }
 ],
 "metadata": {
  "kernelspec": {
   "display_name": "Python 3",
   "language": "python",
   "name": "python3"
  },
  "language_info": {
   "codemirror_mode": {
    "name": "ipython",
    "version": 3
   },
   "file_extension": ".py",
   "mimetype": "text/x-python",
   "name": "python",
   "nbconvert_exporter": "python",
   "pygments_lexer": "ipython3",
   "version": "3.12.4"
  }
 },
 "nbformat": 4,
 "nbformat_minor": 2
}
