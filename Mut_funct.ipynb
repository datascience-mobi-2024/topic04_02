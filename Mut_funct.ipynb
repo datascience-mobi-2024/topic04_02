{
 "cells": [
  {
   "cell_type": "markdown",
   "metadata": {},
   "source": [
    "Working jupyter to create function to create a list of aminoacids likely to be used for mutation"
   ]
  },
  {
   "cell_type": "code",
   "execution_count": 2,
   "metadata": {},
   "outputs": [],
   "source": [
    "# import packages\n",
    "import numpy as np\n",
    "import pandas as pd\n",
    "import os\n",
    "import seaborn as sns\n",
    "import matplotlib.pyplot as plt\n"
   ]
  },
  {
   "cell_type": "code",
   "execution_count": 152,
   "metadata": {},
   "outputs": [],
   "source": [
    "def pdb2df(input_path, pdb_file, output_path, df=None):\n",
    "    from function import pdb2pqr\n",
    "    if os.path.isfile(os.path.join(output_path, f'{(pdb_file.split(\".\")[0]).split(\"-\")[1]}.pqr')):\n",
    "        print('PQR file already exists')\n",
    "    pdb2pqr(input_path, output_path, pdb_file)\n",
    "    \n",
    "    Atom_col = ['atom_num','atom_name', 'aa_name', 'aa_num', 'x', 'y', 'z', 'charge', 'radius']\n",
    "    Atom_array = np.empty((0, 9))\n",
    "    name = f'{(pdb_file.split('.')[0]).split('-')[1]}.pqr'\n",
    "\n",
    "    with open(os.path.join(output_path, str(name))) as f:\n",
    "        for line in f:\n",
    "            line = line.replace('-', '  -')\n",
    "            if line.startswith('ATOM'):\n",
    "                line_array = np.array([[int(line.split()[1]), str(line.split()[2]), str(line.split()[3]), int(line.split()[4]), float(line.split()[5]), float(line.split()[6]), float(line.split()[7]), float(line.split()[8]), float(line.split()[9])]]) \n",
    "                Atom_array = np.append(Atom_array, line_array, axis = 0)\n",
    "    \n",
    "    \n",
    "    if df is not None:\n",
    "        Atom_df = pd.DataFrame(Atom_array, columns=Atom_col)\n",
    "        return Atom_df\n",
    "\n",
    "    return Atom_df\n",
    "                \n"
   ]
  },
  {
   "cell_type": "code",
   "execution_count": 151,
   "metadata": {},
   "outputs": [
    {
     "ename": "FileNotFoundError",
     "evalue": "[Errno 2] No such file or directory: './data/test\\\\C0H3V8.pqr'",
     "output_type": "error",
     "traceback": [
      "\u001b[1;31m---------------------------------------------------------------------------\u001b[0m",
      "\u001b[1;31mFileNotFoundError\u001b[0m                         Traceback (most recent call last)",
      "Cell \u001b[1;32mIn[151], line 5\u001b[0m\n\u001b[0;32m      2\u001b[0m pdb_file \u001b[38;5;241m=\u001b[39m \u001b[38;5;124m'\u001b[39m\u001b[38;5;124mAF-C0H3V8-F1.pdb\u001b[39m\u001b[38;5;124m'\u001b[39m\n\u001b[0;32m      3\u001b[0m output_path \u001b[38;5;241m=\u001b[39m \u001b[38;5;124m'\u001b[39m\u001b[38;5;124m./data/test\u001b[39m\u001b[38;5;124m'\u001b[39m\n\u001b[1;32m----> 5\u001b[0m test \u001b[38;5;241m=\u001b[39m \u001b[43mpdb2df\u001b[49m\u001b[43m(\u001b[49m\u001b[43minput_path\u001b[49m\u001b[43m,\u001b[49m\u001b[43m \u001b[49m\u001b[43mpdb_file\u001b[49m\u001b[43m,\u001b[49m\u001b[43m \u001b[49m\u001b[43moutput_path\u001b[49m\u001b[43m)\u001b[49m\n",
      "Cell \u001b[1;32mIn[150], line 11\u001b[0m, in \u001b[0;36mpdb2df\u001b[1;34m(input_path, pdb_file, output_path, df)\u001b[0m\n\u001b[0;32m      8\u001b[0m Atom_array \u001b[38;5;241m=\u001b[39m np\u001b[38;5;241m.\u001b[39mempty((\u001b[38;5;241m0\u001b[39m, \u001b[38;5;241m9\u001b[39m))\n\u001b[0;32m      9\u001b[0m name \u001b[38;5;241m=\u001b[39m \u001b[38;5;124mf\u001b[39m\u001b[38;5;124m'\u001b[39m\u001b[38;5;132;01m{\u001b[39;00m(pdb_file\u001b[38;5;241m.\u001b[39msplit(\u001b[38;5;124m'\u001b[39m\u001b[38;5;124m.\u001b[39m\u001b[38;5;124m'\u001b[39m)[\u001b[38;5;241m0\u001b[39m])\u001b[38;5;241m.\u001b[39msplit(\u001b[38;5;124m'\u001b[39m\u001b[38;5;124m-\u001b[39m\u001b[38;5;124m'\u001b[39m)[\u001b[38;5;241m1\u001b[39m]\u001b[38;5;132;01m}\u001b[39;00m\u001b[38;5;124m.pqr\u001b[39m\u001b[38;5;124m'\u001b[39m\n\u001b[1;32m---> 11\u001b[0m \u001b[38;5;28;01mwith\u001b[39;00m \u001b[38;5;28;43mopen\u001b[39;49m\u001b[43m(\u001b[49m\u001b[43mos\u001b[49m\u001b[38;5;241;43m.\u001b[39;49m\u001b[43mpath\u001b[49m\u001b[38;5;241;43m.\u001b[39;49m\u001b[43mjoin\u001b[49m\u001b[43m(\u001b[49m\u001b[43moutput_path\u001b[49m\u001b[43m,\u001b[49m\u001b[43m \u001b[49m\u001b[38;5;28;43mstr\u001b[39;49m\u001b[43m(\u001b[49m\u001b[43mname\u001b[49m\u001b[43m)\u001b[49m\u001b[43m)\u001b[49m\u001b[43m)\u001b[49m \u001b[38;5;28;01mas\u001b[39;00m f:\n\u001b[0;32m     12\u001b[0m     \u001b[38;5;28;01mfor\u001b[39;00m line \u001b[38;5;129;01min\u001b[39;00m f:\n\u001b[0;32m     13\u001b[0m         line \u001b[38;5;241m=\u001b[39m line\u001b[38;5;241m.\u001b[39mreplace(\u001b[38;5;124m'\u001b[39m\u001b[38;5;124m-\u001b[39m\u001b[38;5;124m'\u001b[39m, \u001b[38;5;124m'\u001b[39m\u001b[38;5;124m  -\u001b[39m\u001b[38;5;124m'\u001b[39m)\n",
      "File \u001b[1;32m~\\AppData\\Local\\Packages\\PythonSoftwareFoundation.Python.3.12_qbz5n2kfra8p0\\LocalCache\\local-packages\\Python312\\site-packages\\IPython\\core\\interactiveshell.py:324\u001b[0m, in \u001b[0;36m_modified_open\u001b[1;34m(file, *args, **kwargs)\u001b[0m\n\u001b[0;32m    317\u001b[0m \u001b[38;5;28;01mif\u001b[39;00m file \u001b[38;5;129;01min\u001b[39;00m {\u001b[38;5;241m0\u001b[39m, \u001b[38;5;241m1\u001b[39m, \u001b[38;5;241m2\u001b[39m}:\n\u001b[0;32m    318\u001b[0m     \u001b[38;5;28;01mraise\u001b[39;00m \u001b[38;5;167;01mValueError\u001b[39;00m(\n\u001b[0;32m    319\u001b[0m         \u001b[38;5;124mf\u001b[39m\u001b[38;5;124m\"\u001b[39m\u001b[38;5;124mIPython won\u001b[39m\u001b[38;5;124m'\u001b[39m\u001b[38;5;124mt let you open fd=\u001b[39m\u001b[38;5;132;01m{\u001b[39;00mfile\u001b[38;5;132;01m}\u001b[39;00m\u001b[38;5;124m by default \u001b[39m\u001b[38;5;124m\"\u001b[39m\n\u001b[0;32m    320\u001b[0m         \u001b[38;5;124m\"\u001b[39m\u001b[38;5;124mas it is likely to crash IPython. If you know what you are doing, \u001b[39m\u001b[38;5;124m\"\u001b[39m\n\u001b[0;32m    321\u001b[0m         \u001b[38;5;124m\"\u001b[39m\u001b[38;5;124myou can use builtins\u001b[39m\u001b[38;5;124m'\u001b[39m\u001b[38;5;124m open.\u001b[39m\u001b[38;5;124m\"\u001b[39m\n\u001b[0;32m    322\u001b[0m     )\n\u001b[1;32m--> 324\u001b[0m \u001b[38;5;28;01mreturn\u001b[39;00m \u001b[43mio_open\u001b[49m\u001b[43m(\u001b[49m\u001b[43mfile\u001b[49m\u001b[43m,\u001b[49m\u001b[43m \u001b[49m\u001b[38;5;241;43m*\u001b[39;49m\u001b[43margs\u001b[49m\u001b[43m,\u001b[49m\u001b[43m \u001b[49m\u001b[38;5;241;43m*\u001b[39;49m\u001b[38;5;241;43m*\u001b[39;49m\u001b[43mkwargs\u001b[49m\u001b[43m)\u001b[49m\n",
      "\u001b[1;31mFileNotFoundError\u001b[0m: [Errno 2] No such file or directory: './data/test\\\\C0H3V8.pqr'"
     ]
    }
   ],
   "source": [
    "input_path = './data/pdbs'\n",
    "pdb_file = 'AF-C0H3V8-F1.pdb'\n",
    "output_path = './data/test'\n",
    "\n",
    "test = pdb2df(input_path, pdb_file, output_path)"
   ]
  },
  {
   "cell_type": "code",
   "execution_count": 147,
   "metadata": {},
   "outputs": [],
   "source": [
    "def aa_mut_select(input_path, pdb_file, output_path, df=None): ##add delete entrys with nan (see distance function)\n",
    "    from function import salt_bridge\n",
    "    from function import H_bond_calc\n",
    "    from function import VdW_interaction\n",
    "    pqr_file = f'{(pdb_file.split('.')[0]).split('-')[1]}.pqr'\n",
    "    if df is not None:\n",
    "        print('1')\n",
    "        Prot_df = pdb2df(input_path, pdb_file, output_path, df=True)\n",
    "        print('Prot_df finished')\n",
    "    else:\n",
    "        print('2')\n",
    "        Prot_df = pdb2df(input_path, pdb_file, output_path)\n",
    "        print('Prot_arr finished')\n",
    "\n",
    "    Salt_bridge = salt_bridge(input_path, pdb_file)\n",
    "    print('Salt_bridge finished')\n",
    "    H_bond = H_bond_calc(output_path, pqr_file)\n",
    "    print('H_bond finished')\n",
    "    VdW_clust, VdW_vol = VdW_interaction(input_path, pdb_file)\n",
    "    print('VdW_interaction finished')\n",
    "    \n",
    "    return Salt_bridge, H_bond, VdW_clust, VdW_vol, Prot_df   #, Prot_df\n",
    "    \n",
    "    \n",
    "    "
   ]
  },
  {
   "cell_type": "code",
   "execution_count": 154,
   "metadata": {},
   "outputs": [
    {
     "name": "stdout",
     "output_type": "stream",
     "text": [
      "pqr_file finished\n",
      "1\n",
      "PQR file already exists\n",
      "Prot_df finished\n",
      "Salt_bridge finished\n",
      "H_bond finished\n",
      "VdW_interaction finished\n"
     ]
    },
    {
     "name": "stderr",
     "output_type": "stream",
     "text": [
      "c:\\Users\\marik\\OneDrive - bwedu\\Uni HD\\FS 4\\Bioinfo\\topic04_02\\helper_function.py:61: RuntimeWarning: invalid value encountered in cast\n",
      "  distance[:,0] = distance[:,0].astype('int')\n"
     ]
    }
   ],
   "source": [
    "input_path = './data/pdbs'\n",
    "pdb_file = 'AF-C0H3V8-F1.pdb'\n",
    "output_path = './data/test'\n",
    "\n",
    "S,H,V1,V2, df = aa_mut_select(input_path, pdb_file, output_path, df=True)\n"
   ]
  },
  {
   "cell_type": "code",
   "execution_count": 166,
   "metadata": {},
   "outputs": [
    {
     "name": "stdout",
     "output_type": "stream",
     "text": [
      "[[-2.14748365e+09  7.00000000e+01  1.90000000e+02]\n",
      " [ 9.22000000e+02             nan  2.06793977e+00]\n",
      " [ 1.01700000e+03  2.15041768e+00             nan]]\n"
     ]
    },
    {
     "name": "stderr",
     "output_type": "stream",
     "text": [
      "C:\\Users\\marik\\AppData\\Local\\Temp\\ipykernel_14220\\4095873690.py:9: RuntimeWarning: invalid value encountered in cast\n",
      "  arr[:,0] = arr[:,0].astype('int')\n"
     ]
    }
   ],
   "source": [
    "from scipy.sparse import lil_matrix\n",
    "name = pdb_file.split('-')[1]\n",
    "arr = H[name][:,:,0]\n",
    "\n",
    "rows_with_nan = np.insert(np.array([np.all(np.isnan(arr[1:, 1:]), axis=1)]),0, None) #find rows with all nan values\n",
    "cols_with_nan = np.insert(np.array([np.all(np.isnan(arr[1:, 1:]), axis=0)]),0, None) #find columns with all nan values\n",
    "arr = arr[~rows_with_nan, :] #delete rows with all nan values\n",
    "arr = arr[:, ~cols_with_nan] #delete columns with all nan values\n",
    "arr[:,0] = arr[:,0].astype('int')\n",
    "\n",
    "print(arr)\n"
   ]
  },
  {
   "cell_type": "code",
   "execution_count": 161,
   "metadata": {},
   "outputs": [
    {
     "name": "stdout",
     "output_type": "stream",
     "text": [
      "(27, 2)\n",
      "[[False]\n",
      " [False]\n",
      " [False]\n",
      " [False]\n",
      " [False]\n",
      " [False]\n",
      " [False]\n",
      " [False]\n",
      " [False]\n",
      " [False]\n",
      " [False]\n",
      " [False]\n",
      " [False]\n",
      " [False]\n",
      " [False]\n",
      " [False]\n",
      " [False]\n",
      " [False]\n",
      " [False]\n",
      " [False]\n",
      " [False]\n",
      " [False]\n",
      " [False]\n",
      " [False]\n",
      " [False]\n",
      " [False]]\n"
     ]
    },
    {
     "ename": "IndexError",
     "evalue": "too many indices for array: array is 1-dimensional, but 2 were indexed",
     "output_type": "error",
     "traceback": [
      "\u001b[1;31m---------------------------------------------------------------------------\u001b[0m",
      "\u001b[1;31mIndexError\u001b[0m                                Traceback (most recent call last)",
      "Cell \u001b[1;32mIn[161], line 13\u001b[0m\n\u001b[0;32m     10\u001b[0m \u001b[38;5;28mprint\u001b[39m(mask)\n\u001b[0;32m     12\u001b[0m \u001b[38;5;66;03m# Combine elements into tuples using advanced indexing\u001b[39;00m\n\u001b[1;32m---> 13\u001b[0m tuples \u001b[38;5;241m=\u001b[39m \u001b[38;5;28mlist\u001b[39m(\u001b[38;5;28mzip\u001b[39m(\u001b[43mfirst_row\u001b[49m\u001b[43m[\u001b[49m\u001b[38;5;241;43m1\u001b[39;49m\u001b[43m:\u001b[49m\u001b[43m]\u001b[49m\u001b[43m[\u001b[49m\u001b[43mmask\u001b[49m\u001b[43m]\u001b[49m, first_col[\u001b[38;5;241m1\u001b[39m:][mask], H_arr[\u001b[38;5;241m1\u001b[39m:, \u001b[38;5;241m1\u001b[39m:][mask]))\n\u001b[0;32m     15\u001b[0m \u001b[38;5;66;03m# Print the tuples\u001b[39;00m\n\u001b[0;32m     16\u001b[0m \u001b[38;5;28mprint\u001b[39m(tuples)\n",
      "\u001b[1;31mIndexError\u001b[0m: too many indices for array: array is 1-dimensional, but 2 were indexed"
     ]
    }
   ],
   "source": []
  }
 ],
 "metadata": {
  "kernelspec": {
   "display_name": "Python 3",
   "language": "python",
   "name": "python3"
  },
  "language_info": {
   "codemirror_mode": {
    "name": "ipython",
    "version": 3
   },
   "file_extension": ".py",
   "mimetype": "text/x-python",
   "name": "python",
   "nbconvert_exporter": "python",
   "pygments_lexer": "ipython3",
   "version": "3.12.4"
  }
 },
 "nbformat": 4,
 "nbformat_minor": 2
}
