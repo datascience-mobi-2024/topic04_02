{
 "cells": [
  {
   "cell_type": "markdown",
   "metadata": {},
   "source": [
    "Working jupyter to create function to create a list of aminoacids likely to be used for mutation"
   ]
  },
  {
   "cell_type": "code",
   "execution_count": 13,
   "metadata": {},
   "outputs": [],
   "source": [
    "# import packages\n",
    "import numpy as np\n",
    "import pandas as pd\n",
    "import os\n",
    "import seaborn as sns\n",
    "import matplotlib.pyplot as plt\n"
   ]
  },
  {
   "cell_type": "code",
   "execution_count": 14,
   "metadata": {},
   "outputs": [],
   "source": [
    "def pdb2df(input_path, pdb_file, output_path, df=None):\n",
    "    from function import pdb2pqr\n",
    "    import os\n",
    "    import numpy as np\n",
    "    import pandas as pd\n",
    "    if os.path.isfile(os.path.join(output_path, f'{(pdb_file.split(\".\")[0]).split(\"-\")[1]}.pqr')):\n",
    "        print('PQR file already exists')\n",
    "    pdb2pqr(input_path, output_path, pdb_file)\n",
    "    \n",
    "    Atom_col = ['atom_num','atom_name', 'aa_name', 'aa_num', 'x', 'y', 'z', 'charge', 'radius']\n",
    "    Atom_array = np.empty((0, 9))\n",
    "    name = f'{(pdb_file.split('.')[0]).split('-')[1]}.pqr'\n",
    "\n",
    "    with open(os.path.join(output_path, str(name))) as f:\n",
    "        for line in f:\n",
    "            line = line.replace('-', '  -')\n",
    "            if line.startswith('ATOM'):\n",
    "                line_array = np.array([[int(line.split()[1]), str(line.split()[2]), str(line.split()[3]), int(line.split()[4]), float(line.split()[5]), float(line.split()[6]), float(line.split()[7]), float(line.split()[8]), float(line.split()[9])]]) \n",
    "                Atom_array = np.append(Atom_array, line_array, axis = 0)\n",
    "    \n",
    "    \n",
    "    if df is not None:\n",
    "        Atom_df = pd.DataFrame(Atom_array, columns=Atom_col)\n",
    "        return Atom_df\n",
    "\n",
    "    return Atom_df\n",
    "                \n"
   ]
  },
  {
   "cell_type": "code",
   "execution_count": null,
   "metadata": {},
   "outputs": [],
   "source": [
    "input_path = './data/pdbs'\n",
    "pdb_file = 'AF-C0H3V8-F1.pdb'\n",
    "output_path = './data/test'\n",
    "\n",
    "test = pdb2df(input_path, pdb_file, output_path)"
   ]
  },
  {
   "cell_type": "code",
   "execution_count": 15,
   "metadata": {},
   "outputs": [],
   "source": [
    "def aa_mut_select(input_path, pdb_file, output_path, df=None, remove_nan = None):\n",
    "    from function import salt_bridge\n",
    "    from function import H_bond_calc\n",
    "    from function import VdW_interaction\n",
    "    import os\n",
    "    pqr_file = f'{(pdb_file.split('.')[0]).split('-')[1]}.pqr'\n",
    "    if df is not None:\n",
    "        print('1')\n",
    "        Prot_df = pdb2df(input_path, pdb_file, output_path, df=True)\n",
    "        print('Prot_df finished')\n",
    "    else:\n",
    "        print('2')\n",
    "        Prot_df = pdb2df(input_path, pdb_file, output_path)\n",
    "        print('Prot_arr finished')\n",
    "\n",
    "    Salt_bridge = salt_bridge(input_path, pdb_file, remove_nan = remove_nan)\n",
    "    print('Salt_bridge finished')\n",
    "    H_bond = H_bond_calc(output_path, pqr_file, remove_nan = remove_nan)\n",
    "    print('H_bond finished')\n",
    "    VdW_clust, VdW_vol = VdW_interaction(input_path, pdb_file, remove_nan = remove_nan)\n",
    "    print('VdW_interaction finished')\n",
    "    \n",
    "    return Salt_bridge, H_bond, VdW_clust, VdW_vol, Prot_df   #, Prot_df\n",
    "    \n",
    "    \n",
    "    "
   ]
  },
  {
   "cell_type": "code",
   "execution_count": 16,
   "metadata": {},
   "outputs": [
    {
     "name": "stdout",
     "output_type": "stream",
     "text": [
      "1\n",
      "PQR file already exists\n",
      "Prot_df finished\n",
      "Salt_bridge finished\n"
     ]
    },
    {
     "name": "stderr",
     "output_type": "stream",
     "text": [
      "c:\\Users\\marik\\OneDrive - bwedu\\Uni HD\\FS 4\\Bioinfo\\topic04_02\\helper_function.py:61: RuntimeWarning: invalid value encountered in cast\n",
      "  distance[:,0] = distance[:,0].astype('int')\n"
     ]
    },
    {
     "ename": "ImportError",
     "evalue": "cannot import name 'np' from 'numpy' (C:\\Users\\marik\\AppData\\Local\\Packages\\PythonSoftwareFoundation.Python.3.12_qbz5n2kfra8p0\\LocalCache\\local-packages\\Python312\\site-packages\\numpy\\__init__.py)",
     "output_type": "error",
     "traceback": [
      "\u001b[1;31m---------------------------------------------------------------------------\u001b[0m",
      "\u001b[1;31mImportError\u001b[0m                               Traceback (most recent call last)",
      "Cell \u001b[1;32mIn[16], line 5\u001b[0m\n\u001b[0;32m      2\u001b[0m pdb_file \u001b[38;5;241m=\u001b[39m \u001b[38;5;124m'\u001b[39m\u001b[38;5;124mAF-C0H3V8-F1.pdb\u001b[39m\u001b[38;5;124m'\u001b[39m\n\u001b[0;32m      3\u001b[0m output_path \u001b[38;5;241m=\u001b[39m \u001b[38;5;124m'\u001b[39m\u001b[38;5;124m./data/test\u001b[39m\u001b[38;5;124m'\u001b[39m\n\u001b[1;32m----> 5\u001b[0m S,H,V1,V2, df \u001b[38;5;241m=\u001b[39m \u001b[43maa_mut_select\u001b[49m\u001b[43m(\u001b[49m\u001b[43minput_path\u001b[49m\u001b[43m,\u001b[49m\u001b[43m \u001b[49m\u001b[43mpdb_file\u001b[49m\u001b[43m,\u001b[49m\u001b[43m \u001b[49m\u001b[43moutput_path\u001b[49m\u001b[43m,\u001b[49m\u001b[43m \u001b[49m\u001b[43mdf\u001b[49m\u001b[38;5;241;43m=\u001b[39;49m\u001b[38;5;28;43;01mTrue\u001b[39;49;00m\u001b[43m,\u001b[49m\u001b[43m \u001b[49m\u001b[43mremove_nan\u001b[49m\u001b[38;5;241;43m=\u001b[39;49m\u001b[38;5;28;43;01mTrue\u001b[39;49;00m\u001b[43m)\u001b[49m\n",
      "Cell \u001b[1;32mIn[15], line 18\u001b[0m, in \u001b[0;36maa_mut_select\u001b[1;34m(input_path, pdb_file, output_path, df, remove_nan)\u001b[0m\n\u001b[0;32m     16\u001b[0m Salt_bridge \u001b[38;5;241m=\u001b[39m salt_bridge(input_path, pdb_file, remove_nan \u001b[38;5;241m=\u001b[39m remove_nan)\n\u001b[0;32m     17\u001b[0m \u001b[38;5;28mprint\u001b[39m(\u001b[38;5;124m'\u001b[39m\u001b[38;5;124mSalt_bridge finished\u001b[39m\u001b[38;5;124m'\u001b[39m)\n\u001b[1;32m---> 18\u001b[0m H_bond \u001b[38;5;241m=\u001b[39m \u001b[43mH_bond_calc\u001b[49m\u001b[43m(\u001b[49m\u001b[43moutput_path\u001b[49m\u001b[43m,\u001b[49m\u001b[43m \u001b[49m\u001b[43mpqr_file\u001b[49m\u001b[43m,\u001b[49m\u001b[43m \u001b[49m\u001b[43mremove_nan\u001b[49m\u001b[43m \u001b[49m\u001b[38;5;241;43m=\u001b[39;49m\u001b[43m \u001b[49m\u001b[43mremove_nan\u001b[49m\u001b[43m)\u001b[49m\n\u001b[0;32m     19\u001b[0m \u001b[38;5;28mprint\u001b[39m(\u001b[38;5;124m'\u001b[39m\u001b[38;5;124mH_bond finished\u001b[39m\u001b[38;5;124m'\u001b[39m)\n\u001b[0;32m     20\u001b[0m VdW_clust, VdW_vol \u001b[38;5;241m=\u001b[39m VdW_interaction(input_path, pdb_file, remove_nan \u001b[38;5;241m=\u001b[39m remove_nan)\n",
      "File \u001b[1;32mc:\\Users\\marik\\OneDrive - bwedu\\Uni HD\\FS 4\\Bioinfo\\topic04_02\\function.py:218\u001b[0m, in \u001b[0;36mH_bond_calc\u001b[1;34m(path, pqr_files, remove_nan)\u001b[0m\n\u001b[0;32m    216\u001b[0m     \u001b[38;5;28;01mfrom\u001b[39;00m \u001b[38;5;21;01mhelper_function\u001b[39;00m \u001b[38;5;28;01mimport\u001b[39;00m remove_nan\n\u001b[0;32m    217\u001b[0m     angle2D \u001b[38;5;241m=\u001b[39m angle[:,:,\u001b[38;5;241m0\u001b[39m]\n\u001b[1;32m--> 218\u001b[0m     angle2D \u001b[38;5;241m=\u001b[39m \u001b[43mremove_nan\u001b[49m\u001b[43m(\u001b[49m\u001b[43mangle2D\u001b[49m\u001b[43m)\u001b[49m\n\u001b[0;32m    220\u001b[0m \u001b[38;5;28;01mif\u001b[39;00m \u001b[38;5;28misinstance\u001b[39m(pqr_file, \u001b[38;5;28mstr\u001b[39m):\n\u001b[0;32m    221\u001b[0m     \u001b[38;5;28;01mreturn\u001b[39;00m angle2D\n",
      "File \u001b[1;32mc:\\Users\\marik\\OneDrive - bwedu\\Uni HD\\FS 4\\Bioinfo\\topic04_02\\helper_function.py:91\u001b[0m, in \u001b[0;36mremove_nan\u001b[1;34m(array)\u001b[0m\n\u001b[0;32m     90\u001b[0m \u001b[38;5;28;01mdef\u001b[39;00m \u001b[38;5;21mremove_nan\u001b[39m(array):\n\u001b[1;32m---> 91\u001b[0m     \u001b[38;5;28;01mfrom\u001b[39;00m \u001b[38;5;21;01mnumpy\u001b[39;00m \u001b[38;5;28;01mimport\u001b[39;00m np\n\u001b[0;32m     92\u001b[0m     rows_with_nan \u001b[38;5;241m=\u001b[39m np\u001b[38;5;241m.\u001b[39minsert(np\u001b[38;5;241m.\u001b[39marray([np\u001b[38;5;241m.\u001b[39mall(np\u001b[38;5;241m.\u001b[39misnan(array[\u001b[38;5;241m1\u001b[39m:, \u001b[38;5;241m1\u001b[39m:]), axis\u001b[38;5;241m=\u001b[39m\u001b[38;5;241m1\u001b[39m)]),\u001b[38;5;241m0\u001b[39m, \u001b[38;5;28;01mNone\u001b[39;00m) \u001b[38;5;66;03m#find rows with all nan values\u001b[39;00m\n\u001b[0;32m     93\u001b[0m     cols_with_nan \u001b[38;5;241m=\u001b[39m np\u001b[38;5;241m.\u001b[39minsert(np\u001b[38;5;241m.\u001b[39marray([np\u001b[38;5;241m.\u001b[39mall(np\u001b[38;5;241m.\u001b[39misnan(array[\u001b[38;5;241m1\u001b[39m:, \u001b[38;5;241m1\u001b[39m:]), axis\u001b[38;5;241m=\u001b[39m\u001b[38;5;241m0\u001b[39m)]),\u001b[38;5;241m0\u001b[39m, \u001b[38;5;28;01mNone\u001b[39;00m) \u001b[38;5;66;03m#find columns with all nan values\u001b[39;00m\n",
      "\u001b[1;31mImportError\u001b[0m: cannot import name 'np' from 'numpy' (C:\\Users\\marik\\AppData\\Local\\Packages\\PythonSoftwareFoundation.Python.3.12_qbz5n2kfra8p0\\LocalCache\\local-packages\\Python312\\site-packages\\numpy\\__init__.py)"
     ]
    }
   ],
   "source": [
    "input_path = './data/pdbs'\n",
    "pdb_file = 'AF-C0H3V8-F1.pdb'\n",
    "output_path = './data/test'\n",
    "\n",
    "S,H,V1,V2, df = aa_mut_select(input_path, pdb_file, output_path, df=True, remove_nan=True)\n"
   ]
  },
  {
   "cell_type": "code",
   "execution_count": 166,
   "metadata": {},
   "outputs": [
    {
     "name": "stdout",
     "output_type": "stream",
     "text": [
      "[[-2.14748365e+09  7.00000000e+01  1.90000000e+02]\n",
      " [ 9.22000000e+02             nan  2.06793977e+00]\n",
      " [ 1.01700000e+03  2.15041768e+00             nan]]\n"
     ]
    },
    {
     "name": "stderr",
     "output_type": "stream",
     "text": [
      "C:\\Users\\marik\\AppData\\Local\\Temp\\ipykernel_14220\\4095873690.py:9: RuntimeWarning: invalid value encountered in cast\n",
      "  arr[:,0] = arr[:,0].astype('int')\n"
     ]
    }
   ],
   "source": [
    "from scipy.sparse import lil_matrix\n",
    "name = pdb_file.split('-')[1]\n",
    "arr = H[name][:,:,0]\n",
    "\n",
    "rows_with_nan = np.insert(np.array([np.all(np.isnan(arr[1:, 1:]), axis=1)]),0, None) #find rows with all nan values\n",
    "cols_with_nan = np.insert(np.array([np.all(np.isnan(arr[1:, 1:]), axis=0)]),0, None) #find columns with all nan values\n",
    "arr = arr[~rows_with_nan, :] #delete rows with all nan values\n",
    "arr = arr[:, ~cols_with_nan] #delete columns with all nan values\n",
    "arr[:,0] = arr[:,0].astype('int')\n",
    "\n",
    "print(arr)\n"
   ]
  }
 ],
 "metadata": {
  "kernelspec": {
   "display_name": "Python 3",
   "language": "python",
   "name": "python3"
  },
  "language_info": {
   "codemirror_mode": {
    "name": "ipython",
    "version": 3
   },
   "file_extension": ".py",
   "mimetype": "text/x-python",
   "name": "python",
   "nbconvert_exporter": "python",
   "pygments_lexer": "ipython3",
   "version": "3.12.4"
  }
 },
 "nbformat": 4,
 "nbformat_minor": 2
}
