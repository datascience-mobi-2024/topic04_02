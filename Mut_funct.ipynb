{
 "cells": [
  {
   "cell_type": "markdown",
   "metadata": {},
   "source": [
    "Working jupyter to create function to create a list of aminoacids likely to be used for mutation"
   ]
  },
  {
   "cell_type": "markdown",
   "metadata": {},
   "source": [
    "Function finished"
   ]
  },
  {
   "cell_type": "code",
   "execution_count": 2,
   "metadata": {},
   "outputs": [
    {
     "name": "stdout",
     "output_type": "stream",
     "text": [
      "Pqr file already exists\n"
     ]
    },
    {
     "name": "stderr",
     "output_type": "stream",
     "text": [
      "c:\\Users\\marik\\OneDrive - bwedu\\Uni HD\\FS 4\\Bioinfo\\topic04_02\\helper_function.py:71: RuntimeWarning: invalid value encountered in cast\n",
      "  distance[:,0] = distance[:,0].astype('int')\n"
     ]
    },
    {
     "name": "stdout",
     "output_type": "stream",
     "text": [
      "Salt_bridge finished\n"
     ]
    },
    {
     "name": "stderr",
     "output_type": "stream",
     "text": [
      "c:\\Users\\marik\\OneDrive - bwedu\\Uni HD\\FS 4\\Bioinfo\\topic04_02\\helper_function.py:89: RuntimeWarning: invalid value encountered in arccos\n",
      "  theta = np.arccos((d_DH[n,1,1]**2 + d_HA[n,1:]**2 - d_DA[1:,1:][n,:]**2)/(2*d_DH[n,1,1]*d_HA[1:,1:][n,:]))\n"
     ]
    },
    {
     "name": "stdout",
     "output_type": "stream",
     "text": [
      "H_bond finished\n",
      "VdW_interaction finished\n"
     ]
    },
    {
     "name": "stderr",
     "output_type": "stream",
     "text": [
      "c:\\Users\\marik\\OneDrive - bwedu\\Uni HD\\FS 4\\Bioinfo\\topic04_02\\helper_function.py:106: RuntimeWarning: invalid value encountered in cast\n",
      "  array[:,0] = array[:,0].astype('int')\n"
     ]
    }
   ],
   "source": [
    "path_pdb = './data/pdbs'\n",
    "path_pqr=  './data/pqrs'\n",
    "pdb_file = 'AF-C0SP86-F1.pdb'\n",
    "pqr_file = 'P39846.pqr'\n",
    "output_path = './data/test'\n",
    "name = pqr_file.split('.')[0]\n",
    "from function import functional_aa\n",
    "from function import free_aa\n",
    "from helper_function import pdb2AA\n",
    "\n",
    "functional_aas = functional_aa(path_pdb, pdb_file, output_path, df =False)\n",
    "\n",
    "free_aas = free_aa(path_pdb, pdb_file, functional_aas)"
   ]
  },
  {
   "cell_type": "code",
   "execution_count": 3,
   "metadata": {},
   "outputs": [
    {
     "name": "stdout",
     "output_type": "stream",
     "text": [
      "['M', 'S', 'W', 'L', 'H', 'K', 'F', 'F', 'D', 'L', 'F', 'L', 'G', 'E', 'S', 'E', 'E', 'D', 'A', 'E', 'R', 'E', 'T', 'K', 'P', 'A', 'Q', 'I', 'P', 'Q', 'Q', 'Q', 'E', 'V', 'H', 'H', 'P', 'E', 'G', 'Q', 'L', 'K', 'R', 'L', 'E', 'D', 'P', 'K', 'I', 'Y', 'Y', 'E', 'Y', 'P', 'K', 'G', 'K', 'F', 'R', 'F', 'P', 'V', 'V', 'P', 'D', 'G', 'Y', 'K', 'N', 'H', 'D', 'L', 'R', 'R', 'R', 'R', 'T', 'P', 'S', 'D', 'E', 'P', 'K', 'S', 'A', 'P', 'R', 'P', 'S', 'A', 'A', 'P', 'Y', 'R', 'E', 'R', 'P', 'R', 'N', 'E', 'E', 'E', 'Q', 'H', 'T', 'Y', 'Q', 'A', 'A', 'E', 'P', 'A', 'K', 'K', 'P', 'F', 'K', 'P', 'T', 'N', 'I', 'P', 'S', 'P', 'V', 'Y', 'G', 'F', 'N', 'Q', 'K', 'P', 'S', 'V', 'K', 'K', 'D', 'V', 'P', 'K', 'K', 'P', 'S', 'E', 'T', 'L', 'N', 'E', 'P', 'D', 'K', 'S', 'V', 'K', 'E', 'K', 'V', 'T', 'L', 'L', 'S', 'E', 'E', 'I', 'E', 'R', 'E', 'R', 'G', 'Y', 'P', 'A', 'S', 'D', 'T', 'Q', 'A', 'H', 'S', 'K', 'I', 'E', 'S', 'P', 'F', 'F', 'P', 'D', 'T', 'Q', 'F', 'E', 'K', 'Q', 'P', 'S', 'G', 'V', 'L', 'N', 'R', 'K', 'D', 'T', 'E', 'H', 'D', 'E', 'A', 'L', 'A', 'K', 'R', 'P', 'A', 'E', 'P', 'S', 'G', 'N', 'K', 'V', 'P', 'F', 'E', 'S', 'G', 'V', 'Q', 'Q', 'P', 'E', 'K', 'E', 'E', 'P', 'F', 'F', 'P', 'A', 'E', 'Q', 'A', 'E', 'E', 'Q', 'T', 'P', 'P', 'E', 'M', 'L', 'T', 'D', 'T', 'A', 'A', 'E', 'G', 'L', 'S', 'D', 'S', 'E', 'V', 'G', 'R', 'E', 'E', 'P', 'A', 'T', 'A', 'E', 'E', 'E', 'Q', 'R', 'E', 'Q', 'Q', 'P', 'E', 'K', 'F', 'E', 'E', 'P', 'V', 'F', 'S', 'A', 'E', 'L', 'D', 'E', 'E', 'Q', 'T', 'A', 'P', 'E', 'S', 'Q', 'T', 'E', 'A', 'V', 'S', 'E', 'D', 'E', 'K', 'A', 'K', 'E', 'P', 'S', 'D', 'S', 'P', 'V', 'Y', 'N', 'H', 'H', 'E', 'N', 'A', 'A', 'E', 'G', 'A', 'E', 'S', 'P', 'F', 'V', 'Q', 'E', 'E', 'Q', 'M', 'D', 'I', 'R', 'Q', 'E', 'E', 'P', 'L', 'F', 'T', 'D', 'H', 'E', 'Y', 'S', 'S', 'E', 'A', 'L', 'A', 'Q', 'A', 'E', 'T', 'V', 'A', 'K', 'E', 'S', 'E', 'E', 'P', 'S', 'E', 'S', 'I', 'I', 'N', 'N', 'H', 'Y', 'D', 'T', 'L', 'G', 'E', 'A', 'Q', 'E', 'T', 'K', 'I', 'D', 'V', 'Q', 'P', 'D', 'S', 'H', 'T', 'E', 'L', 'E', 'K', 'T', 'E', 'H', 'M', 'E', 'Q', 'G', 'S', 'K', 'S', 'S', 'T', 'A', 'T', 'L', 'E', 'N', 'R', 'Q', 'E', 'I', 'R', 'A', 'D', 'K', 'P', 'R', 'E', 'A', 'S', 'E', 'E', 'P', 'K', 'K', 'R', 'P', 'G', 'V', 'Q', 'E', 'K', 'R', 'T', 'E', 'Q', 'S', 'A', 'S', 'S', 'Q', 'K', 'G', 'P', 'S', 'V', 'P', 'F', 'N', 'V', 'M', 'M', 'L', 'K', 'R', 'D', 'T', 'H', 'K', 'Q', 'Q', 'K', 'A', 'E', 'E', 'R', 'R', 'G', 'S', 'Y', 'V', 'F', 'P', 'N', 'V', 'A', 'L', 'L', 'D', 'V', 'P', 'P', 'A', 'Q', 'V', 'Q', 'D', 'D', 'T', 'A', 'W', 'I', 'E', 'E', 'Q', 'R', 'Q', 'L', 'L', 'D', 'L', 'T', 'L', 'K', 'N', 'F', 'N', 'V', 'R', 'A', 'N', 'V', 'V', 'H', 'V', 'T', 'Q', 'G', 'P', 'S', 'V', 'T', 'R', 'F', 'E', 'V', 'H', 'P', 'E', 'P', 'G', 'V', 'K', 'V', 'N', 'K', 'I', 'T', 'N', 'L', 'S', 'D', 'D', 'I', 'K', 'L', 'S', 'L', 'S', 'A', 'K', 'D', 'I', 'R', 'I', 'E', 'A', 'P', 'I', 'P', 'G', 'K', 'N', 'T', 'I', 'G', 'I', 'E', 'V', 'P', 'N', 'R', 'T', 'S', 'K', 'V', 'V', 'D', 'L', 'R', 'Q', 'M', 'I', 'R', 'S', 'S', 'A', 'F', 'R', 'T', 'S', 'K', 'S', 'P', 'L', 'T', 'A', 'A', 'L', 'G', 'L', 'D', 'I', 'S', 'G', 'N', 'P', 'V', 'V', 'I', 'D', 'L', 'K', 'K', 'M', 'P', 'H', 'G', 'L', 'I', 'A', 'G', 'A', 'T', 'G', 'S', 'G', 'K', 'S', 'V', 'C', 'I', 'N', 'T', 'I', 'L', 'V', 'S', 'L', 'L', 'Y', 'K', 'A', 'D', 'P', 'S', 'E', 'V', 'K', 'V', 'L', 'L', 'I', 'D', 'P', 'K', 'M', 'V', 'E', 'L', 'A', 'P', 'Y', 'N', 'K', 'I', 'P', 'H', 'L', 'V', 'S', 'P', 'V', 'I', 'T', 'D', 'A', 'K', 'A', 'A', 'T', 'A', 'A', 'L', 'K', 'W', 'V', 'V', 'E', 'E', 'M', 'E', 'R', 'R', 'Y', 'E', 'L', 'F', 'A', 'H', 'S', 'G', 'V', 'R', 'D', 'I', 'D', 'R', 'F', 'N', 'Q', 'L', 'T', 'A', 'E', 'H', 'Q', 'M', 'G', 'E', 'K', 'L', 'P', 'Y', 'L', 'V', 'V', 'I', 'I', 'D', 'E', 'L', 'A', 'D', 'L', 'M', 'M', 'V', 'A', 'P', 'N', 'D', 'V', 'E', 'E', 'S', 'I', 'A', 'R', 'I', 'A', 'Q', 'K', 'A', 'R', 'A', 'C', 'G', 'I', 'H', 'L', 'L', 'V', 'A', 'T', 'Q', 'R', 'P', 'S', 'V', 'D', 'V', 'I', 'T', 'G', 'L', 'I', 'K', 'A', 'N', 'I', 'P', 'T', 'R', 'I', 'A', 'F', 'S', 'V', 'S', 'S', 'Q', 'V', 'D', 'S', 'R', 'T', 'I', 'I', 'D', 'I', 'A', 'G', 'A', 'E', 'K', 'L', 'L', 'G', 'K', 'G', 'D', 'M', 'L', 'F', 'L', 'E', 'N', 'G', 'S', 'G', 'K', 'P', 'V', 'R', 'L', 'Q', 'G', 'N', 'F', 'V', 'S', 'D', 'R', 'E', 'I', 'D', 'R', 'V', 'V', 'S', 'H', 'V', 'R', 'S', 'Q', 'M', 'P', 'P', 'T', 'Y', 'L', 'F', 'E', 'Q', 'E', 'E', 'L', 'V', 'R', 'Q', 'G', 'S', 'A', 'L', 'K', 'E', 'E', 'D', 'E', 'L', 'F', 'Y', 'E', 'A', 'C', 'E', 'F', 'V', 'V', 'E', 'Q', 'N', 'S', 'A', 'S', 'T', 'S', 'S', 'L', 'Q', 'R', 'R', 'F', 'R', 'I', 'G', 'Y', 'N', 'R', 'A', 'A', 'R', 'L', 'I', 'D', 'M', 'M', 'E', 'A', 'E', 'G', 'M', 'I', 'S', 'E', 'A', 'K', 'G', 'S', 'K', 'P', 'R', 'E', 'V', 'L', 'I', 'T', 'A', 'S', 'D', 'L', 'I', 'N', 'E']\n"
     ]
    }
   ],
   "source": [
    "from helper_function import pdb2AA\n",
    "test = pdb2AA(path_pdb, pdb_file)\n",
    "print(test)"
   ]
  },
  {
   "cell_type": "code",
   "execution_count": 7,
   "metadata": {},
   "outputs": [
    {
     "name": "stdout",
     "output_type": "stream",
     "text": [
      "4\n"
     ]
    }
   ],
   "source": [
    "test = [1,2,5,6]\n",
    "print(len(test))"
   ]
  },
  {
   "cell_type": "code",
   "execution_count": 50,
   "metadata": {},
   "outputs": [],
   "source": [
    "def prot_mut(path, file_name, functional_aa, free_aa):\n",
    "    \n",
    "    import os\n",
    "    from helper_function import pdb2AA\n",
    "    \n",
    "    \n",
    "    # top 20 features that correlate with melt point (positive and negative), based on prokaryotes323 columns, cutoff at +/- 0.32\n",
    "    pos_corr = ['AR', 'VR', 'LR', 'LP', 'MR', 'FR', 'WR', 'NR', 'YR', \n",
    "                'YP', 'ER', 'EP', 'RH', 'RC', 'RP', 'RG', 'PG', 'Rhelix', \n",
    "                'R', 'P', 'ARmotif', 'EAmotif'] \n",
    "    neg_corr = ['IQ', 'MQ', 'MT', 'FQ', 'WQ', 'NQ', 'QS', 'QT', 'QD', \n",
    "                'QH', 'QK', 'QC', 'ST', 'SH', 'SC', 'TD', 'TH', 'TC', \n",
    "                'Qhelix', 'Q', 'T', 'PolarAA']\n",
    "    \n",
    "    #extract aminoacid list\n",
    "    aa_list = pdb2AA(path, file_name)\n",
    "            \n",
    "    return "
   ]
  },
  {
   "cell_type": "markdown",
   "metadata": {},
   "source": [
    "Get list of pos/neg correlating features for Meltpoint"
   ]
  },
  {
   "cell_type": "code",
   "execution_count": 6,
   "metadata": {},
   "outputs": [
    {
     "name": "stderr",
     "output_type": "stream",
     "text": [
      "C:\\Users\\marik\\AppData\\Local\\Temp\\ipykernel_5112\\768696474.py:3: DtypeWarning: Columns (8,21,22,23,25,26,27,28) have mixed types. Specify dtype option on import or set low_memory=False.\n",
      "  pro_df: pd.DataFrame = pd.read_csv(os.path.join('./data', 'prokaryotes_323columns.csv'))\n"
     ]
    }
   ],
   "source": [
    "import pandas as pd\n",
    "import os\n",
    "pro_df: pd.DataFrame = pd.read_csv(os.path.join('./data', 'prokaryotes_323columns.csv'))\n",
    "pro_df = pro_df.drop(columns = ['Unnamed: 0', 'Unnamed: 0.1'])"
   ]
  },
  {
   "cell_type": "code",
   "execution_count": 16,
   "metadata": {},
   "outputs": [
    {
     "data": {
      "text/plain": [
       "'1.26.4'"
      ]
     },
     "execution_count": 16,
     "metadata": {},
     "output_type": "execute_result"
    }
   ],
   "source": [
    "import numpy\n",
    "numpy.version.version\n"
   ]
  },
  {
   "cell_type": "code",
   "execution_count": 39,
   "metadata": {},
   "outputs": [],
   "source": [
    "pro_corr = pro_df.corr(numeric_only=True)['meltPoint']\n",
    "pos_corr = pro_corr[pro_corr > 0.32]\n",
    "neg_corr = pro_corr[pro_corr < -0.32]"
   ]
  },
  {
   "cell_type": "code",
   "execution_count": 40,
   "metadata": {},
   "outputs": [
    {
     "name": "stdout",
     "output_type": "stream",
     "text": [
      "['IQ', 'MQ', 'MT', 'FQ', 'WQ', 'NQ', 'QS', 'QT', 'QD', 'QH', 'QK', 'QC', 'ST', 'SH', 'SC', 'TD', 'TH', 'TC', 'Qhelix', 'Q', 'T', 'PolarAA']\n"
     ]
    }
   ],
   "source": [
    "pos_corr = list(pro_corr.index)\n",
    "#print(pos_corr[3:])\n",
    "neg_corr = list(neg_corr.index)\n",
    "print(neg_corr)"
   ]
  },
  {
   "cell_type": "markdown",
   "metadata": {},
   "source": [
    "Needs to be mutated"
   ]
  },
  {
   "cell_type": "code",
   "execution_count": 14,
   "metadata": {},
   "outputs": [
    {
     "name": "stdout",
     "output_type": "stream",
     "text": [
      "IQ        -0.429683\n",
      "MQ        -0.507329\n",
      "MT        -0.359458\n",
      "FQ        -0.423630\n",
      "WQ        -0.420057\n",
      "NQ        -0.435562\n",
      "QS        -0.502697\n",
      "QT        -0.529350\n",
      "QD        -0.466556\n",
      "QH        -0.455041\n",
      "QK        -0.418720\n",
      "QC        -0.493738\n",
      "ST        -0.396185\n",
      "SH        -0.327684\n",
      "SC        -0.321686\n",
      "TD        -0.344690\n",
      "TH        -0.346921\n",
      "TC        -0.364763\n",
      "Qhelix    -0.378950\n",
      "Q         -0.469765\n",
      "T         -0.321208\n",
      "PolarAA   -0.406035\n",
      "Name: meltPoint, dtype: float64\n"
     ]
    }
   ],
   "source": [
    "print(pro_corr[pro_corr < -0.32])"
   ]
  }
 ],
 "metadata": {
  "kernelspec": {
   "display_name": "Python 3",
   "language": "python",
   "name": "python3"
  },
  "language_info": {
   "codemirror_mode": {
    "name": "ipython",
    "version": 3
   },
   "file_extension": ".py",
   "mimetype": "text/x-python",
   "name": "python",
   "nbconvert_exporter": "python",
   "pygments_lexer": "ipython3",
   "version": "3.12.4"
  }
 },
 "nbformat": 4,
 "nbformat_minor": 2
}
