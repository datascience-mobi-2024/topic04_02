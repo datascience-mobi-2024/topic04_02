{
 "cells": [
  {
   "cell_type": "code",
   "execution_count": 25,
   "metadata": {},
   "outputs": [],
   "source": [
    "# import packages\n",
    "import numpy as np\n",
    "import pandas as pd\n",
    "import os\n",
    "import seaborn as sns\n",
    "import matplotlib.pyplot as plt\n",
    "import Bio\n",
    "import statsmodels.api as sm\n",
    "from pathlib import Path"
   ]
  },
  {
   "cell_type": "markdown",
   "metadata": {},
   "source": [
    "Import datasets and define variables"
   ]
  },
  {
   "cell_type": "code",
   "execution_count": 26,
   "metadata": {},
   "outputs": [],
   "source": [
    "# import data from computer \"C:/Users/marik/OneDrive - bwedu/Uni HD/FS 4/Bioinfo/topic04_02/data/cross-species.csv\"\n",
    "path: str = f\"{os.path.abspath(os.path.join(os.getcwd(), \"..\"))}/data\"  #folder where files are stored\n",
    "species: pd.DataFrame = pd.read_csv(os.path.join(path, \"cross-species.csv\"), dtype=str)   # imports file from the folder as species, based on name\n",
    "identifiers: pd.DataFrame = pd.read_csv(os.path.join(path, \"identifiers.tsv\"), sep='\\t', dtype=str) # imports 3rd file from the folder, based on name\n",
    "prokaryotes_auc : pd.DataFrame = pd.read_csv(os.path.join(path, \"data_prokaryotes_auc.csv\"), dtype=str)\n",
    "\n",
    "#import fasta file with biopython (Bio)\n",
    "from Bio import SeqIO\n",
    "fasta_id = []\n",
    "fasta_seq = []\n",
    "with open(os.path.join(path, \"identifiers.fasta\"), 'r') as handle:\n",
    "    for record in SeqIO.parse(handle, \"fasta\"): \n",
    "        fasta_id.append(record.id) \n",
    "        fasta_seq.append(str(record.seq))\n",
    "# Create df prot_seq which includes proper ID and sequences\n",
    "fasta_id_df = pd.DataFrame([item.split('|') for item in fasta_id], columns=['0', 'From','ID']) # creates a df by splitting fasta_id list into 3 columns\n",
    "fasta_id_EntryName:list = fasta_id_df['ID'] # creates a list with the Entry Names from the split df\n",
    "prot_seq = pd.DataFrame(list(zip(fasta_id_EntryName, fasta_seq)), columns = [\"ID\", \"Sequence\"]) # creates a df by combining the Entry Names and the Sequences\n",
    "\n",
    "\n",
    "\n",
    "#Define datatype for each column\n",
    "species['fold_change'] = species['fold_change'].astype('float64') # changes fold_change column to float64\n",
    "species['temperature'] = species['temperature'].astype('float64') # changes temperature column to int64\n",
    "identifiers['Length'] = identifiers['Length'].astype('float64') # changes Length column to int64\n",
    "\n",
    "#Update index\n",
    "species = species.reset_index(drop=True) # resets index of species df\n",
    "identifiers = identifiers.reset_index(drop=True) # resets index of identifiers df\n",
    "\n",
    "\n"
   ]
  },
  {
   "cell_type": "markdown",
   "metadata": {},
   "source": [
    "Add protein sequence from protein_seq dataset to identifiers to create identifiers_seq, based on 'ID' and 'Entry Name' respectively\n",
    "\n",
    "Create joint data set from identifiers_seq and species_seq based on gene_name and Gene Names1 respectively"
   ]
  },
  {
   "cell_type": "code",
   "execution_count": 27,
   "metadata": {},
   "outputs": [],
   "source": [
    "# merge dataframes based on Entry Name (df.identifiers) andID (df.prot_seq), if they are similar add the sequence to identifiers, if not add NaN\n",
    "identifiers_seq = identifiers.merge(prot_seq, how='left', left_on='Entry Name', right_on='ID')[identifiers.columns.tolist() + ['Sequence']] # merges identifiers and prot_seq on Entry Name and ID\n",
    "identifiers_seq.head()\n",
    "\n",
    "#merge species and identifiers_seq based on gene_name and Gene Names1\n",
    "identifiers_seq[['Gene Names1', 'Gene Names2']] = identifiers_seq['Gene Names'].str.split(expand = True, n=1) # splits the Gene Names column into 2 columns\n",
    "species_seq = pd.merge(left = species, right = identifiers_seq, how='outer', left_on='gene_name', right_on='Gene Names1') # merges species and identifiers_seq on gene_name and Gene Names1\n",
    "\n",
    "# drop entrys with no sequence and unnessecary columns\n",
    "species_seq.dropna(subset = ['Sequence'], inplace=True) # drops rows with NaN in the Sequence column\n",
    "species_seq = species_seq.drop(columns=['Gene Names1', 'Gene Names2'])"
   ]
  },
  {
   "cell_type": "markdown",
   "metadata": {},
   "source": [
    "Extract list of unique run_names from species and manually seperate in prokaryotes and eukaryotes. Create split datasets for eukaryotes and prokaryotes based on species_seq"
   ]
  },
  {
   "cell_type": "code",
   "execution_count": 28,
   "metadata": {},
   "outputs": [],
   "source": [
    "# Get a list of unique entries in the 'run_name' column\n",
    "#print(species['run_name'].unique())\n",
    "\n",
    "# Based on uniqe run names all entries split into eukaryotes and prokaryotes (manually)\n",
    "prokaryotes_list:list = ['Bacillus subtilis_168_lysate_R1', 'Escherichia coli lysate',\n",
    " 'Geobacillus stearothermophilus NCA26 lysate',\n",
    " 'Thermus thermophilus HB27 lysate', 'Thermus thermophilus HB27 cells',\n",
    " 'Escherichia coli cells', 'Picrophilus torridus DSM9790 lysate', 'Oleispira antarctica_RB-8_lysate_R1']\n",
    "\n",
    "#creates new dataframes that only contain prokaryotes or eukaryotes based\n",
    "prokaryotes_all = species_seq[species_seq['run_name'].isin(prokaryotes_list)]\n",
    "\n",
    "##reset index\n",
    "prokaryotes_all = prokaryotes_all.reset_index(drop=True) # resets index of species df"
   ]
  },
  {
   "cell_type": "code",
   "execution_count": 29,
   "metadata": {},
   "outputs": [
    {
     "data": {
      "text/plain": [
       "('Picrophilus torridus DSM790 lysate',)"
      ]
     },
     "execution_count": 29,
     "metadata": {},
     "output_type": "execute_result"
    }
   ],
   "source": [
    "prokaryotes_all_list = [\n",
    "    'Thermus thermophilus HB27 lysate',                 #\n",
    "    'Thermus thermophilus HB27 cells',                  #\n",
    "    'Picrophilus torridus DSM9790 lysate',              #\n",
    "    'Bacillus subtilis_168_lysate_R1',                  #\n",
    "    'Escherichia coli lysate',                          #\n",
    "    'Escherichia coli cells',                           #\n",
    "    'Geobacillus stearothermophilus NCA26 lysate',\n",
    "    'Oleispira antarctica_RB-8_lysate_R1'\n",
    "    ]\n",
    "\n",
    "prokaryotes_auc_list = [\n",
    "    'T.thermophilus_P023431',                          # Thermus thermophilus HB27 lysate\n",
    "    'T.thermophilus_cells_P023757',                     # Thermus thermophilus HB27 cells\n",
    "    'P.torridus_P023430',                               # Picrophilus torridus DSM9790 lysate\n",
    "    'B.subtilis_P023755',                               # Bacillus subtilis_168_lysate_R1                                                   \n",
    "    'E.coli_cells_P023756',                             # Escherichia coli lysate\n",
    "    'E.coli_P023428',                                   # Escherichia coli cells\n",
    "    'G.stearothermophilus_P023429',                     # Geobacillus stearothermophilus NCA26 lysate\n",
    "    'O.antarctica_P028248',                             # Oleispira antarctica_RB-8_lysate_R1  \n",
    "]\n",
    "# E.coli_ArcticExpress_P028249 not included\n",
    "\n",
    "#Prokaryotes from R-shiny (https://meltomeatlas.proteomics.wzw.tum.de/master_meltomeatlasapp/)\n",
    "'Escherichia coli lysate', \n",
    "'Escherichia coli cells', \n",
    "'Geobacillus stearothermophilus NCA26 lysate',\n",
    "'Thermus thermophilus HB27 lysate',\n",
    "'Thermus thermophilus HB27 cells',\n",
    "'Picrophilus torridus DSM790 lysate',"
   ]
  },
  {
   "cell_type": "markdown",
   "metadata": {},
   "source": [
    "Adjust organism name in prokaryotes_auc to match names from prokaryotes_all"
   ]
  },
  {
   "cell_type": "code",
   "execution_count": 30,
   "metadata": {},
   "outputs": [],
   "source": [
    "prokaryotes_auc['Sample'] = prokaryotes_auc['Sample'].replace(dict(zip(prokaryotes_auc_list, prokaryotes_all_list)))\n",
    "\n",
    "#remove E.coli_ArcticExpress_P028249\n",
    "prokaryotes_auc = prokaryotes_auc[prokaryotes_auc['Sample'] != 'E.coli_ArcticExpress_P028249']"
   ]
  },
  {
   "cell_type": "markdown",
   "metadata": {},
   "source": [
    "Combine prokaryotes_all dataframe with prokaryotes_auc"
   ]
  },
  {
   "cell_type": "code",
   "execution_count": 31,
   "metadata": {},
   "outputs": [],
   "source": [
    "prokaryotes_all['run_name_Protein_ID'] = prokaryotes_all['run_name'] + prokaryotes_all['Protein_ID']\n",
    "prokaryotes_auc['Sample_Protein_ID'] = prokaryotes_auc['Sample'] + prokaryotes_auc['Protein_ID']\n",
    "\n",
    "prokaryotes_all = pd.merge(left = prokaryotes_all, right = prokaryotes_auc , how='left', left_on='run_name_Protein_ID', right_on='Sample_Protein_ID') # merges species and identifiers_seq on gene_name and Gene Names1\n"
   ]
  },
  {
   "cell_type": "markdown",
   "metadata": {},
   "source": [
    "drop unessesary columns"
   ]
  },
  {
   "cell_type": "code",
   "execution_count": 32,
   "metadata": {},
   "outputs": [],
   "source": [
    "#drop columns\n",
    "col_drop = ['Reviewed', 'run_name_Protein_ID', 'channel', 'From', 'Protein_ID_y',\n",
    "            'Proteinname_P023428_E.coli', 'meltPoint_P023428_E.coli', 'gene_name_y',\n",
    "            'Sample_Protein_ID', 'Sample', 'Entry', 'Gene Names']\n",
    "for n in range(len(col_drop)):\n",
    "    if col_drop[n] in list(prokaryotes_all.columns):\n",
    "        prokaryotes_all = prokaryotes_all.drop(columns=[col_drop[n]])\n",
    "\n",
    "#rename columns\n",
    "prokaryotes_all = prokaryotes_all.rename(columns={'Protein_ID_x': 'Protein_ID'})\n",
    "prokaryotes_all = prokaryotes_all.rename(columns={'gene_name_x': 'gene_name'})\n",
    "\n",
    "#define variable\n",
    "prokaryotes_all = prokaryotes_all.astype({'auc': 'float64'})\n",
    "\n",
    "#drop all columns without auc\n",
    "prokaryotes_all = prokaryotes_all.dropna(subset = ['auc'])"
   ]
  },
  {
   "cell_type": "markdown",
   "metadata": {},
   "source": [
    "Re-order dataframe columns"
   ]
  },
  {
   "cell_type": "code",
   "execution_count": 33,
   "metadata": {},
   "outputs": [],
   "source": [
    "columns_ordered =['run_name', 'Organism', 'Protein_ID','uniprot_ac' ,'Entry Name' ,'gene_name', \n",
    " 'Protein names',  'Gene Ontology (biological process)', 'Gene Ontology (cellular component)', \n",
    " 'Gene Ontology (molecular function)', 'Temperature dependence', 'Length', 'Sequence', \n",
    " 'temperature', 'fold_change', 'meltPoint', 'auc']\n",
    "\n",
    "prokaryotes_all = prokaryotes_all[columns_ordered]"
   ]
  },
  {
   "cell_type": "markdown",
   "metadata": {},
   "source": [
    "Create a list of each unique protein for each organism"
   ]
  },
  {
   "cell_type": "code",
   "execution_count": 34,
   "metadata": {},
   "outputs": [],
   "source": [
    "# prokaryotes\n",
    "prokaryotes = prokaryotes_all.drop_duplicates(subset=['run_name', 'Protein_ID'], keep='first') #create new dataframe with only unique proteins\n",
    "prokaryotes = prokaryotes.reset_index(drop=True) #reset index\n",
    "\n",
    "# define meltpoint as float64\n",
    "prokaryotes['meltPoint'] = prokaryotes['meltPoint'].astype('float64') # changes meltpoint column to float64\n",
    "prokaryotes['temperature'] = prokaryotes['temperature'].astype('float64')\n",
    "prokaryotes['fold_change'] = prokaryotes['fold_change'].astype('float64')\n",
    "prokaryotes['Length'] = prokaryotes['Length'].astype('float64')\n",
    "prokaryotes['auc'] = prokaryotes['auc'].astype('float64')"
   ]
  },
  {
   "cell_type": "code",
   "execution_count": 41,
   "metadata": {},
   "outputs": [
    {
     "data": {
      "text/plain": [
       "<function print(*args, sep=' ', end='\\n', file=None, flush=False)>"
      ]
     },
     "execution_count": 41,
     "metadata": {},
     "output_type": "execute_result"
    }
   ],
   "source": [
    "prokaryotes_all.to_csv(os.path.join(path,'prokaryotes_all.csv'), index=False)\n",
    "prokaryotes.to_csv(os.path.join(path,'prokaryotes_unique_prot.csv'), index=False)\n",
    "\n",
    "print"
   ]
  }
 ],
 "metadata": {
  "kernelspec": {
   "display_name": "Python 3",
   "language": "python",
   "name": "python3"
  },
  "language_info": {
   "codemirror_mode": {
    "name": "ipython",
    "version": 3
   },
   "file_extension": ".py",
   "mimetype": "text/x-python",
   "name": "python",
   "nbconvert_exporter": "python",
   "pygments_lexer": "ipython3",
   "version": "3.12.3"
  }
 },
 "nbformat": 4,
 "nbformat_minor": 2
}
