{
 "cells": [
  {
   "cell_type": "code",
   "execution_count": 1,
   "metadata": {},
   "outputs": [],
   "source": [
    "import numpy as np\n",
    "import pandas as pd\n",
    "import os\n",
    "import seaborn as sns\n",
    "import matplotlib.pyplot as plt\n",
    "import Bio\n",
    "import statsmodels.api as sm\n",
    "import re"
   ]
  },
  {
   "cell_type": "code",
   "execution_count": 42,
   "metadata": {},
   "outputs": [],
   "source": [
    "path: str = f\"{os.path.abspath(os.path.join(os.getcwd(), '..'))}/data\" #folder where files are stored\n",
    "path2 = f\"{os.path.abspath(os.path.join(os.getcwd(), '..'))}\\data\\pdbs\"\n",
    "prokaryotes: pd.DataFrame = pd.read_csv(os.path.join(path, \"prokaryotes_unique_prot.csv\"), dtype=str)   "
   ]
  },
  {
   "cell_type": "code",
   "execution_count": 31,
   "metadata": {},
   "outputs": [],
   "source": [
    "prokaryotes2 = prokaryotes.dropna(subset=['AlphaFoldDB'])\n",
    "tzui = []\n",
    "for m in range(len(prokaryotes2)):\n",
    "    if pd.isnull(prokaryotes.iloc[m,23]) == True:\n",
    "        tzui.append(m)\n",
    "prokaryotes3 = prokaryotes2.iloc[tzui,:]"
   ]
  },
  {
   "cell_type": "code",
   "execution_count": 32,
   "metadata": {},
   "outputs": [
    {
     "name": "stderr",
     "output_type": "stream",
     "text": [
      "C:\\Users\\tobia\\AppData\\Local\\Temp\\ipykernel_3764\\3057977513.py:4: SettingWithCopyWarning: \n",
      "A value is trying to be set on a copy of a slice from a DataFrame\n",
      "\n",
      "See the caveats in the documentation: https://pandas.pydata.org/pandas-docs/stable/user_guide/indexing.html#returning-a-view-versus-a-copy\n",
      "  inp[i] = inp[i].replace(';','')\n",
      "C:\\Users\\tobia\\AppData\\Local\\Temp\\ipykernel_3764\\3057977513.py:5: SettingWithCopyWarning: \n",
      "A value is trying to be set on a copy of a slice from a DataFrame\n",
      "\n",
      "See the caveats in the documentation: https://pandas.pydata.org/pandas-docs/stable/user_guide/indexing.html#returning-a-view-versus-a-copy\n",
      "  inp[i] = f'AF-{inp[i]}-F1'\n"
     ]
    }
   ],
   "source": [
    "inp = prokaryotes3['AlphaFoldDB']\n",
    "inp.reset_index(drop=True, inplace=True)\n",
    "for i in range(len(inp)):\n",
    "    inp[i] = inp[i].replace(';','')\n",
    "    inp[i] = f'AF-{inp[i]}-F1'\n"
   ]
  },
  {
   "cell_type": "code",
   "execution_count": 86,
   "metadata": {},
   "outputs": [],
   "source": [
    "database_version = 'v4'\n",
    "base_dir = os.path.abspath(os.path.join(os.getcwd(), \"..\"))\n",
    "target_dir = os.path.join(base_dir, 'data', 'pdbs')\n",
    "os.makedirs(target_dir, exist_ok=True)"
   ]
  },
  {
   "cell_type": "code",
   "execution_count": 85,
   "metadata": {},
   "outputs": [],
   "source": [
    "for o in range(len(inp)):\n",
    "    alphafold_ID = inp[o]\n",
    "    path_finalpdb = os.path.join(target_dir, f'{alphafold_ID}.pdb')\n",
    "    url = f'https://alphafold.ebi.ac.uk/files/{alphafold_ID}-model_{database_version}.pdb' \n",
    "    error_url = f'https://alphafold.ebi.ac.uk/files/{alphafold_ID}-predicted_aligned_error_{database_version}.json'\n",
    "    os.system(f'curl {url} -o \"{path_finalpdb}\"')"
   ]
  }
 ],
 "metadata": {
  "kernelspec": {
   "display_name": "Python 3",
   "language": "python",
   "name": "python3"
  },
  "language_info": {
   "codemirror_mode": {
    "name": "ipython",
    "version": 3
   },
   "file_extension": ".py",
   "mimetype": "text/x-python",
   "name": "python",
   "nbconvert_exporter": "python",
   "pygments_lexer": "ipython3",
   "version": "3.11.4"
  }
 },
 "nbformat": 4,
 "nbformat_minor": 2
}
