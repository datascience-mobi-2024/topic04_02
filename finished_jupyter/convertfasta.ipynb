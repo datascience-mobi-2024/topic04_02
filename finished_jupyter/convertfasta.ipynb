{
 "cells": [
  {
   "cell_type": "code",
   "execution_count": 1,
   "metadata": {},
   "outputs": [
    {
     "name": "stdout",
     "output_type": "stream",
     "text": [
      "FASTA file created successfully.\n"
     ]
    }
   ],
   "source": [
    "# Define the entry name and the amino acid sequence\n",
    "entry_name = \"example_protein\"\n",
    "amino_acid_sequence = \"MENSDSPELENADENLQLSRAEPKNSPQQTNVFGFQFNSS\"\n",
    "\n",
    "# Create the FASTA formatted string\n",
    "fasta_content = f\">{entry_name}\\n{amino_acid_sequence}\\n\"\n",
    "\n",
    "# Write the FASTA string to a file\n",
    "with open('./data/fastas/example.fasta', \"w\") as fasta_file:\n",
    "    fasta_file.write(fasta_content)\n",
    "\n",
    "print(\"FASTA file created successfully.\")"
   ]
  },
  {
   "cell_type": "code",
   "execution_count": 2,
   "metadata": {},
   "outputs": [],
   "source": [
    "import numpy as np\n",
    "import pandas as pd\n",
    "import os\n",
    "import Bio"
   ]
  },
  {
   "cell_type": "code",
   "execution_count": 4,
   "metadata": {},
   "outputs": [],
   "source": [
    "path: str = './data/' #folder where files are stored\n",
    "prokaryotes: pd.DataFrame = pd.read_csv(os.path.join(path, \"prokaryotes_unique_prot.csv\"), dtype=str)   "
   ]
  },
  {
   "cell_type": "code",
   "execution_count": 5,
   "metadata": {},
   "outputs": [],
   "source": [
    "for n in range(len(prokaryotes)):\n",
    "    entryname = prokaryotes.loc[n, 'Entry Name']\n",
    "    seq = prokaryotes.loc[n, 'Sequence']\n",
    "    fastacontent = f\">{entryname}\\n{seq}\\n\"\n",
    "    with open(f'./data/fastas/{entryname}.fasta', \"w\") as fasta_file:\n",
    "        fasta_file.write(fastacontent)"
   ]
  },
  {
   "cell_type": "code",
   "execution_count": 6,
   "metadata": {},
   "outputs": [],
   "source": [
    "godstring = ''\n",
    "for n in range(len(prokaryotes)):\n",
    "    entryname = prokaryotes.loc[n, 'Entry Name']\n",
    "    seq = prokaryotes.loc[n, 'Sequence']\n",
    "    godstring = godstring + f\">{entryname}\\n{seq}\\n\""
   ]
  },
  {
   "cell_type": "code",
   "execution_count": 7,
   "metadata": {},
   "outputs": [],
   "source": [
    "with open(f'./data/fastas/maxitobi.fasta', \"w\") as fasta_file:\n",
    "    fasta_file.write(godstring)"
   ]
  },
  {
   "cell_type": "code",
   "execution_count": 9,
   "metadata": {},
   "outputs": [
    {
     "name": "stdout",
     "output_type": "stream",
     "text": [
      "12500\n"
     ]
    }
   ],
   "source": [
    "print(godstring.count('>'))"
   ]
  }
 ],
 "metadata": {
  "kernelspec": {
   "display_name": "Python 3",
   "language": "python",
   "name": "python3"
  },
  "language_info": {
   "codemirror_mode": {
    "name": "ipython",
    "version": 3
   },
   "file_extension": ".py",
   "mimetype": "text/x-python",
   "name": "python",
   "nbconvert_exporter": "python",
   "pygments_lexer": "ipython3",
   "version": "3.11.4"
  }
 },
 "nbformat": 4,
 "nbformat_minor": 2
}
