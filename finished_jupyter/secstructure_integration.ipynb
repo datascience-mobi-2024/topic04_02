{
 "cells": [
  {
   "cell_type": "code",
   "execution_count": 4,
   "metadata": {},
   "outputs": [],
   "source": [
    "import numpy as np\n",
    "import pandas as pd\n",
    "import os\n",
    "import Bio\n",
    "import re\n"
   ]
  },
  {
   "cell_type": "markdown",
   "metadata": {},
   "source": [
    "Read fasta file with all secondary structure data from s4pred"
   ]
  },
  {
   "cell_type": "code",
   "execution_count": 5,
   "metadata": {},
   "outputs": [],
   "source": [
    "path2: str = f\"{os.path.abspath(os.path.join(os.getcwd(), '..'))}/data/sec-structure_prediction.fas\"\n",
    "with open(path2, 'r') as file:\n",
    "    content = file.read()"
   ]
  },
  {
   "cell_type": "markdown",
   "metadata": {},
   "source": [
    "Create list with secondary structure data for all proteins"
   ]
  },
  {
   "cell_type": "code",
   "execution_count": 6,
   "metadata": {},
   "outputs": [
    {
     "data": {
      "text/plain": [
       "''"
      ]
     },
     "execution_count": 6,
     "metadata": {},
     "output_type": "execute_result"
    }
   ],
   "source": [
    "contentl=content.split('#')\n",
    "contentl.pop(0)"
   ]
  },
  {
   "cell_type": "markdown",
   "metadata": {},
   "source": [
    "Import prokaryotes dataframe from csv and add columns for secondary structure"
   ]
  },
  {
   "cell_type": "code",
   "execution_count": 7,
   "metadata": {},
   "outputs": [],
   "source": [
    "path: str = f\"{os.path.abspath(os.path.join(os.getcwd(), '..'))}/data\"\n",
    "prokaryotes: pd.DataFrame = pd.read_csv(os.path.join(path, \"prokaryotes_unique_prot.csv\"), dtype=str)"
   ]
  },
  {
   "cell_type": "code",
   "execution_count": 8,
   "metadata": {},
   "outputs": [],
   "source": [
    "prokaryotes['Helix1']=pd.Series(dtype=object)\n",
    "prokaryotes['Turn1']=pd.Series(dtype=object)\n",
    "prokaryotes['Sheet1']=pd.Series(dtype=object)\n",
    "prokaryotes['Helix2']=pd.Series(dtype=object)\n",
    "prokaryotes['Coil2']=pd.Series(dtype=object)\n",
    "prokaryotes['Sheet2']=pd.Series(dtype=object)"
   ]
  },
  {
   "cell_type": "markdown",
   "metadata": {},
   "source": [
    "Adding columns with secondary structure as lists of lists **(only ones from crystal structure)**"
   ]
  },
  {
   "cell_type": "code",
   "execution_count": 9,
   "metadata": {},
   "outputs": [],
   "source": [
    "#regex patterns for following steps\n",
    "pattern = r'\\b\\d+\\.\\.\\d+\\b'\n",
    "pattern2 = r'\\b\\d+\\b'\n",
    "#filling helix1 column\n",
    "for q in range(len(prokaryotes)):\n",
    "    templist = []\n",
    "    if pd.isnull(prokaryotes.loc[q, 'Helix']) == False:\n",
    "        tempt = re.findall(pattern, prokaryotes.loc[q, 'Helix'])\n",
    "        for m in range(len(tempt)):    \n",
    "            tempt2 = re.findall(pattern2, tempt[m])\n",
    "            tempt2 = list(map(int, tempt2))\n",
    "            templist.append(list(range(tempt2[0], tempt2[1]+1)))\n",
    "        prokaryotes.at[q,'Helix1'] = templist\n",
    "    else: \n",
    "        prokaryotes.at[q, 'Helix1'] = np.NaN\n",
    "#filling Turn1 column\n",
    "for w in range(len(prokaryotes)):\n",
    "    templist = []\n",
    "    if pd.isnull(prokaryotes.loc[w, 'Turn']) == False:\n",
    "        tempt = re.findall(pattern, prokaryotes.loc[w, 'Turn'])\n",
    "        for m in range(len(tempt)):    \n",
    "            tempt2 = re.findall(pattern2, tempt[m])\n",
    "            tempt2 = list(map(int, tempt2))\n",
    "            templist.append(list(range(tempt2[0], tempt2[1]+1)))\n",
    "        prokaryotes.at[w,'Turn1'] = templist\n",
    "    else: \n",
    "        prokaryotes.at[w, 'Turn1'] = np.NaN\n",
    "#filling Sheet1 column\n",
    "for w in range(len(prokaryotes)):\n",
    "    templist = []\n",
    "    if pd.isnull(prokaryotes.loc[w, 'Beta strand']) == False:\n",
    "        tempt = re.findall(pattern, prokaryotes.loc[w, 'Beta strand'])\n",
    "        for m in range(len(tempt)):    \n",
    "            tempt2 = re.findall(pattern2, tempt[m])\n",
    "            tempt2 = list(map(int, tempt2))\n",
    "            templist.append(list(range(tempt2[0], tempt2[1]+1)))\n",
    "        prokaryotes.at[w,'Sheet1'] = templist\n",
    "    else: \n",
    "        prokaryotes.at[w, 'Sheet1'] = np.NaN"
   ]
  },
  {
   "cell_type": "markdown",
   "metadata": {},
   "source": [
    "Adding columns with secondary structure from S4pred predictions for **all** proteins"
   ]
  },
  {
   "cell_type": "code",
   "execution_count": 10,
   "metadata": {},
   "outputs": [],
   "source": [
    "for n in range(len(contentl)):\n",
    "    pat = r'\\d+\\s\\w\\s\\w'\n",
    "    patl = re.findall(pat, contentl[n])\n",
    "    for p in range(len(patl)):\n",
    "        patl[p] = patl[p].split(' ')\n",
    "    helic = []\n",
    "    sheet = []\n",
    "    coil = []\n",
    "    for k in range(len(patl)):\n",
    "        if patl[k][2] == 'H':\n",
    "            helic.append(int(patl[k][0]))\n",
    "        elif patl[k][2] == 'E':\n",
    "            sheet.append(int(patl[k][0]))\n",
    "        elif patl[k][2] == 'C':\n",
    "            coil.append(int(patl[k][0]))\n",
    "    helices = []\n",
    "    sheets = []\n",
    "    coils = []\n",
    "    for val in helic:\n",
    "        if val-1 not in helic:\n",
    "            lower = val\n",
    "        if val+1 not in helic:\n",
    "            upper = val\n",
    "            helices.append(list(range(lower,upper+1)))\n",
    "    for coi in coil:\n",
    "        if coi-1 not in coil:\n",
    "            lower = coi\n",
    "        if coi+1 not in coil:\n",
    "            upper = coi\n",
    "            coils.append(list(range(lower,upper+1)))\n",
    "    for she in sheet:\n",
    "        if she-1 not in sheet:\n",
    "            lower = she\n",
    "        if she+1 not in sheet:\n",
    "            upper = she\n",
    "            sheets.append(list(range(lower,upper+1)))\n",
    "    prokaryotes.at[n, 'Helix2'] = helices\n",
    "    prokaryotes.at[n, 'Coil2'] = coils\n",
    "    prokaryotes.at[n, 'Sheet2'] = sheets"
   ]
  },
  {
   "cell_type": "code",
   "execution_count": 12,
   "metadata": {},
   "outputs": [],
   "source": [
    "prokaryotes.to_csv(os.path.join(path,'prokaryotes_sec_structure.csv'), index=False)"
   ]
  }
 ],
 "metadata": {
  "kernelspec": {
   "display_name": "Python 3",
   "language": "python",
   "name": "python3"
  },
  "language_info": {
   "codemirror_mode": {
    "name": "ipython",
    "version": 3
   },
   "file_extension": ".py",
   "mimetype": "text/x-python",
   "name": "python",
   "nbconvert_exporter": "python",
   "pygments_lexer": "ipython3",
   "version": "3.11.4"
  }
 },
 "nbformat": 4,
 "nbformat_minor": 2
}
