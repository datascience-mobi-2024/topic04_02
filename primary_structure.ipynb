{
 "cells": [
  {
   "cell_type": "code",
   "execution_count": 2,
   "metadata": {},
   "outputs": [],
   "source": [
    "# import packages\n",
    "import numpy as np\n",
    "import pandas as pd\n",
    "import os\n",
    "import seaborn as sns\n",
    "import matplotlib.pyplot as plt\n",
    "import Bio\n",
    "import statsmodels.api as sm\n",
    "from pathlib import Path"
   ]
  },
  {
   "cell_type": "markdown",
   "metadata": {},
   "source": [
    "Import cleaned data"
   ]
  },
  {
   "cell_type": "code",
   "execution_count": 3,
   "metadata": {},
   "outputs": [],
   "source": [
    "path: str = './data/' #folder where files are stored\n",
    "prokaryotes: pd.DataFrame = pd.read_csv(os.path.join(path, \"prokaryotes_unique_prot.csv\"), dtype=str)   \n",
    "prokaryotes_all: pd.DataFrame = pd.read_csv(os.path.join(path, \"prokaryotes_all.csv\"), dtype=str)"
   ]
  },
  {
   "cell_type": "markdown",
   "metadata": {},
   "source": [
    "import Amino acid list"
   ]
  },
  {
   "cell_type": "code",
   "execution_count": 4,
   "metadata": {},
   "outputs": [],
   "source": [
    "\n",
    "%run ./Aminoacid_lists.py"
   ]
  },
  {
   "cell_type": "markdown",
   "metadata": {},
   "source": [
    "calculate and append amino acid and property counts onto prokaryotes"
   ]
  },
  {
   "cell_type": "code",
   "execution_count": 5,
   "metadata": {},
   "outputs": [],
   "source": [
    "from function import rel_aa_comp \n",
    "prokaryotes['hydrophobic'] = prokaryotes['Sequence'].apply(lambda x: rel_aa_comp(x, AA_hydrophobic)) # calculates relative amino acid composition of hydrophobic amino acids\n",
    "prokaryotes['polar_neutral'] = prokaryotes['Sequence'].apply(lambda x: rel_aa_comp(x, AA_polar_neutral)) # calculates relative amino acid composition of polar neutral amino acids\n",
    "prokaryotes['acidic'] = prokaryotes['Sequence'].apply(lambda x: rel_aa_comp(x, AA_acidic)) # calculates relative amino acid composition of acidic amino acids\n",
    "prokaryotes['basic'] = prokaryotes['Sequence'].apply(lambda x: rel_aa_comp(x, AA_basic)) # calculates relative amino acid composition of basic amino acids\n",
    "\n",
    "for i in range(len(AA_list)):\n",
    "    prokaryotes[str(AA_list[i])] = prokaryotes['Sequence'].apply(lambda x: rel_aa_comp(x, [str(AA_list[i])])) # calculates relative protein abundance\n"
   ]
  },
  {
   "cell_type": "markdown",
   "metadata": {},
   "source": [
    "sort dataframe according to meltpoint and auc"
   ]
  },
  {
   "cell_type": "code",
   "execution_count": 6,
   "metadata": {},
   "outputs": [],
   "source": [
    "prokaryotes_temp_m = prokaryotes.sort_values('meltPoint',ascending = False,na_position=\"first\")\n",
    "#prokaryotes.rank(axis=0, method: 'first',)\n",
    "\n",
    "prokaryotes_temp_a = prokaryotes.sort_values('auc',ascending = False,na_position=\"first\")"
   ]
  },
  {
   "cell_type": "markdown",
   "metadata": {},
   "source": [
    "remove NaN from meltpoint"
   ]
  },
  {
   "cell_type": "code",
   "execution_count": 7,
   "metadata": {},
   "outputs": [],
   "source": [
    "prokaryotes_temp_NaN = prokaryotes_temp_m.dropna(subset='meltPoint')\n"
   ]
  },
  {
   "cell_type": "markdown",
   "metadata": {},
   "source": [
    "select top 10 and bottom 10 percentiles"
   ]
  },
  {
   "cell_type": "code",
   "execution_count": 36,
   "metadata": {},
   "outputs": [
    {
     "name": "stderr",
     "output_type": "stream",
     "text": [
      "/var/folders/pm/vzcy9py91xzg_z5d80js6mtc0000gn/T/ipykernel_27772/2973075992.py:4: SettingWithCopyWarning: \n",
      "A value is trying to be set on a copy of a slice from a DataFrame.\n",
      "Try using .loc[row_indexer,col_indexer] = value instead\n",
      "\n",
      "See the caveats in the documentation: https://pandas.pydata.org/pandas-docs/stable/user_guide/indexing.html#returning-a-view-versus-a-copy\n",
      "  prokaryote_top_10['meltPoint'] = prokaryote_top_10['meltPoint'].astype(float)\n",
      "/var/folders/pm/vzcy9py91xzg_z5d80js6mtc0000gn/T/ipykernel_27772/2973075992.py:5: SettingWithCopyWarning: \n",
      "A value is trying to be set on a copy of a slice from a DataFrame.\n",
      "Try using .loc[row_indexer,col_indexer] = value instead\n",
      "\n",
      "See the caveats in the documentation: https://pandas.pydata.org/pandas-docs/stable/user_guide/indexing.html#returning-a-view-versus-a-copy\n",
      "  prokaryote_bottom_10['meltPoint'] = prokaryote_bottom_10['meltPoint'].astype(float)\n",
      "/var/folders/pm/vzcy9py91xzg_z5d80js6mtc0000gn/T/ipykernel_27772/2973075992.py:7: SettingWithCopyWarning: \n",
      "A value is trying to be set on a copy of a slice from a DataFrame.\n",
      "Try using .loc[row_indexer,col_indexer] = value instead\n",
      "\n",
      "See the caveats in the documentation: https://pandas.pydata.org/pandas-docs/stable/user_guide/indexing.html#returning-a-view-versus-a-copy\n",
      "  prokaryote_top_10['auc'] = prokaryote_top_10['auc'].astype(float)\n",
      "/var/folders/pm/vzcy9py91xzg_z5d80js6mtc0000gn/T/ipykernel_27772/2973075992.py:8: SettingWithCopyWarning: \n",
      "A value is trying to be set on a copy of a slice from a DataFrame.\n",
      "Try using .loc[row_indexer,col_indexer] = value instead\n",
      "\n",
      "See the caveats in the documentation: https://pandas.pydata.org/pandas-docs/stable/user_guide/indexing.html#returning-a-view-versus-a-copy\n",
      "  prokaryote_bottom_10['auc'] = prokaryote_bottom_10['auc'].astype(float)\n",
      "/var/folders/pm/vzcy9py91xzg_z5d80js6mtc0000gn/T/ipykernel_27772/2973075992.py:10: SettingWithCopyWarning: \n",
      "A value is trying to be set on a copy of a slice from a DataFrame.\n",
      "Try using .loc[row_indexer,col_indexer] = value instead\n",
      "\n",
      "See the caveats in the documentation: https://pandas.pydata.org/pandas-docs/stable/user_guide/indexing.html#returning-a-view-versus-a-copy\n",
      "  prokaryote_top_10['temperature'] = prokaryote_top_10['temperature'].astype(float)\n",
      "/var/folders/pm/vzcy9py91xzg_z5d80js6mtc0000gn/T/ipykernel_27772/2973075992.py:11: SettingWithCopyWarning: \n",
      "A value is trying to be set on a copy of a slice from a DataFrame.\n",
      "Try using .loc[row_indexer,col_indexer] = value instead\n",
      "\n",
      "See the caveats in the documentation: https://pandas.pydata.org/pandas-docs/stable/user_guide/indexing.html#returning-a-view-versus-a-copy\n",
      "  prokaryote_bottom_10['temperature'] = prokaryote_bottom_10['temperature'].astype(float)\n"
     ]
    }
   ],
   "source": [
    "prokaryote_top_10 = prokaryotes_temp_NaN.iloc[0:944,:]\n",
    "prokaryote_bottom_10 = prokaryotes_temp_NaN.iloc[8492:9436,:]\n",
    "\n",
    "prokaryote_top_10['meltPoint'] = prokaryote_top_10['meltPoint'].astype(float)\n",
    "prokaryote_bottom_10['meltPoint'] = prokaryote_bottom_10['meltPoint'].astype(float)\n",
    "\n",
    "prokaryote_top_10['auc'] = prokaryote_top_10['auc'].astype(float)\n",
    "prokaryote_bottom_10['auc'] = prokaryote_bottom_10['auc'].astype(float)\n",
    "\n",
    "prokaryote_top_10['temperature'] = prokaryote_top_10['temperature'].astype(float)\n",
    "prokaryote_bottom_10['temperature'] = prokaryote_bottom_10['temperature'].astype(float)"
   ]
  },
  {
   "cell_type": "markdown",
   "metadata": {},
   "source": [
    "calculate correlation of amino acid content between top 10 and bottow 10 meltpoins"
   ]
  },
  {
   "cell_type": "code",
   "execution_count": 40,
   "metadata": {},
   "outputs": [],
   "source": [
    "\n",
    "prokt_10_corr = prokaryote_top_10.corr('pearson', numeric_only=True)\n",
    "prokb_10_corr = prokaryote_bottom_10.corr('pearson', numeric_only=True)\n"
   ]
  },
  {
   "cell_type": "markdown",
   "metadata": {},
   "source": [
    "plotting the correlation"
   ]
  },
  {
   "cell_type": "code",
   "execution_count": 44,
   "metadata": {},
   "outputs": [
    {
     "data": {
      "image/png": "[encoded data removed]",
      "text/plain": [
       "<Figure size 640x480 with 1 Axes>"
      ]
     },
     "metadata": {},
     "output_type": "display_data"
    }
   ],
   "source": [
    "sns.barplot(data= prokt_10_corr, y= 'meltPoint', x = prokt_10_corr.columns)\n",
    "sns.barplot(data= prokb_10_corr, y= 'meltPoint', x = prokt_10_corr.columns)\n",
    "plt.xticks(rotation = 90)\n",
    "plt.show()"
   ]
  }
 ],
 "metadata": {
  "kernelspec": {
   "display_name": "Python 3",
   "language": "python",
   "name": "python3"
  },
  "language_info": {
   "codemirror_mode": {
    "name": "ipython",
    "version": 3
   },
   "file_extension": ".py",
   "mimetype": "text/x-python",
   "name": "python",
   "nbconvert_exporter": "python",
   "pygments_lexer": "ipython3",
   "version": "3.12.3"
  }
 },
 "nbformat": 4,
 "nbformat_minor": 2
}
