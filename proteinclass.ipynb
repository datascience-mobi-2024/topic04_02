{
 "cells": [
  {
   "cell_type": "code",
   "execution_count": 1,
   "metadata": {},
   "outputs": [],
   "source": [
    "class Protein:\n",
    "    import os\n",
    "    PDB = None\n",
    "    def __init__(self, seq:str, dpath = os.path.abspath('./data/fastas'), S4path = os.path.abspath('./data/s4pred')):\n",
    "        from SPARC import SPARC\n",
    "        self.sequence = seq.upper()\n",
    "        result = SPARC(self.sequence, 'placeholder', dpath, S4path)\n",
    "        self.SPARC = result[0]\n",
    "        self.features = result[1]\n",
    "        self.features_scaled = result[2]\n",
    "        self.features_pca = result[3]\n",
    "        for i in self.features.index:\n",
    "            setattr(self, i, self.features[i])\n",
    "    def __str__(self):\n",
    "        return f\"Protein with predicted melting point of {str(self.SPARC).strip('[]')} °C\""
   ]
  },
  {
   "cell_type": "code",
   "execution_count": 3,
   "metadata": {},
   "outputs": [],
   "source": [
    "qwer = Protein('QWEREWQCVNMGFDERTIPCVLKHDFAQYC')"
   ]
  }
 ],
 "metadata": {
  "kernelspec": {
   "display_name": "Python 3",
   "language": "python",
   "name": "python3"
  },
  "language_info": {
   "codemirror_mode": {
    "name": "ipython",
    "version": 3
   },
   "file_extension": ".py",
   "mimetype": "text/x-python",
   "name": "python",
   "nbconvert_exporter": "python",
   "pygments_lexer": "ipython3",
   "version": "3.12.4"
  }
 },
 "nbformat": 4,
 "nbformat_minor": 2
}
