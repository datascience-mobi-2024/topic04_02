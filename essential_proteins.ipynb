{
 "cells": [
  {
   "cell_type": "code",
   "execution_count": 1,
   "metadata": {},
   "outputs": [],
   "source": [
    "# import packages and data\n",
    "import numpy as np\n",
    "import pandas as pd\n",
    "import os\n",
    "import seaborn as sns\n",
    "import Bio\n",
    "import matplotlib.pyplot as plt\n",
    "import ast\n",
    "import scipy.stats as stats\n",
    "from scipy.optimize import curve_fit\n",
    "import pickle\n",
    "import numpy as np\n",
    "from scipy.stats import wilcoxon\n",
    "\n",
    "path: str = './data/'\n",
    "prokaryotes_all: pd.DataFrame = pd.read_csv(os.path.join(path, \"prokaryotes_all.csv\"), dtype=str)\n",
    "prokaryotes_values: pd.DataFrame = pd.read_csv(os.path.join(path, \"prokaryotes_funct.csv\"), dtype=str)\n",
    "prokaryotes_lysate: pd.DataFrame = pd.read_csv(os.path.join(path, \"prokaryotes_322columns.csv\"))\n",
    "\n",
    "prokaryotes_values['a_point'] = prokaryotes_values['a_point'].astype('float64')\n",
    "prokaryotes_values['b_point'] = prokaryotes_values['b_point'].astype('float64')\n",
    "prokaryotes_values['plateau'] = prokaryotes_values['plateau'].astype('float64')\n",
    "prokaryotes_values['meltPoint'] = prokaryotes_values['meltPoint'].astype('float64')\n",
    "\n",
    "mutated_proteins: pd.DataFrame = pd.read_csv(os.path.join(path, \"Essential_proteins_prediction_merged.csv\"), dtype=str)\n",
    "mutated_proteins['meltPoint_x'] = mutated_proteins['meltPoint_x'].astype('float64')\n",
    "mutated_proteins['WT_prediction'] = mutated_proteins['WT_prediction'].astype('float64')\n",
    "mutated_proteins['Mut_prediction'] = mutated_proteins['Mut_prediction'].astype('float64')\n",
    "mutated_proteins['WT_diff'] = mutated_proteins['WT_diff'].astype('float64')\n",
    "mutated_proteins['Mut_diff'] = mutated_proteins['Mut_diff'].astype('float64')\n",
    "mutated_proteins['error_WTpred'] = mutated_proteins['WT_prediction'] - mutated_proteins['meltPoint_x']"
   ]
  },
  {
   "cell_type": "markdown",
   "metadata": {},
   "source": [
    "Solving of curve equation for f(T90) = 0.1 and value is stored as a new column in the prokaryotes_lysate data frame. "
   ]
  },
  {
   "cell_type": "code",
   "execution_count": null,
   "metadata": {},
   "outputs": [],
   "source": [
    "def curve_equation(x, a, b, plateau, target):\n",
    "    rel_amount = ((1-plateau)/(1+(np.power(np.e, (-a/x)+b)))) + plateau\n",
    "    return rel_amount - target\n",
    "from scipy.optimize import fsolve\n",
    "prokaryotes_values['T90'] = pd.Series(prokaryotes_values.index).apply(lambda i: fsolve(curve_equation, prokaryotes_values.loc[i, 'meltPoint'], args=(prokaryotes_values.loc[i,'a_point'], prokaryotes_values.loc[i,'b_point'], prokaryotes_values.loc[i,'plateau'], 0.1)))\n",
    "prokaryotes_lysate = prokaryotes_lysate.merge(prokaryotes_values, on= 'Protein_ID', how = 'left')"
   ]
  },
  {
   "cell_type": "markdown",
   "metadata": {},
   "source": [
    "Filtering of data frame for essential proteins with +1.5° C and -1.5° C of the maximal growth temperature (Tmax) around the T90 value. The following Tmax values for each organism were obtained from literature:\n",
    "\n",
    "Bacillus subtilis: 55°C​<br/>\n",
    "Escherichia coli: 45°C<br/>\n",
    "Oleispira antarctica: 28°C<br/>\n",
    "Picrophilus torridus: 66°C<br/>\n",
    "Thermus thermophilus: 82°C<br/>"
   ]
  },
  {
   "cell_type": "code",
   "execution_count": 4,
   "metadata": {},
   "outputs": [],
   "source": [
    "# Conditions for filtering the DataFrame\n",
    "conditions = [\n",
    "    (prokaryotes_lysate['run_name'] == 'Bacillus subtilis_168_lysate_R1') & (prokaryotes_lysate['T90'].between(53.5, 56.5)),\n",
    "    (prokaryotes_lysate['run_name'] == 'Thermus thermophilus HB27 lysate') & (prokaryotes_lysate['T90'].between(80.5, 83.5)),\n",
    "    (prokaryotes_lysate['run_name'] == 'Escherichia coli lysate') & (prokaryotes_lysate['T90'].between(43.5, 46.5)),\n",
    "    (prokaryotes_lysate['run_name'] == 'Picrophilus torridus DSM9790 lysate') & (prokaryotes_lysate['T90'].between(64.5, 67.5)),\n",
    "    (prokaryotes_lysate['run_name'] == 'Oleispira antarctica_RB-8_lysate_R1') & (prokaryotes_lysate['T90'].between(26.5, 29.5))\n",
    "]\n",
    "# Combine all conditions using bitwise OR\n",
    "combined_condition = conditions[0]\n",
    "for condition in conditions[1:]:\n",
    "    combined_condition |= condition\n",
    "# Filter the DataFrame based on the combined condition\n",
    "\n",
    "essential_proteins = prokaryotes_lysate[combined_condition].reset_index(drop=True)\n",
    "essential_proteins = essential_proteins.drop_duplicates(subset='Protein_ID', keep='first')\n",
    "essential_proteins = essential_proteins[['Protein_ID', 'Organism', 'Protein names', 'meltPoint_x', 'AlphaFoldDB', 'PDB', 'Sequence', 'solution', 'Gene Ontology (biological process)']]\n",
    "essential_proteins['Gene Ontology (biological process)'] = essential_proteins['Gene Ontology (biological process)'].str.split(';').str[0]\n",
    "essential_proteins.to_csv(os.path.join(path, 'essential_proteins.csv'), index=False)"
   ]
  },
  {
   "cell_type": "markdown",
   "metadata": {},
   "source": [
    "Grouping of all essential proteins based on the 5 groups aquired through checking common linked words in the GO category of biological processes:\n",
    "- Protein Transport/Folding \n",
    "- Metabolism\n",
    "- Transcription/Translation\n",
    "- DNA Replication/Repair\n",
    "- Cell division/cycle"
   ]
  },
  {
   "cell_type": "code",
   "execution_count": 44,
   "metadata": {},
   "outputs": [],
   "source": [
    "for i in essential_proteins.index:\n",
    "    essential_proteins['Gene Ontology (biological process)'] = essential_proteins['Gene Ontology (biological process)'].fillna('Unknown')\n",
    "    if any(word in essential_proteins.loc[i, 'Gene Ontology (biological process)'] for word in ['transport', 'localization', 'protein', 'chaperone', 'assembly']):\n",
    "        essential_proteins.loc[i, 'Gene Ontology (biological process)_obscure'] = 'Protein Transport/Folding'\n",
    "    elif any(word in essential_proteins.loc[i, 'Gene Ontology (biological process)'] for word in ['metabolism', 'biosynthesis', 'catabolism', 'metabolic', 'anabolism', 'glycolysis', 'glycolytic', 'glucose', 'catabolic', 'biosynthetic', 'synthesis', 'carbon', 'fixation', 'respiration', 'salvage', 'gluconeogenesis', 'beta-oxidation']):\n",
    "        essential_proteins.loc[i, 'Gene Ontology (biological process)_obscure'] = 'Metabolism'\n",
    "    elif any(word in essential_proteins.loc[i, 'Gene Ontology (biological process)'] for word in ['RNA', 'transcription', 'translation', 'ribosome', 'mRNA', 'tRNA', 'rRNA', 'snoRNA', 'snRNA', 'siRNA', 'piRNA']):\n",
    "        essential_proteins.loc[i, 'Gene Ontology (biological process)_obscure'] = 'Transcription/Translation'\n",
    "    elif any(word in essential_proteins.loc[i, 'Gene Ontology (biological process)'] for word in ['replication', 'repair', 'damage', 'nucleotide', 'methylation']):\n",
    "        essential_proteins.loc[i, 'Gene Ontology (biological process)_obscure'] = 'DNA Replication/Repair'\n",
    "    elif any(word in essential_proteins.loc[i, 'Gene Ontology (biological process)'] for word in ['cell', 'division', 'cycle', 'growth', 'cellular', 'mitosis', 'meiosis', 'cytokinesis', 'chromosome', 'spindle', 'centrosome', 'centriole', 'centromere', 'kinetochore', 'telomere', 'nucleus', 'nuclear', 'nucleolus']):\n",
    "        essential_proteins.loc[i, 'Gene Ontology (biological process)_obscure'] = 'Cell Division/Cycle'\n",
    "    elif essential_proteins.loc[i, 'Gene Ontology (biological process)'] != 'Unknown':\n",
    "        essential_proteins.loc[i, 'Gene Ontology (biological process)_obscure'] = 'Other'\n",
    "\n",
    "\n",
    "essential_go = essential_proteins.loc[:, ['Protein names', 'Gene Ontology (biological process)_obscure', 'Gene Ontology (biological process)','Organism']]"
   ]
  },
  {
   "cell_type": "markdown",
   "metadata": {},
   "source": [
    "Plotting a bar plot of counts of essential proteins for each GO category for E.coli and B.subtilis"
   ]
  },
  {
   "cell_type": "code",
   "execution_count": null,
   "metadata": {},
   "outputs": [],
   "source": [
    "plt.figure(figsize=(12, 8))\n",
    "sns.countplot(data=essential_proteins[essential_proteins['Organism'].isin(['Bacillus subtilis (strain 168)', 'Escherichia coli (strain K12)'])], x='Organism', hue='Gene Ontology (biological process)_obscure', palette='deep')\n",
    "plt.xticks(ticks=plt.gca().get_xticks(), labels= ['B. subtilis', 'E. coli'])\n",
    "plt.ylabel('Count of essential proteins')\n",
    "plt.legend(title='Biological process')\n",
    "plt.show()\n",
    "plt.savefig('./data/essentialproteinsgraph.svg',format = 'svg', dpi =1000)\n"
   ]
  },
  {
   "cell_type": "markdown",
   "metadata": {},
   "source": [
    "Calculating temperature dependent error of the regression for predicted melting points of mutated proteins. The respective function was taken from pca & regression jupyter notebook. The error of the WT prediction was calculated as its difference from the actual meltPoint value."
   ]
  },
  {
   "cell_type": "code",
   "execution_count": 29,
   "metadata": {},
   "outputs": [],
   "source": [
    "a = 7.456947114103443e-08\n",
    "b = -3.19495740695305e-05\n",
    "c = 0.0056160605705701215\n",
    "d = -0.5174164345246695\n",
    "e = 26.292297400105916\n",
    "f = -697.0084579985947\n",
    "g = 7524.223396560092\n",
    "def error_func(temperature):\n",
    "    return a*temperature**6 + b*temperature**5 + c*temperature**4 + d*temperature**3 + e*temperature**2 + f*temperature + g\n",
    "mutated_proteins['error_Mutpred'] = mutated_proteins['Mut_prediction'].apply(lambda x: error_func(x))\n",
    "mutated_proteins = mutated_proteins.dropna(subset=['Mut_prediction'])\n",
    "mutated_proteins['error_WTpred'] = mutated_proteins['WT_prediction'] - mutated_proteins['meltPoint_x']"
   ]
  },
  {
   "cell_type": "markdown",
   "metadata": {},
   "source": [
    "Computing wilcoxon signed rank test with integrating regression errors: This is done by bootstrapping each data point by adding a random error from a normal distribution of errors."
   ]
  },
  {
   "cell_type": "code",
   "execution_count": 49,
   "metadata": {},
   "outputs": [
    {
     "name": "stdout",
     "output_type": "stream",
     "text": [
      "Organism\n",
      "Bacillus subtilis (strain 168)                                                              (410.778, 3.60180353595941e-06)\n",
      "Escherichia coli (strain K12)                                                               (98.058, 0.0009312822583015076)\n",
      "Picrophilus torridus (strain ATCC 700027 / DSM 9790 / JCM 10055 / NBRC 100828 / KAW 2/3)                     (0.496, 0.748)\n",
      "Thermus thermophilus (strain ATCC BAA-163 / DSM 7039 / HB27)                                                 (1.488, 0.622)\n",
      "dtype: object\n"
     ]
    },
    {
     "name": "stderr",
     "output_type": "stream",
     "text": [
      "/var/folders/h6/x5s86vbj0n703jtjkk8l5q7r0000gp/T/ipykernel_2071/56312374.py:20: DeprecationWarning: DataFrameGroupBy.apply operated on the grouping columns. This behavior is deprecated, and in a future version of pandas the grouping columns will be excluded from the operation. Either pass `include_groups=False` to exclude the groupings or explicitly select the grouping columns after groupby to silence this warning.\n",
      "  print(mutated_proteins.groupby('Organism').apply(\n"
     ]
    }
   ],
   "source": [
    "def wilcoxon_bootstrap(WT_pred, Mut_pred, error_WT, error_mut, num_bootstrap_samples):\n",
    "    w_statistics = []\n",
    "    p_values = []\n",
    "\n",
    "    for _ in range(num_bootstrap_samples):\n",
    "        # Generate a bootstrap samples with error noise generated from the regression errors\n",
    "        bootstrap_sample_WT = WT_pred + np.random.normal(0, error_WT)\n",
    "        bootstrap_sample_mut = Mut_pred + np.random.normal(0, error_mut)\n",
    "        \n",
    "        # Perform wilcoxon signed rank test on the bootstrap samples\n",
    "        w_statistic, p_value = wilcoxon(bootstrap_sample_WT, bootstrap_sample_mut)\n",
    "        w_statistics.append(w_statistic)\n",
    "        p_values.append(p_value)\n",
    "\n",
    "    mean_w_statistic = np.mean(w_statistics)\n",
    "    mean_p_value = np.mean(p_values)\n",
    "    return mean_w_statistic, mean_p_value\n",
    "\n",
    "print(mutated_proteins.groupby('Organism').apply(\n",
    "    lambda x: wilcoxon_bootstrap(x['WT_prediction'], x['Mut_prediction'], abs(x['error_WTpred']), abs(x['error_Mutpred']), 1000)\n",
    "))"
   ]
  }
 ],
 "metadata": {
  "kernelspec": {
   "display_name": "Python 3",
   "language": "python",
   "name": "python3"
  },
  "language_info": {
   "codemirror_mode": {
    "name": "ipython",
    "version": 3
   },
   "file_extension": ".py",
   "mimetype": "text/x-python",
   "name": "python",
   "nbconvert_exporter": "python",
   "pygments_lexer": "ipython3",
   "version": "3.12.3"
  }
 },
 "nbformat": 4,
 "nbformat_minor": 2
}
