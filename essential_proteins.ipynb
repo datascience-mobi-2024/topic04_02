{
 "cells": [
  {
   "cell_type": "code",
   "execution_count": 1,
   "metadata": {},
   "outputs": [],
   "source": [
    "# import packages\n",
    "import numpy as np\n",
    "import pandas as pd\n",
    "import os\n",
    "import seaborn as sns\n",
    "import Bio\n",
    "import matplotlib.pyplot as plt\n",
    "import ast\n",
    "import scipy.stats as stats\n",
    "from scipy.optimize import curve_fit"
   ]
  },
  {
   "cell_type": "code",
   "execution_count": 3,
   "metadata": {},
   "outputs": [],
   "source": [
    "# import data\n",
    "\n",
    "path: str = './data/' #folder where files are stored\n",
    "#prokaryotes_lysate: pd.DataFrame = pd.read_csv(os.path.join(path, \"prokaryotes_322columns.csv\"))\n",
    "prokaryotes_all: pd.DataFrame = pd.read_csv(os.path.join(path, \"prokaryotes_all.csv\"), dtype=str)\n",
    "prokaryotes_values: pd.DataFrame = pd.read_csv(os.path.join(path, \"prokaryotes_funct.csv\"), dtype=str)\n",
    "prokaryotes_values['a_point'] = prokaryotes_values['a_point'].astype('float64')\n",
    "prokaryotes_values['b_point'] = prokaryotes_values['b_point'].astype('float64')\n",
    "prokaryotes_values['plateau'] = prokaryotes_values['plateau'].astype('float64')\n",
    "prokaryotes_values['meltPoint'] = prokaryotes_values['meltPoint'].astype('float64')"
   ]
  },
  {
   "cell_type": "code",
   "execution_count": null,
   "metadata": {},
   "outputs": [],
   "source": [
    "# x = np.array([1.1, 2.1, 3, 4.5, 5.3, 6])\n",
    "# y = np.array([1, 2.4, 3.1, 4.4, 5, 6.7])\n",
    "# plt.plot(x, y, 'o')\n",
    "\n",
    "# def linear(x, A, B):\n",
    "#     y = A*x + B\n",
    "#     return y\n",
    "\n",
    "# parameters, covariance = curve_fit(linear, x, y)\n",
    "\n",
    "# fit_y = linear(x, parameters[0], parameters[1])\n",
    "# plt.plot(x, y, 'o', label='data')\n",
    "# plt.plot(x, fit_y, '-', label='fit')\n",
    "# plt.legend()"
   ]
  },
  {
   "cell_type": "code",
   "execution_count": null,
   "metadata": {},
   "outputs": [],
   "source": [
    "# protein = prokaryotes_all.groupby('Protein_ID')\n",
    "# protein_keys = list(protein.groups.keys())\n",
    "# temp = np.asarray(protein.get_group(protein_keys[0])['temperature'])\n",
    "# fold_change = np.asarray((protein.get_group(protein_keys[0])['fold_change']).astype('float64').min()/protein.get_group(protein_keys[0])['fold_change'].astype('float64'))\n",
    "# plt.plot(temp, fold_change, 'o')\n"
   ]
  },
  {
   "cell_type": "code",
   "execution_count": 5,
   "metadata": {},
   "outputs": [
    {
     "name": "stderr",
     "output_type": "stream",
     "text": [
      "/var/folders/pm/vzcy9py91xzg_z5d80js6mtc0000gn/T/ipykernel_85560/258648289.py:5: RuntimeWarning: The iteration is not making good progress, as measured by the \n",
      "  improvement from the last ten iterations.\n",
      "  prokaryotes_values['solution'] = pd.Series(prokaryotes_values.index).apply(lambda i: fsolve(curve_equation, prokaryotes_values.loc[i, 'meltPoint'], args=(prokaryotes_values.loc[i,'a_point'], prokaryotes_values.loc[i,'b_point'], prokaryotes_values.loc[i,'plateau'], 0.1)))\n"
     ]
    }
   ],
   "source": [
    "def curve_equation(x, a, b, plateau, target):\n",
    "    rel_amount = ((1-plateau)/(1+(np.power(np.e, (-a/x)+b)))) + plateau\n",
    "    return rel_amount - target\n",
    "from scipy.optimize import fsolve\n",
    "prokaryotes_values['solution'] = pd.Series(prokaryotes_values.index).apply(lambda i: fsolve(curve_equation, prokaryotes_values.loc[i, 'meltPoint'], args=(prokaryotes_values.loc[i,'a_point'], prokaryotes_values.loc[i,'b_point'], prokaryotes_values.loc[i,'plateau'], 0.1)))\n",
    "essential_proteins_bs = prokaryotes_values[(prokaryotes_values['Sample'] == 'B.subtilis_P023755') & (prokaryotes_values['solution'] < 54) & (prokaryotes_values['solution'] > 52)]\n"
   ]
  },
  {
   "cell_type": "code",
   "execution_count": null,
   "metadata": {},
   "outputs": [],
   "source": []
  }
 ],
 "metadata": {
  "kernelspec": {
   "display_name": "Python 3",
   "language": "python",
   "name": "python3"
  },
  "language_info": {
   "codemirror_mode": {
    "name": "ipython",
    "version": 3
   },
   "file_extension": ".py",
   "mimetype": "text/x-python",
   "name": "python",
   "nbconvert_exporter": "python",
   "pygments_lexer": "ipython3",
   "version": "3.12.3"
  }
 },
 "nbformat": 4,
 "nbformat_minor": 2
}
