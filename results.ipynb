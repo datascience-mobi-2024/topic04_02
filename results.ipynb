{
 "cells": [
  {
   "cell_type": "code",
   "execution_count": 1,
   "metadata": {},
   "outputs": [],
   "source": [
    "import numpy as np\n",
    "import pandas as pd\n",
    "import os\n",
    "import seaborn as sns\n",
    "import matplotlib.pyplot as plt\n",
    "import statsmodels.api as sm\n",
    "import re\n",
    "import pandas as pd\n",
    "import numpy as np\n",
    "import joblib"
   ]
  },
  {
   "cell_type": "code",
   "execution_count": 6,
   "metadata": {},
   "outputs": [
    {
     "name": "stderr",
     "output_type": "stream",
     "text": [
      "C:\\Users\\tobia\\AppData\\Local\\Temp\\ipykernel_8084\\3376044265.py:1: DtypeWarning: Columns (6,19,20,21,23,24,25,26) have mixed types. Specify dtype option on import or set low_memory=False.\n",
      "  prokaryotes = pd.read_csv('./data/prokaryotes_348columns.csv')\n"
     ]
    }
   ],
   "source": [
    "prokaryotes = pd.read_csv('./data/prokaryotes_348columns.csv')\n",
    "droplist = [1,3,4,5,6,9,10,12,13,14,15,16,17,18]\n",
    "prokaryotes = prokaryotes.drop(prokaryotes.columns[droplist], axis=1)"
   ]
  },
  {
   "cell_type": "code",
   "execution_count": 10,
   "metadata": {},
   "outputs": [],
   "source": [
    "correlation = prokaryotes.corr(numeric_only=True)['meltPoint']\n",
    "prokaryotescrystal = prokaryotes.dropna(subset=['Helix1','Sheet1','Turn1'],thresh=1)\n",
    "crystallcorr = prokaryotescrystal.corr(numeric_only=True)['meltPoint']"
   ]
  },
  {
   "cell_type": "code",
   "execution_count": 14,
   "metadata": {},
   "outputs": [],
   "source": [
    "highpos = correlation[correlation > 0.3]\n",
    "highposcry = crystallcorr[crystallcorr > 0.3]"
   ]
  },
  {
   "cell_type": "code",
   "execution_count": 15,
   "metadata": {},
   "outputs": [
    {
     "data": {
      "text/plain": [
       "meltPoint    1.000000\n",
       "AR           0.324355\n",
       "VR           0.370241\n",
       "LY           0.310896\n",
       "LR           0.386596\n",
       "LP           0.330337\n",
       "LG           0.301178\n",
       "MR           0.343496\n",
       "FR           0.376553\n",
       "WR           0.392523\n",
       "NR           0.323378\n",
       "YR           0.492442\n",
       "YP           0.390709\n",
       "YG           0.301671\n",
       "ER           0.369174\n",
       "EP           0.328569\n",
       "RH           0.326193\n",
       "RC           0.357052\n",
       "RP           0.480594\n",
       "RG           0.442533\n",
       "PG           0.338434\n",
       "R            0.432905\n",
       "P            0.340082\n",
       "ALmotif      0.305852\n",
       "ARmotif      0.324100\n",
       "EAmotif      0.332202\n",
       "RAmotif      0.317970\n",
       "RLmotif      0.306354\n",
       "Rhelix       0.327399\n",
       "Name: meltPoint, dtype: float64"
      ]
     },
     "execution_count": 15,
     "metadata": {},
     "output_type": "execute_result"
    }
   ],
   "source": [
    "highpos"
   ]
  },
  {
   "cell_type": "code",
   "execution_count": null,
   "metadata": {},
   "outputs": [],
   "source": [
    "for n in prokaryotes.index:\n",
    "    if prokaryotes.loc[n,'meltPoint'] <= prokaryotes['meltPoint'].quantile(0.1):\n",
    "        prokaryotes_PCA_df.loc[n, 'meltPoint2'] = 'low_Tm'\n",
    "    elif prokaryotes.loc[n,'meltPoint'] >= prokaryotes['meltPoint'].quantile(0.45) and prokaryotes.loc[n,'meltPoint'] <= prokaryotes['meltPoint'].quantile(0.55):\n",
    "        prokaryotes_PCA_df.loc[n, 'meltPoint2'] = 'mid_Tm'\n",
    "    elif prokaryotes.loc[n,'meltPoint'] >= prokaryotes['meltPoint'].quantile(0.9):\n",
    "        prokaryotes_PCA_df.loc[n, 'meltPoint2'] = 'high_Tm'\n",
    "    else:\n",
    "        prokaryotes_PCA_df.loc[n, 'meltPoint2'] = np.nan"
   ]
  },
  {
   "cell_type": "code",
   "execution_count": null,
   "metadata": {},
   "outputs": [],
   "source": [
    "plt.figure(figsize=(8, 6))\n",
    "sns.scatterplot(data = prokaryotes[prokaryotes['meltPoint2'].isin(['high_Tm','mid_Tm','low_Tm'])], x = 'PC1', y = 'PC2', hue = 'meltPoint2',palette = 'deep')\n",
    "#sns.scatterplot(data = prokaryotes_PCA_df, x = 'PC1', y = 'PC3', hue = 'meltPoint',palette = 'deep')\n",
    "plt.xlabel('Principal Component 1')\n",
    "plt.ylabel('Principal Component 2')\n",
    "plt.title('PCA of prokaryotes')\n",
    "plt.grid()\n",
    "plt.show()"
   ]
  }
 ],
 "metadata": {
  "kernelspec": {
   "display_name": "Python 3",
   "language": "python",
   "name": "python3"
  },
  "language_info": {
   "codemirror_mode": {
    "name": "ipython",
    "version": 3
   },
   "file_extension": ".py",
   "mimetype": "text/x-python",
   "name": "python",
   "nbconvert_exporter": "python",
   "pygments_lexer": "ipython3",
   "version": "3.12.4"
  }
 },
 "nbformat": 4,
 "nbformat_minor": 2
}
