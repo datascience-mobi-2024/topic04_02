{
 "cells": [
  {
   "cell_type": "code",
   "execution_count": 14,
   "metadata": {},
   "outputs": [],
   "source": [
    "import itertools\n",
    "import mdtraj as md\n",
    "import mdtraj.testing\n",
    "\n"
   ]
  },
  {
   "cell_type": "code",
   "execution_count": 15,
   "metadata": {},
   "outputs": [
    {
     "name": "stdout",
     "output_type": "stream",
     "text": [
      "<mdtraj.Trajectory with 1 frames, 1105 atoms, 143 residues, without unitcells>\n"
     ]
    },
    {
     "name": "stderr",
     "output_type": "stream",
     "text": [
      "C:\\Users\\marik\\AppData\\Local\\Packages\\PythonSoftwareFoundation.Python.3.12_qbz5n2kfra8p0\\LocalCache\\local-packages\\Python312\\site-packages\\mdtraj\\formats\\pdb\\pdbfile.py:206: UserWarning: Unlikely unit cell vectors detected in PDB file likely resulting from a dummy CRYST1 record. Discarding unit cell vectors.\n",
      "  warnings.warn(\n"
     ]
    }
   ],
   "source": [
    "t = md.load('./data/pdbs/AF-C0H3V2-F1.pdb')\n",
    "print(t)\n",
    "hbonds = md.baker_hubbard(t)\n",
    "for hbond in hbonds:\n",
    "    print(hbond)"
   ]
  },
  {
   "cell_type": "code",
   "execution_count": 16,
   "metadata": {},
   "outputs": [],
   "source": [
    "label = lambda hbond: f\"{t.topology.atom(hbond[0])} -- {t.topology.atom(hbond[2])}\"\n",
    "\n",
    "for hbond in hbonds:\n",
    "    print(label(hbond))"
   ]
  },
  {
   "cell_type": "code",
   "execution_count": 16,
   "metadata": {},
   "outputs": [
    {
     "name": "stdout",
     "output_type": "stream",
     "text": [
      "(63, 4)\n",
      "(63, 4)\n",
      "(11, 4)\n",
      "[  28.   28.   28.   67.  136.  137.  137.  138.  138.  208.  220.  252.\n",
      "  253.  253.  254.  254.  276.  277.  277.  278.  278.  300.  301.  301.\n",
      "  302.  302.  339.  339.  339.  390.  408.  408.  431.  431.  484.  512.\n",
      "  541.  541.  541.  562.  563.  563.  564.  564.  596.  617.  618.  618.\n",
      "  619.  619.  683.  683.  755.  809.  867.  993.  994.  994.  995.  995.\n",
      " 1055. 1055. 1055.]\n",
      "[  39.   40.   41.   77.  148.  149.  150.  151.  152.  213.  227.  264.\n",
      "  265.  266.  267.  268.  288.  289.  290.  291.  292.  312.  313.  314.\n",
      "  315.  316.  350.  351.  352.  400.  416.  417.  433.  434.  488.  522.\n",
      "  552.  553.  554.  574.  575.  576.  577.  578.  605.  629.  630.  631.\n",
      "  632.  633.  685.  686.  760.  819.  877. 1005. 1006. 1007. 1008. 1009.\n",
      " 1066. 1067. 1068.]\n"
     ]
    }
   ],
   "source": [
    "import os\n",
    "import numpy as np\n",
    "path = './data'\n",
    "N_H_bond = float('1.0752') # DOI: 10.1007/s00894-015-2587-3\n",
    "O_H_bond = float('1.63') # DOI: 10.4236/jbpc.2020.112002\n",
    "Donor_list = [('GLN', 'NE2', 'HE21'), ('GLN', 'NE2', 'HE22'), ('GLU', 'OE2', 'HE2'), ('ASP', 'OD2', 'HD2'), ('ASN', 'ND2', 'HD21'), ('ASN', 'ND2', 'HD22'),\n",
    "                ('HIS', 'NE2', 'HE2'), ('HIS', 'ND1', 'HD2'), ('LYS', 'NZ', 'HZ1'), ('LYS', 'NZ', 'HZ2'), ('LYS', 'NZ', 'HZ3'), ('ARG', 'NE', 'HE'), \n",
    "                ('ARG', 'NH1', 'HH11'), ('ARG', 'NH1', 'HH12'), ('ARG', 'NH2', 'HH21'), ('ARG', 'NH2', 'HH22'), ('SER', 'OG', 'HG'), ('THR', 'OG1', 'HG1'), \n",
    "                ('TRP', 'NE1', 'HE1'), ('TYR', 'OH', 'HH')]\n",
    "Acceptor_list = [('GLN', 'OE1'), ('ASP', 'OD1'), ('ASP', 'OD2'), ('ASN', 'OD1')]\n",
    "\n",
    "with open(os.path.join(path, 'C0H3Z2.pqr')) as f:\n",
    "    Donor_array = np.empty((0, 4))\n",
    "    H_array = np.empty((0, 4))\n",
    "    Acceptor_array = np.empty((0, 4))\n",
    "    aa_cache = []\n",
    "    atom_cache = []\n",
    "    test_count = 0\n",
    "    for line in f:\n",
    "        if line.startswith('ATOM'):\n",
    "            if not aa_cache:\n",
    "                aa_cache.append(line.split()[3])\n",
    "                aa_cache.append(line.split()[4])\n",
    "                atom_cache.append(line)\n",
    "            elif aa_cache[1] == line.split()[4]:\n",
    "                atom_cache.append(line)\n",
    "            elif aa_cache[1] != line.split()[4]:\n",
    "                test_count += 1             \n",
    "                for n in range(len(Donor_list)):\n",
    "                    if aa_cache[0] == Donor_list[n][0]:\n",
    "                        for i in range(len(atom_cache)):\n",
    "                            if Donor_list[n][1] == atom_cache[i].split()[2]:\n",
    "                                if ('GLU' == aa_cache[0]) and 'OE2' in atom_cache[i].split()[2]:\n",
    "                                    if any('HE2' in string for string in atom_cache):\n",
    "                                        line_array = np.array([[atom_cache[i].split()[1], atom_cache[i].split()[5], atom_cache[i].split()[6], atom_cache[i].split()[7]]])\n",
    "                                        line_array = line_array.astype('float64')\n",
    "                                        Donor_array = np.append(Donor_array, line_array, axis=0) \n",
    "                                elif ('ASP' == aa_cache[0]) and 'OD2' in atom_cache[i].split()[2]:\n",
    "                                    if any('HD2' in string for string in atom_cache):\n",
    "                                        line_array = np.array([[atom_cache[i].split()[1], atom_cache[i].split()[5], atom_cache[i].split()[6], atom_cache[i].split()[7]]])\n",
    "                                        line_array = line_array.astype('float64')\n",
    "                                        Donor_array = np.append(Donor_array, line_array, axis=0)                                             \n",
    "                                elif ('HIS' == aa_cache[0]) and 'ND1' in atom_cache[i].split()[2]:\n",
    "                                    if any ('HD1' in string for string in atom_cache):\n",
    "                                        line_array = np.array([[atom_cache[i].split()[1], atom_cache[i].split()[5], atom_cache[i].split()[6], atom_cache[i].split()[7]]])\n",
    "                                        line_array = line_array.astype('float64')\n",
    "                                        Donor_array = np.append(Donor_array, line_array, axis=0)\n",
    "                                elif ('HIS' == aa_cache[0]) and 'NE2' in atom_cache[i].split()[2]:\n",
    "                                    if any('HE2' in string for string in atom_cache):\n",
    "                                        line_array = np.array([[atom_cache[i].split()[1], atom_cache[i].split()[5], atom_cache[i].split()[6], atom_cache[i].split()[7]]])\n",
    "                                        line_array = line_array.astype('float64')\n",
    "                                        Donor_array = np.append(Donor_array, line_array, axis=0)\n",
    "                                else: \n",
    "                                    line_array = np.array([[atom_cache[i].split()[1], atom_cache[i].split()[5], atom_cache[i].split()[6], atom_cache[i].split()[7]]])\n",
    "                                    line_array = line_array.astype('float64')\n",
    "                                    Donor_array = np.append(Donor_array, line_array, axis=0)         \n",
    "                            elif Donor_list[n][2] == atom_cache[i].split()[2]:\n",
    "                                line_array = np.array([[atom_cache[i].split()[1], atom_cache[i].split()[5], atom_cache[i].split()[6], atom_cache[i].split()[7]]])\n",
    "                                line_array = line_array.astype('float64')\n",
    "                                H_array = np.append(H_array, line_array, axis=0)\n",
    "                for n in range(len(Acceptor_list)):\n",
    "                    if aa_cache[0] == Acceptor_list[n][0]:\n",
    "                        for i in range(len(atom_cache)):\n",
    "                            if Acceptor_list[n][1] == atom_cache[i].split()[2]:\n",
    "                                if ('GLU' == aa_cache[0]) and 'OE2' in atom_cache[i].split()[2]:\n",
    "                                    if any('HE2' not in string for string in atom_cache):\n",
    "                                        line_array = np.array([[atom_cache[i].split()[1], atom_cache[i].split()[5], atom_cache[i].split()[6], atom_cache[i].split()[7]]])\n",
    "                                        line_array = line_array.astype('float64')\n",
    "                                        Acceptor_array = np.append(Acceptor_array, line_array, axis=0)\n",
    "                                elif ('ASP' == aa_cache[0]) and 'OD' in atom_cache[i].split()[2]:\n",
    "                                    if any('HD' not in string for string in atom_cache):\n",
    "                                        line_array = np.array([[atom_cache[i].split()[1], atom_cache[i].split()[5], atom_cache[i].split()[6], atom_cache[i].split()[7]]])\n",
    "                                        line_array = line_array.astype('float64')\n",
    "                                        Acceptor_array = np.append(Acceptor_array, line_array, axis=0)\n",
    "                                else: \n",
    "                                    line_array = np.array([[atom_cache[i].split()[1], atom_cache[i].split()[5], atom_cache[i].split()[6], atom_cache[i].split()[7]]])\n",
    "                                    line_array = line_array.astype('float64')\n",
    "                                    Acceptor_array = np.append(Acceptor_array, line_array, axis=0) \n",
    "\n",
    " \n",
    "                                        \n",
    "                aa_cache = []\n",
    "                atom_cache = []\n",
    "    print(Donor_array.shape)\n",
    "    print(H_array.shape)\n",
    "    print(Acceptor_array.shape)\n",
    "    print(Donor_array[:,0])\n",
    "    print(H_array[:,0])\n"
   ]
  },
  {
   "cell_type": "code",
   "execution_count": 92,
   "metadata": {},
   "outputs": [
    {
     "name": "stdout",
     "output_type": "stream",
     "text": [
      "0\n",
      "1\n"
     ]
    }
   ],
   "source": [
    "Donor_list = [('GLN', 'NE2', 'HE22', 'HE23'), ('GLU', 'OE2', 'HE2'), ('ASP', 'OD2', 'HD2'), ('ASN', 'ND2', 'HD21', 'HD22'), \n",
    "                  ('HIS', 'NE2', 'HE2'), ('HIS', 'ND1', 'ND2'), ('LYS', 'NZ', 'HZ1', 'HZ2', 'HZ3'), ('ARG', 'NE', 'HE'), \n",
    "                  ('ARG', 'NH1', 'HH11', 'HH12'), ('ARG', 'NH2', 'HH21', 'HH22'), ('SER', 'OG', 'HG'), ('THR', 'OG1', 'HG1'), \n",
    "                  ('TRP', 'NE1', 'HE1'), ('TYR', 'OH', 'HH')]\n",
    "for i in range(len(Donor_list[3])-2):\n",
    "    print(i)\n"
   ]
  },
  {
   "cell_type": "code",
   "execution_count": null,
   "metadata": {},
   "outputs": [],
   "source": []
  },
  {
   "cell_type": "code",
   "execution_count": 7,
   "metadata": {},
   "outputs": [
    {
     "name": "stdout",
     "output_type": "stream",
     "text": [
      "['1']\n",
      "yes\n"
     ]
    }
   ],
   "source": [
    "string = 'ATOM     12  HB3 MET     1     -20.987   0.463   6.535  0.0000 0.0000'\n",
    "string2 ='ATOM      5  O   MET     1     -18.415  -1.135   7.336 -0.5500 1.4000'\n",
    "list2 = [string.split()[4]]\n",
    "print(list2)\n",
    "\n",
    "if list2[0] == string2.split()[4]:\n",
    "    print('yes')\n",
    "else:\n",
    "    print('no')\n"
   ]
  }
 ],
 "metadata": {
  "kernelspec": {
   "display_name": "Python 3",
   "language": "python",
   "name": "python3"
  },
  "language_info": {
   "codemirror_mode": {
    "name": "ipython",
    "version": 3
   },
   "file_extension": ".py",
   "mimetype": "text/x-python",
   "name": "python",
   "nbconvert_exporter": "python",
   "pygments_lexer": "ipython3",
   "version": "3.12.3"
  }
 },
 "nbformat": 4,
 "nbformat_minor": 2
}
