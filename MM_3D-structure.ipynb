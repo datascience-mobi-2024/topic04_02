{
 "cells": [
  {
   "cell_type": "code",
   "execution_count": 1,
   "metadata": {},
   "outputs": [],
   "source": [
    "import numpy as np\n",
    "import pandas as pd\n",
    "import os\n",
    "import seaborn as sns\n",
    "import matplotlib.pyplot as plt\n",
    "import Bio\n",
    "#from localcider.sequenceParameters import SequenceParameters\n",
    "import scipy\n",
    "from scipy.spatial.distance import cdist\n",
    "import math"
   ]
  },
  {
   "cell_type": "code",
   "execution_count": 19,
   "metadata": {},
   "outputs": [],
   "source": [
    "def split_sphere(center ,R = 1, horizontal_split = 36, vertical_split = 36):\n",
    "    theta = np.linspace(0,360,horizontal_split+1)\n",
    "    c = np.linspace(-1, 1, vertical_split+1)\n",
    "    s = 1 - c**2\n",
    "    x = R * np.outer(s, np.cos(theta))\n",
    "    x += center[0]\n",
    "    y = R * np.outer(s, np.sin(theta))\n",
    "    y += center[1]\n",
    "    z = R * np.outer(c, np.ones(horizontal_split+1))\n",
    "    z += center[2]\n",
    "    return x, y, z"
   ]
  },
  {
   "cell_type": "code",
   "execution_count": 83,
   "metadata": {},
   "outputs": [],
   "source": [
    "pdb_path = './data/pdbs'\n",
    "with open(os.path.join(pdb_path, 'AF-C0H3V8-F1.pdb')) as f:\n",
    "    Atom_array = np.empty((0, 4))\n",
    "    VdW_radii = {'C': 3.1, 'N': 2.95, 'O': 2.96} # Van der Waals radii in Angstrom enlarged by watermolecule radius 1.4 A (https://academic.oup.com/nar/article/49/W1/W559/6279848#267025710)\n",
    "    C_C = 6.2\n",
    "    C_N = 6.05\n",
    "    C_O = 6.06\n",
    "    N_N = 5.9\n",
    "    N_O = 5.91\n",
    "    O_O = 5.92\n",
    "    X_array = np.array([[]])\n",
    "\n",
    "    for line in f:\n",
    "        line = line.strip()\n",
    "        if line.startswith('ATOM'):\n",
    "            if ('ILE' in line and '' in line) or ('GLU' in line and 'OE' in line):\n",
    "                line_array = np.array([[line[7:12].strip(), line[27:38].strip(), line[39:46].strip(), line[47:54].strip()]])\n",
    "                line_array = line_array.astype('float64')\n",
    "                Atom_array = np.append(Atom_array, line_array, axis = 0)\n",
    "                if 'C' in line[12:17]:\n",
    "                    X_array = np.append(X_array, int('0'))\n",
    "                elif 'N' in line[12:17]:\n",
    "                    X_array = np.append(X_array, int('1'))\n",
    "                elif 'O' in line[12:17]:\n",
    "                    X_array = np.append(X_array, int('2'))\n",
    "from function import distance\n",
    "Atom_distance = distance(Atom_array, Atom_array, 6, remove_nan = False)\n",
    "Atom_distance = np.where(Atom_distance==0, np.nan, Atom_distance)"
   ]
  },
  {
   "cell_type": "code",
   "execution_count": 84,
   "metadata": {},
   "outputs": [],
   "source": [
    "def Sphere_coord(Atom_distance, Atom_coord):\n",
    "    Sphere = {}\n",
    "    for n in  np.unique(np.where(~np.isnan(Atom_distance[1:,1:]))[0]):\n",
    "        xyz = Atom_array[n,1:4]\n",
    "        x,y,z = split_sphere(xyz, R = 6)\n",
    "        Sphere[int(Atom_array[n,0])] = np.array([x,y,z])\n",
    "    return Sphere   \n",
    " \n",
    "    "
   ]
  },
  {
   "cell_type": "code",
   "execution_count": 128,
   "metadata": {},
   "outputs": [],
   "source": [
    "def intersect_vol(array:np.array, r1:str, r2:str):\n",
    "    r1 = float(r1)\n",
    "    r2 = float(r2)\n",
    "    vol = array\n",
    "    d = array[1:,1:]\n",
    "    vol[1:,1:] = (np.pi*(r2+r1-d)**2 * (d**2 + 2*d*r1 - 3*r1**2 + 2*d*r2 + 6*r1*r2 - 3*r2**2))/(12*d)\n",
    "    return vol\n",
    "#intersect_vol('1', '6', '6')"
   ]
  },
  {
   "cell_type": "code",
   "execution_count": 14,
   "metadata": {},
   "outputs": [],
   "source": [
    "def VdW_interaction(path, pdb_files=None):\n",
    "    import numpy as np\n",
    "    import os\n",
    "    import scipy\n",
    "    from scipy.spatial.distance import cdist\n",
    "    \n",
    "    if pdb_files is None:\n",
    "        pdb_files = [f for f in os.listdir(path) if f.endswith('.pdb')]\n",
    "    if isinstance(pdb_files, str):\n",
    "        pdb_files = [pdb_files]\n",
    "    VdW_dictionary = dict()\n",
    "    \n",
    "    for pdb_file in pdb_files:\n",
    "        with open(os.path.join(path, str(pdb_file))) as f:\n",
    "            Atom_array = np.empty((0, 4))\n",
    "            #VdW_radii = {'C': 3.1, 'N': 2.95, 'O': 2.96} # Van der Waals radii in Angstrom enlarged by watermolecule radius 1.4 A (https://academic.oup.com/nar/article/49/W1/W559/6279848#267025710)\n",
    "            #C_C = 6.2\n",
    "            #C_N = 6.05\n",
    "            #C_O = 6.06\n",
    "            #N_N = 5.9\n",
    "            #N_O = 5.91\n",
    "            #O_O = 5.92\n",
    "            X_array = np.array([[]])\n",
    "            Atom_list = ['C', 'N', 'O']\n",
    "            for line in f:\n",
    "                line = line.strip()\n",
    "                if line.startswith('ATOM'):\n",
    "                    if ('LEU' in line and line[12:17].strip() in Atom_list) or ('VAL' in line and line[12:17].strip() in Atom_list) or ('ILE' in line and line[12:17].strip() in Atom_list):\n",
    "                        line_array = np.array([[line[7:12].strip(), line[27:38].strip(), line[39:46].strip(), line[47:54].strip()]])\n",
    "                        line_array = line_array.astype('float64')\n",
    "                        Atom_array = np.append(Atom_array, line_array, axis = 0)\n",
    "                        if 'C' in line[12:17]:\n",
    "                            X_array = np.append(X_array, int('0'))\n",
    "                        elif 'N' in line[12:17]:\n",
    "                            X_array = np.append(X_array, int('1'))\n",
    "                        elif 'O' in line[12:17]:\n",
    "                            X_array = np.append(X_array, int('2'))\n",
    "            \n",
    "            from function import distance\n",
    "            Atom_distance = distance(Atom_array, Atom_array, 6, remove_nan = False)\n",
    "            Atom_distance = np.where(Atom_distance==0, np.nan, Atom_distance)\n",
    "            \n",
    "            from function import intersect_vol\n",
    "            Atom_volume = intersect_vol(Atom_distance, 6, 6)\n",
    "            \n",
    "            VdW_dictionary[str(pdb_file).split('-')[1]] = Atom_volume\n",
    "    return VdW_dictionary\n"
   ]
  },
  {
   "cell_type": "code",
   "execution_count": 15,
   "metadata": {},
   "outputs": [
    {
     "ename": "ImportError",
     "evalue": "cannot import name 'intersect_vol' from 'function' (c:\\Users\\marik\\OneDrive - bwedu\\Uni HD\\FS 4\\Bioinfo\\topic04_02\\function.py)",
     "output_type": "error",
     "traceback": [
      "\u001b[1;31m---------------------------------------------------------------------------\u001b[0m",
      "\u001b[1;31mImportError\u001b[0m                               Traceback (most recent call last)",
      "Cell \u001b[1;32mIn[15], line 2\u001b[0m\n\u001b[0;32m      1\u001b[0m path \u001b[38;5;241m=\u001b[39m \u001b[38;5;124m'\u001b[39m\u001b[38;5;124m./data/pdbs\u001b[39m\u001b[38;5;124m'\u001b[39m\n\u001b[1;32m----> 2\u001b[0m test \u001b[38;5;241m=\u001b[39m \u001b[43mVdW_interaction\u001b[49m\u001b[43m(\u001b[49m\u001b[43mpath\u001b[49m\u001b[43m,\u001b[49m\u001b[43m \u001b[49m\u001b[38;5;124;43m'\u001b[39;49m\u001b[38;5;124;43mAF-C0H3V8-F1.pdb\u001b[39;49m\u001b[38;5;124;43m'\u001b[39;49m\u001b[43m)\u001b[49m[\u001b[38;5;124m'\u001b[39m\u001b[38;5;124mC0H3V8\u001b[39m\u001b[38;5;124m'\u001b[39m]\n\u001b[0;32m      3\u001b[0m \u001b[38;5;28mprint\u001b[39m(test)\n",
      "Cell \u001b[1;32mIn[14], line 43\u001b[0m, in \u001b[0;36mVdW_interaction\u001b[1;34m(path, pdb_files)\u001b[0m\n\u001b[0;32m     40\u001b[0m Atom_distance \u001b[38;5;241m=\u001b[39m distance(Atom_array, Atom_array, \u001b[38;5;241m6\u001b[39m, remove_nan \u001b[38;5;241m=\u001b[39m \u001b[38;5;28;01mFalse\u001b[39;00m)\n\u001b[0;32m     41\u001b[0m Atom_distance \u001b[38;5;241m=\u001b[39m np\u001b[38;5;241m.\u001b[39mwhere(Atom_distance\u001b[38;5;241m==\u001b[39m\u001b[38;5;241m0\u001b[39m, np\u001b[38;5;241m.\u001b[39mnan, Atom_distance)\n\u001b[1;32m---> 43\u001b[0m \u001b[38;5;28;01mfrom\u001b[39;00m \u001b[38;5;21;01mfunction\u001b[39;00m \u001b[38;5;28;01mimport\u001b[39;00m intersect_vol\n\u001b[0;32m     44\u001b[0m Atom_volume \u001b[38;5;241m=\u001b[39m intersect_vol(Atom_distance, \u001b[38;5;241m6\u001b[39m, \u001b[38;5;241m6\u001b[39m)\n\u001b[0;32m     46\u001b[0m VdW_dictionary[\u001b[38;5;28mstr\u001b[39m(pdb_file)\u001b[38;5;241m.\u001b[39msplit(\u001b[38;5;124m'\u001b[39m\u001b[38;5;124m-\u001b[39m\u001b[38;5;124m'\u001b[39m)[\u001b[38;5;241m1\u001b[39m]] \u001b[38;5;241m=\u001b[39m Atom_volume\n",
      "\u001b[1;31mImportError\u001b[0m: cannot import name 'intersect_vol' from 'function' (c:\\Users\\marik\\OneDrive - bwedu\\Uni HD\\FS 4\\Bioinfo\\topic04_02\\function.py)"
     ]
    }
   ],
   "source": [
    "path = './data/pdbs'\n",
    "test = VdW_interaction(path, 'AF-C0H3V8-F1.pdb')['C0H3V8']\n",
    "print(test)"
   ]
  }
 ],
 "metadata": {
  "kernelspec": {
   "display_name": "Python 3",
   "language": "python",
   "name": "python3"
  },
  "language_info": {
   "codemirror_mode": {
    "name": "ipython",
    "version": 3
   },
   "file_extension": ".py",
   "mimetype": "text/x-python",
   "name": "python",
   "nbconvert_exporter": "python",
   "pygments_lexer": "ipython3",
   "version": "3.12.3"
  }
 },
 "nbformat": 4,
 "nbformat_minor": 2
}
