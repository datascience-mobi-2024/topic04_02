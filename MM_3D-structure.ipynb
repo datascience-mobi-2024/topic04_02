{
 "cells": [
  {
   "cell_type": "code",
   "execution_count": 1,
   "metadata": {},
   "outputs": [
    {
     "data": {
      "text/plain": [
       "\" from function import pdb2pqr\\ninput_path = './data/pdbs'\\noutput_path = './data/pqrs'\\npdb2pqr(input_path = input_path, output_path = output_path) \""
      ]
     },
     "execution_count": 1,
     "metadata": {},
     "output_type": "execute_result"
    }
   ],
   "source": [
    "from function import pdb2pqr\n",
    "input_path = './data/pdbs'\n",
    "output_path = './data/pqrs'\n",
    "pdb2pqr(input_path = input_path, output_path = output_path)"
   ]
  },
  {
   "cell_type": "code",
   "execution_count": null,
   "metadata": {},
   "outputs": [],
   "source": [
    "import numpy as np\n",
    "import trimesh\n",
    "protein_coords = np.array###!!!!!!!!!!!!!\n",
    "\n",
    "mesh = trimesh.Trimesh(protein_coords, np.ones((protein_coords.shape[0], 3)))\n",
    "alpha = 0.4\n",
    "mesh.alpha_shape(alpha)\n",
    "surface_area = mesh.area\n",
    "print(\"Estimated surface area of the protein:\", surface_area)"
   ]
  }
 ],
 "metadata": {
  "kernelspec": {
   "display_name": "Python 3",
   "language": "python",
   "name": "python3"
  },
  "language_info": {
   "codemirror_mode": {
    "name": "ipython",
    "version": 3
   },
   "file_extension": ".py",
   "mimetype": "text/x-python",
   "name": "python",
   "nbconvert_exporter": "python",
   "pygments_lexer": "ipython3",
   "version": "3.12.3"
  }
 },
 "nbformat": 4,
 "nbformat_minor": 2
}
