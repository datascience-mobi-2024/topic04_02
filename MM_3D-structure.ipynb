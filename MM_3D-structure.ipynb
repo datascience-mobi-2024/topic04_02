{
 "cells": [
  {
   "cell_type": "code",
   "execution_count": 1,
   "metadata": {},
   "outputs": [],
   "source": [
    "import numpy as np\n",
    "import pandas as pd\n",
    "import os\n",
    "import seaborn as sns\n",
    "import matplotlib.pyplot as plt\n",
    "import Bio\n",
    "#from localcider.sequenceParameters import SequenceParameters\n",
    "import scipy\n",
    "from scipy.spatial.distance import cdist\n",
    "import math"
   ]
  },
  {
   "cell_type": "code",
   "execution_count": 2,
   "metadata": {},
   "outputs": [
    {
     "ename": "SyntaxError",
     "evalue": "invalid syntax. Perhaps you forgot a comma? (function.py, line 108)",
     "output_type": "error",
     "traceback": [
      "Traceback \u001b[1;36m(most recent call last)\u001b[0m:\n",
      "\u001b[0m  File \u001b[0;32m~\\AppData\\Local\\Packages\\PythonSoftwareFoundation.Python.3.12_qbz5n2kfra8p0\\LocalCache\\local-packages\\Python312\\site-packages\\IPython\\core\\interactiveshell.py:3577\u001b[0m in \u001b[0;35mrun_code\u001b[0m\n    exec(code_obj, self.user_global_ns, self.user_ns)\u001b[0m\n",
      "\u001b[1;36m  Cell \u001b[1;32mIn[2], line 2\u001b[1;36m\n\u001b[1;33m    from function import VdW_interaction\u001b[1;36m\n",
      "\u001b[1;36m  File \u001b[1;32mc:\\Users\\marik\\OneDrive - bwedu\\Uni HD\\FS 4\\Bioinfo\\topic04_02\\function.py:108\u001b[1;36m\u001b[0m\n\u001b[1;33m    def VdW_interaction(path, pdb_files=None, output = 'volume' ' cluster' False):\u001b[0m\n\u001b[1;37m                                                       ^\u001b[0m\n\u001b[1;31mSyntaxError\u001b[0m\u001b[1;31m:\u001b[0m invalid syntax. Perhaps you forgot a comma?\n"
     ]
    }
   ],
   "source": [
    "path = './data/pdbs'\n",
    "from function import VdW_interaction\n",
    "protein_test = VdW_interaction(path, 'AF-C0H3V8-F1.pdb')\n"
   ]
  },
  {
   "cell_type": "code",
   "execution_count": 1,
   "metadata": {},
   "outputs": [
    {
     "ename": "IndexError",
     "evalue": "column index (1) out of bounds",
     "output_type": "error",
     "traceback": [
      "\u001b[1;31m---------------------------------------------------------------------------\u001b[0m",
      "\u001b[1;31mIndexError\u001b[0m                                Traceback (most recent call last)",
      "Cell \u001b[1;32mIn[1], line 12\u001b[0m\n\u001b[0;32m      2\u001b[0m \u001b[38;5;28;01mfrom\u001b[39;00m \u001b[38;5;21;01mfunction\u001b[39;00m \u001b[38;5;28;01mimport\u001b[39;00m cluster_calc\n\u001b[0;32m      3\u001b[0m array \u001b[38;5;241m=\u001b[39m np\u001b[38;5;241m.\u001b[39marray([\n\u001b[0;32m      4\u001b[0m     [\u001b[38;5;241m0\u001b[39m, \u001b[38;5;241m10\u001b[39m, \u001b[38;5;241m20\u001b[39m, \u001b[38;5;241m30\u001b[39m, \u001b[38;5;241m40\u001b[39m, \u001b[38;5;241m50\u001b[39m],\n\u001b[0;32m      5\u001b[0m     [\u001b[38;5;241m10\u001b[39m, \u001b[38;5;241m0\u001b[39m, \u001b[38;5;241m5\u001b[39m, \u001b[38;5;241m0\u001b[39m, \u001b[38;5;241m0\u001b[39m, \u001b[38;5;241m0\u001b[39m],\n\u001b[1;32m   (...)\u001b[0m\n\u001b[0;32m      9\u001b[0m     [\u001b[38;5;241m50\u001b[39m, \u001b[38;5;241m0\u001b[39m, \u001b[38;5;241m0\u001b[39m, \u001b[38;5;241m0\u001b[39m, \u001b[38;5;241m0\u001b[39m, \u001b[38;5;241m0\u001b[39m]\n\u001b[0;32m     10\u001b[0m ])\n\u001b[1;32m---> 12\u001b[0m \u001b[38;5;28mprint\u001b[39m(\u001b[43mcluster_calc\u001b[49m\u001b[43m(\u001b[49m\u001b[43marray\u001b[49m\u001b[43m)\u001b[49m)\n",
      "File \u001b[1;32mc:\\Users\\marik\\OneDrive - bwedu\\Uni HD\\FS 4\\Bioinfo\\topic04_02\\function.py:55\u001b[0m, in \u001b[0;36mcluster_calc\u001b[1;34m(array)\u001b[0m\n\u001b[0;32m     53\u001b[0m adjacency_matrix \u001b[38;5;241m=\u001b[39m lil_matrix((\u001b[38;5;28mlen\u001b[39m(array)), \u001b[38;5;28mlen\u001b[39m(array))\n\u001b[0;32m     54\u001b[0m \u001b[38;5;28;01mfor\u001b[39;00m i \u001b[38;5;129;01min\u001b[39;00m \u001b[38;5;28mrange\u001b[39m(\u001b[38;5;28mlen\u001b[39m(array)):\n\u001b[1;32m---> 55\u001b[0m   \u001b[43madjacency_matrix\u001b[49m\u001b[43m[\u001b[49m\u001b[38;5;241;43m0\u001b[39;49m\u001b[43m,\u001b[49m\u001b[43mi\u001b[49m\u001b[43m]\u001b[49m \u001b[38;5;241m=\u001b[39m array[\u001b[38;5;241m0\u001b[39m,i]\n\u001b[0;32m     56\u001b[0m   adjacency_matrix[i,\u001b[38;5;241m0\u001b[39m] \u001b[38;5;241m=\u001b[39m array[i,\u001b[38;5;241m0\u001b[39m]\n\u001b[0;32m     57\u001b[0m \u001b[38;5;28;01mfor\u001b[39;00m i \u001b[38;5;129;01min\u001b[39;00m \u001b[38;5;28mrange\u001b[39m(\u001b[38;5;241m1\u001b[39m, \u001b[38;5;28mlen\u001b[39m(array)):\n",
      "File \u001b[1;32m~\\AppData\\Local\\Packages\\PythonSoftwareFoundation.Python.3.12_qbz5n2kfra8p0\\LocalCache\\local-packages\\Python312\\site-packages\\scipy\\sparse\\_lil.py:261\u001b[0m, in \u001b[0;36m_lil_base.__setitem__\u001b[1;34m(self, key, x)\u001b[0m\n\u001b[0;32m    259\u001b[0m     \u001b[38;5;28;01mif\u001b[39;00m x\u001b[38;5;241m.\u001b[39msize \u001b[38;5;241m>\u001b[39m \u001b[38;5;241m1\u001b[39m:\n\u001b[0;32m    260\u001b[0m         \u001b[38;5;28;01mraise\u001b[39;00m \u001b[38;5;167;01mValueError\u001b[39;00m(\u001b[38;5;124m\"\u001b[39m\u001b[38;5;124mTrying to assign a sequence to an item\u001b[39m\u001b[38;5;124m\"\u001b[39m)\n\u001b[1;32m--> 261\u001b[0m     \u001b[38;5;28;01mreturn\u001b[39;00m \u001b[38;5;28;43mself\u001b[39;49m\u001b[38;5;241;43m.\u001b[39;49m\u001b[43m_set_intXint\u001b[49m\u001b[43m(\u001b[49m\u001b[43mrow\u001b[49m\u001b[43m,\u001b[49m\u001b[43m \u001b[49m\u001b[43mcol\u001b[49m\u001b[43m,\u001b[49m\u001b[43m \u001b[49m\u001b[43mx\u001b[49m\u001b[43m)\u001b[49m\n\u001b[0;32m    262\u001b[0m \u001b[38;5;66;03m# Fast path for full-matrix sparse assignment.\u001b[39;00m\n\u001b[0;32m    263\u001b[0m \u001b[38;5;28;01mif\u001b[39;00m (\u001b[38;5;28misinstance\u001b[39m(row, \u001b[38;5;28mslice\u001b[39m) \u001b[38;5;129;01mand\u001b[39;00m \u001b[38;5;28misinstance\u001b[39m(col, \u001b[38;5;28mslice\u001b[39m) \u001b[38;5;129;01mand\u001b[39;00m\n\u001b[0;32m    264\u001b[0m         row \u001b[38;5;241m==\u001b[39m \u001b[38;5;28mslice\u001b[39m(\u001b[38;5;28;01mNone\u001b[39;00m) \u001b[38;5;129;01mand\u001b[39;00m col \u001b[38;5;241m==\u001b[39m \u001b[38;5;28mslice\u001b[39m(\u001b[38;5;28;01mNone\u001b[39;00m) \u001b[38;5;129;01mand\u001b[39;00m\n\u001b[0;32m    265\u001b[0m         issparse(x) \u001b[38;5;129;01mand\u001b[39;00m x\u001b[38;5;241m.\u001b[39mshape \u001b[38;5;241m==\u001b[39m \u001b[38;5;28mself\u001b[39m\u001b[38;5;241m.\u001b[39mshape):\n",
      "File \u001b[1;32m~\\AppData\\Local\\Packages\\PythonSoftwareFoundation.Python.3.12_qbz5n2kfra8p0\\LocalCache\\local-packages\\Python312\\site-packages\\scipy\\sparse\\_lil.py:238\u001b[0m, in \u001b[0;36m_lil_base._set_intXint\u001b[1;34m(self, row, col, x)\u001b[0m\n\u001b[0;32m    237\u001b[0m \u001b[38;5;28;01mdef\u001b[39;00m \u001b[38;5;21m_set_intXint\u001b[39m(\u001b[38;5;28mself\u001b[39m, row, col, x):\n\u001b[1;32m--> 238\u001b[0m     \u001b[43m_csparsetools\u001b[49m\u001b[38;5;241;43m.\u001b[39;49m\u001b[43mlil_insert\u001b[49m\u001b[43m(\u001b[49m\u001b[38;5;28;43mself\u001b[39;49m\u001b[38;5;241;43m.\u001b[39;49m\u001b[43mshape\u001b[49m\u001b[43m[\u001b[49m\u001b[38;5;241;43m0\u001b[39;49m\u001b[43m]\u001b[49m\u001b[43m,\u001b[49m\u001b[43m \u001b[49m\u001b[38;5;28;43mself\u001b[39;49m\u001b[38;5;241;43m.\u001b[39;49m\u001b[43mshape\u001b[49m\u001b[43m[\u001b[49m\u001b[38;5;241;43m1\u001b[39;49m\u001b[43m]\u001b[49m\u001b[43m,\u001b[49m\u001b[43m \u001b[49m\u001b[38;5;28;43mself\u001b[39;49m\u001b[38;5;241;43m.\u001b[39;49m\u001b[43mrows\u001b[49m\u001b[43m,\u001b[49m\n\u001b[0;32m    239\u001b[0m \u001b[43m                             \u001b[49m\u001b[38;5;28;43mself\u001b[39;49m\u001b[38;5;241;43m.\u001b[39;49m\u001b[43mdata\u001b[49m\u001b[43m,\u001b[49m\u001b[43m \u001b[49m\u001b[43mrow\u001b[49m\u001b[43m,\u001b[49m\u001b[43m \u001b[49m\u001b[43mcol\u001b[49m\u001b[43m,\u001b[49m\u001b[43m \u001b[49m\u001b[43mx\u001b[49m\u001b[43m)\u001b[49m\n",
      "File \u001b[1;32mscipy\\\\sparse\\\\_csparsetools.pyx:125\u001b[0m, in \u001b[0;36m_csparsetools.lil_insert\u001b[1;34m()\u001b[0m\n",
      "File \u001b[1;32mscipy\\\\sparse\\\\_csparsetools.pyx:177\u001b[0m, in \u001b[0;36m_csparsetools.lil_insert\u001b[1;34m()\u001b[0m\n",
      "\u001b[1;31mIndexError\u001b[0m: column index (1) out of bounds"
     ]
    }
   ],
   "source": [
    "import numpy as np\n",
    "from function import cluster_calc\n",
    "array = np.array([\n",
    "    [0, 10, 20, 30, 40, 50],\n",
    "    [10, 0, 5, 0, 0, 0],\n",
    "    [20, 5, 0, 0, 0, 0],\n",
    "    [30, 0, 0, 0, 0, 0],\n",
    "    [40, 0, 0, 0, 0, 0],\n",
    "    [50, 0, 0, 0, 0, 0]\n",
    "])\n",
    "\n",
    "print(cluster_calc(array))"
   ]
  },
  {
   "cell_type": "code",
   "execution_count": 2,
   "metadata": {},
   "outputs": [
    {
     "name": "stdout",
     "output_type": "stream",
     "text": [
      "4\n",
      "[0 0 1 2 3]\n",
      "{'Cluster 0': [10.0, 20.0], 'Cluster 1': [30.0], 'Cluster 2': [40.0], 'Cluster 3': [50.0]}\n"
     ]
    }
   ],
   "source": [
    "Cluster ={}\n",
    "from scipy.sparse.csgraph import connected_components\n",
    "from scipy.sparse import lil_matrix\n",
    "n_atoms = len(array)\n",
    "adjacency_matrix = lil_matrix((int(len(array)), int(len(array))))\n",
    "for i in range(len(array)):\n",
    "  adjacency_matrix[0,i] = array[0,i]\n",
    "  adjacency_matrix[i,0] = array[i,0]\n",
    "for i in range(1, len(array)):\n",
    "  for j in range(i+1, len(array)):\n",
    "    overlap_volume = array[i, j]\n",
    "    adjacency_matrix[i, j] = overlap_volume\n",
    "\n",
    "adjacency_matrix = adjacency_matrix.tocsr()\n",
    "labels, n_components = connected_components(adjacency_matrix[1:,1:])\n",
    "\n",
    "set_components = set(n_components) #unique number of clusters\n",
    "list_components = n_components.tolist()\n",
    "\n",
    "for i in range(len(set_components)):\n",
    "  atom_number = []\n",
    "  for n in range(len(list_components)):\n",
    "    if list_components[n] == i:\n",
    "      atom_number.append(adjacency_matrix[list_components[0],n+1])   \n",
    "      Cluster[f'Cluster {str(i)}'] = atom_number\n",
    "\n",
    "#print(adjacency_matrix)\n",
    "#print(adjacency_matrix[0,0])\n",
    "#print(list_components)\n",
    "print(labels)\n",
    "print(n_components)  \n",
    "print(Cluster)"
   ]
  },
  {
   "cell_type": "code",
   "execution_count": 31,
   "metadata": {},
   "outputs": [
    {
     "data": {
      "text/plain": [
       "100"
      ]
     },
     "execution_count": 31,
     "metadata": {},
     "output_type": "execute_result"
    }
   ],
   "source": [
    "array[0,1]"
   ]
  },
  {
   "cell_type": "code",
   "execution_count": 12,
   "metadata": {},
   "outputs": [
    {
     "name": "stdout",
     "output_type": "stream",
     "text": [
      "{'Cluster 0': [0.0], 'Cluster 1': [0.0], 'Cluster 2': [0.0], 'Cluster 3': [0.0], 'Cluster 4': [0.0]}\n"
     ]
    }
   ],
   "source": [
    "##Backup#######\n",
    "def test_calc(array):\n",
    "  Cluster ={}\n",
    "  from scipy.sparse.csgraph import connected_components\n",
    "  from scipy.sparse import lil_matrix\n",
    "  n_atoms = len(array)\n",
    "  adjacency_matrix = lil_matrix((int(len(array))-1, int(len(array))-1))\n",
    "  for i in range(1, len(array)):\n",
    "    for j in range(i+1, len(array)):\n",
    "      overlap_volume = array[i, j]\n",
    "      adjacency_matrix[i-1, j-1] = overlap_volume\n",
    "  \n",
    "  adjacency_matrix = adjacency_matrix.tocsr()\n",
    "  labels, n_components = connected_components(adjacency_matrix, directed=False)\n",
    "  \n",
    "  set_components = set(n_components) #unique number of clusters\n",
    "  list_components = n_components.tolist()\n",
    "\n",
    "  for i in range(len(set_components)):\n",
    "    atom_number = []\n",
    "    for n in range(len(list_components)):\n",
    "      if list_components[n] == i:\n",
    "        atom_number.append(adjacency_matrix[list_components[0],n])   \n",
    "        Cluster[f'Cluster {str(i)}'] = atom_number\n",
    "  return Cluster\n",
    "  \n",
    "print(test_calc(numpy_array))  "
   ]
  }
 ],
 "metadata": {
  "kernelspec": {
   "display_name": "Python 3",
   "language": "python",
   "name": "python3"
  },
  "language_info": {
   "codemirror_mode": {
    "name": "ipython",
    "version": 3
   },
   "file_extension": ".py",
   "mimetype": "text/x-python",
   "name": "python",
   "nbconvert_exporter": "python",
   "pygments_lexer": "ipython3",
   "version": "3.12.3"
  }
 },
 "nbformat": 4,
 "nbformat_minor": 2
}
