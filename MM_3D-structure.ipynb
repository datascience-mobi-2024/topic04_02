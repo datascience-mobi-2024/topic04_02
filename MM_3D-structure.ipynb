{
 "cells": [
  {
   "cell_type": "code",
   "execution_count": 1,
   "metadata": {},
   "outputs": [],
   "source": [
    "import numpy as np\n",
    "import pandas as pd\n",
    "import os\n",
    "import seaborn as sns\n",
    "import matplotlib.pyplot as plt\n",
    "import Bio\n",
    "#from localcider.sequenceParameters import SequenceParameters\n",
    "import scipy\n",
    "from scipy.spatial.distance import cdist\n",
    "import math"
   ]
  },
  {
   "cell_type": "code",
   "execution_count": 19,
   "metadata": {},
   "outputs": [],
   "source": [
    "def split_sphere(center ,R = 1, horizontal_split = 36, vertical_split = 36):\n",
    "    theta = np.linspace(0,360,horizontal_split+1)\n",
    "    c = np.linspace(-1, 1, vertical_split+1)\n",
    "    s = 1 - c**2\n",
    "    x = R * np.outer(s, np.cos(theta))\n",
    "    x += center[0]\n",
    "    y = R * np.outer(s, np.sin(theta))\n",
    "    y += center[1]\n",
    "    z = R * np.outer(c, np.ones(horizontal_split+1))\n",
    "    z += center[2]\n",
    "    return x, y, z"
   ]
  },
  {
   "cell_type": "code",
   "execution_count": 83,
   "metadata": {},
   "outputs": [],
   "source": [
    "pdb_path = './data/pdbs'\n",
    "with open(os.path.join(pdb_path, 'AF-C0H3V8-F1.pdb')) as f:\n",
    "    Atom_array = np.empty((0, 4))\n",
    "    VdW_radii = {'C': 3.1, 'N': 2.95, 'O': 2.96} # Van der Waals radii in Angstrom enlarged by watermolecule radius 1.4 A (https://academic.oup.com/nar/article/49/W1/W559/6279848#267025710)\n",
    "    C_C = 6.2\n",
    "    C_N = 6.05\n",
    "    C_O = 6.06\n",
    "    N_N = 5.9\n",
    "    N_O = 5.91\n",
    "    O_O = 5.92\n",
    "    X_array = np.array([[]])\n",
    "    C_array = np.empty((0,4))\n",
    "    N_array = np.empty((0,4))\n",
    "    O_array = np.empty((0,4))\n",
    "    for line in f:\n",
    "        line = line.strip()\n",
    "        if line.startswith('ATOM'):\n",
    "            if ('ASP' in line and 'OD' in line) or ('GLU' in line and 'OE' in line):\n",
    "                line_array = np.array([[line[7:12].strip(), line[27:38].strip(), line[39:46].strip(), line[47:54].strip()]])\n",
    "                line_array = line_array.astype('float64')\n",
    "                Atom_array = np.append(Atom_array, line_array, axis = 0)\n",
    "                if 'C' in line[12:17]:\n",
    "                    X_array = np.append(X_array, int('0'))\n",
    "                elif 'N' in line[12:17]:\n",
    "                    X_array = np.append(X_array, int('1'))\n",
    "                elif 'O' in line[12:17]:\n",
    "                    X_array = np.append(X_array, int('2'))\n",
    "from function import distance\n",
    "Atom_distance = distance(Atom_array, Atom_array, 6, remove_nan = False)\n",
    "Atom_distance = np.where(Atom_distance==0, np.nan, Atom_distance)"
   ]
  },
  {
   "cell_type": "code",
   "execution_count": 84,
   "metadata": {},
   "outputs": [],
   "source": [
    "def Sphere_coord(Atom_distance, Atom_coord):\n",
    "    Sphere = {}\n",
    "    for n in  np.unique(np.where(~np.isnan(Atom_distance[1:,1:]))[0]):\n",
    "        xyz = Atom_array[n,1:4]\n",
    "        x,y,z = split_sphere(xyz, R = 6)\n",
    "        Sphere[int(Atom_array[n,0])] = np.array([x,y,z])\n",
    "    return Sphere   \n",
    " \n",
    "    "
   ]
  },
  {
   "cell_type": "code",
   "execution_count": 105,
   "metadata": {},
   "outputs": [
    {
     "data": {
      "text/plain": [
       "791.9431480924271"
      ]
     },
     "execution_count": 105,
     "metadata": {},
     "output_type": "execute_result"
    }
   ],
   "source": [
    "def intersect_vol(d:str, r1:str, r2:str):\n",
    "    d = float(d)\n",
    "    r1 = float(r1)\n",
    "    r2 = float(r2)\n",
    "    vol = float((np.pi*(r2+r1-d)**2 * (d**2 + 2*d*r1 - 3*r1**2 + 2*d*r2 + 6*r1*r2 - 3*r2**2))/(12*d))\n",
    "    return vol\n",
    "intersect_vol('1', '6', '6')"
   ]
  }
 ],
 "metadata": {
  "kernelspec": {
   "display_name": "Python 3",
   "language": "python",
   "name": "python3"
  },
  "language_info": {
   "codemirror_mode": {
    "name": "ipython",
    "version": 3
   },
   "file_extension": ".py",
   "mimetype": "text/x-python",
   "name": "python",
   "nbconvert_exporter": "python",
   "pygments_lexer": "ipython3",
   "version": "3.12.3"
  }
 },
 "nbformat": 4,
 "nbformat_minor": 2
}
