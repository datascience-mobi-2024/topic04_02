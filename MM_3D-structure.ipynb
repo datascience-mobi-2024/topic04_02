{
 "cells": [
  {
   "cell_type": "code",
   "execution_count": 1,
   "metadata": {},
   "outputs": [],
   "source": [
    "import numpy as np\n",
    "import pandas as pd\n",
    "import os\n",
    "import seaborn as sns\n",
    "import matplotlib.pyplot as plt\n",
    "import Bio\n",
    "#from localcider.sequenceParameters import SequenceParameters\n",
    "import scipy\n",
    "from scipy.spatial.distance import cdist\n",
    "import math"
   ]
  },
  {
   "cell_type": "code",
   "execution_count": 1,
   "metadata": {},
   "outputs": [],
   "source": [
    "path = './data/pdbs'\n",
    "from function import VdW_interaction\n",
    "VdW_clus, VdW_vol = VdW_interaction(path, 'AF-C0H3V8-F1.pdb', output = 'volume')\n"
   ]
  },
  {
   "cell_type": "code",
   "execution_count": 1,
   "metadata": {},
   "outputs": [
    {
     "name": "stdout",
     "output_type": "stream",
     "text": [
      "{'Cluster 0': [10.0, 20.0], 'Cluster 1': [30.0], 'Cluster 2': [40.0], 'Cluster 3': [50.0]}\n"
     ]
    }
   ],
   "source": [
    "import numpy as np\n",
    "from function import cluster_calc\n",
    "array = np.array([\n",
    "    [0, 10, 20, 30, 40, 50],\n",
    "    [10, 0, 5, 0, 0, 0],\n",
    "    [20, 5, 0, 0, 0, 0],\n",
    "    [30, 0, 0, 0, 0, 0],\n",
    "    [40, 0, 0, 0, 0, 0],\n",
    "    [50, 0, 0, 0, 0, 0]\n",
    "])\n",
    "\n",
    "print(cluster_calc(array))"
   ]
  }
 ],
 "metadata": {
  "kernelspec": {
   "display_name": "Python 3",
   "language": "python",
   "name": "python3"
  },
  "language_info": {
   "codemirror_mode": {
    "name": "ipython",
    "version": 3
   },
   "file_extension": ".py",
   "mimetype": "text/x-python",
   "name": "python",
   "nbconvert_exporter": "python",
   "pygments_lexer": "ipython3",
   "version": "3.12.3"
  }
 },
 "nbformat": 4,
 "nbformat_minor": 2
}
