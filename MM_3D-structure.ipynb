{
 "cells": [
  {
   "cell_type": "code",
   "execution_count": 1,
   "metadata": {},
   "outputs": [],
   "source": [
    "import numpy as np\n",
    "import pandas as pd\n",
    "import os\n",
    "import seaborn as sns\n",
    "import matplotlib.pyplot as plt\n",
    "import Bio\n",
    "#from localcider.sequenceParameters import SequenceParameters\n",
    "import scipy\n",
    "from scipy.spatial.distance import cdist\n",
    "import math"
   ]
  },
  {
   "cell_type": "code",
   "execution_count": 2,
   "metadata": {},
   "outputs": [
    {
     "ename": "SyntaxError",
     "evalue": "invalid syntax. Perhaps you forgot a comma? (function.py, line 108)",
     "output_type": "error",
     "traceback": [
      "Traceback \u001b[1;36m(most recent call last)\u001b[0m:\n",
      "\u001b[0m  File \u001b[0;32m~\\AppData\\Local\\Packages\\PythonSoftwareFoundation.Python.3.12_qbz5n2kfra8p0\\LocalCache\\local-packages\\Python312\\site-packages\\IPython\\core\\interactiveshell.py:3577\u001b[0m in \u001b[0;35mrun_code\u001b[0m\n    exec(code_obj, self.user_global_ns, self.user_ns)\u001b[0m\n",
      "\u001b[1;36m  Cell \u001b[1;32mIn[2], line 2\u001b[1;36m\n\u001b[1;33m    from function import VdW_interaction\u001b[1;36m\n",
      "\u001b[1;36m  File \u001b[1;32mc:\\Users\\marik\\OneDrive - bwedu\\Uni HD\\FS 4\\Bioinfo\\topic04_02\\function.py:108\u001b[1;36m\u001b[0m\n\u001b[1;33m    def VdW_interaction(path, pdb_files=None, output = 'volume' ' cluster' False):\u001b[0m\n\u001b[1;37m                                                       ^\u001b[0m\n\u001b[1;31mSyntaxError\u001b[0m\u001b[1;31m:\u001b[0m invalid syntax. Perhaps you forgot a comma?\n"
     ]
    }
   ],
   "source": [
    "path = './data/pdbs'\n",
    "from function import VdW_interaction\n",
    "protein_test = VdW_interaction(path, 'AF-C0H3V8-F1.pdb')\n"
   ]
  },
  {
   "cell_type": "code",
   "execution_count": 39,
   "metadata": {},
   "outputs": [
    {
     "name": "stdout",
     "output_type": "stream",
     "text": [
      "{'Cluster 0': [0.0, 5.0], 'Cluster 1': [0.0], 'Cluster 2': [0.0], 'Cluster 3': [0.0]}\n"
     ]
    }
   ],
   "source": [
    "import numpy as np\n",
    "from function import cluster_calc\n",
    "array = np.array([\n",
    "    [0, 10, 20, 30, 40, 50],\n",
    "    [10, 0, 5, 0, 0, 0],\n",
    "    [20, 5, 0, 0, 0, 0],\n",
    "    [30, 0, 0, 0, 0, 0],\n",
    "    [40, 0, 0, 0, 0, 0],\n",
    "    [50, 0, 0, 0, 0, 0]\n",
    "])\n",
    "\n",
    "print(cluster_calc(array))"
   ]
  },
  {
   "cell_type": "code",
   "execution_count": 46,
   "metadata": {},
   "outputs": [
    {
     "name": "stdout",
     "output_type": "stream",
     "text": [
      "4\n",
      "[0 0 1 2 3]\n",
      "{'Cluster 0': [10.0, 20.0], 'Cluster 1': [30.0], 'Cluster 2': [40.0], 'Cluster 3': [50.0]}\n"
     ]
    }
   ],
   "source": [
    "Cluster ={}\n",
    "from scipy.sparse.csgraph import connected_components\n",
    "from scipy.sparse import lil_matrix\n",
    "n_atoms = len(array)\n",
    "adjacency_matrix = lil_matrix((int(len(array)), int(len(array))))\n",
    "for i in range(len(array)):\n",
    "  adjacency_matrix[0,i] = array[0,i]\n",
    "  adjacency_matrix[i,0] = array[i,0]\n",
    "for i in range(1, len(array)):\n",
    "  for j in range(i+1, len(array)):\n",
    "    overlap_volume = array[i, j]\n",
    "    adjacency_matrix[i, j] = overlap_volume\n",
    "\n",
    "adjacency_matrix = adjacency_matrix.tocsr()\n",
    "labels, n_components = connected_components(adjacency_matrix[1:,1:])\n",
    "\n",
    "set_components = set(n_components) #unique number of clusters\n",
    "list_components = n_components.tolist()\n",
    "\n",
    "for i in range(len(set_components)):\n",
    "  atom_number = []\n",
    "  for n in range(len(list_components)):\n",
    "    if list_components[n] == i:\n",
    "      atom_number.append(adjacency_matrix[list_components[0],n+1])   \n",
    "      Cluster[f'Cluster {str(i)}'] = atom_number\n",
    "\n",
    "#print(adjacency_matrix)\n",
    "#print(adjacency_matrix[0,0])\n",
    "#print(list_components)\n",
    "print(labels)\n",
    "print(n_components)  \n",
    "print(Cluster)"
   ]
  },
  {
   "cell_type": "code",
   "execution_count": 31,
   "metadata": {},
   "outputs": [
    {
     "data": {
      "text/plain": [
       "100"
      ]
     },
     "execution_count": 31,
     "metadata": {},
     "output_type": "execute_result"
    }
   ],
   "source": [
    "array[0,1]"
   ]
  },
  {
   "cell_type": "code",
   "execution_count": 12,
   "metadata": {},
   "outputs": [
    {
     "name": "stdout",
     "output_type": "stream",
     "text": [
      "{'Cluster 0': [0.0], 'Cluster 1': [0.0], 'Cluster 2': [0.0], 'Cluster 3': [0.0], 'Cluster 4': [0.0]}\n"
     ]
    }
   ],
   "source": [
    "##Backup#######\n",
    "def test_calc(array):\n",
    "  Cluster ={}\n",
    "  from scipy.sparse.csgraph import connected_components\n",
    "  from scipy.sparse import lil_matrix\n",
    "  n_atoms = len(array)\n",
    "  adjacency_matrix = lil_matrix((int(len(array))-1, int(len(array))-1))\n",
    "  for i in range(1, len(array)):\n",
    "    for j in range(i+1, len(array)):\n",
    "      overlap_volume = array[i, j]\n",
    "      adjacency_matrix[i-1, j-1] = overlap_volume\n",
    "  \n",
    "  adjacency_matrix = adjacency_matrix.tocsr()\n",
    "  labels, n_components = connected_components(adjacency_matrix, directed=False)\n",
    "  \n",
    "  set_components = set(n_components) #unique number of clusters\n",
    "  list_components = n_components.tolist()\n",
    "\n",
    "  for i in range(len(set_components)):\n",
    "    atom_number = []\n",
    "    for n in range(len(list_components)):\n",
    "      if list_components[n] == i:\n",
    "        atom_number.append(adjacency_matrix[list_components[0],n])   \n",
    "        Cluster[f'Cluster {str(i)}'] = atom_number\n",
    "  return Cluster\n",
    "  \n",
    "print(test_calc(numpy_array))  "
   ]
  }
 ],
 "metadata": {
  "kernelspec": {
   "display_name": "Python 3",
   "language": "python",
   "name": "python3"
  },
  "language_info": {
   "codemirror_mode": {
    "name": "ipython",
    "version": 3
   },
   "file_extension": ".py",
   "mimetype": "text/x-python",
   "name": "python",
   "nbconvert_exporter": "python",
   "pygments_lexer": "ipython3",
   "version": "3.12.3"
  }
 },
 "nbformat": 4,
 "nbformat_minor": 2
}
