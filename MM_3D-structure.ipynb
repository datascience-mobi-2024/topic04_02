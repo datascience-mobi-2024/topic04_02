{
 "cells": [
  {
   "cell_type": "code",
   "execution_count": 14,
   "metadata": {},
   "outputs": [],
   "source": [
    "import itertools\n",
    "import mdtraj as md\n",
    "import mdtraj.testing\n",
    "\n"
   ]
  },
  {
   "cell_type": "code",
   "execution_count": 67,
   "metadata": {},
   "outputs": [],
   "source": [
    "\n",
    "import os\n",
    "input_path = './data/pdbs'\n",
    "output = './data/pqrs'\n",
    "\n",
    "\n",
    "def pdb2pqr(input_path,pdb_files, output_path):\n",
    "    import os\n",
    "    if pdb_files is None:\n",
    "        pdb_files = [f for f in os.listdir(input_path) if f.endswith('.pdb')]\n",
    "    if isinstance(pdb_files, str):\n",
    "        pdb_files = [pdb_files]\n",
    "    for pdb_file in pdb_files:\n",
    "        name = f'{(pdb_file.split('.')[0]).split('-')[1]}.pqr'\n",
    "        os.system(f'pdb2pqr \"{os.path.join(input_path, str(pdb_file))}\" \"{os.path.join(output_path, name)}\" -ff={'AMBER'} --noop')\n",
    "\n",
    "\n",
    "pdb2pqr(input_path, 'AF-P39846-F1.pdb', output)"
   ]
  }
 ],
 "metadata": {
  "kernelspec": {
   "display_name": "Python 3",
   "language": "python",
   "name": "python3"
  },
  "language_info": {
   "codemirror_mode": {
    "name": "ipython",
    "version": 3
   },
   "file_extension": ".py",
   "mimetype": "text/x-python",
   "name": "python",
   "nbconvert_exporter": "python",
   "pygments_lexer": "ipython3",
   "version": "3.12.3"
  }
 },
 "nbformat": 4,
 "nbformat_minor": 2
}
