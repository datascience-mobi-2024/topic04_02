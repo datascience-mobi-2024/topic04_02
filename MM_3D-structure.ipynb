{
 "cells": [
  {
   "cell_type": "code",
   "execution_count": 1,
   "metadata": {},
   "outputs": [],
   "source": [
    "from function import pdb2pqr\n",
    "input_path = './data/pdbs'\n",
    "output_path = './data/pqrs'\n",
    "pdb2pqr(input_path = input_path, output_path = output_path)"
   ]
  },
  {
   "cell_type": "code",
   "execution_count": 3,
   "metadata": {},
   "outputs": [
    {
     "name": "stderr",
     "output_type": "stream",
     "text": [
      "c:\\Users\\marik\\OneDrive - bwedu\\Uni HD\\FS 4\\Bioinfo\\topic04_02\\helper_function.py:59: RuntimeWarning: invalid value encountered in cast\n",
      "  distance[:,0] = distance[:,0].astype('int')\n",
      "c:\\Users\\marik\\OneDrive - bwedu\\Uni HD\\FS 4\\Bioinfo\\topic04_02\\helper_function.py:78: RuntimeWarning: invalid value encountered in arccos\n",
      "  theta = np.arccos((d_DH[n,1,1]**2 + d_HA[n,1:]**2 - d_DA[1:,1:][n,:]**2)/(2*d_DH[n,1,1]*d_HA[1:,1:][n,:]))\n"
     ]
    },
    {
     "ename": "ValueError",
     "evalue": "could not convert string to float: '12.468-100.846'",
     "output_type": "error",
     "traceback": [
      "\u001b[1;31m---------------------------------------------------------------------------\u001b[0m",
      "\u001b[1;31mValueError\u001b[0m                                Traceback (most recent call last)",
      "Cell \u001b[1;32mIn[3], line 3\u001b[0m\n\u001b[0;32m      1\u001b[0m \u001b[38;5;28;01mfrom\u001b[39;00m \u001b[38;5;21;01mfunction\u001b[39;00m \u001b[38;5;28;01mimport\u001b[39;00m H_bond\n\u001b[0;32m      2\u001b[0m path \u001b[38;5;241m=\u001b[39m \u001b[38;5;124m'\u001b[39m\u001b[38;5;124m./data/pqrs\u001b[39m\u001b[38;5;124m'\u001b[39m\n\u001b[1;32m----> 3\u001b[0m Hbond \u001b[38;5;241m=\u001b[39m \u001b[43mH_bond\u001b[49m\u001b[43m(\u001b[49m\u001b[43mpath\u001b[49m\u001b[43m \u001b[49m\u001b[38;5;241;43m=\u001b[39;49m\u001b[43m \u001b[49m\u001b[43mpath\u001b[49m\u001b[43m)\u001b[49m\n",
      "File \u001b[1;32mc:\\Users\\marik\\OneDrive - bwedu\\Uni HD\\FS 4\\Bioinfo\\topic04_02\\function.py:175\u001b[0m, in \u001b[0;36mH_bond\u001b[1;34m(path, pqr_files)\u001b[0m\n\u001b[0;32m    173\u001b[0m     \u001b[38;5;28;01melse\u001b[39;00m: \n\u001b[0;32m    174\u001b[0m         line_array \u001b[38;5;241m=\u001b[39m np\u001b[38;5;241m.\u001b[39marray([[atom_cache[i]\u001b[38;5;241m.\u001b[39msplit()[\u001b[38;5;241m1\u001b[39m], atom_cache[i]\u001b[38;5;241m.\u001b[39msplit()[\u001b[38;5;241m5\u001b[39m], atom_cache[i]\u001b[38;5;241m.\u001b[39msplit()[\u001b[38;5;241m6\u001b[39m], atom_cache[i]\u001b[38;5;241m.\u001b[39msplit()[\u001b[38;5;241m7\u001b[39m]]])\n\u001b[1;32m--> 175\u001b[0m         line_array \u001b[38;5;241m=\u001b[39m \u001b[43mline_array\u001b[49m\u001b[38;5;241;43m.\u001b[39;49m\u001b[43mastype\u001b[49m\u001b[43m(\u001b[49m\u001b[38;5;124;43m'\u001b[39;49m\u001b[38;5;124;43mfloat64\u001b[39;49m\u001b[38;5;124;43m'\u001b[39;49m\u001b[43m)\u001b[49m\n\u001b[0;32m    176\u001b[0m         Donor_array \u001b[38;5;241m=\u001b[39m np\u001b[38;5;241m.\u001b[39mappend(Donor_array, line_array, axis\u001b[38;5;241m=\u001b[39m\u001b[38;5;241m0\u001b[39m)         \n\u001b[0;32m    177\u001b[0m \u001b[38;5;28;01melif\u001b[39;00m Donor_list[n][\u001b[38;5;241m2\u001b[39m] \u001b[38;5;241m==\u001b[39m atom_cache[i]\u001b[38;5;241m.\u001b[39msplit()[\u001b[38;5;241m2\u001b[39m]:\n",
      "\u001b[1;31mValueError\u001b[0m: could not convert string to float: '12.468-100.846'"
     ]
    }
   ],
   "source": [
    "from function import H_bond\n",
    "path = './data/pqrs'\n",
    "Hbond = H_bond(path = path)"
   ]
  },
  {
   "cell_type": "code",
   "execution_count": 2,
   "metadata": {},
   "outputs": [
    {
     "ename": "NameError",
     "evalue": "name 'Hbond' is not defined",
     "output_type": "error",
     "traceback": [
      "\u001b[1;31m---------------------------------------------------------------------------\u001b[0m",
      "\u001b[1;31mNameError\u001b[0m                                 Traceback (most recent call last)",
      "Cell \u001b[1;32mIn[2], line 1\u001b[0m\n\u001b[1;32m----> 1\u001b[0m \u001b[38;5;28mprint\u001b[39m(\u001b[43mHbond\u001b[49m\u001b[38;5;241m.\u001b[39mkeys())\n",
      "\u001b[1;31mNameError\u001b[0m: name 'Hbond' is not defined"
     ]
    }
   ],
   "source": []
  },
  {
   "cell_type": "code",
   "execution_count": null,
   "metadata": {},
   "outputs": [],
   "source": [
    "import numpy as np\n",
    "import trimesh\n",
    "protein_coords = np.array###!!!!!!!!!!!!!\n",
    "\n",
    "mesh = trimesh.Trimesh(protein_coords, np.ones((protein_coords.shape[0], 3)))\n",
    "alpha = 0.4\n",
    "mesh.alpha_shape(alpha)\n",
    "surface_area = mesh.area\n",
    "print(\"Estimated surface area of the protein:\", surface_area)"
   ]
  }
 ],
 "metadata": {
  "kernelspec": {
   "display_name": "Python 3",
   "language": "python",
   "name": "python3"
  },
  "language_info": {
   "codemirror_mode": {
    "name": "ipython",
    "version": 3
   },
   "file_extension": ".py",
   "mimetype": "text/x-python",
   "name": "python",
   "nbconvert_exporter": "python",
   "pygments_lexer": "ipython3",
   "version": "3.12.3"
  }
 },
 "nbformat": 4,
 "nbformat_minor": 2
}
