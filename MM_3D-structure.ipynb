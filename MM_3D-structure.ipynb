{
 "cells": [
  {
   "cell_type": "code",
   "execution_count": 14,
   "metadata": {},
   "outputs": [],
   "source": [
    "import itertools\n",
    "import mdtraj as md\n",
    "import mdtraj.testing\n",
    "\n"
   ]
  },
  {
   "cell_type": "code",
   "execution_count": 15,
   "metadata": {},
   "outputs": [
    {
     "name": "stdout",
     "output_type": "stream",
     "text": [
      "<mdtraj.Trajectory with 1 frames, 1105 atoms, 143 residues, without unitcells>\n"
     ]
    },
    {
     "name": "stderr",
     "output_type": "stream",
     "text": [
      "C:\\Users\\marik\\AppData\\Local\\Packages\\PythonSoftwareFoundation.Python.3.12_qbz5n2kfra8p0\\LocalCache\\local-packages\\Python312\\site-packages\\mdtraj\\formats\\pdb\\pdbfile.py:206: UserWarning: Unlikely unit cell vectors detected in PDB file likely resulting from a dummy CRYST1 record. Discarding unit cell vectors.\n",
      "  warnings.warn(\n"
     ]
    }
   ],
   "source": [
    "t = md.load('./data/pdbs/AF-C0H3V2-F1.pdb')\n",
    "print(t)\n",
    "hbonds = md.baker_hubbard(t)\n",
    "for hbond in hbonds:\n",
    "    print(hbond)"
   ]
  },
  {
   "cell_type": "code",
   "execution_count": 16,
   "metadata": {},
   "outputs": [],
   "source": [
    "label = lambda hbond: f\"{t.topology.atom(hbond[0])} -- {t.topology.atom(hbond[2])}\"\n",
    "\n",
    "for hbond in hbonds:\n",
    "    print(label(hbond))"
   ]
  },
  {
   "cell_type": "code",
   "execution_count": 139,
   "metadata": {},
   "outputs": [
    {
     "name": "stdout",
     "output_type": "stream",
     "text": [
      "[[ 3.9000e+01 -1.4120e+01 -6.0410e+00  8.5210e+00]\n",
      " [ 4.0000e+01 -1.3733e+01 -4.4660e+00  8.3300e+00]\n",
      " [ 4.1000e+01 -1.5167e+01 -4.8790e+00  8.9930e+00]\n",
      " [ 7.7000e+01 -1.3169e+01 -4.5550e+00  2.2840e+00]\n",
      " [ 1.4800e+02  5.9300e-01  8.5840e+00 -7.9420e+00]\n",
      " [ 1.4900e+02 -2.6470e+00  8.5840e+00 -9.3750e+00]\n",
      " [ 1.5000e+02 -2.0450e+00  9.0810e+00 -1.0921e+01]\n",
      " [ 1.5100e+02  1.2530e+00  9.3270e+00 -9.9250e+00]\n",
      " [ 1.5200e+02  1.2200e-01  9.4950e+00 -1.1225e+01]\n",
      " [ 2.1300e+02  1.1978e+01  5.4650e+00 -7.0490e+00]\n",
      " [ 2.2700e+02  1.3337e+01  9.5800e+00 -1.2762e+01]\n",
      " [ 2.6400e+02  1.9865e+01  5.4070e+00 -8.4590e+00]\n",
      " [ 2.8800e+02  1.1538e+01  3.6110e+00 -1.4134e+01]\n",
      " [ 3.1200e+02  1.6392e+01  1.1210e+00 -5.2740e+00]\n",
      " [ 2.6500e+02  1.9435e+01  4.5550e+00 -5.0460e+00]\n",
      " [ 2.8900e+02  8.1220e+00  3.3140e+00 -1.3284e+01]\n",
      " [ 3.1300e+02  1.6922e+01  2.9940e+00 -2.3210e+00]\n",
      " [ 2.6600e+02  2.1016e+01  5.1200e+00 -4.6220e+00]\n",
      " [ 2.9000e+02  7.6010e+00  3.7950e+00 -1.4865e+01]\n",
      " [ 3.1400e+02  1.8404e+01  2.1720e+00 -1.9650e+00]\n",
      " [ 2.6700e+02  2.1909e+01  6.0570e+00 -7.8120e+00]\n",
      " [ 2.9100e+02  1.0739e+01  4.2950e+00 -1.6134e+01]\n",
      " [ 3.1500e+02  1.8264e+01  3.9000e-02 -4.6700e+00]\n",
      " [ 2.6800e+02  2.2383e+01  5.9490e+00 -6.1480e+00]\n",
      " [ 2.9200e+02  9.0300e+00  4.3310e+00 -1.6421e+01]\n",
      " [ 3.1600e+02  1.9148e+01  5.3500e-01 -3.2650e+00]\n",
      " [ 3.5000e+02  8.1570e+00  1.1578e+01 -8.8070e+00]\n",
      " [ 3.5100e+02  6.8690e+00  1.1059e+01 -7.9480e+00]\n",
      " [ 3.5200e+02  7.8220e+00  1.2245e+01 -7.3550e+00]\n",
      " [ 4.0000e+02  8.1450e+00 -3.7820e+00  1.9890e+00]\n",
      " [ 4.1700e+02  9.5700e+00 -1.1900e+00  5.9170e+00]\n",
      " [ 4.3400e+02  4.7620e+00  5.2130e+00  1.0543e+01]\n",
      " [ 5.2200e+02 -5.4010e+00  6.8150e+00  4.4570e+00]\n",
      " [ 5.5200e+02  3.5420e+00  4.2070e+00  1.3324e+01]\n",
      " [ 5.5300e+02  3.4420e+00  5.0920e+00  1.4693e+01]\n",
      " [ 5.5400e+02  4.6160e+00  3.9680e+00  1.4531e+01]\n",
      " [ 5.7400e+02 -6.0540e+00  7.7970e+00  1.1072e+01]\n",
      " [ 5.7500e+02 -3.6290e+00  7.4320e+00  8.5140e+00]\n",
      " [ 5.7600e+02 -4.7230e+00  7.9770e+00  7.2860e+00]\n",
      " [ 5.7700e+02 -7.4300e+00  8.3110e+00  9.3480e+00]\n",
      " [ 5.7800e+02 -6.7990e+00  8.4560e+00  7.7380e+00]\n",
      " [ 6.0500e+02 -8.1650e+00  5.5510e+00  9.4860e+00]\n",
      " [ 6.2900e+02 -9.8830e+00 -5.9180e+00  6.6380e+00]\n",
      " [ 6.3000e+02 -8.8490e+00 -9.2320e+00  7.3390e+00]\n",
      " [ 6.3100e+02 -9.6250e+00 -9.8600e+00  5.9230e+00]\n",
      " [ 6.3200e+02 -1.0840e+01 -6.8470e+00  4.8270e+00]\n",
      " [ 6.3300e+02 -1.0720e+01 -8.5530e+00  4.5450e+00]\n",
      " [ 6.8600e+02 -4.9580e+00 -4.8170e+00 -5.0850e+00]\n",
      " [ 7.6000e+02 -3.0970e+00 -1.6760e+00 -1.5454e+01]\n",
      " [ 8.1900e+02  1.0626e+01  6.0210e+00 -2.4287e+01]\n",
      " [ 8.7700e+02 -3.8820e+00  4.7490e+00 -1.0440e+01]\n",
      " [ 1.0050e+03 -1.3017e+01  4.4700e+00  8.3490e+00]\n",
      " [ 1.0060e+03 -1.1123e+01  5.2050e+00  1.1263e+01]\n",
      " [ 1.0070e+03 -1.1577e+01  6.8760e+00  1.1217e+01]\n",
      " [ 1.0080e+03 -1.3498e+01  6.6040e+00  8.3420e+00]\n",
      " [ 1.0090e+03 -1.2906e+01  7.6540e+00  9.5820e+00]\n",
      " [ 1.0660e+03 -2.5925e+01 -2.2320e+00  1.4564e+01]\n",
      " [ 1.0670e+03 -2.7092e+01 -1.2180e+00  1.4036e+01]\n",
      " [ 1.0680e+03 -2.6802e+01 -2.6140e+00  1.3240e+01]]\n"
     ]
    }
   ],
   "source": [
    "def pqr_parser(path, pdb_files=None):\n",
    "    import numpy as np\n",
    "    import os\n",
    "    import scipy\n",
    "    from scipy.spatial.distance import cdist\n",
    "    \n",
    "    if pdb_files is None:\n",
    "        pdb_files = [f for f in os.listdir(path) if f.endswith('.pdb')]\n",
    "    if isinstance(pdb_files, str):\n",
    "        pdb_files = [pdb_files]\n",
    "    for pdb_file in pdb_files:\n",
    "    Donor_list = [('GLN', 'NE2', 'HE22'), ('GLN', 'NE2', 'HE23'), ('GLU', 'OE2', 'HE2'), ('ASP', 'OD2', 'HD2'), ('ASN', 'ND2', 'HD21'), ('ASN', 'ND2', 'HD22'),\n",
    "                    ('HIS', 'NE2', 'HE2'), ('HIS', 'ND1', 'ND2'), ('LYS', 'NZ', 'HZ1'), ('LYS', 'NZ', 'HZ2'), ('LYS', 'NZ', 'HZ3'), ('ARG', 'NE', 'HE'), \n",
    "                    ('ARG', 'NH1', 'HH11'), ('ARG', 'NH1', 'HH12'), ('ARG', 'NH2', 'HH21'), ('ARG', 'NH2', 'HH22'), ('SER', 'OG', 'HG'), ('THR', 'OG1', 'HG1'), \n",
    "                    ('TRP', 'NE1', 'HE1'), ('TYR', 'OH', 'HH')]\n",
    "    Acceptor_list = [('GLN', 'OE1'), ('ASP', 'OD1'), ('ASP', 'OD2'), ('ASN', 'OD1')]\n",
    "    with open(os.path.join(path, 'C0H3Z2.pqr')) as f:\n",
    "        Donor_array = np.empty((0, 4))\n",
    "        H_array = np.empty((0, 4))\n",
    "        Acceptor_array = np.empty((0, 4))\n",
    "        aa_cache = []\n",
    "        atom_cache = []\n",
    "        for line in f:\n",
    "            if line.startswith('ATOM'):\n",
    "                if not aa_cache:\n",
    "                    aa_cache.append(line.split()[3])\n",
    "                    atom_cache.append(line)\n",
    "                elif aa_cache[0] == line.split()[3]:\n",
    "                    atom_cache.append(line)\n",
    "                else:\n",
    "                    if aa_cache[0] != line.split()[3]:                \n",
    "                        for n in range(len(Donor_list)):\n",
    "                            if aa_cache[0] == Donor_list[n][0]:\n",
    "                                for i in range(len(atom_cache)):\n",
    "                                    if Donor_list[n][1] == atom_cache[i].split()[2]:\n",
    "                                        if ('GLU' == aa_cache[0]) and 'OE2' in atom_cache[i].split()[2]:\n",
    "                                            if any('HE2' in string for string in atom_cache):\n",
    "                                                line_array = np.array([[atom_cache[i].split()[1], atom_cache[i].split()[5], atom_cache[i].split()[6], atom_cache[i].split()[7]]])\n",
    "                                                line_array = line_array.astype('float64')\n",
    "                                                Donor_array = np.append(Donor_array, line_array, axis=0) \n",
    "                                        elif ('ASP' == aa_cache[0]) and 'OD2' in atom_cache[i].split()[2]:\n",
    "                                            if any('HD2' in string for string in atom_cache):\n",
    "                                                line_array = np.array([[atom_cache[i].split()[1], atom_cache[i].split()[5], atom_cache[i].split()[6], atom_cache[i].split()[7]]])\n",
    "                                                line_array = line_array.astype('float64')\n",
    "                                                Donor_array = np.append(Donor_array, line_array, axis=0)                                             \n",
    "                                        elif('HIS' == aa_cache[0]) and 'ND1' in atom_cache[i].split()[2]:\n",
    "                                            if any ('HD1' in string for string in atom_cache):\n",
    "                                                line_array = np.array([[atom_cache[i].split()[1], atom_cache[i].split()[5], atom_cache[i].split()[6], atom_cache[i].split()[7]]])\n",
    "                                                line_array = line_array.astype('float64')\n",
    "                                                Donor_array = np.append(Donor_array, line_array, axis=0)\n",
    "                                        else: \n",
    "                                            line_array = np.array([[atom_cache[i].split()[1], atom_cache[i].split()[5], atom_cache[i].split()[6], atom_cache[i].split()[7]]])\n",
    "                                            line_array = line_array.astype('float64')\n",
    "                                            Donor_array = np.append(Donor_array, line_array, axis=0)         \n",
    "                                    elif Donor_list[n][2] == atom_cache[i].split()[2]:\n",
    "                                        line_array = np.array([[atom_cache[i].split()[1], atom_cache[i].split()[5], atom_cache[i].split()[6], atom_cache[i].split()[7]]])\n",
    "                                        line_array = line_array.astype('float64')\n",
    "                                        H_array = np.append(H_array, line_array, axis=0)\n",
    "                        for n in range(len(Acceptor_list)):\n",
    "                            if aa_cache[0] == Acceptor_list[n][0]:\n",
    "                                for i in range(len(atom_cache)):\n",
    "                                    if Acceptor_list[n][1] == atom_cache[i].split()[2]:\n",
    "                                        if ('GLU' == aa_cache[0]) and 'OE2' in atom_cache[i].split()[2]:\n",
    "                                            if any('HE2' not in string for string in atom_cache):\n",
    "                                                line_array = np.array([[atom_cache[i].split()[1], atom_cache[i].split()[5], atom_cache[i].split()[6], atom_cache[i].split()[7]]])\n",
    "                                                line_array = line_array.astype('float64')\n",
    "                                                Acceptor_array = np.append(Acceptor_array, line_array, axis=0)\n",
    "                                        elif ('ASP' == aa_cache[0]) and 'OD' in atom_cache[i].split()[2]:\n",
    "                                            if any('HD' not in string for string in atom_cache):\n",
    "                                                line_array = np.array([[atom_cache[i].split()[1], atom_cache[i].split()[5], atom_cache[i].split()[6], atom_cache[i].split()[7]]])\n",
    "                                                line_array = line_array.astype('float64')\n",
    "                                                Acceptor_array = np.append(Acceptor_array, line_array, axis=0)\n",
    "                                        else: \n",
    "                                            line_array = np.array([[atom_cache[i].split()[1], atom_cache[i].split()[5], atom_cache[i].split()[6], atom_cache[i].split()[7]]])\n",
    "                                            line_array = line_array.astype('float64')\n",
    "                                            Donor_array = np.append(Donor_array, line_array, axis=0)\n",
    "    return Donor_array, H_array, Acceptor_array\n",
    "\n"
   ]
  },
  {
   "cell_type": "code",
   "execution_count": 92,
   "metadata": {},
   "outputs": [
    {
     "name": "stdout",
     "output_type": "stream",
     "text": [
      "0\n",
      "1\n"
     ]
    }
   ],
   "source": [
    "Donor_list = [('GLN', 'NE2', 'HE22', 'HE23'), ('GLU', 'OE2', 'HE2'), ('ASP', 'OD2', 'HD2'), ('ASN', 'ND2', 'HD21', 'HD22'), \n",
    "                  ('HIS', 'NE2', 'HE2'), ('HIS', 'ND1', 'ND2'), ('LYS', 'NZ', 'HZ1', 'HZ2', 'HZ3'), ('ARG', 'NE', 'HE'), \n",
    "                  ('ARG', 'NH1', 'HH11', 'HH12'), ('ARG', 'NH2', 'HH21', 'HH22'), ('SER', 'OG', 'HG'), ('THR', 'OG1', 'HG1'), \n",
    "                  ('TRP', 'NE1', 'HE1'), ('TYR', 'OH', 'HH')]\n",
    "for i in range(len(Donor_list[3])-2):\n",
    "    print(i)\n"
   ]
  },
  {
   "cell_type": "code",
   "execution_count": null,
   "metadata": {},
   "outputs": [],
   "source": []
  },
  {
   "cell_type": "code",
   "execution_count": 134,
   "metadata": {},
   "outputs": [
    {
     "name": "stdout",
     "output_type": "stream",
     "text": [
      "['ATOM     12  HB3 MET     1     -20.987   0.463   6.535  0.0000 0.0000', 'ATOM      5  O   MET     1     -18.415  -1.135   7.336 -0.5500 1.4000']\n",
      "no\n"
     ]
    }
   ],
   "source": [
    "string = 'ATOM     12  HB3 MET     1     -20.987   0.463   6.535  0.0000 0.0000'\n",
    "string2 ='ATOM      5  O   MET     1     -18.415  -1.135   7.336 -0.5500 1.4000'\n",
    "list2 = [string, string2]\n",
    "print(list2)\n",
    "\n",
    "if 'MET' in list2:\n",
    "    print('yes')\n",
    "else:\n",
    "    print('no')\n"
   ]
  }
 ],
 "metadata": {
  "kernelspec": {
   "display_name": "Python 3",
   "language": "python",
   "name": "python3"
  },
  "language_info": {
   "codemirror_mode": {
    "name": "ipython",
    "version": 3
   },
   "file_extension": ".py",
   "mimetype": "text/x-python",
   "name": "python",
   "nbconvert_exporter": "python",
   "pygments_lexer": "ipython3",
   "version": "3.12.3"
  }
 },
 "nbformat": 4,
 "nbformat_minor": 2
}
