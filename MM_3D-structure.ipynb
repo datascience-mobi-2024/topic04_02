{
 "cells": [
  {
   "cell_type": "code",
   "execution_count": 14,
   "metadata": {},
   "outputs": [],
   "source": [
    "import itertools\n",
    "import mdtraj as md\n",
    "import mdtraj.testing\n",
    "\n"
   ]
  },
  {
   "cell_type": "code",
   "execution_count": 15,
   "metadata": {},
   "outputs": [
    {
     "name": "stdout",
     "output_type": "stream",
     "text": [
      "<mdtraj.Trajectory with 1 frames, 1105 atoms, 143 residues, without unitcells>\n"
     ]
    },
    {
     "name": "stderr",
     "output_type": "stream",
     "text": [
      "C:\\Users\\marik\\AppData\\Local\\Packages\\PythonSoftwareFoundation.Python.3.12_qbz5n2kfra8p0\\LocalCache\\local-packages\\Python312\\site-packages\\mdtraj\\formats\\pdb\\pdbfile.py:206: UserWarning: Unlikely unit cell vectors detected in PDB file likely resulting from a dummy CRYST1 record. Discarding unit cell vectors.\n",
      "  warnings.warn(\n"
     ]
    }
   ],
   "source": [
    "t = md.load('./data/pdbs/AF-C0H3V2-F1.pdb')\n",
    "print(t)\n",
    "hbonds = md.baker_hubbard(t)\n",
    "for hbond in hbonds:\n",
    "    print(hbond)"
   ]
  },
  {
   "cell_type": "code",
   "execution_count": 16,
   "metadata": {},
   "outputs": [],
   "source": [
    "label = lambda hbond: f\"{t.topology.atom(hbond[0])} -- {t.topology.atom(hbond[2])}\"\n",
    "\n",
    "for hbond in hbonds:\n",
    "    print(label(hbond))"
   ]
  },
  {
   "cell_type": "code",
   "execution_count": 155,
   "metadata": {},
   "outputs": [
    {
     "name": "stdout",
     "output_type": "stream",
     "text": [
      "[  28.   28.   28.   67.  136.  137.  137.  138.  138.  208.  220.  252.\n",
      "  276.  300.  253.  277.  301.  253.  277.  301.  254.  278.  302.  254.\n",
      "  278.  302.  339.  339.  339.  390.  408.  431.  408.  431.  409.  432.\n",
      "  486.  484.  512.  541.  541.  541.  562.  563.  563.  564.  564.  596.\n",
      "  617.  618.  618.  619.  619.  683.  683.  684.  755.  809.  867.  993.\n",
      "  994.  994.  995.  995. 1055. 1055. 1055.]\n",
      "[  39.   40.   41.   77.  148.  149.  150.  151.  152.  213.  227.  264.\n",
      "  288.  312.  265.  289.  313.  266.  290.  314.  267.  291.  315.  268.\n",
      "  292.  316.  350.  351.  352.  400.  417.  434.  522.  552.  553.  554.\n",
      "  574.  575.  576.  577.  578.  605.  629.  630.  631.  632.  633.  686.\n",
      "  760.  819.  877. 1005. 1006. 1007. 1008. 1009. 1066. 1067. 1068.]\n",
      "(8, 4)\n"
     ]
    }
   ],
   "source": [
    "import os\n",
    "import numpy as np\n",
    "path = './data'\n",
    "N_H_bond = float('1.0752') # DOI: 10.1007/s00894-015-2587-3\n",
    "O_H_bond = float('1.63') # DOI: 10.4236/jbpc.2020.112002\n",
    "Donor_list = [('GLN', 'NE2', 'HE22'), ('GLN', 'NE2', 'HE23'), ('GLU', 'OE2', 'HE2'), ('ASP', 'OD2', 'HD2'), ('ASN', 'ND2', 'HD21'), ('ASN', 'ND2', 'HD22'),\n",
    "                ('HIS', 'NE2', 'HE2'), ('HIS', 'ND1', 'ND2'), ('LYS', 'NZ', 'HZ1'), ('LYS', 'NZ', 'HZ2'), ('LYS', 'NZ', 'HZ3'), ('ARG', 'NE', 'HE'), \n",
    "                ('ARG', 'NH1', 'HH11'), ('ARG', 'NH1', 'HH12'), ('ARG', 'NH2', 'HH21'), ('ARG', 'NH2', 'HH22'), ('SER', 'OG', 'HG'), ('THR', 'OG1', 'HG1'), \n",
    "                ('TRP', 'NE1', 'HE1'), ('TYR', 'OH', 'HH')]\n",
    "Acceptor_list = [('GLN', 'OE1'), ('ASP', 'OD1'), ('ASP', 'OD2'), ('ASN', 'OD1')]\n",
    "\n",
    "with open(os.path.join(path, 'C0H3Z2.pqr')) as f:\n",
    "    Donor_array = np.empty((0, 4))\n",
    "    H_array = np.empty((0, 4))\n",
    "    Acceptor_array = np.empty((0, 4))\n",
    "    aa_cache = []\n",
    "    atom_cache = []\n",
    "    for line in f:\n",
    "        if line.startswith('ATOM'): ####problem if multiple same aa in a row\n",
    "            if not aa_cache:\n",
    "                aa_cache.append(line.split()[3])\n",
    "                atom_cache.append(line)\n",
    "            elif aa_cache[0] == line.split()[3]:\n",
    "                atom_cache.append(line)\n",
    "            else:\n",
    "                if aa_cache[0] != line.split()[3]:                \n",
    "                    for n in range(len(Donor_list)):\n",
    "                        if aa_cache[0] == Donor_list[n][0]:\n",
    "                            for i in range(len(atom_cache)):\n",
    "                                if Donor_list[n][1] == atom_cache[i].split()[2]:\n",
    "                                    if ('GLU' == aa_cache[0]) and 'OE2' in atom_cache[i].split()[2]:\n",
    "                                        if any('HE2' in string for string in atom_cache):\n",
    "                                            line_array = np.array([[atom_cache[i].split()[1], atom_cache[i].split()[5], atom_cache[i].split()[6], atom_cache[i].split()[7]]])\n",
    "                                            line_array = line_array.astype('float64')\n",
    "                                            Donor_array = np.append(Donor_array, line_array, axis=0) \n",
    "                                    elif ('ASP' == aa_cache[0]) and 'OD2' in atom_cache[i].split()[2]:\n",
    "                                        if any('HD2' in string for string in atom_cache):\n",
    "                                            line_array = np.array([[atom_cache[i].split()[1], atom_cache[i].split()[5], atom_cache[i].split()[6], atom_cache[i].split()[7]]])\n",
    "                                            line_array = line_array.astype('float64')\n",
    "                                            Donor_array = np.append(Donor_array, line_array, axis=0)                                             \n",
    "                                    elif('HIS' == aa_cache[0]) and 'ND1' in atom_cache[i].split()[2]:\n",
    "                                        if any ('HD1' in string for string in atom_cache):\n",
    "                                            line_array = np.array([[atom_cache[i].split()[1], atom_cache[i].split()[5], atom_cache[i].split()[6], atom_cache[i].split()[7]]])\n",
    "                                            line_array = line_array.astype('float64')\n",
    "                                            Donor_array = np.append(Donor_array, line_array, axis=0)\n",
    "                                    else: \n",
    "                                        line_array = np.array([[atom_cache[i].split()[1], atom_cache[i].split()[5], atom_cache[i].split()[6], atom_cache[i].split()[7]]])\n",
    "                                        line_array = line_array.astype('float64')\n",
    "                                        Donor_array = np.append(Donor_array, line_array, axis=0)         \n",
    "                                elif Donor_list[n][2] == atom_cache[i].split()[2]:\n",
    "                                    line_array = np.array([[atom_cache[i].split()[1], atom_cache[i].split()[5], atom_cache[i].split()[6], atom_cache[i].split()[7]]])\n",
    "                                    line_array = line_array.astype('float64')\n",
    "                                    H_array = np.append(H_array, line_array, axis=0)\n",
    "                    for n in range(len(Acceptor_list)):\n",
    "                        if aa_cache[0] == Acceptor_list[n][0]:\n",
    "                            for i in range(len(atom_cache)):\n",
    "                                if Acceptor_list[n][1] == atom_cache[i].split()[2]:\n",
    "                                    if ('GLU' == aa_cache[0]) and 'OE2' in atom_cache[i].split()[2]:\n",
    "                                        if any('HE2' not in string for string in atom_cache):\n",
    "                                            line_array = np.array([[atom_cache[i].split()[1], atom_cache[i].split()[5], atom_cache[i].split()[6], atom_cache[i].split()[7]]])\n",
    "                                            line_array = line_array.astype('float64')\n",
    "                                            Acceptor_array = np.append(Acceptor_array, line_array, axis=0)\n",
    "                                    elif ('ASP' == aa_cache[0]) and 'OD' in atom_cache[i].split()[2]:\n",
    "                                        if any('HD' not in string for string in atom_cache):\n",
    "                                            line_array = np.array([[atom_cache[i].split()[1], atom_cache[i].split()[5], atom_cache[i].split()[6], atom_cache[i].split()[7]]])\n",
    "                                            line_array = line_array.astype('float64')\n",
    "                                            Acceptor_array = np.append(Acceptor_array, line_array, axis=0)\n",
    "                                    else: \n",
    "                                        line_array = np.array([[atom_cache[i].split()[1], atom_cache[i].split()[5], atom_cache[i].split()[6], atom_cache[i].split()[7]]])\n",
    "                                        line_array = line_array.astype('float64')\n",
    "                                        Donor_array = np.append(Donor_array, line_array, axis=0) \n",
    "\n",
    " \n",
    "                                        \n",
    "                aa_cache = []\n",
    "                atom_cache = []\n",
    "    print(Donor_array[:,0])\n",
    "    print(H_array[:,0])\n",
    "    print(Acceptor_array.shape)\n"
   ]
  },
  {
   "cell_type": "code",
   "execution_count": 92,
   "metadata": {},
   "outputs": [
    {
     "name": "stdout",
     "output_type": "stream",
     "text": [
      "0\n",
      "1\n"
     ]
    }
   ],
   "source": [
    "Donor_list = [('GLN', 'NE2', 'HE22', 'HE23'), ('GLU', 'OE2', 'HE2'), ('ASP', 'OD2', 'HD2'), ('ASN', 'ND2', 'HD21', 'HD22'), \n",
    "                  ('HIS', 'NE2', 'HE2'), ('HIS', 'ND1', 'ND2'), ('LYS', 'NZ', 'HZ1', 'HZ2', 'HZ3'), ('ARG', 'NE', 'HE'), \n",
    "                  ('ARG', 'NH1', 'HH11', 'HH12'), ('ARG', 'NH2', 'HH21', 'HH22'), ('SER', 'OG', 'HG'), ('THR', 'OG1', 'HG1'), \n",
    "                  ('TRP', 'NE1', 'HE1'), ('TYR', 'OH', 'HH')]\n",
    "for i in range(len(Donor_list[3])-2):\n",
    "    print(i)\n"
   ]
  },
  {
   "cell_type": "code",
   "execution_count": null,
   "metadata": {},
   "outputs": [],
   "source": []
  },
  {
   "cell_type": "code",
   "execution_count": 134,
   "metadata": {},
   "outputs": [
    {
     "name": "stdout",
     "output_type": "stream",
     "text": [
      "['ATOM     12  HB3 MET     1     -20.987   0.463   6.535  0.0000 0.0000', 'ATOM      5  O   MET     1     -18.415  -1.135   7.336 -0.5500 1.4000']\n",
      "no\n"
     ]
    }
   ],
   "source": [
    "string = 'ATOM     12  HB3 MET     1     -20.987   0.463   6.535  0.0000 0.0000'\n",
    "string2 ='ATOM      5  O   MET     1     -18.415  -1.135   7.336 -0.5500 1.4000'\n",
    "list2 = [string, string2]\n",
    "print(list2)\n",
    "\n",
    "if 'MET' in list2:\n",
    "    print('yes')\n",
    "else:\n",
    "    print('no')\n"
   ]
  }
 ],
 "metadata": {
  "kernelspec": {
   "display_name": "Python 3",
   "language": "python",
   "name": "python3"
  },
  "language_info": {
   "codemirror_mode": {
    "name": "ipython",
    "version": 3
   },
   "file_extension": ".py",
   "mimetype": "text/x-python",
   "name": "python",
   "nbconvert_exporter": "python",
   "pygments_lexer": "ipython3",
   "version": "3.12.3"
  }
 },
 "nbformat": 4,
 "nbformat_minor": 2
}
