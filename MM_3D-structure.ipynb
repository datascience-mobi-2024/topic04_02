{
 "cells": [
  {
   "cell_type": "code",
   "execution_count": 1,
   "metadata": {},
   "outputs": [
    {
     "data": {
      "text/plain": [
       "\" from function import pdb2pqr\\ninput_path = './data/pdbs'\\noutput_path = './data/pqrs'\\npdb2pqr(input_path = input_path, output_path = output_path) \""
      ]
     },
     "execution_count": 1,
     "metadata": {},
     "output_type": "execute_result"
    }
   ],
   "source": [
    "from function import pdb2pqr\n",
    "input_path = './data/pdbs'\n",
    "output_path = './data/pqrs'\n",
    "pdb2pqr(input_path = input_path, output_path = output_path)"
   ]
  },
  {
   "cell_type": "code",
   "execution_count": null,
   "metadata": {},
   "outputs": [],
   "source": [
    "import numpy as np\n",
    "import trimesh\n",
    "protein_coords = np.array###!!!!!!!!!!!!!\n",
    "\n",
    "mesh = trimesh.Trimesh(protein_coords, np.ones((protein_coords.shape[0], 3)))\n",
    "alpha = 0.4\n",
    "mesh.alpha_shape(alpha)\n",
    "surface_area = mesh.area\n",
    "print(\"Estimated surface area of the protein:\", surface_area)"
   ]
  },
  {
   "cell_type": "code",
   "execution_count": 1,
   "metadata": {},
   "outputs": [
    {
     "name": "stdout",
     "output_type": "stream",
     "text": [
      "(1117, 5)\n"
     ]
    }
   ],
   "source": [
    "import os\n",
    "import numpy as np\n",
    "\n",
    "path = './data/pqrs'\n",
    "pqr_file = 'C0H3V8.pqr'\n",
    "Atom_array = np.empty((0, 5))\n",
    "with open(os.path.join(path, str(pqr_file))) as f:\n",
    "    for line in f:\n",
    "        line = line.replace('-', '  -')\n",
    "        if line.startswith('ATOM'):\n",
    "            line_array = np.array([[int(line.split()[1]), float(line.split()[5]), float(line.split()[6]), float(line.split()[7]), float(line.split()[9])]]) \n",
    "\n",
    "            Atom_array = np.append(Atom_array, line_array, axis = 0)\n",
    "print(Atom_array.shape)"
   ]
  },
  {
   "cell_type": "code",
   "execution_count": 41,
   "metadata": {},
   "outputs": [
    {
     "name": "stdout",
     "output_type": "stream",
     "text": [
      "Approximate protein volume: inf Å^3\n"
     ]
    },
    {
     "name": "stderr",
     "output_type": "stream",
     "text": [
      "C:\\Users\\marik\\AppData\\Local\\Temp\\ipykernel_25132\\4285782273.py:27: RuntimeWarning: divide by zero encountered in divide\n",
      "  vol_overlap_array = (np.pi * (r2 + r1 - d)**2 * (d**2 + 2*d*r1 - 3*r1**2 + 2*d*r2 + 6*r1*r2 - 3*r2**2)) / (12*d)\n",
      "C:\\Users\\marik\\AppData\\Local\\Temp\\ipykernel_25132\\4285782273.py:27: RuntimeWarning: invalid value encountered in divide\n",
      "  vol_overlap_array = (np.pi * (r2 + r1 - d)**2 * (d**2 + 2*d*r1 - 3*r1**2 + 2*d*r2 + 6*r1*r2 - 3*r2**2)) / (12*d)\n"
     ]
    }
   ],
   "source": [
    "from helper_function import distance\n",
    "\n",
    "def calculate_protein_volume(Atom_array, cutoff):\n",
    "  \"\"\"\n",
    "  Calculates the approximate volume of a protein using the union boundary approach.\n",
    "\n",
    "  Args:\n",
    "      Atom_array: A NumPy array with atom information (columns: number, x, y, z, radius).\n",
    "      cutoff: The distance threshold defining the protein boundary (Å).\n",
    "\n",
    "  Returns:\n",
    "      The approximate volume of the protein (Å^3).\n",
    "  \"\"\"\n",
    "\n",
    "  # Calculate distances (lower triangular part only)\n",
    "  dist = distance(Atom_array, Atom_array, cutoff = cutoff, remove_nan=False)\n",
    "  dist = np.tril(dist)  # Keep only lower triangular part\n",
    "\n",
    "  # Calculate individual atom volumes\n",
    "  vol_A = 4/3 * np.pi * Atom_array[:, 4]**3  # Volume of each atom (assuming spherical)\n",
    "\n",
    "  # Calculate overlapping volume using vectorization and broadcasting\n",
    "  dist = np.nan_to_num(dist)  # Replace NaNs with zeros\n",
    "  d = dist[1:,1:]  # Select non-zero distances\n",
    "  r1 = Atom_array[:, 4]  # Reshape radii for broadcasting\n",
    "  r2 = Atom_array[:, 4]  # Select radii for overlapping atoms\n",
    "  vol_overlap_array = (np.pi * (r2 + r1 - d)**2 * (d**2 + 2*d*r1 - 3*r1**2 + 2*d*r2 + 6*r1*r2 - 3*r2**2)) / (12*d)\n",
    "  vol_overlap_array = np.nan_to_num(vol_overlap_array)  # Replace NaNs with zeros\n",
    "  vol_overlap = np.sum(vol_overlap_array)\n",
    "\n",
    "  # Total protein volume (overlap minus individual volumes)\n",
    "  Prot_vol = vol_overlap - np.sum(vol_A)\n",
    "  return Prot_vol\n",
    "\n",
    "# Example usage\n",
    "cutoff = np.max(Atom_array[:, 4])*2  # Adjust cutoff as needed\n",
    "Prot_vol = calculate_protein_volume(Atom_array, cutoff)\n",
    "print(\"Approximate protein volume:\", Prot_vol, \"Å^3\")\n"
   ]
  },
  {
   "cell_type": "code",
   "execution_count": 43,
   "metadata": {},
   "outputs": [
    {
     "name": "stdout",
     "output_type": "stream",
     "text": [
      "(1117, 1117)\n",
      "(1118, 1118)\n",
      "(1117, 5)\n",
      "-1273736.3217520753\n"
     ]
    }
   ],
   "source": [
    "from helper_function import distance\n",
    "from scipy.sparse import lil_matrix\n",
    "\n",
    "dist = distance(Atom_array, Atom_array, cutoff = np.max(Atom_array[:, 4])*2, remove_nan = False)\n",
    "dist2 = dist[1:,1:]\n",
    "dist2[np.triu_indices(dist2.shape[0], k = 1)] = np.nan\n",
    "dist2 = np.nan_to_num(dist2)\n",
    "dist3 = lil_matrix(dist2)\n",
    "print(dist3.shape)\n",
    "print(dist.shape)\n",
    "print(Atom_array.shape)\n",
    "\n",
    "vol = dist\n",
    "vol[1:,1:] = np.nan\n",
    "for n in range(Atom_array.shape[0]):\n",
    "    for m in range(Atom_array.shape[0]):\n",
    "        if dist3[n,m] != 0:\n",
    "            d = dist3[n,m]\n",
    "            r1 = Atom_array[n, 4]\n",
    "            r2 = Atom_array[m, 4]\n",
    "            vol[n+1,m+1] = (np.pi*(r2+r1-d)**2 * (d**2 + 2*d*r1 - 3*r1**2 + 2*d*r2 + 6*r1*r2 - 3*r2**2))/(12*d)\n",
    "vol_A = 0\n",
    "for n in range(Atom_array.shape[0]):\n",
    "        vol_A += 4/3 * np.pi * Atom_array[n, 4]**3\n",
    "\n",
    "vol = np.nan_to_num(vol)\n",
    "vol_overlap = np.sum(vol)\n",
    "\n",
    "Prot_vol = vol_A - vol_overlap\n",
    "print(Prot_vol)"
   ]
  },
  {
   "cell_type": "code",
   "execution_count": null,
   "metadata": {},
   "outputs": [],
   "source": [
    "import numpy as np\n",
    "\n",
    "# Assume arr is your symmetric numpy array\n",
    "arr = np.array([[1, 2, 3], [2, 4, 5], [3, 5, 6]])\n",
    "\n",
    "# Get the upper triangle indices\n",
    "i_upper = np.triu_indices(arr.shape[0], 1)\n",
    "\n",
    "# Extract the upper triangle values\n",
    "unique_values = arr[i_upper]\n",
    "\n",
    "print(unique_values)"
   ]
  },
  {
   "cell_type": "markdown",
   "metadata": {},
   "source": [
    "Sphere function"
   ]
  },
  {
   "cell_type": "code",
   "execution_count": 13,
   "metadata": {},
   "outputs": [],
   "source": [
    "def sphere(Atom_array, phi_resolution=100, theta_resolution=100):\n",
    "  \"\"\"\n",
    "  Generates sphere points for each atom in Atom_array and appends them as new columns.\n",
    "\n",
    "  Args:\n",
    "      Atom_array: A NumPy array with atom information (x, y, z, radius in columns).\n",
    "      phi_resolution: Number of points discretizing the colatitude angle (0 to pi).\n",
    "      theta_resolution: Number of points discretizing the longitude angle (0 to 2pi).\n",
    "\n",
    "  Returns:\n",
    "      A modified NumPy array with additional columns for sphere points.\n",
    "  \"\"\"\n",
    "\n",
    "  # Extract center coordinates and radius from each atom row\n",
    "  a = Atom_array[:, 1]\n",
    "  b = Atom_array[:, 2]\n",
    "  c = Atom_array[:, 3]\n",
    "  r = Atom_array[:, 4]\n",
    "\n",
    "  # Generate sphere points for each atom\n",
    "  phi = np.linspace(0, np.pi, phi_resolution)\n",
    "  theta = np.linspace(0, 2 * np.pi, theta_resolution)\n",
    "\n",
    "  # Calculate x, y, and z coordinates for each atom's sphere\n",
    "  x = a[:, np.newaxis] + r * np.cos(theta) * np.sin(phi)  # Add newaxis for broadcasting\n",
    "  y = b[:, np.newaxis] + r * np.sin(theta) * np.sin(phi)\n",
    "  z = c[:, np.newaxis] + r * np.cos(phi)\n",
    "\n",
    "  # Reshape x, y, and z to match the number of atoms (rows in Atom_array)\n",
    "  x = x.reshape(-1, x.shape[-1])  # Reshape to remove unnecessary dimension\n",
    "  y = y.reshape(-1, y.shape[-1])\n",
    "  z = z.reshape(-1, z.shape[-1])\n",
    "\n",
    "  # Concatenate Atom_array with the new sphere point columns\n",
    "  new_array = np.concatenate((Atom_array, x, y, z), axis=1)\n",
    "\n",
    "  return new_array"
   ]
  },
  {
   "cell_type": "markdown",
   "metadata": {},
   "source": [
    "atom volume function"
   ]
  },
  {
   "cell_type": "code",
   "execution_count": 32,
   "metadata": {},
   "outputs": [],
   "source": [
    "def atom_volume(Atom_array):\n",
    "    \"\"\"\n",
    "    Calculate the volume of each atom in the Atom_array.\n",
    "    \n",
    "    Args:\n",
    "        Atom_array: A NumPy array with atom information (x, y, z, radius in columns).\n",
    "        \n",
    "    Returns:\n",
    "        A NumPy array with the volume of each atom appended as a new column.\n",
    "    \"\"\"\n",
    "    \n",
    "    # Calculate the volume of each atom\n",
    "    volume = 4/3 * np.pi * Atom_array[:, 4]**3\n",
    "    \n",
    "    # Append the volume as a new column\n",
    "    Atom_array = np.concatenate((Atom_array, volume[:, np.newaxis]), axis=1)\n",
    "    \n",
    "    return Atom_array"
   ]
  },
  {
   "cell_type": "markdown",
   "metadata": {},
   "source": [
    "intersect_vol update"
   ]
  },
  {
   "cell_type": "code",
   "execution_count": 69,
   "metadata": {},
   "outputs": [],
   "source": [
    "def intersect_vol(array, r1:str, r2:str, dis = None):   \n",
    "    import numpy as np\n",
    "    r1 = float(r1)\n",
    "    r2 = float(r2)\n",
    "    vol = array\n",
    "    if dis is not None:\n",
    "        d = dis\n",
    "    else:\n",
    "        d = array[1:,1:]\n",
    "    vol[1:,1:] = (np.pi*(r2+r1-d)**2 * (d**2 + 2*d*r1 - 3*r1**2 + 2*d*r2 + 6*r1*r2 - 3*r2**2))/(12*d)\n",
    "    return vol"
   ]
  },
  {
   "cell_type": "code",
   "execution_count": 80,
   "metadata": {},
   "outputs": [
    {
     "data": {
      "text/plain": [
       "'     for i in range(neighbors):\\n        # Calculate overlap volume with neighbor (similar to pairwise_overlap function)\\n        r1 = Atom_array[i,4]\\n        vol = (np.pi*(r2+r1-d)**2 * (d**2 + 2*d*r1 - 3*r1**2 + 2*d*r2 + 6*r1*r2 - 3*r2**2))/(12*d)\\n\\n        neighbor_center = Atom_array[neighbor, :3]\\n        neighbor_radius = Atom_array[neighbor, 4]\\n        total_overlap += intersect_vol(, neighbor_radius,)  # Call a separate function '"
      ]
     },
     "execution_count": 80,
     "metadata": {},
     "output_type": "execute_result"
    }
   ],
   "source": [
    "\n",
    "def overlap_with_kdTree(Atom_array):\n",
    "    \"\"\"\n",
    "    Estimates the overlapping volume using KDTree for efficient neighbor search.\n",
    "\n",
    "    Args:\n",
    "    Atom_array: A NumPy array with sphere data (center coordinates and radius in rows)\n",
    "\n",
    "    Returns:\n",
    "    The estimated total overlapping volume.\n",
    "    \"\"\"\n",
    "    from scipy.spatial import KDTree\n",
    "    \n",
    "    centers = Atom_array[:, 1:3]\n",
    "    # Build KDTree from sphere centers\n",
    "    tree = KDTree(centers)\n",
    "    total_overlap = 0\n",
    "    for i, center in enumerate(centers):\n",
    "        # Find neighbor spheres within maximum reach (considering radii)\n",
    "        neighbors = tree.query_ball_point(center, r=np.max(Atom_array[:, 3]))[1]\n",
    "        # Exclude the query sphere itself from neighbors\n",
    "        #neighbors = neighbors[neighbors != i]\n",
    "    return neighbors\n",
    "\n",
    "\n",
    "\"\"\"     for i in range(neighbors):\n",
    "        # Calculate overlap volume with neighbor (similar to pairwise_overlap function)\n",
    "        r1 = Atom_array[i,4]\n",
    "        vol = (np.pi*(r2+r1-d)**2 * (d**2 + 2*d*r1 - 3*r1**2 + 2*d*r2 + 6*r1*r2 - 3*r2**2))/(12*d)\n",
    "\n",
    "        neighbor_center = Atom_array[neighbor, :3]\n",
    "        neighbor_radius = Atom_array[neighbor, 4]\n",
    "        total_overlap += intersect_vol(, neighbor_radius,)  # Call a separate function \"\"\"\n",
    "\n"
   ]
  },
  {
   "cell_type": "code",
   "execution_count": 83,
   "metadata": {},
   "outputs": [
    {
     "name": "stdout",
     "output_type": "stream",
     "text": [
      "1104\n"
     ]
    }
   ],
   "source": [
    "test = overlap_with_kdTree(Atom_array)\n",
    "print(test)"
   ]
  },
  {
   "cell_type": "code",
   "execution_count": null,
   "metadata": {},
   "outputs": [],
   "source": [
    "def vol_calc_it()"
   ]
  },
  {
   "cell_type": "code",
   "execution_count": 78,
   "metadata": {},
   "outputs": [
    {
     "ename": "ValueError",
     "evalue": "operands could not be broadcast together with shapes (2,) (3,) ",
     "output_type": "error",
     "traceback": [
      "\u001b[1;31m---------------------------------------------------------------------------\u001b[0m",
      "\u001b[1;31mValueError\u001b[0m                                Traceback (most recent call last)",
      "Cell \u001b[1;32mIn[78], line 1\u001b[0m\n\u001b[1;32m----> 1\u001b[0m n_test \u001b[38;5;241m=\u001b[39m \u001b[43moverlap_with_kdTree\u001b[49m\u001b[43m(\u001b[49m\u001b[43mAtom_array\u001b[49m\u001b[43m)\u001b[49m\n",
      "Cell \u001b[1;32mIn[77], line 27\u001b[0m, in \u001b[0;36moverlap_with_kdTree\u001b[1;34m(Atom_array)\u001b[0m\n\u001b[0;32m     25\u001b[0m neighbor_center \u001b[38;5;241m=\u001b[39m Atom_array[neighbor, :\u001b[38;5;241m3\u001b[39m]\n\u001b[0;32m     26\u001b[0m neighbor_radius \u001b[38;5;241m=\u001b[39m Atom_array[neighbor, \u001b[38;5;241m4\u001b[39m]\n\u001b[1;32m---> 27\u001b[0m distance \u001b[38;5;241m=\u001b[39m np\u001b[38;5;241m.\u001b[39mlinalg\u001b[38;5;241m.\u001b[39mnorm(\u001b[43mcenter\u001b[49m\u001b[43m \u001b[49m\u001b[38;5;241;43m-\u001b[39;49m\u001b[43m \u001b[49m\u001b[43mneighbor_center\u001b[49m)\n\u001b[0;32m     28\u001b[0m total_overlap \u001b[38;5;241m+\u001b[39m\u001b[38;5;241m=\u001b[39m intersect_vol(center, neighbor_radius, distance)  \u001b[38;5;66;03m# Call a separate function\u001b[39;00m\n\u001b[0;32m     29\u001b[0m \u001b[38;5;28;01mreturn\u001b[39;00m neighbors\n",
      "\u001b[1;31mValueError\u001b[0m: operands could not be broadcast together with shapes (2,) (3,) "
     ]
    }
   ],
   "source": [
    "n_test = overlap_with_kdTree(Atom_array)\n"
   ]
  },
  {
   "cell_type": "code",
   "execution_count": 46,
   "metadata": {},
   "outputs": [
    {
     "name": "stdout",
     "output_type": "stream",
     "text": [
      "4.0\n"
     ]
    }
   ],
   "source": [
    "radius=np.max(Atom_array[:, 4])*2\n",
    "print(radius)"
   ]
  },
  {
   "cell_type": "code",
   "execution_count": 38,
   "metadata": {},
   "outputs": [
    {
     "name": "stdout",
     "output_type": "stream",
     "text": [
      "Maximum radius of an atom: 2.0\n"
     ]
    }
   ],
   "source": [
    "max_value = np.max(Atom_array[:, 4])\n",
    "print(\"Maximum radius of an atom:\", max_value)"
   ]
  },
  {
   "cell_type": "code",
   "execution_count": 37,
   "metadata": {},
   "outputs": [
    {
     "name": "stdout",
     "output_type": "stream",
     "text": [
      "(1117, 6)\n",
      "(1118, 1118)\n"
     ]
    }
   ],
   "source": [
    "from helper_function import distance\n",
    "test_vol = atom_volume(Atom_array)\n",
    "test_dist = distance(test_vol, test_vol, remove_nan = False)\n",
    "\n",
    "for n in range(len(test_dist)):\n",
    "    for i in range(len(test_dist[n])):\n"
   ]
  }
 ],
 "metadata": {
  "kernelspec": {
   "display_name": "Python 3",
   "language": "python",
   "name": "python3"
  },
  "language_info": {
   "codemirror_mode": {
    "name": "ipython",
    "version": 3
   },
   "file_extension": ".py",
   "mimetype": "text/x-python",
   "name": "python",
   "nbconvert_exporter": "python",
   "pygments_lexer": "ipython3",
   "version": "3.12.4"
  }
 },
 "nbformat": 4,
 "nbformat_minor": 2
}
