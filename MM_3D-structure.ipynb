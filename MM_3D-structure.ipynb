{
 "cells": [
  {
   "cell_type": "code",
   "execution_count": 179,
   "metadata": {},
   "outputs": [],
   "source": [
    "import numpy as np\n",
    "import pandas as pd\n",
    "import os\n",
    "import seaborn as sns\n",
    "import matplotlib.pyplot as plt\n",
    "import Bio\n",
    "from localcider.sequenceParameters import SequenceParameters\n",
    "import scipy\n",
    "from scipy.spatial.distance import cdist"
   ]
  },
  {
   "cell_type": "code",
   "execution_count": 180,
   "metadata": {},
   "outputs": [],
   "source": [
    "path: str = './data/' #folder where files are stored\n",
    "prokaryotes: pd.DataFrame = pd.read_csv(os.path.join(path, \"prokaryotes_unique_prot.csv\"), dtype=str)   # imports file from the folder as species, based on name\n",
    "prokaryotes_all: pd.DataFrame = pd.read_csv(os.path.join(path, \"prokaryotes_all.csv\"), dtype=str) # imports 3rd file from the folder, based on name"
   ]
  },
  {
   "cell_type": "code",
   "execution_count": null,
   "metadata": {},
   "outputs": [],
   "source": [
    "def salt_bridge(path, pdb_files=None):\n",
    "    if pdb_files is None:\n",
    "        pdb_files = [f for f in os.listdir(path) if f.endswith('.pdb')]\n",
    "    if isinstance(pdb_files, str):\n",
    "        pdb_files = [pdb_files] \n",
    "    for pdb_file in pdb_files:\n",
    "        Salt = dict()\n",
    "        Asp_Glu_array = np.empty((0, 4))\n",
    "        Lys_Arg_His_array = np.empty((0, 4))\n",
    "        \n",
    "        with open(os.path.join(path, str(pdb_file))) as f:\n",
    "            Salt= dict()\n",
    "            Asp_Glu_array = np.empty((0,4))\n",
    "            Lys_Arg_His_array = np.empty((0,4))\n",
    "            for line in f:\n",
    "                line = line.strip()\n",
    "                if line.startswith('ATOM'):\n",
    "                    if ('ASP' in line and 'OD' in line) or ('GLU' in line and 'OE' in line):\n",
    "                        line_array = np.array([[line[8:11].strip(), line[27:38].strip(), line[39:46].strip(), line[47:54].strip()]])\n",
    "                        line_array = line_array.astype('float64')\n",
    "                        Asp_Glu_array = np.append(Asp_Glu_array, line_array, axis = 0)\n",
    "                    if ('LYS' in line and 'NZ' in line) or ('ARG' in line and 'NH' in line) or ('HIS' in line and 'NE' in line) or ('HIS' in line and 'ND' in line):\n",
    "                        line_array = np.array([[line[8:11].strip(), line[27:38].strip(), line[39:46].strip(), line[47:54].strip()]])\n",
    "                        line_array = line_array.astype('float64')\n",
    "                        Lys_Arg_His_array = np.append(Lys_Arg_His_array, line_array, axis = 0)\n",
    "\n",
    "            #calculate distance clean up array\n",
    "            distance = cdist(Asp_Glu_array[:,1:], Lys_Arg_His_array[:,1:], metric='euclidean') #calculate distance\n",
    "            distance = np.concatenate((np.array([Lys_Arg_His_array[:,0]]), distance), axis=0) #add atom number from Lys_Arg_His to array\n",
    "            distance = np.concatenate((np.insert(np.array([Asp_Glu_array[:,0]]), 0, None).reshape(-1,1), distance), axis=1) #add atom number from Asp_Glu to array\n",
    "            distance[1:, 1:][distance[1:, 1:] > 4] = np.nan #set distance > 4 to nan\n",
    "            rows_with_nan = np.insert(np.array([np.all(np.isnan(distance[1:, 1:]), axis=1)]),0, None) #find rows with all nan values\n",
    "            cols_with_nan = np.insert(np.array([np.all(np.isnan(distance[1:, 1:]), axis=0)]),0, None) #find columns with all nan values\n",
    "            distance = distance[~rows_with_nan, :] #delete rows with all nan values\n",
    "            distance = distance[:, ~cols_with_nan] #delete columns with all nan values\n",
    "            Salt[str(pdb_file).split('-')[1]] = distance\n",
    "\n",
    "    return Salt\n"
   ]
  },
  {
   "cell_type": "code",
   "execution_count": 181,
   "metadata": {},
   "outputs": [
    {
     "name": "stdout",
     "output_type": "stream",
     "text": [
      "{'C0H3V8': array([[         nan, 381.        , 442.        , 459.        ,\n",
      "        468.        , 499.        ],\n",
      "       [ 37.        ,          nan,          nan,          nan,\n",
      "                 nan,   2.906544  ],\n",
      "       [100.        ,          nan,          nan,   2.73139873,\n",
      "                 nan,          nan],\n",
      "       [101.        ,          nan,          nan,          nan,\n",
      "          3.79779752,          nan],\n",
      "       [401.        ,          nan,   2.57065809,          nan,\n",
      "                 nan,          nan],\n",
      "       [421.        ,   3.79115616,          nan,          nan,\n",
      "                 nan,          nan],\n",
      "       [527.        ,          nan,          nan,          nan,\n",
      "                 nan,   2.87607702]])}\n"
     ]
    }
   ],
   "source": [
    "path_pdb = './data/pdbs/'\n",
    "file = ['AF-C0H3Q1-F1.pdb','AF-C0H3V2-F1.pdb', 'AF-C0H3V8-F1.pdb', 'AF-C0H3Y1-F1.pdb']\n",
    "test = salt_bridge(path_pdb,'AF-C0H3V8-F1.pdb')\n",
    "print(test)\n"
   ]
  },
  {
   "cell_type": "code",
   "execution_count": null,
   "metadata": {},
   "outputs": [],
   "source": [
    "path_pdb = './data/pdbs/'\n",
    "pdb_file = ['AF-C0H3V8-F1.pdb']\n",
    "with open(os.path.join(path_pdb, 'AF-C0H3V8-F1.pdb')) as f:\n",
    "            Salt= dict()\n",
    "            Asp_Glu_array = np.empty((0,4))\n",
    "            Lys_Arg_His_array = np.empty((0,4))\n",
    "            for line in f:\n",
    "                line = line.strip()\n",
    "                if line.startswith('ATOM'):\n",
    "                    if ('ASP' in line and 'OD' in line) or ('GLU' in line and 'OE' in line):\n",
    "                        line_array = np.array([[line[8:11].strip(), line[27:38].strip(), line[39:46].strip(), line[47:54].strip()]])\n",
    "                        line_array = line_array.astype('float64')\n",
    "                        Asp_Glu_array = np.append(Asp_Glu_array, line_array, axis = 0)\n",
    "                    if ('LYS' in line and 'NZ' in line) or ('ARG' in line and 'NH' in line) or ('HIS' in line and 'NE' in line) or ('HIS' in line and 'ND' in line):\n",
    "                        line_array = np.array([[line[8:11].strip(), line[27:38].strip(), line[39:46].strip(), line[47:54].strip()]])\n",
    "                        line_array = line_array.astype('float64')\n",
    "                        Lys_Arg_His_array = np.append(Lys_Arg_His_array, line_array, axis = 0)\n",
    "\n",
    "            #calculate distance clean up array\n",
    "            distance = cdist(Asp_Glu_array[:,1:], Lys_Arg_His_array[:,1:], metric='euclidean') #calculate distance\n",
    "            distance = np.concatenate((np.array([Lys_Arg_His_array[:,0]]), distance), axis=0) #add atom number from Lys_Arg_His to array\n",
    "            distance = np.concatenate((np.insert(np.array([Asp_Glu_array[:,0]]), 0, None).reshape(-1,1), distance), axis=1) #add atom number from Asp_Glu to array\n",
    "            distance[1:, 1:][distance[1:, 1:] > 4] = np.nan #set distance > 4 to nan\n",
    "            rows_with_nan = np.insert(np.array([np.all(np.isnan(distance[1:, 1:]), axis=1)]),0, None) #find rows with all nan values\n",
    "            cols_with_nan = np.insert(np.array([np.all(np.isnan(distance[1:, 1:]), axis=0)]),0, None) #find columns with all nan values\n",
    "            distance = distance[~rows_with_nan, :] #delete rows with all nan values\n",
    "            distance = distance[:, ~cols_with_nan] #delete columns with all nan values\n",
    "            Salt[str(pdb_file)[5:11]] = distance\n",
    "print(Salt)"
   ]
  },
  {
   "cell_type": "code",
   "execution_count": null,
   "metadata": {},
   "outputs": [],
   "source": [
    "SeqObj = SequenceParameters('MADKDFGLNDIVEMKKPHPCGANSWKIIRMGMDIRIKCEGCSHSVMIPRREFERKLKKVLVKHEEPTS')\n",
    "SeqObj.save_zscoresAndPlots(num_scrambles=100000, random_seed=None)\n"
   ]
  },
  {
   "cell_type": "code",
   "execution_count": null,
   "metadata": {},
   "outputs": [],
   "source": [
    "SecObj2 = SequenceParameters('MADKDFGLNDIVEMKKPHPCGANSWKIIRMGMDIRIKCEGCSHSVMIPRREFERKLKKVLVKHEEPTS')\n",
    "SecObj2.get_kappa()"
   ]
  }
 ],
 "metadata": {
  "kernelspec": {
   "display_name": "Python 3",
   "language": "python",
   "name": "python3"
  },
  "language_info": {
   "codemirror_mode": {
    "name": "ipython",
    "version": 3
   },
   "file_extension": ".py",
   "mimetype": "text/x-python",
   "name": "python",
   "nbconvert_exporter": "python",
   "pygments_lexer": "ipython3",
   "version": "3.12.3"
  }
 },
 "nbformat": 4,
 "nbformat_minor": 2
}
