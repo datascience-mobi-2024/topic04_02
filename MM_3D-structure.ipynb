{
 "cells": [
  {
   "cell_type": "code",
   "execution_count": 1,
   "metadata": {},
   "outputs": [],
   "source": [
    "from function import pdb2pqr\n",
    "input_path = './data/pdbs'\n",
    "output_path = './data/pqrs'\n",
    "pdb2pqr(input_path = input_path, output_path = output_path)"
   ]
  },
  {
   "cell_type": "code",
   "execution_count": 2,
   "metadata": {},
   "outputs": [
    {
     "name": "stdout",
     "output_type": "stream",
     "text": [
      "C0H3Q1\n",
      "C0H3V2\n",
      "C0H3V8\n",
      "C0H3Y1\n",
      "C0H3Z2\n",
      "C0H405\n",
      "C0H423\n",
      "C0H437\n",
      "C0H453\n",
      "C0SP82\n",
      "C0SP85\n",
      "C0SP86\n",
      "C0SP89\n",
      "C0SP93\n",
      "C0SP94\n",
      "C0SP95\n",
      "C0SP98\n",
      "C0SPA0\n",
      "C0SPB0\n",
      "C0SPB1\n",
      "C0SPB4\n",
      "C0SPC3\n",
      "G0ZKW2\n",
      "I1W5V5\n",
      "O05217\n",
      "O05220\n",
      "O05227\n",
      "O05234\n",
      "O05236\n",
      "O05239\n",
      "O05240\n",
      "O05243\n",
      "O05248\n",
      "O05250\n",
      "O05251\n",
      "O05260\n",
      "O05261\n",
      "O05263\n",
      "O05264\n",
      "O05267\n",
      "O05268\n",
      "O05269\n",
      "O05389\n",
      "O05392\n",
      "O05394\n",
      "O05399\n",
      "O05405\n",
      "O05408\n",
      "O05410\n",
      "O05411\n",
      "O05413\n",
      "O05494\n",
      "O05496\n",
      "O05501\n",
      "O05505\n",
      "O05507\n",
      "O05508\n",
      "O05510\n",
      "O05511\n",
      "O05514\n",
      "O05515\n",
      "O05516\n",
      "O05519\n",
      "O05520\n",
      "O05522\n",
      "O05523\n",
      "O06006\n",
      "O06008\n",
      "O06476\n",
      "O06477\n",
      "O06478\n",
      "O06491\n",
      "O06492\n"
     ]
    },
    {
     "ename": "ValueError",
     "evalue": "could not convert string to float: '37.460-100.310'",
     "output_type": "error",
     "traceback": [
      "\u001b[1;31m---------------------------------------------------------------------------\u001b[0m",
      "\u001b[1;31mValueError\u001b[0m                                Traceback (most recent call last)",
      "Cell \u001b[1;32mIn[2], line 3\u001b[0m\n\u001b[0;32m      1\u001b[0m \u001b[38;5;28;01mfrom\u001b[39;00m \u001b[38;5;21;01mfunction\u001b[39;00m \u001b[38;5;28;01mimport\u001b[39;00m H_bond\n\u001b[0;32m      2\u001b[0m path \u001b[38;5;241m=\u001b[39m \u001b[38;5;124m'\u001b[39m\u001b[38;5;124m./data/pqrs\u001b[39m\u001b[38;5;124m'\u001b[39m\n\u001b[1;32m----> 3\u001b[0m Hbond \u001b[38;5;241m=\u001b[39m \u001b[43mH_bond\u001b[49m\u001b[43m(\u001b[49m\u001b[43mpath\u001b[49m\u001b[43m \u001b[49m\u001b[38;5;241;43m=\u001b[39;49m\u001b[43m \u001b[49m\u001b[43mpath\u001b[49m\u001b[43m)\u001b[49m\n",
      "File \u001b[1;32mc:\\Users\\marik\\OneDrive - bwedu\\Uni HD\\FS 4\\Bioinfo\\topic04_02\\function.py:179\u001b[0m, in \u001b[0;36mH_bond\u001b[1;34m(path, pqr_files)\u001b[0m\n\u001b[0;32m    177\u001b[0m             \u001b[38;5;28;01melif\u001b[39;00m Donor_list[n][\u001b[38;5;241m2\u001b[39m] \u001b[38;5;241m==\u001b[39m atom_cache[i]\u001b[38;5;241m.\u001b[39msplit()[\u001b[38;5;241m2\u001b[39m]:\n\u001b[0;32m    178\u001b[0m                 line_array \u001b[38;5;241m=\u001b[39m np\u001b[38;5;241m.\u001b[39marray([[atom_cache[i]\u001b[38;5;241m.\u001b[39msplit()[\u001b[38;5;241m1\u001b[39m], atom_cache[i]\u001b[38;5;241m.\u001b[39msplit()[\u001b[38;5;241m5\u001b[39m], atom_cache[i]\u001b[38;5;241m.\u001b[39msplit()[\u001b[38;5;241m6\u001b[39m], atom_cache[i]\u001b[38;5;241m.\u001b[39msplit()[\u001b[38;5;241m7\u001b[39m]]])\n\u001b[1;32m--> 179\u001b[0m                 line_array \u001b[38;5;241m=\u001b[39m \u001b[43mline_array\u001b[49m\u001b[38;5;241;43m.\u001b[39;49m\u001b[43mastype\u001b[49m\u001b[43m(\u001b[49m\u001b[38;5;124;43m'\u001b[39;49m\u001b[38;5;124;43mfloat64\u001b[39;49m\u001b[38;5;124;43m'\u001b[39;49m\u001b[43m)\u001b[49m\n\u001b[0;32m    180\u001b[0m                 H_array \u001b[38;5;241m=\u001b[39m np\u001b[38;5;241m.\u001b[39mappend(H_array, line_array, axis\u001b[38;5;241m=\u001b[39m\u001b[38;5;241m0\u001b[39m)\n\u001b[0;32m    181\u001b[0m \u001b[38;5;28;01mfor\u001b[39;00m n \u001b[38;5;129;01min\u001b[39;00m \u001b[38;5;28mrange\u001b[39m(\u001b[38;5;28mlen\u001b[39m(Acceptor_list)):\n",
      "\u001b[1;31mValueError\u001b[0m: could not convert string to float: '37.460-100.310'"
     ]
    }
   ],
   "source": [
    "from function import H_bond\n",
    "path = './data/pqrs'\n",
    "Hbond = H_bond(path = path)"
   ]
  },
  {
   "cell_type": "code",
   "execution_count": 11,
   "metadata": {},
   "outputs": [
    {
     "name": "stdout",
     "output_type": "stream",
     "text": [
      "['ATOM', '6302', 'HE21', 'GLN', '408', '139.291', '-12.951', '-101.688', '0.3900', '1.0000']\n"
     ]
    }
   ],
   "source": [
    "test = 'ATOM   6302 HE21 GLN   408     139.291-12.951 -101.688  0.3900 1.0000'\n",
    "test = test.replace('-', '  -')\n",
    "print(test.split())\n"
   ]
  },
  {
   "cell_type": "code",
   "execution_count": null,
   "metadata": {},
   "outputs": [],
   "source": [
    "import numpy as np\n",
    "import trimesh\n",
    "protein_coords = np.array###!!!!!!!!!!!!!\n",
    "\n",
    "mesh = trimesh.Trimesh(protein_coords, np.ones((protein_coords.shape[0], 3)))\n",
    "alpha = 0.4\n",
    "mesh.alpha_shape(alpha)\n",
    "surface_area = mesh.area\n",
    "print(\"Estimated surface area of the protein:\", surface_area)"
   ]
  }
 ],
 "metadata": {
  "kernelspec": {
   "display_name": "Python 3",
   "language": "python",
   "name": "python3"
  },
  "language_info": {
   "codemirror_mode": {
    "name": "ipython",
    "version": 3
   },
   "file_extension": ".py",
   "mimetype": "text/x-python",
   "name": "python",
   "nbconvert_exporter": "python",
   "pygments_lexer": "ipython3",
   "version": "3.12.3"
  }
 },
 "nbformat": 4,
 "nbformat_minor": 2
}
