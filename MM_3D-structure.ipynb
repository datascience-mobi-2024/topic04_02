{
 "cells": [
  {
   "cell_type": "code",
   "execution_count": 2,
   "metadata": {},
   "outputs": [],
   "source": [
    "import numpy as np\n",
    "import pandas as pd\n",
    "import os\n",
    "import seaborn as sns\n",
    "import matplotlib.pyplot as plt\n",
    "import Bio\n",
    "#from localcider.sequenceParameters import SequenceParameters\n",
    "import scipy\n",
    "from scipy.spatial.distance import cdist\n",
    "import math"
   ]
  },
  {
   "cell_type": "code",
   "execution_count": 23,
   "metadata": {},
   "outputs": [],
   "source": [
    "def split_sphere(center ,R = 1, horizontal_split = 36, vertical_split = 36):\n",
    "    theta = np.linspace(0,360,horizontal_split+1)\n",
    "    c = np.linspace(-1, 1, vertical_split+1)\n",
    "    s = 1 - c**2\n",
    "    x = R * np.outer(s, np.cos(theta))\n",
    "    x += center[0]\n",
    "    y = R * np.outer(s, np.sin(theta))\n",
    "    y += center[1]\n",
    "    z = R * np.outer(c, np.ones(horizontal_split+1))\n",
    "    z += center[2]\n",
    "    return x, y, z"
   ]
  },
  {
   "cell_type": "code",
   "execution_count": 3,
   "metadata": {},
   "outputs": [
    {
     "ename": "SyntaxError",
     "evalue": "invalid syntax. Maybe you meant '==' or ':=' instead of '='? (function.py, line 23)",
     "output_type": "error",
     "traceback": [
      "Traceback \u001b[1;36m(most recent call last)\u001b[0m:\n",
      "\u001b[0m  File \u001b[0;32m~\\AppData\\Local\\Packages\\PythonSoftwareFoundation.Python.3.12_qbz5n2kfra8p0\\LocalCache\\local-packages\\Python312\\site-packages\\IPython\\core\\interactiveshell.py:3577\u001b[0m in \u001b[0;35mrun_code\u001b[0m\n    exec(code_obj, self.user_global_ns, self.user_ns)\u001b[0m\n",
      "\u001b[1;36m  Cell \u001b[1;32mIn[3], line 28\u001b[1;36m\n\u001b[1;33m    from function import distance\u001b[1;36m\n",
      "\u001b[1;36m  File \u001b[1;32mc:\\Users\\marik\\OneDrive - bwedu\\Uni HD\\FS 4\\Bioinfo\\topic04_02\\function.py:23\u001b[1;36m\u001b[0m\n\u001b[1;33m    if remove_nan = True:\u001b[0m\n\u001b[1;37m       ^\u001b[0m\n\u001b[1;31mSyntaxError\u001b[0m\u001b[1;31m:\u001b[0m invalid syntax. Maybe you meant '==' or ':=' instead of '='?\n"
     ]
    }
   ],
   "source": [
    "pdb_path = './data/pdbs'\n",
    "with open(os.path.join(pdb_path, 'AF-C0H3V8-F1.pdb')) as f:\n",
    "    Atom_array = np.empty((0, 4))\n",
    "    VdW_radii = {'C': 3.1, 'N': 2.95, 'O': 2.96} # Van der Waals radii in Angstrom enlarged by watermolecule radius 1.4 A (https://academic.oup.com/nar/article/49/W1/W559/6279848#267025710)\n",
    "    C_C = 6.2\n",
    "    C_N = 6.05\n",
    "    C_O = 6.06\n",
    "    N_N = 5.9\n",
    "    N_O = 5.91\n",
    "    O_O = 5.92\n",
    "    X_array = np.array([[]])\n",
    "    N_array = np.empty((0,4))\n",
    "    O_array = np.empty((0,4))\n",
    "    for line in f:\n",
    "        line = line.strip()\n",
    "        if line.startswith('ATOM'):\n",
    "            if ('ASP' in line and 'OD' in line) or ('GLU' in line and 'OE' in line):\n",
    "                line_array = np.array([[line[7:12].strip(), line[27:38].strip(), line[39:46].strip(), line[47:54].strip()]])\n",
    "                line_array = line_array.astype('float64')\n",
    "                Atom_array = np.append(Atom_array, line_array, axis = 0)\n",
    "\n",
    "                if 'C' in line[12:17]:\n",
    "                    C_array = np.append(X_array, int('0'))\n",
    "                elif 'N' in line[12:17]:\n",
    "                    N_array = np.append(X_array, int('1'))\n",
    "                elif 'O' in line[12:17]:\n",
    "                    O_array = np.append(X_array, int('2'))\n",
    "    from function import distance\n",
    "    Atom_distance = distance(Atom_array, Atom_array, 6, remove_nan = False)            \n",
    "\n",
    "print(Atom_distance)\n",
    "    \n",
    "   \n"
   ]
  }
 ],
 "metadata": {
  "kernelspec": {
   "display_name": "Python 3",
   "language": "python",
   "name": "python3"
  },
  "language_info": {
   "codemirror_mode": {
    "name": "ipython",
    "version": 3
   },
   "file_extension": ".py",
   "mimetype": "text/x-python",
   "name": "python",
   "nbconvert_exporter": "python",
   "pygments_lexer": "ipython3",
   "version": "3.12.3"
  }
 },
 "nbformat": 4,
 "nbformat_minor": 2
}
