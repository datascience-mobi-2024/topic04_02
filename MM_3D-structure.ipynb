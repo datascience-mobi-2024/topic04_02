{
 "cells": [
  {
   "cell_type": "code",
   "execution_count": 1,
   "metadata": {},
   "outputs": [],
   "source": [
    "import numpy as np\n",
    "import pandas as pd\n",
    "import os\n",
    "import seaborn as sns\n",
    "import matplotlib.pyplot as plt\n",
    "import Bio\n",
    "#from localcider.sequenceParameters import SequenceParameters\n",
    "import scipy\n",
    "from scipy.spatial.distance import cdist\n",
    "import math"
   ]
  },
  {
   "cell_type": "code",
   "execution_count": 23,
   "metadata": {},
   "outputs": [],
   "source": [
    "def split_sphere(center ,R = 1, horizontal_split = 36, vertical_split = 36):\n",
    "    theta = np.linspace(0,360,horizontal_split+1)\n",
    "    c = np.linspace(-1, 1, vertical_split+1)\n",
    "    s = 1 - c**2\n",
    "    x = R * np.outer(s, np.cos(theta))\n",
    "    x += center[0]\n",
    "    y = R * np.outer(s, np.sin(theta))\n",
    "    y += center[1]\n",
    "    z = R * np.outer(c, np.ones(horizontal_split+1))\n",
    "    z += center[2]\n",
    "    return x, y, z"
   ]
  },
  {
   "cell_type": "code",
   "execution_count": 2,
   "metadata": {},
   "outputs": [
    {
     "ename": "NameError",
     "evalue": "name 'np' is not defined",
     "output_type": "error",
     "traceback": [
      "\u001b[1;31m---------------------------------------------------------------------------\u001b[0m",
      "\u001b[1;31mNameError\u001b[0m                                 Traceback (most recent call last)",
      "Cell \u001b[1;32mIn[2], line 3\u001b[0m\n\u001b[0;32m      1\u001b[0m \u001b[38;5;28;01mfrom\u001b[39;00m \u001b[38;5;21;01mfunction\u001b[39;00m \u001b[38;5;28;01mimport\u001b[39;00m salt_bridge\n\u001b[0;32m      2\u001b[0m pdb_path \u001b[38;5;241m=\u001b[39m \u001b[38;5;124m'\u001b[39m\u001b[38;5;124m./data/pdbs\u001b[39m\u001b[38;5;124m'\u001b[39m\n\u001b[1;32m----> 3\u001b[0m test \u001b[38;5;241m=\u001b[39m \u001b[43msalt_bridge\u001b[49m\u001b[43m(\u001b[49m\u001b[43mpdb_path\u001b[49m\u001b[43m,\u001b[49m\u001b[43m \u001b[49m\u001b[38;5;124;43m'\u001b[39;49m\u001b[38;5;124;43mAF-C0H3V8-F1.pdb\u001b[39;49m\u001b[38;5;124;43m'\u001b[39;49m\u001b[43m)\u001b[49m\n",
      "File \u001b[1;32mc:\\Users\\marik\\OneDrive - bwedu\\Uni HD\\FS 4\\Bioinfo\\topic04_02\\function.py:57\u001b[0m, in \u001b[0;36msalt_bridge\u001b[1;34m(path, pdb_files)\u001b[0m\n\u001b[0;32m     54\u001b[0m                     Lys_Arg_His_array \u001b[38;5;241m=\u001b[39m np\u001b[38;5;241m.\u001b[39mappend(Lys_Arg_His_array, line_array, axis \u001b[38;5;241m=\u001b[39m \u001b[38;5;241m0\u001b[39m)\n\u001b[0;32m     56\u001b[0m         \u001b[38;5;28;01mfrom\u001b[39;00m \u001b[38;5;21;01mfunction\u001b[39;00m \u001b[38;5;28;01mimport\u001b[39;00m distance\n\u001b[1;32m---> 57\u001b[0m         Salt_bridges[\u001b[38;5;28mstr\u001b[39m(pdb_file)\u001b[38;5;241m.\u001b[39msplit(\u001b[38;5;124m'\u001b[39m\u001b[38;5;124m-\u001b[39m\u001b[38;5;124m'\u001b[39m)[\u001b[38;5;241m1\u001b[39m]] \u001b[38;5;241m=\u001b[39m \u001b[43mdistance\u001b[49m\u001b[43m(\u001b[49m\u001b[43mAsp_Glu_array\u001b[49m\u001b[43m,\u001b[49m\u001b[43m \u001b[49m\u001b[43mLys_Arg_His_array\u001b[49m\u001b[43m,\u001b[49m\u001b[43m \u001b[49m\u001b[38;5;241;43m4\u001b[39;49m\u001b[43m)\u001b[49m\n\u001b[0;32m     58\u001b[0m \u001b[38;5;28;01mreturn\u001b[39;00m Salt_bridges\n",
      "File \u001b[1;32mc:\\Users\\marik\\OneDrive - bwedu\\Uni HD\\FS 4\\Bioinfo\\topic04_02\\function.py:19\u001b[0m, in \u001b[0;36mdistance\u001b[1;34m(array1, array2, cutoff)\u001b[0m\n\u001b[0;32m     17\u001b[0m \u001b[38;5;28;01mfrom\u001b[39;00m \u001b[38;5;21;01mscipy\u001b[39;00m\u001b[38;5;21;01m.\u001b[39;00m\u001b[38;5;21;01mspatial\u001b[39;00m\u001b[38;5;21;01m.\u001b[39;00m\u001b[38;5;21;01mdistance\u001b[39;00m \u001b[38;5;28;01mimport\u001b[39;00m cdist\n\u001b[0;32m     18\u001b[0m distance \u001b[38;5;241m=\u001b[39m cdist(array1[:,\u001b[38;5;241m2\u001b[39m:], array2[:,\u001b[38;5;241m2\u001b[39m:], metric\u001b[38;5;241m=\u001b[39m\u001b[38;5;124m'\u001b[39m\u001b[38;5;124meuclidean\u001b[39m\u001b[38;5;124m'\u001b[39m) \u001b[38;5;66;03m#calculate distance\u001b[39;00m\n\u001b[1;32m---> 19\u001b[0m distance \u001b[38;5;241m=\u001b[39m \u001b[43mnp\u001b[49m\u001b[38;5;241m.\u001b[39mconcatenate((np\u001b[38;5;241m.\u001b[39marray([array2[:,\u001b[38;5;241m0\u001b[39m:\u001b[38;5;241m1\u001b[39m]]), distance), axis\u001b[38;5;241m=\u001b[39m\u001b[38;5;241m0\u001b[39m) \u001b[38;5;66;03m#add atom number from  array2\u001b[39;00m\n\u001b[0;32m     20\u001b[0m distance \u001b[38;5;241m=\u001b[39m np\u001b[38;5;241m.\u001b[39mconcatenate((np\u001b[38;5;241m.\u001b[39minsert(np\u001b[38;5;241m.\u001b[39marray([array1[:,\u001b[38;5;241m0\u001b[39m:\u001b[38;5;241m1\u001b[39m]]), \u001b[38;5;241m0\u001b[39m, \u001b[38;5;28;01mNone\u001b[39;00m)\u001b[38;5;241m.\u001b[39mreshape(\u001b[38;5;241m-\u001b[39m\u001b[38;5;241m1\u001b[39m,\u001b[38;5;241m1\u001b[39m), distance), axis\u001b[38;5;241m=\u001b[39m\u001b[38;5;241m1\u001b[39m) \u001b[38;5;66;03m#add atom number from array1\u001b[39;00m\n\u001b[0;32m     21\u001b[0m distance[\u001b[38;5;241m2\u001b[39m:, \u001b[38;5;241m2\u001b[39m:][distance[\u001b[38;5;241m2\u001b[39m:, \u001b[38;5;241m2\u001b[39m:] \u001b[38;5;241m>\u001b[39m cutoff] \u001b[38;5;241m=\u001b[39m np\u001b[38;5;241m.\u001b[39mnan \u001b[38;5;66;03m#set distance > cutoff to nan\u001b[39;00m\n",
      "\u001b[1;31mNameError\u001b[0m: name 'np' is not defined"
     ]
    }
   ],
   "source": [
    "from function import salt_bridge\n",
    "pdb_path = './data/pdbs'\n",
    "test = salt_bridge(pdb_path, 'AF-C0H3V8-F1.pdb')"
   ]
  },
  {
   "cell_type": "code",
   "execution_count": 4,
   "metadata": {},
   "outputs": [],
   "source": [
    "def distance (array1, array2, cutoff):\n",
    "    distance = cdist(array1[:,2:], array2[:,2:], metric='euclidean') #calculate distance\n",
    "    distance = np.concatenate((np.array([array2[:,0:1]]), distance), axis=0) #add atom number from  array2\n",
    "    distance = np.concatenate((np.insert(np.array([array1[:,0:1]]), 0, None).reshape(-1,1), distance), axis=1) #add atom number from array1\n",
    "    distance[2:, 2:][distance[2:, 2:] > cutoff] = np.nan #set distance > cutoff to nan\n",
    "    rows_with_nan = np.insert(np.array([np.all(np.isnan(distance[2:, 2:]), axis=1)]),0, None) #find rows with all nan values\n",
    "    cols_with_nan = np.insert(np.array([np.all(np.isnan(distance[2:, 2:]), axis=0)]),0, None) #find columns with all nan values\n",
    "    distance = distance[~rows_with_nan, :] #delete rows with all nan values\n",
    "    distance = distance[:, ~cols_with_nan] #delete columns with all nan values\n",
    "    return distance\n",
    "\n"
   ]
  },
  {
   "cell_type": "code",
   "execution_count": 10,
   "metadata": {},
   "outputs": [
    {
     "ename": "ValueError",
     "evalue": "all the input arrays must have same number of dimensions, but the array at index 0 has 3 dimension(s) and the array at index 1 has 2 dimension(s)",
     "output_type": "error",
     "traceback": [
      "\u001b[1;31m---------------------------------------------------------------------------\u001b[0m",
      "\u001b[1;31mValueError\u001b[0m                                Traceback (most recent call last)",
      "Cell \u001b[1;32mIn[10], line 30\u001b[0m\n\u001b[0;32m     27\u001b[0m             line_array \u001b[38;5;241m=\u001b[39m line_array\u001b[38;5;241m.\u001b[39mastype(\u001b[38;5;124m'\u001b[39m\u001b[38;5;124mfloat64\u001b[39m\u001b[38;5;124m'\u001b[39m)\n\u001b[0;32m     28\u001b[0m             O_array \u001b[38;5;241m=\u001b[39m np\u001b[38;5;241m.\u001b[39mappend(O_array, line_array, axis \u001b[38;5;241m=\u001b[39m \u001b[38;5;241m0\u001b[39m)\n\u001b[1;32m---> 30\u001b[0m C_C_distance \u001b[38;5;241m=\u001b[39m \u001b[43mdistance\u001b[49m\u001b[43m(\u001b[49m\u001b[43mC_array\u001b[49m\u001b[43m,\u001b[49m\u001b[43m \u001b[49m\u001b[43mC_array\u001b[49m\u001b[43m,\u001b[49m\u001b[43m \u001b[49m\u001b[43mC_C\u001b[49m\u001b[43m)\u001b[49m\n\u001b[0;32m     31\u001b[0m C_N_distance \u001b[38;5;241m=\u001b[39m distance(C_array, N_array, C_N)\n\u001b[0;32m     32\u001b[0m C_O_distance \u001b[38;5;241m=\u001b[39m distance(C_array, O_array, C_O)\n",
      "Cell \u001b[1;32mIn[4], line 3\u001b[0m, in \u001b[0;36mdistance\u001b[1;34m(array1, array2, cutoff)\u001b[0m\n\u001b[0;32m      1\u001b[0m \u001b[38;5;28;01mdef\u001b[39;00m \u001b[38;5;21mdistance\u001b[39m (array1, array2, cutoff):\n\u001b[0;32m      2\u001b[0m     distance \u001b[38;5;241m=\u001b[39m cdist(array1[:,\u001b[38;5;241m2\u001b[39m:], array2[:,\u001b[38;5;241m2\u001b[39m:], metric\u001b[38;5;241m=\u001b[39m\u001b[38;5;124m'\u001b[39m\u001b[38;5;124meuclidean\u001b[39m\u001b[38;5;124m'\u001b[39m) \u001b[38;5;66;03m#calculate distance\u001b[39;00m\n\u001b[1;32m----> 3\u001b[0m     distance \u001b[38;5;241m=\u001b[39m \u001b[43mnp\u001b[49m\u001b[38;5;241;43m.\u001b[39;49m\u001b[43mconcatenate\u001b[49m\u001b[43m(\u001b[49m\u001b[43m(\u001b[49m\u001b[43mnp\u001b[49m\u001b[38;5;241;43m.\u001b[39;49m\u001b[43marray\u001b[49m\u001b[43m(\u001b[49m\u001b[43m[\u001b[49m\u001b[43marray2\u001b[49m\u001b[43m[\u001b[49m\u001b[43m:\u001b[49m\u001b[43m,\u001b[49m\u001b[38;5;241;43m0\u001b[39;49m\u001b[43m:\u001b[49m\u001b[38;5;241;43m1\u001b[39;49m\u001b[43m]\u001b[49m\u001b[43m]\u001b[49m\u001b[43m)\u001b[49m\u001b[43m,\u001b[49m\u001b[43m \u001b[49m\u001b[43mdistance\u001b[49m\u001b[43m)\u001b[49m\u001b[43m,\u001b[49m\u001b[43m \u001b[49m\u001b[43maxis\u001b[49m\u001b[38;5;241;43m=\u001b[39;49m\u001b[38;5;241;43m0\u001b[39;49m\u001b[43m)\u001b[49m \u001b[38;5;66;03m#add atom number from  array2\u001b[39;00m\n\u001b[0;32m      4\u001b[0m     distance \u001b[38;5;241m=\u001b[39m np\u001b[38;5;241m.\u001b[39mconcatenate((np\u001b[38;5;241m.\u001b[39minsert(np\u001b[38;5;241m.\u001b[39marray([array1[:,\u001b[38;5;241m0\u001b[39m:\u001b[38;5;241m1\u001b[39m]]), \u001b[38;5;241m0\u001b[39m, \u001b[38;5;28;01mNone\u001b[39;00m)\u001b[38;5;241m.\u001b[39mreshape(\u001b[38;5;241m-\u001b[39m\u001b[38;5;241m1\u001b[39m,\u001b[38;5;241m1\u001b[39m), distance), axis\u001b[38;5;241m=\u001b[39m\u001b[38;5;241m1\u001b[39m) \u001b[38;5;66;03m#add atom number from array1\u001b[39;00m\n\u001b[0;32m      5\u001b[0m     distance[\u001b[38;5;241m2\u001b[39m:, \u001b[38;5;241m2\u001b[39m:][distance[\u001b[38;5;241m2\u001b[39m:, \u001b[38;5;241m2\u001b[39m:] \u001b[38;5;241m>\u001b[39m cutoff] \u001b[38;5;241m=\u001b[39m np\u001b[38;5;241m.\u001b[39mnan \u001b[38;5;66;03m#set distance > cutoff to nan\u001b[39;00m\n",
      "\u001b[1;31mValueError\u001b[0m: all the input arrays must have same number of dimensions, but the array at index 0 has 3 dimension(s) and the array at index 1 has 2 dimension(s)"
     ]
    }
   ],
   "source": [
    "pdb_path = './data/pdbs'\n",
    "with open(os.path.join(pdb_path, 'AF-C0H3V8-F1.pdb')) as f:\n",
    "    AA_array = np.empty((0, 4))\n",
    "    VdW_radii = {'C': 3.1, 'N': 2.95, 'O': 2.96} # Van der Waals radii in Angstrom enlarged by watermolecule radius 1.4 A (https://academic.oup.com/nar/article/49/W1/W559/6279848#267025710)\n",
    "    C_C = 6.2\n",
    "    C_N = 6.05\n",
    "    C_O = 6.06\n",
    "    N_N = 5.9\n",
    "    N_O = 5.91\n",
    "    O_O = 5.92\n",
    "    C_array = np.empty((0,4))\n",
    "    N_array = np.empty((0,4))\n",
    "    O_array = np.empty((0,4))\n",
    "    for line in f:\n",
    "        line = line.strip()\n",
    "        if line.startswith('ATOM'):\n",
    "\n",
    "\n",
    "#select all Atoms from LEU, VAL, ILE that are within 1.4 A\n",
    "    \n",
    "   \n"
   ]
  },
  {
   "cell_type": "code",
   "execution_count": 58,
   "metadata": {},
   "outputs": [
    {
     "name": "stdout",
     "output_type": "stream",
     "text": [
      "1\n"
     ]
    }
   ],
   "source": [
    "test = np.array([1])\n",
    "print(test.ndim)\n"
   ]
  }
 ],
 "metadata": {
  "kernelspec": {
   "display_name": "Python 3",
   "language": "python",
   "name": "python3"
  },
  "language_info": {
   "codemirror_mode": {
    "name": "ipython",
    "version": 3
   },
   "file_extension": ".py",
   "mimetype": "text/x-python",
   "name": "python",
   "nbconvert_exporter": "python",
   "pygments_lexer": "ipython3",
   "version": "3.12.3"
  }
 },
 "nbformat": 4,
 "nbformat_minor": 2
}
