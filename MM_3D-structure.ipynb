{
 "cells": [
  {
   "cell_type": "code",
   "execution_count": 19,
   "metadata": {},
   "outputs": [],
   "source": [
    "import numpy as np\n",
    "import pandas as pd\n",
    "import os\n",
    "import seaborn as sns\n",
    "import matplotlib.pyplot as plt\n",
    "import Bio\n",
    "from localcider.sequenceParameters import SequenceParameters\n",
    "import scipy\n",
    "from scipy.spatial.distance import cdist"
   ]
  },
  {
   "cell_type": "code",
   "execution_count": 19,
   "metadata": {},
   "outputs": [],
   "source": [
    "path: str = './data/' #folder where files are stored\n",
    "prokaryotes: pd.DataFrame = pd.read_csv(os.path.join(path, \"prokaryotes_unique_prot.csv\"), dtype=str)   # imports file from the folder as species, based on name\n",
    "prokaryotes_all: pd.DataFrame = pd.read_csv(os.path.join(path, \"prokaryotes_all.csv\"), dtype=str) # imports 3rd file from the folder, based on name"
   ]
  },
  {
   "cell_type": "code",
   "execution_count": 17,
   "metadata": {},
   "outputs": [
    {
     "name": "stdout",
     "output_type": "stream",
     "text": [
      "[[ 5.4000e+01 -2.0399e+01 -4.2400e-01  2.3480e+00]\n",
      " [ 5.5000e+01 -1.9003e+01  3.9100e-01  8.6600e-01]\n",
      " [ 1.4800e+02  5.7810e+00 -5.8270e+00 -9.9740e+00]\n",
      " [ 1.4900e+02  4.9100e+00 -7.2090e+00 -8.4830e+00]\n",
      " [ 1.5700e+02  8.6200e-01 -1.2699e+01 -5.2300e+00]\n",
      " [ 1.5800e+02  3.3900e-01 -1.1398e+01 -3.5520e+00]\n",
      " [ 2.3600e+02 -1.4320e+01 -7.4330e+00 -7.6370e+00]\n",
      " [ 2.3700e+02 -1.3646e+01 -7.5320e+00 -5.5380e+00]\n",
      " [ 2.8300e+02 -1.4901e+01 -8.3630e+00 -1.5474e+01]\n",
      " [ 2.8400e+02 -1.3392e+01 -8.1800e+00 -1.7070e+01]\n",
      " [ 2.9100e+02 -1.0042e+01 -4.1250e+00 -2.0281e+01]\n",
      " [ 2.9200e+02 -1.1279e+01 -2.5740e+00 -2.1247e+01]\n",
      " [ 3.5400e+02 -2.1310e+00 -1.8200e-01 -2.0955e+01]\n",
      " [ 3.5500e+02 -1.7710e+00  1.9170e+00 -2.0613e+01]\n",
      " [ 3.7400e+02  5.1670e+00  1.3590e+00 -8.8340e+00]\n",
      " [ 3.7500e+02  3.2430e+00  2.4000e+00 -9.0950e+00]\n",
      " [ 3.8300e+02  4.4790e+00 -3.0050e+00 -1.7163e+01]\n",
      " [ 3.8400e+02  4.5570e+00 -1.1870e+00 -1.8417e+01]\n",
      " [ 5.0900e+02 -4.8480e+00  1.2306e+01 -1.6123e+01]\n",
      " [ 5.1000e+02 -5.3080e+00  1.3451e+01 -1.7926e+01]\n",
      " [ 5.1800e+02 -2.4010e+00  8.4490e+00 -2.2688e+01]\n",
      " [ 5.1900e+02 -2.9270e+00  7.1790e+00 -2.0947e+01]\n",
      " [ 5.4700e+02 -1.1964e+01  2.3920e+00 -2.0906e+01]\n",
      " [ 5.4800e+02 -1.2874e+01  9.4300e-01 -1.9494e+01]\n",
      " [ 6.4500e+02  3.2690e+00 -8.2720e+00  1.0577e+01]\n",
      " [ 6.4600e+02  5.2750e+00 -8.4960e+00  9.6710e+00]\n",
      " [ 6.6500e+02  1.1726e+01 -2.5680e+00 -3.5850e+00]\n",
      " [ 6.6600e+02  9.9940e+00 -3.7370e+00 -4.2840e+00]\n",
      " [ 6.9000e+02  1.3884e+01  3.9140e+00 -8.8250e+00]\n",
      " [ 6.9100e+02  1.3820e+01  4.7600e+00 -6.7800e+00]\n",
      " [ 8.0300e+02 -1.6807e+01  1.4727e+01 -8.9290e+00]\n",
      " [ 8.0400e+02 -1.5665e+01  1.3078e+01 -8.0380e+00]\n",
      " [ 8.2900e+02 -1.0113e+01  1.9110e+01 -5.7930e+00]\n",
      " [ 8.3000e+02 -1.2072e+01  1.8249e+01 -6.3550e+00]\n",
      " [ 9.0900e+02 -3.3300e-01  1.8162e+01  1.0030e+01]\n",
      " [ 9.1000e+02  4.2200e-01  1.6865e+01  1.1655e+01]\n",
      " [ 9.1800e+02  7.3650e+00  9.8060e+00  1.2886e+01]\n",
      " [ 9.1900e+02  6.9000e+00  1.1959e+01  1.2945e+01]\n",
      " [ 9.2700e+02 -2.8690e+00  1.1392e+01  1.7337e+01]\n",
      " [ 9.2800e+02 -1.5700e+00  1.3042e+01  1.6641e+01]\n",
      " [ 9.5200e+02  4.5770e+00  6.7480e+00  1.5076e+01]\n",
      " [ 9.5300e+02  2.5320e+00  7.0000e+00  1.5872e+01]\n",
      " [ 1.0140e+03 -1.3367e+01 -4.1740e+00  7.7370e+00]\n",
      " [ 1.0150e+03 -1.4269e+01 -2.8490e+00  9.2510e+00]\n",
      " [ 1.0230e+03 -1.7783e+01  3.4000e-02  1.0981e+01]\n",
      " [ 1.0240e+03 -1.5701e+01 -3.0200e-01  1.1523e+01]\n",
      " [ 1.0310e+03 -1.0899e+01  2.9750e+00  1.5037e+01]\n",
      " [ 1.0320e+03 -9.7440e+00  1.2070e+00  1.4365e+01]\n",
      " [ 1.0880e+03 -9.0610e+00  1.1902e+01  1.2917e+01]\n",
      " [ 1.0890e+03 -7.6350e+00  1.3171e+01  1.1874e+01]]\n",
      "[[ 4.6000e+01 -1.7380e+01 -2.1550e+00  9.5490e+00]\n",
      " [ 8.0000e+01 -1.3034e+01 -6.3540e+00 -2.0500e-01]\n",
      " [ 1.4000e+02  6.6920e+00 -8.8300e-01 -9.3050e+00]\n",
      " [ 1.8000e+02 -4.9530e+00 -1.1307e+01 -1.0803e+01]\n",
      " [ 3.2700e+02 -4.2000e+00  1.4130e+00 -2.1791e+01]\n",
      " [ 3.6400e+02  3.1890e+00  7.2540e+00 -1.2631e+01]\n",
      " [ 3.6500e+02  2.5080e+00  9.0660e+00 -1.1529e+01]\n",
      " [ 4.8800e+02 -1.8260e+00  7.4640e+00 -9.2650e+00]\n",
      " [ 4.9000e+02 -1.2460e+00  8.6720e+00 -1.1024e+01]\n",
      " [ 5.3300e+02 -7.8760e+00  1.3946e+01 -1.7732e+01]\n",
      " [ 5.7100e+02 -2.0695e+01  6.9180e+00 -1.0344e+01]\n",
      " [ 5.7300e+02 -2.1576e+01  4.9770e+00 -1.0904e+01]\n",
      " [ 7.2400e+02  5.4550e+00 -1.7390e+00  9.4430e+00]\n",
      " [ 7.7900e+02 -1.7521e+01  8.1190e+00 -1.6208e+01]\n",
      " [ 8.1200e+02 -8.0680e+00  1.3306e+01 -1.2274e+01]\n",
      " [ 8.1400e+02 -6.1900e+00  1.4455e+01 -1.2383e+01]\n",
      " [ 9.6200e+02 -6.3810e+00  1.0814e+01  1.3271e+01]\n",
      " [ 9.6300e+02 -8.0720e+00  9.4790e+00  1.3691e+01]\n",
      " [ 1.0000e+03 -3.2970e+00 -3.4410e+00  1.4778e+01]]\n"
     ]
    }
   ],
   "source": [
    "import numpy as np\n",
    "import os\n",
    "import scipy\n",
    "from scipy.spatial.distance import cdist\n",
    "path_pdb = './data/pdbs'\n",
    "\n",
    "Salt_bridges = ({})\n",
    "Asp_Glu_array = np.empty((0, 4))\n",
    "Lys_Arg_His_array = np.empty((0, 4))\n",
    "with open(os.path.join(path_pdb, 'AF-C0H3V2-F1.pdb')) as f:\n",
    "    for line in f:\n",
    "        line = line.strip()\n",
    "        if line.startswith('ATOM'):\n",
    "            if ('ASP' in line and 'OD' in line) or ('GLU' in line and 'OE' in line):\n",
    "                line_array = np.array([[line[7:12].strip(), line[27:38].strip(), line[39:46].strip(), line[47:54].strip()]])\n",
    "                line_array = line_array.astype('float64')\n",
    "                Asp_Glu_array = np.append(Asp_Glu_array, line_array, axis = 0)\n",
    "            if ('LYS' in line and 'NZ' in line) or ('ARG' in line and 'NH' in line) or ('HIS' in line and 'NE' in line) or ('HIS' in line and 'ND' in line):\n",
    "                line_array = np.array([[line[7:12].strip(), line[27:38].strip(), line[39:46].strip(), line[47:54].strip()]])\n",
    "                line_array = line_array.astype('float64')\n",
    "                Lys_Arg_His_array = np.append(Lys_Arg_His_array, line_array, axis = 0)\n",
    "\n",
    "    #calculate distance clean up array\n",
    "    distance = cdist(Asp_Glu_array[:,1:], Lys_Arg_His_array[:,1:], metric='euclidean') #calculate distance\n",
    "    distance = np.concatenate((np.array([Lys_Arg_His_array[:,0]]), distance), axis=0) #add atom number from Lys_Arg_His to array\n",
    "    distance = np.concatenate((np.insert(np.array([Asp_Glu_array[:,0]]), 0, None).reshape(-1,1), distance), axis=1) #add atom number from Asp_Glu to array\n",
    "    distance[1:, 1:][distance[1:, 1:] > 4] = np.nan #set distance > 4 to nan\n",
    "    rows_with_nan = np.insert(np.array([np.all(np.isnan(distance[1:, 1:]), axis=1)]),0, None) #find rows with all nan values\n",
    "    cols_with_nan = np.insert(np.array([np.all(np.isnan(distance[1:, 1:]), axis=0)]),0, None) #find columns with all nan values\n",
    "    distance = distance[~rows_with_nan, :] #delete rows with all nan values\n",
    "    distance = distance[:, ~cols_with_nan] #delete columns with all nan values\n",
    "    Salt_bridges['AF-C0H3V2-F1.pdb'] = distance\n",
    "\n",
    "print(Asp_Glu_array)\n",
    "print(Lys_Arg_His_array)\n",
    "print(distance)"
   ]
  },
  {
   "cell_type": "code",
   "execution_count": 21,
   "metadata": {},
   "outputs": [],
   "source": [
    "from function import salt_bridge\n",
    "path_pdb = './data/pdbs'\n",
    "Salt_Bridges = salt_bridge(path_pdb).keys()\n"
   ]
  },
  {
   "cell_type": "code",
   "execution_count": null,
   "metadata": {},
   "outputs": [],
   "source": [
    "SeqObj = SequenceParameters('MADKDFGLNDIVEMKKPHPCGANSWKIIRMGMDIRIKCEGCSHSVMIPRREFERKLKKVLVKHEEPTS')\n",
    "SeqObj.save_zscoresAndPlots(num_scrambles=100000, random_seed=None)\n"
   ]
  },
  {
   "cell_type": "code",
   "execution_count": 20,
   "metadata": {},
   "outputs": [
    {
     "data": {
      "text/plain": [
       "0.15316382219826957"
      ]
     },
     "execution_count": 20,
     "metadata": {},
     "output_type": "execute_result"
    }
   ],
   "source": [
    "SecObj2 = SequenceParameters('MADKDFGLNDIVEMKKPHPCGANSWKIIRMGMDIRIKCEGCSHSVMIPRREFERKLKKVLVKHEEPTS')\n",
    "SecObj2.get_kappa()"
   ]
  }
 ],
 "metadata": {
  "kernelspec": {
   "display_name": "Python 3",
   "language": "python",
   "name": "python3"
  },
  "language_info": {
   "codemirror_mode": {
    "name": "ipython",
    "version": 3
   },
   "file_extension": ".py",
   "mimetype": "text/x-python",
   "name": "python",
   "nbconvert_exporter": "python",
   "pygments_lexer": "ipython3",
   "version": "3.12.3"
  }
 },
 "nbformat": 4,
 "nbformat_minor": 2
}
