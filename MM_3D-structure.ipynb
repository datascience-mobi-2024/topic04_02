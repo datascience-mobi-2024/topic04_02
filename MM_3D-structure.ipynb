{
 "cells": [
  {
   "cell_type": "code",
   "execution_count": 13,
   "metadata": {},
   "outputs": [],
   "source": [
    "import numpy as np\n",
    "import pandas as pd\n",
    "import os\n",
    "import seaborn as sns\n",
    "import matplotlib.pyplot as plt\n",
    "import Bio\n",
    "#from localcider.sequenceParameters import SequenceParameters\n",
    "import scipy\n",
    "from scipy.spatial.distance import cdist\n",
    "import math"
   ]
  },
  {
   "cell_type": "code",
   "execution_count": 23,
   "metadata": {},
   "outputs": [],
   "source": [
    "def split_sphere(center ,R = 1, horizontal_split = 36, vertical_split = 36):\n",
    "    theta = np.linspace(0,360,horizontal_split+1)\n",
    "    c = np.linspace(-1, 1, vertical_split+1)\n",
    "    s = 1 - c**2\n",
    "    x = R * np.outer(s, np.cos(theta))\n",
    "    x += center[0]\n",
    "    y = R * np.outer(s, np.sin(theta))\n",
    "    y += center[1]\n",
    "    z = R * np.outer(c, np.ones(horizontal_split+1))\n",
    "    z += center[2]\n",
    "    return x, y, z"
   ]
  },
  {
   "cell_type": "code",
   "execution_count": 89,
   "metadata": {},
   "outputs": [],
   "source": [
    "def distance (array1, array2, cutoff):\n",
    "    distance = cdist(array1[:,2:], array2[:,2:], metric='euclidean') #calculate distance\n",
    "    distance = np.concatenate((np.array([array2[:,0:1]]), distance), axis=0) #add atom number from  array2\n",
    "    distance = np.concatenate((np.insert(np.array([array1[:,0:1]]), 0, None).reshape(-1,1), distance), axis=1) #add atom number from array1\n",
    "    distance[2:, 2:][distance[2:, 2:] > cutoff] = np.nan #set distance > cutoff to nan\n",
    "    rows_with_nan = np.insert(np.array([np.all(np.isnan(distance[2:, 2:]), axis=1)]),0, None) #find rows with all nan values\n",
    "    cols_with_nan = np.insert(np.array([np.all(np.isnan(distance[2:, 2:]), axis=0)]),0, None) #find columns with all nan values\n",
    "    distance = distance[~rows_with_nan, :] #delete rows with all nan values\n",
    "    distance = distance[:, ~cols_with_nan] #delete columns with all nan values\n",
    "    return distance"
   ]
  },
  {
   "cell_type": "code",
   "execution_count": 140,
   "metadata": {},
   "outputs": [],
   "source": [
    "pdb_path = './data/pdbs'\n",
    "with open(os.path.join(pdb_path, 'AF-C0H3V8-F1.pdb')) as f:\n",
    "    AA_array = np.empty((0, 4))\n",
    "    VdW_radii = {'C': 3.1, 'N': 2.95, 'O': 2.96} # Van der Waals radii in Angstrom enlarged by watermolecule radius 1.4 A (https://academic.oup.com/nar/article/49/W1/W559/6279848#267025710)\n",
    "    C_C = 6.2\n",
    "    C_N = 6.05\n",
    "    C_O = 6.06\n",
    "    N_O = 5.91\n",
    "    C_array = np.empty((0,4))\n",
    "    N_array = np.empty((0,4))\n",
    "    O_array = np.empty((0,4))\n",
    "    for line in f:\n",
    "        line = line.strip()\n",
    "        if line.startswith('ATOM'):\n",
    "            if 'C' in line[12:17]:\n",
    "                line_array = np.array([[line[7:12].strip(), line[27:38].strip(), line[39:46].strip(), line[47:54].strip()]])\n",
    "                line_array = line_array.astype('float64')\n",
    "                C_array = np.append(C_array, line_array, axis = 0)      \n",
    "                         \n",
    "            or ('VAL' in line) or ('ILE' in line):\n",
    "                line_array = np.array([[line[7:12].strip(), line[27:38].strip(), line[39:46].strip(), line[47:54].strip()]])\n",
    "                line_array = line_array.astype('float64')\n",
    "                AA_array = np.append(AA_array, line_array, axis = 0)\n",
    "\n",
    "\n",
    "#select all Atoms from LEU, VAL, ILE that are within 1.4 A\n",
    "for \n",
    "    \n"
   ]
  },
  {
   "cell_type": "code",
   "execution_count": 58,
   "metadata": {},
   "outputs": [
    {
     "name": "stdout",
     "output_type": "stream",
     "text": [
      "1\n"
     ]
    }
   ],
   "source": [
    "test = np.array([1])\n",
    "print(test.ndim)\n"
   ]
  }
 ],
 "metadata": {
  "kernelspec": {
   "display_name": "Python 3",
   "language": "python",
   "name": "python3"
  },
  "language_info": {
   "codemirror_mode": {
    "name": "ipython",
    "version": 3
   },
   "file_extension": ".py",
   "mimetype": "text/x-python",
   "name": "python",
   "nbconvert_exporter": "python",
   "pygments_lexer": "ipython3",
   "version": "3.12.3"
  }
 },
 "nbformat": 4,
 "nbformat_minor": 2
}
