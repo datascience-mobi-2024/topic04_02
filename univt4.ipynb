{
 "cells": [
  {
   "cell_type": "code",
   "execution_count": 1,
   "metadata": {},
   "outputs": [],
   "source": [
    "import numpy as np\n",
    "import pandas as pd\n",
    "import os\n",
    "import seaborn as sns\n",
    "import matplotlib.pyplot as plt\n",
    "import re\n",
    "import ast"
   ]
  },
  {
   "cell_type": "code",
   "execution_count": 7,
   "metadata": {},
   "outputs": [],
   "source": [
    "path: str = './data/'\n",
    "prokaryotes: pd.DataFrame = pd.read_csv(os.path.join(path, \"prokaryotes_323columns.csv\"),dtype = object)\n",
    "prokaryotes = prokaryotes.drop(columns=prokaryotes.columns[[0,1]])"
   ]
  },
  {
   "cell_type": "code",
   "execution_count": null,
   "metadata": {},
   "outputs": [],
   "source": [
    "def univt4(seq:str,size:int):\n",
    "    seqa = s"
   ]
  },
  {
   "cell_type": "code",
   "execution_count": 80,
   "metadata": {},
   "outputs": [
    {
     "name": "stdout",
     "output_type": "stream",
     "text": [
      "[[0.    0.    0.   ]\n",
      " [0.    0.    0.   ]\n",
      " [1.044 0.806 1.042]\n",
      " [0.98  0.996 0.972]\n",
      " [0.878 1.226 0.89 ]\n",
      " [0.788 1.292 0.89 ]\n",
      " [0.878 1.226 0.89 ]\n",
      " [1.11  1.214 0.738]\n",
      " [1.096 1.15  0.774]\n",
      " [1.17  0.972 0.86 ]\n",
      " [1.132 0.93  0.924]\n",
      " [1.022 1.042 0.852]\n",
      " [0.884 1.312 0.732]\n",
      " [0.832 1.138 0.87 ]\n",
      " [0.    0.    0.   ]\n",
      " [0.    0.    0.   ]]\n",
      "[nan nan  0. nan  1.  1.  1.  1.  1.  0.  0.  1.  1.  1. nan nan]\n"
     ]
    }
   ],
   "source": [
    "secvalues = {'E' : np.array([1.59,0.52,1.01]), 'A' : np.array([1.41,0.72,0.82]), 'L' : np.array([1.34,1.22,0.57]), 'M' : np.array([1.3,1.14,0.52]), 'Q' : np.array([1.27,0.98,0.84]), 'K' : np.array([1.23,0.69,1.07]), 'R' : np.array([1.21,0.84,0.9]), 'H' : np.array([1.05,0.8,0.81]), 'V' : np.array([0.9,1.87,0.41]), 'I' : np.array([1.09,1.67,0.47]), 'Y' : np.array([0.74,1.45,0.76]), 'C' : np.array([0.66,1.4,0.54]), 'W' : np.array([1.02,1.35,0.65]), 'F' : np.array([1.16,1.33,0.59]), 'T' : np.array([0.76,1.17,0.9]), 'G' : np.array([0.43,0.58,1.77]), 'N' : np.array([0.76,0.48,1.34]), 'P' : np.array([0.34,0.31,1.32]), 'S' : np.array([0.57,0.96,1.22]), 'D' : np.array([0.99,0.39,1.24]), 'U' : np.array([0.66,1.4,0.54])}\n",
    "helixvalues = {'E':1.59,'A':1.41,'L':1.34,'M':1.3,'Q':1.27,'K':1.23,'R':1.21,'H':1.05,'V':0.9,'I':1.09,'Y':0.74,'C':0.66,'W':1.02,'F':1.16,'T':0.76,'G':0.43,'N':0.76,'P':0.34,'S':0.57,'D':0.99,'U':0.66}\n",
    "sheetvalues = {'E':0.52,'A':0.72,'L':1.22,'M':1.14,'Q':0.98,'K':0.69,'R':0.84,'H':0.8,'V':1.87,'I':1.67,'Y':1.45,'C':1.4,'W':1.35,'F':1.33,'T':1.17,'G':0.58,'N':0.48,'P':0.31,'S':0.96,'D':0.39,'U':1.4}\n",
    "loopvalues = {'E':1.01,'A':0.82,'L':0.57,'M':0.52,'Q':0.84,'K':1.07,'R':0.9,'H':0.81,'V':0.41,'I':0.47,'Y':0.76,'C':0.54,'W':0.65,'F':0.59,'T':0.9,'G':1.77,'N':1.34,'P':1.32,'S':1.22,'D':1.24,'U':0.54}\n",
    "testseq = 'AARTGIVTREWQSCVN'\n",
    "testseqA =np.array(list(testseq))\n",
    "testseqa = np.array(list(map(secvalues.get,testseqA)))\n",
    "sz = 2\n",
    "means = np.zeros((len(testseqa),3))\n",
    "for n in range(sz,len(testseqa)-sz):\n",
    "    means[n]  = np.mean(testseqa[n-sz:n+sz+1],axis=0)\n",
    "meansmax = np.where(np.max(means, axis=1) >= 1, np.argmax(means, axis=1), np.nan)\n",
    "print(means)\n",
    "print(meansmax)\n",
    "#TO DO: add helix,sheet,turn lists from meansmax, 70 % done\n",
    "helix3 = []\n",
    "sheet3 = []\n",
    "turn3 = []\n",
    "for n in range(len(meansmax)):\n",
    "    templ = []\n",
    "    if meansmax[n] == 0:\n",
    "        "
   ]
  },
  {
   "cell_type": "code",
   "execution_count": 75,
   "metadata": {},
   "outputs": [
    {
     "name": "stdout",
     "output_type": "stream",
     "text": [
      "[ 2.  1. nan]\n"
     ]
    }
   ],
   "source": [
    "A = np.array([[1,2,3],[3,4,1],[1,2,1]])\n",
    "B = np.where(np.max(A, axis=1) >= 3, np.argmax(A, axis=1), np.nan)\n",
    "print(B)"
   ]
  }
 ],
 "metadata": {
  "kernelspec": {
   "display_name": "Python 3",
   "language": "python",
   "name": "python3"
  },
  "language_info": {
   "codemirror_mode": {
    "name": "ipython",
    "version": 3
   },
   "file_extension": ".py",
   "mimetype": "text/x-python",
   "name": "python",
   "nbconvert_exporter": "python",
   "pygments_lexer": "ipython3",
   "version": "3.11.4"
  }
 },
 "nbformat": 4,
 "nbformat_minor": 2
}
