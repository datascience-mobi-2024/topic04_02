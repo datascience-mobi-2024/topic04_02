{
 "cells": [
  {
   "cell_type": "code",
   "execution_count": 1,
   "metadata": {},
   "outputs": [],
   "source": [
    "import numpy as np\n",
    "import pandas as pd\n",
    "import os\n",
    "import seaborn as sns\n",
    "import matplotlib.pyplot as plt\n",
    "import re\n",
    "import ast"
   ]
  },
  {
   "cell_type": "code",
   "execution_count": 198,
   "metadata": {},
   "outputs": [],
   "source": [
    "path: str = './data/'\n",
    "prokaryotes: pd.DataFrame = pd.read_csv(os.path.join(path, \"prokaryotes_323columns.csv\"),dtype = object)\n",
    "prokaryotes = prokaryotes.drop(columns=prokaryotes.columns[[0,1]])"
   ]
  },
  {
   "cell_type": "code",
   "execution_count": 83,
   "metadata": {},
   "outputs": [],
   "source": [
    "def group_consecutive(data):\n",
    "    return np.split(data, np.where(np.diff(data) != 1)[0]+1)"
   ]
  },
  {
   "cell_type": "code",
   "execution_count": 196,
   "metadata": {},
   "outputs": [],
   "source": [
    "def univt4(seq:str,size:int):\n",
    "    secvalues = {'E' : np.array([1.59,0.52,1.01]), 'A' : np.array([1.41,0.72,0.82]), 'L' : np.array([1.34,1.22,0.57]), 'M' : np.array([1.3,1.14,0.52]), 'Q' : np.array([1.27,0.98,0.84]), 'K' : np.array([1.23,0.69,1.07]), 'R' : np.array([1.21,0.84,0.9]), 'H' : np.array([1.05,0.8,0.81]), 'V' : np.array([0.9,1.87,0.41]), 'I' : np.array([1.09,1.67,0.47]), 'Y' : np.array([0.74,1.45,0.76]), 'C' : np.array([0.66,1.4,0.54]), 'W' : np.array([1.02,1.35,0.65]), 'F' : np.array([1.16,1.33,0.59]), 'T' : np.array([0.76,1.17,0.9]), 'G' : np.array([0.43,0.58,1.77]), 'N' : np.array([0.76,0.48,1.34]), 'P' : np.array([0.34,0.31,1.32]), 'S' : np.array([0.57,0.96,1.22]), 'D' : np.array([0.99,0.39,1.24]), 'U' : np.array([0.66,1.4,0.54])}\n",
    "    seqa = np.array(list(map(secvalues.get,list(seq))))\n",
    "    means = np.zeros((len(seqa),3))\n",
    "    for n in range(size,len(seqa)-size):\n",
    "        means[n]  = np.mean(seqa[n-size:n+size+1],axis=0)\n",
    "    meansmax = np.where(np.max(means, axis=1) >= 1.1, np.argmax(means, axis=1), np.nan)\n",
    "    helix3 = group_consecutive(np.array(np.where(meansmax == 0)).flatten())\n",
    "    sheet3 = group_consecutive(np.array(np.where(meansmax == 1)).flatten())\n",
    "    turn3 = group_consecutive(np.array(np.where(meansmax == 2)).flatten())\n",
    "    helix3 = [list(x) for x in helix3 if len(x) >= 3]\n",
    "    sheet3 = [list(x) for x in sheet3 if len(x) >= 3]\n",
    "    turn3 = [list(x) for x in turn3 if len(x) >= 2]\n",
    "    return(helix3,sheet3,turn3,meansmax)"
   ]
  },
  {
   "cell_type": "code",
   "execution_count": 119,
   "metadata": {},
   "outputs": [
    {
     "name": "stdout",
     "output_type": "stream",
     "text": [
      "[nan nan  0. nan  1.  1.  1.  1.  1.  0.  0.  1.  1.  1. nan nan]\n",
      "[[2], [9, 10]]\n"
     ]
    }
   ],
   "source": [
    "secvalues = {'E' : np.array([1.59,0.52,1.01]), 'A' : np.array([1.41,0.72,0.82]), 'L' : np.array([1.34,1.22,0.57]), 'M' : np.array([1.3,1.14,0.52]), 'Q' : np.array([1.27,0.98,0.84]), 'K' : np.array([1.23,0.69,1.07]), 'R' : np.array([1.21,0.84,0.9]), 'H' : np.array([1.05,0.8,0.81]), 'V' : np.array([0.9,1.87,0.41]), 'I' : np.array([1.09,1.67,0.47]), 'Y' : np.array([0.74,1.45,0.76]), 'C' : np.array([0.66,1.4,0.54]), 'W' : np.array([1.02,1.35,0.65]), 'F' : np.array([1.16,1.33,0.59]), 'T' : np.array([0.76,1.17,0.9]), 'G' : np.array([0.43,0.58,1.77]), 'N' : np.array([0.76,0.48,1.34]), 'P' : np.array([0.34,0.31,1.32]), 'S' : np.array([0.57,0.96,1.22]), 'D' : np.array([0.99,0.39,1.24]), 'U' : np.array([0.66,1.4,0.54])}\n",
    "helixvalues = {'E':1.59,'A':1.41,'L':1.34,'M':1.3,'Q':1.27,'K':1.23,'R':1.21,'H':1.05,'V':0.9,'I':1.09,'Y':0.74,'C':0.66,'W':1.02,'F':1.16,'T':0.76,'G':0.43,'N':0.76,'P':0.34,'S':0.57,'D':0.99,'U':0.66}\n",
    "sheetvalues = {'E':0.52,'A':0.72,'L':1.22,'M':1.14,'Q':0.98,'K':0.69,'R':0.84,'H':0.8,'V':1.87,'I':1.67,'Y':1.45,'C':1.4,'W':1.35,'F':1.33,'T':1.17,'G':0.58,'N':0.48,'P':0.31,'S':0.96,'D':0.39,'U':1.4}\n",
    "loopvalues = {'E':1.01,'A':0.82,'L':0.57,'M':0.52,'Q':0.84,'K':1.07,'R':0.9,'H':0.81,'V':0.41,'I':0.47,'Y':0.76,'C':0.54,'W':0.65,'F':0.59,'T':0.9,'G':1.77,'N':1.34,'P':1.32,'S':1.22,'D':1.24,'U':0.54}\n",
    "testseq = 'AARTGIVTREWQSCVN'\n",
    "testseqA =np.array(list(testseq))\n",
    "testseqa = np.array(list(map(secvalues.get,testseqA)))\n",
    "sz = 2\n",
    "means = np.zeros((len(testseqa),3))\n",
    "for n in range(sz,len(testseqa)-sz):\n",
    "    means[n]  = np.mean(testseqa[n-sz:n+sz+1],axis=0)\n",
    "meansmax = np.where(np.max(means, axis=1) >= 1, np.argmax(means, axis=1), np.nan)\n",
    "print(meansmax)\n",
    "#TO DO: add helix,sheet,turn lists from meansmax, 70 % done\n",
    "helix3 = group_consecutive(np.array(np.where(meansmax == 0)).flatten())\n",
    "sheet3 = group_consecutive(np.array(np.where(meansmax == 1)).flatten())\n",
    "turn3 = group_consecutive(np.array(np.where(meansmax == 2)).flatten())\n",
    "helix3 = [list(x) for x in helix3]\n",
    "sheet3 = [list(x) for x in sheet3]\n",
    "turn3 = [list(x) for x in turn3]"
   ]
  },
  {
   "cell_type": "code",
   "execution_count": 145,
   "metadata": {},
   "outputs": [
    {
     "data": {
      "text/plain": [
       "array([[ 4,  5,  6,  7,  8, 11, 12, 13]], dtype=int64)"
      ]
     },
     "execution_count": 145,
     "metadata": {},
     "output_type": "execute_result"
    }
   ],
   "source": [
    "np.array(np.where(meansmax==1))"
   ]
  },
  {
   "cell_type": "code",
   "execution_count": 199,
   "metadata": {},
   "outputs": [],
   "source": [
    "prokaryotescrystal = prokaryotes.dropna(subset=['Helix']).reset_index(drop=True)"
   ]
  },
  {
   "cell_type": "code",
   "execution_count": 197,
   "metadata": {},
   "outputs": [
    {
     "name": "stdout",
     "output_type": "stream",
     "text": [
      "9.0\n",
      "17\n"
     ]
    }
   ],
   "source": [
    "pos = 17\n",
    "tseq = prokaryotescrystal['Sequence'][pos]\n",
    "sec = ['Helix','Sheet','Turn']\n",
    "ind = 0\n",
    "print(prokaryotescrystal[f'{sec[ind]}1count'][pos])\n",
    "print(len(univt4(tseq,3)[ind]))"
   ]
  },
  {
   "cell_type": "markdown",
   "metadata": {},
   "source": [
    "Create new data frame to compare Crystal structure, S4pred and univt4"
   ]
  },
  {
   "cell_type": "code",
   "execution_count": 215,
   "metadata": {},
   "outputs": [],
   "source": [
    "compare = pd.DataFrame(columns=['Crystal','S4pred','Univt4'])\n",
    "for n in range(len(prokaryotescrystal)):\n",
    "    compare.loc[n,'Crystal'] = float(prokaryotescrystal['Helix1count'][n])\n",
    "    compare.loc[n,'S4pred'] = float(prokaryotescrystal['Helix2count'][n])\n",
    "    compare.loc[n,'Univt4'] = len(univt4(prokaryotescrystal.loc[n,'Sequence'],3)[0])"
   ]
  },
  {
   "cell_type": "code",
   "execution_count": 224,
   "metadata": {},
   "outputs": [],
   "source": [
    "for n in range(len(prokaryotescrystal)):\n",
    "    if compare.loc[n,'Crystal'] != 0 and compare.loc[n,'S4pred']:\n",
    "        compare.loc[n,'diffS4'] = abs((compare.loc[n,'S4pred']-compare.loc[n,'Crystal'])/compare.loc[n,'Crystal'])\n",
    "    if compare.loc[n,'Crystal'] != 0 and compare.loc[n,'Univt4']:\n",
    "        compare.loc[n,'diffUnivt4'] = abs((compare.loc[n,'Univt4']-compare.loc[n,'Crystal'])/compare.loc[n,'Crystal'])"
   ]
  },
  {
   "cell_type": "code",
   "execution_count": 227,
   "metadata": {},
   "outputs": [
    {
     "name": "stdout",
     "output_type": "stream",
     "text": [
      "0.45564935329178197\n",
      "0.5750612411693591\n"
     ]
    }
   ],
   "source": [
    "S4fehler = np.mean(np.array(compare['diffS4']))\n",
    "print(S4fehler)\n",
    "Univt4fehler = np.mean(np.array(compare['diffUnivt4']))\n",
    "print(Univt4fehler)"
   ]
  }
 ],
 "metadata": {
  "kernelspec": {
   "display_name": "Python 3",
   "language": "python",
   "name": "python3"
  },
  "language_info": {
   "codemirror_mode": {
    "name": "ipython",
    "version": 3
   },
   "file_extension": ".py",
   "mimetype": "text/x-python",
   "name": "python",
   "nbconvert_exporter": "python",
   "pygments_lexer": "ipython3",
   "version": "3.11.4"
  }
 },
 "nbformat": 4,
 "nbformat_minor": 2
}
