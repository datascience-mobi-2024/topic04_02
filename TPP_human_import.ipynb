{
 "cells": [
  {
   "cell_type": "code",
   "execution_count": 2,
   "metadata": {},
   "outputs": [],
   "source": [
    "# import packages\n",
    "import numpy as np\n",
    "import pandas as pd\n",
    "import os\n",
    "import seaborn as sns\n",
    "import matplotlib.pyplot as plt\n",
    "import Bio\n",
    "import statsmodels.api as sm\n",
    "import re"
   ]
  },
  {
   "cell_type": "markdown",
   "metadata": {},
   "source": [
    "Import all excelsheets as a dataframe and store it in a dictionary and rename keys to exclude 'TPP_' from beginning"
   ]
  },
  {
   "cell_type": "code",
   "execution_count": 3,
   "metadata": {},
   "outputs": [
    {
     "ename": "ValueError",
     "evalue": "Excel file format cannot be determined, you must specify an engine manually.",
     "output_type": "error",
     "traceback": [
      "\u001b[1;31m---------------------------------------------------------------------------\u001b[0m",
      "\u001b[1;31mValueError\u001b[0m                                Traceback (most recent call last)",
      "Cell \u001b[1;32mIn[3], line 3\u001b[0m\n\u001b[0;32m      1\u001b[0m data_dir \u001b[38;5;241m=\u001b[39m \u001b[38;5;124m\"\u001b[39m\u001b[38;5;124m./Bioinfo_data_extracted\u001b[39m\u001b[38;5;124m\"\u001b[39m\n\u001b[0;32m      2\u001b[0m file_list \u001b[38;5;241m=\u001b[39m os\u001b[38;5;241m.\u001b[39mlistdir(data_dir)\n\u001b[1;32m----> 3\u001b[0m raw_data \u001b[38;5;241m=\u001b[39m{os\u001b[38;5;241m.\u001b[39mpath\u001b[38;5;241m.\u001b[39msplitext(filename)[\u001b[38;5;241m0\u001b[39m]: \u001b[43mpd\u001b[49m\u001b[38;5;241;43m.\u001b[39;49m\u001b[43mread_excel\u001b[49m\u001b[43m(\u001b[49m\u001b[43mos\u001b[49m\u001b[38;5;241;43m.\u001b[39;49m\u001b[43mpath\u001b[49m\u001b[38;5;241;43m.\u001b[39;49m\u001b[43mjoin\u001b[49m\u001b[43m(\u001b[49m\u001b[43mdata_dir\u001b[49m\u001b[43m,\u001b[49m\u001b[43m \u001b[49m\u001b[43mfilename\u001b[49m\u001b[43m)\u001b[49m\u001b[43m,\u001b[49m\u001b[43m \u001b[49m\u001b[43mheader\u001b[49m\u001b[38;5;241;43m=\u001b[39;49m\u001b[38;5;241;43m0\u001b[39;49m\u001b[43m)\u001b[49m \n\u001b[0;32m      4\u001b[0m         \u001b[38;5;28;01mfor\u001b[39;00m filename \u001b[38;5;129;01min\u001b[39;00m file_list}\n\u001b[0;32m      6\u001b[0m raw_data \u001b[38;5;241m=\u001b[39m {key[\u001b[38;5;241m4\u001b[39m:]: value \u001b[38;5;28;01mfor\u001b[39;00m key, value \u001b[38;5;129;01min\u001b[39;00m raw_data\u001b[38;5;241m.\u001b[39mitems()} \u001b[38;5;66;03m# remove 'TPP_' from the keys\u001b[39;00m\n",
      "File \u001b[1;32m~\\AppData\\Local\\Packages\\PythonSoftwareFoundation.Python.3.12_qbz5n2kfra8p0\\LocalCache\\local-packages\\Python312\\site-packages\\pandas\\io\\excel\\_base.py:495\u001b[0m, in \u001b[0;36mread_excel\u001b[1;34m(io, sheet_name, header, names, index_col, usecols, dtype, engine, converters, true_values, false_values, skiprows, nrows, na_values, keep_default_na, na_filter, verbose, parse_dates, date_parser, date_format, thousands, decimal, comment, skipfooter, storage_options, dtype_backend, engine_kwargs)\u001b[0m\n\u001b[0;32m    493\u001b[0m \u001b[38;5;28;01mif\u001b[39;00m \u001b[38;5;129;01mnot\u001b[39;00m \u001b[38;5;28misinstance\u001b[39m(io, ExcelFile):\n\u001b[0;32m    494\u001b[0m     should_close \u001b[38;5;241m=\u001b[39m \u001b[38;5;28;01mTrue\u001b[39;00m\n\u001b[1;32m--> 495\u001b[0m     io \u001b[38;5;241m=\u001b[39m \u001b[43mExcelFile\u001b[49m\u001b[43m(\u001b[49m\n\u001b[0;32m    496\u001b[0m \u001b[43m        \u001b[49m\u001b[43mio\u001b[49m\u001b[43m,\u001b[49m\n\u001b[0;32m    497\u001b[0m \u001b[43m        \u001b[49m\u001b[43mstorage_options\u001b[49m\u001b[38;5;241;43m=\u001b[39;49m\u001b[43mstorage_options\u001b[49m\u001b[43m,\u001b[49m\n\u001b[0;32m    498\u001b[0m \u001b[43m        \u001b[49m\u001b[43mengine\u001b[49m\u001b[38;5;241;43m=\u001b[39;49m\u001b[43mengine\u001b[49m\u001b[43m,\u001b[49m\n\u001b[0;32m    499\u001b[0m \u001b[43m        \u001b[49m\u001b[43mengine_kwargs\u001b[49m\u001b[38;5;241;43m=\u001b[39;49m\u001b[43mengine_kwargs\u001b[49m\u001b[43m,\u001b[49m\n\u001b[0;32m    500\u001b[0m \u001b[43m    \u001b[49m\u001b[43m)\u001b[49m\n\u001b[0;32m    501\u001b[0m \u001b[38;5;28;01melif\u001b[39;00m engine \u001b[38;5;129;01mand\u001b[39;00m engine \u001b[38;5;241m!=\u001b[39m io\u001b[38;5;241m.\u001b[39mengine:\n\u001b[0;32m    502\u001b[0m     \u001b[38;5;28;01mraise\u001b[39;00m \u001b[38;5;167;01mValueError\u001b[39;00m(\n\u001b[0;32m    503\u001b[0m         \u001b[38;5;124m\"\u001b[39m\u001b[38;5;124mEngine should not be specified when passing \u001b[39m\u001b[38;5;124m\"\u001b[39m\n\u001b[0;32m    504\u001b[0m         \u001b[38;5;124m\"\u001b[39m\u001b[38;5;124man ExcelFile - ExcelFile already has the engine set\u001b[39m\u001b[38;5;124m\"\u001b[39m\n\u001b[0;32m    505\u001b[0m     )\n",
      "File \u001b[1;32m~\\AppData\\Local\\Packages\\PythonSoftwareFoundation.Python.3.12_qbz5n2kfra8p0\\LocalCache\\local-packages\\Python312\\site-packages\\pandas\\io\\excel\\_base.py:1554\u001b[0m, in \u001b[0;36mExcelFile.__init__\u001b[1;34m(self, path_or_buffer, engine, storage_options, engine_kwargs)\u001b[0m\n\u001b[0;32m   1550\u001b[0m     ext \u001b[38;5;241m=\u001b[39m inspect_excel_format(\n\u001b[0;32m   1551\u001b[0m         content_or_path\u001b[38;5;241m=\u001b[39mpath_or_buffer, storage_options\u001b[38;5;241m=\u001b[39mstorage_options\n\u001b[0;32m   1552\u001b[0m     )\n\u001b[0;32m   1553\u001b[0m     \u001b[38;5;28;01mif\u001b[39;00m ext \u001b[38;5;129;01mis\u001b[39;00m \u001b[38;5;28;01mNone\u001b[39;00m:\n\u001b[1;32m-> 1554\u001b[0m         \u001b[38;5;28;01mraise\u001b[39;00m \u001b[38;5;167;01mValueError\u001b[39;00m(\n\u001b[0;32m   1555\u001b[0m             \u001b[38;5;124m\"\u001b[39m\u001b[38;5;124mExcel file format cannot be determined, you must specify \u001b[39m\u001b[38;5;124m\"\u001b[39m\n\u001b[0;32m   1556\u001b[0m             \u001b[38;5;124m\"\u001b[39m\u001b[38;5;124man engine manually.\u001b[39m\u001b[38;5;124m\"\u001b[39m\n\u001b[0;32m   1557\u001b[0m         )\n\u001b[0;32m   1559\u001b[0m engine \u001b[38;5;241m=\u001b[39m config\u001b[38;5;241m.\u001b[39mget_option(\u001b[38;5;124mf\u001b[39m\u001b[38;5;124m\"\u001b[39m\u001b[38;5;124mio.excel.\u001b[39m\u001b[38;5;132;01m{\u001b[39;00mext\u001b[38;5;132;01m}\u001b[39;00m\u001b[38;5;124m.reader\u001b[39m\u001b[38;5;124m\"\u001b[39m, silent\u001b[38;5;241m=\u001b[39m\u001b[38;5;28;01mTrue\u001b[39;00m)\n\u001b[0;32m   1560\u001b[0m \u001b[38;5;28;01mif\u001b[39;00m engine \u001b[38;5;241m==\u001b[39m \u001b[38;5;124m\"\u001b[39m\u001b[38;5;124mauto\u001b[39m\u001b[38;5;124m\"\u001b[39m:\n",
      "\u001b[1;31mValueError\u001b[0m: Excel file format cannot be determined, you must specify an engine manually."
     ]
    }
   ],
   "source": [
    "data_dir = \"./Bioinfo_data_extracted\"\n",
    "file_list = os.listdir(data_dir)\n",
    "raw_data ={os.path.splitext(filename)[0]: pd.read_excel(os.path.join(data_dir, filename), header=0) \n",
    "        for filename in file_list}\n",
    "\n",
    "raw_data = {key[4:]: value for key, value in raw_data.items()} # remove 'TPP_' from the keys"
   ]
  },
  {
   "cell_type": "markdown",
   "metadata": {},
   "source": [
    "Rename columns of each dataframe to have it consistent.\n",
    "Drop all not important columns"
   ]
  },
  {
   "cell_type": "code",
   "execution_count": 1,
   "metadata": {},
   "outputs": [
    {
     "ename": "NameError",
     "evalue": "name 'pd' is not defined",
     "output_type": "error",
     "traceback": [
      "\u001b[1;31m---------------------------------------------------------------------------\u001b[0m",
      "\u001b[1;31mNameError\u001b[0m                                 Traceback (most recent call last)",
      "Cell \u001b[1;32mIn[1], line 10\u001b[0m\n\u001b[0;32m      1\u001b[0m \u001b[38;5;66;03m#list copied from col_list and manually adjusted\u001b[39;00m\n\u001b[0;32m      2\u001b[0m drop_list \u001b[38;5;241m=\u001b[39m [\u001b[38;5;124m'\u001b[39m\u001b[38;5;124mnorm_FC_TMT126_H.sapiens_HEK293_PP018224\u001b[39m\u001b[38;5;124m'\u001b[39m, \u001b[38;5;124m'\u001b[39m\u001b[38;5;124mnorm_FC_TMT127L_H.sapiens_HEK293_PP018224\u001b[39m\u001b[38;5;124m'\u001b[39m, \u001b[38;5;124m'\u001b[39m\u001b[38;5;124mnorm_FC_TMT127H_H.sapiens_HEK293_PP018224\u001b[39m\u001b[38;5;124m'\u001b[39m, \n\u001b[0;32m      3\u001b[0m             \u001b[38;5;124m'\u001b[39m\u001b[38;5;124mnorm_FC_TMT128L_H.sapiens_HEK293_PP018224\u001b[39m\u001b[38;5;124m'\u001b[39m, \u001b[38;5;124m'\u001b[39m\u001b[38;5;124mnorm_FC_TMT128H_H.sapiens_HEK293_PP018224\u001b[39m\u001b[38;5;124m'\u001b[39m, \u001b[38;5;124m'\u001b[39m\u001b[38;5;124mnorm_FC_TMT129L_H.sapiens_HEK293_PP018224\u001b[39m\u001b[38;5;124m'\u001b[39m, \n\u001b[0;32m      4\u001b[0m             \u001b[38;5;124m'\u001b[39m\u001b[38;5;124mnorm_FC_TMT129H_H.sapiens_HEK293_PP018224\u001b[39m\u001b[38;5;124m'\u001b[39m, \u001b[38;5;124m'\u001b[39m\u001b[38;5;124mnorm_FC_TMT130L_H.sapiens_HEK293_PP018224\u001b[39m\u001b[38;5;124m'\u001b[39m, \u001b[38;5;124m'\u001b[39m\u001b[38;5;124mnorm_FC_TMT130H_H.sapiens_HEK293_PP018224\u001b[39m\u001b[38;5;124m'\u001b[39m, \n\u001b[1;32m   (...)\u001b[0m\n\u001b[0;32m      7\u001b[0m             \u001b[38;5;124m'\u001b[39m\u001b[38;5;124mR_sq_H.sapiens_HEK293_PP018224\u001b[39m\u001b[38;5;124m'\u001b[39m, \u001b[38;5;124m'\u001b[39m\u001b[38;5;124mplot\u001b[39m\u001b[38;5;124m'\u001b[39m, \u001b[38;5;124m'\u001b[39m\u001b[38;5;124mprotein_identified_in_H.sapiens_HEK293_PP018224\u001b[39m\u001b[38;5;124m'\u001b[39m, \u001b[38;5;124m'\u001b[39m\u001b[38;5;124mmodel_converged_H.sapiens_HEK293_PP018224\u001b[39m\u001b[38;5;124m'\u001b[39m, \n\u001b[0;32m      8\u001b[0m             \u001b[38;5;124m'\u001b[39m\u001b[38;5;124msufficient_data_for_fit_H.sapiens_HEK293_PP018224\u001b[39m\u001b[38;5;124m'\u001b[39m,\u001b[38;5;124m'\u001b[39m\u001b[38;5;124mnumSpec_H.sapiens_HEK293_PP018224\u001b[39m\u001b[38;5;124m'\u001b[39m,\u001b[38;5;124m'\u001b[39m\u001b[38;5;124mplot_link\u001b[39m\u001b[38;5;124m'\u001b[39m]\n\u001b[1;32m---> 10\u001b[0m col_name \u001b[38;5;241m=\u001b[39m \u001b[43mpd\u001b[49m\u001b[38;5;241m.\u001b[39mread_csv(\u001b[38;5;124m'\u001b[39m\u001b[38;5;124m./Bioinfo_data_extracted/temp column name.csv\u001b[39m\u001b[38;5;124m'\u001b[39m)\n\u001b[0;32m     11\u001b[0m col_list \u001b[38;5;241m=\u001b[39m col_name\u001b[38;5;241m.\u001b[39mcolumns\u001b[38;5;241m.\u001b[39mtolist()\n\u001b[0;32m     12\u001b[0m key_list \u001b[38;5;241m=\u001b[39m \u001b[38;5;28mlist\u001b[39m(raw_data\u001b[38;5;241m.\u001b[39mkeys())\n",
      "\u001b[1;31mNameError\u001b[0m: name 'pd' is not defined"
     ]
    }
   ],
   "source": [
    "#list copied from col_list and manually adjusted\n",
    "drop_list = ['norm_FC_TMT126_H.sapiens_HEK293_PP018224', 'norm_FC_TMT127L_H.sapiens_HEK293_PP018224', 'norm_FC_TMT127H_H.sapiens_HEK293_PP018224', \n",
    "            'norm_FC_TMT128L_H.sapiens_HEK293_PP018224', 'norm_FC_TMT128H_H.sapiens_HEK293_PP018224', 'norm_FC_TMT129L_H.sapiens_HEK293_PP018224', \n",
    "            'norm_FC_TMT129H_H.sapiens_HEK293_PP018224', 'norm_FC_TMT130L_H.sapiens_HEK293_PP018224', 'norm_FC_TMT130H_H.sapiens_HEK293_PP018224', \n",
    "            'norm_FC_TMT131L_H.sapiens_HEK293_PP018224', 'a_H.sapiens_HEK293_PP018224', 'b_H.sapiens_HEK293_PP018224', \n",
    "            'inflPoint_H.sapiens_HEK293_PP018224', 'slope_H.sapiens_HEK293_PP018224', 'plateau_H.sapiens_HEK293_PP018224', \n",
    "            'R_sq_H.sapiens_HEK293_PP018224', 'plot', 'protein_identified_in_H.sapiens_HEK293_PP018224', 'model_converged_H.sapiens_HEK293_PP018224', \n",
    "            'sufficient_data_for_fit_H.sapiens_HEK293_PP018224','numSpec_H.sapiens_HEK293_PP018224','plot_link']\n",
    "\n",
    "col_name = pd.read_csv('C:/Users/marik/Downloads/temp column name.csv')\n",
    "col_list = col_name.columns.tolist()\n",
    "key_list = list(raw_data.keys())\n",
    "\n",
    "# Rename columns based on col_list (equal to drop_list, except for elements not included)\n",
    "for n in range(len(key_list)):\n",
    "    old_cols = list(raw_data[key_list[n]].columns)\n",
    "    col_list = col_name[:len(old_cols)]  # Ensure col_name has enough elements\n",
    "    rename_dict = dict(zip(old_cols, col_list))\n",
    "    raw_data[key_list[n]] = raw_data[key_list[n]].rename(columns=rename_dict)\n",
    "\n",
    "# Drop columns in drop_list\n",
    "for n in range(len(key_list)):\n",
    "    raw_data[key_list[n]] = raw_data[key_list[n]].drop(columns = drop_list, axis=1)\n",
    "\n",
    "# Rename columns to be consistent across all dataframes\n",
    "raw_data[key_list[0]].head()\n",
    "for n in range(len(key_list)):\n",
    "    raw_data[key_list[n]] = raw_data[key_list[n]].rename(columns={\n",
    "        'meltPoint_H.sapiens_HEK293_PP018224': 'meltPoint', 'Proteinname_H.sapiens_HEK293_PP018224': 'Proteinname'})"
   ]
  },
  {
   "cell_type": "markdown",
   "metadata": {},
   "source": [
    "Create a new column for each dataframe in the dictionary and add the name of the sample (key name) to it."
   ]
  },
  {
   "cell_type": "code",
   "execution_count": null,
   "metadata": {},
   "outputs": [],
   "source": [
    "re.replace('What to replace', 'Replace with', string of text to search)"
   ]
  },
  {
   "cell_type": "code",
   "execution_count": 198,
   "metadata": {},
   "outputs": [],
   "source": [
    "data = {}\n",
    "for i in range(len(raw_data.keys())):\n",
    "    df = raw_data[list(raw_data.keys())[i]].copy()\n",
    "    if df.columns[0] != 'Sample':\n",
    "        df.insert(loc=0, column = 'Sample', \n",
    "                  value = pd.Series(str(list(raw_data.keys())[i]), index = df.index))\n",
    "        data[list(raw_data.keys())[i]] = df\n",
    "    else:\n",
    "        data[list(raw_data.keys())[i]] = df\n",
    "\n"
   ]
  },
  {
   "cell_type": "markdown",
   "metadata": {},
   "source": [
    "Create one big joined dataframe from the dictionary"
   ]
  },
  {
   "cell_type": "code",
   "execution_count": 199,
   "metadata": {},
   "outputs": [
    {
     "data": {
      "text/html": [
       "<div>\n",
       "<style scoped>\n",
       "    .dataframe tbody tr th:only-of-type {\n",
       "        vertical-align: middle;\n",
       "    }\n",
       "\n",
       "    .dataframe tbody tr th {\n",
       "        vertical-align: top;\n",
       "    }\n",
       "\n",
       "    .dataframe thead th {\n",
       "        text-align: right;\n",
       "    }\n",
       "</style>\n",
       "<table border=\"1\" class=\"dataframe\">\n",
       "  <thead>\n",
       "    <tr style=\"text-align: right;\">\n",
       "      <th></th>\n",
       "      <th>Sample</th>\n",
       "      <th>Protein_ID</th>\n",
       "      <th>meltPoint</th>\n",
       "      <th>Proteinname</th>\n",
       "      <th>gene_name</th>\n",
       "      <th>uniprot_ac</th>\n",
       "      <th>auc</th>\n",
       "    </tr>\n",
       "  </thead>\n",
       "  <tbody>\n",
       "    <tr>\n",
       "      <th>0</th>\n",
       "      <td>H.sapiens_A549_P013697</td>\n",
       "      <td>A0AVK6_E2F8</td>\n",
       "      <td>NaN</td>\n",
       "      <td>Transcription factor E2F8</td>\n",
       "      <td>E2F8</td>\n",
       "      <td>A0AVK6</td>\n",
       "      <td>0.673865</td>\n",
       "    </tr>\n",
       "    <tr>\n",
       "      <th>1</th>\n",
       "      <td>H.sapiens_A549_P013697</td>\n",
       "      <td>A0AVT1_UBA6</td>\n",
       "      <td>49.407548</td>\n",
       "      <td>Ubiquitin-like modifier-activating enzyme 6</td>\n",
       "      <td>UBA6</td>\n",
       "      <td>A0AVT1</td>\n",
       "      <td>0.378148</td>\n",
       "    </tr>\n",
       "    <tr>\n",
       "      <th>2</th>\n",
       "      <td>H.sapiens_A549_P013697</td>\n",
       "      <td>A0JNW5_UHRF1BP1L</td>\n",
       "      <td>57.121525</td>\n",
       "      <td>UHRF1-binding protein 1-like</td>\n",
       "      <td>UHRF1BP1L</td>\n",
       "      <td>A0JNW5</td>\n",
       "      <td>0.641599</td>\n",
       "    </tr>\n",
       "    <tr>\n",
       "      <th>3</th>\n",
       "      <td>H.sapiens_A549_P013697</td>\n",
       "      <td>A0MZ66_KIAA1598</td>\n",
       "      <td>54.592113</td>\n",
       "      <td>Shootin-1</td>\n",
       "      <td>KIAA1598</td>\n",
       "      <td>A0MZ66</td>\n",
       "      <td>0.580735</td>\n",
       "    </tr>\n",
       "    <tr>\n",
       "      <th>4</th>\n",
       "      <td>H.sapiens_A549_P013697</td>\n",
       "      <td>A1A4S6_ARHGAP10</td>\n",
       "      <td>55.426149</td>\n",
       "      <td>Rho GTPase-activating protein 10</td>\n",
       "      <td>ARHGAP10</td>\n",
       "      <td>A1A4S6</td>\n",
       "      <td>0.613258</td>\n",
       "    </tr>\n",
       "  </tbody>\n",
       "</table>\n",
       "</div>"
      ],
      "text/plain": [
       "                   Sample        Protein_ID  meltPoint  \\\n",
       "0  H.sapiens_A549_P013697       A0AVK6_E2F8        NaN   \n",
       "1  H.sapiens_A549_P013697       A0AVT1_UBA6  49.407548   \n",
       "2  H.sapiens_A549_P013697  A0JNW5_UHRF1BP1L  57.121525   \n",
       "3  H.sapiens_A549_P013697   A0MZ66_KIAA1598  54.592113   \n",
       "4  H.sapiens_A549_P013697   A1A4S6_ARHGAP10  55.426149   \n",
       "\n",
       "                                   Proteinname  gene_name uniprot_ac       auc  \n",
       "0                    Transcription factor E2F8       E2F8     A0AVK6  0.673865  \n",
       "1  Ubiquitin-like modifier-activating enzyme 6       UBA6     A0AVT1  0.378148  \n",
       "2                 UHRF1-binding protein 1-like  UHRF1BP1L     A0JNW5  0.641599  \n",
       "3                                    Shootin-1   KIAA1598     A0MZ66  0.580735  \n",
       "4             Rho GTPase-activating protein 10   ARHGAP10     A1A4S6  0.613258  "
      ]
     },
     "execution_count": 199,
     "metadata": {},
     "output_type": "execute_result"
    }
   ],
   "source": [
    "\n",
    "data_human = pd.concat(data.values(), axis = 0, ignore_index=True, join='inner')\n",
    "data_human.head()"
   ]
  },
  {
   "cell_type": "markdown",
   "metadata": {},
   "source": [
    "Identify healthy and desease cell lines"
   ]
  },
  {
   "cell_type": "code",
   "execution_count": 201,
   "metadata": {},
   "outputs": [
    {
     "name": "stdout",
     "output_type": "stream",
     "text": [
      "['H.sapiens_A549_P013697' 'H.sapiens_A549_P013701'\n",
      " 'H.sapiens_colon_cancer_spheroids_R1_P016043'\n",
      " 'H.sapiens_colon_cancer_spheroids_R2_P016046' 'H.sapiens_HEK293_PP018221'\n",
      " 'H.sapiens_HEK293_PP018224' 'H.sapiens_hepatocytes_P013190'\n",
      " 'H.sapiens_hepatocytes_P013194' 'H.sapiens_hepatocytes_P013553'\n",
      " 'H.sapiens_hepatocytes_P013558' 'H.sapiens_Jurkat_P015963'\n",
      " 'H.sapiens_Jurkat_P015964' 'H.sapiens_K562_cells_R1_P018450'\n",
      " 'H.sapiens_K562_cells_R2_P018894' 'H.sapiens_K562_lysate_R1_P019670'\n",
      " 'H.sapiens_K562_lysate_R2_P019785' 'H.sapiens_K562_P013109'\n",
      " 'H.sapiens_K562_P013110' 'H.sapiens_K562_P018889'\n",
      " 'H.sapiens_K562_P018890' 'H.sapiens_lung_fibroblasts_P017092'\n",
      " 'H.sapiens_lung_fibroblasts_P017095'\n",
      " 'human_body_fluids_blood_plasma_P014819'\n",
      " 'human_body_fluids_breast_milk_P014818' 'human_body_fluids_CSF_P014820'\n",
      " 'human_body_fluids_saliva_P014425'\n",
      " 'human_body_fluids_seminal_plasma_P014428']\n"
     ]
    }
   ],
   "source": [
    "print(data_human['Sample'].unique())\n",
    "\n",
    "'H.sapiens_A549_P013697' 'H.sapiens_A549_P013701'\n",
    " 'H.sapiens_colon_cancer_spheroids_R1_P016043'\n",
    " 'H.sapiens_colon_cancer_spheroids_R2_P016046' 'H.sapiens_HEK293_PP018221'\n",
    " 'H.sapiens_HEK293_PP018224' 'H.sapiens_hepatocytes_P013190'\n",
    " 'H.sapiens_hepatocytes_P013194' 'H.sapiens_hepatocytes_P013553'\n",
    " 'H.sapiens_hepatocytes_P013558' 'H.sapiens_Jurkat_P015963'\n",
    " 'H.sapiens_Jurkat_P015964' 'H.sapiens_K562_cells_R1_P018450'\n",
    " 'H.sapiens_K562_cells_R2_P018894' 'H.sapiens_K562_lysate_R1_P019670'\n",
    " 'H.sapiens_K562_lysate_R2_P019785' 'H.sapiens_K562_P013109'\n",
    " 'H.sapiens_K562_P013110' 'H.sapiens_K562_P018889'\n",
    " 'H.sapiens_K562_P018890' 'H.sapiens_lung_fibroblasts_P017092'\n",
    " 'H.sapiens_lung_fibroblasts_P017095'\n",
    " 'human_body_fluids_blood_plasma_P014819'\n",
    " 'human_body_fluids_breast_milk_P014818' 'human_body_fluids_CSF_P014820'\n",
    " 'human_body_fluids_saliva_P014425'\n",
    " 'human_body_fluids_seminal_plasma_P014428'"
   ]
  }
 ],
 "metadata": {
  "kernelspec": {
   "display_name": "Python 3",
   "language": "python",
   "name": "python3"
  },
  "language_info": {
   "codemirror_mode": {
    "name": "ipython",
    "version": 3
   },
   "file_extension": ".py",
   "mimetype": "text/x-python",
   "name": "python",
   "nbconvert_exporter": "python",
   "pygments_lexer": "ipython3",
   "version": "3.12.3"
  }
 },
 "nbformat": 4,
 "nbformat_minor": 2
}
