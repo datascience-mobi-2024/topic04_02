{
 "cells": [
  {
   "cell_type": "code",
   "execution_count": 2,
   "metadata": {},
   "outputs": [],
   "source": [
    "# import packages\n",
    "import numpy as np\n",
    "import pandas as pd\n",
    "import os\n",
    "import seaborn as sns\n",
    "import matplotlib.pyplot as plt\n",
    "import Bio\n",
    "import statsmodels.api as sm\n",
    "import re"
   ]
  },
  {
   "cell_type": "markdown",
   "metadata": {},
   "source": [
    "Import all excelsheets as a dataframe and store it in a dictionary and rename keys to exclude 'TPP_' from beginning"
   ]
  },
  {
   "cell_type": "code",
   "execution_count": 3,
   "metadata": {},
   "outputs": [],
   "source": [
    "data_dir = \"./Bioinfo_data_extracted\"\n",
    "file_list = os.listdir(data_dir)\n",
    "raw_data ={os.path.splitext(filename)[0]: pd.read_excel(os.path.join(data_dir, filename), header=0) \n",
    "        for filename in file_list}\n",
    "\n",
    "raw_data = {key[4:]: value for key, value in raw_data.items()} # remove 'TPP_' from the keys"
   ]
  },
  {
   "cell_type": "markdown",
   "metadata": {},
   "source": [
    "Rename columns of each dataframe to have it consistent.\n",
    "Drop all not important columns"
   ]
  },
  {
   "cell_type": "code",
   "execution_count": 6,
   "metadata": {},
   "outputs": [],
   "source": [
    "#list copied from col_list and manually adjusted\n",
    "drop_list = ['norm_FC_TMT126_H.sapiens_HEK293_PP018224', 'norm_FC_TMT127L_H.sapiens_HEK293_PP018224', 'norm_FC_TMT127H_H.sapiens_HEK293_PP018224', \n",
    "            'norm_FC_TMT128L_H.sapiens_HEK293_PP018224', 'norm_FC_TMT128H_H.sapiens_HEK293_PP018224', 'norm_FC_TMT129L_H.sapiens_HEK293_PP018224', \n",
    "            'norm_FC_TMT129H_H.sapiens_HEK293_PP018224', 'norm_FC_TMT130L_H.sapiens_HEK293_PP018224', 'norm_FC_TMT130H_H.sapiens_HEK293_PP018224', \n",
    "            'norm_FC_TMT131L_H.sapiens_HEK293_PP018224', 'a_H.sapiens_HEK293_PP018224', 'b_H.sapiens_HEK293_PP018224', \n",
    "            'inflPoint_H.sapiens_HEK293_PP018224', 'slope_H.sapiens_HEK293_PP018224', 'plateau_H.sapiens_HEK293_PP018224', \n",
    "            'R_sq_H.sapiens_HEK293_PP018224', 'plot', 'protein_identified_in_H.sapiens_HEK293_PP018224', 'model_converged_H.sapiens_HEK293_PP018224', \n",
    "            'sufficient_data_for_fit_H.sapiens_HEK293_PP018224','numSpec_H.sapiens_HEK293_PP018224','plot_link']\n",
    "\n",
    "col_name = pd.read_csv('/Users/maxvassen/Desktop/lernen aktuell/Bioinfo Projekt/Github/temp column name.csv')\n",
    "col_list = col_name.columns.tolist()\n",
    "key_list = list(raw_data.keys())\n",
    "\n",
    "# Rename columns based on col_list (equal to drop_list, except for elements not included)\n",
    "for n in range(len(key_list)):\n",
    "    old_cols = list(raw_data[key_list[n]].columns)\n",
    "    col_list = col_name[:len(old_cols)]  # Ensure col_name has enough elements\n",
    "    rename_dict = dict(zip(old_cols, col_list))\n",
    "    raw_data[key_list[n]] = raw_data[key_list[n]].rename(columns=rename_dict)\n",
    "\n",
    "# Drop columns in drop_list\n",
    "for n in range(len(key_list)):\n",
    "    raw_data[key_list[n]] = raw_data[key_list[n]].drop(columns = drop_list, axis=1)\n",
    "\n",
    "# Rename columns to be consistent across all dataframes\n",
    "raw_data[key_list[0]].head()\n",
    "for n in range(len(key_list)):\n",
    "    raw_data[key_list[n]] = raw_data[key_list[n]].rename(columns={\n",
    "        'meltPoint_H.sapiens_HEK293_PP018224': 'meltPoint', 'Proteinname_H.sapiens_HEK293_PP018224': 'Proteinname'})"
   ]
  },
  {
   "cell_type": "markdown",
   "metadata": {},
   "source": [
    "Create a new column for each dataframe in the dictionary and add the name of the sample (key name) to it."
   ]
  },
  {
   "cell_type": "code",
   "execution_count": 7,
   "metadata": {},
   "outputs": [],
   "source": [
    "data = {}\n",
    "for i in range(len(raw_data.keys())):\n",
    "    df = raw_data[list(raw_data.keys())[i]].copy()\n",
    "    if df.columns[0] != 'Sample':\n",
    "        df.insert(loc=0, column = 'Sample', \n",
    "                  value = pd.Series(str(list(raw_data.keys())[i]), index = df.index))\n",
    "        data[list(raw_data.keys())[i]] = df\n",
    "    else:\n",
    "        data[list(raw_data.keys())[i]] = df\n",
    "\n"
   ]
  },
  {
   "cell_type": "markdown",
   "metadata": {},
   "source": [
    "Create one big joined dataframe from the dictionary"
   ]
  },
  {
   "cell_type": "code",
   "execution_count": 8,
   "metadata": {},
   "outputs": [
    {
     "data": {
      "text/html": [
       "<div>\n",
       "<style scoped>\n",
       "    .dataframe tbody tr th:only-of-type {\n",
       "        vertical-align: middle;\n",
       "    }\n",
       "\n",
       "    .dataframe tbody tr th {\n",
       "        vertical-align: top;\n",
       "    }\n",
       "\n",
       "    .dataframe thead th {\n",
       "        text-align: right;\n",
       "    }\n",
       "</style>\n",
       "<table border=\"1\" class=\"dataframe\">\n",
       "  <thead>\n",
       "    <tr style=\"text-align: right;\">\n",
       "      <th></th>\n",
       "      <th>Sample</th>\n",
       "      <th>Protein_ID</th>\n",
       "      <th>meltPoint</th>\n",
       "      <th>Proteinname</th>\n",
       "      <th>gene_name</th>\n",
       "      <th>uniprot_ac</th>\n",
       "      <th>auc</th>\n",
       "    </tr>\n",
       "  </thead>\n",
       "  <tbody>\n",
       "    <tr>\n",
       "      <th>0</th>\n",
       "      <td>H.sapiens_K562_cells_R1_P018450</td>\n",
       "      <td>A0AVT1_UBA6</td>\n",
       "      <td>48.219162</td>\n",
       "      <td>32</td>\n",
       "      <td>0.310087</td>\n",
       "      <td>0</td>\n",
       "      <td>UBA6</td>\n",
       "    </tr>\n",
       "    <tr>\n",
       "      <th>1</th>\n",
       "      <td>H.sapiens_K562_cells_R1_P018450</td>\n",
       "      <td>A0JNW5_UHRF1BP1L</td>\n",
       "      <td>56.600901</td>\n",
       "      <td>1</td>\n",
       "      <td>0.693706</td>\n",
       "      <td>0</td>\n",
       "      <td>UHRF1BP1L</td>\n",
       "    </tr>\n",
       "    <tr>\n",
       "      <th>2</th>\n",
       "      <td>H.sapiens_K562_cells_R1_P018450</td>\n",
       "      <td>A0JP02_PLEKHA5</td>\n",
       "      <td>47.273601</td>\n",
       "      <td>3</td>\n",
       "      <td>0.347233</td>\n",
       "      <td>0</td>\n",
       "      <td>PLEKHA5</td>\n",
       "    </tr>\n",
       "    <tr>\n",
       "      <th>3</th>\n",
       "      <td>H.sapiens_K562_cells_R1_P018450</td>\n",
       "      <td>A0MZ66_KIAA1598</td>\n",
       "      <td>48.091730</td>\n",
       "      <td>32</td>\n",
       "      <td>0.315433</td>\n",
       "      <td>0</td>\n",
       "      <td>KIAA1598</td>\n",
       "    </tr>\n",
       "    <tr>\n",
       "      <th>4</th>\n",
       "      <td>H.sapiens_K562_cells_R1_P018450</td>\n",
       "      <td>A0PJW6_TMEM223</td>\n",
       "      <td>50.548620</td>\n",
       "      <td>3</td>\n",
       "      <td>0.368622</td>\n",
       "      <td>0</td>\n",
       "      <td>TMEM223</td>\n",
       "    </tr>\n",
       "  </tbody>\n",
       "</table>\n",
       "</div>"
      ],
      "text/plain": [
       "                            Sample        Protein_ID  meltPoint Proteinname  \\\n",
       "0  H.sapiens_K562_cells_R1_P018450       A0AVT1_UBA6  48.219162          32   \n",
       "1  H.sapiens_K562_cells_R1_P018450  A0JNW5_UHRF1BP1L  56.600901           1   \n",
       "2  H.sapiens_K562_cells_R1_P018450    A0JP02_PLEKHA5  47.273601           3   \n",
       "3  H.sapiens_K562_cells_R1_P018450   A0MZ66_KIAA1598  48.091730          32   \n",
       "4  H.sapiens_K562_cells_R1_P018450    A0PJW6_TMEM223  50.548620           3   \n",
       "\n",
       "  gene_name uniprot_ac        auc  \n",
       "0  0.310087          0       UBA6  \n",
       "1  0.693706          0  UHRF1BP1L  \n",
       "2  0.347233          0    PLEKHA5  \n",
       "3  0.315433          0   KIAA1598  \n",
       "4  0.368622          0    TMEM223  "
      ]
     },
     "execution_count": 8,
     "metadata": {},
     "output_type": "execute_result"
    }
   ],
   "source": [
    "\n",
    "data_human = pd.concat(data.values(), axis = 0, ignore_index=True, join='inner')\n",
    "data_human.head()"
   ]
  },
  {
   "cell_type": "markdown",
   "metadata": {},
   "source": [
    "Identify healthy and desease cell lines"
   ]
  },
  {
   "cell_type": "code",
   "execution_count": 10,
   "metadata": {},
   "outputs": [
    {
     "name": "stdout",
     "output_type": "stream",
     "text": [
      "['H.sapiens_K562_cells_R1_P018450'\n",
      " 'human_body_fluids_blood_plasma_P014819' 'H.sapiens_hepatocytes_P013553'\n",
      " 'H.sapiens_A549_P013697' 'H.sapiens_K562_P013110'\n",
      " 'H.sapiens_K562_lysate_R2_P019785'\n",
      " 'H.sapiens_colon_cancer_spheroids_R2_P016046'\n",
      " 'human_body_fluids_saliva_P014425' 'human_body_fluids_CSF_P014820'\n",
      " 'H.sapiens_colon_cancer_spheroids_R1_P016043'\n",
      " 'H.sapiens_hepatocytes_P013558' 'H.sapiens_K562_lysate_R1_P019670'\n",
      " 'H.sapiens_hepatocytes_P013190' 'H.sapiens_A549_P013701'\n",
      " 'H.sapiens_HEK293_PP018221' 'H.sapiens_Jurkat_P015964'\n",
      " 'H.sapiens_K562_cells_R2_P018894'\n",
      " 'human_body_fluids_seminal_plasma_P014428' 'H.sapiens_K562_P013109'\n",
      " 'H.sapiens_Jurkat_P015963' 'human_body_fluids_breast_milk_P014818'\n",
      " 'H.sapiens_HEK293_PP018224' 'H.sapiens_hepatocytes_P013194']\n"
     ]
    },
    {
     "data": {
      "text/plain": [
       "'human_body_fluids_seminal_plasma_P014428'"
      ]
     },
     "execution_count": 10,
     "metadata": {},
     "output_type": "execute_result"
    }
   ],
   "source": [
    "print(data_human['Sample'].unique())\n",
    "\n",
    "'H.sapiens_A549_P013697' 'H.sapiens_A549_P013701'\n",
    "'H.sapiens_colon_cancer_spheroids_R1_P016043'\n",
    "'H.sapiens_colon_cancer_spheroids_R2_P016046' 'H.sapiens_HEK293_PP018221'\n",
    "'H.sapiens_HEK293_PP018224' 'H.sapiens_hepatocytes_P013190'\n",
    "'H.sapiens_hepatocytes_P013194' 'H.sapiens_hepatocytes_P013553'\n",
    "'H.sapiens_hepatocytes_P013558' 'H.sapiens_Jurkat_P015963'\n",
    "'H.sapiens_Jurkat_P015964' 'H.sapiens_K562_cells_R1_P018450'\n",
    "'H.sapiens_K562_cells_R2_P018894' 'H.sapiens_K562_lysate_R1_P019670'\n",
    "'H.sapiens_K562_lysate_R2_P019785' 'H.sapiens_K562_P013109'\n",
    "'H.sapiens_K562_P013110' 'H.sapiens_K562_P018889'\n",
    "'H.sapiens_K562_P018890' 'H.sapiens_lung_fibroblasts_P017092'\n",
    "'H.sapiens_lung_fibroblasts_P017095'\n",
    "'human_body_fluids_blood_plasma_P014819'\n",
    "'human_body_fluids_breast_milk_P014818' 'human_body_fluids_CSF_P014820'\n",
    "'human_body_fluids_saliva_P014425'\n",
    "'human_body_fluids_seminal_plasma_P014428'"
   ]
  }
 ],
 "metadata": {
  "kernelspec": {
   "display_name": "Python 3",
   "language": "python",
   "name": "python3"
  },
  "language_info": {
   "codemirror_mode": {
    "name": "ipython",
    "version": 3
   },
   "file_extension": ".py",
   "mimetype": "text/x-python",
   "name": "python",
   "nbconvert_exporter": "python",
   "pygments_lexer": "ipython3",
   "version": "3.12.3"
  }
 },
 "nbformat": 4,
 "nbformat_minor": 2
}
