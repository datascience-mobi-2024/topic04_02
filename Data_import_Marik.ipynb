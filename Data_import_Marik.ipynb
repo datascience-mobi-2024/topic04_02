{
 "cells": [
  {
   "cell_type": "code",
   "execution_count": 2,
   "metadata": {},
   "outputs": [],
   "source": [
    "# import packages\n",
    "import numpy as np\n",
    "import pandas as pd\n",
    "import os\n",
    "import seaborn as sns\n",
    "import matplotlib.pyplot as plt\n",
    "import Bio"
   ]
  },
  {
   "cell_type": "markdown",
   "metadata": {},
   "source": [
    "Import datasets and define variables"
   ]
  },
  {
   "cell_type": "code",
   "execution_count": 3,
   "metadata": {},
   "outputs": [],
   "source": [
    "# import data from computer\n",
    "path: str = './data/' #folder where files are stored\n",
    "species: pd.DataFrame = pd.read_csv(os.path.join(path, \"cross-species.csv\"), dtype=str)   # imports file from the folder as species, based on name\n",
    "identifiers: pd.DataFrame = pd.read_csv(os.path.join(path, \"identifiers.tsv\"), sep='\\t', dtype=str) # imports 3rd file from the folder, based on name\n",
    "\n",
    "#import fasta file with biopython (Bio)\n",
    "from Bio import SeqIO\n",
    "fasta_id = []\n",
    "fasta_seq = []\n",
    "with open(os.path.join(path, \"identifiers.fasta\"), 'r') as handle:\n",
    "    for record in SeqIO.parse(handle, \"fasta\"): \n",
    "        fasta_id.append(record.id) \n",
    "        fasta_seq.append(str(record.seq))\n",
    "# Create df prot_seq which includes proper ID and sequences\n",
    "fasta_id_df = pd.DataFrame([item.split('|') for item in fasta_id], columns=['0', 'From','ID']) # creates a df by splitting fasta_id list into 3 columns\n",
    "fasta_id_EntryName:list = fasta_id_df['ID'] # creates a list with the Entry Names from the split df\n",
    "prot_seq = pd.DataFrame(list(zip(fasta_id_EntryName, fasta_seq)), columns = [\"ID\", \"Sequence\"]) # creates a df by combining the Entry Names and the Sequences\n",
    "\n",
    "\n",
    "\n",
    "#Define datatype for each column\n",
    "species['fold_change'] = species['fold_change'].astype('float64') # changes fold_change column to float64\n",
    "species['temperature'] = species['temperature'].astype('float64') # changes temperature column to int64\n",
    "identifiers['Length'] = identifiers['Length'].astype('float64') # changes Length column to int64\n",
    "\n",
    "#Update index\n",
    "species = species.reset_index(drop=True) # resets index of species df\n",
    "identifiers = identifiers.reset_index(drop=True) # resets index of identifiers df\n",
    "\n",
    "\n"
   ]
  },
  {
   "cell_type": "markdown",
   "metadata": {},
   "source": [
    "Add protein sequence from protein_seq dataset to identifiers to create identifiers_seq, based on 'ID' and 'Entry Name' respectively\n",
    "\n",
    "Create joint data set from identifiers_seq and species_seq based on gene_name and Gene Names1 respectively"
   ]
  },
  {
   "cell_type": "code",
   "execution_count": 4,
   "metadata": {},
   "outputs": [],
   "source": [
    "# merge dataframes based on Entry Name (df.identifiers) andID (df.prot_seq), if they are similar add the sequence to identifiers, if not add NaN\n",
    "identifiers_seq = identifiers.merge(prot_seq, how='left', left_on='Entry Name', right_on='ID')[identifiers.columns.tolist() + ['Sequence']] # merges identifiers and prot_seq on Entry Name and ID\n",
    "identifiers_seq.head()\n",
    "\n",
    "#merge species and identifiers_seq based on gene_name and Gene Names1\n",
    "identifiers_seq[['Gene Names1', 'Gene Names2']] = identifiers_seq['Gene Names'].str.split(expand = True, n=1) # splits the Gene Names column into 2 columns\n",
    "species_seq = pd.merge(left = species, right = identifiers_seq, how='outer', left_on='gene_name', right_on='Gene Names1') # merges species and identifiers_seq on gene_name and Gene Names1\n",
    "#species_seq.head()"
   ]
  },
  {
   "cell_type": "markdown",
   "metadata": {},
   "source": [
    "Drop all entries from species dataset which don't have a sequence.\n",
    "Delete unnessesary columns ('Gene Names1', 'Gene Names2')"
   ]
  },
  {
   "cell_type": "code",
   "execution_count": 5,
   "metadata": {},
   "outputs": [],
   "source": [
    "species_seq.dropna(subset = ['Sequence'], inplace=True) # drops rows with NaN in the Sequence column\n",
    "\n",
    "for col in ['Gene Names1', 'Gene Names2']:\n",
    "    if col in species_seq.columns:\n",
    "        species_seq.drop(columns = ['Gene Names1', 'Gene Names2'], inplace=True) # drops Gene Names1 and Gene Names2 columns\n",
    "#species_seq.head()\n"
   ]
  },
  {
   "cell_type": "markdown",
   "metadata": {},
   "source": [
    "Extract list of unique run_names from species and manually seperate in prokaryotes and eukaryotes. Create split datasets for eukaryotes and prokaryotes based on species_seq"
   ]
  },
  {
   "cell_type": "code",
   "execution_count": 6,
   "metadata": {},
   "outputs": [
    {
     "name": "stdout",
     "output_type": "stream",
     "text": [
      "run_name                               object\n",
      "Protein_ID                             object\n",
      "gene_name                              object\n",
      "meltPoint                              object\n",
      "channel                                object\n",
      "fold_change                           float64\n",
      "temperature                           float64\n",
      "From                                   object\n",
      "Entry                                  object\n",
      "Reviewed                               object\n",
      "Entry Name                             object\n",
      "Protein names                          object\n",
      "Gene Names                             object\n",
      "Organism                               object\n",
      "Length                                float64\n",
      "Gene Ontology (biological process)     object\n",
      "Gene Ontology (cellular component)     object\n",
      "Gene Ontology (molecular function)     object\n",
      "Temperature dependence                 object\n",
      "Sequence                               object\n",
      "dtype: object\n"
     ]
    },
    {
     "data": {
      "text/html": [
       "<div>\n",
       "<style scoped>\n",
       "    .dataframe tbody tr th:only-of-type {\n",
       "        vertical-align: middle;\n",
       "    }\n",
       "\n",
       "    .dataframe tbody tr th {\n",
       "        vertical-align: top;\n",
       "    }\n",
       "\n",
       "    .dataframe thead th {\n",
       "        text-align: right;\n",
       "    }\n",
       "</style>\n",
       "<table border=\"1\" class=\"dataframe\">\n",
       "  <thead>\n",
       "    <tr style=\"text-align: right;\">\n",
       "      <th></th>\n",
       "      <th>run_name</th>\n",
       "      <th>Protein_ID</th>\n",
       "      <th>gene_name</th>\n",
       "      <th>meltPoint</th>\n",
       "      <th>channel</th>\n",
       "      <th>fold_change</th>\n",
       "      <th>temperature</th>\n",
       "      <th>From</th>\n",
       "      <th>Entry</th>\n",
       "      <th>Reviewed</th>\n",
       "      <th>Entry Name</th>\n",
       "      <th>Protein names</th>\n",
       "      <th>Gene Names</th>\n",
       "      <th>Organism</th>\n",
       "      <th>Length</th>\n",
       "      <th>Gene Ontology (biological process)</th>\n",
       "      <th>Gene Ontology (cellular component)</th>\n",
       "      <th>Gene Ontology (molecular function)</th>\n",
       "      <th>Temperature dependence</th>\n",
       "      <th>Sequence</th>\n",
       "    </tr>\n",
       "  </thead>\n",
       "  <tbody>\n",
       "    <tr>\n",
       "      <th>0</th>\n",
       "      <td>Thermus thermophilus HB27 lysate</td>\n",
       "      <td>Q9RA48_ORF</td>\n",
       "      <td>ORF</td>\n",
       "      <td>NaN</td>\n",
       "      <td>TMT126</td>\n",
       "      <td>1.000000</td>\n",
       "      <td>70.0</td>\n",
       "      <td>Q9RA48</td>\n",
       "      <td>Q9RA48</td>\n",
       "      <td>unreviewed</td>\n",
       "      <td>Q9RA48_THETH</td>\n",
       "      <td>Isochorismatase (ORF protein)</td>\n",
       "      <td>ORF TthHB5018_00480</td>\n",
       "      <td>Thermus thermophilus</td>\n",
       "      <td>196.0</td>\n",
       "      <td>NaN</td>\n",
       "      <td>NaN</td>\n",
       "      <td>hydrolase activity [GO:0016787]</td>\n",
       "      <td>NaN</td>\n",
       "      <td>MVQVPEIPKVETVELPAKETALIVVDMQNDFAHPKGALFVPDAPQS...</td>\n",
       "    </tr>\n",
       "    <tr>\n",
       "      <th>1</th>\n",
       "      <td>Thermus thermophilus HB27 cells</td>\n",
       "      <td>Q9RA48_ORF</td>\n",
       "      <td>ORF</td>\n",
       "      <td>NaN</td>\n",
       "      <td>TMT126</td>\n",
       "      <td>0.999896</td>\n",
       "      <td>70.0</td>\n",
       "      <td>Q9RA48</td>\n",
       "      <td>Q9RA48</td>\n",
       "      <td>unreviewed</td>\n",
       "      <td>Q9RA48_THETH</td>\n",
       "      <td>Isochorismatase (ORF protein)</td>\n",
       "      <td>ORF TthHB5018_00480</td>\n",
       "      <td>Thermus thermophilus</td>\n",
       "      <td>196.0</td>\n",
       "      <td>NaN</td>\n",
       "      <td>NaN</td>\n",
       "      <td>hydrolase activity [GO:0016787]</td>\n",
       "      <td>NaN</td>\n",
       "      <td>MVQVPEIPKVETVELPAKETALIVVDMQNDFAHPKGALFVPDAPQS...</td>\n",
       "    </tr>\n",
       "    <tr>\n",
       "      <th>2</th>\n",
       "      <td>Thermus thermophilus HB27 lysate</td>\n",
       "      <td>Q9RA48_ORF</td>\n",
       "      <td>ORF</td>\n",
       "      <td>NaN</td>\n",
       "      <td>TMT127H</td>\n",
       "      <td>0.918377</td>\n",
       "      <td>75.5</td>\n",
       "      <td>Q9RA48</td>\n",
       "      <td>Q9RA48</td>\n",
       "      <td>unreviewed</td>\n",
       "      <td>Q9RA48_THETH</td>\n",
       "      <td>Isochorismatase (ORF protein)</td>\n",
       "      <td>ORF TthHB5018_00480</td>\n",
       "      <td>Thermus thermophilus</td>\n",
       "      <td>196.0</td>\n",
       "      <td>NaN</td>\n",
       "      <td>NaN</td>\n",
       "      <td>hydrolase activity [GO:0016787]</td>\n",
       "      <td>NaN</td>\n",
       "      <td>MVQVPEIPKVETVELPAKETALIVVDMQNDFAHPKGALFVPDAPQS...</td>\n",
       "    </tr>\n",
       "    <tr>\n",
       "      <th>3</th>\n",
       "      <td>Thermus thermophilus HB27 cells</td>\n",
       "      <td>Q9RA48_ORF</td>\n",
       "      <td>ORF</td>\n",
       "      <td>NaN</td>\n",
       "      <td>TMT127H</td>\n",
       "      <td>0.695805</td>\n",
       "      <td>75.5</td>\n",
       "      <td>Q9RA48</td>\n",
       "      <td>Q9RA48</td>\n",
       "      <td>unreviewed</td>\n",
       "      <td>Q9RA48_THETH</td>\n",
       "      <td>Isochorismatase (ORF protein)</td>\n",
       "      <td>ORF TthHB5018_00480</td>\n",
       "      <td>Thermus thermophilus</td>\n",
       "      <td>196.0</td>\n",
       "      <td>NaN</td>\n",
       "      <td>NaN</td>\n",
       "      <td>hydrolase activity [GO:0016787]</td>\n",
       "      <td>NaN</td>\n",
       "      <td>MVQVPEIPKVETVELPAKETALIVVDMQNDFAHPKGALFVPDAPQS...</td>\n",
       "    </tr>\n",
       "    <tr>\n",
       "      <th>4</th>\n",
       "      <td>Thermus thermophilus HB27 lysate</td>\n",
       "      <td>Q9RA48_ORF</td>\n",
       "      <td>ORF</td>\n",
       "      <td>NaN</td>\n",
       "      <td>TMT127L</td>\n",
       "      <td>0.867960</td>\n",
       "      <td>72.6</td>\n",
       "      <td>Q9RA48</td>\n",
       "      <td>Q9RA48</td>\n",
       "      <td>unreviewed</td>\n",
       "      <td>Q9RA48_THETH</td>\n",
       "      <td>Isochorismatase (ORF protein)</td>\n",
       "      <td>ORF TthHB5018_00480</td>\n",
       "      <td>Thermus thermophilus</td>\n",
       "      <td>196.0</td>\n",
       "      <td>NaN</td>\n",
       "      <td>NaN</td>\n",
       "      <td>hydrolase activity [GO:0016787]</td>\n",
       "      <td>NaN</td>\n",
       "      <td>MVQVPEIPKVETVELPAKETALIVVDMQNDFAHPKGALFVPDAPQS...</td>\n",
       "    </tr>\n",
       "  </tbody>\n",
       "</table>\n",
       "</div>"
      ],
      "text/plain": [
       "                           run_name  Protein_ID gene_name meltPoint  channel  \\\n",
       "0  Thermus thermophilus HB27 lysate  Q9RA48_ORF       ORF       NaN   TMT126   \n",
       "1   Thermus thermophilus HB27 cells  Q9RA48_ORF       ORF       NaN   TMT126   \n",
       "2  Thermus thermophilus HB27 lysate  Q9RA48_ORF       ORF       NaN  TMT127H   \n",
       "3   Thermus thermophilus HB27 cells  Q9RA48_ORF       ORF       NaN  TMT127H   \n",
       "4  Thermus thermophilus HB27 lysate  Q9RA48_ORF       ORF       NaN  TMT127L   \n",
       "\n",
       "   fold_change  temperature    From   Entry    Reviewed    Entry Name  \\\n",
       "0     1.000000         70.0  Q9RA48  Q9RA48  unreviewed  Q9RA48_THETH   \n",
       "1     0.999896         70.0  Q9RA48  Q9RA48  unreviewed  Q9RA48_THETH   \n",
       "2     0.918377         75.5  Q9RA48  Q9RA48  unreviewed  Q9RA48_THETH   \n",
       "3     0.695805         75.5  Q9RA48  Q9RA48  unreviewed  Q9RA48_THETH   \n",
       "4     0.867960         72.6  Q9RA48  Q9RA48  unreviewed  Q9RA48_THETH   \n",
       "\n",
       "                   Protein names           Gene Names              Organism  \\\n",
       "0  Isochorismatase (ORF protein)  ORF TthHB5018_00480  Thermus thermophilus   \n",
       "1  Isochorismatase (ORF protein)  ORF TthHB5018_00480  Thermus thermophilus   \n",
       "2  Isochorismatase (ORF protein)  ORF TthHB5018_00480  Thermus thermophilus   \n",
       "3  Isochorismatase (ORF protein)  ORF TthHB5018_00480  Thermus thermophilus   \n",
       "4  Isochorismatase (ORF protein)  ORF TthHB5018_00480  Thermus thermophilus   \n",
       "\n",
       "   Length Gene Ontology (biological process)  \\\n",
       "0   196.0                                NaN   \n",
       "1   196.0                                NaN   \n",
       "2   196.0                                NaN   \n",
       "3   196.0                                NaN   \n",
       "4   196.0                                NaN   \n",
       "\n",
       "  Gene Ontology (cellular component) Gene Ontology (molecular function)  \\\n",
       "0                                NaN    hydrolase activity [GO:0016787]   \n",
       "1                                NaN    hydrolase activity [GO:0016787]   \n",
       "2                                NaN    hydrolase activity [GO:0016787]   \n",
       "3                                NaN    hydrolase activity [GO:0016787]   \n",
       "4                                NaN    hydrolase activity [GO:0016787]   \n",
       "\n",
       "  Temperature dependence                                           Sequence  \n",
       "0                    NaN  MVQVPEIPKVETVELPAKETALIVVDMQNDFAHPKGALFVPDAPQS...  \n",
       "1                    NaN  MVQVPEIPKVETVELPAKETALIVVDMQNDFAHPKGALFVPDAPQS...  \n",
       "2                    NaN  MVQVPEIPKVETVELPAKETALIVVDMQNDFAHPKGALFVPDAPQS...  \n",
       "3                    NaN  MVQVPEIPKVETVELPAKETALIVVDMQNDFAHPKGALFVPDAPQS...  \n",
       "4                    NaN  MVQVPEIPKVETVELPAKETALIVVDMQNDFAHPKGALFVPDAPQS...  "
      ]
     },
     "execution_count": 6,
     "metadata": {},
     "output_type": "execute_result"
    }
   ],
   "source": [
    "# Get a list of unique entries in the 'run_name' column\n",
    "#print(species['run_name'].unique())\n",
    "\n",
    "# Based on uniqe run names all entries split into eukaryotes and prokaryotes (manually)\n",
    "eukaryotes = ('Saccharomyces cerevisiae lysate', 'Arabidopsis thaliana seedling lysate',\n",
    " 'Mus musculus liver lysate', 'Drosophila melanogaster SII lysate',\n",
    " 'Caenorhabditis elegans lysate', 'Danio rerio Zenodo lysate',\n",
    " 'Mus musculus BMDC lysate', 'Oleispira antarctica_RB-8_lysate_R1',\n",
    " 'Homo sapiens Jurkat cells', 'Homo sapiens K562 cells')\n",
    "prokaryotes:list = ['Bacillus subtilis_168_lysate_R1', 'Escherichia coli lysate',\n",
    " 'Geobacillus stearothermophilus NCA26 lysate',\n",
    " 'Thermus thermophilus HB27 lysate', 'Thermus thermophilus HB27 cells',\n",
    " 'Escherichia coli cells', 'Picrophilus torridus DSM9790 lysate']\n",
    "\n",
    "#creates new dataframes that only contain prokaryotes or eukaryotes based\n",
    "species_eukaryotes = species_seq[species_seq['run_name'].isin(eukaryotes)]\n",
    "species_prokaryotes = species_seq[species_seq['run_name'].isin(prokaryotes)]\n",
    "\n",
    "print(species_prokaryotes.dtypes)\n",
    "\n",
    "\n",
    "##reset index\n",
    "species_prokaryotes = species_prokaryotes.reset_index(drop=True) # resets index of species df\n",
    "species_eukaryotes = species_eukaryotes.reset_index(drop=True) # resets index of identifiers df\n",
    "species_prokaryotes.head()\n",
    "\n",
    "\n"
   ]
  },
  {
   "cell_type": "markdown",
   "metadata": {},
   "source": [
    "Create a list of each unique protein for each prokaryotic organism"
   ]
  },
  {
   "cell_type": "code",
   "execution_count": 29,
   "metadata": {},
   "outputs": [
    {
     "data": {
      "text/plain": [
       "\" for n in range len(species_prokaryotes):\\n    name = species_prokaryotes.loc[n, 'run_name'] + '_' + species_prokaryotes.loc[n, 'Protein_ID']      #combine entry from 'run_name' and 'Protein_ID', seperated by '_' \\n    if name = \\nprokaryotes_unique = species_prokaryotes[species_prokaryotes.index.] #create new dataframe with only unique proteins \""
      ]
     },
     "execution_count": 29,
     "metadata": {},
     "output_type": "execute_result"
    }
   ],
   "source": [
    "##ERROR: dataframe generation not working, unique_index contains every number\n",
    "prokaryotes_unique = species_prokaryotes.drop_duplicates(subset=['run_name', 'Protein_ID'], keep='first') #create new dataframe with only unique proteins"
   ]
  },
  {
   "cell_type": "code",
   "execution_count": 32,
   "metadata": {},
   "outputs": [
    {
     "name": "stdout",
     "output_type": "stream",
     "text": [
      "10741\n",
      "203200\n"
     ]
    }
   ],
   "source": [
    "print(len(prokaryotes_unique))\n",
    "print(len(species_prokaryotes))\n"
   ]
  },
  {
   "cell_type": "markdown",
   "metadata": {},
   "source": [
    "Excract ecoli cells only to test some graphs."
   ]
  },
  {
   "cell_type": "code",
   "execution_count": 9,
   "metadata": {},
   "outputs": [
    {
     "name": "stderr",
     "output_type": "stream",
     "text": [
      "C:\\Users\\marik\\AppData\\Local\\Temp\\ipykernel_16908\\3267296142.py:5: SettingWithCopyWarning: \n",
      "A value is trying to be set on a copy of a slice from a DataFrame.\n",
      "Try using .loc[row_indexer,col_indexer] = value instead\n",
      "\n",
      "See the caveats in the documentation: https://pandas.pydata.org/pandas-docs/stable/user_guide/indexing.html#returning-a-view-versus-a-copy\n",
      "  species_Ecoli_cells['fold_change'] = species_Ecoli_cells['fold_change'].astype('float64') # changes fold_change column to float64\n",
      "C:\\Users\\marik\\AppData\\Local\\Temp\\ipykernel_16908\\3267296142.py:6: SettingWithCopyWarning: \n",
      "A value is trying to be set on a copy of a slice from a DataFrame.\n",
      "Try using .loc[row_indexer,col_indexer] = value instead\n",
      "\n",
      "See the caveats in the documentation: https://pandas.pydata.org/pandas-docs/stable/user_guide/indexing.html#returning-a-view-versus-a-copy\n",
      "  species_Ecoli_cells['temperature'] = species_Ecoli_cells['temperature'].astype('float64') # changes temperature column to int64\n",
      "C:\\Users\\marik\\AppData\\Local\\Temp\\ipykernel_16908\\3267296142.py:7: SettingWithCopyWarning: \n",
      "A value is trying to be set on a copy of a slice from a DataFrame.\n",
      "Try using .loc[row_indexer,col_indexer] = value instead\n",
      "\n",
      "See the caveats in the documentation: https://pandas.pydata.org/pandas-docs/stable/user_guide/indexing.html#returning-a-view-versus-a-copy\n",
      "  species_Ecoli_cells['Length'] = species_Ecoli_cells['Length'].astype('float64') # changes Length column to int64\n"
     ]
    },
    {
     "data": {
      "image/png": "[encoded data removed]",
      "text/plain": [
       "<Figure size 640x480 with 1 Axes>"
      ]
     },
     "metadata": {},
     "output_type": "display_data"
    },
    {
     "name": "stdout",
     "output_type": "stream",
     "text": [
      "run_name                               object\n",
      "Protein_ID                             object\n",
      "gene_name                              object\n",
      "meltPoint                              object\n",
      "channel                                object\n",
      "fold_change                           float64\n",
      "temperature                           float64\n",
      "From                                   object\n",
      "Entry                                  object\n",
      "Reviewed                               object\n",
      "Entry Name                             object\n",
      "Protein names                          object\n",
      "Gene Names                             object\n",
      "Organism                               object\n",
      "Length                                float64\n",
      "Gene Ontology (biological process)     object\n",
      "Gene Ontology (cellular component)     object\n",
      "Gene Ontology (molecular function)     object\n",
      "Temperature dependence                 object\n",
      "Sequence                               object\n",
      "dtype: object\n"
     ]
    }
   ],
   "source": [
    "species_Ecoli_cells = species_prokaryotes[species_prokaryotes['run_name'].isin(['Escherichia coli cells'])]\n",
    "species_Ecoli_cells.head()\n",
    "\n",
    "#reassign floats to values bcs they change after extracting e.coli (why???)\n",
    "species_Ecoli_cells['fold_change'] = species_Ecoli_cells['fold_change'].astype('float64') # changes fold_change column to float64\n",
    "species_Ecoli_cells['temperature'] = species_Ecoli_cells['temperature'].astype('float64') # changes temperature column to int64\n",
    "species_Ecoli_cells['Length'] = species_Ecoli_cells['Length'].astype('float64') # changes Length column to int64\n",
    "\n",
    "species_Ecoli_cells_lacZ = species_Ecoli_cells[species_Ecoli_cells['gene_name'].isin(['lacZ'])]\n",
    "species_Ecoli_cells_rpmF=species_Ecoli_cells[species_Ecoli_cells['gene_name'].isin(['rpmF'])]\n",
    "sns.scatterplot(data=species_Ecoli_cells_lacZ, x='temperature', y='fold_change')\n",
    "plt.show()\n",
    "print(species_Ecoli_cells_lacZ.dtypes)\n"
   ]
  },
  {
   "cell_type": "code",
   "execution_count": 10,
   "metadata": {},
   "outputs": [
    {
     "name": "stdout",
     "output_type": "stream",
     "text": [
      "run_name                               object\n",
      "Protein_ID                             object\n",
      "gene_name                              object\n",
      "meltPoint                              object\n",
      "channel                                object\n",
      "fold_change                           float64\n",
      "temperature                           float64\n",
      "From                                   object\n",
      "Entry                                  object\n",
      "Reviewed                               object\n",
      "Entry Name                             object\n",
      "Protein names                          object\n",
      "Gene Names                             object\n",
      "Organism                               object\n",
      "Length                                float64\n",
      "Gene Ontology (biological process)     object\n",
      "Gene Ontology (cellular component)     object\n",
      "Gene Ontology (molecular function)     object\n",
      "Temperature dependence                 object\n",
      "Sequence                               object\n",
      "dtype: object\n"
     ]
    }
   ],
   "source": [
    "print(species_Ecoli_cells.dtypes)"
   ]
  },
  {
   "cell_type": "code",
   "execution_count": 11,
   "metadata": {},
   "outputs": [],
   "source": [
    "\n",
    "## aminoacid composition\n",
    "AA_hydrophobic:list = ['A', 'V', 'I', 'L', 'M', 'F', 'T', 'Y', 'W', ]\n",
    "AA_polar_neutral:list = ['N', 'C', 'Q', 'S', 'T']\n",
    "AA_acidic:list = ['D', 'E']\n",
    "AA_basic:list = ['R', 'H', 'K']\n"
   ]
  }
 ],
 "metadata": {
  "kernelspec": {
   "display_name": "Python 3",
   "language": "python",
   "name": "python3"
  },
  "language_info": {
   "codemirror_mode": {
    "name": "ipython",
    "version": 3
   },
   "file_extension": ".py",
   "mimetype": "text/x-python",
   "name": "python",
   "nbconvert_exporter": "python",
   "pygments_lexer": "ipython3",
   "version": "3.12.3"
  }
 },
 "nbformat": 4,
 "nbformat_minor": 2
}
