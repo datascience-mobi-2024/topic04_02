{
 "cells": [
  {
   "cell_type": "markdown",
   "metadata": {},
   "source": []
  },
  {
   "cell_type": "markdown",
   "metadata": {},
   "source": [
    "Heatmap\n",
    "--> Gene Ontology clustering mit (mean) Differenz der (mean) Melting temperature der Gruppe zu Growth temperature\n",
    "\n",
    "--> mit differenz der mean melting points zu maximum growth temperature pro organismus (x = organismen; y= melting point)"
   ]
  }
 ],
 "metadata": {
  "language_info": {
   "name": "python"
  }
 },
 "nbformat": 4,
 "nbformat_minor": 2
}
