{
 "cells": [
  {
   "cell_type": "code",
   "execution_count": 22,
   "metadata": {},
   "outputs": [],
   "source": [
    "import numpy as np\n",
    "import pandas as pd\n",
    "import os\n",
    "import seaborn as sns\n",
    "import matplotlib.pyplot as plt\n",
    "import statsmodels.api as sm\n",
    "import re\n",
    "import pandas as pd\n",
    "import numpy as np"
   ]
  },
  {
   "cell_type": "code",
   "execution_count": 5,
   "metadata": {},
   "outputs": [
    {
     "name": "stderr",
     "output_type": "stream",
     "text": [
      "C:\\Users\\tobia\\AppData\\Local\\Temp\\ipykernel_22016\\4068669164.py:2: DtypeWarning: Columns (6,19,20,21,23,24,25,26) have mixed types. Specify dtype option on import or set low_memory=False.\n",
      "  prokaryotescrystal = pd.read_csv('./data/prokaryotes_348columns.csv').dropna(subset=['Helix','Beta strand'],thresh=1).reset_index(drop=True)\n"
     ]
    }
   ],
   "source": [
    "# Subset of dataframe that only contains proteins with crystal structure\n",
    "prokaryotescrystal = pd.read_csv('./data/prokaryotes_348columns.csv').dropna(subset=['Helix','Beta strand'],thresh=1).reset_index(drop=True)"
   ]
  },
  {
   "cell_type": "markdown",
   "metadata": {},
   "source": [
    "Create new data frame to compare Crystal structure with S4pred predicted alpha helix count"
   ]
  },
  {
   "cell_type": "code",
   "execution_count": 2,
   "metadata": {},
   "outputs": [
    {
     "ename": "NameError",
     "evalue": "name 'pd' is not defined",
     "output_type": "error",
     "traceback": [
      "\u001b[1;31m---------------------------------------------------------------------------\u001b[0m",
      "\u001b[1;31mNameError\u001b[0m                                 Traceback (most recent call last)",
      "Cell \u001b[1;32mIn[2], line 1\u001b[0m\n\u001b[1;32m----> 1\u001b[0m compare \u001b[38;5;241m=\u001b[39m \u001b[43mpd\u001b[49m\u001b[38;5;241m.\u001b[39mDataFrame()\n\u001b[0;32m      2\u001b[0m compare[\u001b[38;5;124m'\u001b[39m\u001b[38;5;124mCrystalhelixcount\u001b[39m\u001b[38;5;124m'\u001b[39m] \u001b[38;5;241m=\u001b[39m prokaryotescrystal[\u001b[38;5;124m'\u001b[39m\u001b[38;5;124mHelix1count\u001b[39m\u001b[38;5;124m'\u001b[39m]\u001b[38;5;241m.\u001b[39mastype(\u001b[38;5;28mfloat\u001b[39m)\n\u001b[0;32m      3\u001b[0m compare[\u001b[38;5;124m'\u001b[39m\u001b[38;5;124mS4predhelixcount\u001b[39m\u001b[38;5;124m'\u001b[39m] \u001b[38;5;241m=\u001b[39m prokaryotescrystal[\u001b[38;5;124m'\u001b[39m\u001b[38;5;124mHelix2count\u001b[39m\u001b[38;5;124m'\u001b[39m]\u001b[38;5;241m.\u001b[39mastype(\u001b[38;5;28mfloat\u001b[39m)\n",
      "\u001b[1;31mNameError\u001b[0m: name 'pd' is not defined"
     ]
    }
   ],
   "source": [
    "compare = pd.DataFrame()\n",
    "compare['Crystalhelixcount'] = prokaryotescrystal['Helix1count'].astype(float)\n",
    "compare['S4predhelixcount'] = prokaryotescrystal['Helix2count'].astype(float)\n",
    "compare['Crystalsheetcount'] = prokaryotescrystal['Sheet1count'].astype(float)\n",
    "compare['S4predsheetcount'] = prokaryotescrystal['Sheet2count'].astype(float)\n",
    "compare['diffS4helixcount'] = compare.apply(lambda x: abs((x['S4predhelixcount']-x['Crystalhelixcount'])/x['Crystalhelixcount']) if x['Crystalhelixcount'] != 0 and x['S4predhelixcount'] else np.nan, axis=1)\n",
    "S4errorhelix = np.nanmean(np.array(compare['diffS4helixcount']))\n",
    "print(f'Error for predicted number of helices: {S4errorhelix}')\n",
    "compare['diffS4sheetcount'] = compare.apply(lambda x: abs((x['S4predsheetcount']-x['Crystalsheetcount'])/x['Crystalsheetcount']) if x['Crystalsheetcount'] != 0 and x['S4predsheetcount'] else np.nan, axis=1)\n",
    "S4errorsheet = np.nanmean(np.array(compare['diffS4sheetcount']))\n",
    "print(f'Error for predicted number of beta sheets: {S4errorsheet}')\n",
    "print(f'Mean of helix count and sheet count error:{np.mean([S4errorhelix,S4errorsheet])}')\n",
    "# error for percentage of amino acids in helices and beta sheets\n",
    "compare['Crystalhelixperc'] = prokaryotescrystal['Helix1perc'].astype(float)\n",
    "compare['S4predhelixperc'] = prokaryotescrystal['Helix2perc'].astype(float)\n",
    "compare['Crystalsheetperc'] = prokaryotescrystal['Sheet1perc'].astype(float)\n",
    "compare['S4predsheetperc'] = prokaryotescrystal['Sheet2perc'].astype(float)\n",
    "compare['diffs4helixperc'] = compare.apply(lambda x: abs((x['S4predhelixperc']-x['Crystalhelixperc'])/x['Crystalhelixperc']) if x['Crystalhelixperc'] != 0 and x['S4predhelixperc'] else np.nan, axis=1)\n",
    "S4errorhelix = np.nanmean(np.array(compare['diffS4helixperc']))\n",
    "print(f'Error for predicted perc of helices: {S4errorhelix}')\n",
    "compare['diffS4sheetperc'] = compare.apply(lambda x: abs((x['S4predsheetperc']-x['Crystalsheetperc'])/x['Crystalsheetperc']) if x['Crystalsheetperc'] != 0 and x['S4predsheetperc'] else np.nan, axis=1)\n",
    "S4errorsheet = np.nanmean(np.array(compare['diffS4sheetperc']))\n",
    "print(f'Error for predicted perc of beta sheets: {S4errorsheet}')\n",
    "print(f'Mean of helix perc and sheet perc error:{np.mean([S4errorhelix,S4errorsheet])}')"
   ]
  }
 ],
 "metadata": {
  "kernelspec": {
   "display_name": "Python 3",
   "language": "python",
   "name": "python3"
  },
  "language_info": {
   "codemirror_mode": {
    "name": "ipython",
    "version": 3
   },
   "file_extension": ".py",
   "mimetype": "text/x-python",
   "name": "python",
   "nbconvert_exporter": "python",
   "pygments_lexer": "ipython3",
   "version": "3.12.4"
  }
 },
 "nbformat": 4,
 "nbformat_minor": 2
}
