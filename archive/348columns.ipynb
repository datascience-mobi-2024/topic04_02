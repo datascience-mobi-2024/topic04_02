{
 "cells": [
  {
   "cell_type": "code",
   "execution_count": 1,
   "metadata": {},
   "outputs": [],
   "source": [
    "import numpy as np\n",
    "import pandas as pd\n",
    "import os\n",
    "import seaborn as sns\n",
    "import matplotlib.pyplot as plt\n",
    "import statsmodels.api as sm\n",
    "import re"
   ]
  },
  {
   "cell_type": "code",
   "execution_count": null,
   "metadata": {},
   "outputs": [],
   "source": [
    "#Data preprocessing including meltPoint and addition of Sheet amino acid percentages and fix of helix amino acid percentages because S4pred counts from 1, python from 0\n",
    "while os.path.basename(os.getcwd()) != 'topic04_02':\n",
    "    os.chdir('..')\n",
    "    print(os.getcwd())\n",
    "path = './data'\n",
    "prokaryotes = pd.read_csv(os.path.join(path, \"prokaryotes_323columns.csv\"))\n",
    "droplist = [0,1,2,3,4,5,6,7,8,10,11,12,14,15,16,17,18,19,20,21,22,23,24,25,26,27,28,29,30,31,33,38,43,-1,-2,-3,-4,-5,-6,-12,-13,-14,-15,-16,-17,-18,-19,20,-21,-22,-23,-24]\n",
    "col = prokaryotes.columns\n",
    "Sheetind = pd.Series(np.zeros(prokaryotes.shape[0]))\n",
    "Sheetind = prokaryotes['Sheet2'].apply(lambda x: list(map(int, re.findall(r'\\d+', x) )) if type(x) == str else x)\n",
    "Sheetseq = pd.Series(np.zeros(prokaryotes.shape[0]))\n",
    "for n in range(len(Sheetseq)):\n",
    "    Sheetseq[n] = np.array(list(prokaryotes.loc[n,'Sequence']))[Sheetind[n]]\n",
    "prokaryotes = prokaryotes.drop(columns = ['helixind','helixseq'])\n",
    "aacid = ['A', 'V', 'L', 'I', 'P', 'F', 'W', 'M', 'G', 'S', 'C', 'T', 'Y', 'N', 'Q', 'D', 'E', 'K', 'R', 'H']\n",
    "for a in aacid:\n",
    "    prokaryotes.drop(columns = f'{a}helix', inplace = True)\n",
    "helixind = pd.Series(np.zeros(prokaryotes.shape[0]))\n",
    "helixind = prokaryotes['Helix2'].apply(lambda x: np.array(list(map(int, re.findall(r'\\d+', x) ))) -1 if type(x) == str else x)\n",
    "for n in range(len(helixind)):\n",
    "    if len(helixind[n]) != 0:\n",
    "        prokaryotes.at[n,'helixseq'] = np.array(list(prokaryotes.loc[n,'Sequence']))[helixind[n]]\n",
    "for a in aacid:\n",
    "    prokaryotes[f'{a}helix'] = prokaryotes['helixseq'].apply(lambda x: list(x).count(a)/len(x) if type(x) == np.ndarray and np.ndim(x)!=0 else np.nan)\n",
    "Sheetind = pd.Series(np.zeros(prokaryotes.shape[0]))\n",
    "Sheetind = prokaryotes['Sheet2'].apply(lambda x: np.array(list(map(int, re.findall(r'\\d+', x) ))) -1 if type(x) == str else x)\n",
    "for n in range(len(Sheetseq)):\n",
    "    if len(Sheetind[n])!=0:\n",
    "        prokaryotes.at[n,'sheetseq'] = np.array(list(prokaryotes.loc[n,'Sequence']))[Sheetind[n]]\n",
    "for a in aacid:\n",
    "    prokaryotes[f'{a}sheet'] = prokaryotes['sheetseq'].apply(lambda x: list(x).count(a)/len(x) if type(x) == np.ndarray and np.ndim(x)!=0  and len(x) != 0 else np.nan)\n",
    "if 'Unnamed: 0' in prokaryotes.columns:\n",
    "    prokaryotes.drop(columns = ['Unnamed: 0.1','Unnamed: 0'], inplace = True)\n",
    "prokaryotes.to_csv(os.path.join(path, \"prokaryotes_348columns.csv\"), index = False)"
   ]
  }
 ],
 "metadata": {
  "kernelspec": {
   "display_name": "Python 3",
   "language": "python",
   "name": "python3"
  },
  "language_info": {
   "codemirror_mode": {
    "name": "ipython",
    "version": 3
   },
   "file_extension": ".py",
   "mimetype": "text/x-python",
   "name": "python",
   "nbconvert_exporter": "python",
   "pygments_lexer": "ipython3",
   "version": "3.12.4"
  }
 },
 "nbformat": 4,
 "nbformat_minor": 2
}
