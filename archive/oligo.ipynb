{
 "cells": [
  {
   "cell_type": "code",
   "execution_count": 72,
   "metadata": {},
   "outputs": [],
   "source": [
    "import numpy as np\n",
    "import pandas as pd\n",
    "import os\n",
    "import ast\n",
    "import timeit"
   ]
  },
  {
   "cell_type": "code",
   "execution_count": 73,
   "metadata": {},
   "outputs": [],
   "source": [
    "path: str = './data/'\n",
    "prokaryotes: pd.DataFrame = pd.read_csv(os.path.join(path, \"prokaryotes_sec_structure.csv\"))\n",
    "prokaryotes = prokaryotes[prokaryotes['run_name'].str.contains('lysate', case=True)].dropna(subset=['meltPoint'])\n",
    "secs = ['Helix1','Turn1','Sheet1','Helix2','Sheet2']\n",
    "if isinstance(prokaryotes.iloc[0,28],str):\n",
    "    for s in secs:\n",
    "        prokaryotes[s] = prokaryotes[s].apply(lambda x: ast.literal_eval(x) if pd.isnull(x)==False else x)\n",
    "prokaryotes.reset_index(drop=True, inplace=True)"
   ]
  },
  {
   "cell_type": "code",
   "execution_count": 74,
   "metadata": {},
   "outputs": [],
   "source": [
    "def oligo_motif(data, oligolength):\n",
    "    from function import p_val\n",
    "    blacklist = np.array([])\n",
    "    for n in range(len(data)-oligolength-1):    # 4 ersetzen mit oligolänge input -1\n",
    "        oligo = data[n:n+oligolength]           # 5 ersetzen mit oligolänge input\n",
    "        if oligo not in blacklist:\n",
    "            np.append(blacklist,oligo)\n",
    "            oligocorr = prokaryotes['Sequence'].apply(lambda x: x.count(oligo)).corr(prokaryotes['meltPoint'])\n",
    "            if oligocorr > 0.3 and p_val(oligocorr, prokaryotes['Sequence'].apply(lambda x: x.count(oligo)).sum(), 0.05)[1] == True:\n",
    "                prokaryotes[f'{oligo}motif'] = prokaryotes['Sequence'].apply(lambda x: x.count(oligo))  # prokaryotes ersetzen mit input df, 'Sequence' ersetzen mit input Sequence column\n",
    "                prokaryotes[f'{oligo}motif'] = np.array(prokaryotes[f'{oligo}motif'])/np.array(prokaryotes['Length'])   # Length ersetzen mit input Length column"
   ]
  },
  {
   "cell_type": "code",
   "execution_count": 75,
   "metadata": {},
   "outputs": [],
   "source": [
    "def oligo_motifsub(prot, oligolength,blacklist):\n",
    "    from function import p_val\n",
    "    for n in range(len(prot)-oligolength-1):    \n",
    "        oligo = prot[n:n+oligolength]          \n",
    "        if oligo not in blacklist:\n",
    "            np.append(blacklist,oligo)\n",
    "            oligocorr = prokaryotes['Sequence'].apply(lambda x: x.count(oligo)).corr(prokaryotes['meltPoint'])\n",
    "            if oligocorr > 0.2 and p_val(oligocorr, prokaryotes['Sequence'].apply(lambda x: x.count(oligo)).sum(), 0.05)[1] == True:\n",
    "                prokaryotes[f'{oligo}motif'] = prokaryotes['Sequence'].apply(lambda x: x.count(oligo))  \n",
    "                prokaryotes[f'{oligo}motif'] = np.array(prokaryotes[f'{oligo}motif'])/np.array(prokaryotes['Length'])"
   ]
  },
  {
   "cell_type": "code",
   "execution_count": 76,
   "metadata": {},
   "outputs": [],
   "source": [
    "def oligo_motif(data, oligolength):\n",
    "    blacklist = np.array([])\n",
    "    prokaryotes['Sequence'].apply(lambda x: oligo_motifsub(x,oligolength,blacklist))"
   ]
  },
  {
   "cell_type": "markdown",
   "metadata": {},
   "source": [
    "prokaryotes['Testoligo'] = prokaryotes['Sequence'].apply(lambda x: x.count('TAT'))\n",
    "prokaryotes['Testoligo'].sum()"
   ]
  },
  {
   "cell_type": "markdown",
   "metadata": {},
   "source": [
    "testoligo = 'TAT'\n",
    "prokaryotes['Sequence'].apply(lambda x: x.count(testoligo)).corr(prokaryotes['meltPoint'])"
   ]
  },
  {
   "cell_type": "code",
   "execution_count": 77,
   "metadata": {},
   "outputs": [],
   "source": [
    "testdf = prokaryotes.loc[0:99,:].reset_index(drop=True)"
   ]
  },
  {
   "cell_type": "code",
   "execution_count": 78,
   "metadata": {},
   "outputs": [
    {
     "data": {
      "text/plain": [
       "\"df = prokaryotes\\noligolength = 4\\nfrom function import p_val\\nbl = []\\nfor n in range(len(df)):\\n    print(n)\\n    for a in range(len(df.loc[n,'Sequence'])-oligolength-1):\\n        oligo = df.loc[n,'Sequence'][a:a+oligolength]\\n        if oligo not in bl:\\n            bl.append(oligo)\\n            oligocorr = df['Sequence'].apply(lambda x: x.count(oligo)).corr(df['meltPoint'])\\n            oligocountsum = df['Sequence'].apply(lambda x: x.count(oligo)).sum()\\n            if oligocorr > 0.2 and oligocountsum > 20 and p_val(oligocorr, len(df), 0.05)[1] == True:\\n                df[f'{oligo}motif'] = df['Sequence'].apply(lambda x: x.count(oligo))  \\n                #df[f'{oligo}motif'] = np.array(testdf[f'{oligo}motif'])/np.array(df['Length'])\""
      ]
     },
     "execution_count": 78,
     "metadata": {},
     "output_type": "execute_result"
    }
   ],
   "source": [
    "'''df = prokaryotes\n",
    "oligolength = 4\n",
    "from function import p_val\n",
    "bl = []\n",
    "for n in range(len(df)):\n",
    "    print(n)\n",
    "    for a in range(len(df.loc[n,'Sequence'])-oligolength-1):\n",
    "        oligo = df.loc[n,'Sequence'][a:a+oligolength]\n",
    "        if oligo not in bl:\n",
    "            bl.append(oligo)\n",
    "            oligocorr = df['Sequence'].apply(lambda x: x.count(oligo)).corr(df['meltPoint'])\n",
    "            oligocountsum = df['Sequence'].apply(lambda x: x.count(oligo)).sum()\n",
    "            if oligocorr > 0.2 and oligocountsum > 20 and p_val(oligocorr, len(df), 0.05)[1] == True:\n",
    "                df[f'{oligo}motif'] = df['Sequence'].apply(lambda x: x.count(oligo))  \n",
    "                #df[f'{oligo}motif'] = np.array(testdf[f'{oligo}motif'])/np.array(df['Length'])'''"
   ]
  },
  {
   "cell_type": "code",
   "execution_count": 86,
   "metadata": {},
   "outputs": [],
   "source": [
    "import pandas as pd\n",
    "from function import p_val\n",
    "oligolength = 4       #lengths of oligos to test, found for 3,4\n",
    "\n",
    "sequences = prokaryotes['Sequence']\n",
    "meltPoints = prokaryotes['meltPoint']\n",
    "\n",
    "oligo_counts = {}\n",
    "\n",
    "for seq in sequences:                               # Count oligos in sequences and assign count to dictionary\n",
    "    for i in range(len(seq) - oligolength + 1):\n",
    "        oligo = seq[i:i + oligolength]\n",
    "        if oligo in oligo_counts:\n",
    "            oligo_counts[oligo] += 1\n",
    "        else:\n",
    "            oligo_counts[oligo] = 1\n",
    "\n",
    "filtered_oligos = {oligo: count for oligo, count in oligo_counts.items() if count > 20} # Filter oligos with count > 20\n",
    "\n",
    "for oligo in filtered_oligos.keys():\n",
    "    oligo_series = sequences.apply(lambda x: x.count(oligo))\n",
    "    oligocorr = oligo_series.corr(meltPoints)\n",
    "    if abs(oligocorr) > 0.2 and p_val(oligocorr, len(prokaryotes), 0.05)[1] == True:     #Filter only oligos with correlation > 0.2 and p-value < 0.05\n",
    "        prokaryotes[f'{oligo}motif'] = oligo_series\n",
    "\n"
   ]
  },
  {
   "cell_type": "code",
   "execution_count": 80,
   "metadata": {},
   "outputs": [],
   "source": [
    "arr = np.array([])\n",
    "np.append(arr,'AAA')\n",
    "if 'AAA' in arr:\n",
    "    print('Y')"
   ]
  },
  {
   "cell_type": "code",
   "execution_count": 81,
   "metadata": {},
   "outputs": [],
   "source": [
    "correl = prokaryotes.corr(numeric_only=True)['meltPoint']"
   ]
  }
 ],
 "metadata": {
  "kernelspec": {
   "display_name": "Python 3",
   "language": "python",
   "name": "python3"
  },
  "language_info": {
   "codemirror_mode": {
    "name": "ipython",
    "version": 3
   },
   "file_extension": ".py",
   "mimetype": "text/x-python",
   "name": "python",
   "nbconvert_exporter": "python",
   "pygments_lexer": "ipython3",
   "version": "3.11.4"
  }
 },
 "nbformat": 4,
 "nbformat_minor": 2
}
