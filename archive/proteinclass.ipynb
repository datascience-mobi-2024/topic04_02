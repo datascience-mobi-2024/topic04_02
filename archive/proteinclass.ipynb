{
 "cells": [
  {
   "cell_type": "code",
   "execution_count": 1,
   "metadata": {},
   "outputs": [],
   "source": [
    "import os\n",
    "import numpy as np\n",
    "import pandas as pd"
   ]
  },
  {
   "cell_type": "code",
   "execution_count": 2,
   "metadata": {},
   "outputs": [],
   "source": [
    "class Protein:\n",
    "    '''\n",
    "    Protein class that takes a sequence and returns a SPARC prediction, optionally with a PDB file for mutational improvement of melting point. Computes features for the sequence and stores them as attributes of the object. Full list of features can be accessed by calling the object's .features attribute.\n",
    "    \n",
    "    Initial attributes:\n",
    "    seq: str, protein sequence\n",
    "    PDB: str, name of PDB file in ./data/pdbs directory, optional for SPARC but required for .mutate() method\n",
    "    dpath: str, path to directory where temp files will be stored, defaults to ./data/fastas\n",
    "    S4path: str, path to directory where S4pred is stored, required for SPARC, defaults to ./data/s4pred\n",
    "    \n",
    "    Methods:\n",
    "    mutate( ): performs mutational improvement of melting point, requires PDB file. Returns mutated melting point, sequence, and difference in melting point and adds them to the object as .mutatedmp, .mutatedseq, and .mutatedmpdiff\n",
    "    mutreduce( ): reduces amount of mutations while still maintaining improved melting point. Requires mutate() method to be used first. Returns reduced sequence and melting point and adds them to the object as .mut_seq_reduced and .mut_mp_reduced\n",
    "    '''\n",
    "    import os\n",
    "    import numpy as np\n",
    "    def __init__(self, seq:str, PDB = None, dpath = os.path.abspath('./data/fastas'), S4path = os.path.abspath('./data/s4pred')):\n",
    "        self.PDB = PDB\n",
    "        from SPARC import SPARC\n",
    "        self.sequence = seq.upper()\n",
    "        result = SPARC(self.sequence, 'placeholder', dpath, S4path)\n",
    "        self.SPARC = result[0][0]\n",
    "        self.features = result[1]\n",
    "        self.features_scaled = result[2]\n",
    "        self.features_pca = result[3]\n",
    "        for i in self.features.index:\n",
    "            setattr(self, i, self.features[i])\n",
    "    def __str__(self):\n",
    "        return f\"Protein with predicted melting point of {str(self.SPARC).strip('[]')} °C\"\n",
    "    def mutate(self,pqr_output_path='./data/pqrs',iterations = 100, threshhold = 1000):\n",
    "        from function_mut import prot_mut\n",
    "        output_mut = prot_mut(pdb_path = './data/pdbs', pdb_file=self.PDB,pqr_output_path=pqr_output_path,iterations = iterations, threshhold = threshhold)\n",
    "        self.mutatedmp = output_mut[0][1][0][0]\n",
    "        self.mutatedseq = output_mut[1][0]\n",
    "        self.mutatedmpdiff = self.mutatedmp - self.SPARC\n",
    "        mutationlist = []\n",
    "        for n in range(len(self.mutatedseq)):\n",
    "            if self.mutatedseq[n] != self.sequence[n]:\n",
    "                mutationlist.append(f'{self.sequence[n]}{n+1}{self.mutatedseq[n]}')\n",
    "        self.mutationlist = mutationlist\n",
    "        return [self.mutatedmp, self.mutatedseq, self.mutatedmpdiff, self.mutationlist]\n",
    "    def mutreduce(self,name = 'proteinxyz'):\n",
    "        from function_mut import mutation_decreaser\n",
    "        outputdecreaser = mutation_decreaser(mut_temp = self.mutatedmp, wt_temp = self.SPARC, wt_protein = self.sequence, mut_protein = self.mutatedseq, name = name)\n",
    "        self.mut_mp_reduced = outputdecreaser[2]\n",
    "        self.mut_seq_reduced = outputdecreaser[0]\n",
    "        mutationlist_reduced = []\n",
    "        for n in range(len(self.mut_seq_reduced)):\n",
    "            if self.mut_seq_reduced[n] != self.sequence[n]:\n",
    "                mutationlist_reduced.append(f'{self.sequence[n]}{n+1}{self.mut_seq_reduced[n]}')\n",
    "        self.mutationlist_reduced = mutationlist_reduced\n",
    "        removed_mutations = []\n",
    "        for n in range(len(self.mutatedseq)):\n",
    "            if self.mutatedseq[n] != self.mut_seq_reduced[n]:\n",
    "                removed_mutations.append(f'{self.mutatedseq[n]}{n+1}')\n",
    "        self.removed_mutations = removed_mutations\n",
    "        return [self.mut_mp_reduced, self.mut_seq_reduced, self.mutationlist_reduced]"
   ]
  },
  {
   "cell_type": "code",
   "execution_count": 9,
   "metadata": {},
   "outputs": [
    {
     "ename": "AttributeError",
     "evalue": "partially initialized module 'pandas' has no attribute '_pandas_parser_CAPI' (most likely due to a circular import)",
     "output_type": "error",
     "traceback": [
      "\u001b[1;31m---------------------------------------------------------------------------\u001b[0m",
      "\u001b[1;31mAttributeError\u001b[0m                            Traceback (most recent call last)",
      "Cell \u001b[1;32mIn[9], line 1\u001b[0m\n\u001b[1;32m----> 1\u001b[0m qwer \u001b[38;5;241m=\u001b[39m \u001b[43mProtein\u001b[49m\u001b[43m(\u001b[49m\u001b[43mseq\u001b[49m\u001b[43m \u001b[49m\u001b[38;5;241;43m=\u001b[39;49m\u001b[43m \u001b[49m\u001b[38;5;124;43m'\u001b[39;49m\u001b[38;5;124;43mMSKIRVSLLGSTGMVGQKMVRLLENHPYIELAKVSASPNNTGKRYIDAVRWVENSEIPEYVSDMNLVSSDPNDHRDVDFVLSALPSEIAEGIETRLVSNGINVISNASPLRMRSDIPLINPEINYEHLYMLEDRDTKYVKNPNCTTTIMSMPLFDIINSDYERMYLTTMQAVSGAGFSGLPYMAINNNIIPYINGEEEKIPAEISKIFGYRNDDKIVNRNIKMSVTTVRVPVAVDHAGVLYINIKNFDIENFIKDIRNFKPLSRFSGLTMAPRQPIIIHEKNDAPQVHDVSGMEIHIGRLSYNDDTLRMYILGDNLIRGAAGITLLTLELMHAMKLDN\u001b[39;49m\u001b[38;5;124;43m'\u001b[39;49m\u001b[43m,\u001b[49m\u001b[43m \u001b[49m\u001b[43mPDB\u001b[49m\u001b[43m \u001b[49m\u001b[38;5;241;43m=\u001b[39;49m\u001b[43m \u001b[49m\u001b[38;5;124;43m'\u001b[39;49m\u001b[38;5;124;43mAF-Q6KZA0-F1.pdb\u001b[39;49m\u001b[38;5;124;43m'\u001b[39;49m\u001b[43m)\u001b[49m\n",
      "Cell \u001b[1;32mIn[7], line 21\u001b[0m, in \u001b[0;36mProtein.__init__\u001b[1;34m(self, seq, PDB, dpath, S4path)\u001b[0m\n\u001b[0;32m     19\u001b[0m \u001b[38;5;28;01mfrom\u001b[39;00m \u001b[38;5;21;01mSPARC\u001b[39;00m \u001b[38;5;28;01mimport\u001b[39;00m SPARC\n\u001b[0;32m     20\u001b[0m \u001b[38;5;28mself\u001b[39m\u001b[38;5;241m.\u001b[39msequence \u001b[38;5;241m=\u001b[39m seq\u001b[38;5;241m.\u001b[39mupper()\n\u001b[1;32m---> 21\u001b[0m result \u001b[38;5;241m=\u001b[39m \u001b[43mSPARC\u001b[49m\u001b[43m(\u001b[49m\u001b[38;5;28;43mself\u001b[39;49m\u001b[38;5;241;43m.\u001b[39;49m\u001b[43msequence\u001b[49m\u001b[43m,\u001b[49m\u001b[43m \u001b[49m\u001b[38;5;124;43m'\u001b[39;49m\u001b[38;5;124;43mplaceholder\u001b[39;49m\u001b[38;5;124;43m'\u001b[39;49m\u001b[43m,\u001b[49m\u001b[43m \u001b[49m\u001b[43mdpath\u001b[49m\u001b[43m,\u001b[49m\u001b[43m \u001b[49m\u001b[43mS4path\u001b[49m\u001b[43m)\u001b[49m\n\u001b[0;32m     22\u001b[0m \u001b[38;5;28mself\u001b[39m\u001b[38;5;241m.\u001b[39mSPARC \u001b[38;5;241m=\u001b[39m result[\u001b[38;5;241m0\u001b[39m][\u001b[38;5;241m0\u001b[39m]\n\u001b[0;32m     23\u001b[0m \u001b[38;5;28mself\u001b[39m\u001b[38;5;241m.\u001b[39mfeatures \u001b[38;5;241m=\u001b[39m result[\u001b[38;5;241m1\u001b[39m]\n",
      "File \u001b[1;32mc:\\Users\\tobia\\OneDrive\\Documents\\Uni\\FS 4\\Bioinfo Projekt\\topic04_02\\SPARC.py:100\u001b[0m, in \u001b[0;36mSPARC\u001b[1;34m(data, name, datapath, directoryS4)\u001b[0m\n\u001b[0;32m     98\u001b[0m \u001b[38;5;28;01mimport\u001b[39;00m \u001b[38;5;21;01mjoblib\u001b[39;00m\n\u001b[0;32m     99\u001b[0m \u001b[38;5;28;01mimport\u001b[39;00m \u001b[38;5;21;01mnumpy\u001b[39;00m \u001b[38;5;28;01mas\u001b[39;00m \u001b[38;5;21;01mnp\u001b[39;00m\n\u001b[1;32m--> 100\u001b[0m \u001b[38;5;28;01mimport\u001b[39;00m \u001b[38;5;21;01mpandas\u001b[39;00m \u001b[38;5;28;01mas\u001b[39;00m \u001b[38;5;21;01mpd\u001b[39;00m\n\u001b[0;32m    101\u001b[0m \u001b[38;5;28;01mimport\u001b[39;00m \u001b[38;5;21;01mos\u001b[39;00m\n\u001b[0;32m    102\u001b[0m \u001b[38;5;28;01mfrom\u001b[39;00m \u001b[38;5;21;01msklearn\u001b[39;00m\u001b[38;5;21;01m.\u001b[39;00m\u001b[38;5;21;01mpreprocessing\u001b[39;00m \u001b[38;5;28;01mimport\u001b[39;00m StandardScaler\n",
      "File \u001b[1;32m~\\AppData\\Local\\Packages\\PythonSoftwareFoundation.Python.3.12_qbz5n2kfra8p0\\LocalCache\\local-packages\\Python312\\site-packages\\pandas\\__init__.py:151\u001b[0m\n\u001b[0;32m    132\u001b[0m \u001b[38;5;28;01mfrom\u001b[39;00m \u001b[38;5;21;01mpandas\u001b[39;00m\u001b[38;5;21;01m.\u001b[39;00m\u001b[38;5;21;01mcore\u001b[39;00m\u001b[38;5;21;01m.\u001b[39;00m\u001b[38;5;21;01mcomputation\u001b[39;00m\u001b[38;5;21;01m.\u001b[39;00m\u001b[38;5;21;01mapi\u001b[39;00m \u001b[38;5;28;01mimport\u001b[39;00m \u001b[38;5;28meval\u001b[39m\n\u001b[0;32m    134\u001b[0m \u001b[38;5;28;01mfrom\u001b[39;00m \u001b[38;5;21;01mpandas\u001b[39;00m\u001b[38;5;21;01m.\u001b[39;00m\u001b[38;5;21;01mcore\u001b[39;00m\u001b[38;5;21;01m.\u001b[39;00m\u001b[38;5;21;01mreshape\u001b[39;00m\u001b[38;5;21;01m.\u001b[39;00m\u001b[38;5;21;01mapi\u001b[39;00m \u001b[38;5;28;01mimport\u001b[39;00m (\n\u001b[0;32m    135\u001b[0m     concat,\n\u001b[0;32m    136\u001b[0m     lreshape,\n\u001b[1;32m   (...)\u001b[0m\n\u001b[0;32m    148\u001b[0m     qcut,\n\u001b[0;32m    149\u001b[0m )\n\u001b[1;32m--> 151\u001b[0m \u001b[38;5;28;01mfrom\u001b[39;00m \u001b[38;5;21;01mpandas\u001b[39;00m \u001b[38;5;28;01mimport\u001b[39;00m api, arrays, errors, io, plotting, tseries\n\u001b[0;32m    152\u001b[0m \u001b[38;5;28;01mfrom\u001b[39;00m \u001b[38;5;21;01mpandas\u001b[39;00m \u001b[38;5;28;01mimport\u001b[39;00m testing\n\u001b[0;32m    153\u001b[0m \u001b[38;5;28;01mfrom\u001b[39;00m \u001b[38;5;21;01mpandas\u001b[39;00m\u001b[38;5;21;01m.\u001b[39;00m\u001b[38;5;21;01mutil\u001b[39;00m\u001b[38;5;21;01m.\u001b[39;00m\u001b[38;5;21;01m_print_versions\u001b[39;00m \u001b[38;5;28;01mimport\u001b[39;00m show_versions\n",
      "File \u001b[1;32m~\\AppData\\Local\\Packages\\PythonSoftwareFoundation.Python.3.12_qbz5n2kfra8p0\\LocalCache\\local-packages\\Python312\\site-packages\\pandas\\api\\__init__.py:2\u001b[0m\n\u001b[0;32m      1\u001b[0m \u001b[38;5;124;03m\"\"\" public toolkit API \"\"\"\u001b[39;00m\n\u001b[1;32m----> 2\u001b[0m \u001b[38;5;28;01mfrom\u001b[39;00m \u001b[38;5;21;01mpandas\u001b[39;00m\u001b[38;5;21;01m.\u001b[39;00m\u001b[38;5;21;01mapi\u001b[39;00m \u001b[38;5;28;01mimport\u001b[39;00m (\n\u001b[0;32m      3\u001b[0m     extensions,\n\u001b[0;32m      4\u001b[0m     indexers,\n\u001b[0;32m      5\u001b[0m     interchange,\n\u001b[0;32m      6\u001b[0m     types,\n\u001b[0;32m      7\u001b[0m     typing,\n\u001b[0;32m      8\u001b[0m )\n\u001b[0;32m     10\u001b[0m __all__ \u001b[38;5;241m=\u001b[39m [\n\u001b[0;32m     11\u001b[0m     \u001b[38;5;124m\"\u001b[39m\u001b[38;5;124minterchange\u001b[39m\u001b[38;5;124m\"\u001b[39m,\n\u001b[0;32m     12\u001b[0m     \u001b[38;5;124m\"\u001b[39m\u001b[38;5;124mextensions\u001b[39m\u001b[38;5;124m\"\u001b[39m,\n\u001b[1;32m   (...)\u001b[0m\n\u001b[0;32m     15\u001b[0m     \u001b[38;5;124m\"\u001b[39m\u001b[38;5;124mtyping\u001b[39m\u001b[38;5;124m\"\u001b[39m,\n\u001b[0;32m     16\u001b[0m ]\n",
      "File \u001b[1;32m~\\AppData\\Local\\Packages\\PythonSoftwareFoundation.Python.3.12_qbz5n2kfra8p0\\LocalCache\\local-packages\\Python312\\site-packages\\pandas\\api\\typing\\__init__.py:31\u001b[0m\n\u001b[0;32m     19\u001b[0m \u001b[38;5;28;01mfrom\u001b[39;00m \u001b[38;5;21;01mpandas\u001b[39;00m\u001b[38;5;21;01m.\u001b[39;00m\u001b[38;5;21;01mcore\u001b[39;00m\u001b[38;5;21;01m.\u001b[39;00m\u001b[38;5;21;01mwindow\u001b[39;00m \u001b[38;5;28;01mimport\u001b[39;00m (\n\u001b[0;32m     20\u001b[0m     Expanding,\n\u001b[0;32m     21\u001b[0m     ExpandingGroupby,\n\u001b[1;32m   (...)\u001b[0m\n\u001b[0;32m     26\u001b[0m     Window,\n\u001b[0;32m     27\u001b[0m )\n\u001b[0;32m     29\u001b[0m \u001b[38;5;66;03m# TODO: Can't import Styler without importing jinja2\u001b[39;00m\n\u001b[0;32m     30\u001b[0m \u001b[38;5;66;03m# from pandas.io.formats.style import Styler\u001b[39;00m\n\u001b[1;32m---> 31\u001b[0m \u001b[38;5;28;01mfrom\u001b[39;00m \u001b[38;5;21;01mpandas\u001b[39;00m\u001b[38;5;21;01m.\u001b[39;00m\u001b[38;5;21;01mio\u001b[39;00m\u001b[38;5;21;01m.\u001b[39;00m\u001b[38;5;21;01mjson\u001b[39;00m\u001b[38;5;21;01m.\u001b[39;00m\u001b[38;5;21;01m_json\u001b[39;00m \u001b[38;5;28;01mimport\u001b[39;00m JsonReader\n\u001b[0;32m     32\u001b[0m \u001b[38;5;28;01mfrom\u001b[39;00m \u001b[38;5;21;01mpandas\u001b[39;00m\u001b[38;5;21;01m.\u001b[39;00m\u001b[38;5;21;01mio\u001b[39;00m\u001b[38;5;21;01m.\u001b[39;00m\u001b[38;5;21;01mstata\u001b[39;00m \u001b[38;5;28;01mimport\u001b[39;00m StataReader\n\u001b[0;32m     34\u001b[0m __all__ \u001b[38;5;241m=\u001b[39m [\n\u001b[0;32m     35\u001b[0m     \u001b[38;5;124m\"\u001b[39m\u001b[38;5;124mDataFrameGroupBy\u001b[39m\u001b[38;5;124m\"\u001b[39m,\n\u001b[0;32m     36\u001b[0m     \u001b[38;5;124m\"\u001b[39m\u001b[38;5;124mDatetimeIndexResamplerGroupby\u001b[39m\u001b[38;5;124m\"\u001b[39m,\n\u001b[1;32m   (...)\u001b[0m\n\u001b[0;32m     54\u001b[0m     \u001b[38;5;124m\"\u001b[39m\u001b[38;5;124mWindow\u001b[39m\u001b[38;5;124m\"\u001b[39m,\n\u001b[0;32m     55\u001b[0m ]\n",
      "File \u001b[1;32m~\\AppData\\Local\\Packages\\PythonSoftwareFoundation.Python.3.12_qbz5n2kfra8p0\\LocalCache\\local-packages\\Python312\\site-packages\\pandas\\io\\json\\__init__.py:1\u001b[0m\n\u001b[1;32m----> 1\u001b[0m \u001b[38;5;28;01mfrom\u001b[39;00m \u001b[38;5;21;01mpandas\u001b[39;00m\u001b[38;5;21;01m.\u001b[39;00m\u001b[38;5;21;01mio\u001b[39;00m\u001b[38;5;21;01m.\u001b[39;00m\u001b[38;5;21;01mjson\u001b[39;00m\u001b[38;5;21;01m.\u001b[39;00m\u001b[38;5;21;01m_json\u001b[39;00m \u001b[38;5;28;01mimport\u001b[39;00m (\n\u001b[0;32m      2\u001b[0m     read_json,\n\u001b[0;32m      3\u001b[0m     to_json,\n\u001b[0;32m      4\u001b[0m     ujson_dumps,\n\u001b[0;32m      5\u001b[0m     ujson_loads,\n\u001b[0;32m      6\u001b[0m )\n\u001b[0;32m      7\u001b[0m \u001b[38;5;28;01mfrom\u001b[39;00m \u001b[38;5;21;01mpandas\u001b[39;00m\u001b[38;5;21;01m.\u001b[39;00m\u001b[38;5;21;01mio\u001b[39;00m\u001b[38;5;21;01m.\u001b[39;00m\u001b[38;5;21;01mjson\u001b[39;00m\u001b[38;5;21;01m.\u001b[39;00m\u001b[38;5;21;01m_table_schema\u001b[39;00m \u001b[38;5;28;01mimport\u001b[39;00m build_table_schema\n\u001b[0;32m      9\u001b[0m __all__ \u001b[38;5;241m=\u001b[39m [\n\u001b[0;32m     10\u001b[0m     \u001b[38;5;124m\"\u001b[39m\u001b[38;5;124mujson_dumps\u001b[39m\u001b[38;5;124m\"\u001b[39m,\n\u001b[0;32m     11\u001b[0m     \u001b[38;5;124m\"\u001b[39m\u001b[38;5;124mujson_loads\u001b[39m\u001b[38;5;124m\"\u001b[39m,\n\u001b[1;32m   (...)\u001b[0m\n\u001b[0;32m     14\u001b[0m     \u001b[38;5;124m\"\u001b[39m\u001b[38;5;124mbuild_table_schema\u001b[39m\u001b[38;5;124m\"\u001b[39m,\n\u001b[0;32m     15\u001b[0m ]\n",
      "File \u001b[1;32m~\\AppData\\Local\\Packages\\PythonSoftwareFoundation.Python.3.12_qbz5n2kfra8p0\\LocalCache\\local-packages\\Python312\\site-packages\\pandas\\io\\json\\_json.py:71\u001b[0m\n\u001b[0;32m     66\u001b[0m \u001b[38;5;28;01mfrom\u001b[39;00m \u001b[38;5;21;01mpandas\u001b[39;00m\u001b[38;5;21;01m.\u001b[39;00m\u001b[38;5;21;01mio\u001b[39;00m\u001b[38;5;21;01m.\u001b[39;00m\u001b[38;5;21;01mjson\u001b[39;00m\u001b[38;5;21;01m.\u001b[39;00m\u001b[38;5;21;01m_normalize\u001b[39;00m \u001b[38;5;28;01mimport\u001b[39;00m convert_to_line_delimits\n\u001b[0;32m     67\u001b[0m \u001b[38;5;28;01mfrom\u001b[39;00m \u001b[38;5;21;01mpandas\u001b[39;00m\u001b[38;5;21;01m.\u001b[39;00m\u001b[38;5;21;01mio\u001b[39;00m\u001b[38;5;21;01m.\u001b[39;00m\u001b[38;5;21;01mjson\u001b[39;00m\u001b[38;5;21;01m.\u001b[39;00m\u001b[38;5;21;01m_table_schema\u001b[39;00m \u001b[38;5;28;01mimport\u001b[39;00m (\n\u001b[0;32m     68\u001b[0m     build_table_schema,\n\u001b[0;32m     69\u001b[0m     parse_table_schema,\n\u001b[0;32m     70\u001b[0m )\n\u001b[1;32m---> 71\u001b[0m \u001b[38;5;28;01mfrom\u001b[39;00m \u001b[38;5;21;01mpandas\u001b[39;00m\u001b[38;5;21;01m.\u001b[39;00m\u001b[38;5;21;01mio\u001b[39;00m\u001b[38;5;21;01m.\u001b[39;00m\u001b[38;5;21;01mparsers\u001b[39;00m\u001b[38;5;21;01m.\u001b[39;00m\u001b[38;5;21;01mreaders\u001b[39;00m \u001b[38;5;28;01mimport\u001b[39;00m validate_integer\n\u001b[0;32m     73\u001b[0m \u001b[38;5;28;01mif\u001b[39;00m TYPE_CHECKING:\n\u001b[0;32m     74\u001b[0m     \u001b[38;5;28;01mfrom\u001b[39;00m \u001b[38;5;21;01mcollections\u001b[39;00m\u001b[38;5;21;01m.\u001b[39;00m\u001b[38;5;21;01mabc\u001b[39;00m \u001b[38;5;28;01mimport\u001b[39;00m (\n\u001b[0;32m     75\u001b[0m         Hashable,\n\u001b[0;32m     76\u001b[0m         Mapping,\n\u001b[0;32m     77\u001b[0m     )\n",
      "File \u001b[1;32m~\\AppData\\Local\\Packages\\PythonSoftwareFoundation.Python.3.12_qbz5n2kfra8p0\\LocalCache\\local-packages\\Python312\\site-packages\\pandas\\io\\parsers\\__init__.py:1\u001b[0m\n\u001b[1;32m----> 1\u001b[0m \u001b[38;5;28;01mfrom\u001b[39;00m \u001b[38;5;21;01mpandas\u001b[39;00m\u001b[38;5;21;01m.\u001b[39;00m\u001b[38;5;21;01mio\u001b[39;00m\u001b[38;5;21;01m.\u001b[39;00m\u001b[38;5;21;01mparsers\u001b[39;00m\u001b[38;5;21;01m.\u001b[39;00m\u001b[38;5;21;01mreaders\u001b[39;00m \u001b[38;5;28;01mimport\u001b[39;00m (\n\u001b[0;32m      2\u001b[0m     TextFileReader,\n\u001b[0;32m      3\u001b[0m     TextParser,\n\u001b[0;32m      4\u001b[0m     read_csv,\n\u001b[0;32m      5\u001b[0m     read_fwf,\n\u001b[0;32m      6\u001b[0m     read_table,\n\u001b[0;32m      7\u001b[0m )\n\u001b[0;32m      9\u001b[0m __all__ \u001b[38;5;241m=\u001b[39m [\u001b[38;5;124m\"\u001b[39m\u001b[38;5;124mTextFileReader\u001b[39m\u001b[38;5;124m\"\u001b[39m, \u001b[38;5;124m\"\u001b[39m\u001b[38;5;124mTextParser\u001b[39m\u001b[38;5;124m\"\u001b[39m, \u001b[38;5;124m\"\u001b[39m\u001b[38;5;124mread_csv\u001b[39m\u001b[38;5;124m\"\u001b[39m, \u001b[38;5;124m\"\u001b[39m\u001b[38;5;124mread_fwf\u001b[39m\u001b[38;5;124m\"\u001b[39m, \u001b[38;5;124m\"\u001b[39m\u001b[38;5;124mread_table\u001b[39m\u001b[38;5;124m\"\u001b[39m]\n",
      "File \u001b[1;32m~\\AppData\\Local\\Packages\\PythonSoftwareFoundation.Python.3.12_qbz5n2kfra8p0\\LocalCache\\local-packages\\Python312\\site-packages\\pandas\\io\\parsers\\readers.py:32\u001b[0m\n\u001b[0;32m     29\u001b[0m \u001b[38;5;28;01mfrom\u001b[39;00m \u001b[38;5;21;01mpandas\u001b[39;00m\u001b[38;5;21;01m.\u001b[39;00m\u001b[38;5;21;01m_config\u001b[39;00m \u001b[38;5;28;01mimport\u001b[39;00m using_copy_on_write\n\u001b[0;32m     31\u001b[0m \u001b[38;5;28;01mfrom\u001b[39;00m \u001b[38;5;21;01mpandas\u001b[39;00m\u001b[38;5;21;01m.\u001b[39;00m\u001b[38;5;21;01m_libs\u001b[39;00m \u001b[38;5;28;01mimport\u001b[39;00m lib\n\u001b[1;32m---> 32\u001b[0m \u001b[38;5;28;01mfrom\u001b[39;00m \u001b[38;5;21;01mpandas\u001b[39;00m\u001b[38;5;21;01m.\u001b[39;00m\u001b[38;5;21;01m_libs\u001b[39;00m\u001b[38;5;21;01m.\u001b[39;00m\u001b[38;5;21;01mparsers\u001b[39;00m \u001b[38;5;28;01mimport\u001b[39;00m STR_NA_VALUES\n\u001b[0;32m     33\u001b[0m \u001b[38;5;28;01mfrom\u001b[39;00m \u001b[38;5;21;01mpandas\u001b[39;00m\u001b[38;5;21;01m.\u001b[39;00m\u001b[38;5;21;01merrors\u001b[39;00m \u001b[38;5;28;01mimport\u001b[39;00m (\n\u001b[0;32m     34\u001b[0m     AbstractMethodError,\n\u001b[0;32m     35\u001b[0m     ParserWarning,\n\u001b[0;32m     36\u001b[0m )\n\u001b[0;32m     37\u001b[0m \u001b[38;5;28;01mfrom\u001b[39;00m \u001b[38;5;21;01mpandas\u001b[39;00m\u001b[38;5;21;01m.\u001b[39;00m\u001b[38;5;21;01mutil\u001b[39;00m\u001b[38;5;21;01m.\u001b[39;00m\u001b[38;5;21;01m_decorators\u001b[39;00m \u001b[38;5;28;01mimport\u001b[39;00m Appender\n",
      "File \u001b[1;32mparsers.pyx:1418\u001b[0m, in \u001b[0;36minit pandas._libs.parsers\u001b[1;34m()\u001b[0m\n",
      "\u001b[1;31mAttributeError\u001b[0m: partially initialized module 'pandas' has no attribute '_pandas_parser_CAPI' (most likely due to a circular import)"
     ]
    }
   ],
   "source": [
    "qwer = Protein(seq = 'MSKIRVSLLGSTGMVGQKMVRLLENHPYIELAKVSASPNNTGKRYIDAVRWVENSEIPEYVSDMNLVSSDPNDHRDVDFVLSALPSEIAEGIETRLVSNGINVISNASPLRMRSDIPLINPEINYEHLYMLEDRDTKYVKNPNCTTTIMSMPLFDIINSDYERMYLTTMQAVSGAGFSGLPYMAINNNIIPYINGEEEKIPAEISKIFGYRNDDKIVNRNIKMSVTTVRVPVAVDHAGVLYINIKNFDIENFIKDIRNFKPLSRFSGLTMAPRQPIIIHEKNDAPQVHDVSGMEIHIGRLSYNDDTLRMYILGDNLIRGAAGITLLTLELMHAMKLDN', PDB = 'AF-Q6KZA0-F1.pdb')"
   ]
  },
  {
   "cell_type": "code",
   "execution_count": null,
   "metadata": {},
   "outputs": [
    {
     "name": "stdout",
     "output_type": "stream",
     "text": [
      "Random mutation finished\n"
     ]
    },
    {
     "data": {
      "text/plain": [
       "[74.81022816078658,\n",
       " ['M',\n",
       "  'S',\n",
       "  'K',\n",
       "  'I',\n",
       "  'R',\n",
       "  'V',\n",
       "  'S',\n",
       "  'L',\n",
       "  'L',\n",
       "  'G',\n",
       "  'S',\n",
       "  'T',\n",
       "  'G',\n",
       "  'M',\n",
       "  'V',\n",
       "  'G',\n",
       "  'Q',\n",
       "  'K',\n",
       "  'M',\n",
       "  'V',\n",
       "  'R',\n",
       "  'L',\n",
       "  'L',\n",
       "  'E',\n",
       "  'N',\n",
       "  'H',\n",
       "  'P',\n",
       "  'Y',\n",
       "  'I',\n",
       "  'E',\n",
       "  'L',\n",
       "  'A',\n",
       "  'K',\n",
       "  'V',\n",
       "  'S',\n",
       "  'A',\n",
       "  'S',\n",
       "  'P',\n",
       "  'N',\n",
       "  'N',\n",
       "  'T',\n",
       "  'G',\n",
       "  'K',\n",
       "  'R',\n",
       "  'Y',\n",
       "  'I',\n",
       "  'D',\n",
       "  'A',\n",
       "  'V',\n",
       "  'R',\n",
       "  'W',\n",
       "  'V',\n",
       "  'E',\n",
       "  'N',\n",
       "  'S',\n",
       "  'E',\n",
       "  'I',\n",
       "  'P',\n",
       "  'E',\n",
       "  'Y',\n",
       "  'V',\n",
       "  'S',\n",
       "  'D',\n",
       "  'M',\n",
       "  'N',\n",
       "  'L',\n",
       "  'V',\n",
       "  'S',\n",
       "  'S',\n",
       "  'D',\n",
       "  'P',\n",
       "  'N',\n",
       "  'D',\n",
       "  'H',\n",
       "  'R',\n",
       "  'D',\n",
       "  'V',\n",
       "  'D',\n",
       "  'F',\n",
       "  'V',\n",
       "  'L',\n",
       "  'S',\n",
       "  'A',\n",
       "  'L',\n",
       "  'P',\n",
       "  'S',\n",
       "  'E',\n",
       "  'I',\n",
       "  'A',\n",
       "  'E',\n",
       "  'G',\n",
       "  'I',\n",
       "  'E',\n",
       "  'T',\n",
       "  'R',\n",
       "  'L',\n",
       "  'V',\n",
       "  'S',\n",
       "  'N',\n",
       "  'G',\n",
       "  'I',\n",
       "  'N',\n",
       "  'V',\n",
       "  'I',\n",
       "  'S',\n",
       "  'N',\n",
       "  'A',\n",
       "  'S',\n",
       "  'P',\n",
       "  'L',\n",
       "  'R',\n",
       "  'M',\n",
       "  'R',\n",
       "  'S',\n",
       "  'D',\n",
       "  'I',\n",
       "  'P',\n",
       "  'L',\n",
       "  'I',\n",
       "  'N',\n",
       "  'P',\n",
       "  'E',\n",
       "  'I',\n",
       "  'N',\n",
       "  'Y',\n",
       "  'E',\n",
       "  'H',\n",
       "  'L',\n",
       "  'Y',\n",
       "  'M',\n",
       "  'L',\n",
       "  'E',\n",
       "  'D',\n",
       "  'R',\n",
       "  'D',\n",
       "  'T',\n",
       "  'K',\n",
       "  'Y',\n",
       "  'V',\n",
       "  'K',\n",
       "  'N',\n",
       "  'P',\n",
       "  'N',\n",
       "  'C',\n",
       "  'T',\n",
       "  'T',\n",
       "  'T',\n",
       "  'I',\n",
       "  'M',\n",
       "  'S',\n",
       "  'M',\n",
       "  'P',\n",
       "  'L',\n",
       "  'F',\n",
       "  'D',\n",
       "  'I',\n",
       "  'I',\n",
       "  'N',\n",
       "  'S',\n",
       "  'D',\n",
       "  'Y',\n",
       "  'E',\n",
       "  'R',\n",
       "  'M',\n",
       "  'Y',\n",
       "  'L',\n",
       "  'T',\n",
       "  'T',\n",
       "  'M',\n",
       "  'Q',\n",
       "  'A',\n",
       "  'V',\n",
       "  'S',\n",
       "  'G',\n",
       "  'A',\n",
       "  'G',\n",
       "  'F',\n",
       "  'S',\n",
       "  'G',\n",
       "  'L',\n",
       "  'P',\n",
       "  'Y',\n",
       "  'M',\n",
       "  'A',\n",
       "  'I',\n",
       "  'N',\n",
       "  'N',\n",
       "  'N',\n",
       "  'I',\n",
       "  'I',\n",
       "  'P',\n",
       "  'Y',\n",
       "  'I',\n",
       "  'N',\n",
       "  'G',\n",
       "  'E',\n",
       "  'E',\n",
       "  'E',\n",
       "  'K',\n",
       "  'I',\n",
       "  'P',\n",
       "  'A',\n",
       "  'E',\n",
       "  'I',\n",
       "  'S',\n",
       "  'K',\n",
       "  'I',\n",
       "  'F',\n",
       "  'G',\n",
       "  'Y',\n",
       "  'R',\n",
       "  'N',\n",
       "  'D',\n",
       "  'D',\n",
       "  'K',\n",
       "  'I',\n",
       "  'V',\n",
       "  'N',\n",
       "  'R',\n",
       "  'N',\n",
       "  'I',\n",
       "  'K',\n",
       "  'M',\n",
       "  'S',\n",
       "  'V',\n",
       "  'T',\n",
       "  'T',\n",
       "  'V',\n",
       "  'R',\n",
       "  'V',\n",
       "  'P',\n",
       "  'V',\n",
       "  'A',\n",
       "  'V',\n",
       "  'D',\n",
       "  'H',\n",
       "  'A',\n",
       "  'G',\n",
       "  'V',\n",
       "  'L',\n",
       "  'Y',\n",
       "  'I',\n",
       "  'N',\n",
       "  'I',\n",
       "  'K',\n",
       "  'N',\n",
       "  'F',\n",
       "  'D',\n",
       "  'I',\n",
       "  'E',\n",
       "  'N',\n",
       "  'F',\n",
       "  'I',\n",
       "  'K',\n",
       "  'D',\n",
       "  'I',\n",
       "  'R',\n",
       "  'N',\n",
       "  'F',\n",
       "  'K',\n",
       "  'P',\n",
       "  'L',\n",
       "  'S',\n",
       "  'R',\n",
       "  'F',\n",
       "  'S',\n",
       "  'G',\n",
       "  'L',\n",
       "  'T',\n",
       "  'M',\n",
       "  'A',\n",
       "  'P',\n",
       "  'R',\n",
       "  'Q',\n",
       "  'P',\n",
       "  'I',\n",
       "  'I',\n",
       "  'I',\n",
       "  'H',\n",
       "  'E',\n",
       "  'K',\n",
       "  'N',\n",
       "  'D',\n",
       "  'A',\n",
       "  'P',\n",
       "  'Q',\n",
       "  'V',\n",
       "  'H',\n",
       "  'D',\n",
       "  'V',\n",
       "  'S',\n",
       "  'G',\n",
       "  'M',\n",
       "  'E',\n",
       "  'I',\n",
       "  'H',\n",
       "  'I',\n",
       "  'G',\n",
       "  'R',\n",
       "  'L',\n",
       "  'S',\n",
       "  'Y',\n",
       "  'N',\n",
       "  'D',\n",
       "  'D',\n",
       "  'T',\n",
       "  'L',\n",
       "  'R',\n",
       "  'M',\n",
       "  'Y',\n",
       "  'I',\n",
       "  'L',\n",
       "  'G',\n",
       "  'D',\n",
       "  'N',\n",
       "  'L',\n",
       "  'I',\n",
       "  'R',\n",
       "  'G',\n",
       "  'A',\n",
       "  'A',\n",
       "  'G',\n",
       "  'I',\n",
       "  'T',\n",
       "  'L',\n",
       "  'L',\n",
       "  'T',\n",
       "  'L',\n",
       "  'E',\n",
       "  'L',\n",
       "  'M',\n",
       "  'H',\n",
       "  'A',\n",
       "  'M',\n",
       "  'K',\n",
       "  'L',\n",
       "  'D',\n",
       "  'N'],\n",
       " 3.294912677058818,\n",
       " []]"
      ]
     },
     "execution_count": 41,
     "metadata": {},
     "output_type": "execute_result"
    }
   ],
   "source": [
    "qwer.mutate(iterations=1,threshhold=1)"
   ]
  },
  {
   "cell_type": "code",
   "execution_count": null,
   "metadata": {},
   "outputs": [
    {
     "name": "stdout",
     "output_type": "stream",
     "text": [
      "49.3233842458866\n",
      "49.3233842458866\n"
     ]
    }
   ],
   "source": [
    "print(qwer.SPARC)\n",
    "print(qwer.mutatedmp)"
   ]
  },
  {
   "cell_type": "code",
   "execution_count": null,
   "metadata": {},
   "outputs": [],
   "source": [
    "class test:\n",
    "    test3 = None\n",
    "    def __init__(self,name):\n",
    "        self.label = name\n",
    "    def __str__(self):\n",
    "        return f'{self}'\n",
    "    def tzui(self,test4):\n",
    "        self.test3 = test4"
   ]
  },
  {
   "cell_type": "code",
   "execution_count": null,
   "metadata": {},
   "outputs": [
    {
     "name": "stdout",
     "output_type": "stream",
     "text": [
      "None\n"
     ]
    }
   ],
   "source": [
    "qwert = test('qwer')\n",
    "qwert.label\n",
    "print(qwert.test3)"
   ]
  },
  {
   "cell_type": "code",
   "execution_count": null,
   "metadata": {},
   "outputs": [],
   "source": [
    "from function_mut import mutation_decreaser"
   ]
  },
  {
   "cell_type": "code",
   "execution_count": null,
   "metadata": {},
   "outputs": [
    {
     "name": "stdout",
     "output_type": "stream",
     "text": [
      "MSKIRVSLLGSTGMVGQKMVRLLENHPYIELAKVSASPNNTGKRYIDAVRWVENSEIPEYVSDMNLVSSDPNDHRDVDFVLSALPSEIAEGIETRLVSNGINVISNASPLRMRSDIPLINPEINYEHLYMLEDRDTKYVKNPNCTTTIMSMPLFDIINSDYERMYLTTMQAVSGAGFSGLPYMAINNNIIPYINGEEEKIPAEISKIFGYRNDDKIVNRNIKMSVTTVRVPVAVDHAGVLYINIKNFDIENFIKDIRNFKPLSRFSGLTMAPRQPIIIHEKNDAPQVHDVSGMEIHIGRLSYNDDTLRMYILGDNLIRGAAGITLLTLELMHAMKLDN\n"
     ]
    }
   ],
   "source": [
    "print(qwer.sequence)"
   ]
  },
  {
   "cell_type": "code",
   "execution_count": null,
   "metadata": {},
   "outputs": [],
   "source": [
    "qwer.mutatedseq = 'MQVLAKENIKLNQTVSSKEEAIKLAGQTLQWERTVTEDYISKMFEREETSSTFMGNFIAIPHGTEEAKSEVLHSGISIIQIPEGVEYGEGNTAKVVFGIAGKNNEHLDILSNIAIICSEEENIERLISAKSEEDLIAIFNEVN'"
   ]
  },
  {
   "cell_type": "code",
   "execution_count": null,
   "metadata": {},
   "outputs": [
    {
     "data": {
      "text/plain": [
       "143"
      ]
     },
     "execution_count": 11,
     "metadata": {},
     "output_type": "execute_result"
    }
   ],
   "source": [
    "len(qwer.mutatedseq)"
   ]
  },
  {
   "cell_type": "code",
   "execution_count": null,
   "metadata": {},
   "outputs": [],
   "source": [
    "yxc = mutation_decreaser(mut_temp = qwer.mutatedmp, wt_temp = qwer.SPARC, wt_protein = qwer.sequence, mut_protein = qwer.mutatedseq, name = 'proteinxy')"
   ]
  },
  {
   "cell_type": "code",
   "execution_count": null,
   "metadata": {},
   "outputs": [
    {
     "data": {
      "text/plain": [
       "49.730312839077804"
      ]
     },
     "execution_count": 16,
     "metadata": {},
     "output_type": "execute_result"
    }
   ],
   "source": [
    "yxc[2]"
   ]
  },
  {
   "cell_type": "code",
   "execution_count": null,
   "metadata": {},
   "outputs": [],
   "source": [
    "from function_mut import prot_mut"
   ]
  },
  {
   "cell_type": "code",
   "execution_count": null,
   "metadata": {},
   "outputs": [
    {
     "data": {
      "text/plain": [
       "'c:\\\\Users\\\\tobia\\\\OneDrive\\\\Documents\\\\Uni\\\\FS 4\\\\Bioinfo Projekt\\\\topic04_02'"
      ]
     },
     "execution_count": 8,
     "metadata": {},
     "output_type": "execute_result"
    }
   ],
   "source": [
    "os.getcwd()"
   ]
  },
  {
   "cell_type": "code",
   "execution_count": null,
   "metadata": {},
   "outputs": [
    {
     "name": "stdout",
     "output_type": "stream",
     "text": [
      "Pqr file already exists\n",
      "fasta file already exists\n",
      "fas file already exists\n",
      "Random mutation finished\n"
     ]
    }
   ],
   "source": [
    "lkj = prot_mut(pdb_path = './data/pdbs',pdb_file = 'AF-C0H3V2-F1.pdb', pqr_output_path='./data/pdbs',iterations=1,threshhold=1)"
   ]
  },
  {
   "cell_type": "code",
   "execution_count": null,
   "metadata": {},
   "outputs": [
    {
     "data": {
      "text/plain": [
       "array([55.84154306])"
      ]
     },
     "execution_count": 18,
     "metadata": {},
     "output_type": "execute_result"
    }
   ],
   "source": [
    "lkj[0][1][0]"
   ]
  },
  {
   "cell_type": "code",
   "execution_count": null,
   "metadata": {},
   "outputs": [
    {
     "data": {
      "text/plain": [
       "['B55R',\n",
       " 'E241R',\n",
       " 'B360R',\n",
       " 'W435R',\n",
       " 'n844R',\n",
       " 'B890R',\n",
       " 'M909R',\n",
       " 'P929R',\n",
       " 'N930R',\n",
       " 'W931R',\n",
       " 'Q932R',\n",
       " 'P933R',\n",
       " 'N934R']"
      ]
     },
     "execution_count": 23,
     "metadata": {},
     "output_type": "execute_result"
    }
   ],
   "source": [
    "testl = []\n",
    "teststring1 = 'QWERTZUIOPQWERIOPQOKASNDKOWJNFONAOSFBAOSBDNJAWOFJOWAJNBOFDBWAOAJSFBASJBDOFJAWOAJDSBAOSJBDOJBWOQUBOBDWQJFWQNFCWQOWQBFGOJWQBFOWJBNDnbwqodbuNDBOWQbOBQOWJDBOQWBDOBQOWBDOQWBDOBWQODBWQOBDOQBWDOJNWQPDKMQWPNPDKNWQPDNPIWQNDPNWQPNDPWQBDBPQWIBDPIBWQQWERTZUIOPQWERIOPQOKASNDKOWJNFONAOSFBAOSBDNJAWOFJOWAJNBOFDBWAOAJSFBASJBDOFJAWOAJDSBAOSJBDOJBWOQUBOBDWQJFWQNFCWQOWQBFGOJWQBFOWJBNDnbwqodbuNDBOWQbOBQOWJDBOQWBDOBQOWBDOQWBDOBWQODBWQOBDOQBWDOJNWQPDKMQWPNPDKNWQPDNPIWQNDPNWQPNDPWQBDBPQWIBDPIBWQQWERTZUIOPQWERIOPQOKASNDKOWJNFONAOSFBAOSBDNJAWOFJOWAJNBOFDBWAOAJSFBASJBDOFJAWOAJDSBAOSJBDOJBWOQUBOBDWQJFWQNFCWQOWQBFGOJWQBFOWJBNDnbwqodbuNDBOWQbOBQOWJDBOQWBDOBQOWBDOQWBDOBWQODBWQOBDOQBWDOJNWQPDKMQWPNPDKNWQPDNPIWQNDPNWQPNDPWQBDBPQWIBDPIBWQQWERTZUIOPQWERIOPQOKASNDKOWJNFONAOSFBAOSBDNJAWOFJOWAJNBOFDBWAOAJSFBASJBDOFJAWOAJDSBAOSJBDOJBWOQUBOBDWQJFWQNFCWQOWQBFGOJWQBFOWJBNDnbwqodbuNDBOWQbOBQOWJDBOQWBDOBQOWBDOQWBDOBWQODBWQOBDOQBWDOJNWQPDKMQWPNPDKNWQPDNPIWQNDPNWQPNDPWQBDBPQWIBDPIBWQ'\n",
    "teststring2 = 'QWERTZUIOPQWERIOPQOKASNDKOWJNFONAOSFBAOSBDNJAWOFJOWAJNROFDBWAOAJSFBASJBDOFJAWOAJDSBAOSJBDOJBWOQUBOBDWQJFWQNFCWQOWQBFGOJWQBFOWJBNDnbwqodbuNDBOWQbOBQOWJDBOQWBDOBQOWBDOQWBDOBWQODBWQOBDOQBWDOJNWQPDKMQWPNPDKNWQPDNPIWQNDPNWQPNDPWQBDBPQWIBDPIBWQQWRRTZUIOPQWERIOPQOKASNDKOWJNFONAOSFBAOSBDNJAWOFJOWAJNBOFDBWAOAJSFBASJBDOFJAWOAJDSBAOSJBDOJBWOQUBOBDWQJFWQNFCWQOWQBFGOJWQRFOWJBNDnbwqodbuNDBOWQbOBQOWJDBOQWBDOBQOWBDOQWBDOBWQODBWQOBDOQBWDOJNWQPDKMQRPNPDKNWQPDNPIWQNDPNWQPNDPWQBDBPQWIBDPIBWQQWERTZUIOPQWERIOPQOKASNDKOWJNFONAOSFBAOSBDNJAWOFJOWAJNBOFDBWAOAJSFBASJBDOFJAWOAJDSBAOSJBDOJBWOQUBOBDWQJFWQNFCWQOWQBFGOJWQBFOWJBNDnbwqodbuNDBOWQbOBQOWJDBOQWBDOBQOWBDOQWBDOBWQODBWQOBDOQBWDOJNWQPDKMQWPNPDKNWQPDNPIWQNDPNWQPNDPWQBDBPQWIBDPIBWQQWERTZUIOPQWERIOPQOKASNDKOWJNFONAOSFBAOSBDNJAWOFJOWAJNBOFDBWAOAJSFBASJBDOFJAWOAJDSBAOSJBDOJBWOQUBOBDWQJFWQNFCWQOWQBFGOJWQBFOWJBNDRbwqodbuNDBOWQbOBQOWJDBOQWBDOBQOWBDOQWBDOBWQODRWQOBDOQBWDOJNWQPDKRQWPNPDKNWQPDNPIWQNDRRRRRRDPWQBDBPQWIBDPIBWQ'\n",
    "for n in range(len(teststring1)):\n",
    "            if teststring1[n] != teststring2[n]:\n",
    "                testl.append(f'{teststring1[n]}{n+1}{teststring2[n]}')\n",
    "testl"
   ]
  },
  {
   "cell_type": "code",
   "execution_count": null,
   "metadata": {},
   "outputs": [],
   "source": [
    "from function_mut import functional_aa"
   ]
  },
  {
   "cell_type": "code",
   "execution_count": null,
   "metadata": {},
   "outputs": [
    {
     "name": "stdout",
     "output_type": "stream",
     "text": [
      "Pqr file already exists\n"
     ]
    }
   ],
   "source": [
    "ghj = functional_aa('./data/pdbs','AF-C0H3V2-F1.pdb','./data/pqrs')"
   ]
  },
  {
   "cell_type": "code",
   "execution_count": null,
   "metadata": {},
   "outputs": [
    {
     "data": {
      "text/plain": [
       "array([['C0H3V2', 'MET', '1', '18', 'Cluster 0'],\n",
       "       ['C0H3V2', 'GLN', '2', '20', 'Cluster 0'],\n",
       "       ['C0H3V2', 'GLN', '2', '22', 'Cluster 0'],\n",
       "       ['C0H3V2', 'GLN', '2', '25', 'Cluster 0'],\n",
       "       ['C0H3V2', 'GLN', '2', '27', 'Cluster 0'],\n",
       "       ['C0H3V2', 'GLN', '2', '29', 'Cluster 0'],\n",
       "       ['C0H3V2', 'VAL', '3', '46', 'Salt_bridge'],\n",
       "       ['C0H3V2', 'LEU', '4', '64', 'Cluster 0'],\n",
       "       ['C0H3V2', 'LEU', '4', '66', 'Cluster 0'],\n",
       "       ['C0H3V2', 'LEU', '4', '68', 'Cluster 0'],\n",
       "       ['C0H3V2', 'ALA', '5', '81', 'Cluster 0'],\n",
       "       ['C0H3V2', 'LYS', '6', '83', 'Cluster 0'],\n",
       "       ['C0H3V2', 'LYS', '6', '85', 'Cluster 0'],\n",
       "       ['C0H3V2', 'LYS', '6', '90', \"['Hbond_don', 'Hbond_don']\"],\n",
       "       ['C0H3V2', 'GLU', '7', '113', 'Cluster 0'],\n",
       "       ['C0H3V2', 'GLU', '7', '115', 'Cluster 0'],\n",
       "       ['C0H3V2', 'GLU', '7', '117', 'Cluster 0'],\n",
       "       ['C0H3V2', 'ILE', '9', '140', 'Salt_bridge'],\n",
       "       ['C0H3V2', 'LYS', '10', '164', 'Cluster 1'],\n",
       "       ['C0H3V2', 'LYS', '10', '166', 'Cluster 1'],\n",
       "       ['C0H3V2', 'LYS', '10', '168', 'Cluster 1'],\n",
       "       ['C0H3V2', 'LEU', '11', '181', 'Cluster 1'],\n",
       "       ['C0H3V2', 'LEU', '11', '183', 'Cluster 1'],\n",
       "       ['C0H3V2', 'LEU', '11', '185', 'Cluster 1'],\n",
       "       ['C0H3V2', 'GLN', '13', '214', 'Cluster 1'],\n",
       "       ['C0H3V2', 'GLN', '13', '216', 'Cluster 1'],\n",
       "       ['C0H3V2', 'GLN', '13', '218', 'Cluster 1'],\n",
       "       ['C0H3V2', 'GLN', '13', '222', 'Cluster 1'],\n",
       "       ['C0H3V2', 'THR', '14', '224', 'Cluster 1'],\n",
       "       ['C0H3V2', 'THR', '14', '226', 'Cluster 1'],\n",
       "       ['C0H3V2', 'SER', '16', '262', 'Cluster 1'],\n",
       "       ['C0H3V2', 'SER', '16', '264', 'Cluster 1'],\n",
       "       ['C0H3V2', 'SER', '17', '266', 'Cluster 1'],\n",
       "       ['C0H3V2', 'GLU', '19', '305', 'Cluster 2'],\n",
       "       ['C0H3V2', 'GLU', '19', '307', 'Cluster 2'],\n",
       "       ['C0H3V2', 'GLU', '19', '309', 'Cluster 2'],\n",
       "       ['C0H3V2', 'GLU', '20', '327', 'Salt_bridge'],\n",
       "       ['C0H3V2', 'LEU', '29', '453', 'Cluster 0'],\n",
       "       ['C0H3V2', 'LEU', '29', '455', 'Cluster 0'],\n",
       "       ['C0H3V2', 'LEU', '29', '457', 'Cluster 0'],\n",
       "       ['C0H3V2', 'ILE', '30', '466', 'Cluster 0'],\n",
       "       ['C0H3V2', 'ILE', '30', '468', 'Cluster 0'],\n",
       "       ['C0H3V2', 'ILE', '30', '470', 'Cluster 0'],\n",
       "       ['C0H3V2', 'TYR', '34', '533', 'Salt_bridge'],\n",
       "       ['C0H3V2', 'VAL', '35', '549', 'Cluster 1'],\n",
       "       ['C0H3V2', 'VAL', '35', '551', 'Cluster 1'],\n",
       "       ['C0H3V2', 'VAL', '35', '553', 'Cluster 1'],\n",
       "       ['C0H3V2', 'THR', '36', '556', 'Cluster 1'],\n",
       "       ['C0H3V2', 'THR', '36', '558', 'Cluster 1'],\n",
       "       ['C0H3V2', 'THR', '36', '560', 'Cluster 1'],\n",
       "       ['C0H3V2', 'ASP', '38', '584', 'Cluster 0'],\n",
       "       ['C0H3V2', 'ASP', '38', '586', 'Cluster 0'],\n",
       "       ['C0H3V2', 'ASP', '38', '588', 'Cluster 0'],\n",
       "       ['C0H3V2', 'TYR', '39', '598', 'Cluster 0'],\n",
       "       ['C0H3V2', 'TYR', '39', '600', 'Cluster 0'],\n",
       "       ['C0H3V2', 'TYR', '39', '602', 'Cluster 0'],\n",
       "       ['C0H3V2', 'TYR', '39', '606', 'Cluster 0'],\n",
       "       ['C0H3V2', 'TYR', '39', '608', 'Cluster 0'],\n",
       "       ['C0H3V2', 'TYR', '39', '610', 'Cluster 0'],\n",
       "       ['C0H3V2', 'ILE', '40', '623', 'Cluster 0'],\n",
       "       ['C0H3V2', 'ILE', '40', '625', 'Cluster 0'],\n",
       "       ['C0H3V2', 'ILE', '40', '627', 'Cluster 0'],\n",
       "       ['C0H3V2', 'LYS', '42', '651', 'Cluster 0'],\n",
       "       ['C0H3V2', 'LYS', '42', '653', 'Cluster 0'],\n",
       "       ['C0H3V2', 'LYS', '42', '654', 'Hbond_don'],\n",
       "       ['C0H3V2', 'LYS', '42', '655', 'Cluster 0'],\n",
       "       ['C0H3V2', 'GLU', '45', '712', 'Hbond_acc'],\n",
       "       ['C0H3V2', 'ARG', '46', '725', 'Cluster 0'],\n",
       "       ['C0H3V2', 'ARG', '46', '727', 'Cluster 0'],\n",
       "       ['C0H3V2', 'ARG', '46', '729', 'Cluster 0'],\n",
       "       ['C0H3V2', 'ARG', '46', '732', 'Cluster 0'],\n",
       "       ['C0H3V2', 'ARG', '46', '734', 'Cluster 0'],\n",
       "       ['C0H3V2', 'ARG', '46', '736', 'Cluster 0'],\n",
       "       ['C0H3V2', 'GLU', '47', '754', 'Cluster 0'],\n",
       "       ['C0H3V2', 'GLU', '47', '756', 'Cluster 0'],\n",
       "       ['C0H3V2', 'GLU', '47', '758', 'Cluster 0'],\n",
       "       ['C0H3V2', 'THR', '52', '815', 'Cluster 3'],\n",
       "       ['C0H3V2', 'THR', '52', '817', 'Cluster 3'],\n",
       "       ['C0H3V2', 'THR', '52', '819', 'Cluster 3'],\n",
       "       ['C0H3V2', 'PHE', '53', '831', 'Cluster 3'],\n",
       "       ['C0H3V2', 'PHE', '53', '833', 'Cluster 3'],\n",
       "       ['C0H3V2', 'PHE', '53', '835', 'Cluster 3'],\n",
       "       ['C0H3V2', 'PHE', '53', '839', 'Cluster 3'],\n",
       "       ['C0H3V2', 'PHE', '53', '841', 'Cluster 3'],\n",
       "       ['C0H3V2', 'PHE', '53', '843', 'Cluster 3'],\n",
       "       ['C0H3V2', 'GLY', '55', '861', 'Cluster 3'],\n",
       "       ['C0H3V2', 'GLY', '55', '863', 'Cluster 3'],\n",
       "       ['C0H3V2', 'GLY', '55', '865', 'Cluster 3'],\n",
       "       ['C0H3V2', 'ASN', '56', '874', 'Cluster 3'],\n",
       "       ['C0H3V2', 'ASN', '56', '876', 'Cluster 3'],\n",
       "       ['C0H3V2', 'ASN', '56', '878', 'Cluster 3'],\n",
       "       ['C0H3V2', 'PHE', '57', '882', 'Cluster 3'],\n",
       "       ['C0H3V2', 'PHE', '57', '884', 'Cluster 3'],\n",
       "       ['C0H3V2', 'PHE', '57', '886', 'Cluster 3'],\n",
       "       ['C0H3V2', 'ILE', '60', '937', 'Cluster 3'],\n",
       "       ['C0H3V2', 'ILE', '60', '939', 'Cluster 3'],\n",
       "       ['C0H3V2', 'ILE', '60', '941', 'Cluster 3'],\n",
       "       ['C0H3V2', 'PRO', '61', '962', 'Salt_bridge'],\n",
       "       ['C0H3V2', 'PRO', '61', '963', 'Salt_bridge'],\n",
       "       ['C0H3V2', 'HIS', '62', '965', 'Cluster 3'],\n",
       "       ['C0H3V2', 'HIS', '62', '967', 'Cluster 3'],\n",
       "       ['C0H3V2', 'HIS', '62', '969', 'Cluster 3'],\n",
       "       ['C0H3V2', 'HIS', '62', '973', 'Cluster 3'],\n",
       "       ['C0H3V2', 'HIS', '62', '975', 'Cluster 3'],\n",
       "       ['C0H3V2', 'HIS', '62', '977', 'Cluster 3'],\n",
       "       ['C0H3V2', 'ALA', '67', '1033', 'Cluster 4'],\n",
       "       ['C0H3V2', 'ALA', '67', '1035', 'Cluster 4'],\n",
       "       ['C0H3V2', 'ALA', '67', '1037', 'Cluster 4'],\n",
       "       ['C0H3V2', 'ALA', '67', '1041', 'Cluster 4'],\n",
       "       ['C0H3V2', 'LYS', '68', '1043', 'Cluster 4'],\n",
       "       ['C0H3V2', 'LYS', '68', '1045', 'Cluster 4'],\n",
       "       ['C0H3V2', 'LYS', '68', '1054', 'Cluster 4'],\n",
       "       ['C0H3V2', 'LYS', '68', '1056', 'Cluster 4'],\n",
       "       ['C0H3V2', 'LYS', '68', '1058', 'Cluster 4'],\n",
       "       ['C0H3V2', 'VAL', '71', '1090', 'Cluster 4'],\n",
       "       ['C0H3V2', 'VAL', '71', '1092', 'Cluster 4'],\n",
       "       ['C0H3V2', 'VAL', '71', '1094', 'Cluster 4'],\n",
       "       ['C0H3V2', 'ASN', '122', '1853', 'Hbond_acc'],\n",
       "       ['C0H3V2', 'ARG', '125', '1902', 'Hbond_don'],\n",
       "       ['C0H3V2', 'GLU', '133', '2032', 'Hbond_acc'],\n",
       "       ['C0H3V2', 'GLU', '133', '2033', 'Hbond_acc']], dtype='<U32')"
      ]
     },
     "execution_count": 61,
     "metadata": {},
     "output_type": "execute_result"
    }
   ],
   "source": [
    "ghj #column 2 ist aminosäurenzahl"
   ]
  },
  {
   "cell_type": "code",
   "execution_count": null,
   "metadata": {},
   "outputs": [
    {
     "data": {
      "text/plain": [
       "array([['C0H3V2', 'VAL', '3', '46', 'Salt_bridge'],\n",
       "       ['C0H3V2', 'ILE', '9', '140', 'Salt_bridge'],\n",
       "       ['C0H3V2', 'GLU', '20', '327', 'Salt_bridge'],\n",
       "       ['C0H3V2', 'TYR', '34', '533', 'Salt_bridge'],\n",
       "       ['C0H3V2', 'PRO', '61', '962', 'Salt_bridge'],\n",
       "       ['C0H3V2', 'PRO', '61', '963', 'Salt_bridge']], dtype='<U32')"
      ]
     },
     "execution_count": 72,
     "metadata": {},
     "output_type": "execute_result"
    }
   ],
   "source": [
    "ghj[ghj[:,4]=='Salt_bridge']"
   ]
  },
  {
   "cell_type": "code",
   "execution_count": 3,
   "metadata": {},
   "outputs": [
    {
     "name": "stderr",
     "output_type": "stream",
     "text": [
      "c:\\Users\\tobia\\OneDrive\\Documents\\Uni\\FS 4\\Bioinfo Projekt\\topic04_02\\SPARC.py:6: UserWarning: loadtxt: input contained no data: \"c:\\Users\\tobia\\OneDrive\\Documents\\Uni\\FS 4\\Bioinfo Projekt\\topic04_02\\data\\fastas\\placeholder.fas\"\n",
      "  data = np.loadtxt(faspath, dtype={'names': ('index', 'col1', 'col2', 'val1', 'val2', 'val3'),'formats': ('i4', 'S1', 'S1', 'f4', 'f4', 'f4')})\n"
     ]
    }
   ],
   "source": [
    "test123 = Protein('RQNPWLTFSQSPVTVDGKVEKLKQFVKVTETGSKKVVTVTGIVFSASIDRPYYSFTVNPSSNPTSDRVYGVDITFLHSDHLIRNQWSPHGNLVRIPMEKAGNNGDPLPNKSDQYLGNGMNSDKEILGGASGYSHPTLVTKKGGGSGGGSGGGGGGSLGGGGGGGSGGGLSGGGGGGGGSGGGGGGGRTPSFGGGLRQNPWLTFSQSPVTVDGKVEKLKQFVKVTETGSKKVVTVTGIVFSASIDRPYYSFTVNPSSNPTSDRVYGVDITFLHSDHLIRNQWSPHGNLVRIPMEKAGNNGDPLPNKSDQYLGNGMNSDKEILGGASGYSHPTLVTKKGGGSGGGSGGGGGGSLGGGGGGGSGGGLSGGGGGGGGSGGGGGGGRTPSFGGGLRQNPWLTFSQSPVTVDGKVEKLKQFVKVTETGSKKVVTVTGIVFSASIDRPYYSFTVNPSSNPTSDRVYGVDITFLHSDHLIRNQWSPHGNLVRIPMEKAGNNGDPLPNKSDQYLGNGMNSDKEILGGASGYSHPTLVTKKGGGSGGGSGGGGGGSLGGGGGGGSGGGLSGGGGGGGGSGGGGGGGRTPSFGGGLRQNPWLTFSQSPVTVDGKVEKLKQFVKVTETGSKKVVTVTGIVFSASIDRPYYSFTVNPSSNPTSDRVYGVDITFLHSDHLIRNQWSPHGNLVRIPMEKAGNNGDPLPNKSDQYLGNGMNSDKEILGGASGYSHPTLVTKKGGGSGGGSGGGGGGSLGGGGGGGSGGGLSGGGGGGGGSGGGGGGGRTPSFGGGLRQNPWLTFSQSPVTVDGKVEKLKQFVKVTETGSKKVVTVTGIVFSASIDRPYYSFTVNPSSNPTSDRVYGVDITFLHSDHLIRNQWSPHGNLVRIPMEKAGNNGDPLPNKSDQYLGNGMNSDKEILGGASGYSHPTLVTKKGGGSGGGSGGGGGGSLGGGGGGGSGGGLSGGGGGGGGSGGGGGGGRTPSFGGGLRQNPWLTFSQSPVTVDGKVEKLKQFVKVTETGSKKVVTVTGIVFSASIDRPYYSFTVNPSSNPTSDRVYGVDITFLHSDHLIRNQWSPHGNLVRIPMEKAGNNGDPLPNKSDQYLGNGMNSDKEILGGASGYSHPTLVTKKGGGSGGGSGGGGGGSLGGGGGGGSGGGLSGGGGGGGGSGGGGGGGRTPSFGGGLRQNPWLTFSQSPVTVDGKVEKLKQFVKVTETGSKKVVTVTGIVFSASIDRPYYSFTVNPSSNPTSDRVYGVDITFLHSDHLIRNQWSPHGNLVRIPMEKAGNNGDPLPNKSDQYLGNGMNSDKEILGGASGYSHPTLVTKKGGGSGGGSGGGGGGSLGGGGGGGSGGGLSGGGGGGGGSGGGGGGGRTPSFGGGLRQNPWLTFSQSPVTVDGKVEKLKQFVKVTETGSKKVVTVTGIVFSASIDRPYYSFTVNPSSNPTSDRVYGVDITFLHSDHLIRNQWSPHGNLVRIPMEKAGNNGDPLPNKSDQYLGNGMNSDKEILGGASGYSHPTLVTKKGGGSGGGSGGGGGGSLGGGGGGGSGGGLSGGGGGGGGSGGGGGGGRTPSFGGGLRQNPWLTFSQSPVTVDGKVEKLKQFVKVTETGSKKVVTVTGIVFSASIDRPYYSFTVNPSSNPTSDRVYGVDITFLHSDHLIRNQWSPHGNLVRIPMEKAGNNGDPLPNKSDQYLGNGMNSDKEILGGASGYSHPTLVTKKGGGSGGGSGGGGGGSLGGGGGGGSGGGLSGGGGGGGGSGGGGGGGRTPSFGGGLRQNPWLTFSQSPVTVDGKVEKLKQFVKVTETGSKKVVTVTGIVFSASIDRPYYSFTVNPSSNPTSDRVYGVDITFLHSDHLIRNQWSPHGNLVRIPMEKAGNNGDPLPNKSDQYLGNGMNSDKEILGGASGYSHPTLVTKKGGGSGGGSGGGGGGSLGGGGGGGSGGGLSGGGGGGGGSGGGGGGGRTPSFGGGL')"
   ]
  }
 ],
 "metadata": {
  "kernelspec": {
   "display_name": "Python 3",
   "language": "python",
   "name": "python3"
  },
  "language_info": {
   "codemirror_mode": {
    "name": "ipython",
    "version": 3
   },
   "file_extension": ".py",
   "mimetype": "text/x-python",
   "name": "python",
   "nbconvert_exporter": "python",
   "pygments_lexer": "ipython3",
   "version": "3.12.4"
  }
 },
 "nbformat": 4,
 "nbformat_minor": 2
}
