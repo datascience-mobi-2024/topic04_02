{
 "cells": [
  {
   "cell_type": "code",
   "execution_count": 137,
   "metadata": {},
   "outputs": [],
   "source": [
    "testseq = 'MNHDIIEKNIGLMIVLIIVAISWGGLVEIVPLFWDKNTNEPMEGLKPLNAVQLEGRDIYIREGCHVCHTQMIRPFRAETERYGTYSRAGEFVYEHPFLWGSKRTGPDLARVGERYSDEWHRAHLYNPRDVVPESIMPAYPWLFKDTVDGRVTPKKMTALRTVGVPYTDADIEGAKAAVDGVREIEALVAYLQQLGTIMKDKQ'\n",
    "tests2 = 'MNLNSIPAFDDNYIWVLNDEAGRCLIVDPGDAEPVLNAIAANNWQPEAIFLTHHHHDHVGGVKELVEKFPQIVVYGPQETQDKGTTQVVKDGETAFVLGHEFSVIATPGHTLGHICYFSKPYLFCGDTLFSGGCGRLFEGTASQMYQSLKKLSALPDDTLVCCAHEYTLSNMKFALSILPHDLSINDYYRKVKELRAKNQITLPVILKNERQINVFLRTEDIDLINVINEETLLQQPEERFAWLRSKKDRF'\n",
    "tseql = 'MNLNSIPAFDDNYIWVLNDEAGRCLIVDPGDAEPVLNAIAANNWQPEAIFLTHHHHDHVGGVKELVEKFPQIVVYGPQETQDKGTTQVVKDGETAFVLGHEFSVIATPGHTLGHICYFSKPYLFCGDTLFSGGCGRLFEGTASQMYQSLKKLSALPDDTLVCCAHEYTLSNMKFALSILPHDLSINDYYRKVKELRAKNQITLPVILKNERQINVFLRTEDIDLINVINEETLLQQPEERFAWLRSKKDRFMNLNSIPAFDDNYIWVLNDEAGRCLIVDPGDAEPVLNAIAANNWQPEAIFLTHHHHDHVGGVKELVEKFPQIVVYGPQETQDKGTTQVVKDGETAFVLGHEFSVIATPGHTLGHICYFSKPYLFCGDTLFSGGCGRLFEGTASQMYQSLKKLSALPDDTLVCCAHEYTLSNMKFALSILPHDLSINDYYRKVKELRAKNQITLPVILKNERQINVFLRTEDIDLINVINEETLLQQPEERFAWLRSKKDRFMNLNSIPAFDDNYIWVLNDEAGRCLIVDPGDAEPVLNAIAANNWQPEAIFLTHHHHDHVGGVKELVEKFPQIVVYGPQETQDKGTTQVVKDGETAFVLGHEFSVIATPGHTLGHICYFSKPYLFCGDTLFSGGCGRLFEGTASQMYQSLKKLSALPDDTLVCCAHEYTLSNMKFALSILPHDLSINDYYRKVKELRAKNQITLPVILKNERQINVFLRTEDIDLINVINEETLLQQPEERFAWLRSKKDRFMNLNSIPAFDDNYIWVLNDEAGRCLIVDPGDAEPVLNAIAANNWQPEAIFLTHHHHDHVGGVKELVEKFPQIVVYGPQETQDKGTTQVVKDGETAFVLGHEFSVIATPGHTLGHICYFSKPYLFCGDTLFSGGCGRLFEGTASQMYQSLKKLSALPDDTLVCCAHEYTLSNMKFALSILPHDLSINDYYRKVKELRAKNQITLPVILKNERQINVFLRTEDIDLINVINEETLLQQPEERFAWLRSKKDRFMNLNSIPAFDDNYIWVLNDEAGRCLIVDPGDAEPVLNAIAANNWQPEAIFLTHHHHDHVGGVKELVEKFPQIVVYGPQETQDKGTTQVVKDGETAFVLGHEFSVIATPGHTLGHICYFSKPYLFCGDTLFSGGCGRLFEGTASQMYQSLKKLSALPDDTLVCCAHEYTLSNMKFALSILPHDLSINDYYRKVKELRAKNQITLPVILKNERQINVFLRTEDIDLINVINEETLLQQPEERFAWLRSKKDRFMNLNSIPAFDDNYIWVLNDEAGRCLIVDPGDAEPVLNAIAANNWQPEAIFLTHHHHDHVGGVKELVEKFPQIVVYGPQETQDKGTTQVVKDGETAFVLGHEFSVIATPGHTLGHICYFSKPYLFCGDTLFSGGCGRLFEGTASQMYQSLKKLSALPDDTLVCCAHEYTLSNMKFALSILPHDLSINDYYRKVKELRAKNQITLPVILKNERQINVFLRTEDIDLINVINEETLLQQPEERFAWLRSKKDRF'"
   ]
  },
  {
   "cell_type": "code",
   "execution_count": 27,
   "metadata": {},
   "outputs": [],
   "source": [
    "helixvalues = {'E':1.59,'A':1.41,'L':1.34,'M':1.3,'Q':1.27,'K':1.23,'R':1.21,'H':1.05,'V':0.9,'I':1.09,'Y':0.74,'C':0.66,'W':1.02,'F':1.16,'T':0.76,'G':0.43,'N':0.76,'P':0.34,'S':0.57,'D':0.99}\n",
    "sheetvalues = {'E':0.52,'A':0.72,'L':1.22,'M':1.14,'Q':0.98,'K':0.69,'R':0.84,'H':0.8,'V':1.87,'I':1.67,'Y':1.45,'C':1.4,'W':1.35,'F':1.33,'T':1.17,'G':0.58,'N':0.48,'P':0.31,'S':0.96,'D':0.39}\n",
    "loopvalues = {'E':1.01,'A':0.82,'L':0.57,'M':0.52,'Q':0.84,'K':1.07,'R':0.9,'H':0.81,'V':0.41,'I':0.47,'Y':0.76,'C':0.54,'W':0.65,'F':0.59,'T':0.9,'G':1.77,'N':1.34,'P':1.32,'S':1.22,'D':1.24}"
   ]
  },
  {
   "cell_type": "code",
   "execution_count": 98,
   "metadata": {},
   "outputs": [],
   "source": [
    "def helixt(seq:str, size:float):\n",
    "    t = int(0)\n",
    "    helic=[]\n",
    "    while t < (len(seq) - size):\n",
    "        frame = [*seq[t:t + size]]\n",
    "        mn=sum(list(map(helixvalues.get,frame))) / size\n",
    "        if mn > 1.0:\n",
    "            helic.append(t)\n",
    "            t+=8\n",
    "        else:\n",
    "            t+=1\n",
    "    print(helic)"
   ]
  },
  {
   "cell_type": "code",
   "execution_count": 129,
   "metadata": {},
   "outputs": [],
   "source": [
    "def helixt2(seq:str, size:float):\n",
    "    t = int(0)\n",
    "    helic=[]\n",
    "    for t in range(size,len(seq)-size):\n",
    "        frame = [*seq[t - size:t + size+1]]\n",
    "        mn = sum(list(map(helixvalues.get,frame))) / (2*size+1)\n",
    "        if mn > 1.1:\n",
    "            helic.append(t)\n",
    "    print(helic)"
   ]
  },
  {
   "cell_type": "code",
   "execution_count": 121,
   "metadata": {},
   "outputs": [],
   "source": [
    "def sheett2(seq:str, size:float):\n",
    "    t = int(0)\n",
    "    beta=[]\n",
    "    for t in range(size,len(seq)-size):\n",
    "        frame = [*seq[t - size:t + size+1]]\n",
    "        mn = sum(list(map(sheetvalues.get,frame))) / (2*size+1)\n",
    "        if mn > 1.0:\n",
    "            beta.append(t)\n",
    "    print(beta)"
   ]
  },
  {
   "cell_type": "code",
   "execution_count": 122,
   "metadata": {},
   "outputs": [],
   "source": [
    "def loopt2(seq:str, size:float):\n",
    "    t = int(0)\n",
    "    lop=[]\n",
    "    for t in range(size,len(seq)-size):\n",
    "        frame = [*seq[t - size:t + size+1]]\n",
    "        mn = sum(list(map(loopvalues.get,frame))) / (2*size+1)\n",
    "        if mn > 1.0:\n",
    "            lop.append(t)\n",
    "    print(lop)"
   ]
  },
  {
   "cell_type": "code",
   "execution_count": 206,
   "metadata": {},
   "outputs": [],
   "source": [
    "def univt2(seq:str, size:float):\n",
    "    helic=[]\n",
    "    sheet=[]\n",
    "    turn=[]\n",
    "    for t in range(size,len(seq)-size):\n",
    "        frame = [*seq[t - size:t + size+1]]                         #define neighbors of t\n",
    "        mnh = sum(list(map(helixvalues.get,frame))) / (2*size+1)\n",
    "        mns = sum(list(map(sheetvalues.get,frame))) / (2*size+1)\n",
    "        mnt = sum(list(map(loopvalues.get,frame))) / (2*size+1)\n",
    "        if mnh > 1.1 and mnh > mns and mnh > mnt:\n",
    "            helic.append(t)\n",
    "        elif mns > 1 and mns > mnh and mns > mnt:\n",
    "            sheet.append(t)\n",
    "        elif mnt > 1 and mnt > mnh and mnt > mns:\n",
    "            turn.append(t)   \n",
    "    counth=0\n",
    "    counts=0\n",
    "    countt=0\n",
    "    listh=[]\n",
    "    lists=[]\n",
    "    listt=[]\n",
    "    \n",
    "    for p in range(1,len(helic)-2):\n",
    "        if helic[p+2]==helic[p]+2 and helic[p-1]!=helic[p]-1:\n",
    "                counth+=1\n",
    "                listh.append(helic[p])\n",
    "    if helic[2] == helic[0]+2:\n",
    "        counth+=1\n",
    "        listh.append(helic[0])\n",
    "    for n in range(1,len(sheet)-2):\n",
    "        if sheet[n+2]==sheet[n]+2 and sheet[n-1]!=sheet[n]-1:\n",
    "                counts+=1\n",
    "                lists.append(sheet[n])\n",
    "    if sheet[2] == sheet[0]+2:\n",
    "        counts+=1\n",
    "        lists.append(sheet[0])\n",
    "    for s in range(1,len(turn)-2):\n",
    "        if turn[s+2]==turn[s]+2 and turn[s-1]!=turn[s]-1:\n",
    "                countt+=1\n",
    "                listt.append(turn[s])\n",
    "    if turn[2] == turn[0]+2:\n",
    "        countt+=1\n",
    "        listt.append(listt[0])\n",
    "    \n",
    "    return [counth,counts,countt]\n",
    "    '''print(f'Helices:{counth}')\n",
    "    print(f'Sheets:{counts}')\n",
    "    print(f'Turns:{countt} (Nicht getestet)')'''\n",
    "        "
   ]
  },
  {
   "cell_type": "code",
   "execution_count": 104,
   "metadata": {},
   "outputs": [
    {
     "data": {
      "text/plain": [
       "['R', 'N', 'N', 'V', 'T', 'H', 'I']"
      ]
     },
     "execution_count": 104,
     "metadata": {},
     "output_type": "execute_result"
    }
   ],
   "source": [
    "tsq = 'RNNVTHILLERRQTCGPWWWGQNVCYW'\n",
    "len(tsq)\n",
    "tsq[1:11]\n",
    "sum(map(helixvalues.get,[*tsq[1:11]]))/10\n",
    "sz = 3\n",
    "[*tsq[3 - sz:3 + sz+1]]"
   ]
  },
  {
   "cell_type": "code",
   "execution_count": 63,
   "metadata": {},
   "outputs": [
    {
     "data": {
      "text/plain": [
       "True"
      ]
     },
     "execution_count": 63,
     "metadata": {},
     "output_type": "execute_result"
    }
   ],
   "source": [
    "'''tsq = 'RNNVTHILLERRQTCGPWWWGQNVCYW'\n",
    "print(len(tsq))\n",
    "x = 10\n",
    "frame = tsq[x:x+10] #11 weil exklusiv\n",
    "mn=sum(list(map(helixvalues.get,frame)))/10\n",
    "if mn > 1.0:\n",
    "    print(f\"Possible alpha helix after aa {n}\")\n",
    "    t += 8'''\n",
    "\n",
    "\n",
    "0<len(tsq)-10\n"
   ]
  },
  {
   "cell_type": "code",
   "execution_count": 130,
   "metadata": {},
   "outputs": [
    {
     "name": "stdout",
     "output_type": "stream",
     "text": [
      "[0, 8, 24, 33, 41, 49, 66, 74, 84, 105, 113, 140, 149, 165, 173, 181, 189]\n"
     ]
    }
   ],
   "source": [
    "helixt(testseq,10)\n"
   ]
  },
  {
   "cell_type": "code",
   "execution_count": 131,
   "metadata": {},
   "outputs": [
    {
     "name": "stdout",
     "output_type": "stream",
     "text": [
      "[17, 18, 20, 33, 37, 38, 39, 45, 46, 47, 48, 49, 63, 64, 65, 66, 68, 79, 80, 94, 95, 99, 136, 137, 148, 149, 150, 151, 152, 165, 172, 173, 174, 175, 176, 191, 192, 193, 194, 195, 196, 197, 198, 207, 208, 209, 210, 211, 217, 218, 219, 221, 228, 229, 230, 231, 232, 233, 234, 235, 236, 237, 238, 239, 240, 241, 242, 243, 245, 248]\n"
     ]
    }
   ],
   "source": [
    "helixt2(tests2,2)"
   ]
  },
  {
   "cell_type": "code",
   "execution_count": 125,
   "metadata": {},
   "outputs": [
    {
     "name": "stdout",
     "output_type": "stream",
     "text": [
      "[12, 13, 14, 15, 16, 23, 24, 25, 26, 36, 48, 49, 50, 51, 59, 60, 63, 66, 70, 71, 72, 73, 74, 75, 85, 86, 87, 88, 89, 94, 95, 96, 97, 101, 102, 103, 104, 105, 112, 113, 114, 115, 116, 117, 122, 123, 128, 129, 135, 143, 144, 145, 146, 147, 158, 159, 160, 161, 162, 166, 167, 168, 173, 175, 176, 177, 182, 186, 189, 190, 193, 200, 201, 202, 203, 204, 205, 206, 212, 213, 214, 215, 216, 217, 222, 223, 224, 225, 226, 227, 228, 232, 233, 241, 242, 243, 244]\n"
     ]
    }
   ],
   "source": [
    "sheett2(tests2,2)"
   ]
  },
  {
   "cell_type": "code",
   "execution_count": 139,
   "metadata": {},
   "outputs": [
    {
     "name": "stdout",
     "output_type": "stream",
     "text": [
      "[9, 17, 18, 21, 22, 32, 33, 37, 38, 39, 40, 41, 42, 45, 46, 47, 48, 51, 52, 54, 55, 56, 62, 64, 65, 66, 67, 68, 69, 78, 79, 80, 93, 94, 98, 99, 136, 137, 138, 139, 142, 143, 148, 149, 150, 151, 152, 163, 164, 165, 166, 170, 171, 172, 173, 174, 180, 191, 192, 193, 194, 195, 196, 197, 198, 199, 207, 208, 209, 210, 211, 217, 218, 219, 220, 221, 222, 227, 228, 229, 230, 231, 232, 233, 234, 235, 236, 237, 238, 239, 240, 241, 242, 243, 244, 245, 248]\n",
      "[12, 13, 14, 15, 16, 23, 24, 25, 26, 36, 49, 50, 59, 60, 63, 70, 71, 72, 73, 74, 75, 85, 86, 87, 88, 89, 95, 96, 97, 101, 102, 103, 104, 105, 112, 113, 114, 115, 116, 117, 122, 123, 128, 129, 135, 144, 145, 146, 147, 158, 159, 160, 161, 162, 167, 168, 175, 176, 177, 186, 189, 190, 200, 201, 202, 203, 204, 205, 206, 212, 213, 214, 215, 216, 223, 224, 225, 226]\n",
      "[5, 8, 10, 11, 19, 20, 27, 28, 29, 30, 31, 43, 44, 57, 58, 61, 76, 77, 81, 82, 83, 84, 90, 91, 92, 100, 106, 107, 108, 109, 110, 125, 126, 127, 130, 131, 132, 133, 134, 140, 141, 154, 155, 156, 157, 181, 185, 246, 247]\n"
     ]
    }
   ],
   "source": [
    "univt2(tests2,2)"
   ]
  },
  {
   "cell_type": "code",
   "execution_count": 201,
   "metadata": {},
   "outputs": [
    {
     "name": "stdout",
     "output_type": "stream",
     "text": [
      "[12, 13, 14, 15, 16, 23, 24, 25, 26, 36, 49, 50, 59, 60, 63, 70, 71, 72, 73, 74, 75, 85, 86, 87, 88, 89, 95, 96, 97, 101, 102, 103, 104, 105, 112, 113, 114, 115, 116, 117, 122, 123, 128, 129, 135, 144, 145, 146, 147, 158, 159, 160, 161, 162, 167, 168, 175, 176, 177, 186, 189, 190, 200, 201, 202, 203, 204, 205, 206, 212, 213, 214, 215, 216, 223, 224, 225, 226]\n",
      "9\n",
      "13\n",
      "7\n",
      "[37, 45, 64, 148, 172, 191, 207, 217, 228]\n",
      "[12, 23, 70, 85, 95, 101, 112, 144, 158, 175, 200, 212, 223]\n",
      "[27, 81, 90, 106, 125, 130, 154]\n"
     ]
    }
   ],
   "source": [
    "univt2(tests2,2)"
   ]
  },
  {
   "cell_type": "code",
   "execution_count": null,
   "metadata": {},
   "outputs": [],
   "source": [
    "#Fehler As 45, sheet statt helix\n",
    "#70,85 richtig (unerwartet)\n",
    "#missed As 122\n",
    "#missed As 129 (schwer)\n",
    "#missed 133 (schwer)\n",
    "#205 leicht daneben aber zählt\n",
    "#212,223 falsch\n",
    "#sheets insgesamt 13 predicted und 13 tatsächlich\n",
    "# #erfolg \n"
   ]
  },
  {
   "cell_type": "code",
   "execution_count": 193,
   "metadata": {},
   "outputs": [
    {
     "name": "stdout",
     "output_type": "stream",
     "text": [
      "[12, 13, 14, 15, 16, 23, 24, 25, 26, 36, 49, 50, 59, 60, 63, 70, 71, 72, 73, 74, 75, 85, 86, 87, 88, 89, 95, 96, 97, 101, 102, 103, 104, 105, 112, 113, 114, 115, 116, 117, 122, 123, 128, 129, 135, 144, 145, 146, 147, 158, 159, 160, 161, 162, 167, 168, 175, 176, 177, 186, 189, 190, 200, 201, 202, 203, 204, 205, 206, 212, 213, 214, 215, 216, 223, 224, 225, 226]\n",
      "13\n",
      "[12, 32, 47, 56, 67, 78, 98, 151, 165, 180, 196, 210, 220]\n"
     ]
    },
    {
     "data": {
      "text/plain": [
       "True"
      ]
     },
     "execution_count": 193,
     "metadata": {},
     "output_type": "execute_result"
    }
   ],
   "source": [
    "helt = [9, 17, 18, 21, 22, 32, 33, 37, 38, 39, 40, 41, 42, 45, 46, 47, 48, 51, 52, 54, 55, 56, 62, 64, 65, 66, 67, 68, 69, 78, 79, 80, 93, 94, 98, 99, 136, 137, 138, 139, 142, 143, 148, 149, 150, 151, 152, 163, 164, 165, 166, 170, 171, 172, 173, 174, 180, 191, 192, 193, 194, 195, 196, 197, 198, 199, 207, 208, 209, 210, 211, 217, 218, 219, 220, 221, 222, 227, 228, 229, 230, 231, 232, 233, 234, 235, 236, 237, 238, 239, 240, 241, 242, 243, 244, 245, 248]\n",
    "heltco=[]\n",
    "for m in range(1,len(helt)-1):\n",
    "        if helt[m-1] == helt[m]-1 and helt[m+1] == helt[m]+1:\n",
    "                heltco.append(helt[m])\n",
    "\n",
    "\n",
    "hilfe=[12, 13, 14, 15, 16, 23, 24, 25, 26, 36, 49, 50, 59, 60, 63, 70, 71, 72, 73, 74, 75, 85, 86, 87, 88, 89, 95, 96, 97, 101, 102, 103, 104, 105, 112, 113, 114, 115, 116, 117, 122, 123, 128, 129, 135, 144, 145, 146, 147, 158, 159, 160, 161, 162, 167, 168, 175, 176, 177, 186, 189, 190, 200, 201, 202, 203, 204, 205, 206, 212, 213, 214, 215, 216, 223, 224, 225, 226]\n",
    "prblm=[]\n",
    "countht=0\n",
    "print(hilfe)\n",
    "for r in range(1,len(hilfe)-2):\n",
    "        if hilfe[r+2]==hilfe[r]+2 and hilfe[r-1]!=hilfe[r]-1:\n",
    "                countht+=1\n",
    "                prblm.append(helt[r])\n",
    "if hilfe[2] == hilfe[0]+2:\n",
    "        countht+=1\n",
    "        prblm.append(hilfe[0])\n",
    "print(countht)\n",
    "print(sorted(prblm))\n",
    "hilfe[2]==hilfe[0]+2"
   ]
  },
  {
   "cell_type": "code",
   "execution_count": 215,
   "metadata": {},
   "outputs": [
    {
     "name": "stdout",
     "output_type": "stream",
     "text": [
      "3.125\n",
      "3.0023094688221708\n"
     ]
    }
   ],
   "source": [
    "seqtt = 'MGLFAGKGVLVTGGARGIGRAIAQAFAREGALVALCDLRPEGKEVAEAIGGAFFQVDLEDERERVRFVEEAAYALGRVDVLVNNAAIAAPGSALTVRLPEWRRVLEVNLTAPMHLSALAAREMRKVGGGAIVNVASVQGLFAEQENAAYNASKGGLVNLTRSLALDLAPLRIRVNAVAPGAIATEAVLEAIALSPDPERTRRDWEDLHALRRLGKPEEVAEAVLFLASEKASFITGAILPVDGGMTASFMMAGRPV'\n",
    "seqoa = 'MLKRIVYSVCGAAIVGLGLFSLFAWNPSIDPVIAPIDTEYSPQIIEHGKTLAAAGYCSTCHTPPGGAPYAGNYEMHTEFGTLYSSNITPDVKTGIGSWSEAAFNRAMRTGISRDGSHLLPAFPYEHFNKMTDDDITAIYAYIMTSVPAVEQIKKENGIPFPLNIRSLQAGWKLLFADTQTFEVNTNKTEEWNRGAYLAEGIAHCGACHTPRNALGGEKYAQMYQGAAIDGWIAPSLTSTSTSPIPWRKQHFYEYLTTGNSPLHGSAAGPMAPVMHKGLSALKDSDVHAISAYFGDFAGTNATDEPESNNILKAALAAQHEQPDQRINEGARLYATACQACHYSKDQLVKGRPLIAIGSATHLDAPTNLINVILDGLRSDQGISGVVMPGFRDALSDKDISAIAAFLRQTANQSPWPKLQQQVGEIRNQPRFEH'\n",
    "print((univt2(seqtt,2)[1]/len(seqtt))*100)\n",
    "print((univt2(seqoa,2)[1]/len(seqoa))*100)\n"
   ]
  }
 ],
 "metadata": {
  "kernelspec": {
   "display_name": "Python 3",
   "language": "python",
   "name": "python3"
  },
  "language_info": {
   "codemirror_mode": {
    "name": "ipython",
    "version": 3
   },
   "file_extension": ".py",
   "mimetype": "text/x-python",
   "name": "python",
   "nbconvert_exporter": "python",
   "pygments_lexer": "ipython3",
   "version": "3.11.4"
  }
 },
 "nbformat": 4,
 "nbformat_minor": 2
}
