{
 "cells": [
  {
   "cell_type": "code",
   "execution_count": null,
   "metadata": {},
   "outputs": [],
   "source": [
    "# import packages\n",
    "import numpy as np\n",
    "import pandas as pd\n",
    "import os\n",
    "import seaborn as sns\n",
    "import matplotlib.pyplot as plt\n",
    "import Bio\n",
    "import statsmodels.api as sm\n"
   ]
  },
  {
   "cell_type": "markdown",
   "metadata": {},
   "source": [
    "Import datasets and define variables"
   ]
  },
  {
   "cell_type": "code",
   "execution_count": null,
   "metadata": {},
   "outputs": [],
   "source": [
    "# import data from computer\n",
    "path: str = './data/' #folder where files are stored\n",
    "prokaryotes: pd.DataFrame = pd.read_csv(os.path.join(path, \"prokaryotes_unique_prot.csv\"), dtype=str)   # imports file from the folder as species, based on name\n",
    "prokaryotes_all: pd.DataFrame = pd.read_csv(os.path.join(path, \"prokaryotes_all.csv\"), dtype=str) # imports 3rd file from the folder, based on name"
   ]
  },
  {
   "cell_type": "markdown",
   "metadata": {},
   "source": [
    "Create a list of each unique protein for each organism"
   ]
  },
  {
   "cell_type": "code",
   "execution_count": null,
   "metadata": {},
   "outputs": [],
   "source": [
    "# prokaryotes\n",
    "prokaryotes = prokaryotes_all.drop_duplicates(subset=['run_name', 'Protein_ID'], keep='first') #create new dataframe with only unique proteins\n",
    "prokaryotes = prokaryotes.reset_index(drop=True) #reset index\n",
    "\n",
    "# define meltpoint as float64\n",
    "prokaryotes['meltPoint'] = prokaryotes['meltPoint'].astype('float64') # changes meltpoint column to float64\n",
    "prokaryotes['temperature'] = prokaryotes['temperature'].astype('float64')"
   ]
  },
  {
   "cell_type": "markdown",
   "metadata": {},
   "source": [
    "Calculate relative abundance of hydrophobic aminoacids for each protein and append to dataframe"
   ]
  },
  {
   "cell_type": "code",
   "execution_count": null,
   "metadata": {},
   "outputs": [],
   "source": [
    "from function import rel_aa_comp\n",
    "from Aminoacid_lists import AA_hydrophobic, AA_polar_neutral, AA_acidic, AA_basic, AA_list\n",
    "prokaryotes['hydrophobic'] = prokaryotes['Sequence'].apply(lambda x: rel_aa_comp(x, AA_hydrophobic)) # calculates relative amino acid composition of hydrophobic amino acids\n",
    "prokaryotes['polar_neutral'] = prokaryotes['Sequence'].apply(lambda x: rel_aa_comp(x, AA_polar_neutral)) # calculates relative amino acid composition of polar neutral amino acids\n",
    "prokaryotes['acidic'] = prokaryotes['Sequence'].apply(lambda x: rel_aa_comp(x, AA_acidic)) # calculates relative amino acid composition of acidic amino acids\n",
    "prokaryotes['basic'] = prokaryotes['Sequence'].apply(lambda x: rel_aa_comp(x, AA_basic)) # calculates relative amino acid composition of basic amino acids\n",
    "\n"
   ]
  },
  {
   "cell_type": "markdown",
   "metadata": {},
   "source": [
    "Group dataframes based on run name"
   ]
  },
  {
   "cell_type": "code",
   "execution_count": null,
   "metadata": {},
   "outputs": [],
   "source": [
    "prokaryotes_all_group = prokaryotes_all.groupby('run_name')\n",
    "prokaryotes_group = prokaryotes.groupby('run_name')"
   ]
  },
  {
   "cell_type": "markdown",
   "metadata": {},
   "source": [
    "\n",
    "\n",
    "\n",
    "Some plots to test data"
   ]
  },
  {
   "cell_type": "code",
   "execution_count": null,
   "metadata": {},
   "outputs": [],
   "source": [
    "prokaryotes['meltPoint'] = prokaryotes['meltPoint'].astype('float64') # changes meltpoint column to float64\n",
    "prokaryotes['temperature'] = prokaryotes['temperature'].astype('float64')\n",
    "prokaryotes['fold_change'] = prokaryotes['fold_change'].astype('float64')\n",
    "prokaryotes['Length'] = prokaryotes['Length'].astype('float64')\n",
    "prokaryotes['auc'] = prokaryotes['auc'].astype('float64')\n",
    "\n",
    "def rel_aa_comp_temp(Sequence:str, AA_property:str) -> list: \n",
    "    count = 0\n",
    "    for element in Sequence:  \n",
    "        if element in AA_property:\n",
    "            count += 1\n",
    "    return count/len(Sequence)\n",
    "\n",
    "for i in range(len(AA_list)):\n",
    "    prokaryotes[str(AA_list[i])] = prokaryotes['Sequence'].apply(lambda x: rel_aa_comp_temp(x, [str(AA_list[i])])) # calculates relative protein abundance\n",
    "\n",
    "prokaryotes_cor = prokaryotes.corr('pearson', numeric_only= True)\n",
    "sns.barplot(prokaryotes_cor, x= prokaryotes_cor.columns , y='auc')\n",
    "plt.xticks(rotation = 90)\n",
    "plt.show()"
   ]
  },
  {
   "cell_type": "code",
   "execution_count": null,
   "metadata": {},
   "outputs": [],
   "source": [
    "sns.scatterplot(data = prokaryotes, x = 'auc', y = 'hydrophobic', label = 'hydrophobic', s= 10, alpha = 0.6)\n",
    "sns.scatterplot(data=prokaryotes, x='auc', y='polar_neutral', label = 'polar neutral', s= 10, alpha = 0.6)\n",
    "sns.scatterplot(data= prokaryotes, x='auc', y='acidic', label = 'acidic', s= 10, alpha = 0.6)\n",
    "sns.scatterplot(data=prokaryotes, x='auc', y='basic', label = 'basic', s= 10, alpha = 0.6)\n",
    "plt.xticks(np.arange(0, 2, 0.2))\n",
    "plt.ylabel('relative abundance of aminoacid properties')\n",
    "plt.grid(True, which='both', linestyle='--', linewidth=0.5)\n",
    "plt.show()\n",
    "\n"
   ]
  },
  {
   "cell_type": "markdown",
   "metadata": {},
   "source": [
    "Calculate average hydrophic content for each organism and plot vs living temperature of organism"
   ]
  },
  {
   "cell_type": "code",
   "execution_count": null,
   "metadata": {},
   "outputs": [],
   "source": [
    "prokaryotes_average = prokaryotes_group.mean(['temperature', 'hydrophobic', 'acidic', 'polar_neutral', 'basic'])\n",
    "prokaryotes_average = prokaryotes_average.reset_index()\n",
    "\n",
    "#plot hydrophobic agaisnt temp\n",
    "sns.scatterplot(data = prokaryotes_average, x = 'temperature', y = 'hydrophobic', hue = 'run_name', s= 50, alpha = 0.9)\n",
    "plt.legend(loc= 'lower right', bbox_to_anchor=(1.8, -0.01))  \n",
    "plt.grid(True, which='both', linestyle='--', linewidth=0.5)\n",
    "plt.show()\n",
    "\n",
    "#Plot polar_neutral against temp\n",
    "sns.scatterplot(data = prokaryotes_average, x = 'temperature', y ='polar_neutral', hue = 'run_name', s= 50, alpha = 0.9)\n",
    "plt.legend(loc= 'lower right', bbox_to_anchor=(1.8, -0.01))  \n",
    "plt.grid(True, which='both', linestyle='--', linewidth=0.5)\n",
    "plt.show()\n",
    "\n",
    "#Plot acidic against temp\n",
    "sns.scatterplot(data = prokaryotes_average, x = 'temperature', y ='polar_neutral', hue = 'run_name', s= 80, alpha = 0.9)\n",
    "plt.legend(loc= 'lower right', bbox_to_anchor=(1.8, -0.01))  \n",
    "plt.grid(True, which='both', linestyle='--', linewidth=0.5)\n",
    "plt.show()\n",
    "\n",
    "#Plot basic against temp\n",
    "sns.scatterplot(data = prokaryotes_average, x = 'temperature', y ='polar_neutral', hue = 'run_name', s= 80, alpha = 0.9)\n",
    "plt.legend(loc= 'lower right', bbox_to_anchor=(1.8, -0.01))  \n",
    "plt.grid(True, which='both', linestyle='--', linewidth=0.5)\n",
    "plt.show()"
   ]
  },
  {
   "cell_type": "markdown",
   "metadata": {},
   "source": [
    "Test for lysine and aspartic acid as indicator for stable and unstable proteins, respectively"
   ]
  },
  {
   "cell_type": "code",
   "execution_count": null,
   "metadata": {},
   "outputs": [],
   "source": [
    "prokaryotes['Asp'] = prokaryotes['Sequence'].apply(lambda x: rel_aa_comp(x, ['D'])) # calculates relative Asp abundance\n",
    "prokaryotes['Lys'] = prokaryotes['Sequence'].apply(lambda x: rel_aa_comp(x, ['K'])) # calculates relative Glu abundance\n",
    "\n",
    "#plot individual proteins\n",
    "sns.scatterplot(data=prokaryotes, x='meltPoint', y='Asp', label = 'Asp', s= 10, alpha = 1)\n",
    "sns.scatterplot(data=prokaryotes, x='meltPoint', y='Lys', label = 'Lys', s= 10, alpha = 1)\n",
    "plt.xticks(np.arange(30, 100, 5))\n",
    "plt.ylabel('relative abundance of aminoacid properties')\n",
    "plt.grid(True, which='both', linestyle='--', linewidth=0.5)\n",
    "plt.show()\n",
    "\n",
    "#avg protein of each organism\n",
    "prokaryotes_average = prokaryotes_group.mean(['temperature', 'hydrophobic', 'acidic', 'polar_neutral', 'basic', 'Asp', 'Lys'])\n",
    "prokaryotes_average = prokaryotes_average.reset_index()\n",
    "\n",
    "\n",
    "#plot avg Asp contant of each organism agaisnt OGT\n",
    "sns.scatterplot(data = prokaryotes_average, x = 'temperature', y = 'Asp', hue = 'run_name', s= 50, alpha = 0.9)\n",
    "plt.legend(loc= 'lower right', bbox_to_anchor=(1.8, -0.01))  \n",
    "plt.grid(True, which='both', linestyle='--', linewidth=0.5)\n",
    "plt.show()\n",
    "\n",
    "#plot avg Lys contant of each organism agaisnt OGT\n",
    "sns.scatterplot(data = prokaryotes_average, x = 'temperature', y = 'Lys', hue = 'run_name', s= 50, alpha = 0.9)\n",
    "plt.legend(loc= 'lower right', bbox_to_anchor=(1.8, -0.01))  \n",
    "plt.grid(True, which='both', linestyle='--', linewidth=0.5)\n",
    "plt.show()\n"
   ]
  },
  {
   "cell_type": "markdown",
   "metadata": {},
   "source": [
    "Group and analyse high and low melter"
   ]
  },
  {
   "cell_type": "code",
   "execution_count": 21,
   "metadata": {},
   "outputs": [
    {
     "data": {
      "image/png": "[encoded data removed]",
      "text/plain": [
       "<Figure size 640x480 with 1 Axes>"
      ]
     },
     "metadata": {},
     "output_type": "display_data"
    }
   ],
   "source": [
    "#prokaryotes_high = prokaryotes.drop[prokaryotes['auc'] > 0.65, <0.35]\n",
    "#prokaryotes_low = prokaryotes[prokaryotes['auc'] < 0.35]\n",
    "prokaryotes_high = prokaryotes.drop(prokaryotes[(prokaryotes['auc'] > 0.65) | (prokaryotes['auc'] < 0.35)].index)\n",
    "\n",
    "\n",
    "#analyse correlation\n",
    "for i in range(len(AA_list)):\n",
    "    prokaryotes_high[str(AA_list[i])] = prokaryotes_high['Sequence'].apply(lambda x: rel_aa_comp_temp(x, [str(AA_list[i])])) # calculates relative protein abundance\n",
    "    #prokaryotes_low[str(AA_list[i])] = prokaryotes_low['Sequence'].apply(lambda x: rel_aa_comp_temp(x, [str(AA_list[i])])) # calculates relative protein abundance\n",
    "\n",
    "prokaryotes_high_cor = prokaryotes_high.corr('pearson', numeric_only= True)\n",
    "#prokaryotes_low_cor = prokaryotes_low.corr('pearson', numeric_only= True)\n",
    "sns.barplot(prokaryotes_high_cor, x= prokaryotes_high_cor.columns , y='auc')\n",
    "#sns.barplot(prokaryotes_low_cor, x= prokaryotes_low_cor.columns , y='auc')\n",
    "plt.xticks(rotation = 90)\n",
    "plt.show()"
   ]
  }
 ],
 "metadata": {
  "kernelspec": {
   "display_name": "Python 3",
   "language": "python",
   "name": "python3"
  },
  "language_info": {
   "codemirror_mode": {
    "name": "ipython",
    "version": 3
   },
   "file_extension": ".py",
   "mimetype": "text/x-python",
   "name": "python",
   "nbconvert_exporter": "python",
   "pygments_lexer": "ipython3",
   "version": "3.12.3"
  }
 },
 "nbformat": 4,
 "nbformat_minor": 2
}
