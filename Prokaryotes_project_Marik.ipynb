{
 "cells": [
  {
   "cell_type": "code",
   "execution_count": null,
   "metadata": {},
   "outputs": [],
   "source": [
    "# import packages\n",
    "import numpy as np\n",
    "import pandas as pd\n",
    "import os\n",
    "import seaborn as sns\n",
    "import matplotlib.pyplot as plt\n",
    "import Bio\n",
    "import statsmodels.api as sm\n"
   ]
  },
  {
   "cell_type": "markdown",
   "metadata": {},
   "source": [
    "Import datasets and define variables"
   ]
  },
  {
   "cell_type": "code",
   "execution_count": 13,
   "metadata": {},
   "outputs": [],
   "source": [
    "# import data from computer\n",
    "path: str = './data/' #folder where files are stored\n",
    "prokaryotes: pd.DataFrame = pd.read_csv(os.path.join(path, \"prokaryotes_unique_prot.csv\"), dtype=str)   # imports file from the folder as species, based on name\n",
    "prokaryotes_all: pd.DataFrame = pd.read_csv(os.path.join(path, \"prokaryotes_all.csv\"), dtype=str) # imports 3rd file from the folder, based on name"
   ]
  },
  {
   "cell_type": "code",
   "execution_count": 15,
   "metadata": {},
   "outputs": [],
   "source": [
    "prokaryotes_all['org_prot'] = prokaryotes_all['Organism'] + '_' + prokaryotes_all['Protein_ID'] # creates a new column with the organism and protein name\n",
    "\n",
    "prokaryotes_all_gr = prokaryotes_all.groupby('org_prot')"
   ]
  }
 ],
 "metadata": {
  "kernelspec": {
   "display_name": "Python 3",
   "language": "python",
   "name": "python3"
  },
  "language_info": {
   "codemirror_mode": {
    "name": "ipython",
    "version": 3
   },
   "file_extension": ".py",
   "mimetype": "text/x-python",
   "name": "python",
   "nbconvert_exporter": "python",
   "pygments_lexer": "ipython3",
   "version": "3.12.3"
  }
 },
 "nbformat": 4,
 "nbformat_minor": 2
}
