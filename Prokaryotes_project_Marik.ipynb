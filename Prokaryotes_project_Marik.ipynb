{
 "cells": [
  {
   "cell_type": "code",
   "execution_count": null,
   "metadata": {},
   "outputs": [],
   "source": [
    "# import packages\n",
    "import numpy as np\n",
    "import pandas as pd\n",
    "import os\n",
    "import seaborn as sns\n",
    "import matplotlib.pyplot as plt\n",
    "import Bio\n",
    "import statsmodels.api as sm\n"
   ]
  },
  {
   "cell_type": "markdown",
   "metadata": {},
   "source": [
    "Import datasets and define variables"
   ]
  },
  {
   "cell_type": "code",
   "execution_count": null,
   "metadata": {},
   "outputs": [],
   "source": [
    "# import data from computer\n",
    "path: str = './data/' #folder where files are stored\n",
    "species: pd.DataFrame = pd.read_csv(os.path.join(path, \"cross-species.csv\"), dtype=str)   # imports file from the folder as species, based on name\n",
    "identifiers: pd.DataFrame = pd.read_csv(os.path.join(path, \"identifiers.tsv\"), sep='\\t', dtype=str) # imports 3rd file from the folder, based on name\n",
    "\n",
    "#import fasta file with biopython (Bio)\n",
    "from Bio import SeqIO\n",
    "fasta_id = []\n",
    "fasta_seq = []\n",
    "with open(os.path.join(path, \"identifiers.fasta\"), 'r') as handle:\n",
    "    for record in SeqIO.parse(handle, \"fasta\"): \n",
    "        fasta_id.append(record.id) \n",
    "        fasta_seq.append(str(record.seq))\n",
    "# Create df prot_seq which includes proper ID and sequences\n",
    "fasta_id_df = pd.DataFrame([item.split('|') for item in fasta_id], columns=['0', 'From','ID']) # creates a df by splitting fasta_id list into 3 columns\n",
    "fasta_id_EntryName:list = fasta_id_df['ID'] # creates a list with the Entry Names from the split df\n",
    "prot_seq = pd.DataFrame(list(zip(fasta_id_EntryName, fasta_seq)), columns = [\"ID\", \"Sequence\"]) # creates a df by combining the Entry Names and the Sequences\n",
    "\n",
    "\n",
    "\n",
    "#Define datatype for each column\n",
    "species['fold_change'] = species['fold_change'].astype('float64') # changes fold_change column to float64\n",
    "species['temperature'] = species['temperature'].astype('float64') # changes temperature column to int64\n",
    "identifiers['Length'] = identifiers['Length'].astype('float64') # changes Length column to int64\n",
    "\n",
    "#Update index\n",
    "species = species.reset_index(drop=True) # resets index of species df\n",
    "identifiers = identifiers.reset_index(drop=True) # resets index of identifiers df\n",
    "\n",
    "\n"
   ]
  },
  {
   "cell_type": "markdown",
   "metadata": {},
   "source": [
    "Add protein sequence from protein_seq dataset to identifiers to create identifiers_seq, based on 'ID' and 'Entry Name' respectively\n",
    "\n",
    "Create joint data set from identifiers_seq and species_seq based on gene_name and Gene Names1 respectively"
   ]
  },
  {
   "cell_type": "code",
   "execution_count": null,
   "metadata": {},
   "outputs": [],
   "source": [
    "# merge dataframes based on Entry Name (df.identifiers) andID (df.prot_seq), if they are similar add the sequence to identifiers, if not add NaN\n",
    "identifiers_seq = identifiers.merge(prot_seq, how='left', left_on='Entry Name', right_on='ID')[identifiers.columns.tolist() + ['Sequence']] # merges identifiers and prot_seq on Entry Name and ID\n",
    "identifiers_seq.head()\n",
    "\n",
    "#merge species and identifiers_seq based on gene_name and Gene Names1\n",
    "identifiers_seq[['Gene Names1', 'Gene Names2']] = identifiers_seq['Gene Names'].str.split(expand = True, n=1) # splits the Gene Names column into 2 columns\n",
    "species_seq = pd.merge(left = species, right = identifiers_seq, how='outer', left_on='gene_name', right_on='Gene Names1') # merges species and identifiers_seq on gene_name and Gene Names1\n",
    "#species_seq.head()"
   ]
  },
  {
   "cell_type": "markdown",
   "metadata": {},
   "source": [
    "Drop all entries from species dataset which don't have a sequence.\n",
    "Delete unnessesary columns ('Gene Names1', 'Gene Names2')"
   ]
  },
  {
   "cell_type": "code",
   "execution_count": null,
   "metadata": {},
   "outputs": [],
   "source": [
    "species_seq.dropna(subset = ['Sequence'], inplace=True) # drops rows with NaN in the Sequence column\n",
    "\n",
    "for col in ['Gene Names1', 'Gene Names2']:\n",
    "    if col in species_seq.columns:\n",
    "        species_seq.drop(columns = ['Gene Names1', 'Gene Names2'], inplace=True) # drops Gene Names1 and Gene Names2 columns\n",
    "#species_seq.head()\n"
   ]
  },
  {
   "cell_type": "markdown",
   "metadata": {},
   "source": [
    "Extract list of unique run_names from species and manually seperate in prokaryotes and eukaryotes. Create split datasets for eukaryotes and prokaryotes based on species_seq"
   ]
  },
  {
   "cell_type": "code",
   "execution_count": null,
   "metadata": {},
   "outputs": [],
   "source": [
    "# Get a list of unique entries in the 'run_name' column\n",
    "#print(species['run_name'].unique())\n",
    "\n",
    "# Based on uniqe run names all entries split into eukaryotes and prokaryotes (manually)\n",
    "eukaryotes = ('Saccharomyces cerevisiae lysate', 'Arabidopsis thaliana seedling lysate',\n",
    " 'Mus musculus liver lysate', 'Drosophila melanogaster SII lysate',\n",
    " 'Caenorhabditis elegans lysate', 'Danio rerio Zenodo lysate',\n",
    " 'Mus musculus BMDC lysate', 'Oleispira antarctica_RB-8_lysate_R1',\n",
    " 'Homo sapiens Jurkat cells', 'Homo sapiens K562 cells')\n",
    "prokaryotes:list = ['Bacillus subtilis_168_lysate_R1', 'Escherichia coli lysate',\n",
    " 'Geobacillus stearothermophilus NCA26 lysate',\n",
    " 'Thermus thermophilus HB27 lysate', 'Thermus thermophilus HB27 cells',\n",
    " 'Escherichia coli cells', 'Picrophilus torridus DSM9790 lysate']\n",
    "\n",
    "#creates new dataframes that only contain prokaryotes or eukaryotes based\n",
    "species_eukaryotes = species_seq[species_seq['run_name'].isin(eukaryotes)]\n",
    "species_prokaryotes = species_seq[species_seq['run_name'].isin(prokaryotes)]\n",
    "\n",
    "print(species_prokaryotes.dtypes)\n",
    "\n",
    "\n",
    "##reset index\n",
    "species_prokaryotes = species_prokaryotes.reset_index(drop=True) # resets index of species df\n",
    "species_eukaryotes = species_eukaryotes.reset_index(drop=True) # resets index of identifiers df\n",
    "species_prokaryotes.head()\n",
    "\n",
    "\n"
   ]
  },
  {
   "cell_type": "markdown",
   "metadata": {},
   "source": [
    "Excract ecoli cells only to test some graphs."
   ]
  },
  {
   "cell_type": "code",
   "execution_count": null,
   "metadata": {},
   "outputs": [],
   "source": [
    "species_Ecoli_cells = species_prokaryotes[species_prokaryotes['run_name'].isin(['Escherichia coli cells'])]\n",
    "species_Ecoli_cells.head()\n",
    "\n",
    "#reassign floats to values bcs they change after extracting e.coli (why???)\n",
    "species_Ecoli_cells['fold_change'] = species_Ecoli_cells['fold_change'].astype('float64') # changes fold_change column to float64\n",
    "species_Ecoli_cells['temperature'] = species_Ecoli_cells['temperature'].astype('float64') # changes temperature column to int64\n",
    "species_Ecoli_cells['Length'] = species_Ecoli_cells['Length'].astype('float64') # changes Length column to int64\n",
    "\n",
    "species_Ecoli_cells_lacZ = species_Ecoli_cells[species_Ecoli_cells['gene_name'].isin(['lacZ'])]\n",
    "species_Ecoli_cells_rpmF=species_Ecoli_cells[species_Ecoli_cells['gene_name'].isin(['rpmF'])]\n",
    "sns.scatterplot(data=species_Ecoli_cells_lacZ, x='temperature', y='fold_change')\n",
    "plt.show()\n",
    "print(species_Ecoli_cells_lacZ.dtypes)\n"
   ]
  },
  {
   "cell_type": "markdown",
   "metadata": {},
   "source": [
    "Create a list of each unique protein for each organism"
   ]
  },
  {
   "cell_type": "code",
   "execution_count": null,
   "metadata": {},
   "outputs": [],
   "source": [
    "# prokaryotes\n",
    "prokaryotes_unique = species_prokaryotes.drop_duplicates(subset=['run_name', 'Protein_ID'], keep='first') #create new dataframe with only unique proteins\n",
    "prokaryotes_unique = prokaryotes_unique.reset_index(drop=True) #reset index\n",
    "\n",
    "# eukaryotes\n",
    "eukaryotes_unique = species_eukaryotes.drop_duplicates(subset=['run_name', 'Protein_ID'], keep='first') #create new dataframe with only unique proteins\n",
    "eukaryotes_unique = eukaryotes_unique.reset_index(drop=True) #reset index\n",
    "\n",
    "\n",
    "# define meltpoint as float64\n",
    "prokaryotes_unique['meltPoint'] = prokaryotes_unique['meltPoint'].astype('float64') # changes meltpoint column to float64\n",
    "eukaryotes_unique['meltPoint'] = eukaryotes_unique['meltPoint'].astype('float64') # changes meltpoint column to float64\n",
    "prokaryotes_unique['temperature'] = prokaryotes_unique['temperature'].astype('float64')"
   ]
  },
  {
   "cell_type": "markdown",
   "metadata": {},
   "source": [
    "Define amino acid properties"
   ]
  },
  {
   "cell_type": "code",
   "execution_count": null,
   "metadata": {},
   "outputs": [],
   "source": [
    "\n",
    "## aminoacid composition\n",
    "AA_hydrophobic:list = ['A', 'V', 'I', 'L', 'M', 'F', 'T', 'Y', 'W', ]\n",
    "AA_polar_neutral:list = ['N', 'C', 'Q', 'S', 'T']\n",
    "AA_acidic:list = ['D', 'E']\n",
    "AA_basic:list = ['R', 'H', 'K']\n"
   ]
  },
  {
   "cell_type": "markdown",
   "metadata": {},
   "source": [
    "Calculate relative abundance of hydrophobic aminoacids for each protein and append to dataframe"
   ]
  },
  {
   "cell_type": "code",
   "execution_count": null,
   "metadata": {},
   "outputs": [],
   "source": [
    "from function import rel_aa_comp \n",
    "prokaryotes_unique['hydrophobic'] = prokaryotes_unique['Sequence'].apply(lambda x: rel_aa_comp(x, AA_hydrophobic)) # calculates relative amino acid composition of hydrophobic amino acids\n",
    "prokaryotes_unique['polar_neutral'] = prokaryotes_unique['Sequence'].apply(lambda x: rel_aa_comp(x, AA_polar_neutral)) # calculates relative amino acid composition of polar neutral amino acids\n",
    "prokaryotes_unique['acidic'] = prokaryotes_unique['Sequence'].apply(lambda x: rel_aa_comp(x, AA_acidic)) # calculates relative amino acid composition of acidic amino acids\n",
    "prokaryotes_unique['basic'] = prokaryotes_unique['Sequence'].apply(lambda x: rel_aa_comp(x, AA_basic)) # calculates relative amino acid composition of basic amino acids\n",
    "\n"
   ]
  },
  {
   "cell_type": "code",
   "execution_count": null,
   "metadata": {},
   "outputs": [],
   "source": [
    "sns.scatterplot(data = prokaryotes_unique, x = 'meltPoint', y = 'hydrophobic', label = 'hydrophobic', s= 10, alpha = 0.6)\n",
    "sns.scatterplot(data=prokaryotes_unique, x='meltPoint', y='polar_neutral', label = 'polar neutral', s= 10, alpha = 0.6)\n",
    "sns.scatterplot(data= prokaryotes_unique, x='meltPoint', y='acidic', label = 'acidic', s= 10, alpha = 0.6)\n",
    "sns.scatterplot(data=prokaryotes_unique, x='meltPoint', y='basic', label = 'basic', s= 10, alpha = 0.6)\n",
    "plt.xticks(np.arange(30, 100, 5))\n",
    "plt.ylabel('relative abundance of aminoacid properties')\n",
    "plt.grid(True, which='both', linestyle='--', linewidth=0.5)\n",
    "plt.show()\n",
    "\n"
   ]
  },
  {
   "cell_type": "code",
   "execution_count": null,
   "metadata": {},
   "outputs": [],
   "source": [
    "sns.scatterplot(data = prokaryotes = unique)\n"
   ]
  },
  {
   "cell_type": "code",
   "execution_count": null,
   "metadata": {},
   "outputs": [],
   "source": [
    "\n",
    "# Align the indices of endog and exog variables\n",
    "prokaryotes_unique_na = prokaryotes_unique.dropna(subset=['hydrophobic', 'meltPoint'])  # Drop rows with missing values\n",
    "prokaryotes_unique = prokaryotes_unique.reset_index(drop=True)  # Reset the index\n",
    "\n",
    "# Add a constant to the independent value\n",
    "X = sm.add_constant(prokaryotes_unique_na['meltPoint'])\n",
    "\n",
    "# Fit the model\n",
    "model = sm.OLS(prokaryotes_unique_na['hydrophobic'], X)\n",
    "results = model.fit()\n",
    "\n",
    "# Print out the statistics\n",
    "print(results.summary())"
   ]
  },
  {
   "cell_type": "markdown",
   "metadata": {},
   "source": [
    "Calculate average hydrophic content for each organism and plot vs living temperature of organism"
   ]
  },
  {
   "cell_type": "code",
   "execution_count": null,
   "metadata": {},
   "outputs": [],
   "source": [
    "prokaryotes_unique_group = prokaryotes_unique.groupby('run_name')\n",
    "prokaryotes_average = prokaryotes_unique_group.mean(['temperature', 'hydrophobic', 'acidic', 'polar_neutral', 'basic'])\n",
    "prokaryotes_averages = prokaryotes_average.reset_index()\n",
    "\n",
    "#plot hydrophobic agaisnt temp\n",
    "sns.scatterplot(data = prokaryotes_averages, x = 'temperature', y = 'hydrophobic', hue = 'run_name', s= 50, alpha = 0.9)\n",
    "plt.legend(loc= 'lower right', bbox_to_anchor=(1.8, -0.01))  \n",
    "plt.grid(True, which='both', linestyle='--', linewidth=0.5)\n",
    "plt.show()\n",
    "\n",
    "#Plot polar_neutral against temp\n",
    "sns.scatterplot(data = prokaryotes_averages, x = 'temperature', y ='polar_neutral', hue = 'run_name', s= 50, alpha = 0.9)\n",
    "plt.legend(loc= 'lower right', bbox_to_anchor=(1.8, -0.01))  \n",
    "plt.grid(True, which='both', linestyle='--', linewidth=0.5)\n",
    "plt.show()\n",
    "\n",
    "#Plot acidic against temp\n",
    "sns.scatterplot(data = prokaryotes_averages, x = 'temperature', y ='polar_neutral', hue = 'run_name', s= 80, alpha = 0.9)\n",
    "plt.legend(loc= 'lower right', bbox_to_anchor=(1.8, -0.01))  \n",
    "plt.grid(True, which='both', linestyle='--', linewidth=0.5)\n",
    "plt.show()\n",
    "\n",
    "#Plot basic against temp\n",
    "sns.scatterplot(data = prokaryotes_averages, x = 'temperature', y ='polar_neutral', hue = 'run_name', s= 80, alpha = 0.9)\n",
    "plt.legend(loc= 'lower right', bbox_to_anchor=(1.8, -0.01))  \n",
    "plt.grid(True, which='both', linestyle='--', linewidth=0.5)\n",
    "plt.show()"
   ]
  }
 ],
 "metadata": {
  "kernelspec": {
   "display_name": "Python 3",
   "language": "python",
   "name": "python3"
  },
  "language_info": {
   "codemirror_mode": {
    "name": "ipython",
    "version": 3
   },
   "file_extension": ".py",
   "mimetype": "text/x-python",
   "name": "python",
   "nbconvert_exporter": "python",
   "pygments_lexer": "ipython3",
   "version": "3.12.3"
  }
 },
 "nbformat": 4,
 "nbformat_minor": 2
}
