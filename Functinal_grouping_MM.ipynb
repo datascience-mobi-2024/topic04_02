{
 "cells": [
  {
   "cell_type": "code",
   "execution_count": 18,
   "metadata": {},
   "outputs": [],
   "source": [
    "# import packages\n",
    "import numpy as np\n",
    "import pandas as pd\n",
    "import os\n",
    "import seaborn as sns\n",
    "import matplotlib.pyplot as plt\n",
    "import Bio\n",
    "from Bio.PDB import PDBParser\n",
    "from Bio.PDB.DSSP import DSSP\n",
    "import statsmodels.api as sm\n",
    "from scipy.optimize import curve_fit\n",
    "import pylab\n",
    "from sklearn.cluster import AffinityPropagation\n",
    "from Levenshtein import distance\n",
    "\n"
   ]
  },
  {
   "cell_type": "code",
   "execution_count": 19,
   "metadata": {},
   "outputs": [],
   "source": [
    "# import data from computer\n",
    "path: str = './data/' #folder where files are stored\n",
    "prokaryotes: pd.DataFrame = pd.read_csv(os.path.join(path, \"prokaryotes_unique_prot.csv\"), dtype=str)   # imports file from the folder as species, based on name\n",
    "prokaryotes_all: pd.DataFrame = pd.read_csv(os.path.join(path, \"prokaryotes_all.csv\"), dtype=str) # imports 3rd file from the folder, based on name\n",
    "\n",
    "prokaryotes_all['temperature'] = prokaryotes_all['temperature'].astype('float64')\n",
    "prokaryotes_all['fold_change'] = prokaryotes_all['fold_change'].astype('float64')\n",
    "prokaryotes_all['Gene Ontology IDs'] = prokaryotes_all['Gene Ontology IDs'].astype('str')"
   ]
  },
  {
   "cell_type": "code",
   "execution_count": null,
   "metadata": {},
   "outputs": [],
   "source": [
    "GO_terms = []\n",
    "current_term = \"\"\n",
    "\n",
    "with open(os.path.join(path, \"GO_annotation_list.obo\"), 'r') as f:\n",
    "    for line in f:\n",
    "      line = line.strip()  \n",
    "      if line.startswith('[Term]'):\n",
    "        if current_term:\n",
    "          GO_terms.append(current_term.strip())  \n",
    "        current_term = \"\"\n",
    "      else:\n",
    "        current_term += line + \"\\n\"  \n",
    "    if current_term:\n",
    "      GO_terms.append(current_term.strip())\n",
    "\n",
    "GO_terms = np.asarray(GO_terms)   "
   ]
  },
  {
   "cell_type": "code",
   "execution_count": 20,
   "metadata": {},
   "outputs": [],
   "source": [
    "def parse_obo(file_path):\n",
    "    terms = {}\n",
    "    current_term = {}\n",
    "    isterm = False\n",
    "    with open(file_path, 'r') as f:\n",
    "        for line in f:\n",
    "            line = line.strip()\n",
    "            isterm = isterm or line.startswith('id:')\n",
    "            if isterm and \": \" in line:\n",
    "                key, value = line.split(': ', 1)\n",
    "                if key == \"id\":\n",
    "                    current_term = terms.setdefault(value, {})\n",
    "                    current_term[\"id\"] = value\n",
    "                else:\n",
    "                    current_term.setdefault(key, []).append(value)\n",
    "    return terms\n",
    "\n",
    "def make_hierarchy(terms):\n",
    "    for term in list(terms.values()):\n",
    "        term.setdefault(\"children\", [])\n",
    "        if \"is_a\" in term:\n",
    "            for is_a in term[\"is_a\"]:\n",
    "                parent = is_a.split()[0]\n",
    "                terms.setdefault(parent, { 'id': parent }).setdefault(\"children\", []).append(term)\n",
    "    return [term for term in terms.values() if \"is_a\" not in term]\n",
    "    \n",
    "def display_hierarchy(terms, indent=\"\"):\n",
    "    for term in terms:\n",
    "        print(f\"{indent}{term['id']}\")\n",
    "        display_hierarchy(term['children'], indent + \"  \")\n",
    "                       "
   ]
  },
  {
   "cell_type": "code",
   "execution_count": 21,
   "metadata": {},
   "outputs": [
    {
     "ename": "TypeError",
     "evalue": "'dict' object is not callable",
     "output_type": "error",
     "traceback": [
      "\u001b[1;31m---------------------------------------------------------------------------\u001b[0m",
      "\u001b[1;31mTypeError\u001b[0m                                 Traceback (most recent call last)",
      "Cell \u001b[1;32mIn[21], line 1\u001b[0m\n\u001b[1;32m----> 1\u001b[0m hierarchy \u001b[38;5;241m=\u001b[39m \u001b[43mmake_hierarchy\u001b[49m\u001b[43m(\u001b[49m\u001b[43mparse_obo\u001b[49m\u001b[43m(\u001b[49m\u001b[43mos\u001b[49m\u001b[38;5;241;43m.\u001b[39;49m\u001b[43mpath\u001b[49m\u001b[38;5;241;43m.\u001b[39;49m\u001b[43mjoin\u001b[49m\u001b[43m(\u001b[49m\u001b[43mpath\u001b[49m\u001b[43m,\u001b[49m\u001b[43m \u001b[49m\u001b[38;5;124;43m\"\u001b[39;49m\u001b[38;5;124;43mGO_annotation_list.obo\u001b[39;49m\u001b[38;5;124;43m\"\u001b[39;49m\u001b[43m)\u001b[49m\u001b[43m)\u001b[49m\u001b[43m)\u001b[49m\n",
      "Cell \u001b[1;32mIn[20], line 19\u001b[0m, in \u001b[0;36mmake_hierarchy\u001b[1;34m(terms)\u001b[0m\n\u001b[0;32m     18\u001b[0m \u001b[38;5;28;01mdef\u001b[39;00m \u001b[38;5;21mmake_hierarchy\u001b[39m(terms):\n\u001b[1;32m---> 19\u001b[0m     \u001b[38;5;28;01mfor\u001b[39;00m term \u001b[38;5;129;01min\u001b[39;00m \u001b[38;5;28;43mlist\u001b[39;49m\u001b[43m(\u001b[49m\u001b[43mterms\u001b[49m\u001b[38;5;241;43m.\u001b[39;49m\u001b[43mvalues\u001b[49m\u001b[43m(\u001b[49m\u001b[43m)\u001b[49m\u001b[43m)\u001b[49m:\n\u001b[0;32m     20\u001b[0m         term\u001b[38;5;241m.\u001b[39msetdefault(\u001b[38;5;124m\"\u001b[39m\u001b[38;5;124mchildren\u001b[39m\u001b[38;5;124m\"\u001b[39m, [])\n\u001b[0;32m     21\u001b[0m         \u001b[38;5;28;01mif\u001b[39;00m \u001b[38;5;124m\"\u001b[39m\u001b[38;5;124mis_a\u001b[39m\u001b[38;5;124m\"\u001b[39m \u001b[38;5;129;01min\u001b[39;00m term:\n",
      "\u001b[1;31mTypeError\u001b[0m: 'dict' object is not callable"
     ]
    }
   ],
   "source": [
    "hierarchy = make_hierarchy(parse_obo(os.path.join(path, \"GO_annotation_list.obo\")))"
   ]
  },
  {
   "cell_type": "code",
   "execution_count": null,
   "metadata": {},
   "outputs": [],
   "source": []
  }
 ],
 "metadata": {
  "kernelspec": {
   "display_name": "Python 3",
   "language": "python",
   "name": "python3"
  },
  "language_info": {
   "codemirror_mode": {
    "name": "ipython",
    "version": 3
   },
   "file_extension": ".py",
   "mimetype": "text/x-python",
   "name": "python",
   "nbconvert_exporter": "python",
   "pygments_lexer": "ipython3",
   "version": "3.12.3"
  }
 },
 "nbformat": 4,
 "nbformat_minor": 2
}
